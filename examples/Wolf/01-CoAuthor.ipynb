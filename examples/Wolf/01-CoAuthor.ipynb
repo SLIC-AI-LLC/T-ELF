{
 "cells": [
  {
   "cell_type": "code",
   "execution_count": 1,
   "metadata": {},
   "outputs": [
    {
     "data": {
      "text/plain": [
       "'0.0.40'"
      ]
     },
     "execution_count": 1,
     "metadata": {},
     "output_type": "execute_result"
    }
   ],
   "source": [
    "import TELF\n",
    "TELF.__version__"
   ]
  },
  {
   "cell_type": "markdown",
   "metadata": {},
   "source": [
    "# Load Data"
   ]
  },
  {
   "cell_type": "code",
   "execution_count": 2,
   "metadata": {},
   "outputs": [
    {
     "name": "stdout",
     "output_type": "stream",
     "text": [
      "<class 'pandas.core.frame.DataFrame'>\n",
      "RangeIndex: 235 entries, 0 to 234\n",
      "Data columns (total 19 columns):\n",
      " #   Column            Non-Null Count  Dtype  \n",
      "---  ------            --------------  -----  \n",
      " 0   eid               235 non-null    object \n",
      " 1   s2id              230 non-null    object \n",
      " 2   doi               235 non-null    object \n",
      " 3   title             235 non-null    object \n",
      " 4   abstract          232 non-null    object \n",
      " 5   year              235 non-null    int64  \n",
      " 6   authors           235 non-null    object \n",
      " 7   author_ids        235 non-null    object \n",
      " 8   affiliations      235 non-null    object \n",
      " 9   funding           109 non-null    object \n",
      " 10  PACs              95 non-null     object \n",
      " 11  publication_name  235 non-null    object \n",
      " 12  subject_areas     235 non-null    object \n",
      " 13  s2_authors        230 non-null    object \n",
      " 14  s2_author_ids     230 non-null    object \n",
      " 15  citations         201 non-null    object \n",
      " 16  references        191 non-null    object \n",
      " 17  num_citations     235 non-null    int64  \n",
      " 18  num_references    230 non-null    float64\n",
      "dtypes: float64(1), int64(2), object(16)\n",
      "memory usage: 35.0+ KB\n"
     ]
    }
   ],
   "source": [
    "import pandas as pd\n",
    "import os \n",
    "\n",
    "df = pd.read_csv(os.path.join(\"..\", \"..\", \"data\", \"sample2.csv\"))\n",
    "df.info()"
   ]
  },
  {
   "cell_type": "code",
   "execution_count": 3,
   "metadata": {},
   "outputs": [
    {
     "data": {
      "text/html": [
       "<div>\n",
       "<style scoped>\n",
       "    .dataframe tbody tr th:only-of-type {\n",
       "        vertical-align: middle;\n",
       "    }\n",
       "\n",
       "    .dataframe tbody tr th {\n",
       "        vertical-align: top;\n",
       "    }\n",
       "\n",
       "    .dataframe thead th {\n",
       "        text-align: right;\n",
       "    }\n",
       "</style>\n",
       "<table border=\"1\" class=\"dataframe\">\n",
       "  <thead>\n",
       "    <tr style=\"text-align: right;\">\n",
       "      <th></th>\n",
       "      <th>eid</th>\n",
       "      <th>s2id</th>\n",
       "      <th>doi</th>\n",
       "      <th>title</th>\n",
       "      <th>abstract</th>\n",
       "      <th>year</th>\n",
       "      <th>authors</th>\n",
       "      <th>author_ids</th>\n",
       "      <th>affiliations</th>\n",
       "      <th>funding</th>\n",
       "      <th>PACs</th>\n",
       "      <th>publication_name</th>\n",
       "      <th>subject_areas</th>\n",
       "      <th>s2_authors</th>\n",
       "      <th>s2_author_ids</th>\n",
       "      <th>citations</th>\n",
       "      <th>references</th>\n",
       "      <th>num_citations</th>\n",
       "      <th>num_references</th>\n",
       "    </tr>\n",
       "  </thead>\n",
       "  <tbody>\n",
       "    <tr>\n",
       "      <th>0</th>\n",
       "      <td>7fac733d-83ec-4b15-a48d-16a893a2373a</td>\n",
       "      <td>e8fe62ac-a542-48b7-8c58-c3efe267f350</td>\n",
       "      <td>f3296a30-fa15-44c9-ac65-f488cc90e180</td>\n",
       "      <td>How Transformers are Revolutionizing NLP AutoM...</td>\n",
       "      <td>Zero-day vulnerabilities pose a significant th...</td>\n",
       "      <td>1999</td>\n",
       "      <td>Rasmussen K.</td>\n",
       "      <td>0506d5ab-b679-415f-a3ce-40c762a73251</td>\n",
       "      <td>{'d1361bd1-ee0f-4550-99f9-4b6939fccfcd': {'cou...</td>\n",
       "      <td>NaN</td>\n",
       "      <td>NaN</td>\n",
       "      <td>Computational Intelligence Journal;AI and Cybe...</td>\n",
       "      <td>Contrastive Learning;Reinforcement Learning St...</td>\n",
       "      <td>Rasmussen K.</td>\n",
       "      <td>3f87f3bc-7ca6-46cd-8ace-b3e0f4b575e9;4d59402b-...</td>\n",
       "      <td>adb9dcdf-b2fa-4aa4-a2d5-32c0dccef207;310eebf1-...</td>\n",
       "      <td>ecac4579-3d55-4b65-b932-58069535601a;51a23b45-...</td>\n",
       "      <td>12</td>\n",
       "      <td>10.0</td>\n",
       "    </tr>\n",
       "    <tr>\n",
       "      <th>1</th>\n",
       "      <td>b0be8bea-217a-421a-9b6e-fff66f54b2cf</td>\n",
       "      <td>76381138-f4c0-435b-9fdb-68cf877730d0</td>\n",
       "      <td>99a47ebc-443f-4d49-aa49-8f292887b139</td>\n",
       "      <td>How Transformers are Revolutionizing NLP Machi...</td>\n",
       "      <td>Cybersecurity frameworks like NIST provide gui...</td>\n",
       "      <td>1998</td>\n",
       "      <td>Rasmussen K.</td>\n",
       "      <td>0506d5ab-b679-415f-a3ce-40c762a73251</td>\n",
       "      <td>{'f05e4224-11eb-4c77-b9be-917a55eeb9b1': {'cou...</td>\n",
       "      <td>NaN</td>\n",
       "      <td>NaN</td>\n",
       "      <td>Emerging Trends in Machine Intelligence</td>\n",
       "      <td>Explainable AI (XAI);Dimensionality Reduction ...</td>\n",
       "      <td>Rasmussen K.</td>\n",
       "      <td>4d59402b-68cc-413b-bddd-c93c98e961f0;3f87f3bc-...</td>\n",
       "      <td>30f180af-e1ca-44cd-b011-21137faf7901;17127d48-...</td>\n",
       "      <td>86643ebe-4356-4425-a3f6-c6723f7b9f04;c3d10947-...</td>\n",
       "      <td>35</td>\n",
       "      <td>11.0</td>\n",
       "    </tr>\n",
       "    <tr>\n",
       "      <th>2</th>\n",
       "      <td>d891110d-415f-4a46-af6c-c92b1cc8b588</td>\n",
       "      <td>bef060b0-5efb-4fcb-b070-4cc7c6899966</td>\n",
       "      <td>d220cb1e-8f08-4de9-af2e-d914814a5e19</td>\n",
       "      <td>Self-Supervised Learning: The Next Big Thing i...</td>\n",
       "      <td>The bias-variance tradeoff determines the mode...</td>\n",
       "      <td>1998</td>\n",
       "      <td>Rasmussen K.</td>\n",
       "      <td>0506d5ab-b679-415f-a3ce-40c762a73251</td>\n",
       "      <td>{'f05e4224-11eb-4c77-b9be-917a55eeb9b1': {'cou...</td>\n",
       "      <td>NaN</td>\n",
       "      <td>NaN</td>\n",
       "      <td>Advanced Machine Learning Review</td>\n",
       "      <td>Multi-Modal Learning;Hyperparameter Optimizati...</td>\n",
       "      <td>Rasmussen K.</td>\n",
       "      <td>3f87f3bc-7ca6-46cd-8ace-b3e0f4b575e9;4d59402b-...</td>\n",
       "      <td>4ba86d1a-28e9-4b8f-bb7d-58e0c8c57990;c29608e9-...</td>\n",
       "      <td>ad371947-f480-41cf-8e2b-256548e91e6b;969e1276-...</td>\n",
       "      <td>27</td>\n",
       "      <td>10.0</td>\n",
       "    </tr>\n",
       "    <tr>\n",
       "      <th>3</th>\n",
       "      <td>0121772d-5b67-4bf2-add1-38aa73403128</td>\n",
       "      <td>452b7eb2-42f9-4afc-8669-a8b09e343127</td>\n",
       "      <td>e58bf863-7402-4fcb-9cac-58e3d8780872</td>\n",
       "      <td>Deep Reinforcement Learning for Robotics</td>\n",
       "      <td>We propose an efficient, distributed, out-of-m...</td>\n",
       "      <td>2002</td>\n",
       "      <td>Rasmussen K.</td>\n",
       "      <td>0506d5ab-b679-415f-a3ce-40c762a73251</td>\n",
       "      <td>{'c55a97d8-cf05-4014-b4d6-01730a79c2b4': {'cou...</td>\n",
       "      <td>NaN</td>\n",
       "      <td>Sparse Representations</td>\n",
       "      <td>Global AI and Big Data Innovations;Neural Comp...</td>\n",
       "      <td>Self-Supervised Learning;Natural Language Proc...</td>\n",
       "      <td>Rasmussen K.</td>\n",
       "      <td>be0ad7aa-c066-4805-97bd-494895b5050c</td>\n",
       "      <td>a5ae73df-8344-4ded-b04a-e2383912bb00;f9b9996a-...</td>\n",
       "      <td>b6f91a85-cb85-4ae0-b7bc-ae462ddea7e5;51a23b45-...</td>\n",
       "      <td>52</td>\n",
       "      <td>19.0</td>\n",
       "    </tr>\n",
       "    <tr>\n",
       "      <th>4</th>\n",
       "      <td>75f0e965-61ac-4d3e-9a8b-e133f6fc697e</td>\n",
       "      <td>8816e9cc-e822-4318-ac7a-1bdca5caec30</td>\n",
       "      <td>a283d0e1-a87a-4b15-b316-97299db7688b</td>\n",
       "      <td>AI-Driven Forecasting Models in Finance</td>\n",
       "      <td>Autoencoders are useful for dimensionality red...</td>\n",
       "      <td>1998</td>\n",
       "      <td>Rasmussen K.</td>\n",
       "      <td>0506d5ab-b679-415f-a3ce-40c762a73251</td>\n",
       "      <td>{'c55a97d8-cf05-4014-b4d6-01730a79c2b4': {'cou...</td>\n",
       "      <td>NaN</td>\n",
       "      <td>NaN</td>\n",
       "      <td>Conference on Explainable and Trustworthy AI;M...</td>\n",
       "      <td>Quantum Machine Learning;Neural Architecture S...</td>\n",
       "      <td>Rasmussen K.</td>\n",
       "      <td>72700cd2-3762-4770-beed-7863e2c6236d</td>\n",
       "      <td>ebfd52d6-cffb-4d2c-ac57-31281cd8151e;5ddc7c46-...</td>\n",
       "      <td>NaN</td>\n",
       "      <td>60</td>\n",
       "      <td>0.0</td>\n",
       "    </tr>\n",
       "  </tbody>\n",
       "</table>\n",
       "</div>"
      ],
      "text/plain": [
       "                                    eid                                  s2id  \\\n",
       "0  7fac733d-83ec-4b15-a48d-16a893a2373a  e8fe62ac-a542-48b7-8c58-c3efe267f350   \n",
       "1  b0be8bea-217a-421a-9b6e-fff66f54b2cf  76381138-f4c0-435b-9fdb-68cf877730d0   \n",
       "2  d891110d-415f-4a46-af6c-c92b1cc8b588  bef060b0-5efb-4fcb-b070-4cc7c6899966   \n",
       "3  0121772d-5b67-4bf2-add1-38aa73403128  452b7eb2-42f9-4afc-8669-a8b09e343127   \n",
       "4  75f0e965-61ac-4d3e-9a8b-e133f6fc697e  8816e9cc-e822-4318-ac7a-1bdca5caec30   \n",
       "\n",
       "                                    doi  \\\n",
       "0  f3296a30-fa15-44c9-ac65-f488cc90e180   \n",
       "1  99a47ebc-443f-4d49-aa49-8f292887b139   \n",
       "2  d220cb1e-8f08-4de9-af2e-d914814a5e19   \n",
       "3  e58bf863-7402-4fcb-9cac-58e3d8780872   \n",
       "4  a283d0e1-a87a-4b15-b316-97299db7688b   \n",
       "\n",
       "                                               title  \\\n",
       "0  How Transformers are Revolutionizing NLP AutoM...   \n",
       "1  How Transformers are Revolutionizing NLP Machi...   \n",
       "2  Self-Supervised Learning: The Next Big Thing i...   \n",
       "3           Deep Reinforcement Learning for Robotics   \n",
       "4            AI-Driven Forecasting Models in Finance   \n",
       "\n",
       "                                            abstract  year       authors  \\\n",
       "0  Zero-day vulnerabilities pose a significant th...  1999  Rasmussen K.   \n",
       "1  Cybersecurity frameworks like NIST provide gui...  1998  Rasmussen K.   \n",
       "2  The bias-variance tradeoff determines the mode...  1998  Rasmussen K.   \n",
       "3  We propose an efficient, distributed, out-of-m...  2002  Rasmussen K.   \n",
       "4  Autoencoders are useful for dimensionality red...  1998  Rasmussen K.   \n",
       "\n",
       "                             author_ids  \\\n",
       "0  0506d5ab-b679-415f-a3ce-40c762a73251   \n",
       "1  0506d5ab-b679-415f-a3ce-40c762a73251   \n",
       "2  0506d5ab-b679-415f-a3ce-40c762a73251   \n",
       "3  0506d5ab-b679-415f-a3ce-40c762a73251   \n",
       "4  0506d5ab-b679-415f-a3ce-40c762a73251   \n",
       "\n",
       "                                        affiliations funding  \\\n",
       "0  {'d1361bd1-ee0f-4550-99f9-4b6939fccfcd': {'cou...     NaN   \n",
       "1  {'f05e4224-11eb-4c77-b9be-917a55eeb9b1': {'cou...     NaN   \n",
       "2  {'f05e4224-11eb-4c77-b9be-917a55eeb9b1': {'cou...     NaN   \n",
       "3  {'c55a97d8-cf05-4014-b4d6-01730a79c2b4': {'cou...     NaN   \n",
       "4  {'c55a97d8-cf05-4014-b4d6-01730a79c2b4': {'cou...     NaN   \n",
       "\n",
       "                     PACs                                   publication_name  \\\n",
       "0                     NaN  Computational Intelligence Journal;AI and Cybe...   \n",
       "1                     NaN            Emerging Trends in Machine Intelligence   \n",
       "2                     NaN                   Advanced Machine Learning Review   \n",
       "3  Sparse Representations  Global AI and Big Data Innovations;Neural Comp...   \n",
       "4                     NaN  Conference on Explainable and Trustworthy AI;M...   \n",
       "\n",
       "                                       subject_areas    s2_authors  \\\n",
       "0  Contrastive Learning;Reinforcement Learning St...  Rasmussen K.   \n",
       "1  Explainable AI (XAI);Dimensionality Reduction ...  Rasmussen K.   \n",
       "2  Multi-Modal Learning;Hyperparameter Optimizati...  Rasmussen K.   \n",
       "3  Self-Supervised Learning;Natural Language Proc...  Rasmussen K.   \n",
       "4  Quantum Machine Learning;Neural Architecture S...  Rasmussen K.   \n",
       "\n",
       "                                       s2_author_ids  \\\n",
       "0  3f87f3bc-7ca6-46cd-8ace-b3e0f4b575e9;4d59402b-...   \n",
       "1  4d59402b-68cc-413b-bddd-c93c98e961f0;3f87f3bc-...   \n",
       "2  3f87f3bc-7ca6-46cd-8ace-b3e0f4b575e9;4d59402b-...   \n",
       "3               be0ad7aa-c066-4805-97bd-494895b5050c   \n",
       "4               72700cd2-3762-4770-beed-7863e2c6236d   \n",
       "\n",
       "                                           citations  \\\n",
       "0  adb9dcdf-b2fa-4aa4-a2d5-32c0dccef207;310eebf1-...   \n",
       "1  30f180af-e1ca-44cd-b011-21137faf7901;17127d48-...   \n",
       "2  4ba86d1a-28e9-4b8f-bb7d-58e0c8c57990;c29608e9-...   \n",
       "3  a5ae73df-8344-4ded-b04a-e2383912bb00;f9b9996a-...   \n",
       "4  ebfd52d6-cffb-4d2c-ac57-31281cd8151e;5ddc7c46-...   \n",
       "\n",
       "                                          references  num_citations  \\\n",
       "0  ecac4579-3d55-4b65-b932-58069535601a;51a23b45-...             12   \n",
       "1  86643ebe-4356-4425-a3f6-c6723f7b9f04;c3d10947-...             35   \n",
       "2  ad371947-f480-41cf-8e2b-256548e91e6b;969e1276-...             27   \n",
       "3  b6f91a85-cb85-4ae0-b7bc-ae462ddea7e5;51a23b45-...             52   \n",
       "4                                                NaN             60   \n",
       "\n",
       "   num_references  \n",
       "0            10.0  \n",
       "1            11.0  \n",
       "2            10.0  \n",
       "3            19.0  \n",
       "4             0.0  "
      ]
     },
     "execution_count": 3,
     "metadata": {},
     "output_type": "execute_result"
    }
   ],
   "source": [
    "df.head(5)"
   ]
  },
  {
   "cell_type": "markdown",
   "metadata": {},
   "source": [
    "# Create a Co-Author Matrix"
   ]
  },
  {
   "cell_type": "markdown",
   "metadata": {},
   "source": [
    "### Create the Tensor"
   ]
  },
  {
   "cell_type": "code",
   "execution_count": 4,
   "metadata": {},
   "outputs": [
    {
     "name": "stderr",
     "output_type": "stream",
     "text": [
      "[Parallel(n_jobs=12)]: Using backend LokyBackend with 12 concurrent workers.\n",
      "[Parallel(n_jobs=12)]: Done   2 out of  12 | elapsed:    4.7s remaining:   23.5s\n",
      "[Parallel(n_jobs=12)]: Done  12 out of  12 | elapsed:    5.0s finished\n"
     ]
    },
    {
     "name": "stdout",
     "output_type": "stream",
     "text": [
      "preparing dictionaries for communication\n"
     ]
    },
    {
     "name": "stderr",
     "output_type": "stream",
     "text": [
      "100%|██████████| 12/12 [00:00<00:00, 40427.03it/s]\n"
     ]
    },
    {
     "name": "stdout",
     "output_type": "stream",
     "text": [
      "Combining the tensors...\n"
     ]
    },
    {
     "name": "stderr",
     "output_type": "stream",
     "text": [
      "100%|██████████| 370/370.0 [00:00<00:00, 925398.02it/s]\n"
     ]
    }
   ],
   "source": [
    "from TELF.pre_processing import Beaver\n",
    "# the (co-author x co-author x time) tensor and flattening it: co-author x co-author\n",
    "beaver = Beaver()\n",
    "\n",
    "settings = {\n",
    "    \"dataset\":df,\n",
    "    \"target_columns\": (\"author_ids\", 'year'),\n",
    "    \"split_authors_with\": ';',\n",
    "    \"save_path\":None,\n",
    "    \"verbose\": True,\n",
    "    \"n_jobs\": -1,\n",
    "    \"joblib_backend\": 'loky', #'multiprocessing', \n",
    "}\n",
    "\n",
    "X, authors_idx_map, time_idx_map = beaver.coauthor_tensor(**settings)"
   ]
  },
  {
   "cell_type": "code",
   "execution_count": 5,
   "metadata": {},
   "outputs": [
    {
     "data": {
      "text/html": [
       "<table><tbody><tr><th style=\"text-align: left\">Format</th><td style=\"text-align: left\">coo</td></tr><tr><th style=\"text-align: left\">Data Type</th><td style=\"text-align: left\">float64</td></tr><tr><th style=\"text-align: left\">Shape</th><td style=\"text-align: left\">(9, 9, 36)</td></tr><tr><th style=\"text-align: left\">nnz</th><td style=\"text-align: left\">302</td></tr><tr><th style=\"text-align: left\">Density</th><td style=\"text-align: left\">0.10356652949245541</td></tr><tr><th style=\"text-align: left\">Read-only</th><td style=\"text-align: left\">True</td></tr><tr><th style=\"text-align: left\">Size</th><td style=\"text-align: left\">9.4K</td></tr><tr><th style=\"text-align: left\">Storage ratio</th><td style=\"text-align: left\">0.41</td></tr></tbody></table>"
      ],
      "text/plain": [
       "<COO: shape=(9, 9, 36), dtype=float64, nnz=302, fill_value=0.0>"
      ]
     },
     "execution_count": 5,
     "metadata": {},
     "output_type": "execute_result"
    }
   ],
   "source": [
    "X"
   ]
  },
  {
   "cell_type": "markdown",
   "metadata": {},
   "source": [
    "### Sum on the Time Dimension"
   ]
  },
  {
   "cell_type": "code",
   "execution_count": 6,
   "metadata": {},
   "outputs": [
    {
     "data": {
      "text/html": [
       "<table><tbody><tr><th style=\"text-align: left\">Format</th><td style=\"text-align: left\">coo</td></tr><tr><th style=\"text-align: left\">Data Type</th><td style=\"text-align: left\">float64</td></tr><tr><th style=\"text-align: left\">Shape</th><td style=\"text-align: left\">(9, 9)</td></tr><tr><th style=\"text-align: left\">nnz</th><td style=\"text-align: left\">58</td></tr><tr><th style=\"text-align: left\">Density</th><td style=\"text-align: left\">0.7160493827160493</td></tr><tr><th style=\"text-align: left\">Read-only</th><td style=\"text-align: left\">True</td></tr><tr><th style=\"text-align: left\">Size</th><td style=\"text-align: left\">1.4K</td></tr><tr><th style=\"text-align: left\">Storage ratio</th><td style=\"text-align: left\">2.15</td></tr></tbody></table>"
      ],
      "text/plain": [
       "<COO: shape=(9, 9), dtype=float64, nnz=58, fill_value=0.0>"
      ]
     },
     "execution_count": 6,
     "metadata": {},
     "output_type": "execute_result"
    }
   ],
   "source": [
    "# co-author matrix - flattened the time dimension\n",
    "X_flat = X.sum(axis=2)\n",
    "X_flat"
   ]
  },
  {
   "cell_type": "markdown",
   "metadata": {},
   "source": [
    "# Visualize and Compute Stats"
   ]
  },
  {
   "cell_type": "code",
   "execution_count": 7,
   "metadata": {},
   "outputs": [
    {
     "name": "stderr",
     "output_type": "stream",
     "text": [
      "/Users/maksim/miniconda3/envs/TELF/lib/python3.11/site-packages/tqdm/auto.py:21: TqdmWarning: IProgress not found. Please update jupyter and ipywidgets. See https://ipywidgets.readthedocs.io/en/stable/user_install.html\n",
      "  from .autonotebook import tqdm as notebook_tqdm\n"
     ]
    }
   ],
   "source": [
    "from TELF.post_processing import Wolf\n",
    "\n",
    "wolf = Wolf(verbose=True)"
   ]
  },
  {
   "cell_type": "code",
   "execution_count": 8,
   "metadata": {},
   "outputs": [],
   "source": [
    "# todo slic attribute setting here -- orca needed first\n",
    "wolf.node_ids = {i: line.strip() for i, line in enumerate(authors_idx_map)}"
   ]
  },
  {
   "cell_type": "markdown",
   "metadata": {},
   "source": [
    "### A. Apply Graph Stats"
   ]
  },
  {
   "cell_type": "code",
   "execution_count": 9,
   "metadata": {},
   "outputs": [],
   "source": [
    "g = wolf.create_graph(X_flat, use_weighted_value=True)"
   ]
  },
  {
   "cell_type": "code",
   "execution_count": 10,
   "metadata": {},
   "outputs": [
    {
     "name": "stderr",
     "output_type": "stream",
     "text": [
      "100%|██████████| 10/10 [00:00<00:00, 842.87it/s]\n"
     ]
    }
   ],
   "source": [
    "from tqdm import tqdm\n",
    "\n",
    "stats = {\n",
    "    'in_weight',\n",
    "    'out_weight',\n",
    "    'degree',\n",
    "    'in_degree',\n",
    "    'out_degree',\n",
    "    'page_rank', \n",
    "    'in_closeness',\n",
    "    'out_closeness', \n",
    "    'hubs_authorities',\n",
    "    'betweenness_centrality',\n",
    "}\n",
    "\n",
    "for s in tqdm(stats):\n",
    "    g.get_stat(s)\n",
    "    \n",
    "co_author_df=g.output_stats()"
   ]
  },
  {
   "cell_type": "code",
   "execution_count": 11,
   "metadata": {},
   "outputs": [
    {
     "data": {
      "text/html": [
       "<div>\n",
       "<style scoped>\n",
       "    .dataframe tbody tr th:only-of-type {\n",
       "        vertical-align: middle;\n",
       "    }\n",
       "\n",
       "    .dataframe tbody tr th {\n",
       "        vertical-align: top;\n",
       "    }\n",
       "\n",
       "    .dataframe thead th {\n",
       "        text-align: right;\n",
       "    }\n",
       "</style>\n",
       "<table border=\"1\" class=\"dataframe\">\n",
       "  <thead>\n",
       "    <tr style=\"text-align: right;\">\n",
       "      <th></th>\n",
       "      <th>node_id</th>\n",
       "      <th>hubs</th>\n",
       "      <th>authorities</th>\n",
       "      <th>betweenness_centrality</th>\n",
       "      <th>out_closeness</th>\n",
       "      <th>in_weight</th>\n",
       "      <th>out_degree</th>\n",
       "      <th>in_degree</th>\n",
       "      <th>degree</th>\n",
       "      <th>page_rank</th>\n",
       "      <th>in_closeness</th>\n",
       "      <th>out_weight</th>\n",
       "    </tr>\n",
       "  </thead>\n",
       "  <tbody>\n",
       "    <tr>\n",
       "      <th>0</th>\n",
       "      <td>0506d5ab-b679-415f-a3ce-40c762a73251</td>\n",
       "      <td>0.182594</td>\n",
       "      <td>0.182594</td>\n",
       "      <td>0.070833</td>\n",
       "      <td>1.000000</td>\n",
       "      <td>67.0</td>\n",
       "      <td>8</td>\n",
       "      <td>8</td>\n",
       "      <td>16</td>\n",
       "      <td>0.145624</td>\n",
       "      <td>1.000000</td>\n",
       "      <td>67.0</td>\n",
       "    </tr>\n",
       "    <tr>\n",
       "      <th>1</th>\n",
       "      <td>dd635e7f-7148-4350-b808-7492912a8e19</td>\n",
       "      <td>0.231792</td>\n",
       "      <td>0.231792</td>\n",
       "      <td>0.070833</td>\n",
       "      <td>1.000000</td>\n",
       "      <td>118.0</td>\n",
       "      <td>8</td>\n",
       "      <td>8</td>\n",
       "      <td>16</td>\n",
       "      <td>0.253189</td>\n",
       "      <td>1.000000</td>\n",
       "      <td>118.0</td>\n",
       "    </tr>\n",
       "    <tr>\n",
       "      <th>2</th>\n",
       "      <td>23762771-e1ae-44f7-a09d-c3da4368689e</td>\n",
       "      <td>0.041840</td>\n",
       "      <td>0.041840</td>\n",
       "      <td>0.036905</td>\n",
       "      <td>0.888889</td>\n",
       "      <td>18.0</td>\n",
       "      <td>7</td>\n",
       "      <td>7</td>\n",
       "      <td>14</td>\n",
       "      <td>0.051800</td>\n",
       "      <td>0.888889</td>\n",
       "      <td>18.0</td>\n",
       "    </tr>\n",
       "    <tr>\n",
       "      <th>3</th>\n",
       "      <td>3b85ee58-825f-4734-8a19-26b6de71c7fc</td>\n",
       "      <td>0.145908</td>\n",
       "      <td>0.145908</td>\n",
       "      <td>0.023214</td>\n",
       "      <td>0.888889</td>\n",
       "      <td>64.0</td>\n",
       "      <td>7</td>\n",
       "      <td>7</td>\n",
       "      <td>14</td>\n",
       "      <td>0.143032</td>\n",
       "      <td>0.888889</td>\n",
       "      <td>64.0</td>\n",
       "    </tr>\n",
       "    <tr>\n",
       "      <th>4</th>\n",
       "      <td>f70f1e3b-55cb-4160-a358-15aa647ebf60</td>\n",
       "      <td>0.122617</td>\n",
       "      <td>0.122617</td>\n",
       "      <td>0.023214</td>\n",
       "      <td>0.888889</td>\n",
       "      <td>53.0</td>\n",
       "      <td>7</td>\n",
       "      <td>7</td>\n",
       "      <td>14</td>\n",
       "      <td>0.120853</td>\n",
       "      <td>0.888889</td>\n",
       "      <td>53.0</td>\n",
       "    </tr>\n",
       "  </tbody>\n",
       "</table>\n",
       "</div>"
      ],
      "text/plain": [
       "                                node_id      hubs  authorities  \\\n",
       "0  0506d5ab-b679-415f-a3ce-40c762a73251  0.182594     0.182594   \n",
       "1  dd635e7f-7148-4350-b808-7492912a8e19  0.231792     0.231792   \n",
       "2  23762771-e1ae-44f7-a09d-c3da4368689e  0.041840     0.041840   \n",
       "3  3b85ee58-825f-4734-8a19-26b6de71c7fc  0.145908     0.145908   \n",
       "4  f70f1e3b-55cb-4160-a358-15aa647ebf60  0.122617     0.122617   \n",
       "\n",
       "   betweenness_centrality  out_closeness  in_weight  out_degree  in_degree  \\\n",
       "0                0.070833       1.000000       67.0           8          8   \n",
       "1                0.070833       1.000000      118.0           8          8   \n",
       "2                0.036905       0.888889       18.0           7          7   \n",
       "3                0.023214       0.888889       64.0           7          7   \n",
       "4                0.023214       0.888889       53.0           7          7   \n",
       "\n",
       "   degree  page_rank  in_closeness  out_weight  \n",
       "0      16   0.145624      1.000000        67.0  \n",
       "1      16   0.253189      1.000000       118.0  \n",
       "2      14   0.051800      0.888889        18.0  \n",
       "3      14   0.143032      0.888889        64.0  \n",
       "4      14   0.120853      0.888889        53.0  "
      ]
     },
     "execution_count": 11,
     "metadata": {},
     "output_type": "execute_result"
    }
   ],
   "source": [
    "co_author_df.head(5)"
   ]
  },
  {
   "cell_type": "markdown",
   "metadata": {},
   "source": [
    "### B. Visualize Graphs"
   ]
  },
  {
   "cell_type": "code",
   "execution_count": 12,
   "metadata": {},
   "outputs": [],
   "source": [
    "# set core authors to be highlighted\n",
    "highlight_nodes = list(authors_idx_map[:3])"
   ]
  },
  {
   "cell_type": "markdown",
   "metadata": {},
   "source": [
    "#### All Data"
   ]
  },
  {
   "cell_type": "code",
   "execution_count": 13,
   "metadata": {},
   "outputs": [],
   "source": [
    "try:\n",
    "    os.mkdir(\"example_figures\")\n",
    "except:\n",
    "    pass"
   ]
  },
  {
   "cell_type": "code",
   "execution_count": 14,
   "metadata": {},
   "outputs": [],
   "source": [
    "g.visualize(\n",
    "    font_color      = 'black',\n",
    "    node_color      = '#edede9',\n",
    "    node_size       = 100,\n",
    "    highlight_nodes = highlight_nodes,\n",
    "    font_size       = 4,\n",
    "    edge_width      = 0.08,\n",
    "    figsize         = (16,16),\n",
    "    save_path       = os.path.join('example_figures', 'all_co-authors.png')\n",
    ")"
   ]
  },
  {
   "cell_type": "markdown",
   "metadata": {},
   "source": [
    "#### By Component"
   ]
  },
  {
   "cell_type": "code",
   "execution_count": 15,
   "metadata": {},
   "outputs": [
    {
     "name": "stderr",
     "output_type": "stream",
     "text": [
      "1it [00:00,  3.18it/s]\n"
     ]
    }
   ],
   "source": [
    "author_components = {}\n",
    "wcc = g.strongly_connected_components()# strongly , weakly\n",
    "for i, c in tqdm(enumerate(wcc)):\n",
    "    output_dir = os.path.join('example_figures', str(i))\n",
    "    if not os.path.exists(output_dir):\n",
    "        os.mkdir(output_dir)\n",
    "    \n",
    "    # get author ids from graph\n",
    "    author_components[i] = list(c.G.nodes)\n",
    "    num_nodes = len(c)\n",
    "    \n",
    "    # create data file\n",
    "    component_df = co_author_df.loc[co_author_df.node_id.isin(author_components[i])].copy()\n",
    "    component_df['is_core'] = [x in highlight_nodes for x in component_df.node_id.to_list()]  \n",
    "    component_df.to_csv(os.path.join(output_dir, f'component_{i}.csv'))\n",
    "    \n",
    "    c.visualize(font_color      = 'black',\n",
    "                node_color      = '#edede9',\n",
    "                node_size       = 200,\n",
    "                font_size       = 8,\n",
    "                edge_width      = 0.08,\n",
    "                highlight_nodes = highlight_nodes,\n",
    "                save_path       = os.path.join(output_dir, f'component_{i}_with_{num_nodes}_nodes.png'),\n",
    "                figsize         = (6,6))"
   ]
  },
  {
   "cell_type": "markdown",
   "metadata": {},
   "source": [
    "# Use Graph and Components to Select Papers"
   ]
  },
  {
   "cell_type": "markdown",
   "metadata": {},
   "source": [
    "### Clean the Text for Wordcloud Creation"
   ]
  },
  {
   "cell_type": "code",
   "execution_count": 16,
   "metadata": {},
   "outputs": [],
   "source": [
    "from TELF.pre_processing import Vulture\n",
    "\n",
    "from TELF.pre_processing.Vulture.modules import SimpleCleaner\n",
    "from TELF.pre_processing.Vulture.modules import LemmatizeCleaner\n",
    "from TELF.pre_processing.Vulture.modules import RemoveNonEnglishCleaner\n",
    "\n",
    "from TELF.pre_processing.Vulture.default_stop_words import STOP_WORDS\n",
    "from TELF.pre_processing.Vulture.default_stop_phrases import STOP_PHRASES\n",
    "\n",
    "# clean the input DataFrame and use clean title + abstract as text        \n",
    "vulture = Vulture(n_jobs  = 1, \n",
    "                  verbose = 10,  # Disable == 0, Verbose >= 1\n",
    "                  )"
   ]
  },
  {
   "cell_type": "code",
   "execution_count": 17,
   "metadata": {},
   "outputs": [],
   "source": [
    "steps = [\n",
    "    RemoveNonEnglishCleaner(ascii_ratio=0.9, stopwords_ratio=0.25),\n",
    "    SimpleCleaner(stop_words = STOP_WORDS,\n",
    "                  stop_phrases = STOP_PHRASES,\n",
    "                  order = [\n",
    "                      'standardize_hyphens',\n",
    "                      'isolate_frozen',\n",
    "                      'remove_copyright_statement',\n",
    "                      'remove_stop_phrases',\n",
    "                      'make_lower_case',\n",
    "                      'remove_formulas',\n",
    "                      'normalize',\n",
    "                      'remove_next_line',\n",
    "                      'remove_email',\n",
    "                      'remove_()',\n",
    "                      'remove_[]',\n",
    "                      'remove_special_characters',\n",
    "                      'remove_nonASCII_boundary',\n",
    "                      'remove_nonASCII',\n",
    "                      'remove_tags',\n",
    "                      'remove_stop_words',\n",
    "                      'remove_standalone_numbers',\n",
    "                      'remove_extra_whitespace',\n",
    "                      'min_characters',\n",
    "                  ]\n",
    "                 ),\n",
    "    LemmatizeCleaner('spacy'),\n",
    "]"
   ]
  },
  {
   "cell_type": "code",
   "execution_count": 18,
   "metadata": {},
   "outputs": [
    {
     "name": "stderr",
     "output_type": "stream",
     "text": [
      "[Vulture]: Cleaning 235 documents\n",
      "  0%|          | 0/3 [00:00<?, ?it/s][Vulture]: Running RemoveNonEnglishCleaner module\n",
      "100%|██████████| 235/235 [00:00<00:00, 5087.84it/s]\n",
      "[Vulture]: Running SimpleCleaner module\n",
      "100%|██████████| 235/235 [00:00<00:00, 410.49it/s]\n",
      " 67%|██████▋   | 2/3 [00:00<00:00,  3.22it/s][Vulture]: Running LemmatizeCleaner module\n",
      "100%|██████████| 235/235 [00:02<00:00, 114.16it/s]\n",
      "100%|██████████| 3/3 [00:02<00:00,  1.12it/s]\n"
     ]
    }
   ],
   "source": [
    "df = vulture.clean_dataframe(\n",
    "    df=df, \n",
    "    columns=['title', 'abstract'], \n",
    "    steps=steps,\n",
    "    append_to_original_df=True,\n",
    "    concat_cleaned_cols=True\n",
    ")"
   ]
  },
  {
   "cell_type": "code",
   "execution_count": 19,
   "metadata": {},
   "outputs": [
    {
     "data": {
      "text/html": [
       "<div>\n",
       "<style scoped>\n",
       "    .dataframe tbody tr th:only-of-type {\n",
       "        vertical-align: middle;\n",
       "    }\n",
       "\n",
       "    .dataframe tbody tr th {\n",
       "        vertical-align: top;\n",
       "    }\n",
       "\n",
       "    .dataframe thead th {\n",
       "        text-align: right;\n",
       "    }\n",
       "</style>\n",
       "<table border=\"1\" class=\"dataframe\">\n",
       "  <thead>\n",
       "    <tr style=\"text-align: right;\">\n",
       "      <th></th>\n",
       "      <th>eid</th>\n",
       "      <th>s2id</th>\n",
       "      <th>doi</th>\n",
       "      <th>title</th>\n",
       "      <th>abstract</th>\n",
       "      <th>year</th>\n",
       "      <th>authors</th>\n",
       "      <th>author_ids</th>\n",
       "      <th>affiliations</th>\n",
       "      <th>funding</th>\n",
       "      <th>PACs</th>\n",
       "      <th>publication_name</th>\n",
       "      <th>subject_areas</th>\n",
       "      <th>s2_authors</th>\n",
       "      <th>s2_author_ids</th>\n",
       "      <th>citations</th>\n",
       "      <th>references</th>\n",
       "      <th>num_citations</th>\n",
       "      <th>num_references</th>\n",
       "      <th>clean_title_abstract</th>\n",
       "    </tr>\n",
       "  </thead>\n",
       "  <tbody>\n",
       "    <tr>\n",
       "      <th>0</th>\n",
       "      <td>7fac733d-83ec-4b15-a48d-16a893a2373a</td>\n",
       "      <td>e8fe62ac-a542-48b7-8c58-c3efe267f350</td>\n",
       "      <td>f3296a30-fa15-44c9-ac65-f488cc90e180</td>\n",
       "      <td>How Transformers are Revolutionizing NLP AutoM...</td>\n",
       "      <td>Zero-day vulnerabilities pose a significant th...</td>\n",
       "      <td>1999</td>\n",
       "      <td>Rasmussen K.</td>\n",
       "      <td>0506d5ab-b679-415f-a3ce-40c762a73251</td>\n",
       "      <td>{'d1361bd1-ee0f-4550-99f9-4b6939fccfcd': {'cou...</td>\n",
       "      <td>NaN</td>\n",
       "      <td>NaN</td>\n",
       "      <td>Computational Intelligence Journal;AI and Cybe...</td>\n",
       "      <td>Contrastive Learning;Reinforcement Learning St...</td>\n",
       "      <td>Rasmussen K.</td>\n",
       "      <td>3f87f3bc-7ca6-46cd-8ace-b3e0f4b575e9;4d59402b-...</td>\n",
       "      <td>adb9dcdf-b2fa-4aa4-a2d5-32c0dccef207;310eebf1-...</td>\n",
       "      <td>ecac4579-3d55-4b65-b932-58069535601a;51a23b45-...</td>\n",
       "      <td>12</td>\n",
       "      <td>10.0</td>\n",
       "      <td>transformer revolutionize nlp automl future au...</td>\n",
       "    </tr>\n",
       "    <tr>\n",
       "      <th>1</th>\n",
       "      <td>b0be8bea-217a-421a-9b6e-fff66f54b2cf</td>\n",
       "      <td>76381138-f4c0-435b-9fdb-68cf877730d0</td>\n",
       "      <td>99a47ebc-443f-4d49-aa49-8f292887b139</td>\n",
       "      <td>How Transformers are Revolutionizing NLP Machi...</td>\n",
       "      <td>Cybersecurity frameworks like NIST provide gui...</td>\n",
       "      <td>1998</td>\n",
       "      <td>Rasmussen K.</td>\n",
       "      <td>0506d5ab-b679-415f-a3ce-40c762a73251</td>\n",
       "      <td>{'f05e4224-11eb-4c77-b9be-917a55eeb9b1': {'cou...</td>\n",
       "      <td>NaN</td>\n",
       "      <td>NaN</td>\n",
       "      <td>Emerging Trends in Machine Intelligence</td>\n",
       "      <td>Explainable AI (XAI);Dimensionality Reduction ...</td>\n",
       "      <td>Rasmussen K.</td>\n",
       "      <td>4d59402b-68cc-413b-bddd-c93c98e961f0;3f87f3bc-...</td>\n",
       "      <td>30f180af-e1ca-44cd-b011-21137faf7901;17127d48-...</td>\n",
       "      <td>86643ebe-4356-4425-a3f6-c6723f7b9f04;c3d10947-...</td>\n",
       "      <td>35</td>\n",
       "      <td>11.0</td>\n",
       "      <td>NaN</td>\n",
       "    </tr>\n",
       "    <tr>\n",
       "      <th>2</th>\n",
       "      <td>d891110d-415f-4a46-af6c-c92b1cc8b588</td>\n",
       "      <td>bef060b0-5efb-4fcb-b070-4cc7c6899966</td>\n",
       "      <td>d220cb1e-8f08-4de9-af2e-d914814a5e19</td>\n",
       "      <td>Self-Supervised Learning: The Next Big Thing i...</td>\n",
       "      <td>The bias-variance tradeoff determines the mode...</td>\n",
       "      <td>1998</td>\n",
       "      <td>Rasmussen K.</td>\n",
       "      <td>0506d5ab-b679-415f-a3ce-40c762a73251</td>\n",
       "      <td>{'f05e4224-11eb-4c77-b9be-917a55eeb9b1': {'cou...</td>\n",
       "      <td>NaN</td>\n",
       "      <td>NaN</td>\n",
       "      <td>Advanced Machine Learning Review</td>\n",
       "      <td>Multi-Modal Learning;Hyperparameter Optimizati...</td>\n",
       "      <td>Rasmussen K.</td>\n",
       "      <td>3f87f3bc-7ca6-46cd-8ace-b3e0f4b575e9;4d59402b-...</td>\n",
       "      <td>4ba86d1a-28e9-4b8f-bb7d-58e0c8c57990;c29608e9-...</td>\n",
       "      <td>ad371947-f480-41cf-8e2b-256548e91e6b;969e1276-...</td>\n",
       "      <td>27</td>\n",
       "      <td>10.0</td>\n",
       "      <td>learn thing ai sentiment analysis language mod...</td>\n",
       "    </tr>\n",
       "    <tr>\n",
       "      <th>3</th>\n",
       "      <td>0121772d-5b67-4bf2-add1-38aa73403128</td>\n",
       "      <td>452b7eb2-42f9-4afc-8669-a8b09e343127</td>\n",
       "      <td>e58bf863-7402-4fcb-9cac-58e3d8780872</td>\n",
       "      <td>Deep Reinforcement Learning for Robotics</td>\n",
       "      <td>We propose an efficient, distributed, out-of-m...</td>\n",
       "      <td>2002</td>\n",
       "      <td>Rasmussen K.</td>\n",
       "      <td>0506d5ab-b679-415f-a3ce-40c762a73251</td>\n",
       "      <td>{'c55a97d8-cf05-4014-b4d6-01730a79c2b4': {'cou...</td>\n",
       "      <td>NaN</td>\n",
       "      <td>Sparse Representations</td>\n",
       "      <td>Global AI and Big Data Innovations;Neural Comp...</td>\n",
       "      <td>Self-Supervised Learning;Natural Language Proc...</td>\n",
       "      <td>Rasmussen K.</td>\n",
       "      <td>be0ad7aa-c066-4805-97bd-494895b5050c</td>\n",
       "      <td>a5ae73df-8344-4ded-b04a-e2383912bb00;f9b9996a-...</td>\n",
       "      <td>b6f91a85-cb85-4ae0-b7bc-ae462ddea7e5;51a23b45-...</td>\n",
       "      <td>52</td>\n",
       "      <td>19.0</td>\n",
       "      <td>deep reinforcement learn robotic efficient dis...</td>\n",
       "    </tr>\n",
       "    <tr>\n",
       "      <th>4</th>\n",
       "      <td>75f0e965-61ac-4d3e-9a8b-e133f6fc697e</td>\n",
       "      <td>8816e9cc-e822-4318-ac7a-1bdca5caec30</td>\n",
       "      <td>a283d0e1-a87a-4b15-b316-97299db7688b</td>\n",
       "      <td>AI-Driven Forecasting Models in Finance</td>\n",
       "      <td>Autoencoders are useful for dimensionality red...</td>\n",
       "      <td>1998</td>\n",
       "      <td>Rasmussen K.</td>\n",
       "      <td>0506d5ab-b679-415f-a3ce-40c762a73251</td>\n",
       "      <td>{'c55a97d8-cf05-4014-b4d6-01730a79c2b4': {'cou...</td>\n",
       "      <td>NaN</td>\n",
       "      <td>NaN</td>\n",
       "      <td>Conference on Explainable and Trustworthy AI;M...</td>\n",
       "      <td>Quantum Machine Learning;Neural Architecture S...</td>\n",
       "      <td>Rasmussen K.</td>\n",
       "      <td>72700cd2-3762-4770-beed-7863e2c6236d</td>\n",
       "      <td>ebfd52d6-cffb-4d2c-ac57-31281cd8151e;5ddc7c46-...</td>\n",
       "      <td>NaN</td>\n",
       "      <td>60</td>\n",
       "      <td>0.0</td>\n",
       "      <td>ai-drive forecasting model finance autoencoder...</td>\n",
       "    </tr>\n",
       "  </tbody>\n",
       "</table>\n",
       "</div>"
      ],
      "text/plain": [
       "                                    eid                                  s2id  \\\n",
       "0  7fac733d-83ec-4b15-a48d-16a893a2373a  e8fe62ac-a542-48b7-8c58-c3efe267f350   \n",
       "1  b0be8bea-217a-421a-9b6e-fff66f54b2cf  76381138-f4c0-435b-9fdb-68cf877730d0   \n",
       "2  d891110d-415f-4a46-af6c-c92b1cc8b588  bef060b0-5efb-4fcb-b070-4cc7c6899966   \n",
       "3  0121772d-5b67-4bf2-add1-38aa73403128  452b7eb2-42f9-4afc-8669-a8b09e343127   \n",
       "4  75f0e965-61ac-4d3e-9a8b-e133f6fc697e  8816e9cc-e822-4318-ac7a-1bdca5caec30   \n",
       "\n",
       "                                    doi  \\\n",
       "0  f3296a30-fa15-44c9-ac65-f488cc90e180   \n",
       "1  99a47ebc-443f-4d49-aa49-8f292887b139   \n",
       "2  d220cb1e-8f08-4de9-af2e-d914814a5e19   \n",
       "3  e58bf863-7402-4fcb-9cac-58e3d8780872   \n",
       "4  a283d0e1-a87a-4b15-b316-97299db7688b   \n",
       "\n",
       "                                               title  \\\n",
       "0  How Transformers are Revolutionizing NLP AutoM...   \n",
       "1  How Transformers are Revolutionizing NLP Machi...   \n",
       "2  Self-Supervised Learning: The Next Big Thing i...   \n",
       "3           Deep Reinforcement Learning for Robotics   \n",
       "4            AI-Driven Forecasting Models in Finance   \n",
       "\n",
       "                                            abstract  year       authors  \\\n",
       "0  Zero-day vulnerabilities pose a significant th...  1999  Rasmussen K.   \n",
       "1  Cybersecurity frameworks like NIST provide gui...  1998  Rasmussen K.   \n",
       "2  The bias-variance tradeoff determines the mode...  1998  Rasmussen K.   \n",
       "3  We propose an efficient, distributed, out-of-m...  2002  Rasmussen K.   \n",
       "4  Autoencoders are useful for dimensionality red...  1998  Rasmussen K.   \n",
       "\n",
       "                             author_ids  \\\n",
       "0  0506d5ab-b679-415f-a3ce-40c762a73251   \n",
       "1  0506d5ab-b679-415f-a3ce-40c762a73251   \n",
       "2  0506d5ab-b679-415f-a3ce-40c762a73251   \n",
       "3  0506d5ab-b679-415f-a3ce-40c762a73251   \n",
       "4  0506d5ab-b679-415f-a3ce-40c762a73251   \n",
       "\n",
       "                                        affiliations funding  \\\n",
       "0  {'d1361bd1-ee0f-4550-99f9-4b6939fccfcd': {'cou...     NaN   \n",
       "1  {'f05e4224-11eb-4c77-b9be-917a55eeb9b1': {'cou...     NaN   \n",
       "2  {'f05e4224-11eb-4c77-b9be-917a55eeb9b1': {'cou...     NaN   \n",
       "3  {'c55a97d8-cf05-4014-b4d6-01730a79c2b4': {'cou...     NaN   \n",
       "4  {'c55a97d8-cf05-4014-b4d6-01730a79c2b4': {'cou...     NaN   \n",
       "\n",
       "                     PACs                                   publication_name  \\\n",
       "0                     NaN  Computational Intelligence Journal;AI and Cybe...   \n",
       "1                     NaN            Emerging Trends in Machine Intelligence   \n",
       "2                     NaN                   Advanced Machine Learning Review   \n",
       "3  Sparse Representations  Global AI and Big Data Innovations;Neural Comp...   \n",
       "4                     NaN  Conference on Explainable and Trustworthy AI;M...   \n",
       "\n",
       "                                       subject_areas    s2_authors  \\\n",
       "0  Contrastive Learning;Reinforcement Learning St...  Rasmussen K.   \n",
       "1  Explainable AI (XAI);Dimensionality Reduction ...  Rasmussen K.   \n",
       "2  Multi-Modal Learning;Hyperparameter Optimizati...  Rasmussen K.   \n",
       "3  Self-Supervised Learning;Natural Language Proc...  Rasmussen K.   \n",
       "4  Quantum Machine Learning;Neural Architecture S...  Rasmussen K.   \n",
       "\n",
       "                                       s2_author_ids  \\\n",
       "0  3f87f3bc-7ca6-46cd-8ace-b3e0f4b575e9;4d59402b-...   \n",
       "1  4d59402b-68cc-413b-bddd-c93c98e961f0;3f87f3bc-...   \n",
       "2  3f87f3bc-7ca6-46cd-8ace-b3e0f4b575e9;4d59402b-...   \n",
       "3               be0ad7aa-c066-4805-97bd-494895b5050c   \n",
       "4               72700cd2-3762-4770-beed-7863e2c6236d   \n",
       "\n",
       "                                           citations  \\\n",
       "0  adb9dcdf-b2fa-4aa4-a2d5-32c0dccef207;310eebf1-...   \n",
       "1  30f180af-e1ca-44cd-b011-21137faf7901;17127d48-...   \n",
       "2  4ba86d1a-28e9-4b8f-bb7d-58e0c8c57990;c29608e9-...   \n",
       "3  a5ae73df-8344-4ded-b04a-e2383912bb00;f9b9996a-...   \n",
       "4  ebfd52d6-cffb-4d2c-ac57-31281cd8151e;5ddc7c46-...   \n",
       "\n",
       "                                          references  num_citations  \\\n",
       "0  ecac4579-3d55-4b65-b932-58069535601a;51a23b45-...             12   \n",
       "1  86643ebe-4356-4425-a3f6-c6723f7b9f04;c3d10947-...             35   \n",
       "2  ad371947-f480-41cf-8e2b-256548e91e6b;969e1276-...             27   \n",
       "3  b6f91a85-cb85-4ae0-b7bc-ae462ddea7e5;51a23b45-...             52   \n",
       "4                                                NaN             60   \n",
       "\n",
       "   num_references                               clean_title_abstract  \n",
       "0            10.0  transformer revolutionize nlp automl future au...  \n",
       "1            11.0                                                NaN  \n",
       "2            10.0  learn thing ai sentiment analysis language mod...  \n",
       "3            19.0  deep reinforcement learn robotic efficient dis...  \n",
       "4             0.0  ai-drive forecasting model finance autoencoder...  "
      ]
     },
     "execution_count": 19,
     "metadata": {},
     "output_type": "execute_result"
    }
   ],
   "source": [
    "df.head()"
   ]
  },
  {
   "cell_type": "markdown",
   "metadata": {},
   "source": [
    "### Wordclouds"
   ]
  },
  {
   "cell_type": "markdown",
   "metadata": {},
   "source": [
    "#### Helper Functions for Selecting Papers / Creating Wordclouds"
   ]
  },
  {
   "cell_type": "code",
   "execution_count": 20,
   "metadata": {},
   "outputs": [],
   "source": [
    "import wordcloud\n",
    "import matplotlib.pyplot as plt\n",
    "from collections import Counter, defaultdict\n",
    "\n",
    "def get_papers(df, authors):\n",
    "    if not isinstance(authors, set):\n",
    "        authors = set(authors)\n",
    "    def is_in_set(s):\n",
    "        return any(x in authors for x in s.split(';'))\n",
    "    return df[df.author_ids.apply(is_in_set)].copy()\n",
    "\n",
    "\n",
    "def sum_dicts(dict_list, n):\n",
    "    result = defaultdict(int)\n",
    "    for d in dict_list:\n",
    "        for key, value in d.items():\n",
    "            result[key] += value\n",
    "    results = dict(result)\n",
    "    return dict(sorted(result.items(), key=lambda item: item[1], reverse=True)[:n])\n",
    "\n",
    "\n",
    "def create_wordcloud(df, col, n=30, save_path=None, figsize=(600,600)):\n",
    "    # calculate the frequencies\n",
    "    tokens    = [x.split() for x in df[col].to_list() if not pd.isna(x)]\n",
    "    top_words = [dict(Counter(x)) for x in tokens]\n",
    "    top_words = sum_dicts(top_words, n=n)\n",
    "\n",
    "    # generate the wordcloud image\n",
    "    figsize_x, figsize_y = figsize\n",
    "    wc = wordcloud.WordCloud(background_color=\"white\", width=figsize_x*100, height=figsize_y*100)\n",
    "    wc.generate_from_frequencies(top_words)\n",
    "    \n",
    "    # display the word cloud using matplotlib\n",
    "    plt.figure(figsize=figsize)\n",
    "    plt.imshow(wc, interpolation=\"bilinear\")\n",
    "    plt.axis(\"off\")\n",
    "    \n",
    "    if save_path is not None:\n",
    "        plt.savefig(save_path, dpi=300)\n",
    "        plt.close()\n",
    "        return\n",
    "    else:\n",
    "        plt.show()"
   ]
  },
  {
   "cell_type": "markdown",
   "metadata": {},
   "source": [
    "#### Create a Wordcloud on Whole Data"
   ]
  },
  {
   "cell_type": "code",
   "execution_count": 21,
   "metadata": {},
   "outputs": [
    {
     "data": {
      "image/png": "[encoded data removed]",
      "text/plain": [
       "<Figure size 600x600 with 1 Axes>"
      ]
     },
     "metadata": {},
     "output_type": "display_data"
    }
   ],
   "source": [
    "create_wordcloud(df, col='clean_title_abstract', n=30, save_path=None, figsize=(6,6))"
   ]
  },
  {
   "cell_type": "markdown",
   "metadata": {},
   "source": [
    "### For Each Component, Create Wordclouds"
   ]
  },
  {
   "cell_type": "code",
   "execution_count": 22,
   "metadata": {},
   "outputs": [
    {
     "name": "stderr",
     "output_type": "stream",
     "text": [
      "100%|██████████| 1/1 [00:00<00:00,  1.98it/s]\n"
     ]
    }
   ],
   "source": [
    "for c, authors in tqdm(author_components.items()):\n",
    "    output_dir = os.path.join('example_figures', str(c))\n",
    "    component_df = get_papers(df, authors)\n",
    "    create_wordcloud(df        = component_df, \n",
    "                     col       = 'clean_title_abstract', \n",
    "                     n         = 30, \n",
    "                     save_path = os.path.join(output_dir, f'wordcloud_{c}.png'),\n",
    "                     figsize   = (6,6))"
   ]
  },
  {
   "cell_type": "code",
   "execution_count": null,
   "metadata": {},
   "outputs": [],
   "source": []
  }
 ],
 "metadata": {
  "kernelspec": {
   "display_name": "TELF",
   "language": "python",
   "name": "python3"
  },
  "language_info": {
   "codemirror_mode": {
    "name": "ipython",
    "version": 3
   },
   "file_extension": ".py",
   "mimetype": "text/x-python",
   "name": "python",
   "nbconvert_exporter": "python",
   "pygments_lexer": "ipython3",
   "version": "3.11.10"
  }
 },
 "nbformat": 4,
 "nbformat_minor": 2
}
