{
 "cells": [
  {
   "cell_type": "markdown",
   "metadata": {},
   "source": [
    "# Libraries"
   ]
  },
  {
   "cell_type": "code",
   "execution_count": 1,
   "metadata": {},
   "outputs": [],
   "source": [
    "import os\n",
    "os.environ[\"OMP_NUM_THREADS\"] = \"1\" # export OMP_NUM_THREADS=1\n",
    "os.environ[\"OPENBLAS_NUM_THREADS\"] = \"1\" # export OPENBLAS_NUM_THREADS=1\n",
    "os.environ[\"MKL_NUM_THREADS\"] = \"1\" # export MKL_NUM_THREADS=1\n",
    "os.environ[\"VECLIB_MAXIMUM_THREADS\"] = \"1\" # export VECLIB_MAXIMUM_THREADS=1\n",
    "os.environ[\"NUMEXPR_NUM_THREADS\"] = \"1\" # export NUMEXPR_NUM_THREADS=1\n",
    "os.environ[\"TOKENIZERS_PARALLELISM\"] = \"False\" # export NUMEXPR_NUM_THREADS=1"
   ]
  },
  {
   "cell_type": "code",
   "execution_count": 2,
   "metadata": {},
   "outputs": [
    {
     "data": {
      "text/plain": [
       "'0.0.40'"
      ]
     },
     "execution_count": 2,
     "metadata": {},
     "output_type": "execute_result"
    }
   ],
   "source": [
    "import TELF;TELF.__version__"
   ]
  },
  {
   "cell_type": "code",
   "execution_count": 4,
   "metadata": {},
   "outputs": [],
   "source": [
    "import pandas as pd\n",
    "from IPython.display import Image"
   ]
  },
  {
   "cell_type": "code",
   "execution_count": 5,
   "metadata": {},
   "outputs": [],
   "source": [
    "from TELF.pre_processing import Vulture\n",
    "from TELF.pre_processing.Vulture.modules import SimpleCleaner\n",
    "from TELF.pre_processing.Vulture.modules import LemmatizeCleaner\n",
    "from TELF.pre_processing.Vulture.modules import RemoveNonEnglishCleaner\n",
    "from TELF.pre_processing.Vulture.default_stop_words import STOP_WORDS\n",
    "from TELF.pre_processing.Vulture.default_stop_phrases import STOP_PHRASES"
   ]
  },
  {
   "cell_type": "code",
   "execution_count": 6,
   "metadata": {},
   "outputs": [],
   "source": [
    "from TELF.factorization import NMFk"
   ]
  },
  {
   "cell_type": "code",
   "execution_count": 7,
   "metadata": {},
   "outputs": [],
   "source": [
    "from TELF.pre_processing import Beaver"
   ]
  },
  {
   "cell_type": "code",
   "execution_count": 8,
   "metadata": {},
   "outputs": [],
   "source": [
    "from TELF.post_processing import Fox"
   ]
  },
  {
   "cell_type": "markdown",
   "metadata": {},
   "source": [
    "# Load Data"
   ]
  },
  {
   "cell_type": "code",
   "execution_count": 9,
   "metadata": {},
   "outputs": [
    {
     "name": "stdout",
     "output_type": "stream",
     "text": [
      "<class 'pandas.core.frame.DataFrame'>\n",
      "RangeIndex: 50 entries, 0 to 49\n",
      "Data columns (total 19 columns):\n",
      " #   Column            Non-Null Count  Dtype  \n",
      "---  ------            --------------  -----  \n",
      " 0   eid               50 non-null     object \n",
      " 1   s2id              50 non-null     object \n",
      " 2   doi               50 non-null     object \n",
      " 3   title             50 non-null     object \n",
      " 4   abstract          50 non-null     object \n",
      " 5   year              50 non-null     int64  \n",
      " 6   authors           50 non-null     object \n",
      " 7   author_ids        50 non-null     object \n",
      " 8   affiliations      50 non-null     object \n",
      " 9   funding           5 non-null      object \n",
      " 10  PACs              8 non-null      object \n",
      " 11  publication_name  50 non-null     object \n",
      " 12  subject_areas     50 non-null     object \n",
      " 13  s2_authors        50 non-null     object \n",
      " 14  s2_author_ids     50 non-null     object \n",
      " 15  citations         45 non-null     object \n",
      " 16  references        38 non-null     object \n",
      " 17  num_citations     50 non-null     int64  \n",
      " 18  num_references    50 non-null     float64\n",
      "dtypes: float64(1), int64(2), object(16)\n",
      "memory usage: 7.6+ KB\n"
     ]
    }
   ],
   "source": [
    "df_path = os.path.join(\"..\", \"..\", \"data\", \"sample2.csv\")\n",
    "df = pd.read_csv(df_path)\n",
    "df = df.dropna(subset=['title', 'abstract'])\n",
    "df = df.head(50).reset_index(drop=True)\n",
    "df.info()"
   ]
  },
  {
   "cell_type": "markdown",
   "metadata": {},
   "source": []
  },
  {
   "cell_type": "markdown",
   "metadata": {},
   "source": [
    "# Clean Text"
   ]
  },
  {
   "cell_type": "code",
   "execution_count": 10,
   "metadata": {},
   "outputs": [],
   "source": [
    "# Define a sequential list of text cleaning steps to preprocess documents\n",
    "steps = [\n",
    "\n",
    "    # Step 1: Filter out non-English or low-quality text\n",
    "    RemoveNonEnglishCleaner(\n",
    "        ascii_ratio=0.9,           # At least 90% of characters must be ASCII\n",
    "        stopwords_ratio=0.25       # At least 25% of tokens must be stopwords (a proxy for English text)\n",
    "    ),\n",
    "\n",
    "    # Step 2: Apply a series of cleaning rules in a defined order\n",
    "    SimpleCleaner(\n",
    "        stop_words=STOP_WORDS,            # Custom list of stop words to remove\n",
    "        stop_phrases=STOP_PHRASES,        # Phrases to eliminate (e.g., boilerplate)\n",
    "        order=[\n",
    "            'standardize_hyphens',        # Normalize hyphens and dashes\n",
    "            'isolate_frozen',             # Flag frozen phrases (optional domain-specific handling)\n",
    "            'remove_copyright_statement', # Remove common copyright/license headers\n",
    "            'remove_stop_phrases',        # Remove specific, known non-informative phrases\n",
    "            'make_lower_case',            # Convert text to lowercase\n",
    "            'remove_formulas',            # Remove formula-like tokens (e.g., math expressions)\n",
    "            'normalize',                  # Normalize unicode, spacing, and punctuation\n",
    "            'remove_next_line',           # Flatten newlines\n",
    "            'remove_email',               # Remove email addresses\n",
    "            'remove_()',                  # Remove parentheses and content inside\n",
    "            'remove_[]',                  # Remove brackets and content inside\n",
    "            'remove_special_characters',  # Remove symbols and non-alphanumeric characters\n",
    "            'remove_nonASCII_boundary',   # Remove non-ASCII characters at text boundaries\n",
    "            'remove_nonASCII',            # Remove all non-ASCII characters\n",
    "            'remove_tags',                # Remove HTML/XML-style tags\n",
    "            'remove_stop_words',          # Remove stop words using provided list\n",
    "            'remove_standalone_numbers',  # Remove numeric tokens not part of words\n",
    "            'remove_extra_whitespace',    # Normalize spacing\n",
    "            'min_characters',             # Discard text blocks below a minimum character length\n",
    "        ]\n",
    "    ),\n",
    "\n",
    "    # Step 3: Lemmatization using spaCy\n",
    "    LemmatizeCleaner('spacy')  # Converts words to their base form (e.g., \"running\" → \"run\")\n",
    "]\n"
   ]
  },
  {
   "cell_type": "code",
   "execution_count": 11,
   "metadata": {},
   "outputs": [
    {
     "name": "stderr",
     "output_type": "stream",
     "text": [
      "[Vulture]: Cleaning 50 documents\n",
      "  0%|          | 0/1 [00:00<?, ?it/s][Vulture]: Running SimpleCleaner module\n",
      "100%|██████████| 50/50 [00:00<00:00, 314.35it/s]\n",
      "100%|██████████| 1/1 [00:00<00:00,  6.11it/s]\n"
     ]
    }
   ],
   "source": [
    "# Set the output directory and path to save the cleaned DataFrame\n",
    "RESULTS = \"result_example\"\n",
    "os.makedirs(RESULTS, exist_ok=True)  # Create the directory if it doesn't already exist\n",
    "df_clean_path = os.path.join(RESULTS, 'clean_df.csv')  # Path to save the cleaned CSV\n",
    "\n",
    "# Initialize the Vulture text cleaner\n",
    "vulture = Vulture(\n",
    "    n_jobs=1,      # Run cleaning sequentially (set >1 to parallelize across CPUs)\n",
    "    verbose=10     # Verbosity level for detailed logging\n",
    ")\n",
    "\n",
    "# Clean the 'title' and 'abstract' columns in the DataFrame\n",
    "df = vulture.clean_dataframe(\n",
    "    df=df,                                 # Input DataFrame\n",
    "    columns=[\"title\", \"abstract\"],         # Columns to clean\n",
    "    append_to_original_df=True,            # Keep original columns in the output\n",
    "    concat_cleaned_cols=True               # Combine cleaned 'title' and 'abstract' into a single column\n",
    ")\n",
    "\n",
    "df.to_csv(df_clean_path, index=False)\n"
   ]
  },
  {
   "cell_type": "markdown",
   "metadata": {},
   "source": [
    "# Build The Vocabulary and the Document-Term Matrix"
   ]
  },
  {
   "cell_type": "code",
   "execution_count": 12,
   "metadata": {},
   "outputs": [],
   "source": [
    "# Column containing the text data to process (e.g., cleaned title + abstract)\n",
    "DATA_COLUMN = 'clean_title_abstract'\n",
    "\n",
    "# Keywords to emphasize when vectorizing documents\n",
    "HIGHLIGHT_WORDS = ['tensor', 'cybersecurity', 'malware', 'analysis']\n",
    "\n",
    "# Corresponding weights to apply to the highlight words (increase their importance)\n",
    "HIGHLIGHT_WEIGHTS = [2 for i in HIGHLIGHT_WORDS]  # Uniform weight of 2 for each word\n",
    "\n",
    "# Initialize Beaver, a utility class for document preprocessing and vectorization\n",
    "beaver = Beaver()\n",
    "\n",
    "# Ensure that the RESULTS directory exists for saving outputs\n",
    "os.makedirs(RESULTS, exist_ok=True)\n",
    "\n",
    "# Settings to pass to Beaver for TF-IDF matrix generation\n",
    "settings = {\n",
    "    \"dataset\": df,                         # Full DataFrame containing the documents\n",
    "    \"target_column\": DATA_COLUMN,          # Column name where document text is located\n",
    "    \"highlighting\": HIGHLIGHT_WORDS,       # Words to emphasize in the matrix\n",
    "    \"weights\": HIGHLIGHT_WEIGHTS,          # Associated emphasis weights\n",
    "    \"matrix_type\": \"tfidf\",                # Type of document-term matrix to generate\n",
    "    \"save_path\": RESULTS                   # Path to optionally save results (if used internally by Beaver)\n",
    "}\n",
    "\n",
    "# Generate the document-word matrix (X) and vocabulary\n",
    "X, vocabulary = beaver.documents_words(**settings)\n",
    "\n",
    "# Transpose matrix to shape [documents x terms] and convert to efficient sparse row format\n",
    "X = X.T.tocsr()\n"
   ]
  },
  {
   "cell_type": "markdown",
   "metadata": {},
   "source": [
    "# Factorize with NMFk"
   ]
  },
  {
   "cell_type": "code",
   "execution_count": 13,
   "metadata": {},
   "outputs": [
    {
     "name": "stdout",
     "output_type": "stream",
     "text": [
      "n_perturbs: 2\n",
      "perturb_type: uniform\n",
      "n_iters: 250\n",
      "epsilon: 0.015\n",
      "init: nnsvd\n",
      "save_path: result_example\n",
      "save_output: True\n",
      "use_gpu: False\n",
      "verbose: True\n",
      "nmf_verbose: False\n",
      "perturb_verbose: False\n",
      "transpose: False\n",
      "collect_output: True\n",
      "sill_thresh: 0.8\n",
      "predict_k: True\n",
      "predict_k_method: WH_sill\n",
      "n_jobs: 192\n",
      "n_nodes: 1\n",
      "nmf: <function nmf at 0x70140aa0f420>\n",
      "nmf_method: nmf_fro_mu\n",
      "nmf_obj_params: {}\n",
      "clustering_obj_params: {}\n",
      "pruned: True\n",
      "calculate_error: True\n",
      "consensus_mat: False\n",
      "use_consensus_stopping: 0\n",
      "mask: None\n",
      "calculate_pac: False\n",
      "simple_plot: False\n",
      "get_plot_data: False\n",
      "perturb_multiprocessing: False\n",
      "k_search_method: bst_pre\n",
      "H_sill_thresh: 0.1\n",
      "factor_thresholding: None\n",
      "factor_thresholding_H_regression: None\n",
      "factor_thresholding_obj_params: {}\n",
      "factor_thresholding_H_regression_obj_params: {}\n",
      "clustering_method: kmeans\n",
      "device: [-1]\n",
      "lock: <unlocked _thread.lock object at 0x70170196e880>\n",
      "K_search_settings: {'lock': <unlocked _thread.lock object at 0x7013fb45e400>, 'k_search_method': 'bst_pre', 'sill_thresh': 0.8, 'H_sill_thresh': 0.1, 'k_min': -1, 'k_max': inf}\n",
      "total_exec_seconds: 0\n",
      "experiment_name: \n",
      "thresholding_function: None\n",
      "nmf_params: {'niter': 250, 'use_gpu': False, 'nmf_verbose': False, 'mask': None, 'use_consensus_stopping': 0}\n"
     ]
    }
   ],
   "source": [
    "# Define parameters for the NMFk experiment\n",
    "params = {\n",
    "    \"n_perturbs\": 2,                  # Number of perturbations to test stability\n",
    "    \"n_iters\": 250,                     # Iterations per perturbation\n",
    "    \"epsilon\": 0.015,                 # Perturbation strength\n",
    "    \"n_jobs\": -1,                     # Use all CPU cores\n",
    "    \"init\": \"nnsvd\",                  # Initialization method for NMF\n",
    "    \"use_gpu\": False,                 # Use GPU (if available)\n",
    "    \"save_path\": RESULTS,            # Base directory to save outputs\n",
    "    \"save_output\": True,             # Save model outputs\n",
    "    \"collect_output\": True,          # Collect outputs in memory\n",
    "    \"predict_k_method\": \"sill\",      # Use silhouette score to choose k\n",
    "    \"verbose\": True,                 # Print progress\n",
    "    \"nmf_verbose\": False,            # Print internal NMF logs\n",
    "    \"transpose\": False,              # Whether to transpose input matrix\n",
    "    \"sill_thresh\": .8,               # Minimum silhouette threshold to accept k\n",
    "    \"pruned\": True,                  # Prune low-quality or unstable clusters\n",
    "    \"nmf_method\": \"nmf_fro_mu\",      # NMF solver: Frobenius norm, multiplicative updates\n",
    "    \"calculate_error\": True,         # Compute reconstruction error\n",
    "    \"predict_k\": True,               # Automatically predict k\n",
    "    \"use_consensus_stopping\": 0,     # Not using consensus-based early stopping\n",
    "    \"calculate_pac\": False,          # Don't compute PAC score\n",
    "    \"consensus_mat\": False,          # Don’t save consensus matrix\n",
    "    \"perturb_type\": \"uniform\",       # Type of noise in perturbation\n",
    "    \"perturb_multiprocessing\": False,# Don’t parallelize perturbation (for simplicity/debugging)\n",
    "    \"perturb_verbose\": False,        # Suppress perturbation-specific output\n",
    "    \"simple_plot\": False,            # Disable simple plot generation\n",
    "    \"k_search_method\": \"bst_pre\",    # Use binary search with pre-checks to find k\n",
    "    \"H_sill_thresh\": 0.1,            # Threshold for silhouette over H matrix (for pruning)\n",
    "    \"clustering_method\": \"kmeans\",   # Clustering method used on factor matrix\n",
    "    \"device\": -1,                    # -1 = use CPU only\n",
    "}\n",
    "\n",
    "# Define the range of k (number of clusters/topics) to explore\n",
    "Ks = range(1, 10, 1)  # Try k=1 through k=20\n",
    "\n",
    "# Metadata for experiment tracking\n",
    "name = \"Example_NMFk\"\n",
    "note = \"This is an example run of NMFk\"\n",
    "\n",
    "# Instantiate the NMFk model with parameters\n",
    "model = NMFk(**params)"
   ]
  },
  {
   "cell_type": "code",
   "execution_count": 14,
   "metadata": {},
   "outputs": [
    {
     "name": "stdout",
     "output_type": "stream",
     "text": [
      "Performing K search with bst_pre. Ks=[5, 3, 2, 1, 4, 8, 7, 6, 9]\n"
     ]
    },
    {
     "name": "stderr",
     "output_type": "stream",
     "text": [
      "  0%|          | 0/9 [00:00<?, ?it/s]/home/barron/miniconda3/envs/dev_artic_fox/lib/python3.11/site-packages/numpy/core/fromnumeric.py:3504: RuntimeWarning: Mean of empty slice.\n",
      "  return _methods._mean(a, axis=axis, dtype=dtype,\n",
      "/home/barron/miniconda3/envs/dev_artic_fox/lib/python3.11/site-packages/numpy/core/_methods.py:129: RuntimeWarning: invalid value encountered in scalar divide\n",
      "  ret = ret.dtype.type(ret / rcount)\n",
      "100%|██████████| 9/9 [00:01<00:00,  5.80it/s]\n"
     ]
    },
    {
     "name": "stdout",
     "output_type": "stream",
     "text": [
      "CPU times: user 2.07 s, sys: 697 ms, total: 2.77 s\n",
      "Wall time: 1.84 s\n"
     ]
    }
   ],
   "source": [
    "%time results = model.fit(X, Ks, name, note)"
   ]
  },
  {
   "cell_type": "code",
   "execution_count": 15,
   "metadata": {},
   "outputs": [
    {
     "data": {
      "image/png": "[encoded data removed]",
      "text/plain": [
       "<IPython.core.display.Image object>"
      ]
     },
     "execution_count": 15,
     "metadata": {},
     "output_type": "execute_result"
    }
   ],
   "source": [
    "# Display the final plot that compares clustering results for all k\n",
    "Image(filename=os.path.join(f'{model.save_path_full}', f\"FINAL_k={min(Ks)}-{max(Ks)}.png\")) "
   ]
  },
  {
   "cell_type": "markdown",
   "metadata": {},
   "source": [
    "# Post-process"
   ]
  },
  {
   "cell_type": "markdown",
   "metadata": {},
   "source": [
    "### Structure directories from hidden topics"
   ]
  },
  {
   "cell_type": "code",
   "execution_count": 16,
   "metadata": {},
   "outputs": [],
   "source": [
    "# Initialize Fox instance\n",
    "fox = Fox(\n",
    "    summary_model=\"gpt-3.5-turbo-instruct\",  # LLM used to generate summaries/labels\n",
    "    verbose=False,                           # Suppress standard output\n",
    "    debug=True                               # Enable debug logging for inspection\n",
    ")\n"
   ]
  },
  {
   "cell_type": "code",
   "execution_count": 17,
   "metadata": {},
   "outputs": [
    {
     "name": "stderr",
     "output_type": "stream",
     "text": [
      "100%|██████████| 9/9 [00:00<00:00, 25216.26it/s]\n",
      "100%|██████████| 50/50 [00:00<00:00, 161443.57it/s]\n",
      "100%|██████████| 2/2 [00:00<00:00, 22310.13it/s]\n",
      "100%|██████████| 2/2 [00:00<00:00, 26132.74it/s]\n",
      "100%|██████████| 3/3 [00:00<00:00, 35746.91it/s]\n",
      "100%|██████████| 3/3 [00:00<00:00, 32768.00it/s]\n",
      "100%|██████████| 4/4 [00:00<00:00, 44034.69it/s]\n",
      "100%|██████████| 4/4 [00:00<00:00, 38746.46it/s]\n",
      "100%|██████████| 5/5 [00:00<00:00, 13609.03it/s]\n",
      "100%|██████████| 5/5 [00:00<00:00, 14227.63it/s]\n",
      "100%|██████████| 5/5 [00:00<00:00, 44620.26it/s]\n",
      "100%|██████████| 5/5 [00:00<00:00, 38980.52it/s]\n",
      "100%|██████████| 5/5 [00:00<00:00, 14122.24it/s]\n",
      "100%|██████████| 5/5 [00:00<00:00, 11143.21it/s]\n",
      "100%|██████████| 7/7 [00:00<00:00, 20574.72it/s]\n",
      "100%|██████████| 7/7 [00:00<00:00, 16691.37it/s]\n",
      "100%|██████████| 6/6 [00:00<00:00, 19050.59it/s]\n",
      "100%|██████████| 6/6 [00:00<00:00, 15524.88it/s]\n",
      "100%|██████████| 13/13 [00:00<00:00, 16112.87it/s]\n",
      "100%|██████████| 13/13 [00:00<00:00, 13028.90it/s]\n"
     ]
    }
   ],
   "source": [
    "# Run post-processing using the predicted k from the NMFk results\n",
    "post_processed_df_path = fox.post_process(\n",
    "    npz_path=os.path.join(\n",
    "        model.save_path_full,                     # Path to saved decomposition results\n",
    "        f\"WH_k={results['k_predict']}.npz\"        # Dynamically select the correct .npz file based on predicted k\n",
    "    ),\n",
    "    vocabulary_path=os.path.join(RESULTS, 'Vocabulary.txt'),  # Path to the vocabulary file used during training\n",
    "    src_decomp_data_path=df_clean_path,                       # Path to the original cleaned input data (CSV/Feather)\n",
    "    output_dir=\"EXAMPLE_OUT\"                                  # Output directory for labeled and summarized results\n",
    ")\n"
   ]
  },
  {
   "cell_type": "markdown",
   "metadata": {},
   "source": [
    "### Labels and Summaries"
   ]
  },
  {
   "cell_type": "code",
   "execution_count": 18,
   "metadata": {},
   "outputs": [
    {
     "name": "stdout",
     "output_type": "stream",
     "text": [
      "Found OPENAI_API_KEY environment variable\n"
     ]
    }
   ],
   "source": [
    "if \"OPENAI_API_KEY\" in os.environ:\n",
    "    print(\"Found OPENAI_API_KEY environment variable\")\n",
    "    API_KEY = os.environ[\"OPENAI_API_KEY\"]\n",
    "else:\n",
    "    print(\"Variable does not exist. Export SemanticScholar API key on your environment using the variable name OPENAI_API_KEY.\")\n",
    "    API_KEY = \"\""
   ]
  },
  {
   "cell_type": "code",
   "execution_count": 19,
   "metadata": {},
   "outputs": [
    {
     "name": "stderr",
     "output_type": "stream",
     "text": [
      "100%|██████████| 50/50 [00:35<00:00,  1.41it/s]\n",
      "100%|██████████| 9/9 [00:41<00:00,  4.56s/it]\n",
      " 11%|█         | 1/9 [00:02<00:16,  2.02s/it]"
     ]
    },
    {
     "name": "stdout",
     "output_type": "stream",
     "text": [
      "Cluster 0 distances and annotations: [(0.18456358, 'Cybersecurity Analysis And Robustness'), (0.2027961, 'Enhancing Cybersecurity'), (0.20153612, 'Cybersecurity Analysis')]\n"
     ]
    },
    {
     "name": "stderr",
     "output_type": "stream",
     "text": [
      " 22%|██▏       | 2/9 [00:02<00:09,  1.35s/it]"
     ]
    },
    {
     "name": "stdout",
     "output_type": "stream",
     "text": [
      "Cluster 1 distances and annotations: [(0.11954218, 'Privacypreserving Machine Learning'), (0.21021253, 'Privacypreserving Segmentation'), (0.11580336, 'Privacy Protection In Machine Learning')]\n"
     ]
    },
    {
     "name": "stderr",
     "output_type": "stream",
     "text": [
      " 33%|███▎      | 3/9 [00:03<00:06,  1.13s/it]"
     ]
    },
    {
     "name": "stdout",
     "output_type": "stream",
     "text": [
      "Cluster 2 distances and annotations: [(0.14253306, 'Explainable Ai Trust'), (0.1673544, 'Explainable Ai'), (0.16724288, 'Trust In Ai')]\n"
     ]
    },
    {
     "name": "stderr",
     "output_type": "stream",
     "text": [
      " 44%|████▍     | 4/9 [00:05<00:06,  1.27s/it]"
     ]
    },
    {
     "name": "stdout",
     "output_type": "stream",
     "text": [
      "Cluster 3 distances and annotations: [(0.27618837, 'Topic Modeling Tool'), (0.2491616, 'Topic Modeling Toolkit'), (0.26815844, 'Literature Topics')]\n"
     ]
    },
    {
     "name": "stderr",
     "output_type": "stream",
     "text": [
      " 56%|█████▌    | 5/9 [00:05<00:04,  1.05s/it]"
     ]
    },
    {
     "name": "stdout",
     "output_type": "stream",
     "text": [
      "Cluster 4 distances and annotations: [(0.19058603, 'Enhancing Cybersecurity'), (0.19058603, 'Enhancing Cybersecurity')]\n"
     ]
    },
    {
     "name": "stderr",
     "output_type": "stream",
     "text": [
      " 67%|██████▋   | 6/9 [00:06<00:02,  1.00it/s]"
     ]
    },
    {
     "name": "stdout",
     "output_type": "stream",
     "text": [
      "Cluster 5 distances and annotations: [(0.14050901, 'Anomaly Detection In Power Grids'), (0.15210277, 'Grid Anomaly Detection'), (0.16710937, 'Power Grid Anomalies')]\n"
     ]
    },
    {
     "name": "stderr",
     "output_type": "stream",
     "text": [
      " 78%|███████▊  | 7/9 [00:07<00:01,  1.03it/s]"
     ]
    },
    {
     "name": "stdout",
     "output_type": "stream",
     "text": [
      "Cluster 6 distances and annotations: [(0.14956528, 'Efficient Gpu Scaling'), (0.1743697, 'Optimized Parallel Computing'), (0.18850976, 'Memory Optimization Strategy')]\n"
     ]
    },
    {
     "name": "stderr",
     "output_type": "stream",
     "text": [
      " 89%|████████▉ | 8/9 [00:08<00:00,  1.06it/s]"
     ]
    },
    {
     "name": "stdout",
     "output_type": "stream",
     "text": [
      "Cluster 7 distances and annotations: [(0.15036249, 'Topic Modeling And Analysis'), (0.14566207, 'Topic Modeling And Clustering'), (0.20532262, 'Text Analysis Theme')]\n"
     ]
    },
    {
     "name": "stderr",
     "output_type": "stream",
     "text": [
      "100%|██████████| 9/9 [00:09<00:00,  1.06s/it]"
     ]
    },
    {
     "name": "stdout",
     "output_type": "stream",
     "text": [
      "Cluster 8 distances and annotations: [(0.23859286, 'Cyber Security Solutions'), (0.22077733, 'Modern Cybersecurity'), (0.21809554, 'Cyber Security Threats')]\n"
     ]
    },
    {
     "name": "stderr",
     "output_type": "stream",
     "text": [
      "\n"
     ]
    }
   ],
   "source": [
    "if API_KEY:\n",
    "    # Set your OpenAI API key for use with the Fox pipeline\n",
    "    # This is optional if you've already passed it during instantiation or set OPENAI_API_KEY in your environment\n",
    "    fox.setApiKey(API_KEY)\n",
    "\n",
    "    # Generate summaries and labels using OpenAI (e.g., GPT-3.5/4) based on cluster decomposition results\n",
    "    fox.makeSummariesAndLabelsOpenAi(\n",
    "        processing_path=post_processed_df_path  # Path to the processed df containing cluster data\n",
    "    )"
   ]
  },
  {
   "cell_type": "code",
   "execution_count": 20,
   "metadata": {},
   "outputs": [
    {
     "data": {
      "text/plain": [
       "cluster\n",
       "8    13\n",
       "6     7\n",
       "7     6\n",
       "5     5\n",
       "4     5\n",
       "3     5\n",
       "2     4\n",
       "1     3\n",
       "0     2\n",
       "Name: count, dtype: int64"
      ]
     },
     "execution_count": 20,
     "metadata": {},
     "output_type": "execute_result"
    }
   ],
   "source": [
    "df = pd.read_csv(post_processed_df_path)\n",
    "df.cluster.value_counts()"
   ]
  },
  {
   "cell_type": "markdown",
   "metadata": {},
   "source": [
    "###  Statistics "
   ]
  },
  {
   "cell_type": "code",
   "execution_count": 21,
   "metadata": {},
   "outputs": [
    {
     "name": "stderr",
     "output_type": "stream",
     "text": [
      "100%|██████████| 9/9 [00:00<00:00, 2096.10it/s]\n",
      "100%|██████████| 9/9 [00:10<00:00,  1.19s/it]\n",
      "100%|██████████| 9/9 [00:42<00:00,  4.75s/it]\n",
      "100%|██████████| 9/9 [00:43<00:00,  4.88s/it]\n"
     ]
    }
   ],
   "source": [
    "# Generate and attach additional statistics to each cluster result\n",
    "fox.post_process_stats(\n",
    "    processing_path=post_processed_df_path   # Path to the processed df containing cluster data\n",
    ")"
   ]
  },
  {
   "cell_type": "code",
   "execution_count": 22,
   "metadata": {},
   "outputs": [
    {
     "name": "stdout",
     "output_type": "stream",
     "text": [
      "[OK] Renamed 0 → 0-Cybersecurity_Analysis_And_Rob_2-documents\n",
      "[OK] Renamed 1 → 1-Privacy_Protection_In_Machine__3-documents\n",
      "[OK] Renamed 2 → 2-Explainable_Ai_Trust_4-documents\n",
      "[OK] Renamed 3 → 3-Topic_Modeling_Toolkit_5-documents\n",
      "[OK] Renamed 4 → 4-Enhancing_Cybersecurity_5-documents\n",
      "[OK] Renamed 5 → 5-Anomaly_Detection_In_Power_Gri_5-documents\n",
      "[OK] Renamed 6 → 6-Efficient_Gpu_Scaling_7-documents\n",
      "[OK] Renamed 7 → 7-Topic_Modeling_And_Clustering_6-documents\n",
      "[OK] Renamed 8 → 8-Cyber_Security_Threats_13-documents\n"
     ]
    }
   ],
   "source": [
    "# rename the directories, uincluding document counts\n",
    "fox.rename_cluster_dirs_from_stats(processing_path=post_processed_df_path)"
   ]
  },
  {
   "cell_type": "code",
   "execution_count": null,
   "metadata": {},
   "outputs": [],
   "source": []
  }
 ],
 "metadata": {
  "kernelspec": {
   "display_name": "dev_artic_fox",
   "language": "python",
   "name": "python3"
  },
  "language_info": {
   "codemirror_mode": {
    "name": "ipython",
    "version": 3
   },
   "file_extension": ".py",
   "mimetype": "text/x-python",
   "name": "python",
   "nbconvert_exporter": "python",
   "pygments_lexer": "ipython3",
   "version": "3.11.10"
  }
 },
 "nbformat": 4,
 "nbformat_minor": 2
}
