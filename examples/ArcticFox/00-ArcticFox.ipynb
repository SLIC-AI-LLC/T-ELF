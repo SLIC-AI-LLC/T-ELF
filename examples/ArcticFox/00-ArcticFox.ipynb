{
 "cells": [
  {
   "cell_type": "markdown",
   "metadata": {},
   "source": [
    "# Libraries"
   ]
  },
  {
   "cell_type": "code",
   "execution_count": 1,
   "metadata": {},
   "outputs": [],
   "source": [
    "import numpy as np\n",
    "import scipy.sparse as ss\n",
    "import pickle\n",
    "import pandas as pd\n",
    "import os "
   ]
  },
  {
   "cell_type": "code",
   "execution_count": 2,
   "metadata": {},
   "outputs": [],
   "source": [
    "from TELF.pre_processing import Vulture\n",
    "from TELF.pre_processing.Vulture.modules import SimpleCleaner\n",
    "from TELF.pre_processing.Vulture.modules import LemmatizeCleaner\n",
    "from TELF.pre_processing.Vulture.modules import RemoveNonEnglishCleaner\n",
    "from TELF.pre_processing.Vulture.default_stop_words import STOP_WORDS\n",
    "from TELF.pre_processing.Vulture.default_stop_phrases import STOP_PHRASES"
   ]
  },
  {
   "cell_type": "code",
   "execution_count": 3,
   "metadata": {},
   "outputs": [],
   "source": [
    "from TELF.factorization.HNMFk import HNMFk"
   ]
  },
  {
   "cell_type": "code",
   "execution_count": 4,
   "metadata": {},
   "outputs": [],
   "source": [
    "from TELF.pre_processing import Beaver"
   ]
  },
  {
   "cell_type": "code",
   "execution_count": 5,
   "metadata": {},
   "outputs": [
    {
     "name": "stderr",
     "output_type": "stream",
     "text": [
      "/Users/maksim/miniconda3/envs/TELF/lib/python3.11/site-packages/tqdm/auto.py:21: TqdmWarning: IProgress not found. Please update jupyter and ipywidgets. See https://ipywidgets.readthedocs.io/en/stable/user_install.html\n",
      "  from .autonotebook import tqdm as notebook_tqdm\n"
     ]
    }
   ],
   "source": [
    "from TELF.post_processing import ArcticFox"
   ]
  },
  {
   "cell_type": "markdown",
   "metadata": {},
   "source": [
    "# Load Data"
   ]
  },
  {
   "cell_type": "code",
   "execution_count": 6,
   "metadata": {},
   "outputs": [
    {
     "name": "stdout",
     "output_type": "stream",
     "text": [
      "<class 'pandas.core.frame.DataFrame'>\n",
      "RangeIndex: 235 entries, 0 to 234\n",
      "Data columns (total 19 columns):\n",
      " #   Column            Non-Null Count  Dtype  \n",
      "---  ------            --------------  -----  \n",
      " 0   eid               235 non-null    object \n",
      " 1   s2id              230 non-null    object \n",
      " 2   doi               235 non-null    object \n",
      " 3   title             235 non-null    object \n",
      " 4   abstract          232 non-null    object \n",
      " 5   year              235 non-null    int64  \n",
      " 6   authors           235 non-null    object \n",
      " 7   author_ids        235 non-null    object \n",
      " 8   affiliations      235 non-null    object \n",
      " 9   funding           109 non-null    object \n",
      " 10  PACs              95 non-null     object \n",
      " 11  publication_name  235 non-null    object \n",
      " 12  subject_areas     235 non-null    object \n",
      " 13  s2_authors        230 non-null    object \n",
      " 14  s2_author_ids     230 non-null    object \n",
      " 15  citations         201 non-null    object \n",
      " 16  references        191 non-null    object \n",
      " 17  num_citations     235 non-null    int64  \n",
      " 18  num_references    230 non-null    float64\n",
      "dtypes: float64(1), int64(2), object(16)\n",
      "memory usage: 35.0+ KB\n"
     ]
    }
   ],
   "source": [
    "df = pd.read_csv(os.path.join(\"..\", \"..\", \"data\", \"sample2.csv\"))\n",
    "df.info()"
   ]
  },
  {
   "cell_type": "markdown",
   "metadata": {},
   "source": [
    "# Clean Text"
   ]
  },
  {
   "cell_type": "code",
   "execution_count": 7,
   "metadata": {},
   "outputs": [],
   "source": [
    "steps = [\n",
    "    RemoveNonEnglishCleaner(ascii_ratio=0.9, stopwords_ratio=0.25),\n",
    "    SimpleCleaner(stop_words = STOP_WORDS,\n",
    "                  stop_phrases = STOP_PHRASES,\n",
    "                  order = [\n",
    "                      'standardize_hyphens',\n",
    "                      'isolate_frozen',\n",
    "                      'remove_copyright_statement',\n",
    "                      'remove_stop_phrases',\n",
    "                      'make_lower_case',\n",
    "                      'remove_formulas',\n",
    "                      'normalize',\n",
    "                      'remove_next_line',\n",
    "                      'remove_email',\n",
    "                      'remove_()',\n",
    "                      'remove_[]',\n",
    "                      'remove_special_characters',\n",
    "                      'remove_nonASCII_boundary',\n",
    "                      'remove_nonASCII',\n",
    "                      'remove_tags',\n",
    "                      'remove_stop_words',\n",
    "                      'remove_standalone_numbers',\n",
    "                      'remove_extra_whitespace',\n",
    "                      'min_characters',\n",
    "                  ]\n",
    "                 ),\n",
    "    LemmatizeCleaner('spacy'),\n",
    "]"
   ]
  },
  {
   "cell_type": "code",
   "execution_count": 8,
   "metadata": {},
   "outputs": [
    {
     "name": "stderr",
     "output_type": "stream",
     "text": [
      "[Vulture]: Cleaning 235 documents\n",
      "  0%|          | 0/1 [00:00<?, ?it/s][Vulture]: Running SimpleCleaner module\n",
      "100%|██████████| 235/235 [00:00<00:00, 389.36it/s]\n",
      "100%|██████████| 1/1 [00:00<00:00,  1.65it/s]\n",
      "/Users/maksim/Desktop/Code/telf_internal/TELF/pre_processing/Vulture/vulture.py:264: FutureWarning: A value is trying to be set on a copy of a DataFrame or Series through chained assignment using an inplace method.\n",
      "The behavior will change in pandas 3.0. This inplace method will never work because the intermediate object on which we are setting values always behaves as a copy.\n",
      "\n",
      "For example, when doing 'df[col].method(value, inplace=True)', try using 'df.method({col: value}, inplace=True)' or df[col] = df[col].method(value) instead, to perform the operation inplace on the original object.\n",
      "\n",
      "\n",
      "  df[col].replace('', np.nan, inplace=True)  # set null entries to None\n"
     ]
    }
   ],
   "source": [
    "vulture = Vulture(n_jobs=1, verbose=10)\n",
    "df = vulture.clean_dataframe(df=df, \n",
    "                        columns=[\"abstract\", \"title\"],\n",
    "                        append_to_original_df=True,\n",
    "                        concat_cleaned_cols=True\n",
    "                        )"
   ]
  },
  {
   "cell_type": "code",
   "execution_count": 9,
   "metadata": {},
   "outputs": [
    {
     "data": {
      "text/plain": [
       "0      vulnerabilities pose threat cybersecurity kern...\n",
       "1      cybersecurity frameworks nist guidelines risk ...\n",
       "2      bias-variance tradeoff determines models abili...\n",
       "3      efficient distributed implementation truncated...\n",
       "4      autoencoders dimensionality reduction anomaly ...\n",
       "                             ...                        \n",
       "230    transfer learning models generalize leveraging...\n",
       "231    explainable ai xai enhances trust ai models ma...\n",
       "232    differential privacy ensures machine learning ...\n",
       "233    recurrent neural networks sequential speech te...\n",
       "234    transfer learning pre-trained models fine-tune...\n",
       "Name: clean_abstract_title, Length: 235, dtype: object"
      ]
     },
     "execution_count": 9,
     "metadata": {},
     "output_type": "execute_result"
    }
   ],
   "source": [
    "df.clean_abstract_title"
   ]
  },
  {
   "cell_type": "markdown",
   "metadata": {},
   "source": [
    "# Build The Vocabulary and the Document-Term Matrix"
   ]
  },
  {
   "cell_type": "code",
   "execution_count": 10,
   "metadata": {},
   "outputs": [],
   "source": [
    "DATA_COLUMN = 'clean_abstract_title'\n",
    "RESULTS = \"result_example\"\n",
    "HIGHLIGHT_WORDS = ['analysis', 'tensor']\n",
    "HIGHLIGHT_WEIGHTS = [2 for i in HIGHLIGHT_WORDS]\n",
    "beaver = Beaver()\n",
    "os.makedirs(RESULTS, exist_ok=True)\n",
    "settings = {\n",
    "    \"dataset\" : df,\n",
    "    \"target_column\" : DATA_COLUMN,\n",
    "    'highlighting': HIGHLIGHT_WORDS,\n",
    "    'weights':HIGHLIGHT_WEIGHTS,\n",
    "    \"matrix_type\" : \"tfidf\",\n",
    "    \"save_path\" : RESULTS\n",
    "}\n",
    "X, vocabulary = beaver.documents_words(**settings)"
   ]
  },
  {
   "cell_type": "code",
   "execution_count": 11,
   "metadata": {},
   "outputs": [
    {
     "data": {
      "text/plain": [
       "<Compressed Sparse Row sparse matrix of dtype 'float32'\n",
       "\twith 25047 stored elements and shape (696, 235)>"
      ]
     },
     "execution_count": 11,
     "metadata": {},
     "output_type": "execute_result"
    }
   ],
   "source": [
    "X = X.T.tocsr()\n",
    "X"
   ]
  },
  {
   "cell_type": "code",
   "execution_count": 12,
   "metadata": {},
   "outputs": [],
   "source": [
    "assert X.shape[1] == len(df)"
   ]
  },
  {
   "cell_type": "code",
   "execution_count": 13,
   "metadata": {},
   "outputs": [
    {
     "data": {
      "text/plain": [
       "array(['128pb', '1e', '1tb', '32x', '76x', 'ability', 'abstaining',\n",
       "       'accelerated', 'accuracy', 'accurate'], dtype=object)"
      ]
     },
     "execution_count": 13,
     "metadata": {},
     "output_type": "execute_result"
    }
   ],
   "source": [
    "vocabulary[:10]"
   ]
  },
  {
   "cell_type": "code",
   "execution_count": 14,
   "metadata": {},
   "outputs": [
    {
     "data": {
      "text/plain": [
       "696"
      ]
     },
     "execution_count": 14,
     "metadata": {},
     "output_type": "execute_result"
    }
   ],
   "source": [
    "len(vocabulary)"
   ]
  },
  {
   "cell_type": "markdown",
   "metadata": {},
   "source": [
    "# Factorize with HNMFk"
   ]
  },
  {
   "cell_type": "code",
   "execution_count": 15,
   "metadata": {},
   "outputs": [],
   "source": [
    "# Define the range of cluster numbers (K) to search over\n",
    "Ks = np.arange(2, 30, 1)  # From 2 to 29 inclusive\n",
    "\n",
    "# Number of perturbations and iterations to run\n",
    "perts = 2  # Number of perturbed runs to estimate stability\n",
    "iters = 2  # Number of iterations for each perturbation\n",
    "\n",
    "# Small perturbation epsilon added to input data\n",
    "eps = 0.025\n",
    "\n",
    "# Initialization method for NMF (Non-negative Matrix Factorization)\n",
    "init = \"nnsvd\"  # Nonnegative SVD initialization\n",
    "\n",
    "# Path to save HNMFk results\n",
    "HNMFK_save_path = os.path.join(RESULTS, \"example_HNMFK\")\n",
    "name = HNMFK_save_path  # Alias for convenience\n",
    "\n",
    "# Parameters for HNMFk (Hierarchical Nonnegative Matrix Factorization k-search)\n",
    "nmfk_params = {\n",
    "    \"k_search_method\": \"bst_pre\",             # Method for determining optimal k (e.g., binary search with pre-checks)\n",
    "    \"sill_thresh\": 0.7,                       # Silhouette threshold to accept a given k\n",
    "    \"H_sill_thresh\": 0.05,                    # Threshold for H-matrix silhouette to refine k selection\n",
    "    \"n_perturbs\": perts,                      # Number of perturbations\n",
    "    \"n_iters\": iters,                         # Number of iterations per perturbation\n",
    "    \"epsilon\": eps,                           # Perturbation strength\n",
    "    \"n_jobs\": -1,                             # Use all available CPU cores\n",
    "    \"init\": init,                             # NMF initialization method\n",
    "    \"use_gpu\": False,                         # Whether to use GPU acceleration\n",
    "    \"save_path\": HNMFK_save_path,             # Directory where results will be saved\n",
    "    \"predict_k_method\": \"WH_sill\",            # Method to predict k using W and H matrix silhouettes\n",
    "    \"predict_k\": True,                        # Whether to automatically predict k\n",
    "    \"verbose\": False,                          # Verbose output\n",
    "    \"nmf_verbose\": False,                     # Verbose output from NMF algorithm\n",
    "    \"transpose\": False,                       # Whether to transpose input data\n",
    "    \"pruned\": True,                           # Whether to prune unstable clusters\n",
    "    \"nmf_method\": \"nmf_fro_mu\",               # NMF solver method (Frobenius norm, multiplicative updates)\n",
    "    \"calculate_error\": False,                 # Whether to calculate reconstruction error\n",
    "    \"use_consensus_stopping\": 0,              # Whether to use consensus stopping (0 = off)\n",
    "    \"calculate_pac\": False,                   # Whether to compute PAC (proportion of ambiguous clustering)\n",
    "    \"consensus_mat\": False,                   # Whether to generate consensus matrix\n",
    "    \"perturb_type\": \"uniform\",                # Type of perturbation (e.g., uniform noise)\n",
    "    \"perturb_multiprocessing\": False,         # Use multiprocessing during perturbation\n",
    "    \"perturb_verbose\": False,                 # Verbose output during perturbation\n",
    "    \"simple_plot\": True                       # Whether to generate simplified summary plots\n",
    "}\n"
   ]
  },
  {
   "cell_type": "code",
   "execution_count": 16,
   "metadata": {},
   "outputs": [],
   "source": [
    "class CustomSemanticCallback:\n",
    "    def __init__(self, \n",
    "                 df: pd.DataFrame, \n",
    "                 target_column=DATA_COLUMN,\n",
    "                 options={'vocabulary': vocabulary},\n",
    "                 matrix_type=\"tfidf\") -> None:\n",
    "        \"\"\"\n",
    "        Initializes the callback with a DataFrame and matrix generation settings.\n",
    "\n",
    "        Parameters:\n",
    "        - df: The full DataFrame containing the text data.\n",
    "        - target_column: Column name containing the target text to vectorize (default is a global DATA_COLUMN).\n",
    "        - options: Options dictionary passed to Beaver (e.g., fixed vocabulary, token settings).\n",
    "        - matrix_type: Type of vectorization matrix (e.g., \"tfidf\", \"count\").\n",
    "        \"\"\"\n",
    "        self.df = df\n",
    "        self.target_column = target_column\n",
    "        self.options = options\n",
    "        self.matrix_type = matrix_type\n",
    "\n",
    "    def __call__(self, original_indices: np.ndarray):\n",
    "        \"\"\"\n",
    "        Callable interface for dynamically generating document-term matrices \n",
    "        from a subset of the DataFrame.\n",
    "\n",
    "        Parameters:\n",
    "        - original_indices: Numpy array of row indices from self.df to subset and transform.\n",
    "\n",
    "        Returns:\n",
    "        - Tuple of (X, metadata), where:\n",
    "            - X is a document-term sparse matrix (CSR format).\n",
    "            - metadata is a dict containing either 'vocab' or a 'stop_reason' if failed.\n",
    "        \"\"\"\n",
    "        current_beaver = Beaver()  # Initialize a new instance of the Beaver text vectorizer\n",
    "\n",
    "        # Extract the subset of the DataFrame using the provided indices\n",
    "        current_df = self.df.iloc[original_indices].copy()\n",
    "\n",
    "        # Construct parameters for the Beaver vectorizer\n",
    "        current_beaver_matrix_settings = {\n",
    "            \"dataset\": current_df,\n",
    "            \"target_column\": self.target_column,\n",
    "            \"options\": self.options,\n",
    "            \"highlighting\": HIGHLIGHT_WORDS,     # Global list of words to highlight\n",
    "            \"weights\": HIGHLIGHT_WEIGHTS,        # Associated weights for highlighting\n",
    "            \"matrix_type\": self.matrix_type,     # Type of matrix to construct (e.g., TF-IDF)\n",
    "            \"save_path\": None                    # No file output; matrix is returned\n",
    "        }\n",
    "\n",
    "        try:\n",
    "            # Attempt to generate the document-word matrix\n",
    "            current_X, vocab = current_beaver.documents_words(**current_beaver_matrix_settings)\n",
    "            \n",
    "            # Transpose to get documents as rows (CSR format is efficient for row slicing)\n",
    "            current_X = current_X.T.tocsr()\n",
    "            \n",
    "            return current_X, {'vocab': vocab}\n",
    "\n",
    "        except:\n",
    "            # On failure, return a 1x1 matrix to signal a stopping condition for downstream tasks\n",
    "            csr_matrix = ss.csr_matrix([[1]])\n",
    "            return csr_matrix, {'stop_reason': \"documents_words couldn't make matrix\"}"
   ]
  },
  {
   "cell_type": "code",
   "execution_count": 17,
   "metadata": {},
   "outputs": [
    {
     "name": "stderr",
     "output_type": "stream",
     "text": [
      "/Users/maksim/miniconda3/envs/TELF/lib/python3.11/site-packages/numpy/_core/fromnumeric.py:3596: RuntimeWarning: Mean of empty slice.\n",
      "  return _methods._mean(a, axis=axis, dtype=dtype,\n",
      "/Users/maksim/miniconda3/envs/TELF/lib/python3.11/site-packages/numpy/_core/_methods.py:138: RuntimeWarning: invalid value encountered in scalar divide\n",
      "  ret = ret.dtype.type(ret / rcount)\n"
     ]
    },
    {
     "name": "stdout",
     "output_type": "stream",
     "text": [
      "Done\n",
      "103\n"
     ]
    }
   ],
   "source": [
    "# Parameters for initializing and training the HNMFk model\n",
    "hnmfk_params = {\n",
    "    \"n_nodes\": 1,  # Number of root nodes to begin with (can grow as depth increases)\n",
    "    \n",
    "    # List of NMF parameters for the top-level (depth=0); can use different sets for different nodes\n",
    "    \"nmfk_params\": [nmfk_params],  \n",
    "    \n",
    "    # Callable that generates a document-term matrix from a subset of the DataFrame (dynamic input for each node)\n",
    "    \"generate_X_callback\": CustomSemanticCallback(df=df, options={'vocabulary': vocabulary}),\n",
    "    \n",
    "    \"cluster_on\": \"H\",  # Which factor matrix to use for clustering (H = document-topic)\n",
    "    \n",
    "    \"depth\": 2,  # Depth of the hierarchy; e.g., 2 means root + one layer of children\n",
    "    \n",
    "    \"sample_thresh\": 3,  # Minimum number of samples required to split/cluster a node further\n",
    "    \n",
    "    \"K2\": False,  # If True, forces all subclusters to use k=2; here we allow varying k\n",
    "    \n",
    "    # Range of K to try for deeper layers (children nodes)\n",
    "    \"Ks_deep_min\": 1,\n",
    "    \"Ks_deep_max\": 30,\n",
    "    \"Ks_deep_step\": 1,\n",
    "    \n",
    "    \"experiment_name\": name,  # Folder/identifier for saving results and checkpoints\n",
    "}\n",
    "\n",
    "# Instantiate the HNMFk model with the above parameters\n",
    "model = HNMFk(**hnmfk_params)\n",
    "\n",
    "# Fit the model on matrix X using the specified range of Ks\n",
    "# - from_checkpoint: load previously saved progress if available\n",
    "# - save_checkpoint: periodically save progress for recovery or inspection\n",
    "model.fit(X, Ks, from_checkpoint=False, save_checkpoint=True)\n",
    "\n",
    "# Traverse and collect all nodes created in the hierarchical model\n",
    "all_nodes = model.traverse_nodes()\n",
    "print(len(all_nodes))  # Output the total number of nodes (clusters at all levels)\n",
    "\n",
    "# Save the full trained model to a pickle file for reuse or inspection\n",
    "with open(os.path.join('result_example', 'HNMFK_highlight.pkl'), 'wb') as output_file:\n",
    "    pickle.dump(model, output_file)\n"
   ]
  },
  {
   "cell_type": "markdown",
   "metadata": {},
   "source": [
    "# Post-process with Arctic Fox"
   ]
  },
  {
   "cell_type": "code",
   "execution_count": 18,
   "metadata": {},
   "outputs": [
    {
     "name": "stdout",
     "output_type": "stream",
     "text": [
      "Loading saved object state from checkpoint...\n",
      "Step 1: Post-processing W/H matrix and cluster data...\n"
     ]
    },
    {
     "name": "stderr",
     "output_type": "stream",
     "text": [
      "100%|██████████| 1/1 [00:00<00:00, 7194.35it/s]\n",
      "100%|██████████| 2/2 [00:00<00:00, 27869.13it/s]\n"
     ]
    },
    {
     "name": "stdout",
     "output_type": "stream",
     "text": [
      "Warning: 'cluster_coordinates' column missing. Skipping assignment.\n"
     ]
    },
    {
     "name": "stderr",
     "output_type": "stream",
     "text": [
      "100%|██████████| 2/2 [00:00<00:00, 31300.78it/s]\n",
      "100%|██████████| 2/2 [00:00<00:00, 38479.85it/s]\n",
      "100%|██████████| 1/1 [00:00<00:00, 17848.10it/s]\n",
      "100%|██████████| 3/3 [00:00<00:00, 32513.98it/s]\n"
     ]
    },
    {
     "name": "stdout",
     "output_type": "stream",
     "text": [
      "Warning: 'cluster_coordinates' column missing. Skipping assignment.\n"
     ]
    },
    {
     "name": "stderr",
     "output_type": "stream",
     "text": [
      "100%|██████████| 3/3 [00:00<00:00, 41665.27it/s]\n",
      "100%|██████████| 3/3 [00:00<00:00, 38836.15it/s]\n",
      "100%|██████████| 1/1 [00:00<00:00, 15887.52it/s]\n",
      "100%|██████████| 2/2 [00:00<00:00, 32768.00it/s]\n"
     ]
    },
    {
     "name": "stdout",
     "output_type": "stream",
     "text": [
      "Warning: 'cluster_coordinates' column missing. Skipping assignment.\n"
     ]
    },
    {
     "name": "stderr",
     "output_type": "stream",
     "text": [
      "100%|██████████| 2/2 [00:00<00:00, 35246.25it/s]\n",
      "100%|██████████| 2/2 [00:00<00:00, 39945.75it/s]\n",
      "100%|██████████| 1/1 [00:00<00:00, 16131.94it/s]\n",
      "100%|██████████| 1/1 [00:00<00:00, 17848.10it/s]\n"
     ]
    },
    {
     "name": "stdout",
     "output_type": "stream",
     "text": [
      "Warning: 'cluster_coordinates' column missing. Skipping assignment.\n"
     ]
    },
    {
     "name": "stderr",
     "output_type": "stream",
     "text": [
      "100%|██████████| 1/1 [00:00<00:00, 30393.51it/s]\n",
      "100%|██████████| 1/1 [00:00<00:00, 26886.56it/s]\n",
      "100%|██████████| 1/1 [00:00<00:00, 10512.04it/s]\n",
      "100%|██████████| 1/1 [00:00<00:00, 21620.12it/s]\n"
     ]
    },
    {
     "name": "stdout",
     "output_type": "stream",
     "text": [
      "Warning: 'cluster_coordinates' column missing. Skipping assignment.\n"
     ]
    },
    {
     "name": "stderr",
     "output_type": "stream",
     "text": [
      "100%|██████████| 1/1 [00:00<00:00, 29330.80it/s]\n",
      "100%|██████████| 1/1 [00:00<00:00, 43240.25it/s]\n",
      "100%|██████████| 1/1 [00:00<00:00, 17189.77it/s]\n",
      "100%|██████████| 2/2 [00:00<00:00, 39945.75it/s]\n"
     ]
    },
    {
     "name": "stdout",
     "output_type": "stream",
     "text": [
      "Warning: 'cluster_coordinates' column missing. Skipping assignment.\n"
     ]
    },
    {
     "name": "stderr",
     "output_type": "stream",
     "text": [
      "100%|██████████| 2/2 [00:00<00:00, 34952.53it/s]\n",
      "100%|██████████| 2/2 [00:00<00:00, 35696.20it/s]\n",
      "100%|██████████| 3/3 [00:00<00:00, 17647.84it/s]\n",
      "100%|██████████| 4/4 [00:00<00:00, 48210.39it/s]\n"
     ]
    },
    {
     "name": "stdout",
     "output_type": "stream",
     "text": [
      "Warning: 'cluster_coordinates' column missing. Skipping assignment.\n"
     ]
    },
    {
     "name": "stderr",
     "output_type": "stream",
     "text": [
      "100%|██████████| 1/1 [00:00<00:00, 25575.02it/s]\n",
      "100%|██████████| 1/1 [00:00<00:00, 22795.13it/s]\n",
      "100%|██████████| 1/1 [00:00<00:00, 45590.26it/s]\n",
      "100%|██████████| 1/1 [00:00<00:00, 41527.76it/s]\n",
      "100%|██████████| 2/2 [00:00<00:00, 46603.38it/s]\n",
      "100%|██████████| 2/2 [00:00<00:00, 45343.83it/s]\n",
      "100%|██████████| 1/1 [00:00<00:00, 16710.37it/s]\n",
      "100%|██████████| 2/2 [00:00<00:00, 32768.00it/s]\n"
     ]
    },
    {
     "name": "stdout",
     "output_type": "stream",
     "text": [
      "Warning: 'cluster_coordinates' column missing. Skipping assignment.\n"
     ]
    },
    {
     "name": "stderr",
     "output_type": "stream",
     "text": [
      "100%|██████████| 2/2 [00:00<00:00, 34521.02it/s]\n",
      "100%|██████████| 2/2 [00:00<00:00, 37117.73it/s]\n",
      "100%|██████████| 1/1 [00:00<00:00, 13842.59it/s]\n",
      "100%|██████████| 1/1 [00:00<00:00, 22192.08it/s]\n"
     ]
    },
    {
     "name": "stdout",
     "output_type": "stream",
     "text": [
      "Warning: 'cluster_coordinates' column missing. Skipping assignment.\n"
     ]
    },
    {
     "name": "stderr",
     "output_type": "stream",
     "text": [
      "100%|██████████| 1/1 [00:00<00:00, 22310.13it/s]\n",
      "100%|██████████| 1/1 [00:00<00:00, 22671.91it/s]\n",
      "100%|██████████| 1/1 [00:00<00:00, 13315.25it/s]\n",
      "100%|██████████| 1/1 [00:00<00:00, 16320.25it/s]\n"
     ]
    },
    {
     "name": "stdout",
     "output_type": "stream",
     "text": [
      "Warning: 'cluster_coordinates' column missing. Skipping assignment.\n"
     ]
    },
    {
     "name": "stderr",
     "output_type": "stream",
     "text": [
      "100%|██████████| 1/1 [00:00<00:00, 24385.49it/s]\n",
      "100%|██████████| 1/1 [00:00<00:00, 25575.02it/s]\n",
      "100%|██████████| 1/1 [00:00<00:00, 9532.51it/s]\n",
      "100%|██████████| 2/2 [00:00<00:00, 23301.69it/s]\n"
     ]
    },
    {
     "name": "stdout",
     "output_type": "stream",
     "text": [
      "Warning: 'cluster_coordinates' column missing. Skipping assignment.\n"
     ]
    },
    {
     "name": "stderr",
     "output_type": "stream",
     "text": [
      "100%|██████████| 2/2 [00:00<00:00, 31775.03it/s]\n",
      "100%|██████████| 2/2 [00:00<00:00, 26296.58it/s]\n",
      "100%|██████████| 3/3 [00:00<00:00, 33825.03it/s]\n",
      "100%|██████████| 4/4 [00:00<00:00, 64776.90it/s]\n"
     ]
    },
    {
     "name": "stdout",
     "output_type": "stream",
     "text": [
      "Warning: 'cluster_coordinates' column missing. Skipping assignment.\n"
     ]
    },
    {
     "name": "stderr",
     "output_type": "stream",
     "text": [
      "100%|██████████| 1/1 [00:00<00:00, 22192.08it/s]\n",
      "100%|██████████| 1/1 [00:00<00:00, 22192.08it/s]\n",
      "100%|██████████| 1/1 [00:00<00:00, 32263.88it/s]\n",
      "100%|██████████| 1/1 [00:00<00:00, 33288.13it/s]\n",
      "100%|██████████| 2/2 [00:00<00:00, 39199.10it/s]\n",
      "100%|██████████| 2/2 [00:00<00:00, 34379.54it/s]\n",
      "100%|██████████| 1/1 [00:00<00:00, 12633.45it/s]\n",
      "100%|██████████| 3/3 [00:00<00:00, 39444.87it/s]\n"
     ]
    },
    {
     "name": "stdout",
     "output_type": "stream",
     "text": [
      "Warning: 'cluster_coordinates' column missing. Skipping assignment.\n"
     ]
    },
    {
     "name": "stderr",
     "output_type": "stream",
     "text": [
      "100%|██████████| 3/3 [00:00<00:00, 36578.23it/s]\n",
      "100%|██████████| 3/3 [00:00<00:00, 16754.88it/s]\n",
      "100%|██████████| 1/1 [00:00<00:00, 11491.24it/s]\n",
      "100%|██████████| 3/3 [00:00<00:00, 41120.63it/s]\n"
     ]
    },
    {
     "name": "stdout",
     "output_type": "stream",
     "text": [
      "Warning: 'cluster_coordinates' column missing. Skipping assignment.\n"
     ]
    },
    {
     "name": "stderr",
     "output_type": "stream",
     "text": [
      "100%|██████████| 3/3 [00:00<00:00, 46091.25it/s]\n",
      "100%|██████████| 3/3 [00:00<00:00, 41665.27it/s]\n",
      "100%|██████████| 1/1 [00:00<00:00, 10010.27it/s]\n",
      "100%|██████████| 1/1 [00:00<00:00, 19239.93it/s]\n"
     ]
    },
    {
     "name": "stdout",
     "output_type": "stream",
     "text": [
      "Warning: 'cluster_coordinates' column missing. Skipping assignment.\n"
     ]
    },
    {
     "name": "stderr",
     "output_type": "stream",
     "text": [
      "100%|██████████| 1/1 [00:00<00:00, 28532.68it/s]\n",
      "100%|██████████| 1/1 [00:00<00:00, 27594.11it/s]\n",
      "100%|██████████| 1/1 [00:00<00:00, 13315.25it/s]\n",
      "100%|██████████| 1/1 [00:00<00:00, 17924.38it/s]\n"
     ]
    },
    {
     "name": "stdout",
     "output_type": "stream",
     "text": [
      "Warning: 'cluster_coordinates' column missing. Skipping assignment.\n"
     ]
    },
    {
     "name": "stderr",
     "output_type": "stream",
     "text": [
      "100%|██████████| 1/1 [00:00<00:00, 17189.77it/s]\n",
      "100%|██████████| 1/1 [00:00<00:00, 20360.70it/s]\n",
      "100%|██████████| 1/1 [00:00<00:00, 16644.06it/s]\n",
      "100%|██████████| 2/2 [00:00<00:00, 33825.03it/s]\n"
     ]
    },
    {
     "name": "stdout",
     "output_type": "stream",
     "text": [
      "Warning: 'cluster_coordinates' column missing. Skipping assignment.\n"
     ]
    },
    {
     "name": "stderr",
     "output_type": "stream",
     "text": [
      "100%|██████████| 2/2 [00:00<00:00, 36314.32it/s]\n",
      "100%|██████████| 2/2 [00:00<00:00, 40920.04it/s]\n",
      "100%|██████████| 3/3 [00:00<00:00, 27235.74it/s]\n",
      "100%|██████████| 4/4 [00:00<00:00, 52593.15it/s]\n"
     ]
    },
    {
     "name": "stdout",
     "output_type": "stream",
     "text": [
      "Warning: 'cluster_coordinates' column missing. Skipping assignment.\n"
     ]
    },
    {
     "name": "stderr",
     "output_type": "stream",
     "text": [
      "100%|██████████| 1/1 [00:00<00:00, 21290.88it/s]\n",
      "100%|██████████| 1/1 [00:00<00:00, 29330.80it/s]\n",
      "100%|██████████| 1/1 [00:00<00:00, 19152.07it/s]\n",
      "100%|██████████| 1/1 [00:00<00:00, 15887.52it/s]\n",
      "100%|██████████| 2/2 [00:00<00:00, 40721.40it/s]\n",
      "100%|██████████| 2/2 [00:00<00:00, 37786.52it/s]\n",
      "100%|██████████| 1/1 [00:00<00:00, 15887.52it/s]\n",
      "100%|██████████| 1/1 [00:00<00:00, 10866.07it/s]\n"
     ]
    },
    {
     "name": "stdout",
     "output_type": "stream",
     "text": [
      "Warning: 'cluster_coordinates' column missing. Skipping assignment.\n"
     ]
    },
    {
     "name": "stderr",
     "output_type": "stream",
     "text": [
      "100%|██████████| 1/1 [00:00<00:00, 15420.24it/s]\n",
      "100%|██████████| 1/1 [00:00<00:00, 22671.91it/s]\n",
      "100%|██████████| 1/1 [00:00<00:00, 8128.50it/s]\n",
      "100%|██████████| 3/3 [00:00<00:00, 42799.02it/s]\n"
     ]
    },
    {
     "name": "stdout",
     "output_type": "stream",
     "text": [
      "Warning: 'cluster_coordinates' column missing. Skipping assignment.\n"
     ]
    },
    {
     "name": "stderr",
     "output_type": "stream",
     "text": [
      "100%|██████████| 3/3 [00:00<00:00, 41120.63it/s]\n",
      "100%|██████████| 3/3 [00:00<00:00, 37117.73it/s]\n",
      "100%|██████████| 1/1 [00:00<00:00, 17476.27it/s]\n",
      "100%|██████████| 1/1 [00:00<00:00, 18808.54it/s]\n"
     ]
    },
    {
     "name": "stdout",
     "output_type": "stream",
     "text": [
      "Warning: 'cluster_coordinates' column missing. Skipping assignment.\n"
     ]
    },
    {
     "name": "stderr",
     "output_type": "stream",
     "text": [
      "100%|██████████| 1/1 [00:00<00:00, 19878.22it/s]\n",
      "100%|██████████| 1/1 [00:00<00:00, 18477.11it/s]\n",
      "100%|██████████| 1/1 [00:00<00:00, 11491.24it/s]\n",
      "100%|██████████| 1/1 [00:00<00:00, 18893.26it/s]\n"
     ]
    },
    {
     "name": "stdout",
     "output_type": "stream",
     "text": [
      "Warning: 'cluster_coordinates' column missing. Skipping assignment.\n"
     ]
    },
    {
     "name": "stderr",
     "output_type": "stream",
     "text": [
      "100%|██████████| 1/1 [00:00<00:00, 29537.35it/s]\n",
      "100%|██████████| 1/1 [00:00<00:00, 30174.85it/s]\n",
      "100%|██████████| 1/1 [00:00<00:00, 11214.72it/s]\n",
      "100%|██████████| 1/1 [00:00<00:00, 14122.24it/s]\n"
     ]
    },
    {
     "name": "stdout",
     "output_type": "stream",
     "text": [
      "Warning: 'cluster_coordinates' column missing. Skipping assignment.\n"
     ]
    },
    {
     "name": "stderr",
     "output_type": "stream",
     "text": [
      "100%|██████████| 1/1 [00:00<00:00, 25575.02it/s]\n",
      "100%|██████████| 1/1 [00:00<00:00, 25115.59it/s]\n",
      "100%|██████████| 1/1 [00:00<00:00, 9822.73it/s]\n",
      "100%|██████████| 2/2 [00:00<00:00, 34663.67it/s]\n"
     ]
    },
    {
     "name": "stdout",
     "output_type": "stream",
     "text": [
      "Warning: 'cluster_coordinates' column missing. Skipping assignment.\n"
     ]
    },
    {
     "name": "stderr",
     "output_type": "stream",
     "text": [
      "100%|██████████| 2/2 [00:00<00:00, 23763.76it/s]\n",
      "100%|██████████| 2/2 [00:00<00:00, 29026.33it/s]\n",
      "100%|██████████| 4/4 [00:00<00:00, 33893.37it/s]\n",
      "100%|██████████| 5/5 [00:00<00:00, 31823.25it/s]\n"
     ]
    },
    {
     "name": "stdout",
     "output_type": "stream",
     "text": [
      "Warning: 'cluster_coordinates' column missing. Skipping assignment.\n"
     ]
    },
    {
     "name": "stderr",
     "output_type": "stream",
     "text": [
      "100%|██████████| 1/1 [00:00<00:00, 22671.91it/s]\n",
      "100%|██████████| 1/1 [00:00<00:00, 26379.27it/s]\n",
      "100%|██████████| 1/1 [00:00<00:00, 35544.95it/s]\n",
      "100%|██████████| 1/1 [00:00<00:00, 24966.10it/s]\n",
      "100%|██████████| 1/1 [00:00<00:00, 20867.18it/s]\n",
      "100%|██████████| 1/1 [00:00<00:00, 19239.93it/s]\n",
      "100%|██████████| 2/2 [00:00<00:00, 35696.20it/s]\n",
      "100%|██████████| 2/2 [00:00<00:00, 24456.58it/s]\n",
      "100%|██████████| 1/1 [00:00<00:00, 6853.44it/s]\n",
      "100%|██████████| 2/2 [00:00<00:00, 37786.52it/s]\n"
     ]
    },
    {
     "name": "stdout",
     "output_type": "stream",
     "text": [
      "Warning: 'cluster_coordinates' column missing. Skipping assignment.\n"
     ]
    },
    {
     "name": "stderr",
     "output_type": "stream",
     "text": [
      "100%|██████████| 2/2 [00:00<00:00, 37117.73it/s]\n",
      "100%|██████████| 2/2 [00:00<00:00, 47662.55it/s]\n",
      "100%|██████████| 1/1 [00:00<00:00, 9510.89it/s]\n",
      "100%|██████████| 3/3 [00:00<00:00, 45590.26it/s]\n"
     ]
    },
    {
     "name": "stdout",
     "output_type": "stream",
     "text": [
      "Warning: 'cluster_coordinates' column missing. Skipping assignment.\n"
     ]
    },
    {
     "name": "stderr",
     "output_type": "stream",
     "text": [
      "100%|██████████| 3/3 [00:00<00:00, 34007.87it/s]\n",
      "100%|██████████| 3/3 [00:00<00:00, 36261.99it/s]\n",
      "100%|██████████| 1/1 [00:00<00:00, 16912.52it/s]\n",
      "100%|██████████| 1/1 [00:00<00:00, 19599.55it/s]\n"
     ]
    },
    {
     "name": "stdout",
     "output_type": "stream",
     "text": [
      "Warning: 'cluster_coordinates' column missing. Skipping assignment.\n"
     ]
    },
    {
     "name": "stderr",
     "output_type": "stream",
     "text": [
      "100%|██████████| 1/1 [00:00<00:00, 20460.02it/s]\n",
      "100%|██████████| 1/1 [00:00<00:00, 17924.38it/s]\n",
      "100%|██████████| 1/1 [00:00<00:00, 12826.62it/s]\n",
      "100%|██████████| 1/1 [00:00<00:00, 18893.26it/s]\n"
     ]
    },
    {
     "name": "stdout",
     "output_type": "stream",
     "text": [
      "Warning: 'cluster_coordinates' column missing. Skipping assignment.\n"
     ]
    },
    {
     "name": "stderr",
     "output_type": "stream",
     "text": [
      "100%|██████████| 1/1 [00:00<00:00, 25731.93it/s]\n",
      "100%|██████████| 1/1 [00:00<00:00, 28532.68it/s]\n",
      "100%|██████████| 1/1 [00:00<00:00, 16131.94it/s]\n",
      "100%|██████████| 2/2 [00:00<00:00, 33288.13it/s]\n"
     ]
    },
    {
     "name": "stdout",
     "output_type": "stream",
     "text": [
      "Warning: 'cluster_coordinates' column missing. Skipping assignment.\n"
     ]
    },
    {
     "name": "stderr",
     "output_type": "stream",
     "text": [
      "100%|██████████| 2/2 [00:00<00:00, 35098.78it/s]\n",
      "100%|██████████| 2/2 [00:00<00:00, 25575.02it/s]\n",
      "100%|██████████| 3/3 [00:00<00:00, 36578.23it/s]\n",
      "100%|██████████| 4/4 [00:00<00:00, 26504.29it/s]\n"
     ]
    },
    {
     "name": "stdout",
     "output_type": "stream",
     "text": [
      "Warning: 'cluster_coordinates' column missing. Skipping assignment.\n"
     ]
    },
    {
     "name": "stderr",
     "output_type": "stream",
     "text": [
      "100%|██████████| 1/1 [00:00<00:00, 19878.22it/s]\n",
      "100%|██████████| 1/1 [00:00<00:00, 22192.08it/s]\n",
      "100%|██████████| 1/1 [00:00<00:00, 27962.03it/s]\n",
      "100%|██████████| 1/1 [00:00<00:00, 26379.27it/s]\n",
      "100%|██████████| 2/2 [00:00<00:00, 32896.50it/s]\n",
      "100%|██████████| 2/2 [00:00<00:00, 39199.10it/s]\n",
      "100%|██████████| 1/1 [00:00<00:00, 13706.88it/s]\n",
      "100%|██████████| 1/1 [00:00<00:00, 27060.03it/s]\n"
     ]
    },
    {
     "name": "stdout",
     "output_type": "stream",
     "text": [
      "Warning: 'cluster_coordinates' column missing. Skipping assignment.\n"
     ]
    },
    {
     "name": "stderr",
     "output_type": "stream",
     "text": [
      "100%|██████████| 1/1 [00:00<00:00, 13706.88it/s]\n",
      "100%|██████████| 1/1 [00:00<00:00, 18157.16it/s]\n",
      "100%|██████████| 1/1 [00:00<00:00, 20460.02it/s]\n",
      "100%|██████████| 1/1 [00:00<00:00, 25731.93it/s]\n"
     ]
    },
    {
     "name": "stdout",
     "output_type": "stream",
     "text": [
      "Warning: 'cluster_coordinates' column missing. Skipping assignment.\n"
     ]
    },
    {
     "name": "stderr",
     "output_type": "stream",
     "text": [
      "100%|██████████| 1/1 [00:00<00:00, 16710.37it/s]\n",
      "100%|██████████| 1/1 [00:00<00:00, 26379.27it/s]\n",
      "100%|██████████| 1/1 [00:00<00:00, 16710.37it/s]\n",
      "100%|██████████| 1/1 [00:00<00:00, 23301.69it/s]\n"
     ]
    },
    {
     "name": "stdout",
     "output_type": "stream",
     "text": [
      "Warning: 'cluster_coordinates' column missing. Skipping assignment.\n"
     ]
    },
    {
     "name": "stderr",
     "output_type": "stream",
     "text": [
      "100%|██████████| 1/1 [00:00<00:00, 17848.10it/s]\n",
      "100%|██████████| 1/1 [00:00<00:00, 19972.88it/s]\n",
      "100%|██████████| 1/1 [00:00<00:00, 17260.51it/s]\n",
      "100%|██████████| 1/1 [00:00<00:00, 22919.69it/s]\n"
     ]
    },
    {
     "name": "stdout",
     "output_type": "stream",
     "text": [
      "Warning: 'cluster_coordinates' column missing. Skipping assignment.\n"
     ]
    },
    {
     "name": "stderr",
     "output_type": "stream",
     "text": [
      "100%|██████████| 1/1 [00:00<00:00, 21732.15it/s]\n",
      "100%|██████████| 1/1 [00:00<00:00, 23831.27it/s]\n",
      "100%|██████████| 1/1 [00:00<00:00, 18893.26it/s]\n",
      "100%|██████████| 2/2 [00:00<00:00, 36314.32it/s]\n"
     ]
    },
    {
     "name": "stdout",
     "output_type": "stream",
     "text": [
      "Warning: 'cluster_coordinates' column missing. Skipping assignment.\n"
     ]
    },
    {
     "name": "stderr",
     "output_type": "stream",
     "text": [
      "100%|██████████| 2/2 [00:00<00:00, 29433.71it/s]\n",
      "100%|██████████| 2/2 [00:00<00:00, 35246.25it/s]\n",
      "100%|██████████| 5/5 [00:00<00:00, 46707.17it/s]\n",
      "100%|██████████| 6/6 [00:00<00:00, 66576.25it/s]\n"
     ]
    },
    {
     "name": "stdout",
     "output_type": "stream",
     "text": [
      "Warning: 'cluster_coordinates' column missing. Skipping assignment.\n"
     ]
    },
    {
     "name": "stderr",
     "output_type": "stream",
     "text": [
      "100%|██████████| 1/1 [00:00<00:00, 17623.13it/s]\n",
      "100%|██████████| 1/1 [00:00<00:00, 23172.95it/s]\n",
      "100%|██████████| 1/1 [00:00<00:00, 30393.51it/s]\n",
      "100%|██████████| 1/1 [00:00<00:00, 22192.08it/s]\n",
      "100%|██████████| 1/1 [00:00<00:00, 21399.51it/s]\n",
      "100%|██████████| 1/1 [00:00<00:00, 17848.10it/s]\n",
      "100%|██████████| 1/1 [00:00<00:00, 20867.18it/s]\n",
      "100%|██████████| 1/1 [00:00<00:00, 16131.94it/s]\n",
      "100%|██████████| 2/2 [00:00<00:00, 39199.10it/s]\n",
      "100%|██████████| 2/2 [00:00<00:00, 35696.20it/s]\n",
      "100%|██████████| 1/1 [00:00<00:00, 16644.06it/s]\n",
      "100%|██████████| 1/1 [00:00<00:00, 18157.16it/s]\n"
     ]
    },
    {
     "name": "stdout",
     "output_type": "stream",
     "text": [
      "Warning: 'cluster_coordinates' column missing. Skipping assignment.\n"
     ]
    },
    {
     "name": "stderr",
     "output_type": "stream",
     "text": [
      "100%|██████████| 1/1 [00:00<00:00, 21732.15it/s]\n",
      "100%|██████████| 1/1 [00:00<00:00, 22795.13it/s]\n",
      "100%|██████████| 1/1 [00:00<00:00, 11618.57it/s]\n",
      "100%|██████████| 1/1 [00:00<00:00, 19972.88it/s]\n"
     ]
    },
    {
     "name": "stdout",
     "output_type": "stream",
     "text": [
      "Warning: 'cluster_coordinates' column missing. Skipping assignment.\n"
     ]
    },
    {
     "name": "stderr",
     "output_type": "stream",
     "text": [
      "100%|██████████| 1/1 [00:00<00:00, 24244.53it/s]\n",
      "100%|██████████| 1/1 [00:00<00:00, 18893.26it/s]\n",
      "100%|██████████| 1/1 [00:00<00:00, 4328.49it/s]\n",
      "100%|██████████| 1/1 [00:00<00:00, 14315.03it/s]\n"
     ]
    },
    {
     "name": "stdout",
     "output_type": "stream",
     "text": [
      "Warning: 'cluster_coordinates' column missing. Skipping assignment.\n"
     ]
    },
    {
     "name": "stderr",
     "output_type": "stream",
     "text": [
      "100%|██████████| 1/1 [00:00<00:00, 17848.10it/s]\n",
      "100%|██████████| 1/1 [00:00<00:00, 20068.44it/s]\n",
      "100%|██████████| 1/1 [00:00<00:00, 19152.07it/s]\n",
      "100%|██████████| 2/2 [00:00<00:00, 19972.88it/s]\n"
     ]
    },
    {
     "name": "stdout",
     "output_type": "stream",
     "text": [
      "Warning: 'cluster_coordinates' column missing. Skipping assignment.\n"
     ]
    },
    {
     "name": "stderr",
     "output_type": "stream",
     "text": [
      "100%|██████████| 2/2 [00:00<00:00, 22250.95it/s]\n",
      "100%|██████████| 2/2 [00:00<00:00, 27324.46it/s]\n",
      "100%|██████████| 4/4 [00:00<00:00, 38479.85it/s]\n",
      "100%|██████████| 5/5 [00:00<00:00, 56679.78it/s]\n"
     ]
    },
    {
     "name": "stdout",
     "output_type": "stream",
     "text": [
      "Warning: 'cluster_coordinates' column missing. Skipping assignment.\n"
     ]
    },
    {
     "name": "stderr",
     "output_type": "stream",
     "text": [
      "100%|██████████| 1/1 [00:00<00:00, 16384.00it/s]\n",
      "100%|██████████| 1/1 [00:00<00:00, 20068.44it/s]\n",
      "100%|██████████| 1/1 [00:00<00:00, 29330.80it/s]\n",
      "100%|██████████| 1/1 [00:00<00:00, 28532.68it/s]\n",
      "100%|██████████| 1/1 [00:00<00:00, 28728.11it/s]\n",
      "100%|██████████| 1/1 [00:00<00:00, 23301.69it/s]\n",
      "100%|██████████| 2/2 [00:00<00:00, 32768.00it/s]\n",
      "100%|██████████| 2/2 [00:00<00:00, 28630.06it/s]\n",
      "100%|██████████| 1/1 [00:00<00:00, 9510.89it/s]\n",
      "100%|██████████| 1/1 [00:00<00:00, 26214.40it/s]\n"
     ]
    },
    {
     "name": "stdout",
     "output_type": "stream",
     "text": [
      "Warning: 'cluster_coordinates' column missing. Skipping assignment.\n"
     ]
    },
    {
     "name": "stderr",
     "output_type": "stream",
     "text": [
      "100%|██████████| 1/1 [00:00<00:00, 22310.13it/s]\n",
      "100%|██████████| 1/1 [00:00<00:00, 23172.95it/s]\n",
      "100%|██████████| 1/1 [00:00<00:00, 16448.25it/s]\n",
      "100%|██████████| 1/1 [00:00<00:00, 18893.26it/s]\n"
     ]
    },
    {
     "name": "stdout",
     "output_type": "stream",
     "text": [
      "Warning: 'cluster_coordinates' column missing. Skipping assignment.\n"
     ]
    },
    {
     "name": "stderr",
     "output_type": "stream",
     "text": [
      "100%|██████████| 1/1 [00:00<00:00, 22671.91it/s]\n",
      "100%|██████████| 1/1 [00:00<00:00, 26379.27it/s]\n",
      "100%|██████████| 1/1 [00:00<00:00, 10866.07it/s]\n",
      "100%|██████████| 2/2 [00:00<00:00, 34521.02it/s]\n"
     ]
    },
    {
     "name": "stdout",
     "output_type": "stream",
     "text": [
      "Warning: 'cluster_coordinates' column missing. Skipping assignment.\n"
     ]
    },
    {
     "name": "stderr",
     "output_type": "stream",
     "text": [
      "100%|██████████| 2/2 [00:00<00:00, 31775.03it/s]\n",
      "100%|██████████| 2/2 [00:00<00:00, 31184.42it/s]\n",
      "100%|██████████| 3/3 [00:00<00:00, 25837.60it/s]\n",
      "100%|██████████| 4/4 [00:00<00:00, 44858.87it/s]\n"
     ]
    },
    {
     "name": "stdout",
     "output_type": "stream",
     "text": [
      "Warning: 'cluster_coordinates' column missing. Skipping assignment.\n"
     ]
    },
    {
     "name": "stderr",
     "output_type": "stream",
     "text": [
      "100%|██████████| 1/1 [00:00<00:00, 20068.44it/s]\n",
      "100%|██████████| 1/1 [00:00<00:00, 22192.08it/s]\n",
      "100%|██████████| 1/1 [00:00<00:00, 27594.11it/s]\n",
      "100%|██████████| 1/1 [00:00<00:00, 28532.68it/s]\n",
      "100%|██████████| 2/2 [00:00<00:00, 36954.22it/s]\n",
      "100%|██████████| 2/2 [00:00<00:00, 39199.10it/s]\n",
      "100%|██████████| 1/1 [00:00<00:00, 15592.21it/s]\n",
      "100%|██████████| 1/1 [00:00<00:00, 23301.69it/s]\n"
     ]
    },
    {
     "name": "stdout",
     "output_type": "stream",
     "text": [
      "Warning: 'cluster_coordinates' column missing. Skipping assignment.\n"
     ]
    },
    {
     "name": "stderr",
     "output_type": "stream",
     "text": [
      "100%|██████████| 1/1 [00:00<00:00, 28728.11it/s]\n",
      "100%|██████████| 1/1 [00:00<00:00, 30393.51it/s]\n",
      "100%|██████████| 1/1 [00:00<00:00, 7928.74it/s]\n",
      "100%|██████████| 1/1 [00:00<00:00, 19691.57it/s]\n"
     ]
    },
    {
     "name": "stdout",
     "output_type": "stream",
     "text": [
      "Warning: 'cluster_coordinates' column missing. Skipping assignment.\n"
     ]
    },
    {
     "name": "stderr",
     "output_type": "stream",
     "text": [
      "100%|██████████| 1/1 [00:00<00:00, 19972.88it/s]\n",
      "100%|██████████| 1/1 [00:00<00:00, 21732.15it/s]\n",
      "100%|██████████| 1/1 [00:00<00:00, 10485.76it/s]\n",
      "100%|██████████| 1/1 [00:00<00:00, 18157.16it/s]\n"
     ]
    },
    {
     "name": "stdout",
     "output_type": "stream",
     "text": [
      "Warning: 'cluster_coordinates' column missing. Skipping assignment.\n"
     ]
    },
    {
     "name": "stderr",
     "output_type": "stream",
     "text": [
      "100%|██████████| 1/1 [00:00<00:00, 22192.08it/s]\n",
      "100%|██████████| 1/1 [00:00<00:00, 25731.93it/s]\n",
      "100%|██████████| 1/1 [00:00<00:00, 15887.52it/s]\n",
      "100%|██████████| 1/1 [00:00<00:00, 20460.02it/s]\n"
     ]
    },
    {
     "name": "stdout",
     "output_type": "stream",
     "text": [
      "Warning: 'cluster_coordinates' column missing. Skipping assignment.\n"
     ]
    },
    {
     "name": "stderr",
     "output_type": "stream",
     "text": [
      "100%|██████████| 1/1 [00:00<00:00, 18808.54it/s]\n",
      "100%|██████████| 1/1 [00:00<00:00, 20360.70it/s]\n",
      "100%|██████████| 1/1 [00:00<00:00, 8322.03it/s]\n",
      "100%|██████████| 1/1 [00:00<00:00, 18893.26it/s]\n"
     ]
    },
    {
     "name": "stdout",
     "output_type": "stream",
     "text": [
      "Warning: 'cluster_coordinates' column missing. Skipping assignment.\n"
     ]
    },
    {
     "name": "stderr",
     "output_type": "stream",
     "text": [
      "100%|██████████| 1/1 [00:00<00:00, 21399.51it/s]\n",
      "100%|██████████| 1/1 [00:00<00:00, 18477.11it/s]\n",
      "100%|██████████| 1/1 [00:00<00:00, 16194.22it/s]\n",
      "100%|██████████| 1/1 [00:00<00:00, 23831.27it/s]\n"
     ]
    },
    {
     "name": "stdout",
     "output_type": "stream",
     "text": [
      "Warning: 'cluster_coordinates' column missing. Skipping assignment.\n"
     ]
    },
    {
     "name": "stderr",
     "output_type": "stream",
     "text": [
      "100%|██████████| 1/1 [00:00<00:00, 25575.02it/s]\n",
      "100%|██████████| 1/1 [00:00<00:00, 29537.35it/s]\n",
      "100%|██████████| 1/1 [00:00<00:00, 10205.12it/s]\n",
      "100%|██████████| 1/1 [00:00<00:00, 18893.26it/s]\n"
     ]
    },
    {
     "name": "stdout",
     "output_type": "stream",
     "text": [
      "Warning: 'cluster_coordinates' column missing. Skipping assignment.\n"
     ]
    },
    {
     "name": "stderr",
     "output_type": "stream",
     "text": [
      "100%|██████████| 1/1 [00:00<00:00, 21620.12it/s]\n",
      "100%|██████████| 1/1 [00:00<00:00, 24528.09it/s]\n",
      "100%|██████████| 1/1 [00:00<00:00, 13888.42it/s]\n",
      "100%|██████████| 2/2 [00:00<00:00, 34100.03it/s]\n"
     ]
    },
    {
     "name": "stdout",
     "output_type": "stream",
     "text": [
      "Warning: 'cluster_coordinates' column missing. Skipping assignment.\n"
     ]
    },
    {
     "name": "stderr",
     "output_type": "stream",
     "text": [
      "100%|██████████| 2/2 [00:00<00:00, 35696.20it/s]\n",
      "100%|██████████| 2/2 [00:00<00:00, 36472.21it/s]\n",
      "100%|██████████| 8/8 [00:00<00:00, 29852.70it/s]\n",
      "100%|██████████| 9/9 [00:00<00:00, 75047.19it/s]\n"
     ]
    },
    {
     "name": "stdout",
     "output_type": "stream",
     "text": [
      "Warning: 'cluster_coordinates' column missing. Skipping assignment.\n"
     ]
    },
    {
     "name": "stderr",
     "output_type": "stream",
     "text": [
      "100%|██████████| 1/1 [00:00<00:00, 23831.27it/s]\n",
      "100%|██████████| 1/1 [00:00<00:00, 27060.03it/s]\n",
      "100%|██████████| 1/1 [00:00<00:00, 24385.49it/s]\n",
      "100%|██████████| 1/1 [00:00<00:00, 24385.49it/s]\n",
      "100%|██████████| 1/1 [00:00<00:00, 33554.43it/s]\n",
      "100%|██████████| 1/1 [00:00<00:00, 20971.52it/s]\n",
      "100%|██████████| 1/1 [00:00<00:00, 15141.89it/s]\n",
      "100%|██████████| 1/1 [00:00<00:00, 14979.66it/s]\n",
      "100%|██████████| 1/1 [00:00<00:00, 21399.51it/s]\n",
      "100%|██████████| 1/1 [00:00<00:00, 20068.44it/s]\n",
      "100%|██████████| 1/1 [00:00<00:00, 26379.27it/s]\n",
      "100%|██████████| 1/1 [00:00<00:00, 19239.93it/s]\n",
      "100%|██████████| 1/1 [00:00<00:00, 31300.78it/s]\n",
      "100%|██████████| 1/1 [00:00<00:00, 27060.03it/s]\n",
      "100%|██████████| 2/2 [00:00<00:00, 33825.03it/s]\n",
      "100%|██████████| 2/2 [00:00<00:00, 29746.84it/s]\n",
      "100%|██████████| 1/1 [00:00<00:00, 10782.27it/s]\n",
      "100%|██████████| 1/1 [00:00<00:00, 17549.39it/s]\n"
     ]
    },
    {
     "name": "stdout",
     "output_type": "stream",
     "text": [
      "Warning: 'cluster_coordinates' column missing. Skipping assignment.\n"
     ]
    },
    {
     "name": "stderr",
     "output_type": "stream",
     "text": [
      "100%|██████████| 1/1 [00:00<00:00, 7695.97it/s]\n",
      "100%|██████████| 1/1 [00:00<00:00, 5236.33it/s]\n",
      "100%|██████████| 1/1 [00:00<00:00, 13530.01it/s]\n",
      "100%|██████████| 2/2 [00:00<00:00, 35098.78it/s]\n"
     ]
    },
    {
     "name": "stdout",
     "output_type": "stream",
     "text": [
      "Warning: 'cluster_coordinates' column missing. Skipping assignment.\n"
     ]
    },
    {
     "name": "stderr",
     "output_type": "stream",
     "text": [
      "100%|██████████| 2/2 [00:00<00:00, 15505.74it/s]\n",
      "100%|██████████| 2/2 [00:00<00:00, 14169.95it/s]\n",
      "100%|██████████| 1/1 [00:00<00:00, 7244.05it/s]\n",
      "100%|██████████| 9/9 [00:00<00:00, 74602.25it/s]\n"
     ]
    },
    {
     "name": "stdout",
     "output_type": "stream",
     "text": [
      "Warning: 'cluster_coordinates' column missing. Skipping assignment.\n"
     ]
    },
    {
     "name": "stderr",
     "output_type": "stream",
     "text": [
      "100%|██████████| 9/9 [00:00<00:00, 26453.21it/s]\n",
      "100%|██████████| 9/9 [00:00<00:00, 19518.48it/s]\n",
      "100%|██████████| 3/3 [00:00<00:00, 21732.15it/s]\n",
      "100%|██████████| 12/12 [00:00<00:00, 60061.63it/s]\n"
     ]
    },
    {
     "name": "stdout",
     "output_type": "stream",
     "text": [
      "Warning: 'cluster_coordinates' column missing. Skipping assignment.\n"
     ]
    },
    {
     "name": "stderr",
     "output_type": "stream",
     "text": [
      "100%|██████████| 1/1 [00:00<00:00, 9279.43it/s]\n",
      "100%|██████████| 1/1 [00:00<00:00, 9731.56it/s]\n",
      "100%|██████████| 2/2 [00:00<00:00, 14266.34it/s]\n",
      "100%|██████████| 2/2 [00:00<00:00, 12501.65it/s]\n",
      "100%|██████████| 9/9 [00:00<00:00, 29606.85it/s]\n",
      "100%|██████████| 9/9 [00:00<00:00, 22604.03it/s]\n",
      "100%|██████████| 1/1 [00:00<00:00, 6584.46it/s]\n",
      "100%|██████████| 1/1 [00:00<00:00, 16644.06it/s]\n"
     ]
    },
    {
     "name": "stdout",
     "output_type": "stream",
     "text": [
      "Warning: 'cluster_coordinates' column missing. Skipping assignment.\n"
     ]
    },
    {
     "name": "stderr",
     "output_type": "stream",
     "text": [
      "100%|██████████| 1/1 [00:00<00:00, 11491.24it/s]\n",
      "100%|██████████| 1/1 [00:00<00:00, 12826.62it/s]\n",
      "100%|██████████| 1/1 [00:00<00:00, 11125.47it/s]\n",
      "100%|██████████| 1/1 [00:00<00:00, 13315.25it/s]\n"
     ]
    },
    {
     "name": "stdout",
     "output_type": "stream",
     "text": [
      "Warning: 'cluster_coordinates' column missing. Skipping assignment.\n"
     ]
    },
    {
     "name": "stderr",
     "output_type": "stream",
     "text": [
      "100%|██████████| 1/1 [00:00<00:00, 13530.01it/s]\n",
      "100%|██████████| 1/1 [00:00<00:00, 14926.35it/s]\n",
      "100%|██████████| 1/1 [00:00<00:00, 12052.60it/s]\n",
      "100%|██████████| 6/6 [00:00<00:00, 52648.17it/s]\n"
     ]
    },
    {
     "name": "stdout",
     "output_type": "stream",
     "text": [
      "Warning: 'cluster_coordinates' column missing. Skipping assignment.\n"
     ]
    },
    {
     "name": "stderr",
     "output_type": "stream",
     "text": [
      "100%|██████████| 6/6 [00:00<00:00, 27294.82it/s]\n",
      "100%|██████████| 6/6 [00:00<00:00, 26214.40it/s]\n",
      "100%|██████████| 3/3 [00:00<00:00, 34100.03it/s]\n",
      "100%|██████████| 8/8 [00:00<00:00, 59705.40it/s]\n"
     ]
    },
    {
     "name": "stdout",
     "output_type": "stream",
     "text": [
      "Warning: 'cluster_coordinates' column missing. Skipping assignment.\n"
     ]
    },
    {
     "name": "stderr",
     "output_type": "stream",
     "text": [
      "100%|██████████| 1/1 [00:00<00:00, 14665.40it/s]\n",
      "100%|██████████| 1/1 [00:00<00:00, 14716.86it/s]\n",
      "100%|██████████| 1/1 [00:00<00:00, 13148.29it/s]\n",
      "100%|██████████| 1/1 [00:00<00:00, 14463.12it/s]\n",
      "100%|██████████| 6/6 [00:00<00:00, 30467.10it/s]\n",
      "100%|██████████| 6/6 [00:00<00:00, 27624.40it/s]\n",
      "100%|██████████| 1/1 [00:00<00:00, 12192.74it/s]\n",
      "100%|██████████| 1/1 [00:00<00:00, 17848.10it/s]\n"
     ]
    },
    {
     "name": "stdout",
     "output_type": "stream",
     "text": [
      "Warning: 'cluster_coordinates' column missing. Skipping assignment.\n"
     ]
    },
    {
     "name": "stderr",
     "output_type": "stream",
     "text": [
      "100%|██████████| 1/1 [00:00<00:00, 23301.69it/s]\n",
      "100%|██████████| 1/1 [00:00<00:00, 27594.11it/s]\n",
      "100%|██████████| 1/1 [00:00<00:00, 16912.52it/s]\n",
      "100%|██████████| 1/1 [00:00<00:00, 26214.40it/s]\n"
     ]
    },
    {
     "name": "stdout",
     "output_type": "stream",
     "text": [
      "Warning: 'cluster_coordinates' column missing. Skipping assignment.\n"
     ]
    },
    {
     "name": "stderr",
     "output_type": "stream",
     "text": [
      "100%|██████████| 1/1 [00:00<00:00, 23831.27it/s]\n",
      "100%|██████████| 1/1 [00:00<00:00, 22795.13it/s]\n",
      "100%|██████████| 1/1 [00:00<00:00, 6403.52it/s]\n",
      "100%|██████████| 2/2 [00:00<00:00, 29026.33it/s]\n"
     ]
    },
    {
     "name": "stdout",
     "output_type": "stream",
     "text": [
      "Warning: 'cluster_coordinates' column missing. Skipping assignment.\n"
     ]
    },
    {
     "name": "stderr",
     "output_type": "stream",
     "text": [
      "100%|██████████| 2/2 [00:00<00:00, 38479.85it/s]\n",
      "100%|██████████| 2/2 [00:00<00:00, 30393.51it/s]\n",
      "100%|██████████| 1/1 [00:00<00:00, 17924.38it/s]\n",
      "100%|██████████| 2/2 [00:00<00:00, 41734.37it/s]\n"
     ]
    },
    {
     "name": "stdout",
     "output_type": "stream",
     "text": [
      "Warning: 'cluster_coordinates' column missing. Skipping assignment.\n"
     ]
    },
    {
     "name": "stderr",
     "output_type": "stream",
     "text": [
      "100%|██████████| 2/2 [00:00<00:00, 32140.26it/s]\n",
      "100%|██████████| 2/2 [00:00<00:00, 32263.88it/s]\n",
      "100%|██████████| 4/4 [00:00<00:00, 22459.46it/s]\n",
      "100%|██████████| 6/6 [00:00<00:00, 65196.44it/s]\n"
     ]
    },
    {
     "name": "stdout",
     "output_type": "stream",
     "text": [
      "Warning: 'cluster_coordinates' column missing. Skipping assignment.\n"
     ]
    },
    {
     "name": "stderr",
     "output_type": "stream",
     "text": [
      "100%|██████████| 1/1 [00:00<00:00, 20763.88it/s]\n",
      "100%|██████████| 1/1 [00:00<00:00, 21732.15it/s]\n",
      "100%|██████████| 1/1 [00:00<00:00, 27776.85it/s]\n",
      "100%|██████████| 1/1 [00:00<00:00, 24244.53it/s]\n",
      "100%|██████████| 2/2 [00:00<00:00, 48770.98it/s]\n",
      "100%|██████████| 2/2 [00:00<00:00, 38479.85it/s]\n",
      "100%|██████████| 2/2 [00:00<00:00, 24105.20it/s]\n",
      "100%|██████████| 2/2 [00:00<00:00, 24385.49it/s]\n",
      "100%|██████████| 1/1 [00:00<00:00, 8405.42it/s]\n",
      "100%|██████████| 1/1 [00:00<00:00, 18893.26it/s]\n"
     ]
    },
    {
     "name": "stdout",
     "output_type": "stream",
     "text": [
      "Warning: 'cluster_coordinates' column missing. Skipping assignment.\n"
     ]
    },
    {
     "name": "stderr",
     "output_type": "stream",
     "text": [
      "100%|██████████| 1/1 [00:00<00:00, 13706.88it/s]\n",
      "100%|██████████| 1/1 [00:00<00:00, 14926.35it/s]\n",
      "100%|██████████| 1/1 [00:00<00:00, 16980.99it/s]\n",
      "100%|██████████| 1/1 [00:00<00:00, 16710.37it/s]\n"
     ]
    },
    {
     "name": "stdout",
     "output_type": "stream",
     "text": [
      "Warning: 'cluster_coordinates' column missing. Skipping assignment.\n"
     ]
    },
    {
     "name": "stderr",
     "output_type": "stream",
     "text": [
      "100%|██████████| 1/1 [00:00<00:00, 10433.59it/s]\n",
      "100%|██████████| 1/1 [00:00<00:00, 9799.78it/s]\n",
      "100%|██████████| 1/1 [00:00<00:00, 19972.88it/s]\n",
      "100%|██████████| 1/1 [00:00<00:00, 20460.02it/s]\n"
     ]
    },
    {
     "name": "stdout",
     "output_type": "stream",
     "text": [
      "Warning: 'cluster_coordinates' column missing. Skipping assignment.\n"
     ]
    },
    {
     "name": "stderr",
     "output_type": "stream",
     "text": [
      "100%|██████████| 1/1 [00:00<00:00, 11397.57it/s]\n",
      "100%|██████████| 1/1 [00:00<00:00, 10727.12it/s]\n",
      "100%|██████████| 1/1 [00:00<00:00, 17331.83it/s]\n",
      "100%|██████████| 1/1 [00:00<00:00, 21399.51it/s]\n"
     ]
    },
    {
     "name": "stdout",
     "output_type": "stream",
     "text": [
      "Warning: 'cluster_coordinates' column missing. Skipping assignment.\n"
     ]
    },
    {
     "name": "stderr",
     "output_type": "stream",
     "text": [
      "100%|██████████| 1/1 [00:00<00:00, 12985.46it/s]\n",
      "100%|██████████| 1/1 [00:00<00:00, 13662.23it/s]\n",
      "100%|██████████| 1/1 [00:00<00:00, 10866.07it/s]\n",
      "100%|██████████| 3/3 [00:00<00:00, 41120.63it/s]\n"
     ]
    },
    {
     "name": "stdout",
     "output_type": "stream",
     "text": [
      "Warning: 'cluster_coordinates' column missing. Skipping assignment.\n"
     ]
    },
    {
     "name": "stderr",
     "output_type": "stream",
     "text": [
      "100%|██████████| 3/3 [00:00<00:00, 17747.41it/s]\n",
      "100%|██████████| 3/3 [00:00<00:00, 15968.16it/s]\n",
      "100%|██████████| 2/2 [00:00<00:00, 15738.48it/s]\n",
      "100%|██████████| 10/10 [00:00<00:00, 72440.48it/s]\n"
     ]
    },
    {
     "name": "stdout",
     "output_type": "stream",
     "text": [
      "Warning: 'cluster_coordinates' column missing. Skipping assignment.\n"
     ]
    },
    {
     "name": "stderr",
     "output_type": "stream",
     "text": [
      "100%|██████████| 1/1 [00:00<00:00, 12787.51it/s]\n",
      "100%|██████████| 1/1 [00:00<00:00, 13934.56it/s]\n",
      "100%|██████████| 9/9 [00:00<00:00, 32291.48it/s]\n",
      "100%|██████████| 9/9 [00:00<00:00, 25233.11it/s]\n",
      "100%|██████████| 6/6 [00:00<00:00, 51781.53it/s]\n",
      "100%|██████████| 17/17 [00:00<00:00, 101861.67it/s]\n"
     ]
    },
    {
     "name": "stdout",
     "output_type": "stream",
     "text": [
      "Warning: 'cluster_coordinates' column missing. Skipping assignment.\n"
     ]
    },
    {
     "name": "stderr",
     "output_type": "stream",
     "text": [
      "100%|██████████| 1/1 [00:00<00:00, 13148.29it/s]\n",
      "100%|██████████| 1/1 [00:00<00:00, 8004.40it/s]\n",
      "100%|██████████| 1/1 [00:00<00:00, 12483.05it/s]\n",
      "100%|██████████| 1/1 [00:00<00:00, 9279.43it/s]\n",
      "100%|██████████| 1/1 [00:00<00:00, 13934.56it/s]\n",
      "100%|██████████| 1/1 [00:00<00:00, 10407.70it/s]\n",
      "100%|██████████| 1/1 [00:00<00:00, 15141.89it/s]\n",
      "100%|██████████| 1/1 [00:00<00:00, 11881.88it/s]\n",
      "100%|██████████| 3/3 [00:00<00:00, 17647.84it/s]\n",
      "100%|██████████| 3/3 [00:00<00:00, 15709.00it/s]\n",
      "100%|██████████| 10/10 [00:00<00:00, 34606.47it/s]\n",
      "100%|██████████| 10/10 [00:00<00:00, 27007.75it/s]\n",
      "100%|██████████| 1/1 [00:00<00:00, 13486.51it/s]\n",
      "100%|██████████| 2/2 [00:00<00:00, 20661.60it/s]\n"
     ]
    },
    {
     "name": "stdout",
     "output_type": "stream",
     "text": [
      "Warning: 'cluster_coordinates' column missing. Skipping assignment.\n"
     ]
    },
    {
     "name": "stderr",
     "output_type": "stream",
     "text": [
      "100%|██████████| 2/2 [00:00<00:00, 11765.23it/s]\n",
      "100%|██████████| 2/2 [00:00<00:00, 9811.24it/s]\n",
      "100%|██████████| 1/1 [00:00<00:00, 14463.12it/s]\n",
      "100%|██████████| 3/3 [00:00<00:00, 44779.05it/s]\n"
     ]
    },
    {
     "name": "stdout",
     "output_type": "stream",
     "text": [
      "Warning: 'cluster_coordinates' column missing. Skipping assignment.\n"
     ]
    },
    {
     "name": "stderr",
     "output_type": "stream",
     "text": [
      "100%|██████████| 3/3 [00:00<00:00, 13559.17it/s]\n",
      "100%|██████████| 3/3 [00:00<00:00, 12384.76it/s]\n",
      "100%|██████████| 1/1 [00:00<00:00, 16578.28it/s]\n",
      "100%|██████████| 1/1 [00:00<00:00, 19239.93it/s]\n"
     ]
    },
    {
     "name": "stdout",
     "output_type": "stream",
     "text": [
      "Warning: 'cluster_coordinates' column missing. Skipping assignment.\n"
     ]
    },
    {
     "name": "stderr",
     "output_type": "stream",
     "text": [
      "100%|██████████| 1/1 [00:00<00:00, 10230.01it/s]\n",
      "100%|██████████| 1/1 [00:00<00:00, 8065.97it/s]\n",
      "100%|██████████| 3/3 [00:00<00:00, 34952.53it/s]\n",
      "100%|██████████| 11/11 [00:00<00:00, 59840.91it/s]\n"
     ]
    },
    {
     "name": "stdout",
     "output_type": "stream",
     "text": [
      "Warning: 'cluster_coordinates' column missing. Skipping assignment.\n"
     ]
    },
    {
     "name": "stderr",
     "output_type": "stream",
     "text": [
      "100%|██████████| 1/1 [00:00<00:00, 3923.58it/s]\n",
      "100%|██████████| 1/1 [00:00<00:00, 10330.80it/s]\n",
      "100%|██████████| 2/2 [00:00<00:00, 12905.55it/s]\n",
      "100%|██████████| 2/2 [00:00<00:00, 12104.77it/s]\n",
      "100%|██████████| 8/8 [00:00<00:00, 27125.65it/s]\n",
      "100%|██████████| 8/8 [00:00<00:00, 22841.68it/s]\n",
      "100%|██████████| 4/4 [00:00<00:00, 38479.85it/s]\n",
      "100%|██████████| 17/17 [00:00<00:00, 62437.10it/s]\n"
     ]
    },
    {
     "name": "stdout",
     "output_type": "stream",
     "text": [
      "Warning: 'cluster_coordinates' column missing. Skipping assignment.\n"
     ]
    },
    {
     "name": "stderr",
     "output_type": "stream",
     "text": [
      "100%|██████████| 2/2 [00:00<00:00, 7543.71it/s]\n",
      "100%|██████████| 2/2 [00:00<00:00, 8507.72it/s]\n",
      "100%|██████████| 3/3 [00:00<00:00, 13812.20it/s]\n",
      "100%|██████████| 3/3 [00:00<00:00, 11586.48it/s]\n",
      "100%|██████████| 1/1 [00:00<00:00, 12228.29it/s]\n",
      "100%|██████████| 1/1 [00:00<00:00, 10205.12it/s]\n",
      "100%|██████████| 11/11 [00:00<00:00, 26439.74it/s]\n",
      "100%|██████████| 11/11 [00:00<00:00, 20147.31it/s]\n",
      "100%|██████████| 1/1 [00:00<00:00, 14463.12it/s]\n",
      "100%|██████████| 1/1 [00:00<00:00, 17476.27it/s]\n"
     ]
    },
    {
     "name": "stdout",
     "output_type": "stream",
     "text": [
      "Warning: 'cluster_coordinates' column missing. Skipping assignment.\n"
     ]
    },
    {
     "name": "stderr",
     "output_type": "stream",
     "text": [
      "100%|██████████| 1/1 [00:00<00:00, 9799.78it/s]\n",
      "100%|██████████| 1/1 [00:00<00:00, 9098.27it/s]\n",
      "100%|██████████| 1/1 [00:00<00:00, 15887.52it/s]\n",
      "100%|██████████| 3/3 [00:00<00:00, 41120.63it/s]\n"
     ]
    },
    {
     "name": "stdout",
     "output_type": "stream",
     "text": [
      "Warning: 'cluster_coordinates' column missing. Skipping assignment.\n"
     ]
    },
    {
     "name": "stderr",
     "output_type": "stream",
     "text": [
      "100%|██████████| 3/3 [00:00<00:00, 10305.42it/s]\n",
      "100%|██████████| 3/3 [00:00<00:00, 8600.76it/s]\n",
      "100%|██████████| 1/1 [00:00<00:00, 9341.43it/s]\n",
      "100%|██████████| 4/4 [00:00<00:00, 63550.06it/s]\n"
     ]
    },
    {
     "name": "stdout",
     "output_type": "stream",
     "text": [
      "Warning: 'cluster_coordinates' column missing. Skipping assignment.\n"
     ]
    },
    {
     "name": "stderr",
     "output_type": "stream",
     "text": [
      "100%|██████████| 4/4 [00:00<00:00, 8196.00it/s]\n",
      "100%|██████████| 4/4 [00:00<00:00, 8490.49it/s]\n",
      "100%|██████████| 1/1 [00:00<00:00, 19972.88it/s]\n",
      "100%|██████████| 17/17 [00:00<00:00, 66951.33it/s]\n"
     ]
    },
    {
     "name": "stdout",
     "output_type": "stream",
     "text": [
      "Warning: 'cluster_coordinates' column missing. Skipping assignment.\n"
     ]
    },
    {
     "name": "stderr",
     "output_type": "stream",
     "text": [
      "100%|██████████| 17/17 [00:00<00:00, 20331.67it/s]\n",
      "100%|██████████| 17/17 [00:00<00:00, 14857.92it/s]\n",
      "100%|██████████| 4/4 [00:00<00:00, 33689.19it/s]\n",
      "100%|██████████| 25/25 [00:00<00:00, 91899.74it/s]\n"
     ]
    },
    {
     "name": "stdout",
     "output_type": "stream",
     "text": [
      "Warning: 'cluster_coordinates' column missing. Skipping assignment.\n"
     ]
    },
    {
     "name": "stderr",
     "output_type": "stream",
     "text": [
      "100%|██████████| 1/1 [00:00<00:00, 4583.94it/s]\n",
      "100%|██████████| 1/1 [00:00<00:00, 8081.51it/s]\n",
      "100%|██████████| 3/3 [00:00<00:00, 11629.31it/s]\n",
      "100%|██████████| 3/3 [00:00<00:00, 9198.04it/s]\n",
      "100%|██████████| 4/4 [00:00<00:00, 14290.64it/s]\n",
      "100%|██████████| 4/4 [00:00<00:00, 10901.37it/s]\n",
      "100%|██████████| 17/17 [00:00<00:00, 24570.35it/s]\n",
      "100%|██████████| 17/17 [00:00<00:00, 15055.57it/s]\n",
      "100%|██████████| 1/1 [00:00<00:00, 13148.29it/s]\n",
      "100%|██████████| 2/2 [00:00<00:00, 30840.47it/s]\n"
     ]
    },
    {
     "name": "stdout",
     "output_type": "stream",
     "text": [
      "Warning: 'cluster_coordinates' column missing. Skipping assignment.\n"
     ]
    },
    {
     "name": "stderr",
     "output_type": "stream",
     "text": [
      "100%|██████████| 2/2 [00:00<00:00, 6710.89it/s]\n",
      "100%|██████████| 2/2 [00:00<00:00, 7300.79it/s]\n",
      "100%|██████████| 1/1 [00:00<00:00, 9020.01it/s]\n",
      "100%|██████████| 1/1 [00:00<00:00, 19691.57it/s]\n"
     ]
    },
    {
     "name": "stdout",
     "output_type": "stream",
     "text": [
      "Warning: 'cluster_coordinates' column missing. Skipping assignment.\n"
     ]
    },
    {
     "name": "stderr",
     "output_type": "stream",
     "text": [
      "100%|██████████| 1/1 [00:00<00:00, 5957.82it/s]\n",
      "100%|██████████| 1/1 [00:00<00:00, 9341.43it/s]\n",
      "100%|██████████| 1/1 [00:00<00:00, 11881.88it/s]\n",
      "100%|██████████| 2/2 [00:00<00:00, 35696.20it/s]\n"
     ]
    },
    {
     "name": "stdout",
     "output_type": "stream",
     "text": [
      "Warning: 'cluster_coordinates' column missing. Skipping assignment.\n"
     ]
    },
    {
     "name": "stderr",
     "output_type": "stream",
     "text": [
      "100%|██████████| 2/2 [00:00<00:00, 8729.04it/s]\n",
      "100%|██████████| 2/2 [00:00<00:00, 6408.41it/s]\n",
      "100%|██████████| 1/1 [00:00<00:00, 12052.60it/s]\n",
      "100%|██████████| 3/3 [00:00<00:00, 42366.71it/s]\n"
     ]
    },
    {
     "name": "stdout",
     "output_type": "stream",
     "text": [
      "Warning: 'cluster_coordinates' column missing. Skipping assignment.\n"
     ]
    },
    {
     "name": "stderr",
     "output_type": "stream",
     "text": [
      "100%|██████████| 3/3 [00:00<00:00, 13148.29it/s]\n",
      "100%|██████████| 3/3 [00:00<00:00, 10636.44it/s]\n",
      "100%|██████████| 1/1 [00:00<00:00, 11491.24it/s]\n",
      "100%|██████████| 2/2 [00:00<00:00, 27776.85it/s]\n"
     ]
    },
    {
     "name": "stdout",
     "output_type": "stream",
     "text": [
      "Warning: 'cluster_coordinates' column missing. Skipping assignment.\n"
     ]
    },
    {
     "name": "stderr",
     "output_type": "stream",
     "text": [
      "100%|██████████| 2/2 [00:00<00:00, 5829.47it/s]\n",
      "100%|██████████| 2/2 [00:00<00:00, 6853.44it/s]\n",
      "100%|██████████| 1/1 [00:00<00:00, 13148.29it/s]\n",
      "100%|██████████| 4/4 [00:00<00:00, 65281.00it/s]\n"
     ]
    },
    {
     "name": "stdout",
     "output_type": "stream",
     "text": [
      "Warning: 'cluster_coordinates' column missing. Skipping assignment.\n"
     ]
    },
    {
     "name": "stderr",
     "output_type": "stream",
     "text": [
      "100%|██████████| 4/4 [00:00<00:00, 11907.18it/s]\n",
      "100%|██████████| 4/4 [00:00<00:00, 7288.10it/s]\n",
      "100%|██████████| 2/2 [00:00<00:00, 21454.24it/s]\n",
      "100%|██████████| 15/15 [00:00<00:00, 86302.55it/s]\n"
     ]
    },
    {
     "name": "stdout",
     "output_type": "stream",
     "text": [
      "Warning: 'cluster_coordinates' column missing. Skipping assignment.\n"
     ]
    },
    {
     "name": "stderr",
     "output_type": "stream",
     "text": [
      "100%|██████████| 2/2 [00:00<00:00, 13148.29it/s]\n",
      "100%|██████████| 2/2 [00:00<00:00, 7332.70it/s]\n",
      "100%|██████████| 13/13 [00:00<00:00, 25011.90it/s]\n",
      "100%|██████████| 13/13 [00:00<00:00, 18439.62it/s]\n",
      "100%|██████████| 7/7 [00:00<00:00, 38229.33it/s]\n",
      "100%|██████████| 29/29 [00:00<00:00, 98890.09it/s]\n"
     ]
    },
    {
     "name": "stdout",
     "output_type": "stream",
     "text": [
      "Warning: 'cluster_coordinates' column missing. Skipping assignment.\n"
     ]
    },
    {
     "name": "stderr",
     "output_type": "stream",
     "text": [
      "100%|██████████| 2/2 [00:00<00:00, 10420.63it/s]\n",
      "100%|██████████| 2/2 [00:00<00:00, 6710.89it/s]\n",
      "100%|██████████| 1/1 [00:00<00:00, 13662.23it/s]\n",
      "100%|██████████| 1/1 [00:00<00:00, 9731.56it/s]\n",
      "100%|██████████| 2/2 [00:00<00:00, 9300.01it/s]\n",
      "100%|██████████| 2/2 [00:00<00:00, 6996.34it/s]\n",
      "100%|██████████| 3/3 [00:00<00:00, 14496.44it/s]\n",
      "100%|██████████| 3/3 [00:00<00:00, 10866.07it/s]\n",
      "100%|██████████| 2/2 [00:00<00:00, 10420.63it/s]\n",
      "100%|██████████| 2/2 [00:00<00:00, 7936.24it/s]\n",
      "100%|██████████| 4/4 [00:00<00:00, 12690.78it/s]\n",
      "100%|██████████| 4/4 [00:00<00:00, 2121.01it/s]\n",
      "100%|██████████| 15/15 [00:00<00:00, 25085.55it/s]\n",
      "100%|██████████| 15/15 [00:00<00:00, 19251.70it/s]\n",
      "100%|██████████| 1/1 [00:00<00:00, 10305.42it/s]\n",
      "100%|██████████| 1/1 [00:00<00:00, 7752.87it/s]\n"
     ]
    },
    {
     "name": "stdout",
     "output_type": "stream",
     "text": [
      "Warning: 'cluster_coordinates' column missing. Skipping assignment.\n"
     ]
    },
    {
     "name": "stderr",
     "output_type": "stream",
     "text": [
      "100%|██████████| 1/1 [00:00<00:00, 14873.42it/s]\n",
      "100%|██████████| 1/1 [00:00<00:00, 15420.24it/s]\n",
      "100%|██████████| 1/1 [00:00<00:00, 14926.35it/s]\n",
      "100%|██████████| 1/1 [00:00<00:00, 22192.08it/s]\n"
     ]
    },
    {
     "name": "stdout",
     "output_type": "stream",
     "text": [
      "Warning: 'cluster_coordinates' column missing. Skipping assignment.\n"
     ]
    },
    {
     "name": "stderr",
     "output_type": "stream",
     "text": [
      "100%|██████████| 1/1 [00:00<00:00, 17549.39it/s]\n",
      "100%|██████████| 1/1 [00:00<00:00, 17772.47it/s]\n",
      "100%|██████████| 1/1 [00:00<00:00, 12018.06it/s]\n",
      "100%|██████████| 3/3 [00:00<00:00, 34855.71it/s]\n"
     ]
    },
    {
     "name": "stdout",
     "output_type": "stream",
     "text": [
      "Warning: 'cluster_coordinates' column missing. Skipping assignment.\n"
     ]
    },
    {
     "name": "stderr",
     "output_type": "stream",
     "text": [
      "100%|██████████| 3/3 [00:00<00:00, 7406.07it/s]\n",
      "100%|██████████| 3/3 [00:00<00:00, 7733.81it/s]\n",
      "100%|██████████| 1/1 [00:00<00:00, 16131.94it/s]\n",
      "100%|██████████| 2/2 [00:00<00:00, 38479.85it/s]\n"
     ]
    },
    {
     "name": "stdout",
     "output_type": "stream",
     "text": [
      "Warning: 'cluster_coordinates' column missing. Skipping assignment.\n"
     ]
    },
    {
     "name": "stderr",
     "output_type": "stream",
     "text": [
      "100%|██████████| 2/2 [00:00<00:00, 6437.92it/s]\n",
      "100%|██████████| 2/2 [00:00<00:00, 7489.83it/s]\n",
      "100%|██████████| 1/1 [00:00<00:00, 17623.13it/s]\n",
      "100%|██████████| 1/1 [00:00<00:00, 15827.56it/s]\n"
     ]
    },
    {
     "name": "stdout",
     "output_type": "stream",
     "text": [
      "Warning: 'cluster_coordinates' column missing. Skipping assignment.\n"
     ]
    },
    {
     "name": "stderr",
     "output_type": "stream",
     "text": [
      "100%|██████████| 1/1 [00:00<00:00, 10538.45it/s]\n",
      "100%|██████████| 1/1 [00:00<00:00, 11491.24it/s]\n",
      "100%|██████████| 3/3 [00:00<00:00, 33026.02it/s]\n",
      "100%|██████████| 7/7 [00:00<00:00, 56899.47it/s]\n"
     ]
    },
    {
     "name": "stdout",
     "output_type": "stream",
     "text": [
      "Warning: 'cluster_coordinates' column missing. Skipping assignment.\n"
     ]
    },
    {
     "name": "stderr",
     "output_type": "stream",
     "text": [
      "100%|██████████| 1/1 [00:00<00:00, 14315.03it/s]\n",
      "100%|██████████| 1/1 [00:00<00:00, 14217.98it/s]\n",
      "100%|██████████| 1/1 [00:00<00:00, 16448.25it/s]\n",
      "100%|██████████| 1/1 [00:00<00:00, 17623.13it/s]\n",
      "100%|██████████| 5/5 [00:00<00:00, 35424.86it/s]\n",
      "100%|██████████| 5/5 [00:00<00:00, 31679.03it/s]\n",
      "100%|██████████| 1/1 [00:00<00:00, 9731.56it/s]\n",
      "100%|██████████| 12/12 [00:00<00:00, 108240.10it/s]\n"
     ]
    },
    {
     "name": "stdout",
     "output_type": "stream",
     "text": [
      "Warning: 'cluster_coordinates' column missing. Skipping assignment.\n"
     ]
    },
    {
     "name": "stderr",
     "output_type": "stream",
     "text": [
      "100%|██████████| 12/12 [00:00<00:00, 16715.92it/s]\n",
      "100%|██████████| 12/12 [00:00<00:00, 20901.85it/s]\n",
      "100%|██████████| 3/3 [00:00<00:00, 22075.28it/s]\n",
      "100%|██████████| 25/25 [00:00<00:00, 109569.07it/s]\n"
     ]
    },
    {
     "name": "stdout",
     "output_type": "stream",
     "text": [
      "Warning: 'cluster_coordinates' column missing. Skipping assignment.\n"
     ]
    },
    {
     "name": "stderr",
     "output_type": "stream",
     "text": [
      "100%|██████████| 1/1 [00:00<00:00, 7626.01it/s]\n",
      "100%|██████████| 1/1 [00:00<00:00, 5152.71it/s]\n",
      "100%|██████████| 3/3 [00:00<00:00, 15534.46it/s]\n",
      "100%|██████████| 3/3 [00:00<00:00, 16578.28it/s]\n",
      "100%|██████████| 21/21 [00:00<00:00, 14643.46it/s]\n",
      "100%|██████████| 21/21 [00:00<00:00, 5124.53it/s]\n",
      "100%|██████████| 8/8 [00:00<00:00, 32109.50it/s]\n",
      "100%|██████████| 52/52 [00:00<00:00, 104007.54it/s]\n"
     ]
    },
    {
     "name": "stdout",
     "output_type": "stream",
     "text": [
      "Warning: 'cluster_coordinates' column missing. Skipping assignment.\n"
     ]
    },
    {
     "name": "stderr",
     "output_type": "stream",
     "text": [
      "100%|██████████| 1/1 [00:00<00:00, 16384.00it/s]\n",
      "100%|██████████| 1/1 [00:00<00:00, 16131.94it/s]\n",
      "100%|██████████| 1/1 [00:00<00:00, 19972.88it/s]\n",
      "100%|██████████| 1/1 [00:00<00:00, 18157.16it/s]\n",
      "100%|██████████| 3/3 [00:00<00:00, 9799.78it/s]\n",
      "100%|██████████| 3/3 [00:00<00:00, 9258.95it/s]\n",
      "100%|██████████| 2/2 [00:00<00:00, 9720.29it/s]\n",
      "100%|██████████| 2/2 [00:00<00:00, 7275.46it/s]\n",
      "100%|██████████| 1/1 [00:00<00:00, 13357.66it/s]\n",
      "100%|██████████| 1/1 [00:00<00:00, 12052.60it/s]\n",
      "100%|██████████| 7/7 [00:00<00:00, 39304.05it/s]\n",
      "100%|██████████| 7/7 [00:00<00:00, 31775.03it/s]\n",
      "100%|██████████| 12/12 [00:00<00:00, 28926.23it/s]\n",
      "100%|██████████| 12/12 [00:00<00:00, 22560.13it/s]\n",
      "100%|██████████| 25/25 [00:00<00:00, 16745.07it/s]\n",
      "100%|██████████| 25/25 [00:00<00:00, 11877.84it/s]\n"
     ]
    }
   ],
   "source": [
    "# Load a pre-trained HNMFk model from disk\n",
    "model = HNMFk(experiment_name=os.path.join(\"result_example\", \"example_HNMFK\"))\n",
    "model.load_model()  # Loads model from the provided experiment_name path\n",
    "\n",
    "# Initialize ArcticFox pipeline\n",
    "# - model: the hierarchical clustering model (HNMFk)\n",
    "# - embedding_model: name of the sentence embedding model used for label generation\n",
    "# - clean_cols_name: column in the DataFrame containing the cleaned text input\n",
    "pipeline = ArcticFox(\n",
    "    model=model,\n",
    "    embedding_model=\"SCINCL\",        # Example: SCINCL embedding model fine-tuned for scientific text\n",
    "    clean_cols_name=DATA_COLUMN      # The text column used for label generation and analysis\n",
    ")\n",
    "\n",
    "# Run the full ArcticFox pipeline:\n",
    "# This handles hierarchical cluster labeling, statistics generation, data collection, and label propagation\n",
    "pipeline.run_full_pipeline(\n",
    "    vocab=vocabulary,                # Vocabulary used to guide or filter cluster content\n",
    "    data_df=df,                      # Original dataset (same used in HNMFk)\n",
    "    ollama_model=\"llama3.2:3b-instruct-fp16\",  # Language model used for semantic label generation\n",
    "    label_clusters=True,             # Enable automatic labeling of clusters\n",
    "    generate_stats=True,             # Generate cluster-level statistics\n",
    "    collect_data=True,               # Gather node-wise structured data (e.g., keywords, size)\n",
    "    process_parents=True,            # Propagate labels or stats upward through the hierarchy\n",
    "    skip_completed=True,             # Skip processing of nodes already labeled/stored\n",
    "    label_criteria={                 # Rules to filter generated labels\n",
    "        \"minimum words\": 2,\n",
    "        \"maximum words\": 6\n",
    "    },\n",
    "    label_info={                     # Additional metadata to associate with generated labels\n",
    "        \"source\": \"Science\"\n",
    "    },\n",
    "    number_of_labels=5               # Number of candidate labels to generate per node\n",
    ")\n"
   ]
  }
 ],
 "metadata": {
  "kernelspec": {
   "display_name": "dev_artic_fox",
   "language": "python",
   "name": "python3"
  },
  "language_info": {
   "codemirror_mode": {
    "name": "ipython",
    "version": 3
   },
   "file_extension": ".py",
   "mimetype": "text/x-python",
   "name": "python",
   "nbconvert_exporter": "python",
   "pygments_lexer": "ipython3",
   "version": "3.11.10"
  }
 },
 "nbformat": 4,
 "nbformat_minor": 2
}
