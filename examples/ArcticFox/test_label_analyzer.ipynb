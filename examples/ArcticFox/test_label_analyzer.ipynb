{
 "cells": [
  {
   "cell_type": "code",
   "execution_count": null,
   "id": "71f9dec3",
   "metadata": {},
   "outputs": [],
   "source": [
    "import pandas as pd\n",
    "from TELF.post_processing.ArcticFox import LabelAnalyzer\n",
    "from hidden_keys import OPENAI_KEY"
   ]
  },
  {
   "cell_type": "code",
   "execution_count": null,
   "id": "e1bf4826",
   "metadata": {},
   "outputs": [],
   "source": [
    "la = LabelAnalyzer()"
   ]
  },
  {
   "cell_type": "code",
   "execution_count": null,
   "id": "7f8d79a1",
   "metadata": {},
   "outputs": [],
   "source": [
    "label1 = la.label_texts(\"Graph neural networks for crystal structures.\")\n",
    "label1"
   ]
  },
  {
   "cell_type": "code",
   "execution_count": null,
   "id": "475f73ec",
   "metadata": {},
   "outputs": [],
   "source": [
    "abstracts_list = [\n",
    "    \"We introduce a message-passing neural network that captures long-range interactions in metal–organic frameworks.\",\n",
    "    \"Our GNN model predicts mechanical properties of 2D materials with state-of-the-art accuracy.\",\n",
    "    \"This study benchmarks graph attention networks on nanoparticle datasets for catalytic activity prediction.\"\n",
    "]\n",
    "# 2) list of abstracts – *one* label for the whole list\n",
    "label2 = la.label_texts(abstracts_list)\n",
    "label2"
   ]
  },
  {
   "cell_type": "code",
   "execution_count": null,
   "id": "4e7e5fb7",
   "metadata": {},
   "outputs": [],
   "source": [
    "df_of_titles_abstracts = pd.DataFrame({\n",
    "    \"title\": [\n",
    "        \"GNN for battery material discovery\",\n",
    "        \"Graph transformers in polymer design\"\n",
    "    ],\n",
    "    \"abstract\": [\n",
    "        \"We apply a graph neural network to screen novel electrode materials for Li-ion batteries.\",\n",
    "        \"A transformer-based graph model is used to design biodegradable polymers with target properties.\"\n",
    "    ]\n",
    "})\n",
    "# 3) DataFrame, one label per row\n",
    "labels_rows = la.label_texts(df_of_titles_abstracts,\n",
    "                             cluster_strategy=\"individual\")\n",
    "labels_rows"
   ]
  },
  {
   "cell_type": "code",
   "execution_count": null,
   "id": "b11409db",
   "metadata": {},
   "outputs": [],
   "source": [
    "\n",
    "df_with_clusters = pd.DataFrame({\n",
    "    \"k\": [0, 0, 1, 1],\n",
    "    \"title\": [\n",
    "        \"Crystal GNN for property prediction\",\n",
    "        \"Metal–organic framework screening\",\n",
    "        \"Social network link prediction\",\n",
    "        \"Community detection in graphs\"\n",
    "    ],\n",
    "    \"abstract\": [\n",
    "        \"Our crystal graph convolutional network achieves 95 % accuracy on formation-energy prediction.\",\n",
    "        \"We screen thousands of MOF structures using a GNN surrogate model to predict gas adsorption.\",\n",
    "        \"We propose a GNN-based Siamese network for link prediction in dynamic social graphs.\",\n",
    "        \"This paper uses graph autoencoders to uncover overlapping communities in large-scale networks.\"\n",
    "    ]\n",
    "})\n",
    "# 4) DataFrame already clustered\n",
    "labels_by_cluster = la.label_texts(\n",
    "    df_with_clusters,\n",
    "    cluster_strategy=\"column\",\n",
    "    cluster_col='k',\n",
    ")\n",
    "labels_by_cluster"
   ]
  },
  {
   "cell_type": "code",
   "execution_count": null,
   "id": "348388ab",
   "metadata": {},
   "outputs": [],
   "source": [
    "from pathlib import  Path\n",
    "df = pd.read_csv(Path(\"..\") / \"..\" / \"data\" / \"sample2.csv\")\n",
    "df = df.head(100).reset_index(drop=True)\n",
    "df.info()"
   ]
  },
  {
   "cell_type": "code",
   "execution_count": null,
   "id": "15d13f91",
   "metadata": {},
   "outputs": [],
   "source": [
    "out5 = la.label_texts(\n",
    "    df,\n",
    "    cluster_strategy=\"single\",\n",
    "    provider=\"ollama\",\n",
    ")\n",
    "out5"
   ]
  }
 ],
 "metadata": {
  "kernelspec": {
   "display_name": "dev_artic_fox",
   "language": "python",
   "name": "python3"
  },
  "language_info": {
   "codemirror_mode": {
    "name": "ipython",
    "version": 3
   },
   "file_extension": ".py",
   "mimetype": "text/x-python",
   "name": "python",
   "nbconvert_exporter": "python",
   "pygments_lexer": "ipython3",
   "version": "3.11.10"
  }
 },
 "nbformat": 4,
 "nbformat_minor": 5
}
