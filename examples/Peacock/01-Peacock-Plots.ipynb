{
 "cells": [
  {
   "cell_type": "markdown",
   "metadata": {},
   "source": [
    "# Load Data"
   ]
  },
  {
   "cell_type": "code",
   "execution_count": 2,
   "metadata": {},
   "outputs": [
    {
     "name": "stdout",
     "output_type": "stream",
     "text": [
      "<class 'pandas.core.frame.DataFrame'>\n",
      "RangeIndex: 235 entries, 0 to 234\n",
      "Data columns (total 19 columns):\n",
      " #   Column            Non-Null Count  Dtype  \n",
      "---  ------            --------------  -----  \n",
      " 0   eid               235 non-null    object \n",
      " 1   s2id              230 non-null    object \n",
      " 2   doi               235 non-null    object \n",
      " 3   title             235 non-null    object \n",
      " 4   abstract          232 non-null    object \n",
      " 5   year              235 non-null    int64  \n",
      " 6   authors           235 non-null    object \n",
      " 7   author_ids        235 non-null    object \n",
      " 8   affiliations      235 non-null    object \n",
      " 9   funding           109 non-null    object \n",
      " 10  PACs              95 non-null     object \n",
      " 11  publication_name  235 non-null    object \n",
      " 12  subject_areas     235 non-null    object \n",
      " 13  s2_authors        230 non-null    object \n",
      " 14  s2_author_ids     230 non-null    object \n",
      " 15  citations         201 non-null    object \n",
      " 16  references        191 non-null    object \n",
      " 17  num_citations     235 non-null    int64  \n",
      " 18  num_references    230 non-null    float64\n",
      "dtypes: float64(1), int64(2), object(16)\n",
      "memory usage: 35.0+ KB\n"
     ]
    }
   ],
   "source": [
    "import pandas as pd\n",
    "import os\n",
    "\n",
    "df = pd.read_csv(os.path.join(\"..\", \"..\", \"data\", \"sample2.csv\"))\n",
    "df.info()"
   ]
  },
  {
   "cell_type": "code",
   "execution_count": 8,
   "metadata": {},
   "outputs": [],
   "source": [
    "import numpy as np\n",
    "df[\"category\"] = np.random.choice(['A', 'B', 'C'], size=len(df))\n",
    "df[\"value\"] = np.random.randint(10, 100, size=len(df))"
   ]
  },
  {
   "cell_type": "markdown",
   "metadata": {},
   "source": [
    "# Results Directory"
   ]
  },
  {
   "cell_type": "code",
   "execution_count": 3,
   "metadata": {},
   "outputs": [],
   "source": [
    "RESULTS_DIR = \"results\"\n",
    "os.makedirs(RESULTS_DIR, exist_ok=True)"
   ]
  },
  {
   "cell_type": "markdown",
   "metadata": {},
   "source": [
    "# Plots"
   ]
  },
  {
   "cell_type": "code",
   "execution_count": 6,
   "metadata": {},
   "outputs": [],
   "source": [
    "from TELF.post_processing.Peacock.Plot.plot import plot_line, plot_scatter, plot_heatmap, plot_bar, plot_pie"
   ]
  },
  {
   "cell_type": "code",
   "execution_count": 9,
   "metadata": {},
   "outputs": [],
   "source": [
    "plot_line(\n",
    "    data=df, x='year', y='value', hue='category',\n",
    "    fname=os.path.join(RESULTS_DIR, \"line_plot.html\")\n",
    ")"
   ]
  },
  {
   "cell_type": "code",
   "execution_count": 10,
   "metadata": {},
   "outputs": [],
   "source": [
    "plot_scatter(\n",
    "    data=df, x='year', y='value', hue='category',\n",
    "    fname=os.path.join(RESULTS_DIR, \"scatter_plot.html\")\n",
    ")"
   ]
  },
  {
   "cell_type": "code",
   "execution_count": 11,
   "metadata": {},
   "outputs": [],
   "source": [
    "data_matrix = np.random.rand(10, 10)\n",
    "plot_heatmap(\n",
    "    data=pd.DataFrame(data_matrix),\n",
    "    colorbar=False,\n",
    "    fname=os.path.join(RESULTS_DIR, \"heatmap.html\")\n",
    ")"
   ]
  },
  {
   "cell_type": "code",
   "execution_count": 12,
   "metadata": {},
   "outputs": [],
   "source": [
    "plot_bar(\n",
    "    data=df, x='year', ys=['value'],\n",
    "    fname=os.path.join(RESULTS_DIR, \"bar_plot.html\")\n",
    ")"
   ]
  },
  {
   "cell_type": "code",
   "execution_count": 13,
   "metadata": {},
   "outputs": [],
   "source": [
    "data_pie = {'A': 30, 'B': 50, 'C': 20}\n",
    "plot_pie(\n",
    "    data=data_pie,\n",
    "    fname=os.path.join(RESULTS_DIR, \"pie_chart.png\")\n",
    ")"
   ]
  },
  {
   "cell_type": "code",
   "execution_count": null,
   "metadata": {},
   "outputs": [],
   "source": []
  }
 ],
 "metadata": {
  "kernelspec": {
   "display_name": "TELF",
   "language": "python",
   "name": "python3"
  },
  "language_info": {
   "codemirror_mode": {
    "name": "ipython",
    "version": 3
   },
   "file_extension": ".py",
   "mimetype": "text/x-python",
   "name": "python",
   "nbconvert_exporter": "python",
   "pygments_lexer": "ipython3",
   "version": "3.11.10"
  }
 },
 "nbformat": 4,
 "nbformat_minor": 2
}
