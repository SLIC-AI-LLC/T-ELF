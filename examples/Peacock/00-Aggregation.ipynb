{
 "cells": [
  {
   "cell_type": "markdown",
   "id": "03df4637-4b0f-41b0-9146-b3b8c932bc4f",
   "metadata": {},
   "source": [
    "# Showcase Peacock Aggregation Functions"
   ]
  },
  {
   "cell_type": "markdown",
   "id": "9702dc18-10e8-4efb-9220-8681ed96d36b",
   "metadata": {},
   "source": [
    "```Peacock``` includes convenience aggregation function for formatting the data prior to plotting. This notebook showcases these functions and provides examples on how to use them"
   ]
  },
  {
   "cell_type": "code",
   "execution_count": 1,
   "id": "0c2d7cee-3da6-42bd-9b36-d76fc23c72be",
   "metadata": {
    "tags": []
   },
   "outputs": [],
   "source": [
    "import os\n",
    "import pandas as pd\n",
    "import numpy as np"
   ]
  },
  {
   "cell_type": "code",
   "execution_count": 2,
   "id": "47cd3499-859f-49c7-bf2b-e73fe2a157e2",
   "metadata": {
    "tags": []
   },
   "outputs": [],
   "source": [
    "from TELF.post_processing.Peacock.Utility import aggregate as pag"
   ]
  },
  {
   "cell_type": "markdown",
   "id": "3cad09c0-4ed7-4015-befe-94d81a5b074f",
   "metadata": {},
   "source": [
    "## 0. Load Sample Data"
   ]
  },
  {
   "cell_type": "code",
   "execution_count": 11,
   "id": "f9200562-808f-4efd-b611-91678bf72163",
   "metadata": {
    "tags": []
   },
   "outputs": [
    {
     "name": "stdout",
     "output_type": "stream",
     "text": [
      "<class 'pandas.core.frame.DataFrame'>\n",
      "RangeIndex: 235 entries, 0 to 234\n",
      "Data columns (total 19 columns):\n",
      " #   Column            Non-Null Count  Dtype  \n",
      "---  ------            --------------  -----  \n",
      " 0   eid               235 non-null    object \n",
      " 1   s2id              230 non-null    object \n",
      " 2   doi               235 non-null    object \n",
      " 3   title             235 non-null    object \n",
      " 4   abstract          232 non-null    object \n",
      " 5   year              235 non-null    int64  \n",
      " 6   authors           235 non-null    object \n",
      " 7   author_ids        235 non-null    object \n",
      " 8   affiliations      235 non-null    object \n",
      " 9   funding           109 non-null    object \n",
      " 10  PACs              95 non-null     object \n",
      " 11  publication_name  235 non-null    object \n",
      " 12  subject_areas     235 non-null    object \n",
      " 13  s2_authors        230 non-null    object \n",
      " 14  s2_author_ids     230 non-null    object \n",
      " 15  citations         201 non-null    object \n",
      " 16  references        191 non-null    object \n",
      " 17  num_citations     235 non-null    int64  \n",
      " 18  num_references    230 non-null    float64\n",
      "dtypes: float64(1), int64(2), object(16)\n",
      "memory usage: 35.0+ KB\n"
     ]
    }
   ],
   "source": [
    "df = pd.read_csv(os.path.join(\"..\", \"..\", \"data\", \"sample2.csv\"))\n",
    "df.info()"
   ]
  },
  {
   "cell_type": "markdown",
   "id": "4f6f39a5-d835-41ca-9982-08b126f23d63",
   "metadata": {},
   "source": [
    "## 1. General Aggregation Functions"
   ]
  },
  {
   "cell_type": "markdown",
   "id": "2a8d0577-849e-420f-b14a-c32afdb2b4ed",
   "metadata": {},
   "source": [
    "### ```nunique```"
   ]
  },
  {
   "cell_type": "markdown",
   "id": "d3d74aa4-2250-4af8-9efc-78b09853db92",
   "metadata": {},
   "source": [
    "The `nunique` function calculates the number of unique values in a target column of a pandas DataFrame, optionally grouping by specified columns.\n",
    "\n",
    "#### Parameters\n",
    "- ```data```: The DataFrame to operate on.\n",
    "- ```target_column```: The column for which the unique value count is calculated.\n",
    "- ```group_columns```: (Optional) A list of column names in data to group by. If not provided, the function returns the total count of unique values in the `target_column`.\n",
    "\n",
    "#### Functionality\n",
    "- **Grouping**: If `group_columns` is provided, the function groups the DataFrame `data` based on these columns.\n",
    "- **Unique Counting**: It then counts the unique occurrences of values in `target_column`. If `group_columns` is provided, this count is done within each group.\n",
    "- **Result**: The output is a DataFrame where each row represents a unique group from `group_columns`, with a column showing the count of unique values in `target_column`. If no `group_columns` are provided, the result is an integer representing the total count of unique values in `target_column`.\n",
    "\n",
    "#### Use Case\n",
    "- This function is versatile for data analysis tasks that require understanding the uniqueness of data points, either overall or within specific groups. \n",
    "- For example, in academic research, it could be used to count the number of unique publications per author in each year or just the total unique publications in the dataset."
   ]
  },
  {
   "cell_type": "code",
   "execution_count": 4,
   "id": "2873ac72-e731-4a1e-bce3-f951a45a3a53",
   "metadata": {
    "tags": []
   },
   "outputs": [
    {
     "data": {
      "text/plain": [
       "36"
      ]
     },
     "execution_count": 4,
     "metadata": {},
     "output_type": "execute_result"
    }
   ],
   "source": [
    "pag.nunique(df, target_column='year')"
   ]
  },
  {
   "cell_type": "markdown",
   "metadata": {},
   "source": [
    "**Let's first assign random cluster numbers for the demo. Normally, we would have used NMFk to get the cluster numbers.**"
   ]
  },
  {
   "cell_type": "code",
   "execution_count": 5,
   "metadata": {},
   "outputs": [],
   "source": [
    "df[\"cluster\"] = np.random.randint(0,10, len(df))"
   ]
  },
  {
   "cell_type": "code",
   "execution_count": 6,
   "id": "4edc0ac3-da85-4504-a78a-fc51b088d6be",
   "metadata": {
    "tags": []
   },
   "outputs": [
    {
     "data": {
      "text/html": [
       "<div>\n",
       "<style scoped>\n",
       "    .dataframe tbody tr th:only-of-type {\n",
       "        vertical-align: middle;\n",
       "    }\n",
       "\n",
       "    .dataframe tbody tr th {\n",
       "        vertical-align: top;\n",
       "    }\n",
       "\n",
       "    .dataframe thead th {\n",
       "        text-align: right;\n",
       "    }\n",
       "</style>\n",
       "<table border=\"1\" class=\"dataframe\">\n",
       "  <thead>\n",
       "    <tr style=\"text-align: right;\">\n",
       "      <th></th>\n",
       "      <th>cluster</th>\n",
       "      <th>year</th>\n",
       "    </tr>\n",
       "  </thead>\n",
       "  <tbody>\n",
       "    <tr>\n",
       "      <th>0</th>\n",
       "      <td>0</td>\n",
       "      <td>14</td>\n",
       "    </tr>\n",
       "    <tr>\n",
       "      <th>1</th>\n",
       "      <td>1</td>\n",
       "      <td>14</td>\n",
       "    </tr>\n",
       "    <tr>\n",
       "      <th>2</th>\n",
       "      <td>2</td>\n",
       "      <td>20</td>\n",
       "    </tr>\n",
       "    <tr>\n",
       "      <th>3</th>\n",
       "      <td>3</td>\n",
       "      <td>15</td>\n",
       "    </tr>\n",
       "    <tr>\n",
       "      <th>4</th>\n",
       "      <td>4</td>\n",
       "      <td>15</td>\n",
       "    </tr>\n",
       "    <tr>\n",
       "      <th>5</th>\n",
       "      <td>5</td>\n",
       "      <td>17</td>\n",
       "    </tr>\n",
       "    <tr>\n",
       "      <th>6</th>\n",
       "      <td>6</td>\n",
       "      <td>20</td>\n",
       "    </tr>\n",
       "    <tr>\n",
       "      <th>7</th>\n",
       "      <td>7</td>\n",
       "      <td>20</td>\n",
       "    </tr>\n",
       "    <tr>\n",
       "      <th>8</th>\n",
       "      <td>8</td>\n",
       "      <td>16</td>\n",
       "    </tr>\n",
       "    <tr>\n",
       "      <th>9</th>\n",
       "      <td>9</td>\n",
       "      <td>19</td>\n",
       "    </tr>\n",
       "  </tbody>\n",
       "</table>\n",
       "</div>"
      ],
      "text/plain": [
       "   cluster  year\n",
       "0        0    14\n",
       "1        1    14\n",
       "2        2    20\n",
       "3        3    15\n",
       "4        4    15\n",
       "5        5    17\n",
       "6        6    20\n",
       "7        7    20\n",
       "8        8    16\n",
       "9        9    19"
      ]
     },
     "execution_count": 6,
     "metadata": {},
     "output_type": "execute_result"
    }
   ],
   "source": [
    "pag.nunique(df, target_column='year', group_columns=['cluster']).head(10)"
   ]
  },
  {
   "cell_type": "markdown",
   "id": "ea76c153-405f-48e5-9aaa-4b062fa31e27",
   "metadata": {},
   "source": [
    "### ```sum```"
   ]
  },
  {
   "cell_type": "markdown",
   "id": "e8e45e6b-2f09-4dd4-9893-6e22e1c6be0b",
   "metadata": {},
   "source": [
    "The `sum` function aggregates numeric data in a DataFrame by computing the sum within specified groups.\n",
    "\n",
    "#### Parameters\n",
    "- ```data```: The DataFrame to operate on.\n",
    "- ```group_columns```: A list of column names in data to group by.\n",
    "- ```top_n```: (Optional) Limits the output to the top N groups based on the `sort_by` column.\n",
    "- ```sort_by```: (Optional) The column to sort by when selecting the top N groups.\n",
    "- ```round_floats```: (Optional) The number of decimal places to round numeric results to.\n",
    "- ```preserve```: (Optional) A list of columns to exclude from aggregation, preserving their first value in each group.\n",
    "\n",
    "#### Functionality\n",
    "- **Grouping**: The DataFrame `data` is grouped based on `group_columns`\n",
    "- **Sum Calculation**: Calculates the sum for all numeric columns within each group.\n",
    "- **Sorting and Top N Filtering**: If `top_n` and `sort_by` are provided, the top N groups sorted by the specified column are included in the result.\n",
    "- **Preserving Columns**: Specific non-numeric columns can be preserved in the output to maintain context.\n",
    "\n",
    "#### Use Case\n",
    "- This function is ideal for quantitative analysis where the total sum of certain metrics within specified groups is required.\n",
    "- It can be utilized to evaluate total performance metrics, summarize total counts or amounts over time, or aggregate operational data."
   ]
  },
  {
   "cell_type": "code",
   "execution_count": null,
   "id": "4ea56e65-cb97-416b-955a-e4760b6ecd51",
   "metadata": {
    "tags": []
   },
   "outputs": [],
   "source": [
    "pag.sum(df, group_columns=['cluster']).head(10)"
   ]
  },
  {
   "cell_type": "code",
   "execution_count": null,
   "id": "acfae01f-e728-4129-8e10-80e8f021948c",
   "metadata": {
    "tags": []
   },
   "outputs": [],
   "source": [
    "pag.sum(df, group_columns=['cluster', 'year'])"
   ]
  },
  {
   "cell_type": "markdown",
   "id": "8bd54017-8066-4abc-be8e-3801552d17bf",
   "metadata": {},
   "source": [
    "### ```mean```"
   ]
  },
  {
   "cell_type": "markdown",
   "id": "ddaf0b5c-bcdd-4c82-a8fc-5e11894757fd",
   "metadata": {
    "tags": []
   },
   "source": [
    "The `mean` function groups a pandas DataFrame by specified columns and calculates the mean of every numeric variable in the data for each group, with options for sorting and filtering the results.\n",
    "\n",
    "#### Parameters\n",
    "- ```data```: The DataFrame to operate on.\n",
    "- ```group_columns```: A list of column names in data to group by.\n",
    "- ```top_n```: (Optional) Limits the output to the top N groups based on the `sort_by` column.\n",
    "- ```sort_by```: (Optional) The column to sort by when selecting the top N groups.\n",
    "- ```round_floats```: (Optional) The number of decimal places to round numeric results to.\n",
    "- ```preserve```: (Optional) A list of columns to exclude from aggregation, preserving their first value in each group.\n",
    "\n",
    "#### Functionality\n",
    "- **Grouping**: The DataFrame `data` is grouped based on `group_columns`\n",
    "- **Mean Calculation**: Calculates the mean for all numeric columns within each group.\n",
    "- **Sorting and Top N Filtering**: If `top_n` and `sort_by` are provided, the top N groups sorted by the specified column are included in the result.\n",
    "- **Preserving Columns**: Specific non-numeric columns can be preserved in the output to maintain context.\n",
    "\n",
    "#### Use Case\n",
    "- This function is particularly useful for statistical analysis where the average of certain metrics needs to be understood within specified groups. \n",
    "- It can be utilized to evaluate total performance metrics, summarize total counts or amounts over time, or aggregate operational data."
   ]
  },
  {
   "cell_type": "code",
   "execution_count": null,
   "id": "379fc497-e958-4490-b622-69496983e749",
   "metadata": {
    "tags": []
   },
   "outputs": [],
   "source": [
    "pag.mean(df, group_columns=['cluster']).head(10)"
   ]
  },
  {
   "cell_type": "code",
   "execution_count": null,
   "id": "b2a1c835-885d-4341-852b-b515e3767a19",
   "metadata": {
    "tags": []
   },
   "outputs": [],
   "source": [
    "pag.mean(df, group_columns=['cluster', 'year'])"
   ]
  },
  {
   "cell_type": "code",
   "execution_count": null,
   "metadata": {},
   "outputs": [],
   "source": []
  }
 ],
 "metadata": {
  "kernelspec": {
   "display_name": "Python 3 (ipykernel)",
   "language": "python",
   "name": "python3"
  },
  "language_info": {
   "codemirror_mode": {
    "name": "ipython",
    "version": 3
   },
   "file_extension": ".py",
   "mimetype": "text/x-python",
   "name": "python",
   "nbconvert_exporter": "python",
   "pygments_lexer": "ipython3",
   "version": "3.11.10"
  }
 },
 "nbformat": 4,
 "nbformat_minor": 5
}
