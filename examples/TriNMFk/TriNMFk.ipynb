{
 "cells": [
  {
   "cell_type": "code",
   "execution_count": 1,
   "metadata": {},
   "outputs": [],
   "source": [
    "import os\n",
    "os.environ[\"OMP_NUM_THREADS\"] = \"1\" # export OMP_NUM_THREADS=1\n",
    "os.environ[\"OPENBLAS_NUM_THREADS\"] = \"1\" # export OPENBLAS_NUM_THREADS=1\n",
    "os.environ[\"MKL_NUM_THREADS\"] = \"1\" # export MKL_NUM_THREADS=1\n",
    "os.environ[\"VECLIB_MAXIMUM_THREADS\"] = \"1\" # export VECLIB_MAXIMUM_THREADS=1\n",
    "os.environ[\"NUMEXPR_NUM_THREADS\"] = \"1\" # export NUMEXPR_NUM_THREADS=1"
   ]
  },
  {
   "cell_type": "markdown",
   "metadata": {},
   "source": [
    "# Create Data"
   ]
  },
  {
   "cell_type": "code",
   "execution_count": 2,
   "metadata": {},
   "outputs": [
    {
     "data": {
      "text/plain": [
       "dict_keys(['X', 'W', 'S', 'H'])"
      ]
     },
     "execution_count": 2,
     "metadata": {},
     "output_type": "execute_result"
    }
   ],
   "source": [
    "import sys; sys.path.append(\"../../scripts/\")\n",
    "from generate_X import gen_trinmf_data\n",
    "import matplotlib.pyplot as plt\n",
    "\n",
    "kwkh=(5,3)\n",
    "shape=(20,20)\n",
    "data = gen_trinmf_data(shape=shape, \n",
    "                       kwkh=kwkh, \n",
    "                       factor_wh=(0.5, 1.0), \n",
    "                       factor_S=1,\n",
    "                       random_state=10)\n",
    "data.keys()"
   ]
  },
  {
   "cell_type": "code",
   "execution_count": 3,
   "metadata": {},
   "outputs": [
    {
     "data": {
      "text/plain": [
       "((20, 20), (20, 5), (5, 3), (3, 20))"
      ]
     },
     "execution_count": 3,
     "metadata": {},
     "output_type": "execute_result"
    }
   ],
   "source": [
    "X = data[\"X\"]\n",
    "Wtrue = data[\"W\"]\n",
    "Strue = data[\"S\"]\n",
    "Htrue = data[\"H\"]\n",
    "X.shape, Wtrue.shape, Strue.shape, Htrue.shape"
   ]
  },
  {
   "cell_type": "code",
   "execution_count": 4,
   "metadata": {},
   "outputs": [
    {
     "name": "stdout",
     "output_type": "stream",
     "text": [
      "maximum correlation = 0.39\n"
     ]
    }
   ],
   "source": [
    "import numpy as np\n",
    "Wcor= np.corrcoef(Wtrue.T)\n",
    "maxcor = np.max(np.abs(Wcor[np.triu_indices(kwkh[0],k=2)]))\n",
    "print(f'maximum correlation = {maxcor:.2f}')"
   ]
  },
  {
   "cell_type": "markdown",
   "metadata": {},
   "source": [
    "# Initilize the Model"
   ]
  },
  {
   "cell_type": "code",
   "execution_count": 5,
   "metadata": {},
   "outputs": [],
   "source": [
    "nmfk_params = {\n",
    "    \"n_perturbs\":12,\n",
    "    \"n_iters\":100,\n",
    "    \"epsilon\":0.01,\n",
    "    \"n_jobs\":-1,\n",
    "    \"init\":\"nnsvd\",\n",
    "    \"use_gpu\":False,\n",
    "    \"save_path\":\"../../results/\",\n",
    "    \"verbose\":True,\n",
    "    \"sill_thresh\":0.8,\n",
    "    \"nmf_method\":\"nmf_fro_mu\", \n",
    "    \"perturb_type\":\"uniform\", \n",
    "    \"calculate_error\":True,\n",
    "    \"pruned\":True,\n",
    "    \"predict_k\":True,\n",
    "    \"predict_k_method\":\"sill\",\n",
    "    \"transpose\":False,\n",
    "    \"mask\":None,\n",
    "    \"use_consensus_stopping\":False,\n",
    "    \"calculate_pac\":True,\n",
    "    \"consensus_mat\":True,\n",
    "    \"simple_plot\":True,\n",
    "    \"collect_output\":True\n",
    "}\n",
    "\n",
    "tri_nmfk_params = {\n",
    "    \"experiment_name\":\"TriNMFk\",\n",
    "    \"nmfk_params\":nmfk_params,\n",
    "    \"save_path\":\"../../results/\",\n",
    "    \"nmf_verbose\":False,\n",
    "    \"use_gpu\":True,\n",
    "    \"n_jobs\":-1,\n",
    "    \"mask\":None,\n",
    "    \"use_consensus_stopping\":False,\n",
    "    \"alpha\":(0,0),\n",
    "    \"n_iters\":100,\n",
    "    \"n_inits\":10,\n",
    "    \"pruned\":False,\n",
    "    \"transpose\":False,\n",
    "    \"verbose\":True\n",
    "}"
   ]
  },
  {
   "cell_type": "code",
   "execution_count": 6,
   "metadata": {},
   "outputs": [
    {
     "name": "stdout",
     "output_type": "stream",
     "text": [
      "n_perturbs: 20\n",
      "perturb_type: uniform\n",
      "n_iters: 100\n",
      "epsilon: 0.015\n",
      "init: nnsvd\n",
      "save_path: ./\n",
      "save_output: True\n",
      "use_gpu: False\n",
      "verbose: True\n",
      "nmf_verbose: False\n",
      "perturb_verbose: False\n",
      "transpose: False\n",
      "collect_output: False\n",
      "sill_thresh: 0.8\n",
      "predict_k: False\n",
      "predict_k_method: pvalue\n",
      "n_jobs: 1\n",
      "n_nodes: 1\n",
      "nmf: <function nmf at 0x135a80c20>\n",
      "nmf_method: nmf_fro_mu\n",
      "nmf_obj_params: {}\n",
      "pruned: True\n",
      "calculate_error: True\n",
      "consensus_mat: True\n",
      "use_consensus_stopping: 0\n",
      "mask: None\n",
      "calculate_pac: True\n",
      "simple_plot: True\n",
      "get_plot_data: False\n",
      "perturb_multiprocessing: False\n",
      "lock: <unlocked _thread.lock object at 0x1347b5c00>\n",
      "total_exec_seconds: 0\n",
      "experiment_name: \n",
      "nmf_params: {'niter': 100, 'use_gpu': False, 'nmf_verbose': False, 'mask': None, 'use_consensus_stopping': 0}\n"
     ]
    },
    {
     "name": "stderr",
     "output_type": "stream",
     "text": [
      "/Users/maksim/miniconda3/envs/TELF_public/lib/python3.11/site-packages/TELF-0.0.4-py3.11.egg/TELF/factorization/utilities/organize_n_jobs.py:10: UserWarning: No GPU found! Using CPUs\n",
      "/Users/maksim/miniconda3/envs/TELF_public/lib/python3.11/site-packages/TELF-0.0.4-py3.11.egg/TELF/factorization/NMFk.py:587: UserWarning: calculate_error is True! Error calculation can make the runtime longer and take up more memory space!\n",
      "/Users/maksim/miniconda3/envs/TELF_public/lib/python3.11/site-packages/TELF-0.0.4-py3.11.egg/TELF/factorization/utilities/organize_n_jobs.py:10: UserWarning: No GPU found! Using CPUs\n"
     ]
    }
   ],
   "source": [
    "from TELF.factorization import TriNMFk\n",
    "model = TriNMFk(**tri_nmfk_params)"
   ]
  },
  {
   "cell_type": "markdown",
   "metadata": {},
   "source": [
    "# Perform NMFk First"
   ]
  },
  {
   "cell_type": "code",
   "execution_count": 7,
   "metadata": {},
   "outputs": [
    {
     "name": "stderr",
     "output_type": "stream",
     "text": [
      "  0%|          | 0/6 [00:00<?, ?it/s]"
     ]
    },
    {
     "name": "stderr",
     "output_type": "stream",
     "text": [
      "/Users/maksim/miniconda3/envs/TELF_public/lib/python3.11/site-packages/numpy-1.26.2-py3.11-macosx-11.1-arm64.egg/numpy/lib/function_base.py:2897: RuntimeWarning: invalid value encountered in divide\n",
      "  c /= stddev[:, None]\n",
      "/Users/maksim/miniconda3/envs/TELF_public/lib/python3.11/site-packages/numpy-1.26.2-py3.11-macosx-11.1-arm64.egg/numpy/core/fromnumeric.py:3504: RuntimeWarning: Mean of empty slice.\n",
      "  return _methods._mean(a, axis=axis, dtype=dtype,\n",
      "/Users/maksim/miniconda3/envs/TELF_public/lib/python3.11/site-packages/numpy-1.26.2-py3.11-macosx-11.1-arm64.egg/numpy/core/_methods.py:129: RuntimeWarning: invalid value encountered in scalar divide\n",
      "  ret = ret.dtype.type(ret / rcount)\n",
      "/Users/maksim/miniconda3/envs/TELF_public/lib/python3.11/site-packages/TELF-0.0.4-py3.11.egg/TELF/factorization/NMFk.py:368: RuntimeWarning: [tELF]: Encountered unknown logging metric \"pac\"\n",
      "100%|██████████| 6/6 [00:00<00:00, 10.67it/s]\n"
     ]
    }
   ],
   "source": [
    "Ks = range(1,7,1)\n",
    "note = \"This the the NMFk portion of the TriNMFk method!\"\n",
    "results = model.fit_nmfk(X, Ks, note)"
   ]
  },
  {
   "cell_type": "code",
   "execution_count": 8,
   "metadata": {},
   "outputs": [
    {
     "data": {
      "text/plain": [
       "dict_keys(['time', 'k_predict'])"
      ]
     },
     "execution_count": 8,
     "metadata": {},
     "output_type": "execute_result"
    }
   ],
   "source": [
    "results.keys()"
   ]
  },
  {
   "cell_type": "markdown",
   "metadata": {},
   "source": [
    "# Here now look at the outputs and choose k1 and k2 manually"
   ]
  },
  {
   "cell_type": "code",
   "execution_count": 10,
   "metadata": {},
   "outputs": [
    {
     "name": "stdout",
     "output_type": "stream",
     "text": [
      "FINAL_k=1-6.png            WH_k=5.npz\n",
      "WH_k=1.npz                 WH_k=6.npz\n",
      "WH_k=2.npz                 experiment.log\n",
      "WH_k=3.npz                 k_1_6_cophenetic_coeff.png\n",
      "WH_k=4.npz                 k_4_con_mat.png\n"
     ]
    }
   ],
   "source": [
    "! ls ../../results/TriNMFk_12perts_100iters_0.01eps_nnsvd-init"
   ]
  },
  {
   "cell_type": "markdown",
   "metadata": {},
   "source": [
    "# Perform TriNMFk with the selected k1 and k2"
   ]
  },
  {
   "cell_type": "code",
   "execution_count": 7,
   "metadata": {},
   "outputs": [
    {
     "name": "stderr",
     "output_type": "stream",
     "text": [
      "100%|██████████| 10/10 [00:03<00:00,  2.55it/s]\n"
     ]
    }
   ],
   "source": [
    "k1k2=(5,3)\n",
    "tri_nmfk_results = model.fit_tri_nmfk(X, k1k2)"
   ]
  },
  {
   "cell_type": "code",
   "execution_count": 12,
   "metadata": {},
   "outputs": [
    {
     "data": {
      "text/plain": [
       "dict_keys(['W', 'S', 'H', 'errors'])"
      ]
     },
     "execution_count": 12,
     "metadata": {},
     "output_type": "execute_result"
    }
   ],
   "source": [
    "tri_nmfk_results.keys()"
   ]
  },
  {
   "cell_type": "code",
   "execution_count": 13,
   "metadata": {},
   "outputs": [],
   "source": [
    "W = tri_nmfk_results[\"W\"]\n",
    "S = tri_nmfk_results[\"S\"]\n",
    "H = tri_nmfk_results[\"H\"]"
   ]
  },
  {
   "cell_type": "code",
   "execution_count": 14,
   "metadata": {},
   "outputs": [
    {
     "data": {
      "text/plain": [
       "((20, 5), (5, 3), (3, 20))"
      ]
     },
     "execution_count": 14,
     "metadata": {},
     "output_type": "execute_result"
    }
   ],
   "source": [
    "W.shape, S.shape, H.shape"
   ]
  },
  {
   "cell_type": "code",
   "execution_count": null,
   "metadata": {},
   "outputs": [],
   "source": []
  }
 ],
 "metadata": {
  "kernelspec": {
   "display_name": "Python 3",
   "language": "python",
   "name": "python3"
  },
  "language_info": {
   "codemirror_mode": {
    "name": "ipython",
    "version": 3
   },
   "file_extension": ".py",
   "mimetype": "text/x-python",
   "name": "python",
   "nbconvert_exporter": "python",
   "pygments_lexer": "ipython3",
   "version": "3.11.5"
  }
 },
 "nbformat": 4,
 "nbformat_minor": 4
}
