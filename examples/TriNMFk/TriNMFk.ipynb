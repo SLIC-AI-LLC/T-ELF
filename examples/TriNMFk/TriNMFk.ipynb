{
 "cells": [
  {
   "cell_type": "markdown",
   "metadata": {},
   "source": [
    "# Create Data"
   ]
  },
  {
   "cell_type": "code",
   "execution_count": 2,
   "metadata": {},
   "outputs": [
    {
     "data": {
      "text/plain": [
       "dict_keys(['X', 'W', 'S', 'H'])"
      ]
     },
     "execution_count": 2,
     "metadata": {},
     "output_type": "execute_result"
    }
   ],
   "source": [
    "import sys; sys.path.append(\"../../scripts/\")\n",
    "from generate_X import gen_trinmf_data\n",
    "import matplotlib.pyplot as plt\n",
    "\n",
    "kwkh=(5,3)\n",
    "shape=(20,20)\n",
    "data = gen_trinmf_data(shape=shape, \n",
    "                       kwkh=kwkh, \n",
    "                       factor_wh=(0.5, 1.0), \n",
    "                       factor_S=1,\n",
    "                       random_state=10)\n",
    "data.keys()"
   ]
  },
  {
   "cell_type": "code",
   "execution_count": 3,
   "metadata": {},
   "outputs": [
    {
     "data": {
      "text/plain": [
       "((20, 20), (20, 5), (5, 3), (3, 20))"
      ]
     },
     "execution_count": 3,
     "metadata": {},
     "output_type": "execute_result"
    }
   ],
   "source": [
    "X = data[\"X\"]\n",
    "Wtrue = data[\"W\"]\n",
    "Strue = data[\"S\"]\n",
    "Htrue = data[\"H\"]\n",
    "X.shape, Wtrue.shape, Strue.shape, Htrue.shape"
   ]
  },
  {
   "cell_type": "code",
   "execution_count": 4,
   "metadata": {},
   "outputs": [
    {
     "name": "stdout",
     "output_type": "stream",
     "text": [
      "maximum correlation = 0.39\n"
     ]
    }
   ],
   "source": [
    "import numpy as np\n",
    "Wcor= np.corrcoef(Wtrue.T)\n",
    "maxcor = np.max(np.abs(Wcor[np.triu_indices(kwkh[0],k=2)]))\n",
    "print(f'maximum correlation = {maxcor:.2f}')"
   ]
  },
  {
   "cell_type": "markdown",
   "metadata": {},
   "source": [
    "# Initilize the Model"
   ]
  },
  {
   "cell_type": "code",
   "execution_count": 7,
   "metadata": {},
   "outputs": [],
   "source": [
    "nmfk_params = {\n",
    "    \"n_perturbs\":64,\n",
    "    \"n_iters\":2000,\n",
    "    \"epsilon\":0.01,\n",
    "    \"n_jobs\":-1,\n",
    "    \"init\":\"nnsvd\",\n",
    "    \"use_gpu\":False,\n",
    "    \"save_path\":\"../../results/\",\n",
    "    \"verbose\":True,\n",
    "    \"sill_thresh\":0.8,\n",
    "    \"nmf_method\":\"nmf_fro_mu\", \n",
    "    \"perturb_type\":\"uniform\", \n",
    "    \"calculate_error\":True,\n",
    "    \"pruned\":True,\n",
    "    \"predict_k\":True,\n",
    "    \"predict_k_method\":\"sill\",\n",
    "    \"transpose\":False,\n",
    "    \"mask\":None,\n",
    "    \"use_consensus_stopping\":False,\n",
    "    \"calculate_pac\":True,\n",
    "    \"consensus_mat\":True,\n",
    "    \"simple_plot\":True,\n",
    "    \"collect_output\":True\n",
    "}\n",
    "\n",
    "tri_nmfk_params = {\n",
    "    \"experiment_name\":\"TriNMFk\",\n",
    "    \"nmfk_params\":nmfk_params,\n",
    "    \"nmf_verbose\":False,\n",
    "    \"use_gpu\":True,\n",
    "    \"n_jobs\":-1,\n",
    "    \"mask\":None,\n",
    "    \"use_consensus_stopping\":False,\n",
    "    \"alpha\":(0,0),\n",
    "    \"n_iters\":100,\n",
    "    \"n_inits\":10,\n",
    "    \"joblib_backend\":\"multiprocessing\",\n",
    "    \"pruned\":False,\n",
    "    \"transpose\":False,\n",
    "    \"verbose\":True\n",
    "}"
   ]
  },
  {
   "cell_type": "code",
   "execution_count": 8,
   "metadata": {},
   "outputs": [
    {
     "name": "stdout",
     "output_type": "stream",
     "text": [
      "Performing NMF with  nmf_fro_mu\n"
     ]
    },
    {
     "name": "stderr",
     "output_type": "stream",
     "text": [
      "/Users/maksim/opt/miniconda3/envs/TELF/lib/python3.8/site-packages/TELF-0.0.1-py3.8.egg/TELF/factorization/utilities/organize_n_jobs.py:10: UserWarning: No GPU found! Using CPUs\n",
      "/Users/maksim/opt/miniconda3/envs/TELF/lib/python3.8/site-packages/TELF-0.0.1-py3.8.egg/TELF/factorization/NMFk.py:392: UserWarning: calculate_error is True! Error calculation can make the runtime longer and take up more memory space!\n"
     ]
    }
   ],
   "source": [
    "from TELF.factorization import TriNMFk\n",
    "model = TriNMFk(**tri_nmfk_params)"
   ]
  },
  {
   "cell_type": "markdown",
   "metadata": {},
   "source": [
    "# Perform NMFk First"
   ]
  },
  {
   "cell_type": "code",
   "execution_count": 9,
   "metadata": {},
   "outputs": [
    {
     "name": "stderr",
     "output_type": "stream",
     "text": [
      "[Parallel(n_jobs=7)]: Using backend MultiprocessingBackend with 7 concurrent workers.\n",
      "/Users/maksim/Desktop/Code/telf-public/.eggs/numpy-1.22.0-py3.8-macosx-10.9-x86_64.egg/numpy/lib/function_base.py:2829: RuntimeWarning: invalid value encountered in true_divide\n",
      "  c /= stddev[:, None]\n",
      "/Users/maksim/Desktop/Code/telf-public/.eggs/numpy-1.22.0-py3.8-macosx-10.9-x86_64.egg/numpy/core/fromnumeric.py:3474: RuntimeWarning: Mean of empty slice.\n",
      "  return _methods._mean(a, axis=axis, dtype=dtype,\n",
      "/Users/maksim/Desktop/Code/telf-public/.eggs/numpy-1.22.0-py3.8-macosx-10.9-x86_64.egg/numpy/core/_methods.py:189: RuntimeWarning: invalid value encountered in double_scalars\n",
      "  ret = ret.dtype.type(ret / rcount)\n",
      "/Users/maksim/opt/miniconda3/envs/TELF/lib/python3.8/site-packages/TELF-0.0.1-py3.8.egg/TELF/factorization/NMFk.py:279: RuntimeWarning: [tELF]: Encountered unknown logging metric \"pac\"\n",
      "[Parallel(n_jobs=7)]: Done   2 out of   7 | elapsed:   10.1s remaining:   25.2s\n",
      "/Users/maksim/Desktop/Code/telf-public/.eggs/numpy-1.22.0-py3.8-macosx-10.9-x86_64.egg/numpy/core/fromnumeric.py:3474: RuntimeWarning: Mean of empty slice.\n",
      "  return _methods._mean(a, axis=axis, dtype=dtype,\n",
      "/Users/maksim/Desktop/Code/telf-public/.eggs/numpy-1.22.0-py3.8-macosx-10.9-x86_64.egg/numpy/core/_methods.py:189: RuntimeWarning: invalid value encountered in double_scalars\n",
      "  ret = ret.dtype.type(ret / rcount)\n",
      "/Users/maksim/opt/miniconda3/envs/TELF/lib/python3.8/site-packages/TELF-0.0.1-py3.8.egg/TELF/factorization/NMFk.py:279: RuntimeWarning: [tELF]: Encountered unknown logging metric \"pac\"\n",
      "/Users/maksim/Desktop/Code/telf-public/.eggs/numpy-1.22.0-py3.8-macosx-10.9-x86_64.egg/numpy/core/fromnumeric.py:3474: RuntimeWarning: Mean of empty slice.\n",
      "  return _methods._mean(a, axis=axis, dtype=dtype,\n",
      "/Users/maksim/Desktop/Code/telf-public/.eggs/numpy-1.22.0-py3.8-macosx-10.9-x86_64.egg/numpy/core/_methods.py:189: RuntimeWarning: invalid value encountered in double_scalars\n",
      "  ret = ret.dtype.type(ret / rcount)\n",
      "/Users/maksim/opt/miniconda3/envs/TELF/lib/python3.8/site-packages/TELF-0.0.1-py3.8.egg/TELF/factorization/NMFk.py:279: RuntimeWarning: [tELF]: Encountered unknown logging metric \"pac\"\n",
      "/Users/maksim/Desktop/Code/telf-public/.eggs/numpy-1.22.0-py3.8-macosx-10.9-x86_64.egg/numpy/core/fromnumeric.py:3474: RuntimeWarning: Mean of empty slice.\n",
      "  return _methods._mean(a, axis=axis, dtype=dtype,\n",
      "/Users/maksim/Desktop/Code/telf-public/.eggs/numpy-1.22.0-py3.8-macosx-10.9-x86_64.egg/numpy/core/_methods.py:189: RuntimeWarning: invalid value encountered in double_scalars\n",
      "  ret = ret.dtype.type(ret / rcount)\n",
      "/Users/maksim/opt/miniconda3/envs/TELF/lib/python3.8/site-packages/TELF-0.0.1-py3.8.egg/TELF/factorization/NMFk.py:279: RuntimeWarning: [tELF]: Encountered unknown logging metric \"pac\"\n",
      "/Users/maksim/Desktop/Code/telf-public/.eggs/numpy-1.22.0-py3.8-macosx-10.9-x86_64.egg/numpy/core/fromnumeric.py:3474: RuntimeWarning: Mean of empty slice.\n",
      "  return _methods._mean(a, axis=axis, dtype=dtype,\n",
      "/Users/maksim/Desktop/Code/telf-public/.eggs/numpy-1.22.0-py3.8-macosx-10.9-x86_64.egg/numpy/core/_methods.py:189: RuntimeWarning: invalid value encountered in double_scalars\n",
      "  ret = ret.dtype.type(ret / rcount)\n",
      "/Users/maksim/opt/miniconda3/envs/TELF/lib/python3.8/site-packages/TELF-0.0.1-py3.8.egg/TELF/factorization/NMFk.py:279: RuntimeWarning: [tELF]: Encountered unknown logging metric \"pac\"\n",
      "/Users/maksim/Desktop/Code/telf-public/.eggs/numpy-1.22.0-py3.8-macosx-10.9-x86_64.egg/numpy/core/fromnumeric.py:3474: RuntimeWarning: Mean of empty slice.\n",
      "  return _methods._mean(a, axis=axis, dtype=dtype,\n",
      "/Users/maksim/Desktop/Code/telf-public/.eggs/numpy-1.22.0-py3.8-macosx-10.9-x86_64.egg/numpy/core/_methods.py:189: RuntimeWarning: invalid value encountered in double_scalars\n",
      "  ret = ret.dtype.type(ret / rcount)\n",
      "/Users/maksim/opt/miniconda3/envs/TELF/lib/python3.8/site-packages/TELF-0.0.1-py3.8.egg/TELF/factorization/NMFk.py:279: RuntimeWarning: [tELF]: Encountered unknown logging metric \"pac\"\n",
      "/Users/maksim/Desktop/Code/telf-public/.eggs/numpy-1.22.0-py3.8-macosx-10.9-x86_64.egg/numpy/core/fromnumeric.py:3474: RuntimeWarning: Mean of empty slice.\n",
      "  return _methods._mean(a, axis=axis, dtype=dtype,\n",
      "/Users/maksim/Desktop/Code/telf-public/.eggs/numpy-1.22.0-py3.8-macosx-10.9-x86_64.egg/numpy/core/_methods.py:189: RuntimeWarning: invalid value encountered in double_scalars\n",
      "  ret = ret.dtype.type(ret / rcount)\n",
      "/Users/maksim/opt/miniconda3/envs/TELF/lib/python3.8/site-packages/TELF-0.0.1-py3.8.egg/TELF/factorization/NMFk.py:279: RuntimeWarning: [tELF]: Encountered unknown logging metric \"pac\"\n",
      "[Parallel(n_jobs=7)]: Done   7 out of   7 | elapsed:   16.8s finished\n"
     ]
    }
   ],
   "source": [
    "Ks = range(1,8,1)\n",
    "note = \"This the the NMFk portion of the TriNMFk method!\"\n",
    "results = model.fit_nmfk(X, Ks, note)"
   ]
  },
  {
   "cell_type": "code",
   "execution_count": 10,
   "metadata": {},
   "outputs": [
    {
     "data": {
      "text/plain": [
       "dict_keys(['time', 'k_predict'])"
      ]
     },
     "execution_count": 10,
     "metadata": {},
     "output_type": "execute_result"
    }
   ],
   "source": [
    "results.keys()"
   ]
  },
  {
   "cell_type": "markdown",
   "metadata": {},
   "source": [
    "# Here now look at the outputs and choose k1 and k2 manually"
   ]
  },
  {
   "cell_type": "code",
   "execution_count": 11,
   "metadata": {},
   "outputs": [
    {
     "name": "stdout",
     "output_type": "stream",
     "text": [
      "FINAL_k=1-7.png            k_1_7_cophenetic_coeff.png\n",
      "WH_k=1.npz                 k_1_con_mat.png\n",
      "WH_k=2.npz                 k_2_con_mat.png\n",
      "WH_k=3.npz                 k_3_con_mat.png\n",
      "WH_k=4.npz                 k_4_con_mat.png\n",
      "WH_k=5.npz                 k_5_con_mat.png\n",
      "WH_k=6.npz                 k_6_con_mat.png\n",
      "WH_k=7.npz                 k_7_con_mat.png\n",
      "experiment.log\n"
     ]
    }
   ],
   "source": [
    "! ls ../../results/TriNMFk_64perts_2000iters_0.01eps_nnsvd-init"
   ]
  },
  {
   "cell_type": "markdown",
   "metadata": {},
   "source": [
    "# Perform TriNMFk with the selected k1 and k2"
   ]
  },
  {
   "cell_type": "code",
   "execution_count": 12,
   "metadata": {},
   "outputs": [
    {
     "name": "stderr",
     "output_type": "stream",
     "text": [
      "[Parallel(n_jobs=8)]: Using backend MultiprocessingBackend with 8 concurrent workers.\n",
      "[Parallel(n_jobs=8)]: Done   6 out of  10 | elapsed:    7.7s remaining:    5.1s\n",
      "[Parallel(n_jobs=8)]: Done  10 out of  10 | elapsed:    9.7s finished\n"
     ]
    }
   ],
   "source": [
    "k1k2=(5,3)\n",
    "tri_nmfk_results = model.fit_tri_nmfk(X, k1k2)"
   ]
  },
  {
   "cell_type": "code",
   "execution_count": 13,
   "metadata": {},
   "outputs": [
    {
     "data": {
      "text/plain": [
       "dict_keys(['W', 'S', 'H', 'errors'])"
      ]
     },
     "execution_count": 13,
     "metadata": {},
     "output_type": "execute_result"
    }
   ],
   "source": [
    "tri_nmfk_results.keys()"
   ]
  },
  {
   "cell_type": "code",
   "execution_count": 14,
   "metadata": {},
   "outputs": [],
   "source": [
    "W = tri_nmfk_results[\"W\"]\n",
    "S = tri_nmfk_results[\"S\"]\n",
    "H = tri_nmfk_results[\"H\"]"
   ]
  },
  {
   "cell_type": "code",
   "execution_count": 15,
   "metadata": {},
   "outputs": [
    {
     "data": {
      "text/plain": [
       "((20, 5), (5, 3), (3, 20))"
      ]
     },
     "execution_count": 15,
     "metadata": {},
     "output_type": "execute_result"
    }
   ],
   "source": [
    "W.shape, S.shape, H.shape"
   ]
  },
  {
   "cell_type": "code",
   "execution_count": null,
   "metadata": {},
   "outputs": [],
   "source": []
  }
 ],
 "metadata": {
  "kernelspec": {
   "display_name": "Python 3",
   "language": "python",
   "name": "python3"
  },
  "language_info": {
   "codemirror_mode": {
    "name": "ipython",
    "version": 3
   },
   "file_extension": ".py",
   "mimetype": "text/x-python",
   "name": "python",
   "nbconvert_exporter": "python",
   "pygments_lexer": "ipython3",
   "version": "3.8.5"
  }
 },
 "nbformat": 4,
 "nbformat_minor": 4
}
