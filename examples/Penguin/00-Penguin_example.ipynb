{
 "cells": [
  {
   "cell_type": "markdown",
   "metadata": {},
   "source": [
    "# First setup and run MongoDB\n",
    "**Tutorial:https://www.mongodb.com/docs/manual/installation/**"
   ]
  },
  {
   "cell_type": "markdown",
   "metadata": {},
   "source": [
    "# Download Papers"
   ]
  },
  {
   "cell_type": "code",
   "execution_count": 1,
   "metadata": {},
   "outputs": [],
   "source": [
    "# allows async co-routines to work inside of jupyter notebook\n",
    "import nest_asyncio\n",
    "nest_asyncio.apply()"
   ]
  },
  {
   "cell_type": "code",
   "execution_count": 2,
   "metadata": {},
   "outputs": [],
   "source": [
    "import pathlib\n",
    "\n",
    "CACHING_DIR = 'scopus_cache'\n",
    "CACHING_DIR = pathlib.Path(CACHING_DIR).resolve()"
   ]
  },
  {
   "cell_type": "code",
   "execution_count": 4,
   "metadata": {},
   "outputs": [
    {
     "name": "stdout",
     "output_type": "stream",
     "text": [
      "Found SCOPUS_KEY environment variable\n"
     ]
    }
   ],
   "source": [
    "from TELF.pre_processing.iPenguin.Scopus import Scopus\n",
    "import os\n",
    "\n",
    "if \"SCOPUS_KEY\" in os.environ:\n",
    "    print(\"Found SCOPUS_KEY environment variable\")\n",
    "    API_KEY = os.environ[\"SCOPUS_KEY\"]\n",
    "else:\n",
    "    print(\"Variable does not exist. Export Scopus API key on your environment using the variable name SCOPUS_KEY.\")\n",
    "    API_KEY = \"\""
   ]
  },
  {
   "cell_type": "code",
   "execution_count": 5,
   "metadata": {},
   "outputs": [],
   "source": [
    "scopus = Scopus(\n",
    "    keys = [API_KEY], \n",
    "    mode = 'fs',         # file system caching mode (default)\n",
    "    name = CACHING_DIR,  # where to cache the files\n",
    "    verbose = True\n",
    ")"
   ]
  },
  {
   "cell_type": "code",
   "execution_count": 6,
   "metadata": {},
   "outputs": [
    {
     "name": "stderr",
     "output_type": "stream",
     "text": [
      "[Scopus API]: Remaining API calls: 9981\n",
      "              Quota resets at:     2025-03-25 05:25:34\n",
      "\n",
      "100%|██████████| 41/41 [00:06<00:00,  6.18it/s]\n"
     ]
    },
    {
     "name": "stdout",
     "output_type": "stream",
     "text": [
      "<class 'pandas.core.frame.DataFrame'>\n",
      "RangeIndex: 41 entries, 0 to 40\n",
      "Data columns (total 13 columns):\n",
      " #   Column            Non-Null Count  Dtype \n",
      "---  ------            --------------  ----- \n",
      " 0   eid               41 non-null     object\n",
      " 1   doi               41 non-null     object\n",
      " 2   title             41 non-null     object\n",
      " 3   year              41 non-null     int64 \n",
      " 4   abstract          41 non-null     object\n",
      " 5   authors           41 non-null     object\n",
      " 6   author_ids        41 non-null     object\n",
      " 7   affiliations      41 non-null     object\n",
      " 8   funding           29 non-null     object\n",
      " 9   PACs              27 non-null     object\n",
      " 10  publication_name  41 non-null     object\n",
      " 11  subject_areas     41 non-null     object\n",
      " 12  num_citations     41 non-null     int64 \n",
      "dtypes: int64(2), object(11)\n",
      "memory usage: 4.3+ KB\n"
     ]
    },
    {
     "name": "stderr",
     "output_type": "stream",
     "text": [
      "[Scopus]: Finished downloading 41 papers in 11.03s\n",
      "[Parallel(n_jobs=12)]: Using backend ThreadingBackend with 12 concurrent workers.\n",
      "[Parallel(n_jobs=12)]: Done   2 out of  12 | elapsed:    0.0s remaining:    0.1s\n",
      "[Parallel(n_jobs=12)]: Done  12 out of  12 | elapsed:    0.0s finished\n"
     ]
    }
   ],
   "source": [
    "# search for 'Boian Alexandrov' in all author fields\n",
    "query = 'AUTH(Boian Alexandrov)'\n",
    "df, paper_ids = scopus.search(query, n=100)\n",
    "df.info()"
   ]
  },
  {
   "cell_type": "markdown",
   "metadata": {},
   "source": [
    "# Penguin Storage"
   ]
  },
  {
   "cell_type": "code",
   "execution_count": 7,
   "metadata": {},
   "outputs": [
    {
     "name": "stdout",
     "output_type": "stream",
     "text": [
      "Connected to DB: Penguin\n"
     ]
    },
    {
     "name": "stderr",
     "output_type": "stream",
     "text": [
      "[Penguin]: MongoDB connection successful and database is valid.\n"
     ]
    }
   ],
   "source": [
    "from TELF.applications.Penguin import Penguin\n",
    "import os\n",
    "\n",
    "MONGO_URI = \"localhost:27017\"\n",
    "DB_NAME = \"Penguin\"\n",
    "USERNAME = None\n",
    "PASSWORD = None\n",
    "\n",
    "penguin_db = Penguin(uri=MONGO_URI, \n",
    "                     db_name=DB_NAME, \n",
    "                     username=USERNAME, \n",
    "                     password=PASSWORD, verbose=True)\n",
    "print(\"Connected to DB:\", penguin_db.db_name)"
   ]
  },
  {
   "cell_type": "markdown",
   "metadata": {},
   "source": [
    "### Add Documents"
   ]
  },
  {
   "cell_type": "code",
   "execution_count": 8,
   "metadata": {},
   "outputs": [
    {
     "name": "stderr",
     "output_type": "stream",
     "text": [
      "[Parallel(n_jobs=12)]: Using backend ThreadingBackend with 12 concurrent workers.\n",
      "[Parallel(n_jobs=12)]: Done  41 out of  41 | elapsed:    0.1s finished\n"
     ]
    }
   ],
   "source": [
    "penguin_db.add_many_documents(directory=CACHING_DIR, source=\"Scopus\", overwrite=True)"
   ]
  },
  {
   "cell_type": "code",
   "execution_count": 9,
   "metadata": {},
   "outputs": [
    {
     "name": "stdout",
     "output_type": "stream",
     "text": [
      "Number of documents: {'scopus': 42, 's2': 0}\n"
     ]
    }
   ],
   "source": [
    "counts = penguin_db.count_documents()\n",
    "print(\"Number of documents:\", counts)"
   ]
  },
  {
   "cell_type": "code",
   "execution_count": 10,
   "metadata": {},
   "outputs": [
    {
     "data": {
      "text/plain": [
       "[]"
      ]
     },
     "execution_count": 10,
     "metadata": {},
     "output_type": "execute_result"
    }
   ],
   "source": [
    "list(penguin_db.db[\"Penguin\"].find())"
   ]
  },
  {
   "cell_type": "markdown",
   "metadata": {},
   "source": [
    "# Search"
   ]
  },
  {
   "cell_type": "code",
   "execution_count": 17,
   "metadata": {},
   "outputs": [
    {
     "name": "stderr",
     "output_type": "stream",
     "text": [
      "[Parallel(n_jobs=12)]: Using backend ThreadingBackend with 12 concurrent workers.\n",
      "[Parallel(n_jobs=12)]: Done   2 out of  12 | elapsed:    0.0s remaining:    0.0s\n",
      "[Parallel(n_jobs=12)]: Done  12 out of  12 | elapsed:    0.0s finished\n"
     ]
    },
    {
     "data": {
      "text/plain": [
       "13"
      ]
     },
     "execution_count": 17,
     "metadata": {},
     "output_type": "execute_result"
    }
   ],
   "source": [
    "search_results = penguin_db.text_search(target=\"Tensor\", scopus=True, s2=True)\n",
    "len(search_results)"
   ]
  },
  {
   "cell_type": "code",
   "execution_count": 24,
   "metadata": {},
   "outputs": [
    {
     "data": {
      "text/plain": [
       "1"
      ]
     },
     "execution_count": 24,
     "metadata": {},
     "output_type": "execute_result"
    }
   ],
   "source": [
    "ids = [\"doi:10.1038/s41598-017-09537-y\"]\n",
    "id_results = penguin_db.id_search(ids=ids)\n",
    "len(id_results)"
   ]
  },
  {
   "cell_type": "markdown",
   "metadata": {},
   "source": [
    "# Tagging"
   ]
  },
  {
   "cell_type": "code",
   "execution_count": 29,
   "metadata": {},
   "outputs": [
    {
     "data": {
      "text/plain": [
       "1"
      ]
     },
     "execution_count": 29,
     "metadata": {},
     "output_type": "execute_result"
    }
   ],
   "source": [
    "paper_id = \"eid:2-s2.0-85028463178\"\n",
    "penguin_db.add_tag(document_id=paper_id, tag=\"Tensors\")\n",
    "len(penguin_db.find_by_tag(\"Tensors\"))"
   ]
  },
  {
   "cell_type": "code",
   "execution_count": 30,
   "metadata": {},
   "outputs": [],
   "source": [
    "penguin_db.remove_tag(document_id=paper_id, tag=\"Tensors\")"
   ]
  },
  {
   "cell_type": "markdown",
   "metadata": {},
   "source": [
    "# Bloom Filter"
   ]
  },
  {
   "cell_type": "code",
   "execution_count": 33,
   "metadata": {},
   "outputs": [
    {
     "data": {
      "text/plain": [
       "<Bloom size_in_bits=752 approx_items=41.3>"
      ]
     },
     "execution_count": 33,
     "metadata": {},
     "output_type": "execute_result"
    }
   ],
   "source": [
    "bloom_filter = penguin_db.get_id_bloom(source=\"Scopus\")\n",
    "bloom_filter"
   ]
  },
  {
   "cell_type": "code",
   "execution_count": 34,
   "metadata": {},
   "outputs": [],
   "source": [
    "if \"s2id:319fd71e72e4b9c76f40429f3fb40aa98a3b0918\" in bloom_filter:\n",
    "    print(\"Paper exists in DB (checked via Bloom filter)\")"
   ]
  },
  {
   "cell_type": "code",
   "execution_count": null,
   "metadata": {},
   "outputs": [],
   "source": []
  }
 ],
 "metadata": {
  "kernelspec": {
   "display_name": "TELF",
   "language": "python",
   "name": "python3"
  },
  "language_info": {
   "codemirror_mode": {
    "name": "ipython",
    "version": 3
   },
   "file_extension": ".py",
   "mimetype": "text/x-python",
   "name": "python",
   "nbconvert_exporter": "python",
   "pygments_lexer": "ipython3",
   "version": "3.11.10"
  }
 },
 "nbformat": 4,
 "nbformat_minor": 2
}
