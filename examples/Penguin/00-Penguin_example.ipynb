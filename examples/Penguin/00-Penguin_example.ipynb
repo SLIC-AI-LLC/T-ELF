{
 "cells": [
  {
   "cell_type": "markdown",
   "metadata": {},
   "source": [
    "# First setup and run MongoDB\n",
    "**Tutorial:https://www.mongodb.com/docs/manual/installation/**"
   ]
  },
  {
   "cell_type": "markdown",
   "metadata": {},
   "source": [
    "# Download Papers"
   ]
  },
  {
   "cell_type": "code",
   "execution_count": null,
   "metadata": {},
   "outputs": [],
   "source": [
    "# allows async co-routines to work inside of jupyter notebook\n",
    "import nest_asyncio\n",
    "nest_asyncio.apply()"
   ]
  },
  {
   "cell_type": "code",
   "execution_count": null,
   "metadata": {},
   "outputs": [],
   "source": [
    "import pathlib\n",
    "\n",
    "CACHING_DIR = 'scopus_cache'\n",
    "CACHING_DIR = pathlib.Path(CACHING_DIR).resolve()"
   ]
  },
  {
   "cell_type": "code",
   "execution_count": null,
   "metadata": {},
   "outputs": [],
   "source": [
    "from TELF.pre_processing.iPenguin.Scopus import Scopus\n",
    "import os\n",
    "\n",
    "if \"SCOPUS_KEY\" in os.environ:\n",
    "    print(\"Found SCOPUS_KEY environment variable\")\n",
    "    API_KEY = os.environ[\"SCOPUS_KEY\"]\n",
    "else:\n",
    "    print(\"Variable does not exist. Export Scopus API key on your environment using the variable name SCOPUS_KEY.\")\n",
    "    API_KEY = \"\""
   ]
  },
  {
   "cell_type": "code",
   "execution_count": null,
   "metadata": {},
   "outputs": [],
   "source": [
    "scopus = Scopus(\n",
    "    keys = [API_KEY], \n",
    "    mode = 'fs',         # file system caching mode (default)\n",
    "    name = CACHING_DIR,  # where to cache the files\n",
    "    verbose = True\n",
    ")"
   ]
  },
  {
   "cell_type": "code",
   "execution_count": null,
   "metadata": {},
   "outputs": [],
   "source": [
    "# search for 'Boian Alexandrov' in all author fields\n",
    "query = 'AUTH(Boian Alexandrov)'\n",
    "df, paper_ids = scopus.search(query, n=100)\n",
    "df.info()"
   ]
  },
  {
   "cell_type": "markdown",
   "metadata": {},
   "source": [
    "# Penguin Storage"
   ]
  },
  {
   "cell_type": "code",
   "execution_count": null,
   "metadata": {},
   "outputs": [],
   "source": [
    "from TELF.applications.Penguin import Penguin\n",
    "import os\n",
    "\n",
    "MONGO_URI = \"localhost:27017\"\n",
    "DB_NAME = \"Penguin\"\n",
    "USERNAME = None\n",
    "PASSWORD = None\n",
    "\n",
    "penguin_db = Penguin(uri=MONGO_URI, \n",
    "                     db_name=DB_NAME, \n",
    "                     username=USERNAME, \n",
    "                     password=PASSWORD, verbose=True)\n",
    "print(\"Connected to DB:\", penguin_db.db_name)"
   ]
  },
  {
   "cell_type": "markdown",
   "metadata": {},
   "source": [
    "### Add Documents"
   ]
  },
  {
   "cell_type": "code",
   "execution_count": null,
   "metadata": {},
   "outputs": [],
   "source": [
    "penguin_db.add_many_documents(directory=CACHING_DIR, source=\"Scopus\", overwrite=True)"
   ]
  },
  {
   "cell_type": "code",
   "execution_count": null,
   "metadata": {},
   "outputs": [],
   "source": [
    "counts = penguin_db.count_documents()\n",
    "print(\"Number of documents:\", counts)"
   ]
  },
  {
   "cell_type": "code",
   "execution_count": null,
   "metadata": {},
   "outputs": [],
   "source": [
    "list(penguin_db.db[\"Penguin\"].find())"
   ]
  },
  {
   "cell_type": "markdown",
   "metadata": {},
   "source": [
    "# Search"
   ]
  },
  {
   "cell_type": "code",
   "execution_count": null,
   "metadata": {},
   "outputs": [],
   "source": [
    "search_results = penguin_db.text_search(target=\"Tensor\", scopus=True, s2=True)\n",
    "len(search_results)"
   ]
  },
  {
   "cell_type": "code",
   "execution_count": null,
   "metadata": {},
   "outputs": [],
   "source": [
    "ids = [\"doi:10.1038/s41598-017-09537-y\"]\n",
    "id_results = penguin_db.id_search(ids=ids)\n",
    "len(id_results)"
   ]
  },
  {
   "cell_type": "markdown",
   "metadata": {},
   "source": [
    "# Tagging"
   ]
  },
  {
   "cell_type": "code",
   "execution_count": null,
   "metadata": {},
   "outputs": [],
   "source": [
    "paper_id = \"eid:2-s2.0-85028463178\"\n",
    "penguin_db.add_tag(document_id=paper_id, tag=\"Tensors\")\n",
    "len(penguin_db.find_by_tag(\"Tensors\"))"
   ]
  },
  {
   "cell_type": "code",
   "execution_count": null,
   "metadata": {},
   "outputs": [],
   "source": [
    "penguin_db.remove_tag(document_id=paper_id, tag=\"Tensors\")"
   ]
  },
  {
   "cell_type": "markdown",
   "metadata": {},
   "source": [
    "# Bloom Filter"
   ]
  },
  {
   "cell_type": "code",
   "execution_count": null,
   "metadata": {},
   "outputs": [],
   "source": [
    "bloom_filter = penguin_db.get_id_bloom(source=\"Scopus\")\n",
    "bloom_filter"
   ]
  },
  {
   "cell_type": "code",
   "execution_count": null,
   "metadata": {},
   "outputs": [],
   "source": [
    "if \"s2id:319fd71e72e4b9c76f40429f3fb40aa98a3b0918\" in bloom_filter:\n",
    "    print(\"Paper exists in DB (checked via Bloom filter)\")"
   ]
  },
  {
   "cell_type": "code",
   "execution_count": null,
   "metadata": {},
   "outputs": [],
   "source": []
  }
 ],
 "metadata": {
  "kernelspec": {
   "display_name": "dev_artic_fox",
   "language": "python",
   "name": "python3"
  },
  "language_info": {
   "codemirror_mode": {
    "name": "ipython",
    "version": 3
   },
   "file_extension": ".py",
   "mimetype": "text/x-python",
   "name": "python",
   "nbconvert_exporter": "python",
   "pygments_lexer": "ipython3",
   "version": "3.11.10"
  }
 },
 "nbformat": 4,
 "nbformat_minor": 2
}
