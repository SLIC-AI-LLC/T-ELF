{
 "cells": [
  {
   "cell_type": "markdown",
   "id": "254cd3b1-e36b-42b5-9297-9b9d174a1011",
   "metadata": {},
   "source": [
    "# Vulture"
   ]
  },
  {
   "cell_type": "markdown",
   "id": "20f74105-f696-41c1-ad8e-1414f1e874b4",
   "metadata": {},
   "source": [
    "## Introduction to Text Operations with Vulture"
   ]
  },
  {
   "cell_type": "code",
   "execution_count": 1,
   "id": "1c0a0ad2-f847-4cdb-a35e-7ad4f298505b",
   "metadata": {
    "tags": []
   },
   "outputs": [],
   "source": [
    "import os\n",
    "import pickle\n",
    "import pathlib\n",
    "import pandas as pd\n",
    "\n",
    "from TELF.pre_processing import Vulture\n",
    "from TELF.pre_processing.Vulture.modules import AcronymDetector\n",
    "from TELF.pre_processing.Vulture.modules import SimpleCleaner"
   ]
  },
  {
   "cell_type": "markdown",
   "id": "4a1dc990-7de8-40e6-baca-0ecef35c6477",
   "metadata": {},
   "source": [
    "## 0. Load Dataset"
   ]
  },
  {
   "cell_type": "markdown",
   "id": "9b12074f-691b-4a4a-b070-ec94307f3fd4",
   "metadata": {},
   "source": [
    "### Input"
   ]
  },
  {
   "cell_type": "code",
   "execution_count": 2,
   "id": "521bce7b-4e83-4639-b784-a066c22478c6",
   "metadata": {
    "tags": []
   },
   "outputs": [
    {
     "data": {
      "text/plain": [
       "10"
      ]
     },
     "execution_count": 2,
     "metadata": {},
     "output_type": "execute_result"
    }
   ],
   "source": [
    "DATA_DIR = os.path.join('..', '..', 'data')\n",
    "DATA_DIR = pathlib.Path(DATA_DIR).resolve()\n",
    "DATA_FILE = 'acronyms_documents.p'\n",
    "documents = pickle.load(open(os.path.join(DATA_DIR, DATA_FILE), 'rb'))\n",
    "len(documents)"
   ]
  },
  {
   "cell_type": "code",
   "execution_count": 3,
   "metadata": {},
   "outputs": [
    {
     "data": {
      "text/plain": [
       "{'ID_1': \"In our discussion about Global Warming (GW), we should also consider Sustainable Energy Sources (SES). While discussing SES, it's vital to mention Carbon Footprint Reduction (CFR) and its impacts on Environmental Sustainability (ES). Let's not forget the role of Innovative Technology Solutions (ITS).\",\n",
       " 'ID_2': \"The project's success hinges on Effective Team Collaboration (ETC), robust Project Management Frameworks (PMF), and the use of Advanced Analytics Tools (AAT). Furthermore, Continuous Improvement Processes (CIP) and Strategic Planning Initiatives (SPI) are key.\",\n",
       " 'ID_3': \"Digital Transformation (DT) involves more than just technology. It's about Customer Engagement Strategies (CES) and optimizing the User Experience (UX). Moreover, Data Privacy Regulations (DPR) and Cybersecurity Measures (CM) are foundational.\",\n",
       " 'ID_4': 'Financial institutions are focusing on Risk Management Practices (RMP) and Investment Diversification Strategies (IDS). The importance of Regulatory Compliance (RC) and Financial Technology Innovations (FTI) is also growing. Additionally, Consumer Financial Protection (CFP) is a priority.',\n",
       " 'ID_5': 'In healthcare, Patient Care Coordination (PCC) and Electronic Health Records (EHR) are transforming services. Medical Research Innovations (MRI) continue to advance, alongside Health Information Exchanges (HIE). Public Health Initiatives (PHI) are also crucial.',\n",
       " 'ID_6': 'Educational Technology (ET) is reshaping learning through Interactive Learning Platforms (ILP) and Adaptive Learning Algorithms (ALA). The focus is also on Student Performance Analytics (SPA) and Digital Curriculum Development (DCD). Educator Professional Development (EPD) remains essential.',\n",
       " 'ID_7': 'The entertainment industry values Creative Content Production (CCP) and Digital Distribution Platforms (DDP). Audience Engagement Metrics (AEM) are analyzed to tailor Marketing Strategies (MS). Additionally, Intellectual Property Rights (IPR) are carefully managed.',\n",
       " 'ID_8': 'Sustainable Agriculture Practices (SAP) and Precision Farming Technologies (PFT) are revolutionizing farming. Crop Yield Optimization (CYO) is a focus, alongside Water Resource Management (WRM). Farmer Support Programs (FSP) provide necessary assistance.',\n",
       " 'ID_9': 'Urban Planning (UP) incorporates Green Infrastructure (GI) and Public Transport Solutions (PTS). Smart City Initiatives (SCI) leverage IoT Technologies (ITT). Community Engagement Processes (CEP) and Zoning Regulations (ZR) are also fundamental.',\n",
       " 'various_forms_of _acronyms': 'To Be Determined (TBD), National Aeronautics and Space Administration: NASA, Self-Contained Underwater Breathing Apparatus- SCUBA, Light Amplification by Stimulated Emission of Radiation—LASER, RADAR (Radio Detection And Ranging), ASAP: As Soon As Possible, CPU - Central Processing Unit, DIY—Do It Yourself, Frequently Asked Questions (i.e., FAQ), GIF (Graphics Interchange Format), HTTP: Hypertext Transfer Protocol, JSON - JavaScript Object Notation, KPI—Key Performance Indicator, Light Emitting Diode, namely LED, Magnetic Resonance Imaging, i.e., MRI, OLED, which stands for Organic Light-Emitting Diode'}"
      ]
     },
     "execution_count": 3,
     "metadata": {},
     "output_type": "execute_result"
    }
   ],
   "source": [
    "documents"
   ]
  },
  {
   "cell_type": "markdown",
   "id": "387ef96c-492f-4eab-a72e-bcdb3417efa8",
   "metadata": {},
   "source": [
    "### Output"
   ]
  },
  {
   "cell_type": "code",
   "execution_count": 5,
   "id": "21aaaf2c-8c07-4126-a68e-aeebb4d01b59",
   "metadata": {
    "tags": []
   },
   "outputs": [],
   "source": [
    "RESULTS_DIR = 'results'\n",
    "RESULTS_DIR = pathlib.Path(RESULTS_DIR).resolve()\n",
    "RESULTS_FILE = 'operated_documents'\n",
    "try:\n",
    "    os.mkdir(RESULTS_DIR)\n",
    "except FileExistsError:\n",
    "    pass"
   ]
  },
  {
   "cell_type": "code",
   "execution_count": 11,
   "id": "c5ddcb5a",
   "metadata": {},
   "outputs": [
    {
     "data": {
      "text/plain": [
       "AcronymDetector(module_type='OPERATOR', gram_range=[2, 3, 4, 5, 6, 7], current_document_id=None, replace_raw=False)"
      ]
     },
     "execution_count": 11,
     "metadata": {},
     "output_type": "execute_result"
    }
   ],
   "source": [
    "AcronymDetector()"
   ]
  },
  {
   "cell_type": "code",
   "execution_count": 12,
   "id": "1c59c011-9d3c-41a4-8785-53cf45cf96ab",
   "metadata": {
    "tags": []
   },
   "outputs": [
    {
     "data": {
      "text/plain": [
       "[NEDetector(module_type='OPERATOR', backend=None)]"
      ]
     },
     "execution_count": 12,
     "metadata": {},
     "output_type": "execute_result"
    }
   ],
   "source": [
    "Vulture.DEFAULT_OPERATOR_PIPELINE"
   ]
  },
  {
   "cell_type": "markdown",
   "id": "302365f7-5aa8-4e8f-befa-a2e94eaf0f70",
   "metadata": {},
   "source": [
    "### Setup Vulture"
   ]
  },
  {
   "cell_type": "markdown",
   "id": "41a53e96-23d6-4e10-a538-430e6d6bc43b",
   "metadata": {},
   "source": [
    "Create a single-node multi-process Vulture object"
   ]
  },
  {
   "cell_type": "code",
   "execution_count": 13,
   "id": "ea8b8813-e8c7-42bc-9aa0-538187487841",
   "metadata": {
    "tags": []
   },
   "outputs": [
    {
     "name": "stderr",
     "output_type": "stream",
     "text": [
      "/home/barron/miniconda3/envs/TELF/lib/python3.11/site-packages/TELF/pre_processing/Vulture/vulture.py:465: UserWarning: The file \"/projects/SLIC/development_repos/T-ELF/examples/Vulture/results/clean_documents\" already exists and will be overwritten!\n",
      "  warnings.warn(f'The file \"{save_path}\" already exists and will be overwritten!')\n",
      "[Vulture]: Cleaning 10 documents\n",
      "  0%|          | 0/1 [00:00<?, ?it/s][Vulture]: Running SimpleCleaner module\n",
      "/home/barron/miniconda3/envs/TELF/lib/python3.11/site-packages/TELF/pre_processing/Vulture/modules/simple_clean.py:264: RuntimeWarning: [SimpleCleaner]: Requested stop phrase removal but no stop phrases were provided!\n",
      "  warnings.warn('[SimpleCleaner]: Requested stop phrase removal but no '\n",
      "/home/barron/miniconda3/envs/TELF/lib/python3.11/site-packages/TELF/pre_processing/Vulture/modules/simple_clean.py:230: RuntimeWarning: [SimpleCleaner]: Requested stop word removal but no stop words were provided!\n",
      "  warnings.warn('[SimpleCleaner]: Requested stop word removal but no '\n",
      "100%|██████████| 10/10 [00:00<00:00, 5407.82it/s]\n",
      "100%|██████████| 1/1 [00:00<00:00, 262.77it/s]"
     ]
    },
    {
     "name": "stdout",
     "output_type": "stream",
     "text": [
      "CPU times: user 1.97 ms, sys: 6.4 ms, total: 8.37 ms\n",
      "Wall time: 6.85 ms\n"
     ]
    },
    {
     "name": "stderr",
     "output_type": "stream",
     "text": [
      "\n"
     ]
    }
   ],
   "source": [
    "vulture = Vulture(n_jobs  = 1, \n",
    "                  verbose = 10,  # Disable == 0, Verbose >= 1\n",
    "                 )\n",
    "steps = [SimpleCleaner( \n",
    "            order = [\n",
    "                'standardize_hyphens',\n",
    "                'isolate_frozen',\n",
    "                'remove_copyright_statement',\n",
    "                'remove_stop_phrases',\n",
    "                'make_lower_case',\n",
    "                'remove_formulas',\n",
    "                'normalize',\n",
    "                'remove_next_line',\n",
    "                'remove_email',\n",
    "                'remove_()',\n",
    "                'remove_[]',\n",
    "                'remove_special_characters',\n",
    "                'remove_nonASCII_boundary',\n",
    "                'remove_nonASCII',\n",
    "                'remove_tags',\n",
    "                'remove_stop_words',\n",
    "                'remove_standalone_numbers',\n",
    "                'remove_extra_whitespace',\n",
    "                'min_characters',\n",
    "        ])]\n",
    "%time vulture.clean(documents, \\\n",
    "                    steps=steps,\\\n",
    "                    save_path=os.path.join(RESULTS_DIR, \"clean_documents\"))         \n",
    "\n",
    "clean_documents = pickle.load(open(os.path.join(RESULTS_DIR, \"clean_documents\"), 'rb'))"
   ]
  },
  {
   "cell_type": "code",
   "execution_count": 15,
   "metadata": {},
   "outputs": [
    {
     "name": "stderr",
     "output_type": "stream",
     "text": [
      "[Vulture]: Cleaning 10 documents\n",
      "/home/barron/miniconda3/envs/TELF/lib/python3.11/site-packages/TELF/pre_processing/Vulture/vulture.py:465: UserWarning: The file \"/projects/SLIC/development_repos/T-ELF/examples/Vulture/results/operated_documents_AcronymDetector.p\" already exists and will be overwritten!\n",
      "  warnings.warn(f'The file \"{save_path}\" already exists and will be overwritten!')\n",
      "  0%|          | 0/1 [00:00<?, ?it/s][Vulture]: Running AcronymDetector module\n",
      "100%|██████████| 10/10 [00:00<00:00, 584.73it/s]\n",
      "100%|██████████| 1/1 [00:00<00:00, 51.74it/s]\n"
     ]
    }
   ],
   "source": [
    "vulture.operate(clean_documents, steps=[AcronymDetector(replace_raw=True)], save_path=RESULTS_DIR, file_name=RESULTS_FILE)                   "
   ]
  },
  {
   "cell_type": "markdown",
   "metadata": {},
   "source": [
    "Each entry is a tuple where index 0 is the name of the operation and index 1 is the results of the operation in dictionary format."
   ]
  },
  {
   "cell_type": "code",
   "execution_count": 17,
   "metadata": {},
   "outputs": [
    {
     "data": {
      "text/plain": [
       "['clean_documents',\n",
       " 'operated_documents_AcronymDetector.p',\n",
       " 'operated_documents_NEDetector.p']"
      ]
     },
     "execution_count": 17,
     "metadata": {},
     "output_type": "execute_result"
    }
   ],
   "source": [
    "saved_file = ! ls $RESULTS_DIR\n",
    "saved_file"
   ]
  },
  {
   "cell_type": "markdown",
   "id": "a96259b6-c967-4102-913a-9e866e4ee111",
   "metadata": {},
   "source": [
    "### Look at Cleaned Documents"
   ]
  },
  {
   "cell_type": "code",
   "execution_count": 18,
   "id": "9aad256c-2645-4f1e-b98a-f44132e61c15",
   "metadata": {
    "tags": []
   },
   "outputs": [],
   "source": [
    "operated_documents = pickle.load(open(os.path.join(RESULTS_DIR, saved_file[1]), 'rb'))"
   ]
  },
  {
   "cell_type": "code",
   "execution_count": 19,
   "id": "1f8e713f",
   "metadata": {},
   "outputs": [
    {
     "data": {
      "text/plain": [
       "{'ID_1': {'Acronyms': {'global warming': 'gw',\n",
       "   'environmental sustainability': 'es',\n",
       "   'sustainable energy sources': 'ses',\n",
       "   'carbon footprint reduction': 'cfr',\n",
       "   'innovative technology solutions': 'its'},\n",
       "  'replaced_text': 'in our discussion about global_warming we should also consider sustainable energy sourcenvironmental_sustainability senvironmental_sustainability while discussing senvironmental_sustainability innovative_technology_solutions vital to mention carbon_footprint_reduction and innovative_technology_solutions impacts on environmental_sustainability lets not forget the role of innovative_technology_solutions'},\n",
       " 'ID_2': {'Acronyms': {'effective team collaboration': 'etc',\n",
       "   'project management frameworks': 'pmf',\n",
       "   'advanced analytics tools': 'aat',\n",
       "   'continuous improvement processes': 'cip',\n",
       "   'strategic planning initiatives': 'spi'},\n",
       "  'replaced_text': 'the projects success hinges on effective_team_collaboration robust project_management_frameworks and the use of advanced_analytics_tools furthermore continuous_improvement_processes and strategic_planning_initiatives are key'},\n",
       " 'ID_3': {'Acronyms': {'digital transformation': 'dt',\n",
       "   'cybersecurity measures': 'cm',\n",
       "   'customer engagement strategies': 'ces',\n",
       "   'data privacy regulations': 'dpr'},\n",
       "  'replaced_text': ' digital_transformation involves more than just technology its about customer_engagement_strategies and optimizing the user experience ux moreover data_privacy_regulations and cybersecurity_measures are foundational'},\n",
       " 'ID_4': {'Acronyms': {'regulatory compliance': 'rc',\n",
       "   'risk management practices': 'rmp',\n",
       "   'investment diversification strategies': 'ids',\n",
       "   'financial technology innovations': 'fti',\n",
       "   'consumer financial protection': 'cfp'},\n",
       "  'replaced_text': 'financial institutions are focusing on risk_management_practices and investment_diversification_strategies the importance of regulatory_compliance and financial_technology_innovations is also growing additionally consumer_financial_protection is priority'},\n",
       " 'ID_5': {'Acronyms': {'patient care coordination': 'pcc',\n",
       "   'electronic health records': 'ehr',\n",
       "   'medical research innovations': 'mri',\n",
       "   'health information exchanges': 'hie',\n",
       "   'public health initiatives': 'phi'},\n",
       "  'replaced_text': 'in healthcare patient_care_coordination and electronic_health_records are transforming services medical_research_innovations continue to advance alongside health_information_exchanges public_health_initiatives are also crucial'},\n",
       " 'ID_6': {'Acronyms': {'educational technology': 'et',\n",
       "   'interactive learning platforms': 'ilp',\n",
       "   'adaptive learning algorithms': 'ala',\n",
       "   'student performance analytics': 'spa',\n",
       "   'digital curriculum development': 'dcd',\n",
       "   'educator professional development': 'epd'},\n",
       "  'replaced_text': ' educational_technology is reshaping learning through interactive_learning_platforms and adaptive_learning_algorithms the focus is also on student_performance_analytics and digital_curriculum_development educator_professional_development remains essential'},\n",
       " 'ID_7': {'Acronyms': {'marketing strategies': 'ms',\n",
       "   'creative content production': 'ccp',\n",
       "   'digital distribution platforms': 'ddp',\n",
       "   'audience engagement metrics': 'aem',\n",
       "   'intellectual property rights': 'ipr'},\n",
       "  'replaced_text': 'the entertainment industry values creative_content_production and digital distribution platformarketing_strategies digital_distribution_platforms audience_engagement_metrics are analyzed to tailor marketing_strategies additionally intellectual_property_rights are carefully managed'},\n",
       " 'ID_8': {'Acronyms': {'sustainable agriculture practices': 'sap',\n",
       "   'precision farming technologies': 'pft',\n",
       "   'crop yield optimization': 'cyo',\n",
       "   'water resource management': 'wrm',\n",
       "   'farmer support programs': 'fsp'},\n",
       "  'replaced_text': ' sustainable_agriculture_practices and precision_farming_technologies are revolutionizing farming crop_yield_optimization is focus alongside water_resource_management farmer_support_programs provide necessary assistance'},\n",
       " 'ID_9': {'Acronyms': {'urban planning': 'up',\n",
       "   'green infrastructure': 'gi',\n",
       "   'zoning regulations': 'zr',\n",
       "   'public transport solutions': 'pts',\n",
       "   'smart city initiatives': 'sci',\n",
       "   'community engagement processes': 'cep'},\n",
       "  'replaced_text': ' urban_planning incorporates green_infrastructure and public_transport_solutions smart_city_initiatives leverage iot technologreen_infrastructurees itt community_engagement_processes and zoning_regulations are also fundamental'},\n",
       " 'various_forms_of _acronyms': {'Acronyms': {'as soon': 'as',\n",
       "   'to be determined': 'tbd',\n",
       "   'central processing unit': 'cpu',\n",
       "   'graphics interchange format': 'gif',\n",
       "   'as soon as possible': 'asap'},\n",
       "  'replaced_text': ' to_be_determined national aeronautics and space administration nas_soona self-contained underwater breathing apparatus- scuba light amplification by stimulated emission of radiation-las_sooner radar radio detection and ranging as_soonap as_soon possible central_processing_unit diy-do it yourself frequently as_soonked questions ie faq graphics_interchange_format http hypertext transfer protocol json javas_sooncript object notation kpi-key performance indicator light emitting diode namely led magnetic resonance imaging ie mri oled which stands for organic light-emitting diode'}}"
      ]
     },
     "execution_count": 19,
     "metadata": {},
     "output_type": "execute_result"
    }
   ],
   "source": [
    "operated_documents"
   ]
  },
  {
   "cell_type": "code",
   "execution_count": 21,
   "id": "69859fe2-48e5-4a8e-8b8d-ccc64abd51b7",
   "metadata": {
    "tags": []
   },
   "outputs": [],
   "source": [
    "def to_df(documents, operated_documents):\n",
    "    data = {\n",
    "        'id': [],\n",
    "        'text': [],\n",
    "        'acronyms': [],\n",
    "        'acronym_replaced_text': [],\n",
    "\n",
    "    }\n",
    "\n",
    "    for _id, text in documents.items():\n",
    "        data['id'].append(_id)\n",
    "        data['text'].append(text)\n",
    "\n",
    "        data['acronyms'].append(operated_documents.get(_id).get('Acronyms'))\n",
    "        data['acronym_replaced_text'].append(operated_documents.get(_id).get('replaced_text'))\n",
    "\n",
    "    return pd.DataFrame.from_dict(data)"
   ]
  },
  {
   "cell_type": "code",
   "execution_count": 22,
   "id": "087aa962-1a60-40c3-8de2-be90df8a975c",
   "metadata": {
    "tags": []
   },
   "outputs": [
    {
     "data": {
      "text/html": [
       "<div>\n",
       "<style scoped>\n",
       "    .dataframe tbody tr th:only-of-type {\n",
       "        vertical-align: middle;\n",
       "    }\n",
       "\n",
       "    .dataframe tbody tr th {\n",
       "        vertical-align: top;\n",
       "    }\n",
       "\n",
       "    .dataframe thead th {\n",
       "        text-align: right;\n",
       "    }\n",
       "</style>\n",
       "<table border=\"1\" class=\"dataframe\">\n",
       "  <thead>\n",
       "    <tr style=\"text-align: right;\">\n",
       "      <th></th>\n",
       "      <th>id</th>\n",
       "      <th>text</th>\n",
       "      <th>acronyms</th>\n",
       "      <th>acronym_replaced_text</th>\n",
       "    </tr>\n",
       "  </thead>\n",
       "  <tbody>\n",
       "    <tr>\n",
       "      <th>0</th>\n",
       "      <td>ID_1</td>\n",
       "      <td>In our discussion about Global Warming (GW), w...</td>\n",
       "      <td>{'global warming': 'gw', 'environmental sustai...</td>\n",
       "      <td>in our discussion about global_warming we shou...</td>\n",
       "    </tr>\n",
       "    <tr>\n",
       "      <th>1</th>\n",
       "      <td>ID_2</td>\n",
       "      <td>The project's success hinges on Effective Team...</td>\n",
       "      <td>{'effective team collaboration': 'etc', 'proje...</td>\n",
       "      <td>the projects success hinges on effective_team_...</td>\n",
       "    </tr>\n",
       "    <tr>\n",
       "      <th>2</th>\n",
       "      <td>ID_3</td>\n",
       "      <td>Digital Transformation (DT) involves more than...</td>\n",
       "      <td>{'digital transformation': 'dt', 'cybersecurit...</td>\n",
       "      <td>digital_transformation involves more than jus...</td>\n",
       "    </tr>\n",
       "    <tr>\n",
       "      <th>3</th>\n",
       "      <td>ID_4</td>\n",
       "      <td>Financial institutions are focusing on Risk Ma...</td>\n",
       "      <td>{'regulatory compliance': 'rc', 'risk manageme...</td>\n",
       "      <td>financial institutions are focusing on risk_ma...</td>\n",
       "    </tr>\n",
       "    <tr>\n",
       "      <th>4</th>\n",
       "      <td>ID_5</td>\n",
       "      <td>In healthcare, Patient Care Coordination (PCC)...</td>\n",
       "      <td>{'patient care coordination': 'pcc', 'electron...</td>\n",
       "      <td>in healthcare patient_care_coordination and el...</td>\n",
       "    </tr>\n",
       "    <tr>\n",
       "      <th>5</th>\n",
       "      <td>ID_6</td>\n",
       "      <td>Educational Technology (ET) is reshaping learn...</td>\n",
       "      <td>{'educational technology': 'et', 'interactive ...</td>\n",
       "      <td>educational_technology is reshaping learning ...</td>\n",
       "    </tr>\n",
       "    <tr>\n",
       "      <th>6</th>\n",
       "      <td>ID_7</td>\n",
       "      <td>The entertainment industry values Creative Con...</td>\n",
       "      <td>{'marketing strategies': 'ms', 'creative conte...</td>\n",
       "      <td>the entertainment industry values creative_con...</td>\n",
       "    </tr>\n",
       "    <tr>\n",
       "      <th>7</th>\n",
       "      <td>ID_8</td>\n",
       "      <td>Sustainable Agriculture Practices (SAP) and Pr...</td>\n",
       "      <td>{'sustainable agriculture practices': 'sap', '...</td>\n",
       "      <td>sustainable_agriculture_practices and precisi...</td>\n",
       "    </tr>\n",
       "    <tr>\n",
       "      <th>8</th>\n",
       "      <td>ID_9</td>\n",
       "      <td>Urban Planning (UP) incorporates Green Infrast...</td>\n",
       "      <td>{'urban planning': 'up', 'green infrastructure...</td>\n",
       "      <td>urban_planning incorporates green_infrastruct...</td>\n",
       "    </tr>\n",
       "    <tr>\n",
       "      <th>9</th>\n",
       "      <td>various_forms_of _acronyms</td>\n",
       "      <td>To Be Determined (TBD), National Aeronautics a...</td>\n",
       "      <td>{'as soon': 'as', 'to be determined': 'tbd', '...</td>\n",
       "      <td>to_be_determined national aeronautics and spa...</td>\n",
       "    </tr>\n",
       "  </tbody>\n",
       "</table>\n",
       "</div>"
      ],
      "text/plain": [
       "                           id  \\\n",
       "0                        ID_1   \n",
       "1                        ID_2   \n",
       "2                        ID_3   \n",
       "3                        ID_4   \n",
       "4                        ID_5   \n",
       "5                        ID_6   \n",
       "6                        ID_7   \n",
       "7                        ID_8   \n",
       "8                        ID_9   \n",
       "9  various_forms_of _acronyms   \n",
       "\n",
       "                                                text  \\\n",
       "0  In our discussion about Global Warming (GW), w...   \n",
       "1  The project's success hinges on Effective Team...   \n",
       "2  Digital Transformation (DT) involves more than...   \n",
       "3  Financial institutions are focusing on Risk Ma...   \n",
       "4  In healthcare, Patient Care Coordination (PCC)...   \n",
       "5  Educational Technology (ET) is reshaping learn...   \n",
       "6  The entertainment industry values Creative Con...   \n",
       "7  Sustainable Agriculture Practices (SAP) and Pr...   \n",
       "8  Urban Planning (UP) incorporates Green Infrast...   \n",
       "9  To Be Determined (TBD), National Aeronautics a...   \n",
       "\n",
       "                                            acronyms  \\\n",
       "0  {'global warming': 'gw', 'environmental sustai...   \n",
       "1  {'effective team collaboration': 'etc', 'proje...   \n",
       "2  {'digital transformation': 'dt', 'cybersecurit...   \n",
       "3  {'regulatory compliance': 'rc', 'risk manageme...   \n",
       "4  {'patient care coordination': 'pcc', 'electron...   \n",
       "5  {'educational technology': 'et', 'interactive ...   \n",
       "6  {'marketing strategies': 'ms', 'creative conte...   \n",
       "7  {'sustainable agriculture practices': 'sap', '...   \n",
       "8  {'urban planning': 'up', 'green infrastructure...   \n",
       "9  {'as soon': 'as', 'to be determined': 'tbd', '...   \n",
       "\n",
       "                               acronym_replaced_text  \n",
       "0  in our discussion about global_warming we shou...  \n",
       "1  the projects success hinges on effective_team_...  \n",
       "2   digital_transformation involves more than jus...  \n",
       "3  financial institutions are focusing on risk_ma...  \n",
       "4  in healthcare patient_care_coordination and el...  \n",
       "5   educational_technology is reshaping learning ...  \n",
       "6  the entertainment industry values creative_con...  \n",
       "7   sustainable_agriculture_practices and precisi...  \n",
       "8   urban_planning incorporates green_infrastruct...  \n",
       "9   to_be_determined national aeronautics and spa...  "
      ]
     },
     "execution_count": 22,
     "metadata": {},
     "output_type": "execute_result"
    }
   ],
   "source": [
    "df = to_df(documents, operated_documents)\n",
    "df"
   ]
  },
  {
   "cell_type": "code",
   "execution_count": null,
   "metadata": {},
   "outputs": [],
   "source": []
  }
 ],
 "metadata": {
  "kernelspec": {
   "display_name": "TELF_public",
   "language": "python",
   "name": "python3"
  },
  "language_info": {
   "codemirror_mode": {
    "name": "ipython",
    "version": 3
   },
   "file_extension": ".py",
   "mimetype": "text/x-python",
   "name": "python",
   "nbconvert_exporter": "python",
   "pygments_lexer": "ipython3",
   "version": "3.11.5"
  }
 },
 "nbformat": 4,
 "nbformat_minor": 5
}
