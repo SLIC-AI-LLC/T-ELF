{
 "cells": [
  {
   "cell_type": "markdown",
   "id": "254cd3b1-e36b-42b5-9297-9b9d174a1011",
   "metadata": {},
   "source": [
    "# Vulture"
   ]
  },
  {
   "cell_type": "markdown",
   "id": "20f74105-f696-41c1-ad8e-1414f1e874b4",
   "metadata": {},
   "source": [
    "## Introduction to Text Operations with Vulture"
   ]
  },
  {
   "cell_type": "code",
   "execution_count": null,
   "id": "1c0a0ad2-f847-4cdb-a35e-7ad4f298505b",
   "metadata": {
    "tags": []
   },
   "outputs": [],
   "source": [
    "import os\n",
    "import pickle\n",
    "import pathlib\n",
    "import pandas as pd\n",
    "\n",
    "from TELF.pre_processing import Vulture\n",
    "from TELF.pre_processing.Vulture.modules import AcronymDetector\n",
    "from TELF.pre_processing.Vulture.modules import SimpleCleaner"
   ]
  },
  {
   "cell_type": "markdown",
   "id": "4a1dc990-7de8-40e6-baca-0ecef35c6477",
   "metadata": {},
   "source": [
    "## 0. Load Dataset"
   ]
  },
  {
   "cell_type": "markdown",
   "id": "9b12074f-691b-4a4a-b070-ec94307f3fd4",
   "metadata": {},
   "source": [
    "### Input"
   ]
  },
  {
   "cell_type": "code",
   "execution_count": null,
   "id": "521bce7b-4e83-4639-b784-a066c22478c6",
   "metadata": {
    "tags": []
   },
   "outputs": [],
   "source": [
    "DATA_DIR = os.path.join('..', '..', 'data')\n",
    "DATA_DIR = pathlib.Path(DATA_DIR).resolve()\n",
    "DATA_FILE = 'acronyms_documents.p'\n",
    "documents = pickle.load(open(os.path.join(DATA_DIR, DATA_FILE), 'rb'))\n",
    "len(documents)"
   ]
  },
  {
   "cell_type": "code",
   "execution_count": null,
   "metadata": {},
   "outputs": [],
   "source": [
    "documents"
   ]
  },
  {
   "cell_type": "code",
   "execution_count": null,
   "id": "0ed6ad9a",
   "metadata": {},
   "outputs": [],
   "source": []
  },
  {
   "cell_type": "code",
   "execution_count": null,
   "id": "79e85598",
   "metadata": {},
   "outputs": [],
   "source": [
    "documents['ID_11'] = 'The latest data from NASA, which stands for National Aeronautics and Space Administration, has significantly enriched our understanding of celestial phenomena. Guidelines from the CDC, i.e., Centers for Disease Control and Prevention, have evolved in response to new insights on epidemiology provided by WHO—World Health Organization. In the realm of technology, MIT—Massachusetts Institute of Technology, has been pioneering developments in AI, which stands for artificial intelligence, propelling forward the capabilities of predictive analytics. Furthermore, technological standards that affect global research and development are rigorously maintained by IEEE, i.e., Institute of Electrical and Electronics Engineers. Refedining NASA -- NASA, which stands for National Aeronautics and Space Administration'\n",
    "\n",
    "\n",
    "documents['ID_12'] = 'This is An Awesome Interesting (AI) challenge to acronym subs'"
   ]
  },
  {
   "cell_type": "markdown",
   "id": "387ef96c-492f-4eab-a72e-bcdb3417efa8",
   "metadata": {},
   "source": [
    "### Output"
   ]
  },
  {
   "cell_type": "code",
   "execution_count": null,
   "id": "21aaaf2c-8c07-4126-a68e-aeebb4d01b59",
   "metadata": {
    "tags": []
   },
   "outputs": [],
   "source": [
    "RESULTS_DIR = 'results'\n",
    "RESULTS_DIR = pathlib.Path(RESULTS_DIR).resolve()\n",
    "RESULTS_FILE = 'operated_documents'\n",
    "try:\n",
    "    os.mkdir(RESULTS_DIR)\n",
    "except FileExistsError:\n",
    "    pass"
   ]
  },
  {
   "cell_type": "code",
   "execution_count": null,
   "id": "c5ddcb5a",
   "metadata": {},
   "outputs": [],
   "source": [
    "AcronymDetector()"
   ]
  },
  {
   "cell_type": "code",
   "execution_count": null,
   "id": "1c59c011-9d3c-41a4-8785-53cf45cf96ab",
   "metadata": {
    "tags": []
   },
   "outputs": [],
   "source": [
    "Vulture.DEFAULT_OPERATOR_PIPELINE"
   ]
  },
  {
   "cell_type": "markdown",
   "id": "302365f7-5aa8-4e8f-befa-a2e94eaf0f70",
   "metadata": {},
   "source": [
    "### Setup Vulture"
   ]
  },
  {
   "cell_type": "markdown",
   "id": "41a53e96-23d6-4e10-a538-430e6d6bc43b",
   "metadata": {},
   "source": [
    "Create a single-node multi-process Vulture object"
   ]
  },
  {
   "cell_type": "code",
   "execution_count": null,
   "id": "568deba9",
   "metadata": {},
   "outputs": [],
   "source": [
    "\n",
    "from TELF.pre_processing.Vulture.default_stop_words import STOP_WORDS\n",
    "from TELF.pre_processing.Vulture.default_stop_phrases import STOP_PHRASES"
   ]
  },
  {
   "cell_type": "code",
   "execution_count": null,
   "id": "ea8b8813-e8c7-42bc-9aa0-538187487841",
   "metadata": {
    "tags": []
   },
   "outputs": [],
   "source": [
    "vulture = Vulture(n_jobs  = 1, \n",
    "                  verbose = 10,  # Disable == 0, Verbose >= 1\n",
    "                 )\n",
    "steps = [SimpleCleaner( stop_words = STOP_WORDS,\n",
    "                  stop_phrases = STOP_PHRASES,\n",
    "            order = [\n",
    "                'standardize_hyphens',\n",
    "                'remove_stop_phrases',\n",
    "                'isolate_frozen',\n",
    "                'remove_copyright_statement',\n",
    "                'make_lower_case',\n",
    "                'remove_formulas',\n",
    "                'normalize',\n",
    "                'remove_next_line',\n",
    "                'remove_email',\n",
    "                'remove_()',\n",
    "                'remove_[]',\n",
    "                'remove_special_characters',\n",
    "                'remove_nonASCII_boundary',\n",
    "                'remove_nonASCII',\n",
    "                'remove_tags',\n",
    "                'remove_stop_words',\n",
    "                'remove_standalone_numbers',\n",
    "                'remove_extra_whitespace',\n",
    "                'min_characters',\n",
    "        ])]\n",
    "%time vulture.clean(documents, \\\n",
    "                    steps=steps,\\\n",
    "                    save_path=os.path.join(RESULTS_DIR, \"clean_documents\"))         \n",
    "\n",
    "clean_documents = pickle.load(open(os.path.join(RESULTS_DIR, \"clean_documents\"), 'rb'))"
   ]
  },
  {
   "cell_type": "code",
   "execution_count": null,
   "metadata": {},
   "outputs": [],
   "source": [
    "vulture.operate(clean_documents, steps=[AcronymDetector(replace_raw=True)], save_path=RESULTS_DIR, file_name=RESULTS_FILE)                   "
   ]
  },
  {
   "cell_type": "markdown",
   "metadata": {},
   "source": [
    "Each entry is a tuple where index 0 is the name of the operation and index 1 is the results of the operation in dictionary format."
   ]
  },
  {
   "cell_type": "code",
   "execution_count": null,
   "metadata": {},
   "outputs": [],
   "source": [
    "saved_file = ! ls $RESULTS_DIR\n",
    "saved_file"
   ]
  },
  {
   "cell_type": "markdown",
   "id": "a96259b6-c967-4102-913a-9e866e4ee111",
   "metadata": {},
   "source": [
    "### Look at Cleaned Documents"
   ]
  },
  {
   "cell_type": "code",
   "execution_count": null,
   "id": "9aad256c-2645-4f1e-b98a-f44132e61c15",
   "metadata": {
    "tags": []
   },
   "outputs": [],
   "source": [
    "operated_documents = pickle.load(open(os.path.join(RESULTS_DIR, saved_file[1]), 'rb'))"
   ]
  },
  {
   "cell_type": "code",
   "execution_count": null,
   "id": "1f8e713f",
   "metadata": {},
   "outputs": [],
   "source": [
    "operated_documents"
   ]
  },
  {
   "cell_type": "code",
   "execution_count": null,
   "id": "69859fe2-48e5-4a8e-8b8d-ccc64abd51b7",
   "metadata": {
    "tags": []
   },
   "outputs": [],
   "source": [
    "def to_df(documents, operated_documents):\n",
    "    data = {\n",
    "        'id': [],\n",
    "        'text': [],\n",
    "        'acronyms': [],\n",
    "        'acronym_replaced_text': [],\n",
    "\n",
    "    }\n",
    "\n",
    "    for _id, text in documents.items():\n",
    "        data['id'].append(_id)\n",
    "        data['text'].append(text)\n",
    "\n",
    "        data['acronyms'].append(operated_documents.get(_id).get('Acronyms'))\n",
    "        data['acronym_replaced_text'].append(operated_documents.get(_id).get('replaced_text'))\n",
    "\n",
    "    return pd.DataFrame.from_dict(data)"
   ]
  },
  {
   "cell_type": "code",
   "execution_count": null,
   "id": "087aa962-1a60-40c3-8de2-be90df8a975c",
   "metadata": {
    "tags": []
   },
   "outputs": [],
   "source": [
    "df = to_df(documents, operated_documents)\n",
    "df"
   ]
  },
  {
   "cell_type": "code",
   "execution_count": null,
   "id": "c9ebc9e7",
   "metadata": {},
   "outputs": [],
   "source": [
    "import textwrap\n",
    "wrapped_text = textwrap.fill(df.iloc[10].text, width=90)\n",
    "print(wrapped_text)"
   ]
  },
  {
   "cell_type": "code",
   "execution_count": null,
   "metadata": {},
   "outputs": [],
   "source": [
    "df.iloc[10].acronyms"
   ]
  },
  {
   "cell_type": "code",
   "execution_count": null,
   "id": "f205a33c",
   "metadata": {},
   "outputs": [],
   "source": [
    "\n",
    "wrapped_text = textwrap.fill(df.iloc[10].acronym_replaced_text, width=90)\n",
    "print(wrapped_text)"
   ]
  },
  {
   "cell_type": "markdown",
   "id": "810d50a8",
   "metadata": {},
   "source": []
  },
  {
   "cell_type": "code",
   "execution_count": null,
   "id": "23b3b377",
   "metadata": {},
   "outputs": [],
   "source": [
    "wrapped_text = textwrap.fill(df.iloc[9].text, width=90)\n",
    "print(wrapped_text)"
   ]
  },
  {
   "cell_type": "code",
   "execution_count": null,
   "id": "877b390c",
   "metadata": {},
   "outputs": [],
   "source": [
    "df.iloc[9].acronyms"
   ]
  },
  {
   "cell_type": "code",
   "execution_count": null,
   "id": "57a4eeea",
   "metadata": {},
   "outputs": [],
   "source": [
    "wrapped_text = textwrap.fill(df.iloc[9].acronym_replaced_text, width=90)\n",
    "print(wrapped_text)"
   ]
  },
  {
   "cell_type": "code",
   "execution_count": null,
   "id": "c0b3d67e",
   "metadata": {},
   "outputs": [],
   "source": []
  },
  {
   "cell_type": "markdown",
   "id": "430c7250",
   "metadata": {},
   "source": [
    "# Instead of Vulture Operator substitutions, Vulture Clean substitutions"
   ]
  },
  {
   "cell_type": "code",
   "execution_count": null,
   "id": "a37e29d2",
   "metadata": {},
   "outputs": [],
   "source": [
    "vulture = Vulture(n_jobs  = 1, \n",
    "                  verbose = 10,  # Disable == 0, Verbose >= 1\n",
    "                 )\n",
    "steps = [SimpleCleaner( stop_words = STOP_WORDS,\n",
    "                  stop_phrases = STOP_PHRASES,\n",
    "            order = [\n",
    "                'standardize_hyphens',\n",
    "                'remove_stop_phrases',\n",
    "                'isolate_frozen',\n",
    "                'remove_copyright_statement',\n",
    "                'make_lower_case',\n",
    "                'remove_formulas',\n",
    "                'normalize',\n",
    "                'remove_next_line',\n",
    "                'remove_email',\n",
    "                'remove_()',\n",
    "                'remove_[]',\n",
    "                'remove_special_characters',\n",
    "                'remove_nonASCII_boundary',\n",
    "                'remove_nonASCII',\n",
    "                'remove_tags',\n",
    "                'remove_stop_words',\n",
    "                'remove_standalone_numbers',\n",
    "                'remove_extra_whitespace',\n",
    "                'min_characters',\n",
    "        ])]"
   ]
  },
  {
   "cell_type": "code",
   "execution_count": null,
   "id": "b66b4442",
   "metadata": {},
   "outputs": [],
   "source": [
    "substitutions = {}\n",
    "for id, acronym_data in operated_documents.items():\n",
    "    for src_txt, acronym in acronym_data['Acronyms'].items():\n",
    "        # print(src_txt, acronym)\n",
    "        sub_to = '_'.join(src_txt.split())\n",
    "        substitutions[src_txt] = sub_to\n",
    "        substitutions[acronym] = sub_to\n",
    "\n",
    "for src, sub in substitutions.items():\n",
    "    print(f'{src} : {sub}')\n"
   ]
  },
  {
   "cell_type": "code",
   "execution_count": null,
   "id": "3ab90f76",
   "metadata": {},
   "outputs": [],
   "source": [
    "dataframe_clean_args = {\n",
    "    \"df\": df,\n",
    "    \"steps\": steps,\n",
    "    \"substitutions\": substitutions.copy(),\n",
    "    \"columns\": ['text',],\n",
    "    \"append_to_original_df\": True,\n",
    "    \"concat_cleaned_cols\": True,\n",
    "}\n",
    "\n",
    "df = vulture.clean_dataframe(**dataframe_clean_args) \n",
    "df.info()"
   ]
  },
  {
   "cell_type": "code",
   "execution_count": null,
   "id": "8c9cd95a",
   "metadata": {},
   "outputs": [],
   "source": [
    "df.head(60)"
   ]
  }
 ],
 "metadata": {
  "kernelspec": {
   "display_name": "TELF_public",
   "language": "python",
   "name": "python3"
  },
  "language_info": {
   "codemirror_mode": {
    "name": "ipython",
    "version": 3
   },
   "file_extension": ".py",
   "mimetype": "text/x-python",
   "name": "python",
   "nbconvert_exporter": "python",
   "pygments_lexer": "ipython3",
   "version": "3.11.10"
  }
 },
 "nbformat": 4,
 "nbformat_minor": 5
}
