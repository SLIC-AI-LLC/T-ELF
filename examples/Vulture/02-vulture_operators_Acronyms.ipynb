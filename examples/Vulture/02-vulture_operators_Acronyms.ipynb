{
 "cells": [
  {
   "cell_type": "markdown",
   "id": "254cd3b1-e36b-42b5-9297-9b9d174a1011",
   "metadata": {},
   "source": [
    "# Vulture"
   ]
  },
  {
   "cell_type": "markdown",
   "id": "20f74105-f696-41c1-ad8e-1414f1e874b4",
   "metadata": {},
   "source": [
    "## Introduction to Text Operations with Vulture"
   ]
  },
  {
   "cell_type": "code",
   "execution_count": 1,
   "id": "1c0a0ad2-f847-4cdb-a35e-7ad4f298505b",
   "metadata": {
    "tags": []
   },
   "outputs": [],
   "source": [
    "import os\n",
    "import pickle\n",
    "import pathlib\n",
    "import pandas as pd\n",
    "\n",
    "from TELF.pre_processing import Vulture\n",
    "from TELF.pre_processing.Vulture.modules import AcronymDetector\n",
    "from TELF.pre_processing.Vulture.modules import SimpleCleaner"
   ]
  },
  {
   "cell_type": "markdown",
   "id": "4a1dc990-7de8-40e6-baca-0ecef35c6477",
   "metadata": {},
   "source": [
    "## 0. Load Dataset"
   ]
  },
  {
   "cell_type": "markdown",
   "id": "9b12074f-691b-4a4a-b070-ec94307f3fd4",
   "metadata": {},
   "source": [
    "### Input"
   ]
  },
  {
   "cell_type": "code",
   "execution_count": 2,
   "id": "521bce7b-4e83-4639-b784-a066c22478c6",
   "metadata": {
    "tags": []
   },
   "outputs": [
    {
     "data": {
      "text/plain": [
       "11"
      ]
     },
     "execution_count": 2,
     "metadata": {},
     "output_type": "execute_result"
    }
   ],
   "source": [
    "DATA_DIR = os.path.join('..', '..', 'data')\n",
    "DATA_DIR = pathlib.Path(DATA_DIR).resolve()\n",
    "DATA_FILE = 'acronyms_documents.p'\n",
    "documents = pickle.load(open(os.path.join(DATA_DIR, DATA_FILE), 'rb'))\n",
    "len(documents)"
   ]
  },
  {
   "cell_type": "code",
   "execution_count": 3,
   "metadata": {},
   "outputs": [
    {
     "data": {
      "text/plain": [
       "{'ID_1': \"In our discussion about Global Warming (GW), we should also consider Sustainable Energy Sources (SES). While discussing SES, it's vital to mention Carbon Footprint Reduction (CFR) and its impacts on Environmental Sustainability (ES). Let's not forget the role of Innovative Technology Solutions (ITS).\",\n",
       " 'ID_2': \"The project's success hinges on Effective Team Collaboration (ETC), robust Project Management Frameworks (PMF), and the use of Advanced Analytics Tools (AAT). Furthermore, Continuous Improvement Processes (CIP) and Strategic Planning Initiatives (SPI) are key.\",\n",
       " 'ID_3': \"Digital Transformation (DT) involves more than just technology. It's about Customer Engagement Strategies (CES) and optimizing the User Experience (UX). Moreover, Data Privacy Regulations (DPR) and Cybersecurity Measures (CM) are foundational.\",\n",
       " 'ID_4': 'Financial institutions are focusing on Risk Management Practices (RMP) and Investment Diversification Strategies (IDS). The importance of Regulatory Compliance (RC) and Financial Technology Innovations (FTI) is also growing. Additionally, Consumer Financial Protection (CFP) is a priority.',\n",
       " 'ID_5': 'In healthcare, Patient Care Coordination (PCC) and Electronic Health Records (EHR) are transforming services. Medical Research Innovations (MRI) continue to advance, alongside Health Information Exchanges (HIE). Public Health Initiatives (PHI) are also crucial.',\n",
       " 'ID_6': 'Educational Technology (ET) is reshaping learning through Interactive Learning Platforms (ILP) and Adaptive Learning Algorithms (ALA). The focus is also on Student Performance Analytics (SPA) and Digital Curriculum Development (DCD). Educator Professional Development (EPD) remains essential.',\n",
       " 'ID_7': 'The entertainment industry values Creative Content Production (CCP) and Digital Distribution Platforms (DDP). Audience Engagement Metrics (AEM) are analyzed to tailor Marketing Strategies (MS). Additionally, Intellectual Property Rights (IPR) are carefully managed.',\n",
       " 'ID_8': 'Sustainable Agriculture Practices (SAP) and Precision Farming Technologies (PFT) are revolutionizing farming. Crop Yield Optimization (CYO) is a focus, alongside Water Resource Management (WRM). Farmer Support Programs (FSP) provide necessary assistance.',\n",
       " 'ID_9': 'Urban Planning (UP) incorporates Green Infrastructure (GI) and Public Transport Solutions (PTS). Smart City Initiatives (SCI) leverage IoT Technologies (ITT). Community Engagement Processes (CEP) and Zoning Regulations (ZR) are also fundamental.',\n",
       " 'ID_10': 'To Be Determined (TBD), National Aeronautics and Space Administration: NASA, Self-Contained Underwater Breathing Apparatus- SCUBA, Light Amplification by Stimulated Emission of Radiation—LASER, RADAR (Radio Detection And Ranging), ASAP: As Soon As Possible, CPU - Central Processing Unit, DIY—Do It Yourself, Frequently Asked Questions (i.e., FAQ), GIF (Graphics Interchange Format), HTTP: Hypertext Transfer Protocol, JSON - JavaScript Object Notation, KPI—Key Performance Indicator, Light Emitting Diode, namely LED, Magnetic Resonance Imaging, i.e., MRI, OLED, which stands for Organic Light-Emitting Diode',\n",
       " 'ID_11': 'The latest data from NASA, which stands for National Aeronautics and Space Administration, has significantly enriched our understanding of celestial phenomena. Guidelines from the CDC, i.e., Centers for Disease Control and Prevention, have evolved in response to new insights on epidemiology provided by WHO—World Health Organization. In the realm of technology, MIT—Massachusetts Institute of Technology, has been pioneering developments in AI, which stands for artificial intelligence, propelling forward the capabilities of predictive analytics. Furthermore, technological standards that affect global research and development are rigorously maintained by IEEE, i.e., Institute of Electrical and Electronics Engineers.'}"
      ]
     },
     "execution_count": 3,
     "metadata": {},
     "output_type": "execute_result"
    }
   ],
   "source": [
    "documents"
   ]
  },
  {
   "cell_type": "code",
   "execution_count": null,
   "id": "0ed6ad9a",
   "metadata": {},
   "outputs": [],
   "source": []
  },
  {
   "cell_type": "code",
   "execution_count": 4,
   "id": "79e85598",
   "metadata": {},
   "outputs": [],
   "source": [
    "documents['ID_11'] = 'The latest data from NASA, which stands for National Aeronautics and Space Administration, has significantly enriched our understanding of celestial phenomena. Guidelines from the CDC, i.e., Centers for Disease Control and Prevention, have evolved in response to new insights on epidemiology provided by WHO—World Health Organization. In the realm of technology, MIT—Massachusetts Institute of Technology, has been pioneering developments in AI, which stands for artificial intelligence, propelling forward the capabilities of predictive analytics. Furthermore, technological standards that affect global research and development are rigorously maintained by IEEE, i.e., Institute of Electrical and Electronics Engineers. Refedining NASA -- NASA, which stands for National Aeronautics and Space Administration'\n",
    "\n",
    "\n",
    "documents['ID_12'] = 'This is An Awesome Interesting (AI) challenge to acronym subs'"
   ]
  },
  {
   "cell_type": "markdown",
   "id": "387ef96c-492f-4eab-a72e-bcdb3417efa8",
   "metadata": {},
   "source": [
    "### Output"
   ]
  },
  {
   "cell_type": "code",
   "execution_count": 5,
   "id": "21aaaf2c-8c07-4126-a68e-aeebb4d01b59",
   "metadata": {
    "tags": []
   },
   "outputs": [],
   "source": [
    "RESULTS_DIR = 'results'\n",
    "RESULTS_DIR = pathlib.Path(RESULTS_DIR).resolve()\n",
    "RESULTS_FILE = 'operated_documents'\n",
    "try:\n",
    "    os.mkdir(RESULTS_DIR)\n",
    "except FileExistsError:\n",
    "    pass"
   ]
  },
  {
   "cell_type": "code",
   "execution_count": 6,
   "id": "c5ddcb5a",
   "metadata": {},
   "outputs": [
    {
     "data": {
      "text/plain": [
       "AcronymDetector(module_type='OPERATOR', gram_range=[2, 3, 4, 5, 6, 7], current_document_id=None, replace_raw=False, join_with='_')"
      ]
     },
     "execution_count": 6,
     "metadata": {},
     "output_type": "execute_result"
    }
   ],
   "source": [
    "AcronymDetector()"
   ]
  },
  {
   "cell_type": "code",
   "execution_count": 7,
   "id": "1c59c011-9d3c-41a4-8785-53cf45cf96ab",
   "metadata": {
    "tags": []
   },
   "outputs": [
    {
     "data": {
      "text/plain": [
       "[NEDetector(module_type='OPERATOR', backend=None)]"
      ]
     },
     "execution_count": 7,
     "metadata": {},
     "output_type": "execute_result"
    }
   ],
   "source": [
    "Vulture.DEFAULT_OPERATOR_PIPELINE"
   ]
  },
  {
   "cell_type": "markdown",
   "id": "302365f7-5aa8-4e8f-befa-a2e94eaf0f70",
   "metadata": {},
   "source": [
    "### Setup Vulture"
   ]
  },
  {
   "cell_type": "markdown",
   "id": "41a53e96-23d6-4e10-a538-430e6d6bc43b",
   "metadata": {},
   "source": [
    "Create a single-node multi-process Vulture object"
   ]
  },
  {
   "cell_type": "code",
   "execution_count": 8,
   "id": "568deba9",
   "metadata": {},
   "outputs": [],
   "source": [
    "\n",
    "from TELF.pre_processing.Vulture.default_stop_words import STOP_WORDS\n",
    "from TELF.pre_processing.Vulture.default_stop_phrases import STOP_PHRASES"
   ]
  },
  {
   "cell_type": "code",
   "execution_count": 9,
   "id": "ea8b8813-e8c7-42bc-9aa0-538187487841",
   "metadata": {
    "tags": []
   },
   "outputs": [
    {
     "name": "stderr",
     "output_type": "stream",
     "text": [
      "/home/barron/miniconda3/envs/hydra/lib/python3.11/site-packages/TELF/pre_processing/Vulture/vulture.py:465: UserWarning: The file \"/home/barron/python_scripts/all_materials_decomposition/_acronym_debug/examples/Vulture/results/clean_documents\" already exists and will be overwritten!\n",
      "  warnings.warn(f'The file \"{save_path}\" already exists and will be overwritten!')\n",
      "[Vulture]: Cleaning 12 documents\n",
      "  0%|          | 0/1 [00:00<?, ?it/s][Vulture]: Running SimpleCleaner module\n",
      "100%|██████████| 12/12 [00:00<00:00, 2372.57it/s]\n",
      "100%|██████████| 1/1 [00:00<00:00, 135.72it/s]"
     ]
    },
    {
     "name": "stdout",
     "output_type": "stream",
     "text": [
      "CPU times: user 10.9 ms, sys: 1.12 ms, total: 12 ms\n",
      "Wall time: 10.1 ms\n"
     ]
    },
    {
     "name": "stderr",
     "output_type": "stream",
     "text": [
      "\n"
     ]
    }
   ],
   "source": [
    "vulture = Vulture(n_jobs  = 1, \n",
    "                  verbose = 10,  # Disable == 0, Verbose >= 1\n",
    "                 )\n",
    "steps = [SimpleCleaner( stop_words = STOP_WORDS,\n",
    "                  stop_phrases = STOP_PHRASES,\n",
    "            order = [\n",
    "                'standardize_hyphens',\n",
    "                'remove_stop_phrases',\n",
    "                'isolate_frozen',\n",
    "                'remove_copyright_statement',\n",
    "                'make_lower_case',\n",
    "                'remove_formulas',\n",
    "                'normalize',\n",
    "                'remove_next_line',\n",
    "                'remove_email',\n",
    "                'remove_()',\n",
    "                'remove_[]',\n",
    "                'remove_special_characters',\n",
    "                'remove_nonASCII_boundary',\n",
    "                'remove_nonASCII',\n",
    "                'remove_tags',\n",
    "                'remove_stop_words',\n",
    "                'remove_standalone_numbers',\n",
    "                'remove_extra_whitespace',\n",
    "                'min_characters',\n",
    "        ])]\n",
    "%time vulture.clean(documents, \\\n",
    "                    steps=steps,\\\n",
    "                    save_path=os.path.join(RESULTS_DIR, \"clean_documents\"))         \n",
    "\n",
    "clean_documents = pickle.load(open(os.path.join(RESULTS_DIR, \"clean_documents\"), 'rb'))"
   ]
  },
  {
   "cell_type": "code",
   "execution_count": 10,
   "metadata": {},
   "outputs": [
    {
     "name": "stderr",
     "output_type": "stream",
     "text": [
      "[Vulture]: Cleaning 12 documents\n",
      "/home/barron/miniconda3/envs/hydra/lib/python3.11/site-packages/TELF/pre_processing/Vulture/vulture.py:465: UserWarning: The file \"/home/barron/python_scripts/all_materials_decomposition/_acronym_debug/examples/Vulture/results/operated_documents_AcronymDetector.p\" already exists and will be overwritten!\n",
      "  warnings.warn(f'The file \"{save_path}\" already exists and will be overwritten!')\n",
      "  0%|          | 0/1 [00:00<?, ?it/s][Vulture]: Running AcronymDetector module\n",
      "100%|██████████| 12/12 [00:00<00:00, 668.65it/s]\n",
      "100%|██████████| 1/1 [00:00<00:00, 50.85it/s]\n"
     ]
    }
   ],
   "source": [
    "vulture.operate(clean_documents, steps=[AcronymDetector(replace_raw=True)], save_path=RESULTS_DIR, file_name=RESULTS_FILE)                   "
   ]
  },
  {
   "cell_type": "markdown",
   "metadata": {},
   "source": [
    "Each entry is a tuple where index 0 is the name of the operation and index 1 is the results of the operation in dictionary format."
   ]
  },
  {
   "cell_type": "code",
   "execution_count": 11,
   "metadata": {},
   "outputs": [
    {
     "data": {
      "text/plain": [
       "['clean_documents', 'operated_documents_AcronymDetector.p']"
      ]
     },
     "execution_count": 11,
     "metadata": {},
     "output_type": "execute_result"
    }
   ],
   "source": [
    "saved_file = ! ls $RESULTS_DIR\n",
    "saved_file"
   ]
  },
  {
   "cell_type": "markdown",
   "id": "a96259b6-c967-4102-913a-9e866e4ee111",
   "metadata": {},
   "source": [
    "### Look at Cleaned Documents"
   ]
  },
  {
   "cell_type": "code",
   "execution_count": 12,
   "id": "9aad256c-2645-4f1e-b98a-f44132e61c15",
   "metadata": {
    "tags": []
   },
   "outputs": [],
   "source": [
    "operated_documents = pickle.load(open(os.path.join(RESULTS_DIR, saved_file[1]), 'rb'))"
   ]
  },
  {
   "cell_type": "code",
   "execution_count": 13,
   "id": "1f8e713f",
   "metadata": {},
   "outputs": [
    {
     "data": {
      "text/plain": [
       "{'ID_1': {'Acronyms': {'global warming': 'gw',\n",
       "   'carbon footprint reduction': 'cfr'},\n",
       "  'replaced_text': 'discussion  global_warming sustainable sources ses discussing ses vital mention  carbon_footprint_reduction impacts environmental sustainability forget role innovative technology solutions'},\n",
       " 'ID_2': {'Acronyms': {'project management frameworks': 'pmf',\n",
       "   'advanced analytics tools': 'aat',\n",
       "   'continuous improvement processes': 'cip',\n",
       "   'strategic planning initiatives': 'spi'},\n",
       "  'replaced_text': 'projects success hinges team collaboration robust  project_management_frameworks  advanced_analytics_tools  continuous_improvement_processes  strategic_planning_initiatives key'},\n",
       " 'ID_3': {'Acronyms': {'customer engagement strategies': 'ces'},\n",
       "  'replaced_text': 'digital transformation involves technology  customer_engagement_strategies optimizing user experience ux privacy regulations dpr cybersecurity measures foundational'},\n",
       " 'ID_4': {'Acronyms': {'risk management practices': 'rmp',\n",
       "   'investment diversification strategies': 'ids',\n",
       "   'financial technology innovations': 'fti',\n",
       "   'consumer financial protection': 'cfp'},\n",
       "  'replaced_text': 'financial institutions focusing  risk_management_practices  investment_diversification_strategies regulatory compliance  financial_technology_innovations growing additionally  consumer_financial_protection priority'},\n",
       " 'ID_5': {'Acronyms': {'patient care coordination': 'pcc',\n",
       "   'electronic health records': 'ehr',\n",
       "   'health information exchanges': 'hie',\n",
       "   'public health initiatives': 'phi'},\n",
       "  'replaced_text': 'healthcare  patient_care_coordination  electronic_health_records transforming services medical innovations mri continue advance alongside  health_information_exchanges  public_health_initiatives crucial'},\n",
       " 'ID_6': {'Acronyms': {'interactive learning platforms': 'ilp',\n",
       "   'adaptive learning algorithms': 'ala',\n",
       "   'digital curriculum development': 'dcd',\n",
       "   'educator professional development': 'epd'},\n",
       "  'replaced_text': 'educational technology reshaping learning  interactive_learning_platforms  adaptive_learning_algorithms focus student analytics spa  digital_curriculum_development  educator_professional_development remains essential'},\n",
       " 'ID_7': {'Acronyms': {'digital distribution platforms': 'ddp',\n",
       "   'audience engagement metrics': 'aem'},\n",
       "  'replaced_text': 'entertainment industry creative content ccp  digital_distribution_platforms  audience_engagement_metrics analyzed tailor marketing strategies additionally intellectual ipr carefully managed'},\n",
       " 'ID_8': {'Acronyms': {'sustainable agriculture practices': 'sap',\n",
       "   'precision farming technologies': 'pft',\n",
       "   'crop yield optimization': 'cyo',\n",
       "   'water resource management': 'wrm',\n",
       "   'farmer support programs': 'fsp'},\n",
       "  'replaced_text': ' sustainable_agriculture_practices  precision_farming_technologies revolutionizing farming  crop_yield_optimization focus alongside  water_resource_management  farmer_support_programs assistance'},\n",
       " 'ID_9': {'Acronyms': {'zoning regulations': 'zr',\n",
       "   'public transport solutions': 'pts',\n",
       "   'smart city initiatives': 'sci',\n",
       "   'community engagement processes': 'cep'},\n",
       "  'replaced_text': 'urban planning incorporates green infrastructure  public_transport_solutions  smart_city_initiatives leverage iot technologies itt  community_engagement_processes  zoning_regulations fundamental'},\n",
       " 'ID_10': {'Acronyms': {'central processing unit': 'cpu',\n",
       "   'frequently asked questions': 'faq',\n",
       "   'magnetic resonance imaging': 'mri',\n",
       "   'national aeronautics space administration': 'nasa'},\n",
       "  'replaced_text': 'determined tbd  national_aeronautics_space_administration underwater breathing apparatus scuba amplification stimulated emission radiation-laser radar radio ranging asap central_processing_unit   frequently_asked_questions gif graphics interchange hypertext transfer protocol json javascript object notation kpi-key indicator emitting diode led  magnetic_resonance_imaging oled organic diode'},\n",
       " 'ID_11': {'Acronyms': {'artificial intelligence': 'ai',\n",
       "   'centers disease control': 'cdc',\n",
       "   'national aeronautics space administration': 'nasa',\n",
       "   'institute electrical electronics engineers': 'ieee'},\n",
       "  'replaced_text': 'latest national_aeronautics_space_administration  enriched understanding celestial phenomena guidelines centers_disease_control  prevention evolved response insights epidemiology provided health organization realm technology mit-massachusetts institute technology pioneering developments artificial_intelligence  propelling forward capabilities predictive analytics technological standards affect global development rigorously maintained institute_electrical_electronics_engineers  refedining national_aeronautics_space_administration national_aeronautics_space_administration '},\n",
       " 'ID_12': {'Acronyms': {'awesome interesting': 'ai'},\n",
       "  'replaced_text': ' awesome_interesting challenge acronym subs'}}"
      ]
     },
     "execution_count": 13,
     "metadata": {},
     "output_type": "execute_result"
    }
   ],
   "source": [
    "operated_documents"
   ]
  },
  {
   "cell_type": "code",
   "execution_count": 14,
   "id": "69859fe2-48e5-4a8e-8b8d-ccc64abd51b7",
   "metadata": {
    "tags": []
   },
   "outputs": [],
   "source": [
    "def to_df(documents, operated_documents):\n",
    "    data = {\n",
    "        'id': [],\n",
    "        'text': [],\n",
    "        'acronyms': [],\n",
    "        'acronym_replaced_text': [],\n",
    "\n",
    "    }\n",
    "\n",
    "    for _id, text in documents.items():\n",
    "        data['id'].append(_id)\n",
    "        data['text'].append(text)\n",
    "\n",
    "        data['acronyms'].append(operated_documents.get(_id).get('Acronyms'))\n",
    "        data['acronym_replaced_text'].append(operated_documents.get(_id).get('replaced_text'))\n",
    "\n",
    "    return pd.DataFrame.from_dict(data)"
   ]
  },
  {
   "cell_type": "code",
   "execution_count": 15,
   "id": "087aa962-1a60-40c3-8de2-be90df8a975c",
   "metadata": {
    "tags": []
   },
   "outputs": [
    {
     "data": {
      "text/html": [
       "<div>\n",
       "<style scoped>\n",
       "    .dataframe tbody tr th:only-of-type {\n",
       "        vertical-align: middle;\n",
       "    }\n",
       "\n",
       "    .dataframe tbody tr th {\n",
       "        vertical-align: top;\n",
       "    }\n",
       "\n",
       "    .dataframe thead th {\n",
       "        text-align: right;\n",
       "    }\n",
       "</style>\n",
       "<table border=\"1\" class=\"dataframe\">\n",
       "  <thead>\n",
       "    <tr style=\"text-align: right;\">\n",
       "      <th></th>\n",
       "      <th>id</th>\n",
       "      <th>text</th>\n",
       "      <th>acronyms</th>\n",
       "      <th>acronym_replaced_text</th>\n",
       "    </tr>\n",
       "  </thead>\n",
       "  <tbody>\n",
       "    <tr>\n",
       "      <th>0</th>\n",
       "      <td>ID_1</td>\n",
       "      <td>In our discussion about Global Warming (GW), w...</td>\n",
       "      <td>{'global warming': 'gw', 'carbon footprint red...</td>\n",
       "      <td>discussion  global_warming sustainable sources...</td>\n",
       "    </tr>\n",
       "    <tr>\n",
       "      <th>1</th>\n",
       "      <td>ID_2</td>\n",
       "      <td>The project's success hinges on Effective Team...</td>\n",
       "      <td>{'project management frameworks': 'pmf', 'adva...</td>\n",
       "      <td>projects success hinges team collaboration rob...</td>\n",
       "    </tr>\n",
       "    <tr>\n",
       "      <th>2</th>\n",
       "      <td>ID_3</td>\n",
       "      <td>Digital Transformation (DT) involves more than...</td>\n",
       "      <td>{'customer engagement strategies': 'ces'}</td>\n",
       "      <td>digital transformation involves technology  cu...</td>\n",
       "    </tr>\n",
       "    <tr>\n",
       "      <th>3</th>\n",
       "      <td>ID_4</td>\n",
       "      <td>Financial institutions are focusing on Risk Ma...</td>\n",
       "      <td>{'risk management practices': 'rmp', 'investme...</td>\n",
       "      <td>financial institutions focusing  risk_manageme...</td>\n",
       "    </tr>\n",
       "    <tr>\n",
       "      <th>4</th>\n",
       "      <td>ID_5</td>\n",
       "      <td>In healthcare, Patient Care Coordination (PCC)...</td>\n",
       "      <td>{'patient care coordination': 'pcc', 'electron...</td>\n",
       "      <td>healthcare  patient_care_coordination  electro...</td>\n",
       "    </tr>\n",
       "    <tr>\n",
       "      <th>5</th>\n",
       "      <td>ID_6</td>\n",
       "      <td>Educational Technology (ET) is reshaping learn...</td>\n",
       "      <td>{'interactive learning platforms': 'ilp', 'ada...</td>\n",
       "      <td>educational technology reshaping learning  int...</td>\n",
       "    </tr>\n",
       "    <tr>\n",
       "      <th>6</th>\n",
       "      <td>ID_7</td>\n",
       "      <td>The entertainment industry values Creative Con...</td>\n",
       "      <td>{'digital distribution platforms': 'ddp', 'aud...</td>\n",
       "      <td>entertainment industry creative content ccp  d...</td>\n",
       "    </tr>\n",
       "    <tr>\n",
       "      <th>7</th>\n",
       "      <td>ID_8</td>\n",
       "      <td>Sustainable Agriculture Practices (SAP) and Pr...</td>\n",
       "      <td>{'sustainable agriculture practices': 'sap', '...</td>\n",
       "      <td>sustainable_agriculture_practices  precision_...</td>\n",
       "    </tr>\n",
       "    <tr>\n",
       "      <th>8</th>\n",
       "      <td>ID_9</td>\n",
       "      <td>Urban Planning (UP) incorporates Green Infrast...</td>\n",
       "      <td>{'zoning regulations': 'zr', 'public transport...</td>\n",
       "      <td>urban planning incorporates green infrastructu...</td>\n",
       "    </tr>\n",
       "    <tr>\n",
       "      <th>9</th>\n",
       "      <td>ID_10</td>\n",
       "      <td>To Be Determined (TBD), National Aeronautics a...</td>\n",
       "      <td>{'central processing unit': 'cpu', 'frequently...</td>\n",
       "      <td>determined tbd  national_aeronautics_space_adm...</td>\n",
       "    </tr>\n",
       "    <tr>\n",
       "      <th>10</th>\n",
       "      <td>ID_11</td>\n",
       "      <td>The latest data from NASA, which stands for Na...</td>\n",
       "      <td>{'artificial intelligence': 'ai', 'centers dis...</td>\n",
       "      <td>latest national_aeronautics_space_administrati...</td>\n",
       "    </tr>\n",
       "    <tr>\n",
       "      <th>11</th>\n",
       "      <td>ID_12</td>\n",
       "      <td>This is An Awesome Interesting (AI) challenge ...</td>\n",
       "      <td>{'awesome interesting': 'ai'}</td>\n",
       "      <td>awesome_interesting challenge acronym subs</td>\n",
       "    </tr>\n",
       "  </tbody>\n",
       "</table>\n",
       "</div>"
      ],
      "text/plain": [
       "       id                                               text  \\\n",
       "0    ID_1  In our discussion about Global Warming (GW), w...   \n",
       "1    ID_2  The project's success hinges on Effective Team...   \n",
       "2    ID_3  Digital Transformation (DT) involves more than...   \n",
       "3    ID_4  Financial institutions are focusing on Risk Ma...   \n",
       "4    ID_5  In healthcare, Patient Care Coordination (PCC)...   \n",
       "5    ID_6  Educational Technology (ET) is reshaping learn...   \n",
       "6    ID_7  The entertainment industry values Creative Con...   \n",
       "7    ID_8  Sustainable Agriculture Practices (SAP) and Pr...   \n",
       "8    ID_9  Urban Planning (UP) incorporates Green Infrast...   \n",
       "9   ID_10  To Be Determined (TBD), National Aeronautics a...   \n",
       "10  ID_11  The latest data from NASA, which stands for Na...   \n",
       "11  ID_12  This is An Awesome Interesting (AI) challenge ...   \n",
       "\n",
       "                                             acronyms  \\\n",
       "0   {'global warming': 'gw', 'carbon footprint red...   \n",
       "1   {'project management frameworks': 'pmf', 'adva...   \n",
       "2           {'customer engagement strategies': 'ces'}   \n",
       "3   {'risk management practices': 'rmp', 'investme...   \n",
       "4   {'patient care coordination': 'pcc', 'electron...   \n",
       "5   {'interactive learning platforms': 'ilp', 'ada...   \n",
       "6   {'digital distribution platforms': 'ddp', 'aud...   \n",
       "7   {'sustainable agriculture practices': 'sap', '...   \n",
       "8   {'zoning regulations': 'zr', 'public transport...   \n",
       "9   {'central processing unit': 'cpu', 'frequently...   \n",
       "10  {'artificial intelligence': 'ai', 'centers dis...   \n",
       "11                      {'awesome interesting': 'ai'}   \n",
       "\n",
       "                                acronym_replaced_text  \n",
       "0   discussion  global_warming sustainable sources...  \n",
       "1   projects success hinges team collaboration rob...  \n",
       "2   digital transformation involves technology  cu...  \n",
       "3   financial institutions focusing  risk_manageme...  \n",
       "4   healthcare  patient_care_coordination  electro...  \n",
       "5   educational technology reshaping learning  int...  \n",
       "6   entertainment industry creative content ccp  d...  \n",
       "7    sustainable_agriculture_practices  precision_...  \n",
       "8   urban planning incorporates green infrastructu...  \n",
       "9   determined tbd  national_aeronautics_space_adm...  \n",
       "10  latest national_aeronautics_space_administrati...  \n",
       "11         awesome_interesting challenge acronym subs  "
      ]
     },
     "execution_count": 15,
     "metadata": {},
     "output_type": "execute_result"
    }
   ],
   "source": [
    "df = to_df(documents, operated_documents)\n",
    "df"
   ]
  },
  {
   "cell_type": "code",
   "execution_count": 16,
   "id": "c9ebc9e7",
   "metadata": {},
   "outputs": [
    {
     "name": "stdout",
     "output_type": "stream",
     "text": [
      "The latest data from NASA, which stands for National Aeronautics and Space Administration,\n",
      "has significantly enriched our understanding of celestial phenomena. Guidelines from the\n",
      "CDC, i.e., Centers for Disease Control and Prevention, have evolved in response to new\n",
      "insights on epidemiology provided by WHO—World Health Organization. In the realm of\n",
      "technology, MIT—Massachusetts Institute of Technology, has been pioneering developments in\n",
      "AI, which stands for artificial intelligence, propelling forward the capabilities of\n",
      "predictive analytics. Furthermore, technological standards that affect global research and\n",
      "development are rigorously maintained by IEEE, i.e., Institute of Electrical and\n",
      "Electronics Engineers. Refedining NASA -- NASA, which stands for National Aeronautics and\n",
      "Space Administration\n"
     ]
    }
   ],
   "source": [
    "import textwrap\n",
    "wrapped_text = textwrap.fill(df.iloc[10].text, width=90)\n",
    "print(wrapped_text)"
   ]
  },
  {
   "cell_type": "code",
   "execution_count": 17,
   "metadata": {},
   "outputs": [
    {
     "data": {
      "text/plain": [
       "{'artificial intelligence': 'ai',\n",
       " 'centers disease control': 'cdc',\n",
       " 'national aeronautics space administration': 'nasa',\n",
       " 'institute electrical electronics engineers': 'ieee'}"
      ]
     },
     "execution_count": 17,
     "metadata": {},
     "output_type": "execute_result"
    }
   ],
   "source": [
    "df.iloc[10].acronyms"
   ]
  },
  {
   "cell_type": "code",
   "execution_count": 18,
   "id": "f205a33c",
   "metadata": {},
   "outputs": [
    {
     "name": "stdout",
     "output_type": "stream",
     "text": [
      "latest national_aeronautics_space_administration  enriched understanding celestial\n",
      "phenomena guidelines centers_disease_control  prevention evolved response insights\n",
      "epidemiology provided health organization realm technology mit-massachusetts institute\n",
      "technology pioneering developments artificial_intelligence  propelling forward\n",
      "capabilities predictive analytics technological standards affect global development\n",
      "rigorously maintained institute_electrical_electronics_engineers  refedining\n",
      "national_aeronautics_space_administration national_aeronautics_space_administration\n"
     ]
    }
   ],
   "source": [
    "\n",
    "wrapped_text = textwrap.fill(df.iloc[10].acronym_replaced_text, width=90)\n",
    "print(wrapped_text)"
   ]
  },
  {
   "cell_type": "markdown",
   "id": "810d50a8",
   "metadata": {},
   "source": []
  },
  {
   "cell_type": "code",
   "execution_count": 19,
   "id": "23b3b377",
   "metadata": {},
   "outputs": [
    {
     "name": "stdout",
     "output_type": "stream",
     "text": [
      "To Be Determined (TBD), National Aeronautics and Space Administration: NASA, Self-\n",
      "Contained Underwater Breathing Apparatus- SCUBA, Light Amplification by Stimulated\n",
      "Emission of Radiation—LASER, RADAR (Radio Detection And Ranging), ASAP: As Soon As\n",
      "Possible, CPU - Central Processing Unit, DIY—Do It Yourself, Frequently Asked Questions\n",
      "(i.e., FAQ), GIF (Graphics Interchange Format), HTTP: Hypertext Transfer Protocol, JSON -\n",
      "JavaScript Object Notation, KPI—Key Performance Indicator, Light Emitting Diode, namely\n",
      "LED, Magnetic Resonance Imaging, i.e., MRI, OLED, which stands for Organic Light-Emitting\n",
      "Diode\n"
     ]
    }
   ],
   "source": [
    "wrapped_text = textwrap.fill(df.iloc[9].text, width=90)\n",
    "print(wrapped_text)"
   ]
  },
  {
   "cell_type": "code",
   "execution_count": 20,
   "id": "877b390c",
   "metadata": {},
   "outputs": [
    {
     "data": {
      "text/plain": [
       "{'central processing unit': 'cpu',\n",
       " 'frequently asked questions': 'faq',\n",
       " 'magnetic resonance imaging': 'mri',\n",
       " 'national aeronautics space administration': 'nasa'}"
      ]
     },
     "execution_count": 20,
     "metadata": {},
     "output_type": "execute_result"
    }
   ],
   "source": [
    "df.iloc[9].acronyms"
   ]
  },
  {
   "cell_type": "code",
   "execution_count": 21,
   "id": "57a4eeea",
   "metadata": {},
   "outputs": [
    {
     "name": "stdout",
     "output_type": "stream",
     "text": [
      "determined tbd  national_aeronautics_space_administration underwater breathing apparatus\n",
      "scuba amplification stimulated emission radiation-laser radar radio ranging asap\n",
      "central_processing_unit   frequently_asked_questions gif graphics interchange hypertext\n",
      "transfer protocol json javascript object notation kpi-key indicator emitting diode led\n",
      "magnetic_resonance_imaging oled organic diode\n"
     ]
    }
   ],
   "source": [
    "wrapped_text = textwrap.fill(df.iloc[9].acronym_replaced_text, width=90)\n",
    "print(wrapped_text)"
   ]
  },
  {
   "cell_type": "code",
   "execution_count": null,
   "id": "c0b3d67e",
   "metadata": {},
   "outputs": [],
   "source": []
  },
  {
   "cell_type": "markdown",
   "id": "430c7250",
   "metadata": {},
   "source": [
    "# Instead of Vulture Operator substitutions, Vulture Clean substitutions"
   ]
  },
  {
   "cell_type": "code",
   "execution_count": 22,
   "id": "a37e29d2",
   "metadata": {},
   "outputs": [],
   "source": [
    "vulture = Vulture(n_jobs  = 1, \n",
    "                  verbose = 10,  # Disable == 0, Verbose >= 1\n",
    "                 )\n",
    "steps = [SimpleCleaner( stop_words = STOP_WORDS,\n",
    "                  stop_phrases = STOP_PHRASES,\n",
    "            order = [\n",
    "                'standardize_hyphens',\n",
    "                'remove_stop_phrases',\n",
    "                'isolate_frozen',\n",
    "                'remove_copyright_statement',\n",
    "                'make_lower_case',\n",
    "                'remove_formulas',\n",
    "                'normalize',\n",
    "                'remove_next_line',\n",
    "                'remove_email',\n",
    "                'remove_()',\n",
    "                'remove_[]',\n",
    "                'remove_special_characters',\n",
    "                'remove_nonASCII_boundary',\n",
    "                'remove_nonASCII',\n",
    "                'remove_tags',\n",
    "                'remove_stop_words',\n",
    "                'remove_standalone_numbers',\n",
    "                'remove_extra_whitespace',\n",
    "                'min_characters',\n",
    "        ])]"
   ]
  },
  {
   "cell_type": "code",
   "execution_count": 23,
   "id": "b66b4442",
   "metadata": {},
   "outputs": [
    {
     "name": "stdout",
     "output_type": "stream",
     "text": [
      "global warming : global_warming\n",
      "gw : global_warming\n",
      "carbon footprint reduction : carbon_footprint_reduction\n",
      "cfr : carbon_footprint_reduction\n",
      "project management frameworks : project_management_frameworks\n",
      "pmf : project_management_frameworks\n",
      "advanced analytics tools : advanced_analytics_tools\n",
      "aat : advanced_analytics_tools\n",
      "continuous improvement processes : continuous_improvement_processes\n",
      "cip : continuous_improvement_processes\n",
      "strategic planning initiatives : strategic_planning_initiatives\n",
      "spi : strategic_planning_initiatives\n",
      "customer engagement strategies : customer_engagement_strategies\n",
      "ces : customer_engagement_strategies\n",
      "risk management practices : risk_management_practices\n",
      "rmp : risk_management_practices\n",
      "investment diversification strategies : investment_diversification_strategies\n",
      "ids : investment_diversification_strategies\n",
      "financial technology innovations : financial_technology_innovations\n",
      "fti : financial_technology_innovations\n",
      "consumer financial protection : consumer_financial_protection\n",
      "cfp : consumer_financial_protection\n",
      "patient care coordination : patient_care_coordination\n",
      "pcc : patient_care_coordination\n",
      "electronic health records : electronic_health_records\n",
      "ehr : electronic_health_records\n",
      "health information exchanges : health_information_exchanges\n",
      "hie : health_information_exchanges\n",
      "public health initiatives : public_health_initiatives\n",
      "phi : public_health_initiatives\n",
      "interactive learning platforms : interactive_learning_platforms\n",
      "ilp : interactive_learning_platforms\n",
      "adaptive learning algorithms : adaptive_learning_algorithms\n",
      "ala : adaptive_learning_algorithms\n",
      "digital curriculum development : digital_curriculum_development\n",
      "dcd : digital_curriculum_development\n",
      "educator professional development : educator_professional_development\n",
      "epd : educator_professional_development\n",
      "digital distribution platforms : digital_distribution_platforms\n",
      "ddp : digital_distribution_platforms\n",
      "audience engagement metrics : audience_engagement_metrics\n",
      "aem : audience_engagement_metrics\n",
      "sustainable agriculture practices : sustainable_agriculture_practices\n",
      "sap : sustainable_agriculture_practices\n",
      "precision farming technologies : precision_farming_technologies\n",
      "pft : precision_farming_technologies\n",
      "crop yield optimization : crop_yield_optimization\n",
      "cyo : crop_yield_optimization\n",
      "water resource management : water_resource_management\n",
      "wrm : water_resource_management\n",
      "farmer support programs : farmer_support_programs\n",
      "fsp : farmer_support_programs\n",
      "zoning regulations : zoning_regulations\n",
      "zr : zoning_regulations\n",
      "public transport solutions : public_transport_solutions\n",
      "pts : public_transport_solutions\n",
      "smart city initiatives : smart_city_initiatives\n",
      "sci : smart_city_initiatives\n",
      "community engagement processes : community_engagement_processes\n",
      "cep : community_engagement_processes\n",
      "central processing unit : central_processing_unit\n",
      "cpu : central_processing_unit\n",
      "frequently asked questions : frequently_asked_questions\n",
      "faq : frequently_asked_questions\n",
      "magnetic resonance imaging : magnetic_resonance_imaging\n",
      "mri : magnetic_resonance_imaging\n",
      "national aeronautics space administration : national_aeronautics_space_administration\n",
      "nasa : national_aeronautics_space_administration\n",
      "artificial intelligence : artificial_intelligence\n",
      "ai : awesome_interesting\n",
      "centers disease control : centers_disease_control\n",
      "cdc : centers_disease_control\n",
      "institute electrical electronics engineers : institute_electrical_electronics_engineers\n",
      "ieee : institute_electrical_electronics_engineers\n",
      "awesome interesting : awesome_interesting\n"
     ]
    }
   ],
   "source": [
    "substitutions = {}\n",
    "for id, acronym_data in operated_documents.items():\n",
    "    for src_txt, acronym in acronym_data['Acronyms'].items():\n",
    "        # print(src_txt, acronym)\n",
    "        sub_to = '_'.join(src_txt.split())\n",
    "        substitutions[src_txt] = sub_to\n",
    "        substitutions[acronym] = sub_to\n",
    "\n",
    "for src, sub in substitutions.items():\n",
    "    print(f'{src} : {sub}')\n"
   ]
  },
  {
   "cell_type": "code",
   "execution_count": null,
   "id": "87eb0255",
   "metadata": {},
   "outputs": [],
   "source": []
  },
  {
   "cell_type": "code",
   "execution_count": 24,
   "id": "53bb186a",
   "metadata": {},
   "outputs": [
    {
     "data": {
      "text/plain": [
       "{'global warming': 'global_warming',\n",
       " 'gw': 'global_warming',\n",
       " 'carbon footprint reduction': 'carbon_footprint_reduction',\n",
       " 'cfr': 'carbon_footprint_reduction',\n",
       " 'project management frameworks': 'project_management_frameworks',\n",
       " 'pmf': 'project_management_frameworks',\n",
       " 'advanced analytics tools': 'advanced_analytics_tools',\n",
       " 'aat': 'advanced_analytics_tools',\n",
       " 'continuous improvement processes': 'continuous_improvement_processes',\n",
       " 'cip': 'continuous_improvement_processes',\n",
       " 'strategic planning initiatives': 'strategic_planning_initiatives',\n",
       " 'spi': 'strategic_planning_initiatives',\n",
       " 'customer engagement strategies': 'customer_engagement_strategies',\n",
       " 'ces': 'customer_engagement_strategies',\n",
       " 'risk management practices': 'risk_management_practices',\n",
       " 'rmp': 'risk_management_practices',\n",
       " 'investment diversification strategies': 'investment_diversification_strategies',\n",
       " 'ids': 'investment_diversification_strategies',\n",
       " 'financial technology innovations': 'financial_technology_innovations',\n",
       " 'fti': 'financial_technology_innovations',\n",
       " 'consumer financial protection': 'consumer_financial_protection',\n",
       " 'cfp': 'consumer_financial_protection',\n",
       " 'patient care coordination': 'patient_care_coordination',\n",
       " 'pcc': 'patient_care_coordination',\n",
       " 'electronic health records': 'electronic_health_records',\n",
       " 'ehr': 'electronic_health_records',\n",
       " 'health information exchanges': 'health_information_exchanges',\n",
       " 'hie': 'health_information_exchanges',\n",
       " 'public health initiatives': 'public_health_initiatives',\n",
       " 'phi': 'public_health_initiatives',\n",
       " 'interactive learning platforms': 'interactive_learning_platforms',\n",
       " 'ilp': 'interactive_learning_platforms',\n",
       " 'adaptive learning algorithms': 'adaptive_learning_algorithms',\n",
       " 'ala': 'adaptive_learning_algorithms',\n",
       " 'digital curriculum development': 'digital_curriculum_development',\n",
       " 'dcd': 'digital_curriculum_development',\n",
       " 'educator professional development': 'educator_professional_development',\n",
       " 'epd': 'educator_professional_development',\n",
       " 'digital distribution platforms': 'digital_distribution_platforms',\n",
       " 'ddp': 'digital_distribution_platforms',\n",
       " 'audience engagement metrics': 'audience_engagement_metrics',\n",
       " 'aem': 'audience_engagement_metrics',\n",
       " 'sustainable agriculture practices': 'sustainable_agriculture_practices',\n",
       " 'sap': 'sustainable_agriculture_practices',\n",
       " 'precision farming technologies': 'precision_farming_technologies',\n",
       " 'pft': 'precision_farming_technologies',\n",
       " 'crop yield optimization': 'crop_yield_optimization',\n",
       " 'cyo': 'crop_yield_optimization',\n",
       " 'water resource management': 'water_resource_management',\n",
       " 'wrm': 'water_resource_management',\n",
       " 'farmer support programs': 'farmer_support_programs',\n",
       " 'fsp': 'farmer_support_programs',\n",
       " 'zoning regulations': 'zoning_regulations',\n",
       " 'zr': 'zoning_regulations',\n",
       " 'public transport solutions': 'public_transport_solutions',\n",
       " 'pts': 'public_transport_solutions',\n",
       " 'smart city initiatives': 'smart_city_initiatives',\n",
       " 'sci': 'smart_city_initiatives',\n",
       " 'community engagement processes': 'community_engagement_processes',\n",
       " 'cep': 'community_engagement_processes',\n",
       " 'central processing unit': 'central_processing_unit',\n",
       " 'cpu': 'central_processing_unit',\n",
       " 'frequently asked questions': 'frequently_asked_questions',\n",
       " 'faq': 'frequently_asked_questions',\n",
       " 'magnetic resonance imaging': 'magnetic_resonance_imaging',\n",
       " 'mri': 'magnetic_resonance_imaging',\n",
       " 'national aeronautics space administration': 'national_aeronautics_space_administration',\n",
       " 'nasa': 'national_aeronautics_space_administration',\n",
       " 'artificial intelligence': 'artificial_intelligence',\n",
       " 'ai': 'awesome_interesting',\n",
       " 'centers disease control': 'centers_disease_control',\n",
       " 'cdc': 'centers_disease_control',\n",
       " 'institute electrical electronics engineers': 'institute_electrical_electronics_engineers',\n",
       " 'ieee': 'institute_electrical_electronics_engineers',\n",
       " 'awesome interesting': 'awesome_interesting'}"
      ]
     },
     "execution_count": 24,
     "metadata": {},
     "output_type": "execute_result"
    }
   ],
   "source": [
    "substitutions"
   ]
  },
  {
   "cell_type": "code",
   "execution_count": 27,
   "id": "3ab90f76",
   "metadata": {},
   "outputs": [
    {
     "ename": "NameError",
     "evalue": "name 'substitutions' is not defined",
     "output_type": "error",
     "traceback": [
      "\u001b[0;31m---------------------------------------------------------------------------\u001b[0m",
      "\u001b[0;31mNameError\u001b[0m                                 Traceback (most recent call last)",
      "Cell \u001b[0;32mIn[27], line 4\u001b[0m\n\u001b[1;32m      1\u001b[0m dataframe_clean_args \u001b[38;5;241m=\u001b[39m {\n\u001b[1;32m      2\u001b[0m     \u001b[38;5;124m\"\u001b[39m\u001b[38;5;124mdf\u001b[39m\u001b[38;5;124m\"\u001b[39m: df,\n\u001b[1;32m      3\u001b[0m     \u001b[38;5;124m\"\u001b[39m\u001b[38;5;124msteps\u001b[39m\u001b[38;5;124m\"\u001b[39m: steps,\n\u001b[0;32m----> 4\u001b[0m     \u001b[38;5;124m\"\u001b[39m\u001b[38;5;124msubstitutions\u001b[39m\u001b[38;5;124m\"\u001b[39m: \u001b[43msubstitutions\u001b[49m\u001b[38;5;241m.\u001b[39mcopy(),\n\u001b[1;32m      5\u001b[0m     \u001b[38;5;124m\"\u001b[39m\u001b[38;5;124mcolumns\u001b[39m\u001b[38;5;124m\"\u001b[39m: [\u001b[38;5;124m'\u001b[39m\u001b[38;5;124mtext\u001b[39m\u001b[38;5;124m'\u001b[39m,],\n\u001b[1;32m      6\u001b[0m     \u001b[38;5;124m\"\u001b[39m\u001b[38;5;124mappend_to_original_df\u001b[39m\u001b[38;5;124m\"\u001b[39m: \u001b[38;5;28;01mTrue\u001b[39;00m,\n\u001b[1;32m      7\u001b[0m     \u001b[38;5;124m\"\u001b[39m\u001b[38;5;124mconcat_cleaned_cols\u001b[39m\u001b[38;5;124m\"\u001b[39m: \u001b[38;5;28;01mTrue\u001b[39;00m,\n\u001b[1;32m      8\u001b[0m }\n\u001b[1;32m     10\u001b[0m df \u001b[38;5;241m=\u001b[39m vulture\u001b[38;5;241m.\u001b[39mclean_dataframe(\u001b[38;5;241m*\u001b[39m\u001b[38;5;241m*\u001b[39mdataframe_clean_args) \n\u001b[1;32m     11\u001b[0m df\u001b[38;5;241m.\u001b[39minfo()\n",
      "\u001b[0;31mNameError\u001b[0m: name 'substitutions' is not defined"
     ]
    }
   ],
   "source": [
    "dataframe_clean_args = {\n",
    "    \"df\": df,\n",
    "    \"steps\": steps,\n",
    "    \"substitutions\": substitutions.copy(),\n",
    "    \"columns\": ['text',],\n",
    "    \"append_to_original_df\": True,\n",
    "    \"concat_cleaned_cols\": True,\n",
    "}\n",
    "\n",
    "df = vulture.clean_dataframe(**dataframe_clean_args) \n",
    "df.info()"
   ]
  },
  {
   "cell_type": "code",
   "execution_count": 26,
   "id": "8c9cd95a",
   "metadata": {},
   "outputs": [
    {
     "data": {
      "text/html": [
       "<div>\n",
       "<style scoped>\n",
       "    .dataframe tbody tr th:only-of-type {\n",
       "        vertical-align: middle;\n",
       "    }\n",
       "\n",
       "    .dataframe tbody tr th {\n",
       "        vertical-align: top;\n",
       "    }\n",
       "\n",
       "    .dataframe thead th {\n",
       "        text-align: right;\n",
       "    }\n",
       "</style>\n",
       "<table border=\"1\" class=\"dataframe\">\n",
       "  <thead>\n",
       "    <tr style=\"text-align: right;\">\n",
       "      <th></th>\n",
       "      <th>id</th>\n",
       "      <th>text</th>\n",
       "      <th>acronyms</th>\n",
       "      <th>acronym_replaced_text</th>\n",
       "      <th>clean_text</th>\n",
       "    </tr>\n",
       "  </thead>\n",
       "  <tbody>\n",
       "    <tr>\n",
       "      <th>0</th>\n",
       "      <td>ID_1</td>\n",
       "      <td>In our discussion about Global Warming (GW), w...</td>\n",
       "      <td>{'global warming': 'gw', 'carbon footprint red...</td>\n",
       "      <td>discussion  global_warming sustainable sources...</td>\n",
       "      <td>discussion global warming gw sustainable sourc...</td>\n",
       "    </tr>\n",
       "    <tr>\n",
       "      <th>1</th>\n",
       "      <td>ID_2</td>\n",
       "      <td>The project's success hinges on Effective Team...</td>\n",
       "      <td>{'project management frameworks': 'pmf', 'adva...</td>\n",
       "      <td>projects success hinges team collaboration rob...</td>\n",
       "      <td>projects success hinges team collaboration rob...</td>\n",
       "    </tr>\n",
       "    <tr>\n",
       "      <th>2</th>\n",
       "      <td>ID_3</td>\n",
       "      <td>Digital Transformation (DT) involves more than...</td>\n",
       "      <td>{'customer engagement strategies': 'ces'}</td>\n",
       "      <td>digital transformation involves technology  cu...</td>\n",
       "      <td>digital transformation involves technology cus...</td>\n",
       "    </tr>\n",
       "    <tr>\n",
       "      <th>3</th>\n",
       "      <td>ID_4</td>\n",
       "      <td>Financial institutions are focusing on Risk Ma...</td>\n",
       "      <td>{'risk management practices': 'rmp', 'investme...</td>\n",
       "      <td>financial institutions focusing  risk_manageme...</td>\n",
       "      <td>financial institutions focusing risk managemen...</td>\n",
       "    </tr>\n",
       "    <tr>\n",
       "      <th>4</th>\n",
       "      <td>ID_5</td>\n",
       "      <td>In healthcare, Patient Care Coordination (PCC)...</td>\n",
       "      <td>{'patient care coordination': 'pcc', 'electron...</td>\n",
       "      <td>healthcare  patient_care_coordination  electro...</td>\n",
       "      <td>healthcare patient care coordination pcc elect...</td>\n",
       "    </tr>\n",
       "    <tr>\n",
       "      <th>5</th>\n",
       "      <td>ID_6</td>\n",
       "      <td>Educational Technology (ET) is reshaping learn...</td>\n",
       "      <td>{'interactive learning platforms': 'ilp', 'ada...</td>\n",
       "      <td>educational technology reshaping learning  int...</td>\n",
       "      <td>educational technology reshaping learning inte...</td>\n",
       "    </tr>\n",
       "    <tr>\n",
       "      <th>6</th>\n",
       "      <td>ID_7</td>\n",
       "      <td>The entertainment industry values Creative Con...</td>\n",
       "      <td>{'digital distribution platforms': 'ddp', 'aud...</td>\n",
       "      <td>entertainment industry creative content ccp  d...</td>\n",
       "      <td>entertainment industry creative content ccp di...</td>\n",
       "    </tr>\n",
       "    <tr>\n",
       "      <th>7</th>\n",
       "      <td>ID_8</td>\n",
       "      <td>Sustainable Agriculture Practices (SAP) and Pr...</td>\n",
       "      <td>{'sustainable agriculture practices': 'sap', '...</td>\n",
       "      <td>sustainable_agriculture_practices  precision_...</td>\n",
       "      <td>sustainable agriculture practices sap precisio...</td>\n",
       "    </tr>\n",
       "    <tr>\n",
       "      <th>8</th>\n",
       "      <td>ID_9</td>\n",
       "      <td>Urban Planning (UP) incorporates Green Infrast...</td>\n",
       "      <td>{'zoning regulations': 'zr', 'public transport...</td>\n",
       "      <td>urban planning incorporates green infrastructu...</td>\n",
       "      <td>urban planning incorporates green infrastructu...</td>\n",
       "    </tr>\n",
       "    <tr>\n",
       "      <th>9</th>\n",
       "      <td>ID_10</td>\n",
       "      <td>To Be Determined (TBD), National Aeronautics a...</td>\n",
       "      <td>{'central processing unit': 'cpu', 'frequently...</td>\n",
       "      <td>determined tbd  national_aeronautics_space_adm...</td>\n",
       "      <td>determined tbd national aeronautics space admi...</td>\n",
       "    </tr>\n",
       "    <tr>\n",
       "      <th>10</th>\n",
       "      <td>ID_11</td>\n",
       "      <td>The latest data from NASA, which stands for Na...</td>\n",
       "      <td>{'artificial intelligence': 'ai', 'centers dis...</td>\n",
       "      <td>latest national_aeronautics_space_administrati...</td>\n",
       "      <td>latest nasa national aeronautics space adminis...</td>\n",
       "    </tr>\n",
       "    <tr>\n",
       "      <th>11</th>\n",
       "      <td>ID_12</td>\n",
       "      <td>This is An Awesome Interesting (AI) challenge ...</td>\n",
       "      <td>{'awesome interesting': 'ai'}</td>\n",
       "      <td>awesome_interesting challenge acronym subs</td>\n",
       "      <td>awesome interesting ai challenge acronym subs</td>\n",
       "    </tr>\n",
       "  </tbody>\n",
       "</table>\n",
       "</div>"
      ],
      "text/plain": [
       "       id                                               text  \\\n",
       "0    ID_1  In our discussion about Global Warming (GW), w...   \n",
       "1    ID_2  The project's success hinges on Effective Team...   \n",
       "2    ID_3  Digital Transformation (DT) involves more than...   \n",
       "3    ID_4  Financial institutions are focusing on Risk Ma...   \n",
       "4    ID_5  In healthcare, Patient Care Coordination (PCC)...   \n",
       "5    ID_6  Educational Technology (ET) is reshaping learn...   \n",
       "6    ID_7  The entertainment industry values Creative Con...   \n",
       "7    ID_8  Sustainable Agriculture Practices (SAP) and Pr...   \n",
       "8    ID_9  Urban Planning (UP) incorporates Green Infrast...   \n",
       "9   ID_10  To Be Determined (TBD), National Aeronautics a...   \n",
       "10  ID_11  The latest data from NASA, which stands for Na...   \n",
       "11  ID_12  This is An Awesome Interesting (AI) challenge ...   \n",
       "\n",
       "                                             acronyms  \\\n",
       "0   {'global warming': 'gw', 'carbon footprint red...   \n",
       "1   {'project management frameworks': 'pmf', 'adva...   \n",
       "2           {'customer engagement strategies': 'ces'}   \n",
       "3   {'risk management practices': 'rmp', 'investme...   \n",
       "4   {'patient care coordination': 'pcc', 'electron...   \n",
       "5   {'interactive learning platforms': 'ilp', 'ada...   \n",
       "6   {'digital distribution platforms': 'ddp', 'aud...   \n",
       "7   {'sustainable agriculture practices': 'sap', '...   \n",
       "8   {'zoning regulations': 'zr', 'public transport...   \n",
       "9   {'central processing unit': 'cpu', 'frequently...   \n",
       "10  {'artificial intelligence': 'ai', 'centers dis...   \n",
       "11                      {'awesome interesting': 'ai'}   \n",
       "\n",
       "                                acronym_replaced_text  \\\n",
       "0   discussion  global_warming sustainable sources...   \n",
       "1   projects success hinges team collaboration rob...   \n",
       "2   digital transformation involves technology  cu...   \n",
       "3   financial institutions focusing  risk_manageme...   \n",
       "4   healthcare  patient_care_coordination  electro...   \n",
       "5   educational technology reshaping learning  int...   \n",
       "6   entertainment industry creative content ccp  d...   \n",
       "7    sustainable_agriculture_practices  precision_...   \n",
       "8   urban planning incorporates green infrastructu...   \n",
       "9   determined tbd  national_aeronautics_space_adm...   \n",
       "10  latest national_aeronautics_space_administrati...   \n",
       "11         awesome_interesting challenge acronym subs   \n",
       "\n",
       "                                           clean_text  \n",
       "0   discussion global warming gw sustainable sourc...  \n",
       "1   projects success hinges team collaboration rob...  \n",
       "2   digital transformation involves technology cus...  \n",
       "3   financial institutions focusing risk managemen...  \n",
       "4   healthcare patient care coordination pcc elect...  \n",
       "5   educational technology reshaping learning inte...  \n",
       "6   entertainment industry creative content ccp di...  \n",
       "7   sustainable agriculture practices sap precisio...  \n",
       "8   urban planning incorporates green infrastructu...  \n",
       "9   determined tbd national aeronautics space admi...  \n",
       "10  latest nasa national aeronautics space adminis...  \n",
       "11      awesome interesting ai challenge acronym subs  "
      ]
     },
     "execution_count": 26,
     "metadata": {},
     "output_type": "execute_result"
    }
   ],
   "source": [
    "df.head(60)"
   ]
  },
  {
   "cell_type": "code",
   "execution_count": null,
   "id": "5a01712b",
   "metadata": {},
   "outputs": [],
   "source": []
  }
 ],
 "metadata": {
  "kernelspec": {
   "display_name": "TELF_public",
   "language": "python",
   "name": "python3"
  },
  "language_info": {
   "codemirror_mode": {
    "name": "ipython",
    "version": 3
   },
   "file_extension": ".py",
   "mimetype": "text/x-python",
   "name": "python",
   "nbconvert_exporter": "python",
   "pygments_lexer": "ipython3",
   "version": "3.11.5"
  }
 },
 "nbformat": 4,
 "nbformat_minor": 5
}
