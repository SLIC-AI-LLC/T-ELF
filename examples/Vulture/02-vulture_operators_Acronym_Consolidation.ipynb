{
 "cells": [
  {
   "cell_type": "markdown",
   "id": "254cd3b1-e36b-42b5-9297-9b9d174a1011",
   "metadata": {},
   "source": [
    "# Vulture"
   ]
  },
  {
   "cell_type": "markdown",
   "id": "20f74105-f696-41c1-ad8e-1414f1e874b4",
   "metadata": {},
   "source": [
    "## Introduction to Text Operations with Vulture"
   ]
  },
  {
   "cell_type": "code",
   "execution_count": 1,
   "id": "1c0a0ad2-f847-4cdb-a35e-7ad4f298505b",
   "metadata": {
    "tags": []
   },
   "outputs": [],
   "source": [
    "import os\n",
    "import pickle\n",
    "import pathlib\n",
    "import pandas as pd\n",
    "\n",
    "from TELF.pre_processing import Vulture\n",
    "from TELF.pre_processing.Vulture.modules import AcronymDetector\n",
    "from TELF.pre_processing.Vulture.modules import SimpleCleaner\n",
    "from TELF.pre_processing.Vulture.tokens_analysis.levenstein import replace_similar_keys_levenshtein\n"
   ]
  },
  {
   "cell_type": "markdown",
   "id": "4a1dc990-7de8-40e6-baca-0ecef35c6477",
   "metadata": {},
   "source": [
    "## 0. Load Dataset"
   ]
  },
  {
   "cell_type": "markdown",
   "id": "9b12074f-691b-4a4a-b070-ec94307f3fd4",
   "metadata": {},
   "source": [
    "### Input"
   ]
  },
  {
   "cell_type": "code",
   "execution_count": 2,
   "id": "521bce7b-4e83-4639-b784-a066c22478c6",
   "metadata": {
    "tags": []
   },
   "outputs": [
    {
     "data": {
      "text/plain": [
       "11"
      ]
     },
     "execution_count": 2,
     "metadata": {},
     "output_type": "execute_result"
    }
   ],
   "source": [
    "DATA_DIR = os.path.join('..', '..', 'data')\n",
    "DATA_DIR = pathlib.Path(DATA_DIR).resolve()\n",
    "DATA_FILE = 'acronyms_documents.p'\n",
    "documents = pickle.load(open(os.path.join(DATA_DIR, DATA_FILE), 'rb'))\n",
    "len(documents)"
   ]
  },
  {
   "cell_type": "code",
   "execution_count": 3,
   "id": "4b39572a",
   "metadata": {},
   "outputs": [
    {
     "data": {
      "text/plain": [
       "{'ID_1': \"In our discussion about Global Warming (GW), we should also consider Sustainable Energy Sources (SES). While discussing SES, it's vital to mention Carbon Footprint Reduction (CFR) and its impacts on Environmental Sustainability (ES). Let's not forget the role of Innovative Technology Solutions (ITS).\",\n",
       " 'ID_2': \"The project's success hinges on Effective Team Collaboration (ETC), robust Project Management Frameworks (PMF), and the use of Advanced Analytics Tools (AAT). Furthermore, Continuous Improvement Processes (CIP) and Strategic Planning Initiatives (SPI) are key.\",\n",
       " 'ID_3': \"Digital Transformation (DT) involves more than just technology. It's about Customer Engagement Strategies (CES) and optimizing the User Experience (UX). Moreover, Data Privacy Regulations (DPR) and Cybersecurity Measures (CM) are foundational.\",\n",
       " 'ID_4': 'Financial institutions are focusing on Risk Management Practices (RMP) and Investment Diversification Strategies (IDS). The importance of Regulatory Compliance (RC) and Financial Technology Innovations (FTI) is also growing. Additionally, Consumer Financial Protection (CFP) is a priority.',\n",
       " 'ID_5': 'In healthcare, Patient Care Coordination (PCC) and Electronic Health Records (EHR) are transforming services. Medical Research Innovations (MRI) continue to advance, alongside Health Information Exchanges (HIE). Public Health Initiatives (PHI) are also crucial.',\n",
       " 'ID_6': 'Educational Technology (ET) is reshaping learning through Interactive Learning Platforms (ILP) and Adaptive Learning Algorithms (ALA). The focus is also on Student Performance Analytics (SPA) and Digital Curriculum Development (DCD). Educator Professional Development (EPD) remains essential.',\n",
       " 'ID_7': 'The entertainment industry values Creative Content Production (CCP) and Digital Distribution Platforms (DDP). Audience Engagement Metrics (AEM) are analyzed to tailor Marketing Strategies (MS). Additionally, Intellectual Property Rights (IPR) are carefully managed.',\n",
       " 'ID_8': 'Sustainable Agriculture Practices (SAP) and Precision Farming Technologies (PFT) are revolutionizing farming. Crop Yield Optimization (CYO) is a focus, alongside Water Resource Management (WRM). Farmer Support Programs (FSP) provide necessary assistance.',\n",
       " 'ID_9': 'Urban Planning (UP) incorporates Green Infrastructure (GI) and Public Transport Solutions (PTS). Smart City Initiatives (SCI) leverage IoT Technologies (ITT). Community Engagement Processes (CEP) and Zoning Regulations (ZR) are also fundamental.',\n",
       " 'ID_10': 'To Be Determined (TBD), National Aeronautics and Space Administration: NASA, Self-Contained Underwater Breathing Apparatus- SCUBA, Light Amplification by Stimulated Emission of Radiation—LASER, RADAR (Radio Detection And Ranging), ASAP: As Soon As Possible, CPU - Central Processing Unit, DIY—Do It Yourself, Frequently Asked Questions (i.e., FAQ), GIF (Graphics Interchange Format), HTTP: Hypertext Transfer Protocol, JSON - JavaScript Object Notation, KPI—Key Performance Indicator, Light Emitting Diode, namely LED, Magnetic Resonance Imaging, i.e., MRI, OLED, which stands for Organic Light-Emitting Diode',\n",
       " 'ID_11': 'The latest data from NASA, which stands for National Aeronautics and Space Administration, has significantly enriched our understanding of celestial phenomena. Guidelines from the CDC, i.e., Centers for Disease Control and Prevention, have evolved in response to new insights on epidemiology provided by WHO—World Health Organization. In the realm of technology, MIT—Massachusetts Institute of Technology, has been pioneering developments in AI, which stands for artificial intelligence, propelling forward the capabilities of predictive analytics. Furthermore, technological standards that affect global research and development are rigorously maintained by IEEE, i.e., Institute of Electrical and Electronics Engineers.'}"
      ]
     },
     "execution_count": 3,
     "metadata": {},
     "output_type": "execute_result"
    }
   ],
   "source": [
    "documents"
   ]
  },
  {
   "cell_type": "markdown",
   "id": "387ef96c-492f-4eab-a72e-bcdb3417efa8",
   "metadata": {},
   "source": [
    "### Output"
   ]
  },
  {
   "cell_type": "code",
   "execution_count": 4,
   "id": "21aaaf2c-8c07-4126-a68e-aeebb4d01b59",
   "metadata": {
    "tags": []
   },
   "outputs": [],
   "source": [
    "RESULTS_DIR = 'results'\n",
    "RESULTS_DIR = pathlib.Path(RESULTS_DIR).resolve()\n",
    "RESULTS_FILE = 'operated_documents'\n",
    "try:\n",
    "    os.mkdir(RESULTS_DIR)\n",
    "except FileExistsError:\n",
    "    pass"
   ]
  },
  {
   "cell_type": "markdown",
   "id": "302365f7-5aa8-4e8f-befa-a2e94eaf0f70",
   "metadata": {},
   "source": [
    "### Setup Vulture"
   ]
  },
  {
   "cell_type": "markdown",
   "id": "41a53e96-23d6-4e10-a538-430e6d6bc43b",
   "metadata": {},
   "source": [
    "Create a single-node multi-process Vulture object"
   ]
  },
  {
   "cell_type": "code",
   "execution_count": 5,
   "id": "ea8b8813-e8c7-42bc-9aa0-538187487841",
   "metadata": {
    "tags": []
   },
   "outputs": [
    {
     "name": "stderr",
     "output_type": "stream",
     "text": [
      "[Vulture]: Cleaning 11 documents\n",
      "  0%|          | 0/1 [00:00<?, ?it/s][Vulture]: Running SimpleCleaner module\n",
      "\n"
     ]
    },
    {
     "name": "stderr",
     "output_type": "stream",
     "text": [
      "  0%|          | 0/11 [00:00<?, ?it/s]\u001b[A/Users/maksim/Desktop/Code/telf_internal/TELF/pre_processing/Vulture/modules/simple_clean.py:290: RuntimeWarning: [SimpleCleaner]: Requested stop phrase removal but no stop phrases were provided!\n",
      "  warnings.warn('[SimpleCleaner]: Requested stop phrase removal but no '\n",
      "/Users/maksim/Desktop/Code/telf_internal/TELF/pre_processing/Vulture/modules/simple_clean.py:249: RuntimeWarning: [SimpleCleaner]: Requested stop word removal but no stop words were provided!\n",
      "  warnings.warn('[SimpleCleaner]: Requested stop word removal but no '\n",
      "100%|██████████| 11/11 [00:00<00:00, 2011.04it/s]\n",
      "100%|██████████| 1/1 [00:00<00:00, 76.79it/s]"
     ]
    },
    {
     "name": "stdout",
     "output_type": "stream",
     "text": [
      "CPU times: user 10 ms, sys: 18.7 ms, total: 28.8 ms\n",
      "Wall time: 43.7 ms\n"
     ]
    },
    {
     "name": "stderr",
     "output_type": "stream",
     "text": [
      "\n"
     ]
    }
   ],
   "source": [
    "vulture = Vulture(n_jobs  = 1, \n",
    "                  verbose = 10,  # Disable == 0, Verbose >= 1\n",
    "                 )\n",
    "steps = [SimpleCleaner( \n",
    "            order = [\n",
    "                'standardize_hyphens',\n",
    "                'isolate_frozen',\n",
    "                'remove_copyright_statement',\n",
    "                'remove_stop_phrases',\n",
    "                'make_lower_case',\n",
    "                'remove_formulas',\n",
    "                'normalize',\n",
    "                'remove_next_line',\n",
    "                'remove_email',\n",
    "                'remove_()',\n",
    "                'remove_[]',\n",
    "                'remove_special_characters',\n",
    "                'remove_nonASCII_boundary',\n",
    "                'remove_nonASCII',\n",
    "                'remove_tags',\n",
    "                'remove_stop_words',\n",
    "                'remove_standalone_numbers',\n",
    "                'remove_extra_whitespace',\n",
    "                'min_characters',\n",
    "        ])]\n",
    "%time vulture.clean(documents, \\\n",
    "                    steps=steps,\\\n",
    "                    save_path=os.path.join(RESULTS_DIR, \"clean_documents\"))         \n",
    "\n",
    "clean_documents = pickle.load(open(os.path.join(RESULTS_DIR, \"clean_documents\"), 'rb'))"
   ]
  },
  {
   "cell_type": "code",
   "execution_count": 6,
   "id": "5a6d7511",
   "metadata": {},
   "outputs": [
    {
     "name": "stderr",
     "output_type": "stream",
     "text": [
      "[Vulture]: Cleaning 11 documents\n",
      "  0%|          | 0/1 [00:00<?, ?it/s][Vulture]: Running AcronymDetector module\n",
      "100%|██████████| 11/11 [00:00<00:00, 546.58it/s]\n",
      "100%|██████████| 1/1 [00:00<00:00, 43.51it/s]\n"
     ]
    }
   ],
   "source": [
    "vulture.operate(clean_documents, steps=[AcronymDetector(replace_raw=True)], save_path=RESULTS_DIR, file_name=RESULTS_FILE)                   "
   ]
  },
  {
   "cell_type": "markdown",
   "id": "4eecd103",
   "metadata": {},
   "source": [
    "Each entry is a tuple where index 0 is the name of the operation and index 1 is the results of the operation in dictionary format."
   ]
  },
  {
   "cell_type": "code",
   "execution_count": 7,
   "id": "631c92dc",
   "metadata": {},
   "outputs": [
    {
     "data": {
      "text/plain": [
       "['clean_documents',\n",
       " 'clean_documents.p',\n",
       " 'operated_documents_AcronymDetector.p']"
      ]
     },
     "execution_count": 7,
     "metadata": {},
     "output_type": "execute_result"
    }
   ],
   "source": [
    "saved_file = ! ls $RESULTS_DIR\n",
    "saved_file"
   ]
  },
  {
   "cell_type": "markdown",
   "id": "a96259b6-c967-4102-913a-9e866e4ee111",
   "metadata": {},
   "source": [
    "### Look at Cleaned Documents"
   ]
  },
  {
   "cell_type": "code",
   "execution_count": 8,
   "id": "9aad256c-2645-4f1e-b98a-f44132e61c15",
   "metadata": {
    "tags": []
   },
   "outputs": [
    {
     "data": {
      "text/plain": [
       "{'ID_1': {'Acronyms': {'global warming': 'gw',\n",
       "   'environmental sustainability': 'es',\n",
       "   'sustainable energy sources': 'ses',\n",
       "   'carbon footprint reduction': 'cfr',\n",
       "   'innovative technology solutions': 'its'},\n",
       "  'replaced_text': 'in our discussion about  global_warming we should also consider  sustainable_energy_sources while discussing sustainable_energy_sources innovative_technology_solutions vital to mention  carbon_footprint_reduction and innovative_technology_solutions impacts on  environmental_sustainability lets not forget the role of  innovative_technology_solutions'},\n",
       " 'ID_2': {'Acronyms': {'effective team collaboration': 'etc',\n",
       "   'project management frameworks': 'pmf',\n",
       "   'advanced analytics tools': 'aat',\n",
       "   'continuous improvement processes': 'cip',\n",
       "   'strategic planning initiatives': 'spi'},\n",
       "  'replaced_text': 'the projects success hinges on  effective_team_collaboration robust  project_management_frameworks and the use of  advanced_analytics_tools furthermore  continuous_improvement_processes and  strategic_planning_initiatives are key'},\n",
       " 'ID_3': {'Acronyms': {'digital transformation': 'dt',\n",
       "   'cybersecurity measures': 'cm',\n",
       "   'customer engagement strategies': 'ces',\n",
       "   'data privacy regulations': 'dpr'},\n",
       "  'replaced_text': ' digital_transformation involves more than just technology its about  customer_engagement_strategies and optimizing the user experience ux moreover  data_privacy_regulations and  cybersecurity_measures are foundational'},\n",
       " 'ID_4': {'Acronyms': {'regulatory compliance': 'rc',\n",
       "   'risk management practices': 'rmp',\n",
       "   'investment diversification strategies': 'ids',\n",
       "   'financial technology innovations': 'fti',\n",
       "   'consumer financial protection': 'cfp'},\n",
       "  'replaced_text': 'financial institutions are focusing on  risk_management_practices and  investment_diversification_strategies the importance of  regulatory_compliance and  financial_technology_innovations is also growing additionally  consumer_financial_protection is priority'},\n",
       " 'ID_5': {'Acronyms': {'patient care coordination': 'pcc',\n",
       "   'electronic health records': 'ehr',\n",
       "   'medical research innovations': 'mri',\n",
       "   'health information exchanges': 'hie',\n",
       "   'public health initiatives': 'phi'},\n",
       "  'replaced_text': 'in healthcare  patient_care_coordination and  electronic_health_records are transforming services  medical_research_innovations continue to advance alongside  health_information_exchanges  public_health_initiatives are also crucial'},\n",
       " 'ID_6': {'Acronyms': {'educational technology': 'et',\n",
       "   'interactive learning platforms': 'ilp',\n",
       "   'adaptive learning algorithms': 'ala',\n",
       "   'student performance analytics': 'spa',\n",
       "   'digital curriculum development': 'dcd',\n",
       "   'educator professional development': 'epd'},\n",
       "  'replaced_text': ' educational_technology is reshaping learning through  interactive_learning_platforms and  adaptive_learning_algorithms the focus is also on  student_performance_analytics and  digital_curriculum_development  educator_professional_development remains essential'},\n",
       " 'ID_7': {'Acronyms': {'marketing strategies': 'ms',\n",
       "   'creative content production': 'ccp',\n",
       "   'digital distribution platforms': 'ddp',\n",
       "   'audience engagement metrics': 'aem',\n",
       "   'intellectual property rights': 'ipr'},\n",
       "  'replaced_text': 'the entertainment industry values  creative_content_production and  digital_distribution_platforms  audience_engagement_metrics are analyzed to tailor  marketing_strategies additionally  intellectual_property_rights are carefully managed'},\n",
       " 'ID_8': {'Acronyms': {'sustainable agriculture practices': 'sap',\n",
       "   'precision farming technologies': 'pft',\n",
       "   'crop yield optimization': 'cyo',\n",
       "   'water resource management': 'wrm',\n",
       "   'farmer support programs': 'fsp'},\n",
       "  'replaced_text': ' sustainable_agriculture_practices and  precision_farming_technologies are revolutionizing farming  crop_yield_optimization is focus alongside  water_resource_management  farmer_support_programs provide necessary assistance'},\n",
       " 'ID_9': {'Acronyms': {'urban planning': 'up',\n",
       "   'green infrastructure': 'gi',\n",
       "   'zoning regulations': 'zr',\n",
       "   'public transport solutions': 'pts',\n",
       "   'smart city initiatives': 'sci',\n",
       "   'community engagement processes': 'cep'},\n",
       "  'replaced_text': ' urban_planning incorporates  green_infrastructure and  public_transport_solutions  smart_city_initiatives leverage iot technologies itt  community_engagement_processes and  zoning_regulations are also fundamental'},\n",
       " 'ID_10': {'Acronyms': {'as soon': 'as',\n",
       "   'to be determined': 'tbd',\n",
       "   'central processing unit': 'cpu',\n",
       "   'graphics interchange format': 'gif',\n",
       "   'as soon as possible': 'asap'},\n",
       "  'replaced_text': ' to_be_determined national aeronautics and space administration nasa self-contained underwater breathing apparatus- scuba light amplification by stimulated emission of radiation-laser radar radio detection and ranging as_soon_as_possible  as_soon possible central_processing_unit  diy-do it yourself frequently asked questions ie faq graphics_interchange_format  http hypertext transfer protocol json javascript object notation kpi-key performance indicator light emitting diode namely led magnetic resonance imaging ie mri oled which stands for organic light-emitting diode'},\n",
       " 'ID_11': {'Acronyms': {},\n",
       "  'replaced_text': 'the latest data from nasa which stands for national aeronautics and space administration has significantly enriched our understanding of celestial phenomena guidelines from the cdc ie centers for disease control and prevention have evolved in response to new insights on epidemiology provided by who-world health organization in the realm of technology mit-massachusetts institute of technology has been pioneering developments in ai which stands for artificial intelligence propelling forward the capabilities of predictive analytics furthermore technological standards that affect global research and development are rigorously maintained by ieee ie institute of electrical and electronics engineers'}}"
      ]
     },
     "execution_count": 8,
     "metadata": {},
     "output_type": "execute_result"
    }
   ],
   "source": [
    "operated_documents = pickle.load(open(os.path.join(RESULTS_DIR, 'operated_documents_AcronymDetector.p'), 'rb'))\n",
    "operated_documents"
   ]
  },
  {
   "cell_type": "code",
   "execution_count": 9,
   "id": "69859fe2-48e5-4a8e-8b8d-ccc64abd51b7",
   "metadata": {
    "tags": []
   },
   "outputs": [],
   "source": [
    "def to_df(documents, operated_documents):\n",
    "    data = {\n",
    "        'id': [],\n",
    "        'text': [],\n",
    "        'acronyms': [],\n",
    "        'acronym_replaced_text': [],\n",
    "\n",
    "    }\n",
    "\n",
    "    for _id, text in documents.items():\n",
    "        data['id'].append(_id)\n",
    "        data['text'].append(text)\n",
    "\n",
    "        data['acronyms'].append(operated_documents.get(_id).get('Acronyms'))\n",
    "        data['acronym_replaced_text'].append(operated_documents.get(_id).get('replaced_text'))\n",
    "\n",
    "    return pd.DataFrame.from_dict(data)"
   ]
  },
  {
   "cell_type": "code",
   "execution_count": 10,
   "id": "087aa962-1a60-40c3-8de2-be90df8a975c",
   "metadata": {
    "tags": []
   },
   "outputs": [
    {
     "data": {
      "text/html": [
       "<div>\n",
       "<style scoped>\n",
       "    .dataframe tbody tr th:only-of-type {\n",
       "        vertical-align: middle;\n",
       "    }\n",
       "\n",
       "    .dataframe tbody tr th {\n",
       "        vertical-align: top;\n",
       "    }\n",
       "\n",
       "    .dataframe thead th {\n",
       "        text-align: right;\n",
       "    }\n",
       "</style>\n",
       "<table border=\"1\" class=\"dataframe\">\n",
       "  <thead>\n",
       "    <tr style=\"text-align: right;\">\n",
       "      <th></th>\n",
       "      <th>id</th>\n",
       "      <th>text</th>\n",
       "      <th>acronyms</th>\n",
       "      <th>acronym_replaced_text</th>\n",
       "    </tr>\n",
       "  </thead>\n",
       "  <tbody>\n",
       "    <tr>\n",
       "      <th>0</th>\n",
       "      <td>ID_1</td>\n",
       "      <td>In our discussion about Global Warming (GW), w...</td>\n",
       "      <td>{'global warming': 'gw', 'environmental sustai...</td>\n",
       "      <td>in our discussion about  global_warming we sho...</td>\n",
       "    </tr>\n",
       "    <tr>\n",
       "      <th>1</th>\n",
       "      <td>ID_2</td>\n",
       "      <td>The project's success hinges on Effective Team...</td>\n",
       "      <td>{'effective team collaboration': 'etc', 'proje...</td>\n",
       "      <td>the projects success hinges on  effective_team...</td>\n",
       "    </tr>\n",
       "    <tr>\n",
       "      <th>2</th>\n",
       "      <td>ID_3</td>\n",
       "      <td>Digital Transformation (DT) involves more than...</td>\n",
       "      <td>{'digital transformation': 'dt', 'cybersecurit...</td>\n",
       "      <td>digital_transformation involves more than jus...</td>\n",
       "    </tr>\n",
       "    <tr>\n",
       "      <th>3</th>\n",
       "      <td>ID_4</td>\n",
       "      <td>Financial institutions are focusing on Risk Ma...</td>\n",
       "      <td>{'regulatory compliance': 'rc', 'risk manageme...</td>\n",
       "      <td>financial institutions are focusing on  risk_m...</td>\n",
       "    </tr>\n",
       "    <tr>\n",
       "      <th>4</th>\n",
       "      <td>ID_5</td>\n",
       "      <td>In healthcare, Patient Care Coordination (PCC)...</td>\n",
       "      <td>{'patient care coordination': 'pcc', 'electron...</td>\n",
       "      <td>in healthcare  patient_care_coordination and  ...</td>\n",
       "    </tr>\n",
       "    <tr>\n",
       "      <th>5</th>\n",
       "      <td>ID_6</td>\n",
       "      <td>Educational Technology (ET) is reshaping learn...</td>\n",
       "      <td>{'educational technology': 'et', 'interactive ...</td>\n",
       "      <td>educational_technology is reshaping learning ...</td>\n",
       "    </tr>\n",
       "    <tr>\n",
       "      <th>6</th>\n",
       "      <td>ID_7</td>\n",
       "      <td>The entertainment industry values Creative Con...</td>\n",
       "      <td>{'marketing strategies': 'ms', 'creative conte...</td>\n",
       "      <td>the entertainment industry values  creative_co...</td>\n",
       "    </tr>\n",
       "    <tr>\n",
       "      <th>7</th>\n",
       "      <td>ID_8</td>\n",
       "      <td>Sustainable Agriculture Practices (SAP) and Pr...</td>\n",
       "      <td>{'sustainable agriculture practices': 'sap', '...</td>\n",
       "      <td>sustainable_agriculture_practices and  precis...</td>\n",
       "    </tr>\n",
       "    <tr>\n",
       "      <th>8</th>\n",
       "      <td>ID_9</td>\n",
       "      <td>Urban Planning (UP) incorporates Green Infrast...</td>\n",
       "      <td>{'urban planning': 'up', 'green infrastructure...</td>\n",
       "      <td>urban_planning incorporates  green_infrastruc...</td>\n",
       "    </tr>\n",
       "    <tr>\n",
       "      <th>9</th>\n",
       "      <td>ID_10</td>\n",
       "      <td>To Be Determined (TBD), National Aeronautics a...</td>\n",
       "      <td>{'as soon': 'as', 'to be determined': 'tbd', '...</td>\n",
       "      <td>to_be_determined national aeronautics and spa...</td>\n",
       "    </tr>\n",
       "    <tr>\n",
       "      <th>10</th>\n",
       "      <td>ID_11</td>\n",
       "      <td>The latest data from NASA, which stands for Na...</td>\n",
       "      <td>{}</td>\n",
       "      <td>the latest data from nasa which stands for nat...</td>\n",
       "    </tr>\n",
       "  </tbody>\n",
       "</table>\n",
       "</div>"
      ],
      "text/plain": [
       "       id                                               text  \\\n",
       "0    ID_1  In our discussion about Global Warming (GW), w...   \n",
       "1    ID_2  The project's success hinges on Effective Team...   \n",
       "2    ID_3  Digital Transformation (DT) involves more than...   \n",
       "3    ID_4  Financial institutions are focusing on Risk Ma...   \n",
       "4    ID_5  In healthcare, Patient Care Coordination (PCC)...   \n",
       "5    ID_6  Educational Technology (ET) is reshaping learn...   \n",
       "6    ID_7  The entertainment industry values Creative Con...   \n",
       "7    ID_8  Sustainable Agriculture Practices (SAP) and Pr...   \n",
       "8    ID_9  Urban Planning (UP) incorporates Green Infrast...   \n",
       "9   ID_10  To Be Determined (TBD), National Aeronautics a...   \n",
       "10  ID_11  The latest data from NASA, which stands for Na...   \n",
       "\n",
       "                                             acronyms  \\\n",
       "0   {'global warming': 'gw', 'environmental sustai...   \n",
       "1   {'effective team collaboration': 'etc', 'proje...   \n",
       "2   {'digital transformation': 'dt', 'cybersecurit...   \n",
       "3   {'regulatory compliance': 'rc', 'risk manageme...   \n",
       "4   {'patient care coordination': 'pcc', 'electron...   \n",
       "5   {'educational technology': 'et', 'interactive ...   \n",
       "6   {'marketing strategies': 'ms', 'creative conte...   \n",
       "7   {'sustainable agriculture practices': 'sap', '...   \n",
       "8   {'urban planning': 'up', 'green infrastructure...   \n",
       "9   {'as soon': 'as', 'to be determined': 'tbd', '...   \n",
       "10                                                 {}   \n",
       "\n",
       "                                acronym_replaced_text  \n",
       "0   in our discussion about  global_warming we sho...  \n",
       "1   the projects success hinges on  effective_team...  \n",
       "2    digital_transformation involves more than jus...  \n",
       "3   financial institutions are focusing on  risk_m...  \n",
       "4   in healthcare  patient_care_coordination and  ...  \n",
       "5    educational_technology is reshaping learning ...  \n",
       "6   the entertainment industry values  creative_co...  \n",
       "7    sustainable_agriculture_practices and  precis...  \n",
       "8    urban_planning incorporates  green_infrastruc...  \n",
       "9    to_be_determined national aeronautics and spa...  \n",
       "10  the latest data from nasa which stands for nat...  "
      ]
     },
     "execution_count": 10,
     "metadata": {},
     "output_type": "execute_result"
    }
   ],
   "source": [
    "df = to_df(documents, operated_documents)\n",
    "df"
   ]
  },
  {
   "cell_type": "code",
   "execution_count": 11,
   "id": "c01b6091",
   "metadata": {},
   "outputs": [
    {
     "data": {
      "text/plain": [
       "[{'global warming': 'gw',\n",
       "  'environmental sustainability': 'es',\n",
       "  'sustainable energy sources': 'ses',\n",
       "  'carbon footprint reduction': 'cfr',\n",
       "  'innovative technology solutions': 'its'},\n",
       " {'effective team collaboration': 'etc',\n",
       "  'project management frameworks': 'pmf',\n",
       "  'advanced analytics tools': 'aat',\n",
       "  'continuous improvement processes': 'cip',\n",
       "  'strategic planning initiatives': 'spi'},\n",
       " {'digital transformation': 'dt',\n",
       "  'cybersecurity measures': 'cm',\n",
       "  'customer engagement strategies': 'ces',\n",
       "  'data privacy regulations': 'dpr'},\n",
       " {'regulatory compliance': 'rc',\n",
       "  'risk management practices': 'rmp',\n",
       "  'investment diversification strategies': 'ids',\n",
       "  'financial technology innovations': 'fti',\n",
       "  'consumer financial protection': 'cfp'},\n",
       " {'patient care coordination': 'pcc',\n",
       "  'electronic health records': 'ehr',\n",
       "  'medical research innovations': 'mri',\n",
       "  'health information exchanges': 'hie',\n",
       "  'public health initiatives': 'phi'},\n",
       " {'educational technology': 'et',\n",
       "  'interactive learning platforms': 'ilp',\n",
       "  'adaptive learning algorithms': 'ala',\n",
       "  'student performance analytics': 'spa',\n",
       "  'digital curriculum development': 'dcd',\n",
       "  'educator professional development': 'epd'},\n",
       " {'marketing strategies': 'ms',\n",
       "  'creative content production': 'ccp',\n",
       "  'digital distribution platforms': 'ddp',\n",
       "  'audience engagement metrics': 'aem',\n",
       "  'intellectual property rights': 'ipr'},\n",
       " {'sustainable agriculture practices': 'sap',\n",
       "  'precision farming technologies': 'pft',\n",
       "  'crop yield optimization': 'cyo',\n",
       "  'water resource management': 'wrm',\n",
       "  'farmer support programs': 'fsp'},\n",
       " {'urban planning': 'up',\n",
       "  'green infrastructure': 'gi',\n",
       "  'zoning regulations': 'zr',\n",
       "  'public transport solutions': 'pts',\n",
       "  'smart city initiatives': 'sci',\n",
       "  'community engagement processes': 'cep'},\n",
       " {'as soon': 'as',\n",
       "  'to be determined': 'tbd',\n",
       "  'central processing unit': 'cpu',\n",
       "  'graphics interchange format': 'gif',\n",
       "  'as soon as possible': 'asap'},\n",
       " {},\n",
       " {'effective team collaboratioyy': 'etc'},\n",
       " {'audience engcgement metricsy': 'aem'},\n",
       " {'strategic nlanning initiativesy': 'spi'},\n",
       " {'global warmingy': 'gw'},\n",
       " {'environmental sustainabilityy': 'es'},\n",
       " {'sustainable energy sourcesy': 'ses'},\n",
       " {'carbon footprint reductiony': 'cfr'},\n",
       " {'innovative technology solutionsy': 'its',\n",
       "  'innnovative technology solutions': 'itsss'},\n",
       " {'project management frameworksy': 'pmf'},\n",
       " {'advanced analytics toolsy': 'aat'},\n",
       " {'continuous improvement processesy': 'cip'}]"
      ]
     },
     "execution_count": 11,
     "metadata": {},
     "output_type": "execute_result"
    }
   ],
   "source": [
    "acronyms_list = df.acronyms.to_list()\n",
    "almost_correct_acronyms = [{'effective team collaboratioyy': 'etc'},\n",
    " {'audience engcgement metricsy': 'aem'},\n",
    " {'strategic nlanning initiativesy': 'spi'},\n",
    " {'global warmingy': 'gw'},\n",
    " {'environmental sustainabilityy': 'es'},\n",
    " {'sustainable energy sourcesy': 'ses'},\n",
    " {'carbon footprint reductiony': 'cfr'},\n",
    " {'innovative technology solutionsy': 'its', 'innnovative technology solutions': 'itsss'},\n",
    " {'project management frameworksy': 'pmf'},\n",
    " {'advanced analytics toolsy': 'aat'},\n",
    " {'continuous improvement processesy': 'cip'}]\n",
    "\n",
    "acronyms_list += almost_correct_acronyms\n",
    "acronyms_list"
   ]
  },
  {
   "cell_type": "code",
   "execution_count": 12,
   "id": "1ba8dcd7",
   "metadata": {},
   "outputs": [
    {
     "name": "stdout",
     "output_type": "stream",
     "text": [
      "chunk_size = 14, num_cpus = 12, len all_pairs = 163\n"
     ]
    },
    {
     "name": "stderr",
     "output_type": "stream",
     "text": [
      "Processing Chunks: 100%|██████████| 12/12 [00:00<00:00, 5673.73it/s]\n"
     ]
    }
   ],
   "source": [
    "changes_path = os.path.join(RESULTS_DIR,'levenshtein_changes.csv')\n",
    "modified_acronyms_list = replace_similar_keys_levenshtein(acronyms_list, changes_made_save_path=changes_path)"
   ]
  },
  {
   "cell_type": "code",
   "execution_count": 13,
   "id": "aee600fb",
   "metadata": {},
   "outputs": [
    {
     "data": {
      "text/plain": [
       "(22, 22)"
      ]
     },
     "execution_count": 13,
     "metadata": {},
     "output_type": "execute_result"
    }
   ],
   "source": [
    "len(acronyms_list),len(modified_acronyms_list[0])"
   ]
  },
  {
   "cell_type": "code",
   "execution_count": 14,
   "id": "ec245b0c",
   "metadata": {},
   "outputs": [
    {
     "data": {
      "text/html": [
       "<div>\n",
       "<style scoped>\n",
       "    .dataframe tbody tr th:only-of-type {\n",
       "        vertical-align: middle;\n",
       "    }\n",
       "\n",
       "    .dataframe tbody tr th {\n",
       "        vertical-align: top;\n",
       "    }\n",
       "\n",
       "    .dataframe thead th {\n",
       "        text-align: right;\n",
       "    }\n",
       "</style>\n",
       "<table border=\"1\" class=\"dataframe\">\n",
       "  <thead>\n",
       "    <tr style=\"text-align: right;\">\n",
       "      <th></th>\n",
       "      <th>Previous Key</th>\n",
       "      <th>New Key</th>\n",
       "      <th>Similarity Score</th>\n",
       "    </tr>\n",
       "  </thead>\n",
       "  <tbody>\n",
       "    <tr>\n",
       "      <th>0</th>\n",
       "      <td>carbon footprint reduction</td>\n",
       "      <td>carbon footprint reductiony</td>\n",
       "      <td>0.962963</td>\n",
       "    </tr>\n",
       "    <tr>\n",
       "      <th>1</th>\n",
       "      <td>environmental sustainability</td>\n",
       "      <td>environmental sustainabilityy</td>\n",
       "      <td>0.965517</td>\n",
       "    </tr>\n",
       "    <tr>\n",
       "      <th>2</th>\n",
       "      <td>innovative technology solutions</td>\n",
       "      <td>innovative technology solutionsy</td>\n",
       "      <td>0.968750</td>\n",
       "    </tr>\n",
       "    <tr>\n",
       "      <th>3</th>\n",
       "      <td>sustainable energy sources</td>\n",
       "      <td>sustainable energy sourcesy</td>\n",
       "      <td>0.962963</td>\n",
       "    </tr>\n",
       "    <tr>\n",
       "      <th>4</th>\n",
       "      <td>advanced analytics tools</td>\n",
       "      <td>advanced analytics toolsy</td>\n",
       "      <td>0.960000</td>\n",
       "    </tr>\n",
       "    <tr>\n",
       "      <th>5</th>\n",
       "      <td>continuous improvement processes</td>\n",
       "      <td>continuous improvement processesy</td>\n",
       "      <td>0.969697</td>\n",
       "    </tr>\n",
       "    <tr>\n",
       "      <th>6</th>\n",
       "      <td>project management frameworks</td>\n",
       "      <td>project management frameworksy</td>\n",
       "      <td>0.966667</td>\n",
       "    </tr>\n",
       "    <tr>\n",
       "      <th>7</th>\n",
       "      <td>innnovative technology solutions</td>\n",
       "      <td>innovative technology solutions</td>\n",
       "      <td>0.968750</td>\n",
       "    </tr>\n",
       "    <tr>\n",
       "      <th>8</th>\n",
       "      <td>innovative technology solutions</td>\n",
       "      <td>innovative technology solutionsy</td>\n",
       "      <td>0.968750</td>\n",
       "    </tr>\n",
       "  </tbody>\n",
       "</table>\n",
       "</div>"
      ],
      "text/plain": [
       "                       Previous Key                            New Key  \\\n",
       "0        carbon footprint reduction        carbon footprint reductiony   \n",
       "1      environmental sustainability      environmental sustainabilityy   \n",
       "2   innovative technology solutions   innovative technology solutionsy   \n",
       "3        sustainable energy sources        sustainable energy sourcesy   \n",
       "4          advanced analytics tools          advanced analytics toolsy   \n",
       "5  continuous improvement processes  continuous improvement processesy   \n",
       "6     project management frameworks     project management frameworksy   \n",
       "7  innnovative technology solutions    innovative technology solutions   \n",
       "8   innovative technology solutions   innovative technology solutionsy   \n",
       "\n",
       "   Similarity Score  \n",
       "0          0.962963  \n",
       "1          0.965517  \n",
       "2          0.968750  \n",
       "3          0.962963  \n",
       "4          0.960000  \n",
       "5          0.969697  \n",
       "6          0.966667  \n",
       "7          0.968750  \n",
       "8          0.968750  "
      ]
     },
     "execution_count": 14,
     "metadata": {},
     "output_type": "execute_result"
    }
   ],
   "source": [
    "df_changes = pd.read_csv(changes_path)\n",
    "df_changes"
   ]
  },
  {
   "cell_type": "code",
   "execution_count": null,
   "id": "0ec19e38",
   "metadata": {},
   "outputs": [],
   "source": []
  },
  {
   "cell_type": "code",
   "execution_count": null,
   "id": "1a89b566",
   "metadata": {},
   "outputs": [],
   "source": []
  }
 ],
 "metadata": {
  "kernelspec": {
   "display_name": "TELF_public",
   "language": "python",
   "name": "python3"
  },
  "language_info": {
   "codemirror_mode": {
    "name": "ipython",
    "version": 3
   },
   "file_extension": ".py",
   "mimetype": "text/x-python",
   "name": "python",
   "nbconvert_exporter": "python",
   "pygments_lexer": "ipython3",
   "version": "3.11.10"
  }
 },
 "nbformat": 4,
 "nbformat_minor": 5
}
