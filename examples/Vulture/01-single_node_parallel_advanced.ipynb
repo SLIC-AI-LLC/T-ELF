{
 "cells": [
  {
   "cell_type": "markdown",
   "id": "254cd3b1-e36b-42b5-9297-9b9d174a1011",
   "metadata": {},
   "source": [
    "# Vulture"
   ]
  },
  {
   "cell_type": "markdown",
   "id": "20f74105-f696-41c1-ad8e-1414f1e874b4",
   "metadata": {},
   "source": [
    "## Advanced Use Cases of Vulture Text Pre-Processing "
   ]
  },
  {
   "cell_type": "code",
   "execution_count": 1,
   "id": "1c0a0ad2-f847-4cdb-a35e-7ad4f298505b",
   "metadata": {
    "tags": []
   },
   "outputs": [],
   "source": [
    "import os\n",
    "import pickle\n",
    "import pathlib\n",
    "import pandas as pd\n",
    "\n",
    "from TELF.pre_processing import Vulture\n",
    "\n",
    "from TELF.pre_processing.Vulture.modules import SimpleCleaner\n",
    "from TELF.pre_processing.Vulture.modules import LemmatizeCleaner\n",
    "from TELF.pre_processing.Vulture.modules import SubstitutionCleaner\n",
    "from TELF.pre_processing.Vulture.modules import RemoveNonEnglishCleaner\n",
    "\n",
    "from TELF.pre_processing.Vulture.default_stop_words import STOP_WORDS\n",
    "from TELF.pre_processing.Vulture.default_stop_phrases import STOP_PHRASES"
   ]
  },
  {
   "cell_type": "markdown",
   "id": "4a1dc990-7de8-40e6-baca-0ecef35c6477",
   "metadata": {},
   "source": [
    "## 0. Load Dataset"
   ]
  },
  {
   "cell_type": "markdown",
   "id": "9b12074f-691b-4a4a-b070-ec94307f3fd4",
   "metadata": {},
   "source": [
    "### Input"
   ]
  },
  {
   "cell_type": "code",
   "execution_count": 2,
   "id": "521bce7b-4e83-4639-b784-a066c22478c6",
   "metadata": {
    "tags": []
   },
   "outputs": [],
   "source": [
    "DATA_DIR = os.path.join('..', '..', 'data')\n",
    "DATA_DIR = pathlib.Path(DATA_DIR).resolve()"
   ]
  },
  {
   "cell_type": "code",
   "execution_count": 3,
   "id": "d292d91b-c0da-487b-bb34-bdcee4fc4075",
   "metadata": {
    "tags": []
   },
   "outputs": [],
   "source": [
    "DATA_FILE = 'documents.p'"
   ]
  },
  {
   "cell_type": "code",
   "execution_count": 4,
   "id": "6f73de82-bd13-4c8b-acf3-5c0d11073fb8",
   "metadata": {
    "tags": []
   },
   "outputs": [
    {
     "data": {
      "text/plain": [
       "9"
      ]
     },
     "execution_count": 4,
     "metadata": {},
     "output_type": "execute_result"
    }
   ],
   "source": [
    "documents = pickle.load(open(os.path.join(DATA_DIR, DATA_FILE), 'rb'))\n",
    "len(documents)"
   ]
  },
  {
   "cell_type": "markdown",
   "id": "387ef96c-492f-4eab-a72e-bcdb3417efa8",
   "metadata": {},
   "source": [
    "### Output"
   ]
  },
  {
   "cell_type": "code",
   "execution_count": 5,
   "id": "21aaaf2c-8c07-4126-a68e-aeebb4d01b59",
   "metadata": {
    "tags": []
   },
   "outputs": [],
   "source": [
    "RESULTS_DIR = 'results'\n",
    "RESULTS_DIR = pathlib.Path(RESULTS_DIR).resolve()"
   ]
  },
  {
   "cell_type": "code",
   "execution_count": 6,
   "id": "6f278716-0ba2-4037-8146-59e1386cf0da",
   "metadata": {},
   "outputs": [],
   "source": [
    "RESULTS_FILE = 'clean_documents.p'"
   ]
  },
  {
   "cell_type": "code",
   "execution_count": 7,
   "id": "eeec913a",
   "metadata": {
    "tags": []
   },
   "outputs": [],
   "source": [
    "try:\n",
    "    os.mkdir(RESULTS_DIR)\n",
    "except FileExistsError:\n",
    "    pass"
   ]
  },
  {
   "cell_type": "markdown",
   "id": "845d3357-ac44-464e-b9f8-cfd683697a38",
   "metadata": {},
   "source": [
    "### Examine Data Format"
   ]
  },
  {
   "cell_type": "code",
   "execution_count": 8,
   "id": "d76a0f09-cdcf-4cf2-ac54-1362136e1736",
   "metadata": {
    "tags": []
   },
   "outputs": [
    {
     "data": {
      "text/plain": [
       "['ad68055e-677f-11ee-95d4-4ab2673ea3f0',\n",
       " 'ad680626-677f-11ee-95d4-4ab2673ea3f0',\n",
       " 'ad680658-677f-11ee-95d4-4ab2673ea3f0',\n",
       " 'ad680680-677f-11ee-95d4-4ab2673ea3f0',\n",
       " 'ad6806a8-677f-11ee-95d4-4ab2673ea3f0',\n",
       " 'ad6806d0-677f-11ee-95d4-4ab2673ea3f0',\n",
       " 'ad6806f8-677f-11ee-95d4-4ab2673ea3f0',\n",
       " 'ad680716-677f-11ee-95d4-4ab2673ea3f0',\n",
       " 'ad68073e-677f-11ee-95d4-4ab2673ea3f0']"
      ]
     },
     "execution_count": 8,
     "metadata": {},
     "output_type": "execute_result"
    }
   ],
   "source": [
    "# key serve as document unique ids\n",
    "list(documents.keys())"
   ]
  },
  {
   "cell_type": "code",
   "execution_count": 9,
   "id": "b2f2f25a-c3ad-40b1-bba1-652833367173",
   "metadata": {
    "tags": []
   },
   "outputs": [
    {
     "data": {
      "text/plain": [
       "'Supervisory Control and Data Acquisition (SCADA) systems often serve as the nervous system for substations within power grids. These systems facilitate real-time monitoring, data acquisition, control of equipment, and ensure smooth and efficient operation of the substation and its connected devices. As the dependence on these SCADA systems grows, so does the risk of potential malicious intrusions that could lead to significant outages or even permanent damage to the grid. Previous work has shown that dimensionality reduction-based approaches, such as Principal Component Analysis (PCA), can be used for accurate identification of anomalies in SCADA systems. While not specifically applied to SCADA, non-negative matrix factorization (NMF) has shown strong results at detecting anomalies in wireless sensor networks. These unsupervised approaches model the normal or expected behavior and detect the unseen types of attacks or anomalies by identifying the events that deviate from the expected behavior. These approaches; however, do not model the complex and multi-dimensional interactions that are naturally present in SCADA systems. Differently, non-negative tensor decomposition is a powerful unsupervised machine learning (ML) method that can model the complex and multi-faceted activity details of SCADA events. In this work, we novelly apply the tensor decomposition method Canonical Polyadic Alternating Poisson Regression (CP-APR) with a probabilistic framework, which has previously shown state-of-the-art anomaly detection results on cyber network data, to identify anomalies in SCADA systems. We showcase that the use of statistical behavior analysis of SCADA communication with tensor decomposition improves the specificity and accuracy of identifying anomalies in electrical grid systems. In our experiments, we model real-world SCADA system data collected from the electrical grid operated by Los Alamos National Laboratory (LANL) which provides transmission and distribution service through a partnership with Los Alamos County, and detect synthetically generated anomalies.'"
      ]
     },
     "execution_count": 9,
     "metadata": {},
     "output_type": "execute_result"
    }
   ],
   "source": [
    "# values are the text that needs to be cleaned\n",
    "documents[next(iter(documents))]"
   ]
  },
  {
   "cell_type": "markdown",
   "id": "a708c17b-f4ad-480c-b31f-f221e034a981",
   "metadata": {},
   "source": [
    "## 1. Creating a Custom Pipeline"
   ]
  },
  {
   "cell_type": "markdown",
   "id": "d9e15b8a-d6db-4bf6-a9a5-1bad73942744",
   "metadata": {},
   "source": [
    "The cleaning modules can be arranged in a custom order specified by the user. They will be executed in the order that they appear. The settings of each component can be modified by changing the settings of the associated object in the list. The current supported modules are:\n",
    "\n",
    "    - SimpleCleaner\n",
    "    - RemoveNonEnglishCleaner\n",
    "    - SubstitutionCleaner\n",
    "    - LemmatizeCleaner"
   ]
  },
  {
   "cell_type": "markdown",
   "id": "39e0a71b-25ce-48b4-acf9-d479ca4ae766",
   "metadata": {},
   "source": [
    "Here is an example of a custom pipeline. This pipeline is used to first remove non english text, apply simple cleaning, and then apply lemmatization."
   ]
  },
  {
   "cell_type": "code",
   "execution_count": 10,
   "id": "6da62a30-9243-4955-9e61-dd1cdea28301",
   "metadata": {
    "tags": []
   },
   "outputs": [],
   "source": [
    "vulture = Vulture(n_jobs  = 1, \n",
    "                  verbose = 10,  # Disable == 0, Verbose >= 1\n",
    "                 )"
   ]
  },
  {
   "cell_type": "code",
   "execution_count": 11,
   "id": "c610e372-c51b-4e89-81ec-04a4961acbd2",
   "metadata": {
    "tags": []
   },
   "outputs": [],
   "source": [
    "steps = [\n",
    "    RemoveNonEnglishCleaner(ascii_ratio=0.9, stopwords_ratio=0.25),\n",
    "    SimpleCleaner(stop_words = STOP_WORDS,\n",
    "                  stop_phrases = STOP_PHRASES,\n",
    "                  order = [\n",
    "                      'standardize_hyphens',\n",
    "                      'isolate_frozen',\n",
    "                      'remove_copyright_statement',\n",
    "                      'remove_stop_phrases',\n",
    "                      'make_lower_case',\n",
    "                      'remove_formulas',\n",
    "                      'normalize',\n",
    "                      'remove_next_line',\n",
    "                      'remove_email',\n",
    "                      'remove_()',\n",
    "                      'remove_[]',\n",
    "                      'remove_special_characters',\n",
    "                      'remove_nonASCII_boundary',\n",
    "                      'remove_nonASCII',\n",
    "                      'remove_tags',\n",
    "                      'remove_stop_words',\n",
    "                      'remove_standalone_numbers',\n",
    "                      'remove_extra_whitespace',\n",
    "                      'min_characters',\n",
    "                  ]\n",
    "                 ),\n",
    "    LemmatizeCleaner('spacy'),\n",
    "]"
   ]
  },
  {
   "cell_type": "code",
   "execution_count": 12,
   "id": "f37edea5-3c4b-4dce-b75d-dc517f825042",
   "metadata": {
    "tags": []
   },
   "outputs": [
    {
     "name": "stderr",
     "output_type": "stream",
     "text": [
      "[Vulture]: Cleaning 9 documents\n",
      "  0%|                                                     | 0/3 [00:00<?, ?it/s][Vulture]: Running RemoveNonEnglishCleaner module\n",
      "\n",
      "100%|███████████████████████████████████████████| 9/9 [00:00<00:00, 1342.85it/s]\u001b[A\n",
      "[Vulture]: Running SimpleCleaner module\n",
      "\n",
      "100%|█████████████████████████████████████████████| 9/9 [00:00<00:00, 92.16it/s]\u001b[A\n",
      " 67%|██████████████████████████████               | 2/3 [00:00<00:00, 15.63it/s][Vulture]: Running LemmatizeCleaner module\n",
      "\n",
      "  0%|                                                     | 0/9 [00:00<?, ?it/s]\u001b[A\n",
      " 11%|█████                                        | 1/9 [00:02<00:22,  2.81s/it]\u001b[A\n",
      "100%|█████████████████████████████████████████████| 9/9 [00:02<00:00,  3.00it/s]\u001b[A\n",
      "100%|█████████████████████████████████████████████| 3/3 [00:03<00:00,  1.05s/it]"
     ]
    },
    {
     "name": "stdout",
     "output_type": "stream",
     "text": [
      "CPU times: user 2.09 s, sys: 779 ms, total: 2.87 s\n",
      "Wall time: 3.17 s\n"
     ]
    },
    {
     "name": "stderr",
     "output_type": "stream",
     "text": [
      "\n"
     ]
    }
   ],
   "source": [
    "%time cleaned_documents = vulture.clean(documents, steps=steps)"
   ]
  },
  {
   "cell_type": "code",
   "execution_count": 13,
   "id": "8bacd783-f525-4489-8c7c-ab4d1a32afea",
   "metadata": {
    "tags": []
   },
   "outputs": [
    {
     "data": {
      "text/plain": [
       "('Supervisory Control and Data Acquisition (SCADA) systems often serve as the nervous system for substations within power grids. These systems facilitate real-time monitoring, data acquisition, control of equipment, and ensure smooth and efficient operation of the substation and its connected devices. As the dependence on these SCADA systems grows, so does the risk of potential malicious intrusions that could lead to significant outages or even permanent damage to the grid. Previous work has shown that dimensionality reduction-based approaches, such as Principal Component Analysis (PCA), can be used for accurate identification of anomalies in SCADA systems. While not specifically applied to SCADA, non-negative matrix factorization (NMF) has shown strong results at detecting anomalies in wireless sensor networks. These unsupervised approaches model the normal or expected behavior and detect the unseen types of attacks or anomalies by identifying the events that deviate from the expected behavior. These approaches; however, do not model the complex and multi-dimensional interactions that are naturally present in SCADA systems. Differently, non-negative tensor decomposition is a powerful unsupervised machine learning (ML) method that can model the complex and multi-faceted activity details of SCADA events. In this work, we novelly apply the tensor decomposition method Canonical Polyadic Alternating Poisson Regression (CP-APR) with a probabilistic framework, which has previously shown state-of-the-art anomaly detection results on cyber network data, to identify anomalies in SCADA systems. We showcase that the use of statistical behavior analysis of SCADA communication with tensor decomposition improves the specificity and accuracy of identifying anomalies in electrical grid systems. In our experiments, we model real-world SCADA system data collected from the electrical grid operated by Los Alamos National Laboratory (LANL) which provides transmission and distribution service through a partnership with Los Alamos County, and detect synthetically generated anomalies.',\n",
       " 'supervisory control acquisition scada serve nervous substation power grid facilitate monitor acquisition control equipment ensure smooth efficient operation substation connect device dependence scada grow risk potential malicious intrusion outage permanent damage grid dimensionality approach principal analysis pca accurate identification anomaly scada scada matrix factorization nmf strong detect anomaly wireless sensor network unsupervise approach normal expect behavior detect unseen type attack anomaly identify event deviate expected behavior approach complex multi-dimensional interaction naturally scada differently tensor decomposition powerful unsupervised machine learn complex multi-faceted activity detail scada event novelly tensor decomposition canonical polyadic alternate poisson regression probabilistic framework anomaly cyber network identify anomaly scada showcase statistical behavior analysis scada communication tensor decomposition improve specificity accuracy identify anomaly electrical grid experiment scada electrical grid operate alamos national laboratory lanl transmission distribution service partnership alamos county detect synthetically generate anomaly')"
      ]
     },
     "execution_count": 13,
     "metadata": {},
     "output_type": "execute_result"
    }
   ],
   "source": [
    "key = next(iter(documents))\n",
    "documents[key], cleaned_documents[key]"
   ]
  },
  {
   "cell_type": "markdown",
   "id": "ef5c48f3-3803-4634-ac9c-b988c12cad1f",
   "metadata": {},
   "source": [
    "## 2. Customizing Components"
   ]
  },
  {
   "cell_type": "markdown",
   "id": "66cacb9b-157c-42c8-97a0-0867ef7693b3",
   "metadata": {
    "tags": []
   },
   "source": [
    "### SimpleCleaner"
   ]
  },
  {
   "cell_type": "markdown",
   "id": "a08bc94e-7f80-4292-b7cc-3a34b5cb019d",
   "metadata": {},
   "source": [
    "#### Setting Order of Operations"
   ]
  },
  {
   "cell_type": "markdown",
   "id": "f43eeb6c-8855-40e0-a71f-78b5388afc93",
   "metadata": {},
   "source": [
    "For the default patterns, the ```order``` parameter can be used to specify the order of operations within the SimpleCleaner component. The following examples shows how 5 simple operations can be applied in sequential order."
   ]
  },
  {
   "cell_type": "code",
   "execution_count": 14,
   "id": "82a2d779-a653-435e-aeb1-a307470370a4",
   "metadata": {
    "tags": []
   },
   "outputs": [],
   "source": [
    "steps = [\n",
    "    SimpleCleaner(stop_words = STOP_WORDS,\n",
    "                  stop_phrases = STOP_PHRASES,\n",
    "                  order = [\n",
    "                      'make_lower_case',\n",
    "                      'remove_()',\n",
    "                      'remove_stop_words',\n",
    "                      'remove_extra_whitespace',\n",
    "                      'min_characters',\n",
    "                  ]\n",
    "                 ),\n",
    "]"
   ]
  },
  {
   "cell_type": "code",
   "execution_count": 15,
   "id": "37db0fe5-f507-4543-90d3-6068cc5c983f",
   "metadata": {
    "tags": []
   },
   "outputs": [
    {
     "name": "stderr",
     "output_type": "stream",
     "text": [
      "[Vulture]: Cleaning 9 documents\n",
      "  0%|                                                     | 0/1 [00:00<?, ?it/s][Vulture]: Running SimpleCleaner module\n",
      "\n",
      "100%|████████████████████████████████████████████| 9/9 [00:00<00:00, 138.05it/s]\u001b[A\n",
      "100%|█████████████████████████████████████████████| 1/1 [00:00<00:00, 13.08it/s]"
     ]
    },
    {
     "name": "stdout",
     "output_type": "stream",
     "text": [
      "CPU times: user 80.5 ms, sys: 7.57 ms, total: 88 ms\n",
      "Wall time: 83.6 ms\n"
     ]
    },
    {
     "name": "stderr",
     "output_type": "stream",
     "text": [
      "\n"
     ]
    }
   ],
   "source": [
    "%time cleaned_documents = vulture.clean(documents, steps=steps)"
   ]
  },
  {
   "cell_type": "code",
   "execution_count": 16,
   "id": "086435e8-81a0-4e64-b7c8-d7e488dedbff",
   "metadata": {
    "tags": []
   },
   "outputs": [
    {
     "data": {
      "text/plain": [
       "('Supervisory Control and Data Acquisition (SCADA) systems often serve as the nervous system for substations within power grids. These systems facilitate real-time monitoring, data acquisition, control of equipment, and ensure smooth and efficient operation of the substation and its connected devices. As the dependence on these SCADA systems grows, so does the risk of potential malicious intrusions that could lead to significant outages or even permanent damage to the grid. Previous work has shown that dimensionality reduction-based approaches, such as Principal Component Analysis (PCA), can be used for accurate identification of anomalies in SCADA systems. While not specifically applied to SCADA, non-negative matrix factorization (NMF) has shown strong results at detecting anomalies in wireless sensor networks. These unsupervised approaches model the normal or expected behavior and detect the unseen types of attacks or anomalies by identifying the events that deviate from the expected behavior. These approaches; however, do not model the complex and multi-dimensional interactions that are naturally present in SCADA systems. Differently, non-negative tensor decomposition is a powerful unsupervised machine learning (ML) method that can model the complex and multi-faceted activity details of SCADA events. In this work, we novelly apply the tensor decomposition method Canonical Polyadic Alternating Poisson Regression (CP-APR) with a probabilistic framework, which has previously shown state-of-the-art anomaly detection results on cyber network data, to identify anomalies in SCADA systems. We showcase that the use of statistical behavior analysis of SCADA communication with tensor decomposition improves the specificity and accuracy of identifying anomalies in electrical grid systems. In our experiments, we model real-world SCADA system data collected from the electrical grid operated by Los Alamos National Laboratory (LANL) which provides transmission and distribution service through a partnership with Los Alamos County, and detect synthetically generated anomalies.',\n",
       " 'supervisory control acquisition scada serve nervous substations power grids facilitate monitoring acquisition control equipment ensure smooth efficient operation substation connected devices dependence scada grows risk potential malicious intrusions outages permanent damage grid dimensionality approaches principal analysis pca accurate identification anomalies scada scada matrix factorization nmf strong detecting anomalies wireless sensor networks unsupervised approaches normal expected behavior detect unseen types attacks anomalies identifying events deviate expected behavior approaches complex multi-dimensional interactions naturally scada differently tensor decomposition powerful unsupervised machine learning complex multi-faceted activity details scada events novelly tensor decomposition canonical polyadic alternating poisson regression probabilistic framework anomaly cyber network identify anomalies scada showcase statistical behavior analysis scada communication tensor decomposition improves specificity accuracy identifying anomalies electrical grid experiments scada electrical grid operated alamos national laboratory lanl transmission distribution service partnership alamos county detect synthetically generated anomalies')"
      ]
     },
     "execution_count": 16,
     "metadata": {},
     "output_type": "execute_result"
    }
   ],
   "source": [
    "key = next(iter(documents))\n",
    "documents[key], cleaned_documents[key]"
   ]
  },
  {
   "cell_type": "markdown",
   "id": "710dbdf2-4791-42b8-9b9c-b14831b95da9",
   "metadata": {},
   "source": [
    "#### Setting Min Number of Characters"
   ]
  },
  {
   "cell_type": "markdown",
   "id": "46b6a981-4b06-4963-b96d-d814b1558da9",
   "metadata": {},
   "source": [
    "The number of minimum characters to keep per token is a class attribute. This example shows how it can be changed."
   ]
  },
  {
   "cell_type": "code",
   "execution_count": 17,
   "id": "2121ca46-20f1-44ae-a483-540bf485aa4f",
   "metadata": {
    "tags": []
   },
   "outputs": [],
   "source": [
    "steps = [\n",
    "    SimpleCleaner(min_characters = 12,\n",
    "                  order = ['min_characters']\n",
    "                 ),\n",
    "]"
   ]
  },
  {
   "cell_type": "code",
   "execution_count": 18,
   "id": "2e0a8e97-eb75-4bd3-ba07-17771b21259e",
   "metadata": {
    "tags": []
   },
   "outputs": [
    {
     "name": "stderr",
     "output_type": "stream",
     "text": [
      "[Vulture]: Cleaning 9 documents\n",
      "  0%|                                                     | 0/1 [00:00<?, ?it/s][Vulture]: Running SimpleCleaner module\n",
      "\n",
      "100%|███████████████████████████████████████████| 9/9 [00:00<00:00, 4828.44it/s]\u001b[A\n",
      "100%|████████████████████████████████████████████| 1/1 [00:00<00:00, 109.65it/s]"
     ]
    },
    {
     "name": "stdout",
     "output_type": "stream",
     "text": [
      "CPU times: user 12.7 ms, sys: 6.29 ms, total: 19 ms\n",
      "Wall time: 14.3 ms\n"
     ]
    },
    {
     "name": "stderr",
     "output_type": "stream",
     "text": [
      "\n"
     ]
    }
   ],
   "source": [
    "%time cleaned_documents = vulture.clean(documents, steps=steps)"
   ]
  },
  {
   "cell_type": "code",
   "execution_count": 19,
   "id": "f853508e-a55b-477a-b3ff-ef84c871b4a4",
   "metadata": {
    "tags": []
   },
   "outputs": [
    {
     "data": {
      "text/plain": [
       "('Supervisory Control and Data Acquisition (SCADA) systems often serve as the nervous system for substations within power grids. These systems facilitate real-time monitoring, data acquisition, control of equipment, and ensure smooth and efficient operation of the substation and its connected devices. As the dependence on these SCADA systems grows, so does the risk of potential malicious intrusions that could lead to significant outages or even permanent damage to the grid. Previous work has shown that dimensionality reduction-based approaches, such as Principal Component Analysis (PCA), can be used for accurate identification of anomalies in SCADA systems. While not specifically applied to SCADA, non-negative matrix factorization (NMF) has shown strong results at detecting anomalies in wireless sensor networks. These unsupervised approaches model the normal or expected behavior and detect the unseen types of attacks or anomalies by identifying the events that deviate from the expected behavior. These approaches; however, do not model the complex and multi-dimensional interactions that are naturally present in SCADA systems. Differently, non-negative tensor decomposition is a powerful unsupervised machine learning (ML) method that can model the complex and multi-faceted activity details of SCADA events. In this work, we novelly apply the tensor decomposition method Canonical Polyadic Alternating Poisson Regression (CP-APR) with a probabilistic framework, which has previously shown state-of-the-art anomaly detection results on cyber network data, to identify anomalies in SCADA systems. We showcase that the use of statistical behavior analysis of SCADA communication with tensor decomposition improves the specificity and accuracy of identifying anomalies in electrical grid systems. In our experiments, we model real-world SCADA system data collected from the electrical grid operated by Los Alamos National Laboratory (LANL) which provides transmission and distribution service through a partnership with Los Alamos County, and detect synthetically generated anomalies.',\n",
       " 'acquisition, dimensionality reduction-based identification specifically non-negative factorization unsupervised multi-dimensional interactions Differently, non-negative decomposition unsupervised multi-faceted decomposition probabilistic state-of-the-art communication decomposition experiments, transmission distribution synthetically')"
      ]
     },
     "execution_count": 19,
     "metadata": {},
     "output_type": "execute_result"
    }
   ],
   "source": [
    "key = next(iter(documents))\n",
    "documents[key], cleaned_documents[key]"
   ]
  },
  {
   "cell_type": "markdown",
   "id": "e27fbd11-3b55-484f-a9be-541a4753dcd0",
   "metadata": {},
   "source": [
    "#### Custom RegEx"
   ]
  },
  {
   "cell_type": "markdown",
   "id": "aa39b3b5-12f0-4a45-b753-78cb1ebae90a",
   "metadata": {},
   "source": [
    "The SimpleCleaner component allows the user to specify custom regular expressions patterns. This enables Vulture to be applied to specific datasets while maintaining the parallel and distributed capabilities. In the following example, we will define a simple regular expression to detect and remove acronyms in the text. An acronym will be assumed to be a series of one or more letters enclosed in parentheses. "
   ]
  },
  {
   "cell_type": "code",
   "execution_count": 20,
   "id": "cd109811-10a9-4ee5-874e-b3bd6591984a",
   "metadata": {
    "tags": []
   },
   "outputs": [],
   "source": [
    "custom_patterns = {\n",
    "    'remove_acronyms': (\n",
    "        r\"\\s*\\([A-Z]+\\)\\s*\",  # pattern to detect uppercase letters enclosed by parentheses\n",
    "        ' *** '               # the string to replace matches with. \n",
    "                              # the stars are used for the example to make the pattern stand out. \n",
    "                              # to fully remove the acronyms, an empty string can be used\n",
    "    )\n",
    "}"
   ]
  },
  {
   "cell_type": "code",
   "execution_count": 21,
   "id": "60f161a4-9c6b-4654-87ab-d40ff79a10a1",
   "metadata": {
    "tags": []
   },
   "outputs": [],
   "source": [
    "steps = [\n",
    "    SimpleCleaner(order = ['remove_acronyms'],  # only perform the custom operation\n",
    "                  custom_patterns = custom_patterns\n",
    "                 ),\n",
    "]"
   ]
  },
  {
   "cell_type": "code",
   "execution_count": 22,
   "id": "65c36f57-dc59-4995-9414-f65c3b4d5a20",
   "metadata": {
    "tags": []
   },
   "outputs": [
    {
     "name": "stderr",
     "output_type": "stream",
     "text": [
      "[Vulture]: Cleaning 9 documents\n",
      "  0%|                                                     | 0/1 [00:00<?, ?it/s][Vulture]: Running SimpleCleaner module\n",
      "\n",
      "100%|███████████████████████████████████████████| 9/9 [00:00<00:00, 5916.73it/s]\u001b[A\n",
      "100%|████████████████████████████████████████████| 1/1 [00:00<00:00, 110.09it/s]"
     ]
    },
    {
     "name": "stdout",
     "output_type": "stream",
     "text": [
      "CPU times: user 13.6 ms, sys: 6.21 ms, total: 19.9 ms\n",
      "Wall time: 15.7 ms\n"
     ]
    },
    {
     "name": "stderr",
     "output_type": "stream",
     "text": [
      "\n"
     ]
    }
   ],
   "source": [
    "%time cleaned_documents = vulture.clean(documents, steps=steps)"
   ]
  },
  {
   "cell_type": "code",
   "execution_count": 23,
   "id": "f351a84e-5491-4f21-98b2-1504a1b6ec2c",
   "metadata": {
    "tags": []
   },
   "outputs": [
    {
     "data": {
      "text/plain": [
       "('Supervisory Control and Data Acquisition (SCADA) systems often serve as the nervous system for substations within power grids. These systems facilitate real-time monitoring, data acquisition, control of equipment, and ensure smooth and efficient operation of the substation and its connected devices. As the dependence on these SCADA systems grows, so does the risk of potential malicious intrusions that could lead to significant outages or even permanent damage to the grid. Previous work has shown that dimensionality reduction-based approaches, such as Principal Component Analysis (PCA), can be used for accurate identification of anomalies in SCADA systems. While not specifically applied to SCADA, non-negative matrix factorization (NMF) has shown strong results at detecting anomalies in wireless sensor networks. These unsupervised approaches model the normal or expected behavior and detect the unseen types of attacks or anomalies by identifying the events that deviate from the expected behavior. These approaches; however, do not model the complex and multi-dimensional interactions that are naturally present in SCADA systems. Differently, non-negative tensor decomposition is a powerful unsupervised machine learning (ML) method that can model the complex and multi-faceted activity details of SCADA events. In this work, we novelly apply the tensor decomposition method Canonical Polyadic Alternating Poisson Regression (CP-APR) with a probabilistic framework, which has previously shown state-of-the-art anomaly detection results on cyber network data, to identify anomalies in SCADA systems. We showcase that the use of statistical behavior analysis of SCADA communication with tensor decomposition improves the specificity and accuracy of identifying anomalies in electrical grid systems. In our experiments, we model real-world SCADA system data collected from the electrical grid operated by Los Alamos National Laboratory (LANL) which provides transmission and distribution service through a partnership with Los Alamos County, and detect synthetically generated anomalies.',\n",
       " 'Supervisory Control and Data Acquisition *** systems often serve as the nervous system for substations within power grids. These systems facilitate real-time monitoring, data acquisition, control of equipment, and ensure smooth and efficient operation of the substation and its connected devices. As the dependence on these SCADA systems grows, so does the risk of potential malicious intrusions that could lead to significant outages or even permanent damage to the grid. Previous work has shown that dimensionality reduction-based approaches, such as Principal Component Analysis *** , can be used for accurate identification of anomalies in SCADA systems. While not specifically applied to SCADA, non-negative matrix factorization *** has shown strong results at detecting anomalies in wireless sensor networks. These unsupervised approaches model the normal or expected behavior and detect the unseen types of attacks or anomalies by identifying the events that deviate from the expected behavior. These approaches; however, do not model the complex and multi-dimensional interactions that are naturally present in SCADA systems. Differently, non-negative tensor decomposition is a powerful unsupervised machine learning *** method that can model the complex and multi-faceted activity details of SCADA events. In this work, we novelly apply the tensor decomposition method Canonical Polyadic Alternating Poisson Regression (CP-APR) with a probabilistic framework, which has previously shown state-of-the-art anomaly detection results on cyber network data, to identify anomalies in SCADA systems. We showcase that the use of statistical behavior analysis of SCADA communication with tensor decomposition improves the specificity and accuracy of identifying anomalies in electrical grid systems. In our experiments, we model real-world SCADA system data collected from the electrical grid operated by Los Alamos National Laboratory *** which provides transmission and distribution service through a partnership with Los Alamos County, and detect synthetically generated anomalies.')"
      ]
     },
     "execution_count": 23,
     "metadata": {},
     "output_type": "execute_result"
    }
   ],
   "source": [
    "key = next(iter(documents))\n",
    "documents[key], cleaned_documents[key]"
   ]
  },
  {
   "cell_type": "markdown",
   "id": "d6ecda4b-fa47-4c97-a0e1-30572431ef03",
   "metadata": {
    "tags": []
   },
   "source": [
    "### RemoveNonEnglishCleaner"
   ]
  },
  {
   "cell_type": "markdown",
   "id": "2f2fe608-8499-4a29-be5d-b54a17e39fca",
   "metadata": {},
   "source": [
    "This component is used to detect and remove non-english text from the dataset. The detection works through a simple heuristics. This heuristic uses two components: the ratio of ASCII characters to all characters and the ratio of stopwords to all words. While not flawless, this heuristic (with appropriate hyperparameters) provides a quick way to filter out foreign language documents.  "
   ]
  },
  {
   "cell_type": "markdown",
   "id": "aab3d9c7-1194-4c94-ac3a-1bfca1cb4dea",
   "metadata": {},
   "source": [
    "##### Define a placeholder Spanish document for Non-English detection"
   ]
  },
  {
   "cell_type": "code",
   "execution_count": 24,
   "id": "9406cf6c-9f9c-46cc-9984-0e9addd8373b",
   "metadata": {
    "tags": []
   },
   "outputs": [],
   "source": [
    "# This placeholder text tells a short story about a young girl named Ana who lives in a small \n",
    "# town surrounded by mountains and finds an old book filled with stories of adventure and magic.\n",
    "foreign_text = 'En un pequeño pueblo rodeado de montañas, vivía una joven llamada Ana. Todos los días, ' \\\n",
    "               'ella caminaba por los senderos del bosque, disfrutando de la tranquilidad y la belleza de ' \\\n",
    "               'la naturaleza. Un día, mientras exploraba una parte del bosque que no conocía, Ana encontró ' \\\n",
    "               'un antiguo libro cubierto de polvo y hojas. Curiosa, lo abrió y comenzó a leer. Las páginas ' \\\n",
    "               'contenían historias de aventuras, magia y lugares lejanos. Ana se sintió inspirada por estas ' \\\n",
    "               'historias y decidió que un día ella también viviría sus propias aventuras.'"
   ]
  },
  {
   "cell_type": "code",
   "execution_count": 25,
   "id": "bd1a990f-5e95-4840-978d-03db7b101fd0",
   "metadata": {
    "tags": []
   },
   "outputs": [],
   "source": [
    "foreign_documents = {0: foreign_text}"
   ]
  },
  {
   "cell_type": "code",
   "execution_count": 26,
   "id": "002bcf51-54cd-42a5-9fb9-c47593431722",
   "metadata": {
    "tags": []
   },
   "outputs": [],
   "source": [
    "steps = [\n",
    "    RemoveNonEnglishCleaner(ascii_ratio=0.9, stopwords_ratio=0.25),\n",
    "]"
   ]
  },
  {
   "cell_type": "code",
   "execution_count": 27,
   "id": "48e97edb-c555-4db0-8ebd-a00078ac0f73",
   "metadata": {
    "tags": []
   },
   "outputs": [
    {
     "name": "stderr",
     "output_type": "stream",
     "text": [
      "[Vulture]: Cleaning 1 documents\n",
      "  0%|                                                     | 0/1 [00:00<?, ?it/s][Vulture]: Running RemoveNonEnglishCleaner module\n",
      "\n",
      "100%|███████████████████████████████████████████| 1/1 [00:00<00:00, 1459.90it/s]\u001b[A\n",
      "100%|████████████████████████████████████████████| 1/1 [00:00<00:00, 119.70it/s]"
     ]
    },
    {
     "name": "stdout",
     "output_type": "stream",
     "text": [
      "CPU times: user 11.5 ms, sys: 5.73 ms, total: 17.2 ms\n",
      "Wall time: 13.3 ms\n"
     ]
    },
    {
     "name": "stderr",
     "output_type": "stream",
     "text": [
      "\n"
     ]
    }
   ],
   "source": [
    "%time cleaned_documents = vulture.clean(foreign_documents, steps=steps)"
   ]
  },
  {
   "cell_type": "code",
   "execution_count": 28,
   "id": "cf007e27-064a-43c0-a4c9-75e10963ad6d",
   "metadata": {
    "tags": []
   },
   "outputs": [
    {
     "data": {
      "text/plain": [
       "('En un pequeño pueblo rodeado de montañas, vivía una joven llamada Ana. Todos los días, ella caminaba por los senderos del bosque, disfrutando de la tranquilidad y la belleza de la naturaleza. Un día, mientras exploraba una parte del bosque que no conocía, Ana encontró un antiguo libro cubierto de polvo y hojas. Curiosa, lo abrió y comenzó a leer. Las páginas contenían historias de aventuras, magia y lugares lejanos. Ana se sintió inspirada por estas historias y decidió que un día ella también viviría sus propias aventuras.',\n",
       " '')"
      ]
     },
     "execution_count": 28,
     "metadata": {},
     "output_type": "execute_result"
    }
   ],
   "source": [
    "key = next(iter(foreign_documents))\n",
    "foreign_documents[key], cleaned_documents[key]"
   ]
  },
  {
   "cell_type": "markdown",
   "id": "a6f162d1-2366-4387-bbd0-afaefb4f35ed",
   "metadata": {},
   "source": [
    "### SubstitutitionCleaner"
   ]
  },
  {
   "cell_type": "markdown",
   "id": "198491cc-1c1d-449f-b816-5fead3ffbdc1",
   "metadata": {},
   "source": [
    "Substitutions allow Vulture to find specific substrings in the text and replaces them with some other substring. The intent of this component is to provide a Subject Matter Expert (SME) the ability to  normalize important terms in the vocabulary. Multiple terms can be used to represent the same concept. Alternatively, multiple tokens can represent a single term, the meaning of which will be destroyed through tokenization. Substitution can normalize these terms and also signal to Vulture that these terms do not require cleaning. This means that this component can also be used to \"freeze\" terms through a reflective substitution, leaving them unchanged throughout the cleaning process."
   ]
  },
  {
   "cell_type": "markdown",
   "id": "86ee4837-1ab3-438b-9eb8-27e51aca9c85",
   "metadata": {},
   "source": [
    "Substitution can be added as argument to the clean function. This will perform substitution before and after cleaning the text. However, the SubstitutionCleaner can be used like any of the other components as part of the pipeline. This finer-grained control allows the user to specify when substitution occurs and how the substitution map is handled. The SubstitutionCleaner has three attributes that control how the substitution map is processed"
   ]
  },
  {
   "cell_type": "code",
   "execution_count": 29,
   "id": "18084a72-b78d-445d-b3d0-17c372e9958d",
   "metadata": {
    "tags": []
   },
   "outputs": [],
   "source": [
    "substitution_map = {\n",
    "    'Foo Bar Bat': 'foo_bar',\n",
    "    'testing': 'test'\n",
    "}"
   ]
  },
  {
   "cell_type": "markdown",
   "id": "e1151ba6-3844-4fd6-901b-767505df6c99",
   "metadata": {},
   "source": [
    "#### Permute"
   ]
  },
  {
   "cell_type": "markdown",
   "id": "e09998c1-71c5-4676-a634-8d7d52a1c875",
   "metadata": {},
   "source": [
    "This attribute permutes the substitution map such that whitespace is replaced with hyphens and vice versa"
   ]
  },
  {
   "cell_type": "code",
   "execution_count": 30,
   "id": "624e6dd7-6b7f-4f95-8df4-3b6bfc55f8a1",
   "metadata": {
    "tags": []
   },
   "outputs": [
    {
     "data": {
      "text/plain": [
       "{'Foo Bar Bat': 'foo_bar',\n",
       " 'Foo-Bar Bat': 'foo_bar',\n",
       " 'Foo Bar-Bat': 'foo_bar',\n",
       " 'testing': 'test',\n",
       " 'Foo-Bar-Bat': 'foo_bar'}"
      ]
     },
     "execution_count": 30,
     "metadata": {},
     "output_type": "execute_result"
    }
   ],
   "source": [
    "sub = SubstitutionCleaner(substitution_map, permute=True)\n",
    "sub.substitution_map"
   ]
  },
  {
   "cell_type": "markdown",
   "id": "95f3d9dd-9a64-4e0a-b560-aa3d17b6f180",
   "metadata": {},
   "source": [
    "#### Lower "
   ]
  },
  {
   "cell_type": "markdown",
   "id": "46867749-f272-4e2f-a7f9-8ae212550fea",
   "metadata": {},
   "source": [
    "This attribute converts the keys of the substitution map to lowercase"
   ]
  },
  {
   "cell_type": "code",
   "execution_count": 31,
   "id": "4ea63305-3ef8-4778-9d26-33f20d402914",
   "metadata": {
    "tags": []
   },
   "outputs": [
    {
     "data": {
      "text/plain": [
       "{'Foo Bar Bat': 'foo_bar', 'foo bar bat': 'foo_bar', 'testing': 'test'}"
      ]
     },
     "execution_count": 31,
     "metadata": {},
     "output_type": "execute_result"
    }
   ],
   "source": [
    "sub = SubstitutionCleaner(substitution_map, lower=True)\n",
    "sub.substitution_map"
   ]
  },
  {
   "cell_type": "markdown",
   "id": "8353aa22-88d6-483b-9776-0d281331eaa3",
   "metadata": {},
   "source": [
    "#### Lemmatize "
   ]
  },
  {
   "cell_type": "markdown",
   "id": "f21f1af6-e420-4d56-9ace-49187b4a7db5",
   "metadata": {},
   "source": [
    "This attribute lemmatizes the keys of the substitution map"
   ]
  },
  {
   "cell_type": "code",
   "execution_count": 32,
   "id": "7e63c5d9-49b3-471e-a605-18b31e349f62",
   "metadata": {
    "tags": []
   },
   "outputs": [
    {
     "data": {
      "text/plain": [
       "{'Foo Bar Bat': 'foo_bar', 'testing': 'test', 'test': 'test'}"
      ]
     },
     "execution_count": 32,
     "metadata": {},
     "output_type": "execute_result"
    }
   ],
   "source": [
    "sub = SubstitutionCleaner(substitution_map, lemmatize=True)\n",
    "sub.substitution_map"
   ]
  },
  {
   "cell_type": "markdown",
   "id": "8a414b5a-011c-475b-88a1-a5d0aff3ccf6",
   "metadata": {},
   "source": [
    "#### All Together"
   ]
  },
  {
   "cell_type": "code",
   "execution_count": 33,
   "id": "267018e3-d055-4801-a46a-e843fec7483c",
   "metadata": {
    "tags": []
   },
   "outputs": [
    {
     "data": {
      "text/plain": [
       "{'Foo Bar Bat': 'foo_bar',\n",
       " 'foo bar bat': 'foo_bar',\n",
       " 'Foo-Bar Bat': 'foo_bar',\n",
       " 'Foo Bar-Bat': 'foo_bar',\n",
       " 'foo-bar bat': 'foo_bar',\n",
       " 'foo bar-bat': 'foo_bar',\n",
       " 'testing': 'test',\n",
       " 'test': 'test',\n",
       " 'Foo-Bar-Bat': 'foo_bar',\n",
       " 'foo-bar-bat': 'foo_bar'}"
      ]
     },
     "execution_count": 33,
     "metadata": {},
     "output_type": "execute_result"
    }
   ],
   "source": [
    "sub = SubstitutionCleaner(substitution_map, permute=True, lower=True, lemmatize=True)\n",
    "sub.substitution_map"
   ]
  },
  {
   "cell_type": "markdown",
   "id": "6e915552-e299-4184-8e71-58d27b3f8ce9",
   "metadata": {},
   "source": [
    "### LemmatizeCleaner"
   ]
  },
  {
   "cell_type": "markdown",
   "id": "20f23011-a8c9-43d7-b3af-2fb64e338d17",
   "metadata": {},
   "source": [
    "#### Apply NLTK Lemmatization"
   ]
  },
  {
   "cell_type": "code",
   "execution_count": 34,
   "id": "eb3a39f6-0b20-45bd-b02e-3fb294f1fc7a",
   "metadata": {
    "tags": []
   },
   "outputs": [],
   "source": [
    "steps = [\n",
    "    LemmatizeCleaner('nltk')\n",
    "]"
   ]
  },
  {
   "cell_type": "code",
   "execution_count": 35,
   "id": "48122d65-e3eb-4ad2-886f-e97ffe3ead4a",
   "metadata": {
    "tags": []
   },
   "outputs": [
    {
     "name": "stderr",
     "output_type": "stream",
     "text": [
      "[Vulture]: Cleaning 9 documents\n",
      "  0%|                                                     | 0/1 [00:00<?, ?it/s][Vulture]: Running LemmatizeCleaner module\n",
      "\n",
      "  0%|                                                     | 0/9 [00:00<?, ?it/s]\u001b[A\n",
      "100%|█████████████████████████████████████████████| 9/9 [00:01<00:00,  6.99it/s]\u001b[A\n",
      "100%|█████████████████████████████████████████████| 1/1 [00:01<00:00,  1.29s/it]"
     ]
    },
    {
     "name": "stdout",
     "output_type": "stream",
     "text": [
      "CPU times: user 1.17 s, sys: 107 ms, total: 1.28 s\n",
      "Wall time: 1.3 s\n"
     ]
    },
    {
     "name": "stderr",
     "output_type": "stream",
     "text": [
      "\n"
     ]
    }
   ],
   "source": [
    "%time cleaned_documents = vulture.clean(documents, steps=steps)"
   ]
  },
  {
   "cell_type": "code",
   "execution_count": 36,
   "id": "951fffc8-9dc5-4874-893d-da4a380f0f9c",
   "metadata": {
    "tags": []
   },
   "outputs": [
    {
     "data": {
      "text/plain": [
       "('Supervisory Control and Data Acquisition (SCADA) systems often serve as the nervous system for substations within power grids. These systems facilitate real-time monitoring, data acquisition, control of equipment, and ensure smooth and efficient operation of the substation and its connected devices. As the dependence on these SCADA systems grows, so does the risk of potential malicious intrusions that could lead to significant outages or even permanent damage to the grid. Previous work has shown that dimensionality reduction-based approaches, such as Principal Component Analysis (PCA), can be used for accurate identification of anomalies in SCADA systems. While not specifically applied to SCADA, non-negative matrix factorization (NMF) has shown strong results at detecting anomalies in wireless sensor networks. These unsupervised approaches model the normal or expected behavior and detect the unseen types of attacks or anomalies by identifying the events that deviate from the expected behavior. These approaches; however, do not model the complex and multi-dimensional interactions that are naturally present in SCADA systems. Differently, non-negative tensor decomposition is a powerful unsupervised machine learning (ML) method that can model the complex and multi-faceted activity details of SCADA events. In this work, we novelly apply the tensor decomposition method Canonical Polyadic Alternating Poisson Regression (CP-APR) with a probabilistic framework, which has previously shown state-of-the-art anomaly detection results on cyber network data, to identify anomalies in SCADA systems. We showcase that the use of statistical behavior analysis of SCADA communication with tensor decomposition improves the specificity and accuracy of identifying anomalies in electrical grid systems. In our experiments, we model real-world SCADA system data collected from the electrical grid operated by Los Alamos National Laboratory (LANL) which provides transmission and distribution service through a partnership with Los Alamos County, and detect synthetically generated anomalies.',\n",
       " 'Supervisory Control and Data Acquisition (SCADA) system often serve a the nervous system for substation within power grids. These system facilitate real-time monitoring, data acquisition, control of equipment, and ensure smooth and efficient operation of the substation and it connected devices. As the dependence on these SCADA system grows, so doe the risk of potential malicious intrusion that could lead to significant outage or even permanent damage to the grid. Previous work ha shown that dimensionality reduction-based approaches, such a Principal Component Analysis (PCA), can be used for accurate identification of anomaly in SCADA systems. While not specifically applied to SCADA, non-negative matrix factorization (NMF) ha shown strong result at detecting anomaly in wireless sensor networks. These unsupervised approach model the normal or expected behavior and detect the unseen type of attack or anomaly by identifying the event that deviate from the expected behavior. These approaches; however, do not model the complex and multi-dimensional interaction that are naturally present in SCADA systems. Differently, non-negative tensor decomposition is a powerful unsupervised machine learning (ML) method that can model the complex and multi-faceted activity detail of SCADA events. In this work, we novelly apply the tensor decomposition method Canonical Polyadic Alternating Poisson Regression (CP-APR) with a probabilistic framework, which ha previously shown state-of-the-art anomaly detection result on cyber network data, to identify anomaly in SCADA systems. We showcase that the use of statistical behavior analysis of SCADA communication with tensor decomposition improves the specificity and accuracy of identifying anomaly in electrical grid systems. In our experiments, we model real-world SCADA system data collected from the electrical grid operated by Los Alamos National Laboratory (LANL) which provides transmission and distribution service through a partnership with Los Alamos County, and detect synthetically generated anomalies.')"
      ]
     },
     "execution_count": 36,
     "metadata": {},
     "output_type": "execute_result"
    }
   ],
   "source": [
    "key = next(iter(documents))\n",
    "documents[key], cleaned_documents[key]"
   ]
  },
  {
   "cell_type": "markdown",
   "id": "dfb187dc-0fcc-455c-8dd2-785c696e7676",
   "metadata": {},
   "source": [
    "#### Apply Spacy Lemmatization"
   ]
  },
  {
   "cell_type": "code",
   "execution_count": 37,
   "id": "5572e300-09b6-4710-9042-7600402e3123",
   "metadata": {
    "tags": []
   },
   "outputs": [],
   "source": [
    "steps = [\n",
    "    LemmatizeCleaner('spacy')\n",
    "]"
   ]
  },
  {
   "cell_type": "code",
   "execution_count": 38,
   "id": "890e8b65-574f-4ad0-af26-23e693bb8164",
   "metadata": {
    "tags": []
   },
   "outputs": [
    {
     "name": "stderr",
     "output_type": "stream",
     "text": [
      "[Vulture]: Cleaning 9 documents\n",
      "  0%|                                                     | 0/1 [00:00<?, ?it/s][Vulture]: Running LemmatizeCleaner module\n",
      "\n",
      "  0%|                                                     | 0/9 [00:00<?, ?it/s]\u001b[A\n",
      " 11%|█████                                        | 1/9 [00:01<00:14,  1.79s/it]\u001b[A\n",
      " 44%|████████████████████                         | 4/9 [00:01<00:01,  2.71it/s]\u001b[A\n",
      " 67%|██████████████████████████████               | 6/9 [00:02<00:00,  4.16it/s]\u001b[A\n",
      "100%|█████████████████████████████████████████████| 9/9 [00:02<00:00,  3.97it/s]\u001b[A\n",
      "100%|█████████████████████████████████████████████| 1/1 [00:02<00:00,  2.28s/it]"
     ]
    },
    {
     "name": "stdout",
     "output_type": "stream",
     "text": [
      "CPU times: user 1.73 s, sys: 487 ms, total: 2.22 s\n",
      "Wall time: 2.28 s\n"
     ]
    },
    {
     "name": "stderr",
     "output_type": "stream",
     "text": [
      "\n"
     ]
    }
   ],
   "source": [
    "%time cleaned_documents = vulture.clean(documents, steps=steps)"
   ]
  },
  {
   "cell_type": "code",
   "execution_count": 39,
   "id": "33733b9f-b343-42b8-905d-092d7ec21597",
   "metadata": {
    "tags": []
   },
   "outputs": [
    {
     "data": {
      "text/plain": [
       "('Supervisory Control and Data Acquisition (SCADA) systems often serve as the nervous system for substations within power grids. These systems facilitate real-time monitoring, data acquisition, control of equipment, and ensure smooth and efficient operation of the substation and its connected devices. As the dependence on these SCADA systems grows, so does the risk of potential malicious intrusions that could lead to significant outages or even permanent damage to the grid. Previous work has shown that dimensionality reduction-based approaches, such as Principal Component Analysis (PCA), can be used for accurate identification of anomalies in SCADA systems. While not specifically applied to SCADA, non-negative matrix factorization (NMF) has shown strong results at detecting anomalies in wireless sensor networks. These unsupervised approaches model the normal or expected behavior and detect the unseen types of attacks or anomalies by identifying the events that deviate from the expected behavior. These approaches; however, do not model the complex and multi-dimensional interactions that are naturally present in SCADA systems. Differently, non-negative tensor decomposition is a powerful unsupervised machine learning (ML) method that can model the complex and multi-faceted activity details of SCADA events. In this work, we novelly apply the tensor decomposition method Canonical Polyadic Alternating Poisson Regression (CP-APR) with a probabilistic framework, which has previously shown state-of-the-art anomaly detection results on cyber network data, to identify anomalies in SCADA systems. We showcase that the use of statistical behavior analysis of SCADA communication with tensor decomposition improves the specificity and accuracy of identifying anomalies in electrical grid systems. In our experiments, we model real-world SCADA system data collected from the electrical grid operated by Los Alamos National Laboratory (LANL) which provides transmission and distribution service through a partnership with Los Alamos County, and detect synthetically generated anomalies.',\n",
       " 'Supervisory Control and Data Acquisition ( SCADA ) system often serve as the nervous system for substation within power grid . these system facilitate real-time monitoring , data acquisition , control of equipment , and ensure smooth and efficient operation of the substation and its connected device . as the dependence on these SCADA system grow , so do the risk of potential malicious intrusion that could lead to significant outage or even permanent damage to the grid . previous work have show that dimensionality reduction-base approach , such as Principal Component Analysis ( PCA ) , can be use for accurate identification of anomaly in SCADA system . while not specifically apply to SCADA , non-negative matrix factorization ( NMF ) have show strong result at detect anomaly in wireless sensor network . these unsupervised approach model the normal or expect behavior and detect the unseen type of attack or anomaly by identify the event that deviate from the expected behavior . these approach ; however , do not model the complex and multi-dimensional interaction that be naturally present in SCADA system . differently , non-negative tensor decomposition be a powerful unsupervised machine learn ( ML ) method that can model the complex and multi-faceted activity detail of SCADA event . in this work , we novelly apply the tensor decomposition method Canonical Polyadic Alternating Poisson regression ( CP-APR ) with a probabilistic framework , which have previously show state-of-the-art anomaly detection result on cyber network datum , to identify anomaly in SCADA system . we showcase that the use of statistical behavior analysis of SCADA communication with tensor decomposition improve the specificity and accuracy of identify anomaly in electrical grid system . in our experiment , we model real-world SCADA system datum collect from the electrical grid operate by Los Alamos National Laboratory ( LANL ) which provide transmission and distribution service through a partnership with Los Alamos County , and detect synthetically generate anomaly .')"
      ]
     },
     "execution_count": 39,
     "metadata": {},
     "output_type": "execute_result"
    }
   ],
   "source": [
    "key = next(iter(documents))\n",
    "documents[key], cleaned_documents[key]"
   ]
  }
 ],
 "metadata": {
  "kernelspec": {
   "display_name": "TELF",
   "language": "python",
   "name": "telf"
  },
  "language_info": {
   "codemirror_mode": {
    "name": "ipython",
    "version": 3
   },
   "file_extension": ".py",
   "mimetype": "text/x-python",
   "name": "python",
   "nbconvert_exporter": "python",
   "pygments_lexer": "ipython3",
   "version": "3.8.5"
  }
 },
 "nbformat": 4,
 "nbformat_minor": 5
}
