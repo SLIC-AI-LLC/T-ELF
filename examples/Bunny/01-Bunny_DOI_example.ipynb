{
 "cells": [
  {
   "cell_type": "markdown",
   "metadata": {},
   "source": [
    "**Please note that this notebook is a demonstration of how to use Bunny. Since we are using mock data, and Bunny requires real citations, reference paper IDs, or DOIs to curate a dataset from the citation/reference network, this example serves only as a demo of how to interact with Bunny.**"
   ]
  },
  {
   "cell_type": "markdown",
   "metadata": {},
   "source": [
    "# Build Dataset by Citation Hops - Core Input is a *list of DOIs*"
   ]
  },
  {
   "cell_type": "code",
   "execution_count": 2,
   "metadata": {},
   "outputs": [],
   "source": [
    "# allows async co-routines to work inside of jupyter notebook\n",
    "import nest_asyncio\n",
    "nest_asyncio.apply()"
   ]
  },
  {
   "cell_type": "markdown",
   "metadata": {},
   "source": [
    "## 1. DOI's to begin the hopping from"
   ]
  },
  {
   "cell_type": "code",
   "execution_count": 3,
   "metadata": {},
   "outputs": [],
   "source": [
    "DOIs = [\n",
    "    \"10.1109/ICMLA61862.2024.00258\",\n",
    "    \"10.1109/ISDFS60797.2024.10527237\"\n",
    "]"
   ]
  },
  {
   "cell_type": "markdown",
   "metadata": {},
   "source": [
    "## 2. Setup Core"
   ]
  },
  {
   "cell_type": "code",
   "execution_count": 4,
   "metadata": {},
   "outputs": [
    {
     "name": "stdout",
     "output_type": "stream",
     "text": [
      "Found S2_KEY environment variable\n"
     ]
    }
   ],
   "source": [
    "import os\n",
    "\n",
    "if \"S2_KEY\" in os.environ:\n",
    "    print(\"Found S2_KEY environment variable\")\n",
    "    S2_API_KEY = os.environ[\"S2_KEY\"]\n",
    "else:\n",
    "    print(\"Variable does not exist. Export SemanticScholar API key on your environment using the variable name S2_KEY.\")\n",
    "    S2_API_KEY = \"\""
   ]
  },
  {
   "cell_type": "code",
   "execution_count": 5,
   "metadata": {},
   "outputs": [],
   "source": [
    "from TELF.applications.Bunny import Bunny\n",
    "\n",
    "\n",
    "OUTPUT_PATH = os.path.join('results', '01-example')\n",
    "bunny = Bunny(s2_key = S2_API_KEY, \n",
    "              output_dir = OUTPUT_PATH, \n",
    "              verbose=True)"
   ]
  },
  {
   "cell_type": "code",
   "execution_count": 6,
   "metadata": {},
   "outputs": [
    {
     "name": "stderr",
     "output_type": "stream",
     "text": [
      "100%|██████████| 2/2 [00:00<00:00,  3.89it/s]\n"
     ]
    },
    {
     "name": "stdout",
     "output_type": "stream",
     "text": [
      "<class 'pandas.core.frame.DataFrame'>\n",
      "RangeIndex: 2 entries, 0 to 1\n",
      "Data columns (total 12 columns):\n",
      " #   Column          Non-Null Count  Dtype \n",
      "---  ------          --------------  ----- \n",
      " 0   s2id            2 non-null      object\n",
      " 1   doi             2 non-null      object\n",
      " 2   year            2 non-null      int64 \n",
      " 3   title           2 non-null      object\n",
      " 4   abstract        2 non-null      object\n",
      " 5   s2_authors      2 non-null      object\n",
      " 6   s2_author_ids   2 non-null      object\n",
      " 7   citations       2 non-null      object\n",
      " 8   references      2 non-null      object\n",
      " 9   num_citations   2 non-null      int64 \n",
      " 10  num_references  2 non-null      int64 \n",
      " 11  type            2 non-null      int64 \n",
      "dtypes: int64(4), object(8)\n",
      "memory usage: 324.0+ bytes\n"
     ]
    },
    {
     "name": "stderr",
     "output_type": "stream",
     "text": [
      "[S2]: Finished downloading 2 papers for given query in 1.24s\n",
      "[Parallel(n_jobs=2)]: Using backend ThreadingBackend with 2 concurrent workers.\n",
      "[Parallel(n_jobs=2)]: Done   2 out of   2 | elapsed:    0.0s finished\n"
     ]
    }
   ],
   "source": [
    "core_df = bunny.form_core(DOIs, 'paper')\n",
    "core_df.info()"
   ]
  },
  {
   "cell_type": "markdown",
   "metadata": {},
   "source": [
    "## 3. Showcase some Bunny Use Cases"
   ]
  },
  {
   "cell_type": "markdown",
   "metadata": {},
   "source": [
    "### A. Perform a Few Hops in S2 and Fill in Scopus Information at the End"
   ]
  },
  {
   "cell_type": "code",
   "execution_count": 7,
   "metadata": {},
   "outputs": [
    {
     "data": {
      "text/plain": [
       "type\n",
       "0    2\n",
       "Name: count, dtype: int64"
      ]
     },
     "execution_count": 7,
     "metadata": {},
     "output_type": "execute_result"
    }
   ],
   "source": [
    "df = core_df.copy()\n",
    "df.type.value_counts()"
   ]
  },
  {
   "cell_type": "markdown",
   "metadata": {},
   "source": [
    "#### Hop 1"
   ]
  },
  {
   "cell_type": "code",
   "execution_count": 8,
   "metadata": {},
   "outputs": [
    {
     "name": "stderr",
     "output_type": "stream",
     "text": [
      "[Bunny]: Downloading papers for hop 1\n",
      "100%|██████████| 7/7 [00:00<00:00, 35805.03it/s]\n"
     ]
    },
    {
     "name": "stdout",
     "output_type": "stream",
     "text": [
      "<class 'pandas.core.frame.DataFrame'>\n",
      "RangeIndex: 9 entries, 0 to 8\n",
      "Data columns (total 12 columns):\n",
      " #   Column          Non-Null Count  Dtype \n",
      "---  ------          --------------  ----- \n",
      " 0   s2id            9 non-null      object\n",
      " 1   doi             8 non-null      object\n",
      " 2   year            9 non-null      int64 \n",
      " 3   title           9 non-null      object\n",
      " 4   abstract        9 non-null      object\n",
      " 5   s2_authors      9 non-null      object\n",
      " 6   s2_author_ids   9 non-null      object\n",
      " 7   citations       6 non-null      object\n",
      " 8   references      9 non-null      object\n",
      " 9   num_citations   9 non-null      int64 \n",
      " 10  num_references  9 non-null      int64 \n",
      " 11  type            9 non-null      int64 \n",
      "dtypes: int64(4), object(8)\n",
      "memory usage: 996.0+ bytes\n"
     ]
    },
    {
     "name": "stderr",
     "output_type": "stream",
     "text": [
      "[S2]: Finished downloading 7 papers for given query in 0.65s\n",
      "[Parallel(n_jobs=7)]: Using backend ThreadingBackend with 7 concurrent workers.\n",
      "[Parallel(n_jobs=7)]: Done   2 out of   7 | elapsed:    0.0s remaining:    0.0s\n",
      "[Parallel(n_jobs=7)]: Done   7 out of   7 | elapsed:    0.0s finished\n"
     ]
    }
   ],
   "source": [
    "df = bunny.hop(df, hops=1, modes='citations')\n",
    "df.info()"
   ]
  },
  {
   "cell_type": "markdown",
   "metadata": {},
   "source": [
    "#### Hop 2"
   ]
  },
  {
   "cell_type": "code",
   "execution_count": 9,
   "metadata": {},
   "outputs": [
    {
     "name": "stderr",
     "output_type": "stream",
     "text": [
      "[Bunny]: Downloading papers for hop 2\n",
      "100%|██████████| 7/7 [00:00<00:00, 66126.41it/s]\n"
     ]
    },
    {
     "name": "stdout",
     "output_type": "stream",
     "text": [
      "<class 'pandas.core.frame.DataFrame'>\n",
      "RangeIndex: 15 entries, 0 to 14\n",
      "Data columns (total 12 columns):\n",
      " #   Column          Non-Null Count  Dtype \n",
      "---  ------          --------------  ----- \n",
      " 0   s2id            15 non-null     object\n",
      " 1   doi             12 non-null     object\n",
      " 2   year            15 non-null     int64 \n",
      " 3   title           15 non-null     object\n",
      " 4   abstract        14 non-null     object\n",
      " 5   s2_authors      15 non-null     object\n",
      " 6   s2_author_ids   15 non-null     object\n",
      " 7   citations       6 non-null      object\n",
      " 8   references      15 non-null     object\n",
      " 9   num_citations   15 non-null     int64 \n",
      " 10  num_references  15 non-null     int64 \n",
      " 11  type            15 non-null     int64 \n",
      "dtypes: int64(4), object(8)\n",
      "memory usage: 1.5+ KB\n"
     ]
    },
    {
     "name": "stderr",
     "output_type": "stream",
     "text": [
      "[S2]: Finished downloading 7 papers for given query in 0.64s\n",
      "[Parallel(n_jobs=7)]: Using backend ThreadingBackend with 7 concurrent workers.\n",
      "[Parallel(n_jobs=7)]: Done   2 out of   7 | elapsed:    0.0s remaining:    0.0s\n",
      "[Parallel(n_jobs=7)]: Done   7 out of   7 | elapsed:    0.0s finished\n"
     ]
    }
   ],
   "source": [
    "df = bunny.hop(df, hops=1, modes='citations')\n",
    "df.info()"
   ]
  },
  {
   "cell_type": "markdown",
   "metadata": {},
   "source": [
    "#### Get Scopus Information "
   ]
  },
  {
   "cell_type": "code",
   "execution_count": 10,
   "metadata": {},
   "outputs": [
    {
     "name": "stdout",
     "output_type": "stream",
     "text": [
      "Found SCOPUS_KEY environment variable\n"
     ]
    }
   ],
   "source": [
    "if \"SCOPUS_KEY\" in os.environ:\n",
    "    print(\"Found SCOPUS_KEY environment variable\")\n",
    "    SCOPUS_API_KEY = os.environ[\"SCOPUS_KEY\"]\n",
    "else:\n",
    "    print(\"Variable does not exist. Export Scopus API key on your environment using the variable name SCOPUS_KEY.\")\n",
    "    SCOPUS_API_KEY = \"\""
   ]
  },
  {
   "cell_type": "code",
   "execution_count": 11,
   "metadata": {},
   "outputs": [
    {
     "name": "stderr",
     "output_type": "stream",
     "text": [
      "[Scopus API]: Remaining API calls: 9866\n",
      "              Quota resets at:     2025-05-02 06:23:55\n",
      "\n",
      "100%|██████████| 5/5 [00:00<00:00,  7.50it/s]\n"
     ]
    },
    {
     "name": "stdout",
     "output_type": "stream",
     "text": [
      "<class 'pandas.core.frame.DataFrame'>\n",
      "Index: 15 entries, 0 to 14\n",
      "Data columns (total 20 columns):\n",
      " #   Column            Non-Null Count  Dtype  \n",
      "---  ------            --------------  -----  \n",
      " 0   doi               12 non-null     object \n",
      " 1   eid               5 non-null      object \n",
      " 2   s2id              15 non-null     object \n",
      " 3   title             15 non-null     object \n",
      " 4   abstract          15 non-null     object \n",
      " 5   year              15 non-null     int64  \n",
      " 6   authors           5 non-null      object \n",
      " 7   author_ids        5 non-null      object \n",
      " 8   affiliations      5 non-null      object \n",
      " 9   funding           2 non-null      object \n",
      " 10  PACs              5 non-null      object \n",
      " 11  publication_name  5 non-null      object \n",
      " 12  subject_areas     5 non-null      object \n",
      " 13  s2_authors        15 non-null     object \n",
      " 14  s2_author_ids     15 non-null     object \n",
      " 15  citations         6 non-null      object \n",
      " 16  num_citations     15 non-null     int64  \n",
      " 17  references        15 non-null     object \n",
      " 18  num_references    15 non-null     float64\n",
      " 19  type              15 non-null     float64\n",
      "dtypes: float64(2), int64(2), object(16)\n",
      "memory usage: 2.5+ KB\n"
     ]
    },
    {
     "name": "stderr",
     "output_type": "stream",
     "text": [
      "[Scopus]: Finished downloading 5 papers in 3.98s\n",
      "[Parallel(n_jobs=5)]: Using backend ThreadingBackend with 5 concurrent workers.\n",
      "[Parallel(n_jobs=5)]: Done   2 out of   5 | elapsed:    0.0s remaining:    0.0s\n",
      "[Parallel(n_jobs=5)]: Done   5 out of   5 | elapsed:    0.0s finished\n"
     ]
    }
   ],
   "source": [
    "df = bunny.get_affiliations(df, [SCOPUS_API_KEY], filters=None)\n",
    "df.info()"
   ]
  }
 ],
 "metadata": {
  "kernelspec": {
   "display_name": "dev_artic_fox",
   "language": "python",
   "name": "python3"
  },
  "language_info": {
   "codemirror_mode": {
    "name": "ipython",
    "version": 3
   },
   "file_extension": ".py",
   "mimetype": "text/x-python",
   "name": "python",
   "nbconvert_exporter": "python",
   "pygments_lexer": "ipython3",
   "version": "3.11.10"
  }
 },
 "nbformat": 4,
 "nbformat_minor": 2
}
