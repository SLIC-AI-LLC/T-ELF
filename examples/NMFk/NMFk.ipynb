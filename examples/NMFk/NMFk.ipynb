{
 "cells": [
  {
   "cell_type": "code",
   "execution_count": 1,
   "metadata": {},
   "outputs": [],
   "source": [
    "import os\n",
    "os.environ[\"OMP_NUM_THREADS\"] = \"1\" # export OMP_NUM_THREADS=1\n",
    "os.environ[\"OPENBLAS_NUM_THREADS\"] = \"1\" # export OPENBLAS_NUM_THREADS=1\n",
    "os.environ[\"MKL_NUM_THREADS\"] = \"1\" # export MKL_NUM_THREADS=1\n",
    "os.environ[\"VECLIB_MAXIMUM_THREADS\"] = \"1\" # export VECLIB_MAXIMUM_THREADS=1\n",
    "os.environ[\"NUMEXPR_NUM_THREADS\"] = \"1\" # export NUMEXPR_NUM_THREADS=1"
   ]
  },
  {
   "cell_type": "code",
   "execution_count": 2,
   "metadata": {},
   "outputs": [
    {
     "name": "stdout",
     "output_type": "stream",
     "text": [
      "n_perturbs: 36\n",
      "perturb_type: uniform\n",
      "n_iters: 1000\n",
      "epsilon: 0.015\n",
      "init: nnsvd\n",
      "save_path: ../../results/\n",
      "save_output: True\n",
      "use_gpu: False\n",
      "verbose: True\n",
      "nmf_verbose: False\n",
      "perturb_verbose: False\n",
      "transpose: False\n",
      "collect_output: True\n",
      "sill_thresh: 0.8\n",
      "predict_k: True\n",
      "predict_k_method: sill\n",
      "n_jobs: 192\n",
      "n_nodes: 1\n",
      "nmf: <function nmf at 0x7f0d56889ee0>\n",
      "nmf_method: nmf_fro_mu\n",
      "nmf_obj_params: {}\n",
      "pruned: True\n",
      "calculate_error: True\n",
      "consensus_mat: True\n",
      "use_consensus_stopping: 0\n",
      "mask: None\n",
      "calculate_pac: True\n",
      "simple_plot: True\n",
      "get_plot_data: False\n",
      "perturb_multiprocessing: False\n",
      "lock: <unlocked _thread.lock object at 0x7f0d5688c500>\n",
      "total_exec_seconds: 0\n",
      "experiment_name: \n",
      "nmf_params: {'niter': 1000, 'use_gpu': False, 'nmf_verbose': False, 'mask': None, 'use_consensus_stopping': 0}\n"
     ]
    },
    {
     "name": "stderr",
     "output_type": "stream",
     "text": [
      "/home/maksim/repositories/T-ELF/TELF/factorization/NMFk.py:603: UserWarning: calculate_pac is True. PAC calculation for large matrices can take long time. For large matrices, instead use consensus_mat=True and calculate_pac=False.\n",
      "  warnings.warn(\"calculate_pac is True. PAC calculation for large matrices can take long time. For large matrices, instead use consensus_mat=True and calculate_pac=False.\")\n",
      "/home/maksim/repositories/T-ELF/TELF/factorization/NMFk.py:610: UserWarning: calculate_error is True! Error calculation can make the runtime longer and take up more memory space!\n",
      "  warnings.warn(\n"
     ]
    }
   ],
   "source": [
    "from TELF.factorization import NMFk\n",
    "\n",
    "params = {\n",
    "    \"n_perturbs\":36,\n",
    "    \"n_iters\":1000,\n",
    "    \"epsilon\":0.015,\n",
    "    \"n_jobs\":-1,\n",
    "    \"init\":\"nnsvd\", \n",
    "    \"use_gpu\":False,\n",
    "    \"save_path\":\"../../results/\", \n",
    "    \"save_output\":True,\n",
    "    \"collect_output\":True,\n",
    "    \"predict_k_method\":\"sill\",\n",
    "    \"verbose\":True,\n",
    "    \"nmf_verbose\":False,\n",
    "    \"transpose\":False,\n",
    "    \"sill_thresh\":0.8,\n",
    "    \"pruned\":True,\n",
    "    'nmf_method':'nmf_fro_mu', # nmf_fro_mu, nmf_recommender\n",
    "    \"calculate_error\":True,\n",
    "    \"predict_k\":True,\n",
    "    \"use_consensus_stopping\":0,\n",
    "    \"calculate_pac\":True,\n",
    "    \"consensus_mat\":True,\n",
    "    \"perturb_type\":\"uniform\",\n",
    "    \"perturb_multiprocessing\":False,\n",
    "    \"perturb_verbose\":False,\n",
    "    \"simple_plot\":True\n",
    "}\n",
    "Ks = range(1,10,1)\n",
    "name = \"Example_NMFk\"\n",
    "note = \"This is an example run of NMFk\"\n",
    "\n",
    "model = NMFk(**params)"
   ]
  },
  {
   "cell_type": "code",
   "execution_count": 3,
   "metadata": {},
   "outputs": [
    {
     "name": "stderr",
     "output_type": "stream",
     "text": [
      "/home/maksim/repositories/T-ELF/examples/NMFk/../../scripts/generate_X.py:60: UserWarning: Kruskal's theorem probably won't apply, may not have a unique nCPD.\n",
      "  warnings.warn(\"Kruskal's theorem probably won't apply, may not have a unique nCPD.\")\n"
     ]
    }
   ],
   "source": [
    "import sys; sys.path.append(\"../../scripts/\")\n",
    "from generate_X import gen_data,gen_data_sparse\n",
    "\n",
    "Xsp = gen_data_sparse(shape=[500, 500], density=0.01)[\"X\"]\n",
    "X = gen_data(R=3, shape=[100, 200])[\"X\"]"
   ]
  },
  {
   "cell_type": "code",
   "execution_count": 4,
   "metadata": {},
   "outputs": [
    {
     "name": "stderr",
     "output_type": "stream",
     "text": [
      "  0%|          | 0/9 [00:00<?, ?it/s]"
     ]
    },
    {
     "name": "stderr",
     "output_type": "stream",
     "text": [
      "/home/maksim/miniconda3/envs/TELF/lib/python3.11/site-packages/numpy/lib/function_base.py:2897: RuntimeWarning: invalid value encountered in divide\n",
      "  c /= stddev[:, None]\n",
      "/home/maksim/miniconda3/envs/TELF/lib/python3.11/site-packages/numpy/core/fromnumeric.py:3504: RuntimeWarning: Mean of empty slice.\n",
      "  return _methods._mean(a, axis=axis, dtype=dtype,\n",
      "/home/maksim/miniconda3/envs/TELF/lib/python3.11/site-packages/numpy/core/_methods.py:129: RuntimeWarning: invalid value encountered in scalar divide\n",
      "  ret = ret.dtype.type(ret / rcount)\n",
      "/home/maksim/repositories/T-ELF/TELF/factorization/NMFk.py:372: RuntimeWarning: [tELF]: Encountered unknown logging metric \"pac\"\n",
      "  warnings.warn(f'[tELF]: Encountered unknown logging metric \"{key}\"', RuntimeWarning)\n",
      "100%|██████████| 9/9 [00:28<00:00,  3.18s/it]\n",
      "100%|██████████| 9/9 [00:00<00:00, 15.11it/s]\n"
     ]
    },
    {
     "name": "stdout",
     "output_type": "stream",
     "text": [
      "CPU times: user 30.9 s, sys: 15.6 s, total: 46.5 s\n",
      "Wall time: 29.5 s\n"
     ]
    }
   ],
   "source": [
    "%time results = model.fit(X, Ks, name, note)"
   ]
  },
  {
   "cell_type": "code",
   "execution_count": 5,
   "metadata": {},
   "outputs": [
    {
     "data": {
      "text/plain": [
       "dict_keys(['time', 'k_predict', 'W', 'H'])"
      ]
     },
     "execution_count": 5,
     "metadata": {},
     "output_type": "execute_result"
    }
   ],
   "source": [
    "results.keys()"
   ]
  },
  {
   "cell_type": "code",
   "execution_count": 6,
   "metadata": {},
   "outputs": [
    {
     "data": {
      "text/plain": [
       "3"
      ]
     },
     "execution_count": 6,
     "metadata": {},
     "output_type": "execute_result"
    }
   ],
   "source": [
    "results[\"k_predict\"]"
   ]
  },
  {
   "cell_type": "code",
   "execution_count": null,
   "metadata": {},
   "outputs": [],
   "source": []
  }
 ],
 "metadata": {
  "kernelspec": {
   "display_name": "TELF_public",
   "language": "python",
   "name": "python3"
  },
  "language_info": {
   "codemirror_mode": {
    "name": "ipython",
    "version": 3
   },
   "file_extension": ".py",
   "mimetype": "text/x-python",
   "name": "python",
   "nbconvert_exporter": "python",
   "pygments_lexer": "ipython3",
   "version": "3.11.8"
  }
 },
 "nbformat": 4,
 "nbformat_minor": 4
}
