{
 "cells": [
  {
   "cell_type": "code",
   "execution_count": 1,
   "metadata": {},
   "outputs": [],
   "source": [
    "import os\n",
    "os.environ[\"OMP_NUM_THREADS\"] = \"1\" # export OMP_NUM_THREADS=1\n",
    "os.environ[\"OPENBLAS_NUM_THREADS\"] = \"1\" # export OPENBLAS_NUM_THREADS=1\n",
    "os.environ[\"MKL_NUM_THREADS\"] = \"1\" # export MKL_NUM_THREADS=1\n",
    "os.environ[\"VECLIB_MAXIMUM_THREADS\"] = \"1\" # export VECLIB_MAXIMUM_THREADS=1\n",
    "os.environ[\"NUMEXPR_NUM_THREADS\"] = \"1\" # export NUMEXPR_NUM_THREADS=1"
   ]
  },
  {
   "cell_type": "code",
   "execution_count": 2,
   "metadata": {},
   "outputs": [
    {
     "name": "stdout",
     "output_type": "stream",
     "text": [
      "n_perturbs: 12\n",
      "perturb_type: uniform\n",
      "n_iters: 100\n",
      "epsilon: 0.015\n",
      "init: nnsvd\n",
      "save_path: ../../results/\n",
      "save_output: True\n",
      "use_gpu: False\n",
      "verbose: True\n",
      "nmf_verbose: False\n",
      "perturb_verbose: False\n",
      "transpose: False\n",
      "collect_output: True\n",
      "sill_thresh: 0.8\n",
      "predict_k: True\n",
      "predict_k_method: sill\n",
      "n_jobs: 80\n",
      "n_nodes: 1\n",
      "nmf: <function nmf at 0x7ff75f906020>\n",
      "nmf_method: nmf_fro_mu\n",
      "nmf_obj_params: {}\n",
      "pruned: True\n",
      "calculate_error: True\n",
      "consensus_mat: True\n",
      "use_consensus_stopping: 0\n",
      "mask: None\n",
      "calculate_pac: True\n",
      "simple_plot: True\n",
      "get_plot_data: False\n",
      "perturb_multiprocessing: False\n",
      "lock: <unlocked _thread.lock object at 0x7ff7600d4d40>\n",
      "total_exec_seconds: 0\n",
      "experiment_name: \n",
      "nmf_params: {'niter': 100, 'use_gpu': False, 'nmf_verbose': False, 'mask': None, 'use_consensus_stopping': 0}\n"
     ]
    },
    {
     "name": "stderr",
     "output_type": "stream",
     "text": [
      "/opt/conda/envs/TELF311/lib/python3.11/site-packages/TELF-0.0.2-py3.11.egg/TELF/factorization/NMFk.py:587: UserWarning: calculate_error is True! Error calculation can make the runtime longer and take up more memory space!\n"
     ]
    }
   ],
   "source": [
    "from TELF.factorization import NMFk\n",
    "\n",
    "params = {\n",
    "    \"n_perturbs\":12,\n",
    "    \"n_iters\":100,\n",
    "    \"epsilon\":0.015,\n",
    "    \"n_jobs\":-1,\n",
    "    \"init\":\"nnsvd\", \n",
    "    \"use_gpu\":False,\n",
    "    \"save_path\":\"../../results/\", \n",
    "    \"save_output\":True,\n",
    "    \"collect_output\":True,\n",
    "    \"predict_k_method\":\"sill\",\n",
    "    \"verbose\":True,\n",
    "    \"nmf_verbose\":False,\n",
    "    \"transpose\":False,\n",
    "    \"sill_thresh\":0.8,\n",
    "    \"pruned\":True,\n",
    "    'nmf_method':'nmf_fro_mu', # nmf_fro_mu, nmf_recommender\n",
    "    \"calculate_error\":True,\n",
    "    \"predict_k\":True,\n",
    "    \"use_consensus_stopping\":0,\n",
    "    \"calculate_pac\":True,\n",
    "    \"consensus_mat\":True,\n",
    "    \"perturb_type\":\"uniform\",\n",
    "    \"perturb_multiprocessing\":False,\n",
    "    \"perturb_verbose\":False,\n",
    "    \"simple_plot\":True\n",
    "}\n",
    "Ks = range(1,9,1)\n",
    "name = \"Example_NMFk\"\n",
    "note = \"This is an example run of NMFk\"\n",
    "\n",
    "model = NMFk(**params)"
   ]
  },
  {
   "cell_type": "code",
   "execution_count": 3,
   "metadata": {},
   "outputs": [
    {
     "name": "stderr",
     "output_type": "stream",
     "text": [
      "/home/maksim/T-ELF/examples/NMFk/../../scripts/generate_X.py:60: UserWarning: Kruskal's theorem probably won't apply, may not have a unique nCPD.\n",
      "  warnings.warn(\"Kruskal's theorem probably won't apply, may not have a unique nCPD.\")\n"
     ]
    }
   ],
   "source": [
    "import sys; sys.path.append(\"../../scripts/\")\n",
    "from generate_X import gen_data,gen_data_sparse\n",
    "\n",
    "Xsp = gen_data_sparse(shape=[100, 200], density=0.01)[\"X\"]\n",
    "X = gen_data(R=4, shape=[100, 200])[\"X\"]"
   ]
  },
  {
   "cell_type": "code",
   "execution_count": 4,
   "metadata": {},
   "outputs": [
    {
     "name": "stderr",
     "output_type": "stream",
     "text": [
      "  0%|          | 0/8 [00:00<?, ?it/s]/opt/conda/envs/TELF311/lib/python3.11/site-packages/numpy/lib/function_base.py:2897: RuntimeWarning: invalid value encountered in divide\n",
      "  c /= stddev[:, None]\n",
      "/opt/conda/envs/TELF311/lib/python3.11/site-packages/numpy/core/fromnumeric.py:3504: RuntimeWarning: Mean of empty slice.\n",
      "  return _methods._mean(a, axis=axis, dtype=dtype,\n",
      "/opt/conda/envs/TELF311/lib/python3.11/site-packages/numpy/core/_methods.py:129: RuntimeWarning: invalid value encountered in scalar divide\n",
      "  ret = ret.dtype.type(ret / rcount)\n",
      "/opt/conda/envs/TELF311/lib/python3.11/site-packages/TELF-0.0.2-py3.11.egg/TELF/factorization/NMFk.py:368: RuntimeWarning: [tELF]: Encountered unknown logging metric \"pac\"\n",
      "100%|██████████| 8/8 [00:05<00:00,  1.35it/s]\n"
     ]
    },
    {
     "name": "stdout",
     "output_type": "stream",
     "text": [
      "CPU times: user 8.48 s, sys: 1.44 s, total: 9.92 s\n",
      "Wall time: 8.44 s\n"
     ]
    }
   ],
   "source": [
    "%time results = model.fit(X, Ks, name, note)"
   ]
  },
  {
   "cell_type": "code",
   "execution_count": 5,
   "metadata": {},
   "outputs": [
    {
     "ename": "NameError",
     "evalue": "name 'results' is not defined",
     "output_type": "error",
     "traceback": [
      "\u001b[0;31m---------------------------------------------------------------------------\u001b[0m",
      "\u001b[0;31mNameError\u001b[0m                                 Traceback (most recent call last)",
      "Cell \u001b[0;32mIn[5], line 1\u001b[0m\n\u001b[0;32m----> 1\u001b[0m \u001b[43mresults\u001b[49m\u001b[38;5;241m.\u001b[39mkeys()\n",
      "\u001b[0;31mNameError\u001b[0m: name 'results' is not defined"
     ]
    }
   ],
   "source": [
    "results.keys()"
   ]
  },
  {
   "cell_type": "code",
   "execution_count": null,
   "metadata": {},
   "outputs": [],
   "source": [
    "results[\"k_predict\"]"
   ]
  },
  {
   "cell_type": "code",
   "execution_count": null,
   "metadata": {},
   "outputs": [],
   "source": []
  }
 ],
 "metadata": {
  "kernelspec": {
   "display_name": "TELF311",
   "language": "python",
   "name": "telf311"
  },
  "language_info": {
   "codemirror_mode": {
    "name": "ipython",
    "version": 3
   },
   "file_extension": ".py",
   "mimetype": "text/x-python",
   "name": "python",
   "nbconvert_exporter": "python",
   "pygments_lexer": "ipython3",
   "version": "3.11.6"
  }
 },
 "nbformat": 4,
 "nbformat_minor": 4
}
