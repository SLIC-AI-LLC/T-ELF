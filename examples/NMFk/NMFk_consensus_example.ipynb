{
 "cells": [
  {
   "cell_type": "code",
   "execution_count": 1,
   "metadata": {},
   "outputs": [
    {
     "name": "stderr",
     "output_type": "stream",
     "text": [
      "../../scripts/generate_X.py:71: UserWarning: Kruskal's theorem probably won't apply, may not have a unique nCPD.\n",
      "  warnings.warn(\"Kruskal's theorem probably won't apply, may not have a unique nCPD.\")\n"
     ]
    }
   ],
   "source": [
    "#\n",
    "# Generate Data\n",
    "#\n",
    "import sys; sys.path.append(\"../../scripts/\")\n",
    "import numpy as np\n",
    "import copy\n",
    "from generate_X import gen_data\n",
    "\n",
    "k,n,m = 3,20,20\n",
    "X = gen_data(R=k, shape=[n,m])[\"X\"]"
   ]
  },
  {
   "cell_type": "code",
   "execution_count": 3,
   "metadata": {},
   "outputs": [
    {
     "name": "stdout",
     "output_type": "stream",
     "text": [
      "Performing NMF with  nmf_fro_mu\n"
     ]
    },
    {
     "name": "stderr",
     "output_type": "stream",
     "text": [
      "/Users/maksim/opt/miniconda3/envs/TELF/lib/python3.8/site-packages/TELF-0.0.1-py3.8.egg/TELF/factorization/NMFk.py:392: UserWarning: calculate_error is True! Error calculation can make the runtime longer and take up more memory space!\n",
      "/Users/maksim/opt/miniconda3/envs/TELF/lib/python3.8/site-packages/TELF-0.0.1-py3.8.egg/TELF/factorization/NMFk.py:396: UserWarning: predict_k is True with pvalue method! Predicting k can make the runtime significantly longer. Consider using predict_k_method='sill'.\n"
     ]
    }
   ],
   "source": [
    "from TELF.factorization import NMFk\n",
    "\n",
    "params = {\n",
    "    \"n_perturbs\":32,\n",
    "    \"n_iters\":1000,\n",
    "    \"epsilon\":0.015,\n",
    "    \"n_jobs\":-1,\n",
    "    \"init\":\"nnsvd\",\n",
    "    \"use_gpu\":False,\n",
    "    \"save_path\":\"../../results/\",\n",
    "    \"save_output\":True,\n",
    "    \"collect_output\":True,\n",
    "    \"predict_k\":True,\n",
    "    \"verbose\":True,\n",
    "    \"transpose\":False,\n",
    "    \"sill_thresh\":0.9,\n",
    "    \"nmf_verbose\":False,\n",
    "    \"nmf_method\":'nmf_fro_mu',\n",
    "    \"pruned\":True,\n",
    "    \"consensus_mat\":True,\n",
    "    \"use_consensus_stopping\":0,\n",
    "    \"mask\":None\n",
    "}\n",
    "model = NMFk(**params)"
   ]
  },
  {
   "cell_type": "code",
   "execution_count": 4,
   "metadata": {},
   "outputs": [
    {
     "name": "stderr",
     "output_type": "stream",
     "text": [
      "[Parallel(n_jobs=8)]: Using backend MultiprocessingBackend with 8 concurrent workers.\n",
      "/Users/maksim/Desktop/Code/telf-public/.eggs/numpy-1.22.0-py3.8-macosx-10.9-x86_64.egg/numpy/lib/function_base.py:2829: RuntimeWarning: invalid value encountered in true_divide\n",
      "  c /= stddev[:, None]\n",
      "[Parallel(n_jobs=8)]: Done   6 out of  10 | elapsed:    9.1s remaining:    6.0s\n",
      "[Parallel(n_jobs=8)]: Done  10 out of  10 | elapsed:   11.3s finished\n"
     ]
    },
    {
     "name": "stdout",
     "output_type": "stream",
     "text": [
      "dict_keys(['time', 'k_predict', 'W', 'H'])\n"
     ]
    }
   ],
   "source": [
    "Ks = range(1,11,1)\n",
    "name = \"Example_consensus\"\n",
    "note = \"This is an example run of NMFk\"\n",
    "results = model.fit(X, Ks, name, note)\n",
    "print(results.keys())"
   ]
  },
  {
   "cell_type": "code",
   "execution_count": 5,
   "metadata": {},
   "outputs": [
    {
     "name": "stdout",
     "output_type": "stream",
     "text": [
      "predicted k = 3\n"
     ]
    }
   ],
   "source": [
    "print(f\"predicted k = {results['k_predict']}\")"
   ]
  },
  {
   "cell_type": "code",
   "execution_count": 14,
   "metadata": {},
   "outputs": [
    {
     "data": {
      "image/png": "[encoded data removed]",
      "text/plain": [
       "<IPython.core.display.Image object>"
      ]
     },
     "execution_count": 14,
     "metadata": {},
     "output_type": "execute_result"
    }
   ],
   "source": [
    "from IPython.display import Image\n",
    "Image(filename='../../results/Example_consensus_32perts_1000iters_0.015eps_nnsvd-init/k_3_con_mat.png') "
   ]
  },
  {
   "cell_type": "code",
   "execution_count": null,
   "metadata": {},
   "outputs": [],
   "source": []
  }
 ],
 "metadata": {
  "kernelspec": {
   "display_name": "TELF",
   "language": "python",
   "name": "python3"
  },
  "language_info": {
   "codemirror_mode": {
    "name": "ipython",
    "version": 3
   },
   "file_extension": ".py",
   "mimetype": "text/x-python",
   "name": "python",
   "nbconvert_exporter": "python",
   "pygments_lexer": "ipython3",
   "version": "3.8.5"
  }
 },
 "nbformat": 4,
 "nbformat_minor": 4
}
