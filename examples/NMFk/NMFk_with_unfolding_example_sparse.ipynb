{
 "cells": [
  {
   "cell_type": "code",
   "execution_count": 1,
   "id": "b5c0ed59",
   "metadata": {},
   "outputs": [],
   "source": [
    "import os\n",
    "os.environ[\"OMP_NUM_THREADS\"] = \"1\" # export OMP_NUM_THREADS=1\n",
    "os.environ[\"OPENBLAS_NUM_THREADS\"] = \"1\" # export OPENBLAS_NUM_THREADS=1\n",
    "os.environ[\"MKL_NUM_THREADS\"] = \"1\" # export MKL_NUM_THREADS=1\n",
    "os.environ[\"VECLIB_MAXIMUM_THREADS\"] = \"1\" # export VECLIB_MAXIMUM_THREADS=1\n",
    "os.environ[\"NUMEXPR_NUM_THREADS\"] = \"1\" # export NUMEXPR_NUM_THREADS=1"
   ]
  },
  {
   "cell_type": "code",
   "execution_count": 2,
   "id": "25c90615",
   "metadata": {},
   "outputs": [
    {
     "data": {
      "text/plain": [
       "(40, 50, 60)"
      ]
     },
     "execution_count": 2,
     "metadata": {},
     "output_type": "execute_result"
    }
   ],
   "source": [
    "import sys;\n",
    "import os \n",
    "sys.path.append(os.path.join(\"..\", \"..\", \"scripts\"))\n",
    "from generate_X import gen_data_sparse\n",
    "X = gen_data_sparse(shape=[40, 50,60], density=1e-3)[\"X\"] \n",
    "X.shape\n",
    "\n",
    "\n"
   ]
  },
  {
   "cell_type": "code",
   "execution_count": 3,
   "id": "c4e5a653",
   "metadata": {},
   "outputs": [
    {
     "name": "stdout",
     "output_type": "stream",
     "text": [
      "n_perturbs: 32\n",
      "perturb_type: uniform\n",
      "n_iters: 1000\n",
      "epsilon: 0.015\n",
      "init: nnsvd\n",
      "save_path: ../../results\n",
      "save_output: True\n",
      "use_gpu: False\n",
      "verbose: True\n",
      "nmf_verbose: False\n",
      "perturb_verbose: False\n",
      "transpose: False\n",
      "collect_output: True\n",
      "sill_thresh: 0.9\n",
      "predict_k: True\n",
      "predict_k_method: WH_sill\n",
      "n_jobs: 12\n",
      "n_nodes: 1\n",
      "nmf: <function nmf at 0x13874a5c0>\n",
      "nmf_method: nmf_fro_mu\n",
      "nmf_obj_params: {}\n",
      "clustering_obj_params: {}\n",
      "pruned: True\n",
      "calculate_error: True\n",
      "consensus_mat: False\n",
      "use_consensus_stopping: 0\n",
      "mask: None\n",
      "calculate_pac: False\n",
      "simple_plot: True\n",
      "get_plot_data: False\n",
      "perturb_multiprocessing: False\n",
      "k_search_method: linear\n",
      "H_sill_thresh: None\n",
      "factor_thresholding: None\n",
      "factor_thresholding_H_regression: None\n",
      "factor_thresholding_obj_params: {}\n",
      "factor_thresholding_H_regression_obj_params: {}\n",
      "clustering_method: kmeans\n",
      "device: [-1]\n",
      "lock: <unlocked _thread.lock object at 0x14f0e1ec0>\n",
      "K_search_settings: {'lock': <unlocked _thread.lock object at 0x159b8bd00>, 'k_search_method': 'linear', 'sill_thresh': 0.9, 'H_sill_thresh': None, 'k_min': -1, 'k_max': inf}\n",
      "total_exec_seconds: 0\n",
      "experiment_name: \n",
      "thresholding_function: None\n",
      "nmf_params: {'niter': 1000, 'use_gpu': False, 'nmf_verbose': False, 'mask': None, 'use_consensus_stopping': 0}\n"
     ]
    },
    {
     "name": "stderr",
     "output_type": "stream",
     "text": [
      "/Users/maksim/Desktop/Code/telf_internal/TELF/factorization/NMFk.py:856: UserWarning: calculate_error is True! Error calculation can make the runtime longer and take up more memory space!\n",
      "  warnings.warn(\n",
      "/Users/maksim/Desktop/Code/telf_internal/TELF/factorization/utilities/organize_n_jobs.py:51: UserWarning: No GPU found! Using CPUs\n",
      "  warnings.warn(\"No GPU found! Using CPUs\")\n"
     ]
    }
   ],
   "source": [
    "from TELF.factorization import NMFk\n",
    "params = {\n",
    "    \"n_perturbs\": 32,\n",
    "    \"n_iters\": 1000,\n",
    "    \"epsilon\": 0.015,\n",
    "    \"n_jobs\": -1,\n",
    "    \"init\": \"nnsvd\",  # could be \"random\" or \"nnsvd\"\n",
    "    \"use_gpu\": True,\n",
    "    \"save_path\": os.path.join(\"..\", \"..\", \"results\"),  # change this if needed\n",
    "    \"save_output\": True,\n",
    "    \"collect_output\": True,\n",
    "    \"predict_k\": True,\n",
    "    \"verbose\": True,\n",
    "    \"transpose\": False,\n",
    "    \"sill_thresh\": 0.9,\n",
    "    \"nmf_verbose\": False,\n",
    "    \"nmf_method\": 'nmf_fro_mu'\n",
    "\n",
    "}\n",
    "model = NMFk(**params)\n"
   ]
  },
  {
   "cell_type": "code",
   "execution_count": 4,
   "id": "336b7af1",
   "metadata": {},
   "outputs": [
    {
     "name": "stdout",
     "output_type": "stream",
     "text": [
      "Working on unfolding along axis= 0\n",
      "Unfolded data shape = (40, 3000)\n"
     ]
    },
    {
     "name": "stderr",
     "output_type": "stream",
     "text": [
      "  0%|          | 0/4 [00:00<?, ?it/s]/Users/maksim/miniconda3/envs/TELF/lib/python3.11/site-packages/numpy/_core/fromnumeric.py:3596: RuntimeWarning: Mean of empty slice.\n",
      "  return _methods._mean(a, axis=axis, dtype=dtype,\n",
      "/Users/maksim/miniconda3/envs/TELF/lib/python3.11/site-packages/numpy/_core/_methods.py:138: RuntimeWarning: invalid value encountered in scalar divide\n",
      "  ret = ret.dtype.type(ret / rcount)\n",
      "100%|██████████| 4/4 [00:06<00:00,  1.72s/it]\n"
     ]
    },
    {
     "name": "stdout",
     "output_type": "stream",
     "text": [
      "predicted k for unfolding= 0  is  3\n",
      "Working on unfolding along axis= 1\n",
      "Unfolded data shape = (50, 2400)\n"
     ]
    },
    {
     "name": "stderr",
     "output_type": "stream",
     "text": [
      "  0%|          | 0/4 [00:00<?, ?it/s]/Users/maksim/miniconda3/envs/TELF/lib/python3.11/site-packages/numpy/_core/fromnumeric.py:3596: RuntimeWarning: Mean of empty slice.\n",
      "  return _methods._mean(a, axis=axis, dtype=dtype,\n",
      "/Users/maksim/miniconda3/envs/TELF/lib/python3.11/site-packages/numpy/_core/_methods.py:138: RuntimeWarning: invalid value encountered in scalar divide\n",
      "  ret = ret.dtype.type(ret / rcount)\n",
      "100%|██████████| 4/4 [00:10<00:00,  2.66s/it]\n"
     ]
    },
    {
     "name": "stdout",
     "output_type": "stream",
     "text": [
      "predicted k for unfolding= 1  is  5\n",
      "Working on unfolding along axis= 2\n",
      "Unfolded data shape = (60, 2000)\n"
     ]
    },
    {
     "name": "stderr",
     "output_type": "stream",
     "text": [
      "  0%|          | 0/4 [00:00<?, ?it/s]/Users/maksim/miniconda3/envs/TELF/lib/python3.11/site-packages/numpy/_core/fromnumeric.py:3596: RuntimeWarning: Mean of empty slice.\n",
      "  return _methods._mean(a, axis=axis, dtype=dtype,\n",
      "/Users/maksim/miniconda3/envs/TELF/lib/python3.11/site-packages/numpy/_core/_methods.py:138: RuntimeWarning: invalid value encountered in scalar divide\n",
      "  ret = ret.dtype.type(ret / rcount)\n",
      "100%|██████████| 4/4 [00:06<00:00,  1.68s/it]"
     ]
    },
    {
     "name": "stdout",
     "output_type": "stream",
     "text": [
      "predicted k for unfolding= 2  is  2\n"
     ]
    },
    {
     "name": "stderr",
     "output_type": "stream",
     "text": [
      "\n"
     ]
    }
   ],
   "source": [
    "from TELF.pre_processing.Beaver import tenmat\n",
    "#define K range for each unfolding\n",
    "Ks = [range(2, 6, 1),range(2, 6,1),range(2,6,1)]\n",
    "for i in range(len(X.shape)): #for each unfolding\n",
    "    print('Working on unfolding along axis=',i)\n",
    "    X1  = tenmat.unfold(X,i).to_scipy_sparse().tocsr() #perform unfolding here\n",
    "    print('Unfolded data shape =', X1.shape)\n",
    "    name = 'sparse_unfolding_along_axis='+str(i)\n",
    "    note = \"This is an example run of NMFk on each unfolding\"\n",
    "    results = model.fit(X1, Ks[i], name, note)\n",
    "    print('predicted k for unfolding=',i,' is ',results['k_predict'])"
   ]
  },
  {
   "cell_type": "code",
   "execution_count": null,
   "id": "26fc17f4",
   "metadata": {},
   "outputs": [],
   "source": []
  }
 ],
 "metadata": {
  "kernelspec": {
   "display_name": "Python 3",
   "language": "python",
   "name": "python3"
  },
  "language_info": {
   "codemirror_mode": {
    "name": "ipython",
    "version": 3
   },
   "file_extension": ".py",
   "mimetype": "text/x-python",
   "name": "python",
   "nbconvert_exporter": "python",
   "pygments_lexer": "ipython3",
   "version": "3.11.10"
  }
 },
 "nbformat": 4,
 "nbformat_minor": 5
}
