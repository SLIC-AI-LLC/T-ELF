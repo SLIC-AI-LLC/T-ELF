{
 "cells": [
  {
   "cell_type": "code",
   "execution_count": 1,
   "id": "dcb06f77-720e-4ac4-a512-638e77f0464c",
   "metadata": {},
   "outputs": [
    {
     "data": {
      "text/plain": [
       "(40, 50, 60)"
      ]
     },
     "execution_count": 1,
     "metadata": {},
     "output_type": "execute_result"
    }
   ],
   "source": [
    "import sys;\n",
    "sys.path.append(\"../../scripts/\")\n",
    "from generate_X import gen_data_sparse\n",
    "X = gen_data_sparse(shape=[40, 50,60], density=1e-3)[\"X\"] \n",
    "X.shape\n",
    "\n",
    "\n"
   ]
  },
  {
   "cell_type": "code",
   "execution_count": 2,
   "id": "67b02066-2627-466e-a852-533595688cdf",
   "metadata": {},
   "outputs": [
    {
     "name": "stdout",
     "output_type": "stream",
     "text": [
      "Performing NMF with  nmf_fro_mu\n"
     ]
    },
    {
     "name": "stderr",
     "output_type": "stream",
     "text": [
      "/Users/maksim/opt/miniconda3/envs/TELF/lib/python3.8/site-packages/TELF-0.0.1-py3.8.egg/TELF/factorization/NMFk.py:392: UserWarning: calculate_error is True! Error calculation can make the runtime longer and take up more memory space!\n",
      "/Users/maksim/opt/miniconda3/envs/TELF/lib/python3.8/site-packages/TELF-0.0.1-py3.8.egg/TELF/factorization/NMFk.py:396: UserWarning: predict_k is True with pvalue method! Predicting k can make the runtime significantly longer. Consider using predict_k_method='sill'.\n",
      "/Users/maksim/opt/miniconda3/envs/TELF/lib/python3.8/site-packages/TELF-0.0.1-py3.8.egg/TELF/factorization/utilities/organize_n_jobs.py:10: UserWarning: No GPU found! Using CPUs\n"
     ]
    }
   ],
   "source": [
    "from TELF.factorization import NMFk\n",
    "params = {\n",
    "    \"n_perturbs\": 32,\n",
    "    \"n_iters\": 1000,\n",
    "    \"epsilon\": 0.015,\n",
    "    \"n_jobs\": -1,\n",
    "    \"init\": \"nnsvd\",  # could be \"random\" or \"nnsvd\"\n",
    "    \"use_gpu\": True,\n",
    "    \"save_path\": \"../../results/\",  # change this if needed\n",
    "    \"save_output\": True,\n",
    "    \"collect_output\": True,\n",
    "    \"predict_k\": True,\n",
    "    \"verbose\": True,\n",
    "    \"transpose\": False,\n",
    "    \"sill_thresh\": 0.9,\n",
    "    \"nmf_verbose\": False,\n",
    "    \"nmf_method\": 'nmf_fro_mu'\n",
    "\n",
    "}\n",
    "model = NMFk(**params)\n"
   ]
  },
  {
   "cell_type": "code",
   "execution_count": 3,
   "id": "7483c391-5084-41f0-9902-fe10ec665293",
   "metadata": {},
   "outputs": [
    {
     "name": "stdout",
     "output_type": "stream",
     "text": [
      "Working on unfolding along axis= 0\n",
      "Unfolded data shape = (40, 3000)\n"
     ]
    },
    {
     "name": "stderr",
     "output_type": "stream",
     "text": [
      "[Parallel(n_jobs=4)]: Using backend MultiprocessingBackend with 4 concurrent workers.\n",
      "[Parallel(n_jobs=4)]: Done   2 out of   4 | elapsed:    6.3s remaining:    6.3s\n",
      "[Parallel(n_jobs=4)]: Done   4 out of   4 | elapsed:    8.3s finished\n"
     ]
    },
    {
     "name": "stdout",
     "output_type": "stream",
     "text": [
      "predicted k for unfolding= 0  is  5\n",
      "Working on unfolding along axis= 1\n",
      "Unfolded data shape = (50, 2400)\n"
     ]
    },
    {
     "name": "stderr",
     "output_type": "stream",
     "text": [
      "[Parallel(n_jobs=4)]: Using backend MultiprocessingBackend with 4 concurrent workers.\n",
      "[Parallel(n_jobs=4)]: Done   2 out of   4 | elapsed:    5.8s remaining:    5.8s\n",
      "[Parallel(n_jobs=4)]: Done   4 out of   4 | elapsed:    7.9s finished\n"
     ]
    },
    {
     "name": "stdout",
     "output_type": "stream",
     "text": [
      "predicted k for unfolding= 1  is  5\n",
      "Working on unfolding along axis= 2\n",
      "Unfolded data shape = (60, 2000)\n"
     ]
    },
    {
     "name": "stderr",
     "output_type": "stream",
     "text": [
      "[Parallel(n_jobs=4)]: Using backend MultiprocessingBackend with 4 concurrent workers.\n",
      "[Parallel(n_jobs=4)]: Done   2 out of   4 | elapsed:    5.5s remaining:    5.5s\n",
      "[Parallel(n_jobs=4)]: Done   4 out of   4 | elapsed:    7.6s finished\n"
     ]
    },
    {
     "name": "stdout",
     "output_type": "stream",
     "text": [
      "predicted k for unfolding= 2  is  5\n"
     ]
    }
   ],
   "source": [
    "\n",
    "from TELF.factorization.decompositions.utilities import data_reshaping\n",
    "#define K range for each unfolding\n",
    "Ks = [range(2, 6, 1),range(2, 6,1),range(2,6,1)]\n",
    "for i in range(len(X.shape)): #for each unfolding\n",
    "    print('Working on unfolding along axis=',i)\n",
    "    X1  = data_reshaping.unfold(X,i).to_scipy_sparse().tocsr() #perform unfolding here\n",
    "    print('Unfolded data shape =', X1.shape)\n",
    "    name = 'sparse_unfolding_along_axis='+str(i)\n",
    "    note = \"This is an example run of NMFk on each unfolding\"\n",
    "    results = model.fit(X1, Ks[i], name, note)\n",
    "    print('predicted k for unfolding=',i,' is ',results['k_predict'])\n",
    "\n",
    "\n",
    "\n"
   ]
  },
  {
   "cell_type": "code",
   "execution_count": null,
   "id": "5e45f6a7-c4e1-4ede-b6a5-b3c30ce6b368",
   "metadata": {},
   "outputs": [],
   "source": []
  }
 ],
 "metadata": {
  "kernelspec": {
   "display_name": "TELF",
   "language": "python",
   "name": "python3"
  },
  "language_info": {
   "codemirror_mode": {
    "name": "ipython",
    "version": 3
   },
   "file_extension": ".py",
   "mimetype": "text/x-python",
   "name": "python",
   "nbconvert_exporter": "python",
   "pygments_lexer": "ipython3",
   "version": "3.8.5"
  }
 },
 "nbformat": 4,
 "nbformat_minor": 5
}
