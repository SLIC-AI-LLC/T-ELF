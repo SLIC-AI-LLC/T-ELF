{
 "cells": [
  {
   "cell_type": "code",
   "execution_count": 1,
   "id": "87b6f579",
   "metadata": {},
   "outputs": [
    {
     "name": "stdout",
     "output_type": "stream",
     "text": [
      "Requirement already satisfied: mat73 in /Users/maksim/opt/miniconda3/envs/TELF/lib/python3.8/site-packages (0.62)\n",
      "Requirement already satisfied: h5py in /Users/maksim/Desktop/Code/telf-public/.eggs/h5py-3.10.0-py3.8-macosx-10.9-x86_64.egg (from mat73) (3.10.0)\n",
      "Requirement already satisfied: numpy in /Users/maksim/Desktop/Code/telf-public/.eggs/numpy-1.22.0-py3.8-macosx-10.9-x86_64.egg (from mat73) (1.22.0)\n"
     ]
    }
   ],
   "source": [
    "!pip install mat73"
   ]
  },
  {
   "cell_type": "code",
   "execution_count": 2,
   "metadata": {},
   "outputs": [
    {
     "data": {
      "text/plain": [
       "(96, 21)"
      ]
     },
     "execution_count": 2,
     "metadata": {},
     "output_type": "execute_result"
    }
   ],
   "source": [
    "#load data here\n",
    "import mat73 \n",
    "X = mat73.loadmat('../../data/wtsi.mat')['X'].astype('float32')\n",
    "X.shape"
   ]
  },
  {
   "cell_type": "code",
   "execution_count": 3,
   "metadata": {},
   "outputs": [
    {
     "data": {
      "text/plain": [
       "(97, 22)"
      ]
     },
     "execution_count": 3,
     "metadata": {},
     "output_type": "execute_result"
    }
   ],
   "source": [
    "# for testing prunining\n",
    "import numpy as np\n",
    "X = np.hstack([X, np.zeros((X.shape[0], 1))])\n",
    "X = np.vstack([X, np.zeros((1, X.shape[1]))])\n",
    "X.shape"
   ]
  },
  {
   "cell_type": "code",
   "execution_count": 4,
   "metadata": {},
   "outputs": [
    {
     "name": "stdout",
     "output_type": "stream",
     "text": [
      "Performing NMF with  nmf_kl_mu\n"
     ]
    },
    {
     "name": "stderr",
     "output_type": "stream",
     "text": [
      "/Users/maksim/opt/miniconda3/envs/TELF/lib/python3.8/site-packages/TELF-0.0.1-py3.8.egg/TELF/factorization/NMFk.py:392: UserWarning: calculate_error is True! Error calculation can make the runtime longer and take up more memory space!\n",
      "/Users/maksim/opt/miniconda3/envs/TELF/lib/python3.8/site-packages/TELF-0.0.1-py3.8.egg/TELF/factorization/NMFk.py:396: UserWarning: predict_k is True with pvalue method! Predicting k can make the runtime significantly longer. Consider using predict_k_method='sill'.\n"
     ]
    }
   ],
   "source": [
    "from TELF.factorization import NMFk\n",
    "params = {\n",
    "    \"n_perturbs\":36,\n",
    "    \"n_iters\":1000,\n",
    "    \"epsilon\":0.015,\n",
    "    \"n_jobs\":-1,\n",
    "    \"init\":\"nnsvd\", \n",
    "    \"use_gpu\":False,\n",
    "    \"save_path\":\"../../results/\", \\\n",
    "    \"save_output\":True,\n",
    "    \"collect_output\":True,\n",
    "    \"predict_k\":True,\n",
    "    \"verbose\":True,\n",
    "    \"transpose\":False,\n",
    "    \"sill_thresh\":0.9,\n",
    "    \"nmf_verbose\":False,\n",
    "    \"nmf_method\":'nmf_kl_mu',\n",
    "    'pruned':True,\n",
    "    \"consensus_mat\":True,\n",
    "    \"use_consensus_stopping\":False,\n",
    "\n",
    "}\n",
    "model = NMFk(**params)\n",
    "\n",
    "Ks = range(1,10,1)"
   ]
  },
  {
   "cell_type": "code",
   "execution_count": 5,
   "metadata": {},
   "outputs": [
    {
     "name": "stderr",
     "output_type": "stream",
     "text": [
      "/Users/maksim/opt/miniconda3/envs/TELF/lib/python3.8/site-packages/TELF-0.0.1-py3.8.egg/TELF/factorization/NMFk.py:460: UserWarning: X is data type float64. Whic is not float32. Higher precision will result in significantly longer runtime!\n",
      "[Parallel(n_jobs=8)]: Using backend MultiprocessingBackend with 8 concurrent workers.\n",
      "/Users/maksim/Desktop/Code/telf-public/.eggs/numpy-1.22.0-py3.8-macosx-10.9-x86_64.egg/numpy/lib/function_base.py:2829: RuntimeWarning: invalid value encountered in true_divide\n",
      "  c /= stddev[:, None]\n",
      "[Parallel(n_jobs=8)]: Done   4 out of   9 | elapsed:    8.1s remaining:   10.1s\n",
      "[Parallel(n_jobs=8)]: Done   9 out of   9 | elapsed:   13.2s finished\n"
     ]
    }
   ],
   "source": [
    "name = \"wtsi\"  #name of folder to save resutls\n",
    "note = \"This is an example run of NMFk on wtsi\"\n",
    "results = model.fit(X, Ks, name, note)"
   ]
  },
  {
   "cell_type": "code",
   "execution_count": 6,
   "metadata": {},
   "outputs": [
    {
     "name": "stdout",
     "output_type": "stream",
     "text": [
      "dict_keys(['time', 'k_predict', 'W', 'H'])\n",
      "Estimated k= 4\n"
     ]
    }
   ],
   "source": [
    "print(results.keys())\n",
    "print('Estimated k=',results['k_predict'])"
   ]
  },
  {
   "cell_type": "code",
   "execution_count": 7,
   "metadata": {},
   "outputs": [
    {
     "data": {
      "text/plain": [
       "((97, 4), (4, 22))"
      ]
     },
     "execution_count": 7,
     "metadata": {},
     "output_type": "execute_result"
    }
   ],
   "source": [
    "results[\"W\"].shape, results[\"H\"].shape"
   ]
  },
  {
   "cell_type": "code",
   "execution_count": null,
   "metadata": {},
   "outputs": [],
   "source": []
  }
 ],
 "metadata": {
  "kernelspec": {
   "display_name": "TELF",
   "language": "python",
   "name": "python3"
  },
  "language_info": {
   "codemirror_mode": {
    "name": "ipython",
    "version": 3
   },
   "file_extension": ".py",
   "mimetype": "text/x-python",
   "name": "python",
   "nbconvert_exporter": "python",
   "pygments_lexer": "ipython3",
   "version": "3.8.5"
  }
 },
 "nbformat": 4,
 "nbformat_minor": 5
}
