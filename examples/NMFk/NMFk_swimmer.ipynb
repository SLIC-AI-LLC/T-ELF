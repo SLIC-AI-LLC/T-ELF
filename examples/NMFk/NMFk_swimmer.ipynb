{
 "cells": [
  {
   "cell_type": "code",
   "execution_count": null,
   "metadata": {},
   "outputs": [],
   "source": [
    "import os\n",
    "os.environ[\"OMP_NUM_THREADS\"] = \"1\" # export OMP_NUM_THREADS=1\n",
    "os.environ[\"OPENBLAS_NUM_THREADS\"] = \"1\" # export OPENBLAS_NUM_THREADS=1\n",
    "os.environ[\"MKL_NUM_THREADS\"] = \"1\" # export MKL_NUM_THREADS=1\n",
    "os.environ[\"VECLIB_MAXIMUM_THREADS\"] = \"1\" # export VECLIB_MAXIMUM_THREADS=1\n",
    "os.environ[\"NUMEXPR_NUM_THREADS\"] = \"1\" # export NUMEXPR_NUM_THREADS=1"
   ]
  },
  {
   "cell_type": "code",
   "execution_count": 1,
   "metadata": {},
   "outputs": [
    {
     "name": "stdout",
     "output_type": "stream",
     "text": [
      "Collecting mat73\n",
      "  Obtaining dependency information for mat73 from https://files.pythonhosted.org/packages/d4/c3/123c118e31cd58f5db333ae2750da13da0d87707adac2255357de9bb5f87/mat73-0.62-py3-none-any.whl.metadata\n",
      "  Downloading mat73-0.62-py3-none-any.whl.metadata (3.6 kB)\n",
      "Requirement already satisfied: h5py in /Users/maksim/Desktop/Code/telf-public/.eggs/h5py-3.10.0-py3.8-macosx-10.9-x86_64.egg (from mat73) (3.10.0)\n",
      "Requirement already satisfied: numpy in /Users/maksim/Desktop/Code/telf-public/.eggs/numpy-1.22.0-py3.8-macosx-10.9-x86_64.egg (from mat73) (1.22.0)\n",
      "Downloading mat73-0.62-py3-none-any.whl (19 kB)\n",
      "Installing collected packages: mat73\n",
      "Successfully installed mat73-0.62\n"
     ]
    }
   ],
   "source": [
    "!pip install mat73"
   ]
  },
  {
   "cell_type": "code",
   "execution_count": 2,
   "metadata": {},
   "outputs": [],
   "source": [
    "from scipy.io import loadmat \n",
    "X = loadmat('../../data/swimmer.mat')['V'].astype('float32')"
   ]
  },
  {
   "cell_type": "code",
   "execution_count": 4,
   "metadata": {},
   "outputs": [
    {
     "name": "stdout",
     "output_type": "stream",
     "text": [
      "Performing NMF with  nmf_kl_mu\n"
     ]
    },
    {
     "name": "stderr",
     "output_type": "stream",
     "text": [
      "/Users/maksim/opt/miniconda3/envs/TELF/lib/python3.8/site-packages/TELF-0.0.1-py3.8.egg/TELF/factorization/NMFk.py:392: UserWarning: calculate_error is True! Error calculation can make the runtime longer and take up more memory space!\n",
      "/Users/maksim/opt/miniconda3/envs/TELF/lib/python3.8/site-packages/TELF-0.0.1-py3.8.egg/TELF/factorization/NMFk.py:396: UserWarning: predict_k is True with pvalue method! Predicting k can make the runtime significantly longer. Consider using predict_k_method='sill'.\n",
      "/Users/maksim/opt/miniconda3/envs/TELF/lib/python3.8/site-packages/TELF-0.0.1-py3.8.egg/TELF/factorization/utilities/organize_n_jobs.py:10: UserWarning: No GPU found! Using CPUs\n"
     ]
    }
   ],
   "source": [
    "from TELF.factorization import NMFk\n",
    "params = {\n",
    "        \"n_perturbs\":64,\n",
    "        \"n_iters\":2000,\n",
    "        \"epsilon\":0.015,\n",
    "        \"n_jobs\":-1,\n",
    "        \"init\":\"random\",\n",
    "        \"use_gpu\":True,\n",
    "        \"save_path\":\"../results/\",\n",
    "        \"save_output\":True,\n",
    "        \"collect_output\":True,\n",
    "        \"predict_k\":True,\n",
    "        \"verbose\":True,\n",
    "        \"transpose\":False,\n",
    "        \"sill_thresh\":0.6,\n",
    "        \"nmf_verbose\":False,\n",
    "        \"nmf_method\":'nmf_kl_mu',\n",
    "        \"pruned\":False,\n",
    "        \"consensus_mat\":False,\n",
    "        \"use_consensus_stopping\":False,\n",
    "        \"mask\":None\n",
    "\n",
    "}\n",
    "model = NMFk(**params)\n",
    "Ks = range(14,18,1)"
   ]
  },
  {
   "cell_type": "code",
   "execution_count": 5,
   "metadata": {},
   "outputs": [
    {
     "name": "stderr",
     "output_type": "stream",
     "text": [
      "[Parallel(n_jobs=4)]: Using backend MultiprocessingBackend with 4 concurrent workers.\n",
      "[Parallel(n_jobs=4)]: Done   2 out of   4 | elapsed:  6.5min remaining:  6.5min\n",
      "[Parallel(n_jobs=4)]: Done   4 out of   4 | elapsed:  6.7min finished\n"
     ]
    }
   ],
   "source": [
    "name = \"swimmer\"\n",
    "note = \"This is an example run of NMFk on swimmer dataset\"\n",
    "results = model.fit(X, Ks, name, note)"
   ]
  },
  {
   "cell_type": "code",
   "execution_count": 6,
   "metadata": {},
   "outputs": [
    {
     "name": "stdout",
     "output_type": "stream",
     "text": [
      "dict_keys(['time', 'k_predict', 'W', 'H'])\n",
      "Estimated k= 16\n"
     ]
    }
   ],
   "source": [
    "print(results.keys())\n",
    "print('Estimated k=',results['k_predict'])"
   ]
  },
  {
   "cell_type": "code",
   "execution_count": null,
   "metadata": {},
   "outputs": [],
   "source": []
  }
 ],
 "metadata": {
  "kernelspec": {
   "display_name": "TELF",
   "language": "python",
   "name": "python3"
  },
  "language_info": {
   "codemirror_mode": {
    "name": "ipython",
    "version": 3
   },
   "file_extension": ".py",
   "mimetype": "text/x-python",
   "name": "python",
   "nbconvert_exporter": "python",
   "pygments_lexer": "ipython3",
   "version": "3.8.5"
  }
 },
 "nbformat": 4,
 "nbformat_minor": 5
}
