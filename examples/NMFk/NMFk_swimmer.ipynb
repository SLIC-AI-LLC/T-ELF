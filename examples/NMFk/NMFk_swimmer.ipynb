{
 "cells": [
  {
   "cell_type": "code",
   "execution_count": 1,
   "id": "e5e55fc6",
   "metadata": {},
   "outputs": [
    {
     "name": "stdout",
     "output_type": "stream",
     "text": [
      "\u001b[33mDEPRECATION: Loading egg at /Users/maksim/miniconda3/envs/TELF/lib/python3.11/site-packages/rapidfuzz-3.0.0-py3.11-macosx-11.1-arm64.egg is deprecated. pip 24.3 will enforce this behaviour change. A possible replacement is to use pip for package installation. Discussion can be found at https://github.com/pypa/pip/issues/12330\u001b[0m\u001b[33m\n",
      "\u001b[0mRequirement already satisfied: mat73 in /Users/maksim/miniconda3/envs/TELF/lib/python3.11/site-packages (0.65)\n",
      "Requirement already satisfied: h5py in /Users/maksim/miniconda3/envs/TELF/lib/python3.11/site-packages (from mat73) (3.12.1)\n",
      "Requirement already satisfied: numpy in /Users/maksim/miniconda3/envs/TELF/lib/python3.11/site-packages (from mat73) (2.0.0)\n"
     ]
    }
   ],
   "source": [
    "!pip install mat73"
   ]
  },
  {
   "cell_type": "code",
   "execution_count": 2,
   "id": "a39cfafa",
   "metadata": {},
   "outputs": [
    {
     "data": {
      "text/plain": [
       "(1024, 256)"
      ]
     },
     "execution_count": 2,
     "metadata": {},
     "output_type": "execute_result"
    }
   ],
   "source": [
    "from scipy.io import loadmat \n",
    "import os \n",
    "X = loadmat(os.path.join(\"..\", \"..\", \"data\", \"swimmer.mat\"))['V'].astype('float32')\n",
    "X.shape"
   ]
  },
  {
   "cell_type": "code",
   "execution_count": 3,
   "id": "41b951b3",
   "metadata": {},
   "outputs": [
    {
     "name": "stdout",
     "output_type": "stream",
     "text": [
      "n_perturbs: 64\n",
      "perturb_type: uniform\n",
      "n_iters: 2000\n",
      "epsilon: 0.015\n",
      "init: random\n",
      "save_path: ../../results\n",
      "save_output: True\n",
      "use_gpu: False\n",
      "verbose: True\n",
      "nmf_verbose: False\n",
      "perturb_verbose: False\n",
      "transpose: False\n",
      "collect_output: True\n",
      "sill_thresh: 0.6\n",
      "predict_k: True\n",
      "predict_k_method: WH_sill\n",
      "n_jobs: 1\n",
      "n_nodes: 1\n",
      "nmf: <function nmf at 0x12b50fce0>\n",
      "nmf_method: nmf_kl_mu\n",
      "nmf_obj_params: {}\n",
      "clustering_obj_params: {}\n",
      "pruned: False\n",
      "calculate_error: True\n",
      "consensus_mat: False\n",
      "use_consensus_stopping: False\n",
      "mask: None\n",
      "calculate_pac: False\n",
      "simple_plot: True\n",
      "get_plot_data: False\n",
      "perturb_multiprocessing: False\n",
      "k_search_method: linear\n",
      "H_sill_thresh: None\n",
      "factor_thresholding: None\n",
      "factor_thresholding_H_regression: None\n",
      "factor_thresholding_obj_params: {}\n",
      "factor_thresholding_H_regression_obj_params: {}\n",
      "clustering_method: kmeans\n",
      "device: [-1]\n",
      "lock: <unlocked _thread.lock object at 0x14d75bac0>\n",
      "K_search_settings: {'lock': <unlocked _thread.lock object at 0x14d7da4c0>, 'k_search_method': 'linear', 'sill_thresh': 0.6, 'H_sill_thresh': None, 'k_min': -1, 'k_max': inf}\n",
      "total_exec_seconds: 0\n",
      "experiment_name: \n",
      "thresholding_function: None\n",
      "nmf_params: {'niter': 2000, 'use_gpu': False, 'nmf_verbose': False, 'mask': None, 'use_consensus_stopping': False}\n"
     ]
    },
    {
     "name": "stderr",
     "output_type": "stream",
     "text": [
      "/Users/maksim/Desktop/Code/telf_internal/TELF/factorization/NMFk.py:856: UserWarning: calculate_error is True! Error calculation can make the runtime longer and take up more memory space!\n",
      "  warnings.warn(\n",
      "/Users/maksim/Desktop/Code/telf_internal/TELF/factorization/utilities/organize_n_jobs.py:51: UserWarning: No GPU found! Using CPUs\n",
      "  warnings.warn(\"No GPU found! Using CPUs\")\n"
     ]
    }
   ],
   "source": [
    "from TELF.factorization import NMFk\n",
    "params = {\n",
    "        \"n_perturbs\":64,\n",
    "        \"n_iters\":2000,\n",
    "        \"epsilon\":0.015,\n",
    "        \"n_jobs\":1,\n",
    "        \"init\":\"random\",\n",
    "        \"use_gpu\":True,\n",
    "        \"save_path\":os.path.join(\"..\", \"..\", \"results\"),\n",
    "        \"save_output\":True,\n",
    "        \"collect_output\":True,\n",
    "        \"predict_k\":True,\n",
    "        \"verbose\":True,\n",
    "        \"transpose\":False,\n",
    "        \"sill_thresh\":0.6,\n",
    "        \"nmf_verbose\":False,\n",
    "        \"nmf_method\":'nmf_kl_mu',\n",
    "        \"pruned\":False,\n",
    "        \"consensus_mat\":False,\n",
    "        \"use_consensus_stopping\":False,\n",
    "        \"mask\":None,\n",
    "}\n",
    "model = NMFk(**params)\n",
    "Ks = range(1,18,1)"
   ]
  },
  {
   "cell_type": "code",
   "execution_count": 4,
   "id": "cf26e5ce",
   "metadata": {},
   "outputs": [
    {
     "name": "stderr",
     "output_type": "stream",
     "text": [
      "  0%|          | 0/17 [00:00<?, ?it/s]"
     ]
    }
   ],
   "source": [
    "name = \"swimmer\"\n",
    "note = \"This is an example run of NMFk on swimmer dataset\"\n",
    "results = model.fit(X, Ks, name, note)"
   ]
  },
  {
   "cell_type": "code",
   "execution_count": null,
   "id": "fee2c481",
   "metadata": {},
   "outputs": [
    {
     "name": "stdout",
     "output_type": "stream",
     "text": [
      "dict_keys(['time', 'k_predict', 'W', 'H'])\n",
      "Estimated k= 16\n"
     ]
    }
   ],
   "source": [
    "print(results.keys())\n",
    "print('Estimated k=',results['k_predict'])"
   ]
  },
  {
   "cell_type": "code",
   "execution_count": null,
   "id": "bd691126",
   "metadata": {},
   "outputs": [],
   "source": []
  }
 ],
 "metadata": {
  "kernelspec": {
   "display_name": "TELF_public",
   "language": "python",
   "name": "python3"
  },
  "language_info": {
   "codemirror_mode": {
    "name": "ipython",
    "version": 3
   },
   "file_extension": ".py",
   "mimetype": "text/x-python",
   "name": "python",
   "nbconvert_exporter": "python",
   "pygments_lexer": "ipython3",
   "version": "3.11.10"
  }
 },
 "nbformat": 4,
 "nbformat_minor": 5
}
