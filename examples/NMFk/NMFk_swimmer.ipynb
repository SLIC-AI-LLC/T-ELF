{
 "cells": [
  {
   "cell_type": "code",
   "execution_count": 1,
   "id": "e5e55fc6",
   "metadata": {},
   "outputs": [
    {
     "name": "stdout",
     "output_type": "stream",
     "text": [
      "\u001b[33mWARNING: Value for scheme.headers does not match. Please report this to <https://github.com/pypa/pip/issues/9617>\n",
      "distutils: /opt/conda/include/python3.8/UNKNOWN\n",
      "sysconfig: /opt/conda/include/python3.8\u001b[0m\n",
      "\u001b[33mWARNING: Additional context:\n",
      "user = False\n",
      "home = None\n",
      "root = None\n",
      "prefix = None\u001b[0m\n",
      "Requirement already satisfied: mat73 in /opt/conda/lib/python3.8/site-packages (0.62)\n",
      "Requirement already satisfied: h5py in /opt/conda/lib/python3.8/site-packages (from mat73) (2.10.0)\n",
      "Requirement already satisfied: numpy in /opt/conda/lib/python3.8/site-packages (from mat73) (1.19.5)\n",
      "Requirement already satisfied: six in /opt/conda/lib/python3.8/site-packages (from h5py->mat73) (1.15.0)\n",
      "\u001b[33mWARNING: Value for scheme.headers does not match. Please report this to <https://github.com/pypa/pip/issues/9617>\n",
      "distutils: /opt/conda/include/python3.8/UNKNOWN\n",
      "sysconfig: /opt/conda/include/python3.8\u001b[0m\n",
      "\u001b[33mWARNING: Additional context:\n",
      "user = False\n",
      "home = None\n",
      "root = None\n",
      "prefix = None\u001b[0m\n",
      "\u001b[33mWARNING: You are using pip version 21.1; however, version 23.3.1 is available.\n",
      "You should consider upgrading via the '/opt/conda/bin/python3.8 -m pip install --upgrade pip' command.\u001b[0m\n"
     ]
    }
   ],
   "source": [
    "!pip install mat73"
   ]
  },
  {
   "cell_type": "code",
   "execution_count": 2,
   "id": "a39cfafa",
   "metadata": {},
   "outputs": [],
   "source": [
    "from scipy.io import loadmat \n",
    "X = loadmat('../../data/swimmer.mat')['V'].astype('float32')"
   ]
  },
  {
   "cell_type": "code",
   "execution_count": 3,
   "id": "41b951b3",
   "metadata": {},
   "outputs": [
    {
     "name": "stdout",
     "output_type": "stream",
     "text": [
      "n_perturbs: 64\n",
      "perturb_type: uniform\n",
      "n_iters: 2000\n",
      "epsilon: 0.015\n",
      "init: random\n",
      "save_path: ../results/\n",
      "save_output: True\n",
      "use_gpu: True\n",
      "verbose: True\n",
      "nmf_verbose: False\n",
      "perturb_verbose: False\n",
      "transpose: False\n",
      "collect_output: True\n",
      "sill_thresh: 0.6\n",
      "predict_k: True\n",
      "predict_k_method: pvalue\n",
      "n_jobs: 2\n",
      "n_nodes: 1\n",
      "nmf: <function nmf at 0x7f5055adb7e0>\n",
      "nmf_method: nmf_kl_mu\n",
      "nmf_obj_params: {}\n",
      "pruned: False\n",
      "calculate_error: True\n",
      "consensus_mat: False\n",
      "use_consensus_stopping: False\n",
      "mask: None\n",
      "calculate_pac: False\n",
      "simple_plot: True\n",
      "get_plot_data: False\n",
      "perturb_multiprocessing: False\n",
      "lock: <unlocked _thread.lock object at 0x7f505609ea80>\n",
      "total_exec_seconds: 0\n",
      "experiment_name: \n",
      "nmf_params: {'niter': 2000, 'use_gpu': True, 'nmf_verbose': False, 'mask': None, 'use_consensus_stopping': False}\n"
     ]
    },
    {
     "name": "stderr",
     "output_type": "stream",
     "text": [
      "/opt/conda/envs/TELF311/lib/python3.11/site-packages/TELF-0.0.2-py3.11.egg/TELF/factorization/NMFk.py:587: UserWarning: calculate_error is True! Error calculation can make the runtime longer and take up more memory space!\n",
      "/opt/conda/envs/TELF311/lib/python3.11/site-packages/TELF-0.0.2-py3.11.egg/TELF/factorization/NMFk.py:591: UserWarning: predict_k is True with pvalue method! Predicting k can make the runtime significantly longer. Consider using predict_k_method='sill'.\n"
     ]
    }
   ],
   "source": [
    "from TELF.factorization import NMFk\n",
    "params = {\n",
    "        \"n_perturbs\":64,\n",
    "        \"n_iters\":2000,\n",
    "        \"epsilon\":0.015,\n",
    "        \"n_jobs\":-1,\n",
    "        \"init\":\"random\",\n",
    "        \"use_gpu\":True,\n",
    "        \"save_path\":\"../results/\",\n",
    "        \"save_output\":True,\n",
    "        \"collect_output\":True,\n",
    "        \"predict_k\":True,\n",
    "        \"verbose\":True,\n",
    "        \"transpose\":False,\n",
    "        \"sill_thresh\":0.6,\n",
    "        \"nmf_verbose\":False,\n",
    "        \"nmf_method\":'nmf_kl_mu',\n",
    "        \"pruned\":False,\n",
    "        \"consensus_mat\":False,\n",
    "        \"use_consensus_stopping\":False,\n",
    "        \"mask\":None\n",
    "\n",
    "}\n",
    "model = NMFk(**params)\n",
    "Ks = range(14,18,1)"
   ]
  },
  {
   "cell_type": "code",
   "execution_count": 4,
   "id": "cf26e5ce",
   "metadata": {},
   "outputs": [
    {
     "name": "stderr",
     "output_type": "stream",
     "text": [
      "100%|██████████| 4/4 [08:57<00:00, 134.40s/it]\n"
     ]
    }
   ],
   "source": [
    "name = \"swimmer\"\n",
    "note = \"This is an example run of NMFk on swimmer dataset\"\n",
    "results = model.fit(X, Ks, name, note)"
   ]
  },
  {
   "cell_type": "code",
   "execution_count": 5,
   "id": "fee2c481",
   "metadata": {},
   "outputs": [
    {
     "name": "stdout",
     "output_type": "stream",
     "text": [
      "dict_keys(['time', 'k_predict', 'W', 'H'])\n",
      "Estimated k= 16\n"
     ]
    }
   ],
   "source": [
    "print(results.keys())\n",
    "print('Estimated k=',results['k_predict'])"
   ]
  },
  {
   "cell_type": "code",
   "execution_count": null,
   "id": "bd691126",
   "metadata": {},
   "outputs": [],
   "source": []
  }
 ],
 "metadata": {
  "kernelspec": {
   "display_name": "TELF311",
   "language": "python",
   "name": "telf311"
  },
  "language_info": {
   "codemirror_mode": {
    "name": "ipython",
    "version": 3
   },
   "file_extension": ".py",
   "mimetype": "text/x-python",
   "name": "python",
   "nbconvert_exporter": "python",
   "pygments_lexer": "ipython3",
   "version": "3.11.5"
  }
 },
 "nbformat": 4,
 "nbformat_minor": 5
}
