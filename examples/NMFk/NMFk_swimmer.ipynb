{
 "cells": [
  {
   "cell_type": "code",
   "execution_count": null,
   "id": "e5e55fc6",
   "metadata": {},
   "outputs": [],
   "source": [
    "!pip install mat73"
   ]
  },
  {
   "cell_type": "code",
   "execution_count": 2,
   "id": "a39cfafa",
   "metadata": {},
   "outputs": [
    {
     "data": {
      "text/plain": [
       "(1024, 256)"
      ]
     },
     "execution_count": 2,
     "metadata": {},
     "output_type": "execute_result"
    }
   ],
   "source": [
    "from scipy.io import loadmat \n",
    "X = loadmat('../../data/swimmer.mat')['V'].astype('float32')\n",
    "X.shape"
   ]
  },
  {
   "cell_type": "code",
   "execution_count": 3,
   "id": "41b951b3",
   "metadata": {},
   "outputs": [
    {
     "name": "stdout",
     "output_type": "stream",
     "text": [
      "n_perturbs: 32\n",
      "perturb_type: uniform\n",
      "n_iters: 2000\n",
      "epsilon: 0.015\n",
      "init: random\n",
      "save_path: ../../results/\n",
      "save_output: True\n",
      "use_gpu: False\n",
      "verbose: True\n",
      "nmf_verbose: False\n",
      "perturb_verbose: False\n",
      "transpose: False\n",
      "collect_output: True\n",
      "sill_thresh: 0.6\n",
      "predict_k: True\n",
      "predict_k_method: sill\n",
      "n_jobs: 1\n",
      "n_nodes: 1\n",
      "nmf: <function nmf at 0x1749a7880>\n",
      "nmf_method: nmf_kl_mu\n",
      "nmf_obj_params: {}\n",
      "pruned: False\n",
      "calculate_error: True\n",
      "consensus_mat: False\n",
      "use_consensus_stopping: False\n",
      "mask: None\n",
      "calculate_pac: False\n",
      "simple_plot: True\n",
      "get_plot_data: False\n",
      "perturb_multiprocessing: False\n",
      "k_search_method: bst_post\n",
      "H_sill_thresh: 0.1\n",
      "lock: <unlocked _thread.lock object at 0x174967b40>\n",
      "K_search_settings: {'lock': <unlocked _thread.lock object at 0x16a56e700>, 'k_search_method': 'bst_post', 'sill_thresh': 0.6, 'H_sill_thresh': 0.1, 'k_min': -1, 'k_max': inf}\n",
      "total_exec_seconds: 0\n",
      "experiment_name: \n",
      "nmf_params: {'niter': 2000, 'use_gpu': False, 'nmf_verbose': False, 'mask': None, 'use_consensus_stopping': False}\n"
     ]
    },
    {
     "name": "stderr",
     "output_type": "stream",
     "text": [
      "/Users/maksim/Desktop/Code/T-ELF_public/TELF/factorization/NMFk.py:697: UserWarning: calculate_error is True! Error calculation can make the runtime longer and take up more memory space!\n",
      "  warnings.warn(\n",
      "/Users/maksim/Desktop/Code/T-ELF_public/TELF/factorization/utilities/organize_n_jobs.py:10: UserWarning: No GPU found! Using CPUs\n",
      "  warnings.warn(\"No GPU found! Using CPUs\")\n"
     ]
    }
   ],
   "source": [
    "from TELF.factorization import NMFk\n",
    "params = {\n",
    "        \"n_perturbs\":64,\n",
    "        \"n_iters\":2000,\n",
    "        \"epsilon\":0.015,\n",
    "        \"n_jobs\":1,\n",
    "        \"init\":\"random\",\n",
    "        \"use_gpu\":True,\n",
    "        \"save_path\":\"../../results/\",\n",
    "        \"save_output\":True,\n",
    "        \"collect_output\":True,\n",
    "        \"predict_k\":True,\n",
    "        \"verbose\":True,\n",
    "        \"transpose\":False,\n",
    "        \"sill_thresh\":0.6,\n",
    "        \"nmf_verbose\":False,\n",
    "        \"nmf_method\":'nmf_kl_mu',\n",
    "        \"pruned\":False,\n",
    "        \"consensus_mat\":False,\n",
    "        \"use_consensus_stopping\":False,\n",
    "        \"mask\":None,\n",
    "}\n",
    "model = NMFk(**params)\n",
    "Ks = range(1,18,1)"
   ]
  },
  {
   "cell_type": "code",
   "execution_count": 4,
   "id": "cf26e5ce",
   "metadata": {},
   "outputs": [
    {
     "name": "stderr",
     "output_type": "stream",
     "text": [
      "  0%|          | 0/17 [00:00<?, ?it/s]"
     ]
    }
   ],
   "source": [
    "name = \"swimmer\"\n",
    "note = \"This is an example run of NMFk on swimmer dataset\"\n",
    "results = model.fit(X, Ks, name, note)"
   ]
  },
  {
   "cell_type": "code",
   "execution_count": null,
   "id": "fee2c481",
   "metadata": {},
   "outputs": [
    {
     "name": "stdout",
     "output_type": "stream",
     "text": [
      "dict_keys(['time', 'k_predict', 'W', 'H'])\n",
      "Estimated k= 16\n"
     ]
    }
   ],
   "source": [
    "print(results.keys())\n",
    "print('Estimated k=',results['k_predict'])"
   ]
  },
  {
   "cell_type": "code",
   "execution_count": null,
   "id": "bd691126",
   "metadata": {},
   "outputs": [],
   "source": []
  }
 ],
 "metadata": {
  "kernelspec": {
   "display_name": "TELF_public",
   "language": "python",
   "name": "python3"
  },
  "language_info": {
   "codemirror_mode": {
    "name": "ipython",
    "version": 3
   },
   "file_extension": ".py",
   "mimetype": "text/x-python",
   "name": "python",
   "nbconvert_exporter": "python",
   "pygments_lexer": "ipython3",
   "version": "3.11.5"
  }
 },
 "nbformat": 4,
 "nbformat_minor": 5
}
