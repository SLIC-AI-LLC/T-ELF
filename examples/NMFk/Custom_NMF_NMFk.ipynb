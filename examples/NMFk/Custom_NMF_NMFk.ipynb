{
 "cells": [
  {
   "cell_type": "markdown",
   "metadata": {},
   "source": [
    "Define a custom NMF function:"
   ]
  },
  {
   "cell_type": "code",
   "execution_count": 1,
   "metadata": {},
   "outputs": [],
   "source": [
    "def nmf(X, W, H, n_iter=100):\n",
    "    import numpy as np\n",
    "    for iter in range(n_iter):\n",
    "        # update H\n",
    "        H = H * np.divide(W.T @ X, W.T @ W @ H)\n",
    "        # update W\n",
    "        W = W * np.divide(X @ H.T, W @ H @ H.T)\n",
    "    return W, H, {}"
   ]
  },
  {
   "cell_type": "code",
   "execution_count": 2,
   "metadata": {},
   "outputs": [
    {
     "name": "stderr",
     "output_type": "stream",
     "text": [
      "/Users/maksim/Desktop/Code/telf_internal/examples/NMFk/../../scripts/generate_X.py:60: UserWarning: Kruskal's theorem probably won't apply, may not have a unique nCPD.\n",
      "  warnings.warn(\"Kruskal's theorem probably won't apply, may not have a unique nCPD.\")\n"
     ]
    },
    {
     "data": {
      "text/plain": [
       "(10, 20)"
      ]
     },
     "execution_count": 2,
     "metadata": {},
     "output_type": "execute_result"
    }
   ],
   "source": [
    "#\n",
    "# Generate Data\n",
    "#\n",
    "import os\n",
    "import sys; sys.path.append(os.path.join(\"..\", \"..\", \"scripts\"))\n",
    "from generate_X import gen_data\n",
    "\n",
    "X = gen_data(R=4, shape=[10,20])[\"X\"]\n",
    "X.shape"
   ]
  },
  {
   "cell_type": "code",
   "execution_count": 3,
   "metadata": {},
   "outputs": [
    {
     "name": "stdout",
     "output_type": "stream",
     "text": [
      "n_perturbs: 10\n",
      "perturb_type: uniform\n",
      "n_iters: 10\n",
      "epsilon: 0.015\n",
      "init: nnsvd\n",
      "save_path: ../../results\n",
      "save_output: True\n",
      "use_gpu: False\n",
      "verbose: True\n",
      "nmf_verbose: False\n",
      "perturb_verbose: False\n",
      "transpose: False\n",
      "collect_output: True\n",
      "sill_thresh: 0.9\n",
      "predict_k: True\n",
      "predict_k_method: WH_sill\n",
      "n_jobs: 1\n",
      "n_nodes: 1\n",
      "nmf: <function nmf at 0x10641f7e0>\n",
      "nmf_method: func\n",
      "nmf_obj_params: {}\n",
      "clustering_obj_params: {}\n",
      "pruned: True\n",
      "calculate_error: True\n",
      "consensus_mat: False\n",
      "use_consensus_stopping: 0\n",
      "mask: None\n",
      "calculate_pac: False\n",
      "simple_plot: True\n",
      "get_plot_data: False\n",
      "perturb_multiprocessing: False\n",
      "k_search_method: linear\n",
      "H_sill_thresh: None\n",
      "factor_thresholding: None\n",
      "factor_thresholding_H_regression: None\n",
      "factor_thresholding_obj_params: {}\n",
      "factor_thresholding_H_regression_obj_params: {}\n",
      "clustering_method: kmeans\n",
      "device: [-1]\n",
      "lock: <unlocked _thread.lock object at 0x16a8a7200>\n",
      "K_search_settings: {'lock': <unlocked _thread.lock object at 0x16a8a4b80>, 'k_search_method': 'linear', 'sill_thresh': 0.9, 'H_sill_thresh': None, 'k_min': -1, 'k_max': inf}\n",
      "total_exec_seconds: 0\n",
      "experiment_name: \n",
      "thresholding_function: None\n",
      "nmf_params: {}\n"
     ]
    },
    {
     "name": "stderr",
     "output_type": "stream",
     "text": [
      "/Users/maksim/Desktop/Code/telf_internal/TELF/factorization/NMFk.py:856: UserWarning: calculate_error is True! Error calculation can make the runtime longer and take up more memory space!\n",
      "  warnings.warn(\n"
     ]
    }
   ],
   "source": [
    "from TELF.factorization import NMFk\n",
    "params = {\n",
    "    \"n_perturbs\":10,\n",
    "    \"n_iters\":10,\n",
    "    \"epsilon\":0.015,\n",
    "    \"n_jobs\":1,\n",
    "    \"init\":\"nnsvd\", \n",
    "    \"use_gpu\":False,\n",
    "    \"save_path\":os.path.join(\"..\", \"..\", \"results\"),\n",
    "    \"save_output\":True,\n",
    "    \"collect_output\":True,\n",
    "    \"predict_k\":True,\n",
    "    \"verbose\":True,\n",
    "    \"transpose\":False,\n",
    "    \"sill_thresh\":0.9,\n",
    "    \"nmf_verbose\":False,\n",
    "    \"nmf_method\":\"func\",\n",
    "    \"nmf_func\":nmf # custom function\n",
    "}\n",
    "model = NMFk(**params)"
   ]
  },
  {
   "cell_type": "code",
   "execution_count": 4,
   "metadata": {},
   "outputs": [
    {
     "name": "stderr",
     "output_type": "stream",
     "text": [
      "  0%|          | 0/2 [00:00<?, ?it/s]/Users/maksim/miniconda3/envs/TELF/lib/python3.11/site-packages/numpy/_core/fromnumeric.py:3596: RuntimeWarning: Mean of empty slice.\n",
      "  return _methods._mean(a, axis=axis, dtype=dtype,\n",
      "/Users/maksim/miniconda3/envs/TELF/lib/python3.11/site-packages/numpy/_core/_methods.py:138: RuntimeWarning: invalid value encountered in scalar divide\n",
      "  ret = ret.dtype.type(ret / rcount)\n",
      "100%|██████████| 2/2 [00:00<00:00, 56.70it/s]\n"
     ]
    },
    {
     "name": "stdout",
     "output_type": "stream",
     "text": [
      "dict_keys(['time', 'k_predict', 'W', 'H', 'other_results'])\n"
     ]
    }
   ],
   "source": [
    "Ks = range(2,6,2)\n",
    "name = \"Example\"\n",
    "note = \"This is an example run of NMFk\"\n",
    "results = model.fit(X, Ks, name, note)\n",
    "print(results.keys())"
   ]
  },
  {
   "cell_type": "code",
   "execution_count": null,
   "metadata": {},
   "outputs": [],
   "source": []
  }
 ],
 "metadata": {
  "kernelspec": {
   "display_name": "TELF",
   "language": "python",
   "name": "python3"
  },
  "language_info": {
   "codemirror_mode": {
    "name": "ipython",
    "version": 3
   },
   "file_extension": ".py",
   "mimetype": "text/x-python",
   "name": "python",
   "nbconvert_exporter": "python",
   "pygments_lexer": "ipython3",
   "version": "3.11.10"
  }
 },
 "nbformat": 4,
 "nbformat_minor": 4
}
