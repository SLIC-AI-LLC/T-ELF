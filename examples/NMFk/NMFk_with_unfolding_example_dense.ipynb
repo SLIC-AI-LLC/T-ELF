{
 "cells": [
  {
   "cell_type": "code",
   "execution_count": null,
   "id": "d0ddc1a2",
   "metadata": {},
   "outputs": [],
   "source": [
    "import os\n",
    "os.environ[\"OMP_NUM_THREADS\"] = \"1\" # export OMP_NUM_THREADS=1\n",
    "os.environ[\"OPENBLAS_NUM_THREADS\"] = \"1\" # export OPENBLAS_NUM_THREADS=1\n",
    "os.environ[\"MKL_NUM_THREADS\"] = \"1\" # export MKL_NUM_THREADS=1\n",
    "os.environ[\"VECLIB_MAXIMUM_THREADS\"] = \"1\" # export VECLIB_MAXIMUM_THREADS=1\n",
    "os.environ[\"NUMEXPR_NUM_THREADS\"] = \"1\" # export NUMEXPR_NUM_THREADS=1"
   ]
  },
  {
   "cell_type": "code",
   "execution_count": 3,
   "id": "e9a1afc6",
   "metadata": {},
   "outputs": [],
   "source": [
    "import sys;\n",
    "import os \n",
    "sys.path.append(os.path.join(\"..\", \"..\", \"scripts\"))\n",
    "from generate_X import gen_data\n",
    "X = gen_data(R=4, shape=[40,50,60])[\"X\"]"
   ]
  },
  {
   "cell_type": "code",
   "execution_count": 6,
   "id": "3e23e9e7",
   "metadata": {},
   "outputs": [
    {
     "name": "stdout",
     "output_type": "stream",
     "text": [
      "Performing NMF with  nmf_fro_mu\n"
     ]
    },
    {
     "name": "stderr",
     "output_type": "stream",
     "text": [
      "/Users/maksim/opt/miniconda3/envs/TELF/lib/python3.8/site-packages/TELF-0.0.1-py3.8.egg/TELF/factorization/NMFk.py:392: UserWarning: calculate_error is True! Error calculation can make the runtime longer and take up more memory space!\n",
      "  warnings.warn(\n",
      "/Users/maksim/opt/miniconda3/envs/TELF/lib/python3.8/site-packages/TELF-0.0.1-py3.8.egg/TELF/factorization/NMFk.py:396: UserWarning: predict_k is True with pvalue method! Predicting k can make the runtime significantly longer. Consider using predict_k_method='sill'.\n",
      "  warnings.warn(\n",
      "/Users/maksim/opt/miniconda3/envs/TELF/lib/python3.8/site-packages/TELF-0.0.1-py3.8.egg/TELF/factorization/utilities/organize_n_jobs.py:10: UserWarning: No GPU found! Using CPUs\n"
     ]
    }
   ],
   "source": [
    "from TELF.factorization import NMFk\n",
    "params = {\n",
    "    \"n_perturbs\": 32,\n",
    "    \"n_iters\": 1000,\n",
    "    \"epsilon\": 0.015,\n",
    "    \"n_jobs\": -1,\n",
    "    \"init\": \"nnsvd\", \n",
    "    \"use_gpu\": True,\n",
    "    \"save_path\": os.path.join(\"..\", \"..\", \"results\"), \n",
    "    \"save_output\": True,\n",
    "    \"collect_output\": True,\n",
    "    \"predict_k\": True,\n",
    "    \"verbose\": True,\n",
    "    \"transpose\": False,\n",
    "    \"sill_thresh\": 0.9,\n",
    "    \"nmf_verbose\": False,\n",
    "    \"nmf_method\": 'nmf_fro_mu'\n",
    "\n",
    "}\n",
    "model = NMFk(**params)\n",
    "\n",
    "\n"
   ]
  },
  {
   "cell_type": "code",
   "execution_count": 7,
   "id": "67c16d70",
   "metadata": {},
   "outputs": [
    {
     "name": "stdout",
     "output_type": "stream",
     "text": [
      "Working on unfolding along axis= 0\n",
      "Unfolded data shape = (40, 3000)\n"
     ]
    },
    {
     "name": "stderr",
     "output_type": "stream",
     "text": [
      "[Parallel(n_jobs=4)]: Using backend MultiprocessingBackend with 4 concurrent workers.\n",
      "[Parallel(n_jobs=4)]: Done   2 out of   4 | elapsed:   16.7s remaining:   16.7s\n",
      "[Parallel(n_jobs=4)]: Done   4 out of   4 | elapsed:   19.3s finished\n"
     ]
    },
    {
     "name": "stdout",
     "output_type": "stream",
     "text": [
      "predicted k for unfolding= 0  is  4\n",
      "Working on unfolding along axis= 1\n",
      "Unfolded data shape = (50, 2400)\n"
     ]
    },
    {
     "name": "stderr",
     "output_type": "stream",
     "text": [
      "[Parallel(n_jobs=4)]: Using backend MultiprocessingBackend with 4 concurrent workers.\n",
      "[Parallel(n_jobs=4)]: Done   2 out of   4 | elapsed:   16.0s remaining:   16.0s\n",
      "[Parallel(n_jobs=4)]: Done   4 out of   4 | elapsed:   18.7s finished\n"
     ]
    },
    {
     "name": "stdout",
     "output_type": "stream",
     "text": [
      "predicted k for unfolding= 1  is  4\n",
      "Working on unfolding along axis= 2\n",
      "Unfolded data shape = (60, 2000)\n"
     ]
    },
    {
     "name": "stderr",
     "output_type": "stream",
     "text": [
      "[Parallel(n_jobs=4)]: Using backend MultiprocessingBackend with 4 concurrent workers.\n",
      "[Parallel(n_jobs=4)]: Done   2 out of   4 | elapsed:   15.7s remaining:   15.7s\n",
      "[Parallel(n_jobs=4)]: Done   4 out of   4 | elapsed:   17.6s finished\n"
     ]
    },
    {
     "name": "stdout",
     "output_type": "stream",
     "text": [
      "predicted k for unfolding= 2  is  4\n"
     ]
    }
   ],
   "source": [
    "\n",
    "from TELF.factorization.decompositions.utilities import data_reshaping\n",
    "#define K range for each unfolding\n",
    "Ks = [range(2, 6, 1),range(2, 6,1),range(2,6,1)]\n",
    "for i in range(len(X.shape)): #for each unfolding\n",
    "    print('Working on unfolding along axis=',i)\n",
    "    X1  = data_reshaping.unfold(X,i) #perform unfolding here\n",
    "    print('Unfolded data shape =', X1.shape)\n",
    "    name = 'unfolding_along_axis='+str(i)\n",
    "    note = \"This is an example run of NMFk on each unfolding\"\n",
    "    results = model.fit(X1, Ks[i], name, note)\n",
    "    print('predicted k for unfolding=',i,' is ',results['k_predict'])\n",
    "\n",
    "\n"
   ]
  },
  {
   "cell_type": "code",
   "execution_count": null,
   "id": "90b96d29",
   "metadata": {},
   "outputs": [],
   "source": []
  },
  {
   "cell_type": "code",
   "execution_count": null,
   "id": "757c88c7",
   "metadata": {},
   "outputs": [],
   "source": []
  }
 ],
 "metadata": {
  "kernelspec": {
   "display_name": "Python 3",
   "language": "python",
   "name": "python3"
  },
  "language_info": {
   "codemirror_mode": {
    "name": "ipython",
    "version": 3
   },
   "file_extension": ".py",
   "mimetype": "text/x-python",
   "name": "python",
   "nbconvert_exporter": "python",
   "pygments_lexer": "ipython3",
   "version": "3.8.8"
  }
 },
 "nbformat": 4,
 "nbformat_minor": 5
}
