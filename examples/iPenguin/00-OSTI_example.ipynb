{
 "cells": [
  {
   "cell_type": "markdown",
   "metadata": {},
   "source": [
    "# iPenguin - OSTI Example"
   ]
  },
  {
   "cell_type": "markdown",
   "metadata": {},
   "source": [
    "## 0. Settings"
   ]
  },
  {
   "cell_type": "code",
   "execution_count": 1,
   "metadata": {},
   "outputs": [],
   "source": [
    "# allows async co-routines to work inside of jupyter notebook\n",
    "import nest_asyncio\n",
    "nest_asyncio.apply()"
   ]
  },
  {
   "cell_type": "code",
   "execution_count": 14,
   "metadata": {},
   "outputs": [],
   "source": [
    "import os\n",
    "import pathlib\n",
    "\n",
    "CACHING_DIR = 'osti_cache'\n",
    "CACHING_DIR = pathlib.Path(CACHING_DIR).resolve()"
   ]
  },
  {
   "cell_type": "markdown",
   "metadata": {},
   "source": [
    "## 1. Create the OSTI Handler Object"
   ]
  },
  {
   "cell_type": "code",
   "execution_count": 3,
   "metadata": {},
   "outputs": [],
   "source": [
    "from TELF.pre_processing.iPenguin.OSTI import OSTI"
   ]
  },
  {
   "cell_type": "code",
   "execution_count": 4,
   "metadata": {},
   "outputs": [],
   "source": [
    "osti = OSTI(\n",
    "    mode = 'fs',         # file system caching mode (default)\n",
    "    name = CACHING_DIR,  # where to cache the files\n",
    "    verbose=True\n",
    ")"
   ]
  },
  {
   "cell_type": "markdown",
   "metadata": {},
   "source": [
    "## 2. Use the OSTI Handler"
   ]
  },
  {
   "cell_type": "markdown",
   "metadata": {},
   "source": [
    "### A. Lookup Papers by their ID"
   ]
  },
  {
   "cell_type": "code",
   "execution_count": 5,
   "metadata": {},
   "outputs": [
    {
     "data": {
      "text/plain": [
       "4"
      ]
     },
     "execution_count": 5,
     "metadata": {},
     "output_type": "execute_result"
    }
   ],
   "source": [
    "PAPERS = [\n",
    "    '2528082',\n",
    "    '2328630',\n",
    "    '2006438',\n",
    "    '2246858',\n",
    "]\n",
    "\n",
    "len(PAPERS)"
   ]
  },
  {
   "cell_type": "code",
   "execution_count": 6,
   "metadata": {},
   "outputs": [
    {
     "name": "stderr",
     "output_type": "stream",
     "text": [
      "[OSTI]: Found 4 papers in 0.11s\n"
     ]
    }
   ],
   "source": [
    "count = osti.count(PAPERS, mode='paper')"
   ]
  },
  {
   "cell_type": "code",
   "execution_count": 7,
   "metadata": {},
   "outputs": [
    {
     "name": "stderr",
     "output_type": "stream",
     "text": [
      "100%|██████████| 4/4 [00:00<00:00, 11.09it/s]\n"
     ]
    },
    {
     "name": "stdout",
     "output_type": "stream",
     "text": [
      "<class 'pandas.core.frame.DataFrame'>\n",
      "RangeIndex: 4 entries, 0 to 3\n",
      "Data columns (total 13 columns):\n",
      " #   Column               Non-Null Count  Dtype \n",
      "---  ------               --------------  ----- \n",
      " 0   osti_id              4 non-null      object\n",
      " 1   doi                  4 non-null      object\n",
      " 2   title                4 non-null      object\n",
      " 3   year                 4 non-null      int64 \n",
      " 4   abstract             3 non-null      object\n",
      " 5   authors              4 non-null      object\n",
      " 6   author_ids           4 non-null      object\n",
      " 7   affiliations         1 non-null      object\n",
      " 8   country_publication  4 non-null      object\n",
      " 9   report_number        2 non-null      object\n",
      " 10  doe_contract_number  4 non-null      object\n",
      " 11  publisher            2 non-null      object\n",
      " 12  language             2 non-null      object\n",
      "dtypes: int64(1), object(12)\n",
      "memory usage: 548.0+ bytes\n"
     ]
    },
    {
     "name": "stderr",
     "output_type": "stream",
     "text": [
      "[OSTI]: Finished downloading 4 papers in 0.39s\n",
      "[Parallel(n_jobs=4)]: Using backend ThreadingBackend with 4 concurrent workers.\n",
      "[Parallel(n_jobs=4)]: Done   2 out of   4 | elapsed:    0.0s remaining:    0.0s\n",
      "[Parallel(n_jobs=4)]: Done   4 out of   4 | elapsed:    0.0s finished\n"
     ]
    }
   ],
   "source": [
    "df = osti.search(PAPERS, mode='paper')\n",
    "df.info()"
   ]
  },
  {
   "cell_type": "markdown",
   "metadata": {},
   "source": [
    "### B. Get Papers by Query"
   ]
  },
  {
   "cell_type": "code",
   "execution_count": 9,
   "metadata": {},
   "outputs": [],
   "source": [
    "query = 'Boian Alexandrov'"
   ]
  },
  {
   "cell_type": "markdown",
   "metadata": {},
   "source": [
    "Establish how many papers can be found for some query on OSTI."
   ]
  },
  {
   "cell_type": "code",
   "execution_count": 10,
   "metadata": {},
   "outputs": [
    {
     "name": "stderr",
     "output_type": "stream",
     "text": [
      "[OSTI]: Found 143 papers in 1.00s\n"
     ]
    }
   ],
   "source": [
    "count = osti.count(query, mode='query')"
   ]
  },
  {
   "cell_type": "markdown",
   "metadata": {},
   "source": [
    "The ```OSTI.search()``` function takes an optional argument ```n```. This argument sets an upper limit on how many papers to download. By default ```n``` is set to 100 but it can be set to any positive integer value. Set ```n``` equal to 0 download all available papers for a query"
   ]
  },
  {
   "cell_type": "code",
   "execution_count": 11,
   "metadata": {},
   "outputs": [
    {
     "name": "stderr",
     "output_type": "stream",
     "text": [
      "/Users/maksim/Desktop/Code/telf_internal/TELF/pre_processing/iPenguin/OSTI/osti.py:124: RuntimeWarning: [OSTI]: Found 143 papers for query but limit is set at 0\n",
      "  warnings.warn(f'[OSTI]: Found {num_papers} papers for query but limit is set at {n}', RuntimeWarning)\n",
      "0it [00:02, ?it/s]       \n"
     ]
    },
    {
     "name": "stdout",
     "output_type": "stream",
     "text": [
      "<class 'pandas.core.frame.DataFrame'>\n",
      "RangeIndex: 143 entries, 0 to 142\n",
      "Data columns (total 13 columns):\n",
      " #   Column               Non-Null Count  Dtype \n",
      "---  ------               --------------  ----- \n",
      " 0   osti_id              143 non-null    object\n",
      " 1   doi                  127 non-null    object\n",
      " 2   title                143 non-null    object\n",
      " 3   year                 143 non-null    int64 \n",
      " 4   abstract             129 non-null    object\n",
      " 5   authors              143 non-null    object\n",
      " 6   author_ids           143 non-null    object\n",
      " 7   affiliations         105 non-null    object\n",
      " 8   country_publication  143 non-null    object\n",
      " 9   report_number        103 non-null    object\n",
      " 10  doe_contract_number  138 non-null    object\n",
      " 11  publisher            89 non-null     object\n",
      " 12  language             136 non-null    object\n",
      "dtypes: int64(1), object(12)\n",
      "memory usage: 14.7+ KB\n"
     ]
    },
    {
     "name": "stderr",
     "output_type": "stream",
     "text": [
      "[OSTI]: Finished downloading 143 papers in 3.47s\n",
      "[Parallel(n_jobs=12)]: Using backend ThreadingBackend with 12 concurrent workers.\n",
      "[Parallel(n_jobs=12)]: Done   2 out of  12 | elapsed:    0.0s remaining:    0.1s\n",
      "[Parallel(n_jobs=12)]: Done  12 out of  12 | elapsed:    0.0s finished\n"
     ]
    }
   ],
   "source": [
    "df = osti.search(query, mode='query', n=0)\n",
    "df.info()"
   ]
  },
  {
   "cell_type": "code",
   "execution_count": null,
   "metadata": {},
   "outputs": [],
   "source": []
  }
 ],
 "metadata": {
  "kernelspec": {
   "display_name": "TELF",
   "language": "python",
   "name": "python3"
  },
  "language_info": {
   "codemirror_mode": {
    "name": "ipython",
    "version": 3
   },
   "file_extension": ".py",
   "mimetype": "text/x-python",
   "name": "python",
   "nbconvert_exporter": "python",
   "pygments_lexer": "ipython3",
   "version": "3.11.10"
  }
 },
 "nbformat": 4,
 "nbformat_minor": 2
}
