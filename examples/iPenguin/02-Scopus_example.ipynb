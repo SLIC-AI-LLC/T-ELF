{
 "cells": [
  {
   "cell_type": "markdown",
   "id": "aab87a74-2ebd-4ddc-910f-03c2299438ea",
   "metadata": {},
   "source": [
    "# iPenguin - Scopus Example"
   ]
  },
  {
   "cell_type": "markdown",
   "id": "d6fa4859-d68c-49d5-8964-2fd8bcc71c07",
   "metadata": {},
   "source": [
    "## 0. Settings"
   ]
  },
  {
   "cell_type": "code",
   "execution_count": 1,
   "id": "96560987-e395-426a-8740-b3c22286fbdc",
   "metadata": {},
   "outputs": [],
   "source": [
    "# allows async co-routines to work inside of jupyter notebook\n",
    "import nest_asyncio\n",
    "nest_asyncio.apply()"
   ]
  },
  {
   "cell_type": "code",
   "execution_count": 2,
   "id": "a7557861-170a-4835-a2e6-7791ae1dfac0",
   "metadata": {
    "tags": []
   },
   "outputs": [],
   "source": [
    "import os\n",
    "import pathlib"
   ]
  },
  {
   "cell_type": "code",
   "execution_count": 4,
   "id": "55f498ed-8aae-4c93-bf76-85cddbf4f204",
   "metadata": {
    "tags": []
   },
   "outputs": [],
   "source": [
    "CACHING_DIR = 'scopus_cache'\n",
    "CACHING_DIR = pathlib.Path(CACHING_DIR).resolve()"
   ]
  },
  {
   "cell_type": "markdown",
   "id": "8b34244e-7dc4-411d-a44a-b6318b58a23d",
   "metadata": {},
   "source": [
    "## 1. Create the Scopus Handler Object"
   ]
  },
  {
   "cell_type": "code",
   "execution_count": 5,
   "id": "d7fd493c-2fad-4843-8339-40ae8e533906",
   "metadata": {},
   "outputs": [],
   "source": [
    "from TELF.pre_processing.iPenguin.Scopus import Scopus"
   ]
  },
  {
   "cell_type": "code",
   "execution_count": 6,
   "id": "7b789cee-77c2-4d91-8b95-bc1330ff524b",
   "metadata": {},
   "outputs": [
    {
     "name": "stdout",
     "output_type": "stream",
     "text": [
      "Found SCOPUS_KEY environment variable\n"
     ]
    }
   ],
   "source": [
    "if \"SCOPUS_KEY\" in os.environ:\n",
    "    print(\"Found SCOPUS_KEY environment variable\")\n",
    "    API_KEY = os.environ[\"SCOPUS_KEY\"]\n",
    "else:\n",
    "    print(\"Variable does not exist. Export Scopus API key on your environment using the variable name SCOPUS_KEY.\")\n",
    "    API_KEY = \"\""
   ]
  },
  {
   "cell_type": "code",
   "execution_count": 7,
   "id": "715d7b63-a9d1-4f1b-bd2e-ac03ac2426d0",
   "metadata": {
    "tags": []
   },
   "outputs": [],
   "source": [
    "scopus = Scopus(\n",
    "    keys = [API_KEY], \n",
    "    mode = 'fs',         # file system caching mode (default)\n",
    "    name = CACHING_DIR,  # where to cache the files\n",
    "    verbose = True\n",
    ")"
   ]
  },
  {
   "cell_type": "markdown",
   "id": "216f9578-c23d-426f-905d-374350a8ad3f",
   "metadata": {},
   "source": [
    "## 2. Create a Query"
   ]
  },
  {
   "cell_type": "markdown",
   "id": "efb3a5c3-a77a-445d-9a21-04b63711af22",
   "metadata": {},
   "source": [
    "Scopus allows the user to enter complex search queries using field codes, boolean and proximity operators to narrow the scope of the search. If using ```iPenguin``` directly, these queries need to be constructed as strings. Higher level libraries like `Bunny` have support for programatically building queries. Syntax errors in the search queries will cause the Scopus class to fail to find/download any papers and a warning that the query is invalid will be provied. See the following [resource](https://service.elsevier.com/app/answers/detail/a_id/11365/supporthub/scopus/#tips) for more information on constructing Scopus queries. "
   ]
  },
  {
   "cell_type": "code",
   "execution_count": 8,
   "id": "5721b534-43b1-4702-a34f-28a207f3215e",
   "metadata": {
    "tags": []
   },
   "outputs": [],
   "source": [
    "# search for 'Boian Alexandrov' in all author fields\n",
    "query = 'AUTH(Boian Alexandrov)'"
   ]
  },
  {
   "cell_type": "markdown",
   "id": "ae0fd611-d06c-47a2-ae45-ef508499210f",
   "metadata": {},
   "source": [
    "## 3. Execute Query"
   ]
  },
  {
   "cell_type": "markdown",
   "id": "e2555bde-835d-4f20-a2d3-6a8853880532",
   "metadata": {},
   "source": [
    "### A. Before downloading, check how many papers are available for the query"
   ]
  },
  {
   "cell_type": "code",
   "execution_count": 9,
   "id": "92338552-cea4-4e43-a25b-aa13906eb041",
   "metadata": {
    "tags": []
   },
   "outputs": [
    {
     "name": "stderr",
     "output_type": "stream",
     "text": [
      "[Scopus]: Found 42 papers in 0.84s\n"
     ]
    }
   ],
   "source": [
    "count = scopus.count(query)"
   ]
  },
  {
   "cell_type": "markdown",
   "id": "5b4184f5-51f5-4eeb-a640-9238c563ad40",
   "metadata": {},
   "source": [
    "### B. Download the papers found by the query\n",
    "\n",
    "The ```Scopus.search()``` function takes an optional argument ```n```. This argument sets an upper limit on how many papers to download. Some queries such as \"<b><i>LANGUAGE(english)</i></b>\" (all English language papers found on Scopus) can return millions of papers so the ```n``` argument is used to limit the scope of the search. Scopus search ranks the results by relevancy so the top ```n``` most \"relevant\" papers are found for a given query. By default ```n``` is set to 100 but it can be set to any positive integer value. Setting ```n``` equal to 0 will download all available papers for the query."
   ]
  },
  {
   "cell_type": "code",
   "execution_count": 10,
   "id": "776677db-c6ab-440c-9063-613551ed6469",
   "metadata": {
    "tags": []
   },
   "outputs": [
    {
     "name": "stderr",
     "output_type": "stream",
     "text": [
      "[Scopus API]: Remaining API calls: 9980\n",
      "              Quota resets at:     2025-05-02 06:23:55\n",
      "\n",
      "100%|██████████| 42/42 [00:06<00:00,  6.35it/s]\n"
     ]
    },
    {
     "name": "stdout",
     "output_type": "stream",
     "text": [
      "<class 'pandas.core.frame.DataFrame'>\n",
      "RangeIndex: 42 entries, 0 to 41\n",
      "Data columns (total 13 columns):\n",
      " #   Column            Non-Null Count  Dtype \n",
      "---  ------            --------------  ----- \n",
      " 0   eid               42 non-null     object\n",
      " 1   doi               42 non-null     object\n",
      " 2   title             42 non-null     object\n",
      " 3   year              42 non-null     int64 \n",
      " 4   abstract          42 non-null     object\n",
      " 5   authors           42 non-null     object\n",
      " 6   author_ids        42 non-null     object\n",
      " 7   affiliations      42 non-null     object\n",
      " 8   funding           30 non-null     object\n",
      " 9   PACs              28 non-null     object\n",
      " 10  publication_name  42 non-null     object\n",
      " 11  subject_areas     42 non-null     object\n",
      " 12  num_citations     42 non-null     int64 \n",
      "dtypes: int64(2), object(11)\n",
      "memory usage: 4.4+ KB\n"
     ]
    },
    {
     "name": "stderr",
     "output_type": "stream",
     "text": [
      "[Scopus]: Finished downloading 42 papers in 10.02s\n",
      "[Parallel(n_jobs=42)]: Using backend ThreadingBackend with 42 concurrent workers.\n",
      "[Parallel(n_jobs=42)]: Done   2 out of  42 | elapsed:    0.0s remaining:    0.6s\n",
      "[Parallel(n_jobs=42)]: Done  42 out of  42 | elapsed:    0.1s finished\n"
     ]
    }
   ],
   "source": [
    "df, paper_ids = scopus.search(query, n=100)\n",
    "df.info()"
   ]
  }
 ],
 "metadata": {
  "kernelspec": {
   "display_name": "dev_artic_fox",
   "language": "python",
   "name": "python3"
  },
  "language_info": {
   "codemirror_mode": {
    "name": "ipython",
    "version": 3
   },
   "file_extension": ".py",
   "mimetype": "text/x-python",
   "name": "python",
   "nbconvert_exporter": "python",
   "pygments_lexer": "ipython3",
   "version": "3.11.10"
  }
 },
 "nbformat": 4,
 "nbformat_minor": 5
}
