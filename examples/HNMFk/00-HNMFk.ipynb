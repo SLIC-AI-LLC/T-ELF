{
 "cells": [
  {
   "cell_type": "markdown",
   "metadata": {},
   "source": [
    "# Libraries"
   ]
  },
  {
   "cell_type": "code",
   "execution_count": 1,
   "metadata": {},
   "outputs": [],
   "source": [
    "import os\n",
    "nnn = 1\n",
    "os.environ[\"OMP_NUM_THREADS\"] = str(nnn) # export OMP_NUM_THREADS=1\n",
    "os.environ[\"OPENBLAS_NUM_THREADS\"] = str(nnn) # export OPENBLAS_NUM_THREADS=1\n",
    "os.environ[\"MKL_NUM_THREADS\"] = str(nnn) # export MKL_NUM_THREADS=1\n",
    "os.environ[\"VECLIB_MAXIMUM_THREADS\"] = str(nnn) # export VECLIB_MAXIMUM_THREADS=1\n",
    "os.environ[\"NUMEXPR_NUM_THREADS\"] = str(nnn)  # export NUMEXPR_NUM_THREADS=1"
   ]
  },
  {
   "cell_type": "code",
   "execution_count": 2,
   "metadata": {},
   "outputs": [],
   "source": [
    "from TELF.factorization.HNMFk import HNMFk\n",
    "import numpy as np\n",
    "import os"
   ]
  },
  {
   "cell_type": "code",
   "execution_count": 3,
   "metadata": {},
   "outputs": [],
   "source": [
    "import sys; sys.path.append(os.path.join(\"..\", \"..\", \"scripts\"))\n",
    "from generate_X import gen_data,gen_data_sparse"
   ]
  },
  {
   "cell_type": "code",
   "execution_count": 4,
   "metadata": {},
   "outputs": [
    {
     "data": {
      "text/plain": [
       "'0.0.29'"
      ]
     },
     "execution_count": 4,
     "metadata": {},
     "output_type": "execute_result"
    }
   ],
   "source": [
    "import TELF\n",
    "TELF.__version__"
   ]
  },
  {
   "cell_type": "markdown",
   "metadata": {},
   "source": [
    "# Generate Synthetic Data"
   ]
  },
  {
   "cell_type": "code",
   "execution_count": 5,
   "metadata": {},
   "outputs": [
    {
     "name": "stderr",
     "output_type": "stream",
     "text": [
      "/home/maksim/repositories/telf_internal/examples/HNMFk/../../scripts/generate_X.py:60: UserWarning: Kruskal's theorem probably won't apply, may not have a unique nCPD.\n",
      "  warnings.warn(\"Kruskal's theorem probably won't apply, may not have a unique nCPD.\")\n"
     ]
    }
   ],
   "source": [
    "Xsp = gen_data_sparse(shape=[500, 500], density=0.01)[\"X\"]\n",
    "X = gen_data(R=4, shape=[500, 500])[\"X\"]"
   ]
  },
  {
   "cell_type": "markdown",
   "metadata": {},
   "source": [
    "# Settings"
   ]
  },
  {
   "cell_type": "code",
   "execution_count": 6,
   "metadata": {},
   "outputs": [],
   "source": [
    "Ks = np.arange(1, 10, 1)\n",
    "perts = 2\n",
    "iters = 1000\n",
    "eps = 0.015\n",
    "init = \"nnsvd\"\n",
    "save_path = \"HNMFk_results_path\"\n",
    "name = \"example_HNMFk3\""
   ]
  },
  {
   "cell_type": "code",
   "execution_count": 7,
   "metadata": {},
   "outputs": [],
   "source": [
    "nmfk_params = {\n",
    "    \"n_perturbs\":perts,\n",
    "    \"n_iters\":iters,\n",
    "    \"epsilon\":eps,\n",
    "    \"n_jobs\":2,\n",
    "    \"init\":init, \n",
    "    \"use_gpu\":False,\n",
    "    \"save_path\":save_path, \n",
    "    \"predict_k_method\":\"sill\",\n",
    "    \"verbose\":False,\n",
    "    \"nmf_verbose\":False,\n",
    "    \"transpose\":False,\n",
    "    \"sill_thresh\":0.8,\n",
    "    \"pruned\":True,\n",
    "    'nmf_method':'nmf_fro_mu',\n",
    "    \"calculate_error\":False,\n",
    "    \"use_consensus_stopping\":0,\n",
    "    \"calculate_pac\":False,\n",
    "    \"consensus_mat\":False,\n",
    "    \"perturb_type\":\"uniform\",\n",
    "    \"perturb_multiprocessing\":False,\n",
    "    \"perturb_verbose\":False,\n",
    "    \"simple_plot\":True,\n",
    "    \"k_search_method\":\"bst_post\",\n",
    "    \"H_sill_thresh\":0.1\n",
    "}"
   ]
  },
  {
   "cell_type": "code",
   "execution_count": 8,
   "metadata": {},
   "outputs": [],
   "source": [
    "hnmfk_params = {\n",
    "    # we can specify nmfk parameters for each depth, or use same for all depth\n",
    "    # below will use the same nmfk parameters for all depths\n",
    "    # when using for each depth, append to the list \n",
    "    # for example, [nmfk_params0, nmfk_params1, nmfk_params2] for depth of 2\n",
    "    \"nmfk_params\": [nmfk_params], \n",
    "    # where to perform clustering, can be W or H\n",
    "    # if W, row of X should be samples\n",
    "    # if H, columns of X should be samples\n",
    "    \"cluster_on\":\"H\",\n",
    "    # how deep to go in each topic after root node\n",
    "    # if -1, it goes until samples cannot be seperated further\n",
    "    \"depth\":3,\n",
    "    # stopping criteria for num of samples\n",
    "    \"sample_thresh\":100,\n",
    "    # if K2=True, decomposition is done only for k=2 instead of \n",
    "    # finding and predicting the number of stable latent features\n",
    "    \"K2\":False,\n",
    "    # after first nmfk, when selecting Ks search range, minimum k to start\n",
    "    \"Ks_deep_min\":1,\n",
    "    # After first nmfk, when selecting Ks search range, maximum k to try.\n",
    "    # When None, maximum k will be same as k selected for parent node.\n",
    "    \"Ks_deep_max\": 20,\n",
    "    # after first nmfk, when selecting Ks search range, k step size\n",
    "    \"Ks_deep_step\":1,\n",
    "    # where to save\n",
    "    \"experiment_name\":name,\n",
    "    # when True, names the nodes randomly.\n",
    "    # When False, uses k index for ancestry naming\n",
    "    \"random_identifiers\":False\n",
    "}"
   ]
  },
  {
   "cell_type": "code",
   "execution_count": 9,
   "metadata": {},
   "outputs": [
    {
     "name": "stderr",
     "output_type": "stream",
     "text": [
      "/home/maksim/repositories/telf_internal/TELF/factorization/HNMFk.py:933: UserWarning: No checkpoint file found!\n",
      "  warnings.warn(\"No checkpoint file found!\")\n",
      "/home/maksim/repositories/telf_internal/TELF/factorization/NMFk.py:699: UserWarning: predict_k_method is defaulted to WH_sill!\n",
      "  warnings.warn(\"predict_k_method is defaulted to WH_sill!\")\n",
      "/home/maksim/miniconda3/envs/TELF/lib/python3.11/site-packages/numpy/_core/fromnumeric.py:3596: RuntimeWarning: Mean of empty slice.\n",
      "  return _methods._mean(a, axis=axis, dtype=dtype,\n",
      "/home/maksim/miniconda3/envs/TELF/lib/python3.11/site-packages/numpy/_core/_methods.py:138: RuntimeWarning: invalid value encountered in scalar divide\n",
      "  ret = ret.dtype.type(ret / rcount)\n"
     ]
    },
    {
     "name": "stdout",
     "output_type": "stream",
     "text": [
      "Done\n"
     ]
    },
    {
     "data": {
      "text/plain": [
       "{'time': 6.808085203170776}"
      ]
     },
     "execution_count": 9,
     "metadata": {},
     "output_type": "execute_result"
    }
   ],
   "source": [
    "model = HNMFk(**hnmfk_params)\n",
    "model.fit(X, Ks, from_checkpoint=True, save_checkpoint=True)"
   ]
  },
  {
   "cell_type": "markdown",
   "metadata": {},
   "source": [
    "# Example Traverse Graph"
   ]
  },
  {
   "cell_type": "markdown",
   "metadata": {},
   "source": [
    " Below functions can be utilized to walk the graph:\n",
    "\n",
    " ```python\n",
    "model.traverse_nodes()\n",
    "model.go_to_root()\n",
    "model.get_node()\n",
    "model.go_to_parent()\n",
    "model.go_to_children(idx:int)\n",
    "model.go_to_node(node_name:str)\n",
    " ```"
   ]
  },
  {
   "cell_type": "markdown",
   "metadata": {},
   "source": [
    " We can reset the iterator to go back to the root node as shown below:"
   ]
  },
  {
   "cell_type": "code",
   "execution_count": 10,
   "metadata": {},
   "outputs": [
    {
     "data": {
      "text/plain": [
       "'*'"
      ]
     },
     "execution_count": 10,
     "metadata": {},
     "output_type": "execute_result"
    }
   ],
   "source": [
    "node = model.go_to_root()\n",
    "node[\"node_name\"]"
   ]
  },
  {
   "cell_type": "markdown",
   "metadata": {},
   "source": [
    " HNMFk class includes a iterator that enables walking the graph nodes. Current node the iterator is at can be obtained as shown below (always starts at root node):"
   ]
  },
  {
   "cell_type": "code",
   "execution_count": 11,
   "metadata": {},
   "outputs": [
    {
     "data": {
      "text/plain": [
       "dict_keys(['node_name', 'depth', 'W', 'H', 'k', 'parent_topic', 'parent_node_k', 'parent_node_name', 'child_node_names', 'original_indices', 'num_samples', 'leaf', 'user_node_data', 'cluster_indices_in_parent', 'node_save_path', 'parent_node_factors_path', 'parent_node_save_path', 'exception', 'signature', 'probabilities', 'centroids', 'factors_path'])"
      ]
     },
     "execution_count": 11,
     "metadata": {},
     "output_type": "execute_result"
    }
   ],
   "source": [
    "node = model.get_node()\n",
    "node.keys()"
   ]
  },
  {
   "cell_type": "markdown",
   "metadata": {},
   "source": [
    " We can also see the name of the node:"
   ]
  },
  {
   "cell_type": "code",
   "execution_count": 12,
   "metadata": {},
   "outputs": [
    {
     "data": {
      "text/plain": [
       "'*'"
      ]
     },
     "execution_count": 12,
     "metadata": {},
     "output_type": "execute_result"
    }
   ],
   "source": [
    "node[\"node_name\"]"
   ]
  },
  {
   "cell_type": "markdown",
   "metadata": {},
   "source": [
    " And we can see the child nodes:"
   ]
  },
  {
   "cell_type": "code",
   "execution_count": 13,
   "metadata": {},
   "outputs": [
    {
     "data": {
      "text/plain": [
       "['*_0', '*_1', '*_2', '*_3']"
      ]
     },
     "execution_count": 13,
     "metadata": {},
     "output_type": "execute_result"
    }
   ],
   "source": [
    "node[\"child_node_names\"]"
   ]
  },
  {
   "cell_type": "markdown",
   "metadata": {},
   "source": [
    " We can go to the child node specified with an index. For example, to go to the first child, we index at 0. When we go to the child node, it will return the child node and set the iterator to the child node."
   ]
  },
  {
   "cell_type": "code",
   "execution_count": 14,
   "metadata": {},
   "outputs": [
    {
     "data": {
      "text/plain": [
       "'*_1'"
      ]
     },
     "execution_count": 14,
     "metadata": {},
     "output_type": "execute_result"
    }
   ],
   "source": [
    "node = model.go_to_children(1)\n",
    "node[\"node_name\"]"
   ]
  },
  {
   "cell_type": "code",
   "execution_count": 15,
   "metadata": {},
   "outputs": [
    {
     "data": {
      "text/plain": [
       "dict_keys(['node_name', 'depth', 'W', 'H', 'k', 'parent_topic', 'parent_node_k', 'parent_node_name', 'child_node_names', 'original_indices', 'num_samples', 'leaf', 'user_node_data', 'cluster_indices_in_parent', 'node_save_path', 'parent_node_factors_path', 'parent_node_save_path', 'exception', 'signature', 'probabilities', 'centroids', 'factors_path'])"
      ]
     },
     "execution_count": 15,
     "metadata": {},
     "output_type": "execute_result"
    }
   ],
   "source": [
    "node.keys()"
   ]
  },
  {
   "cell_type": "code",
   "execution_count": 16,
   "metadata": {},
   "outputs": [
    {
     "data": {
      "text/plain": [
       "'example_HNMFk3/depth_1/*_1/node_*_1.p'"
      ]
     },
     "execution_count": 16,
     "metadata": {},
     "output_type": "execute_result"
    }
   ],
   "source": [
    "node[\"node_save_path\"]"
   ]
  },
  {
   "cell_type": "code",
   "execution_count": 17,
   "metadata": {},
   "outputs": [
    {
     "data": {
      "text/plain": [
       "'example_HNMFk3/depth_0/*/node_*.p'"
      ]
     },
     "execution_count": 17,
     "metadata": {},
     "output_type": "execute_result"
    }
   ],
   "source": [
    "node[\"parent_node_save_path\"]"
   ]
  },
  {
   "cell_type": "markdown",
   "metadata": {},
   "source": [
    "Go to a specific node"
   ]
  },
  {
   "cell_type": "code",
   "execution_count": 18,
   "metadata": {},
   "outputs": [
    {
     "data": {
      "text/plain": [
       "['*_3_0', '*_3_1', '*_3_2', '*_3_3']"
      ]
     },
     "execution_count": 18,
     "metadata": {},
     "output_type": "execute_result"
    }
   ],
   "source": [
    "node = model.go_to_node(\"*_3\")\n",
    "node[\"child_node_names\"]"
   ]
  },
  {
   "cell_type": "markdown",
   "metadata": {},
   "source": [
    " Take a look at the parent node, which should be the root:"
   ]
  },
  {
   "cell_type": "code",
   "execution_count": 19,
   "metadata": {},
   "outputs": [
    {
     "data": {
      "text/plain": [
       "'*'"
      ]
     },
     "execution_count": 19,
     "metadata": {},
     "output_type": "execute_result"
    }
   ],
   "source": [
    "node[\"parent_node_name\"]"
   ]
  },
  {
   "cell_type": "markdown",
   "metadata": {},
   "source": [
    "get_node() always returns the node we are currently at:"
   ]
  },
  {
   "cell_type": "code",
   "execution_count": 20,
   "metadata": {},
   "outputs": [
    {
     "data": {
      "text/plain": [
       "'*_3'"
      ]
     },
     "execution_count": 20,
     "metadata": {},
     "output_type": "execute_result"
    }
   ],
   "source": [
    "node = model.get_node()\n",
    "node[\"node_name\"]"
   ]
  },
  {
   "cell_type": "markdown",
   "metadata": {},
   "source": [
    "Go back to parent:"
   ]
  },
  {
   "cell_type": "code",
   "execution_count": 21,
   "metadata": {},
   "outputs": [
    {
     "data": {
      "text/plain": [
       "'*'"
      ]
     },
     "execution_count": 21,
     "metadata": {},
     "output_type": "execute_result"
    }
   ],
   "source": [
    "node = model.go_to_parent()\n",
    "node[\"node_name\"]"
   ]
  },
  {
   "cell_type": "markdown",
   "metadata": {},
   "source": [
    " From each node, we can get the samples that was clustered in the node:"
   ]
  },
  {
   "cell_type": "code",
   "execution_count": 22,
   "metadata": {},
   "outputs": [
    {
     "data": {
      "text/plain": [
       "array([0, 1, 2, 3, 4])"
      ]
     },
     "execution_count": 22,
     "metadata": {},
     "output_type": "execute_result"
    }
   ],
   "source": [
    "node[\"original_indices\"][:5]"
   ]
  },
  {
   "cell_type": "markdown",
   "metadata": {},
   "source": [
    "We can also look at which of the parent H clustering indices resulted in the samples in current cluster."
   ]
  },
  {
   "cell_type": "code",
   "execution_count": 23,
   "metadata": {},
   "outputs": [
    {
     "name": "stdout",
     "output_type": "stream",
     "text": [
      "Original indices from X= [ 32  38  55  59 140 176 178 204 274 299 305 338 345 413 415 477 485 489\n",
      " 496]\n",
      "H clustering indices from parent topic= [ 27  32  47  50 121 152 153 174 237 260 265 296 303 361 363 415 422 424\n",
      " 430]\n"
     ]
    }
   ],
   "source": [
    "node = model.go_to_node(\"*_3_0\")\n",
    "print(\"Original indices from X=\", node[\"original_indices\"])\n",
    "print(\"H clustering indices from parent topic=\", node[\"cluster_indices_in_parent\"])"
   ]
  },
  {
   "cell_type": "markdown",
   "metadata": {},
   "source": [
    "Root is empty because it does not have a parent:"
   ]
  },
  {
   "cell_type": "code",
   "execution_count": 24,
   "metadata": {},
   "outputs": [
    {
     "name": "stdout",
     "output_type": "stream",
     "text": [
      "H clustering indices from parent topic= []\n"
     ]
    }
   ],
   "source": [
    "node = model.go_to_root()\n",
    "print(\"H clustering indices from parent topic=\", node[\"cluster_indices_in_parent\"])"
   ]
  },
  {
   "cell_type": "markdown",
   "metadata": {},
   "source": [
    "We can also check if a given node in the graph a leaf node"
   ]
  },
  {
   "cell_type": "code",
   "execution_count": 25,
   "metadata": {},
   "outputs": [
    {
     "data": {
      "text/plain": [
       "False"
      ]
     },
     "execution_count": 25,
     "metadata": {},
     "output_type": "execute_result"
    }
   ],
   "source": [
    "node[\"leaf\"]"
   ]
  },
  {
   "cell_type": "markdown",
   "metadata": {},
   "source": [
    " Finally, we can obtain all the nodes using the following method. Note that while other other node iterator options above are online, meaning each node is loaded into memory one at a time, the following traversal will load all nodes into the memory:"
   ]
  },
  {
   "cell_type": "code",
   "execution_count": 26,
   "metadata": {},
   "outputs": [
    {
     "data": {
      "text/plain": [
       "13"
      ]
     },
     "execution_count": 26,
     "metadata": {},
     "output_type": "execute_result"
    }
   ],
   "source": [
    "all_nodes = model.traverse_nodes()\n",
    "len(all_nodes)"
   ]
  },
  {
   "cell_type": "code",
   "execution_count": 27,
   "metadata": {},
   "outputs": [],
   "source": [
    "indices = []\n",
    "leaf_nodes = []\n",
    "for node in all_nodes:\n",
    "    if node[\"leaf\"]:\n",
    "        indices += list(node[\"original_indices\"])\n",
    "        leaf_nodes.append(node)\n",
    "indices.sort()\n",
    "assert all(indices == np.arange(0, X.shape[1], 1))"
   ]
  },
  {
   "cell_type": "code",
   "execution_count": 28,
   "metadata": {},
   "outputs": [
    {
     "data": {
      "text/plain": [
       "10"
      ]
     },
     "execution_count": 28,
     "metadata": {},
     "output_type": "execute_result"
    }
   ],
   "source": [
    "len(leaf_nodes)"
   ]
  },
  {
   "cell_type": "code",
   "execution_count": 29,
   "metadata": {},
   "outputs": [
    {
     "data": {
      "text/plain": [
       "{'node_name': '*_0',\n",
       " 'depth': 1,\n",
       " 'W': None,\n",
       " 'H': None,\n",
       " 'k': None,\n",
       " 'parent_topic': 0,\n",
       " 'parent_node_k': 4,\n",
       " 'parent_node_name': '*',\n",
       " 'child_node_names': [],\n",
       " 'original_indices': array([ 20,  39,  77, 112, 208, 240, 249, 263, 370, 372, 406, 432, 439,\n",
       "        442, 466, 487]),\n",
       " 'num_samples': 16,\n",
       " 'leaf': True,\n",
       " 'user_node_data': {},\n",
       " 'cluster_indices_in_parent': array([ 20,  39,  77, 112, 208, 240, 249, 263, 370, 372, 406, 432, 439,\n",
       "        442, 466, 487]),\n",
       " 'node_save_path': 'example_HNMFk3/depth_1/*_0/node_*_0.p',\n",
       " 'parent_node_factors_path': 'example_HNMFk3/depth_0/*/NMFk-*_2perts_1000iters_0.015eps_nnsvd-init/WH_k=4.npz',\n",
       " 'parent_node_save_path': 'example_HNMFk3/depth_0/*/node_*.p',\n",
       " 'exception': False,\n",
       " 'signature': array([1.70325395e-03, 4.14496893e-03, 4.47777240e-03, 8.82128661e-04,\n",
       "        7.72891450e-04, 1.72561698e-03, 1.96789461e-03, 5.06446406e-04,\n",
       "        2.36227410e-03, 1.63572864e-03, 4.09639487e-03, 1.86754309e-03,\n",
       "        3.07867932e-03, 3.74930399e-03, 1.43890583e-03, 9.94510134e-04,\n",
       "        3.50487721e-03, 3.66484407e-08, 2.27951095e-03, 3.73010465e-04,\n",
       "        3.75122617e-08, 2.37709819e-03, 3.47603601e-03, 1.68123574e-03,\n",
       "        4.15260351e-04, 1.70763722e-03, 3.67934024e-03, 5.95262973e-04,\n",
       "        3.53376125e-03, 2.21562129e-03, 3.75488440e-08, 3.26998020e-03,\n",
       "        5.07093282e-05, 8.08072728e-05, 4.13263636e-03, 1.30980276e-03,\n",
       "        2.04788730e-03, 1.05440058e-07, 3.79244156e-08, 3.08671873e-03,\n",
       "        1.73922593e-03, 3.98382554e-08, 3.47084423e-08, 1.37317023e-04,\n",
       "        3.73880376e-08, 3.56623344e-03, 1.58909441e-03, 4.39947611e-03,\n",
       "        1.35713525e-03, 2.69348337e-03, 4.47366806e-03, 3.26866191e-03,\n",
       "        2.77612172e-03, 6.90049899e-04, 3.15317442e-03, 1.61579519e-03,\n",
       "        1.00095465e-03, 1.72104337e-03, 3.26844724e-03, 4.07758635e-04,\n",
       "        2.09234815e-04, 3.59209999e-03, 1.43007818e-03, 2.83584767e-03,\n",
       "        3.73786655e-08, 1.90671859e-03, 2.69240839e-03, 3.20107094e-03,\n",
       "        1.70409575e-03, 3.16758151e-03, 1.12944166e-04, 2.47611245e-03,\n",
       "        3.65986637e-08, 2.71547795e-03, 1.53687040e-07, 2.24628346e-03,\n",
       "        6.83594146e-04, 2.09725090e-06, 1.89228612e-03, 1.22773845e-03,\n",
       "        1.18837255e-04, 2.38667498e-03, 3.42200301e-03, 7.03059777e-05,\n",
       "        3.74574007e-08, 1.84393954e-03, 3.61083323e-08, 3.43749137e-03,\n",
       "        3.25801130e-03, 1.51836744e-03, 1.94915046e-03, 3.77814146e-03,\n",
       "        2.09960922e-06, 9.44663072e-04, 9.27615678e-04, 3.24142049e-03,\n",
       "        2.64759758e-04, 7.91157421e-04, 3.82013666e-03, 3.13811027e-03,\n",
       "        2.91846064e-03, 3.55831595e-08, 4.63876640e-03, 1.67576352e-03,\n",
       "        2.97160936e-03, 2.10655830e-03, 3.54757416e-03, 3.69220506e-03,\n",
       "        3.51139600e-03, 3.55834651e-08, 7.42610428e-04, 2.48754816e-03,\n",
       "        2.17588805e-03, 1.75350951e-03, 2.05138331e-05, 1.72089273e-03,\n",
       "        4.36744280e-03, 4.01793141e-03, 3.68498545e-03, 1.28890644e-03,\n",
       "        2.41605379e-03, 8.43825983e-04, 2.38907640e-03, 1.31453772e-03,\n",
       "        4.20409488e-03, 3.64772836e-03, 3.46342311e-03, 1.42178370e-03,\n",
       "        3.71512989e-08, 3.65490678e-08, 3.26901861e-03, 1.03925331e-03,\n",
       "        3.49519867e-03, 4.02036961e-03, 4.36328584e-04, 3.10675451e-03,\n",
       "        3.22757522e-03, 3.35523882e-03, 1.01700705e-03, 2.42759916e-03,\n",
       "        1.64021856e-07, 1.49730651e-03, 3.60208540e-03, 3.59886396e-03,\n",
       "        9.30221589e-08, 5.91522723e-04, 6.91890600e-04, 2.96052010e-03,\n",
       "        1.33838912e-03, 4.24663676e-06, 4.78109032e-05, 1.29043730e-03,\n",
       "        3.57508613e-03, 4.00469219e-03, 2.76793283e-03, 1.97385903e-03,\n",
       "        3.28172650e-03, 3.57725448e-03, 1.95426331e-03, 1.69528672e-03,\n",
       "        1.16551295e-03, 2.13128817e-03, 2.56401766e-03, 3.74467888e-08,\n",
       "        2.07550102e-03, 3.78022769e-08, 4.97392961e-04, 4.09406703e-03,\n",
       "        4.06067912e-03, 3.11378879e-03, 3.37984809e-03, 9.07135196e-04,\n",
       "        2.02435046e-03, 2.95841973e-03, 1.91669713e-03, 4.81366209e-04,\n",
       "        2.92072981e-03, 1.81493047e-03, 4.16906131e-03, 3.11372266e-03,\n",
       "        3.75170959e-03, 3.40538658e-03, 3.81636550e-03, 3.89471510e-03,\n",
       "        9.93227237e-04, 1.79488957e-03, 1.70699076e-03, 4.47507435e-03,\n",
       "        3.82027728e-03, 2.95505091e-03, 3.24892835e-03, 3.17436457e-03,\n",
       "        3.55727039e-03, 3.69661031e-08, 2.02752207e-03, 1.39216986e-03,\n",
       "        7.85257434e-04, 2.17878562e-03, 4.02305787e-03, 3.95492837e-03,\n",
       "        2.78336904e-03, 3.34049319e-03, 3.39127961e-03, 1.07142597e-03,\n",
       "        1.59019034e-03, 1.77915033e-03, 9.18673875e-04, 2.03419407e-03,\n",
       "        1.54920039e-03, 2.79008015e-03, 4.01440822e-03, 4.54191165e-03,\n",
       "        3.40270833e-03, 1.02312825e-07, 3.57059449e-08, 1.73552800e-03,\n",
       "        5.22034767e-04, 6.76447293e-04, 7.57038011e-04, 8.69711745e-04,\n",
       "        3.75296558e-08, 8.83493980e-04, 3.40955984e-03, 5.08770638e-04,\n",
       "        3.67421222e-08, 2.78422609e-03, 3.87254977e-06, 6.15665922e-04,\n",
       "        1.64621416e-03, 3.64612553e-08, 3.19260499e-03, 2.58456380e-03,\n",
       "        4.09394642e-03, 1.37308566e-03, 1.93741068e-03, 3.18090455e-03,\n",
       "        4.38792445e-03, 2.70022452e-03, 8.37505388e-04, 3.63766681e-03,\n",
       "        1.24090340e-03, 6.68355438e-04, 3.91236180e-03, 1.41072145e-03,\n",
       "        2.74400273e-03, 3.68909099e-08, 1.50089373e-03, 2.14855419e-03,\n",
       "        3.69376174e-08, 1.74185587e-03, 2.47025583e-03, 3.41078639e-03,\n",
       "        4.36971616e-03, 4.26482456e-03, 3.52495775e-08, 4.06769617e-03,\n",
       "        3.48212430e-03, 2.32167589e-03, 3.36436066e-03, 1.03080296e-03,\n",
       "        2.41568242e-03, 3.72763793e-08, 2.14262027e-03, 8.09825215e-05,\n",
       "        2.73440802e-03, 1.02188566e-03, 3.74765818e-08, 8.32542661e-04,\n",
       "        1.23237830e-03, 4.11217613e-03, 4.22747433e-03, 2.54751852e-04,\n",
       "        2.82462197e-03, 5.52759797e-04, 9.87887033e-04, 2.99357064e-03,\n",
       "        3.64204869e-03, 6.89127541e-04, 1.99328410e-03, 3.68019144e-08,\n",
       "        2.88959453e-03, 1.83301361e-03, 1.77479628e-03, 3.62115351e-08,\n",
       "        2.52775638e-03, 2.32776115e-03, 1.94339745e-03, 3.21817747e-03,\n",
       "        2.95237429e-03, 3.50525227e-08, 3.59734194e-03, 1.14648161e-03,\n",
       "        4.03328612e-03, 2.20952788e-03, 2.33152229e-03, 4.23044898e-03,\n",
       "        3.54332101e-08, 2.34700204e-03, 3.89955868e-03, 3.71587561e-08,\n",
       "        1.58808776e-03, 1.20196457e-03, 1.14817254e-03, 3.73742282e-08,\n",
       "        3.51277777e-07, 4.56304150e-03, 6.80817873e-04, 2.55638181e-04,\n",
       "        1.31614984e-03, 6.10972819e-08, 3.27812694e-03, 3.73812661e-08,\n",
       "        1.63273641e-03, 1.46130787e-03, 2.50938535e-03, 1.43987278e-03,\n",
       "        1.95201801e-03, 3.67799541e-03, 7.31903629e-06, 1.59811287e-03,\n",
       "        3.61168269e-08, 1.39011501e-03, 2.16237400e-04, 3.77539315e-08,\n",
       "        2.90535484e-03, 1.78064685e-03, 2.95036496e-03, 3.81517131e-03,\n",
       "        2.38005910e-03, 3.71648454e-08, 1.64816299e-06, 4.00501443e-03,\n",
       "        2.97447667e-03, 1.62056438e-03, 3.59167700e-08, 2.55932240e-03,\n",
       "        1.56618888e-03, 2.40786001e-03, 3.48438974e-03, 2.87175551e-03,\n",
       "        2.91055278e-03, 4.11944650e-03, 3.74295794e-08, 4.10399493e-03,\n",
       "        2.40266277e-03, 8.96371972e-08, 4.19124397e-08, 3.51783761e-04,\n",
       "        3.42170801e-03, 2.94601428e-03, 3.52747855e-03, 3.16856056e-03,\n",
       "        3.74590314e-08, 4.21313336e-03, 4.09491779e-03, 4.05950559e-04,\n",
       "        4.36822278e-03, 1.74859143e-03, 3.67265933e-08, 2.72582518e-03,\n",
       "        1.87035126e-03, 3.90255847e-03, 2.53049890e-03, 4.54963604e-03,\n",
       "        2.85507063e-03, 2.81747989e-03, 1.48295576e-03, 2.93602678e-03,\n",
       "        3.13589629e-03, 1.21890043e-03, 3.68131055e-08, 2.92611425e-03,\n",
       "        1.45636301e-03, 2.80515919e-03, 3.84079386e-03, 1.51493691e-03,\n",
       "        1.97409978e-03, 2.49298313e-03, 3.71065134e-08, 3.94138321e-03,\n",
       "        3.61721533e-08, 1.30828854e-03, 2.70029576e-03, 4.58154536e-04,\n",
       "        1.96847226e-03, 9.96564631e-04, 2.10784376e-03, 1.60989293e-03,\n",
       "        5.54435363e-04, 3.65438522e-03, 6.32576819e-04, 3.75079807e-08,\n",
       "        2.09573068e-06, 3.74943880e-08, 1.62175123e-03, 1.71173923e-03,\n",
       "        1.66675460e-03, 3.87651799e-03, 2.17918935e-03, 4.38368879e-03,\n",
       "        1.37285271e-03, 3.48388078e-03, 2.09006877e-03, 2.99597718e-03,\n",
       "        3.07053514e-03, 4.38611209e-03, 1.99650554e-03, 7.09119020e-04,\n",
       "        3.95072313e-08, 3.75556317e-03, 2.18986790e-03, 3.36224353e-03,\n",
       "        1.26300321e-03, 4.35210997e-03, 1.88266835e-03, 1.51218066e-03,\n",
       "        4.20792168e-03, 3.35583067e-03, 1.36068571e-04, 2.95760040e-03,\n",
       "        2.84742587e-03, 9.04675224e-04, 2.02714163e-03, 2.84493422e-06,\n",
       "        1.74438965e-03, 2.53967731e-03, 6.31509931e-04, 3.74600972e-08,\n",
       "        4.85302275e-03, 3.71233924e-08, 1.42496385e-04, 4.76036593e-03,\n",
       "        2.72153737e-03, 4.16191760e-03, 1.77639991e-03, 3.62339208e-08,\n",
       "        1.05313072e-03, 8.15941021e-04, 2.87365518e-03, 2.79729068e-03,\n",
       "        1.82536663e-03, 1.49248622e-03, 3.31413932e-03, 3.14510289e-05,\n",
       "        3.90761439e-03, 1.99492858e-03, 2.05130805e-03, 3.08578275e-03,\n",
       "        1.93846574e-07, 2.37156570e-07, 1.03940524e-03, 3.73188378e-08,\n",
       "        3.16915056e-03, 4.78507997e-03, 8.28663527e-04, 3.26877669e-03,\n",
       "        4.61970177e-03, 2.27620616e-03, 2.18908652e-03, 4.62473473e-08,\n",
       "        2.46417173e-03, 9.96136921e-04, 3.66977067e-03, 1.01100490e-07,\n",
       "        2.84175458e-03, 2.38769455e-03, 4.58225404e-04, 3.71837103e-08,\n",
       "        1.58230658e-03, 2.39969045e-03, 2.80903187e-03, 8.68172676e-04,\n",
       "        1.40626414e-03, 3.46654467e-03, 3.71330790e-03, 3.66757149e-08,\n",
       "        1.17795693e-03, 4.06985031e-03, 3.53281363e-03, 1.66257576e-03,\n",
       "        1.41206523e-03, 2.10753921e-03, 2.51429947e-03, 3.14873108e-03,\n",
       "        3.61752939e-08, 2.53462675e-03, 1.82198681e-04, 8.20079353e-04,\n",
       "        3.39953299e-03, 3.29346070e-03, 8.58672836e-04, 1.43928197e-03,\n",
       "        4.19236161e-03, 4.06452408e-03, 3.13489977e-03, 1.40043593e-03,\n",
       "        1.79701520e-03, 3.70839324e-08, 2.77444744e-03, 1.37171301e-03],\n",
       "       dtype=float32),\n",
       " 'probabilities': array([0.4320191 , 0.29296866, 0.31729016, 0.41795534, 0.36879805,\n",
       "        0.36965382, 0.37548277, 0.29363623, 0.33020315, 0.37322658,\n",
       "        0.46809018, 0.36538363, 0.31377402, 0.35535392, 0.2859565 ,\n",
       "        0.493085  ], dtype=float32),\n",
       " 'centroids': array([[0.4320191 , 0.29296866, 0.31729016, 0.41795534, 0.36879805,\n",
       "         0.36965382, 0.37548277, 0.29363623, 0.33020315, 0.37322658,\n",
       "         0.46809018, 0.36538363, 0.31377402, 0.35535392, 0.2859565 ,\n",
       "         0.493085  ],\n",
       "        [0.3100634 , 0.20737752, 0.2241185 , 0.14291188, 0.19783984,\n",
       "         0.14978822, 0.14790136, 0.25114322, 0.08917525, 0.02432955,\n",
       "         0.0097703 , 0.03656472, 0.19050652, 0.2889054 , 0.20207173,\n",
       "         0.03277086],\n",
       "        [0.20203468, 0.23247312, 0.23874222, 0.2585524 , 0.22181606,\n",
       "         0.20375188, 0.21106549, 0.17422597, 0.27007893, 0.33235368,\n",
       "         0.14615482, 0.27046388, 0.21134509, 0.1631637 , 0.25359935,\n",
       "         0.17777038],\n",
       "        [0.05588284, 0.26718065, 0.21984915, 0.18058044, 0.21154603,\n",
       "         0.27680606, 0.26555037, 0.28099456, 0.3105427 , 0.27009013,\n",
       "         0.3759847 , 0.32758775, 0.28437433, 0.19257697, 0.25837243,\n",
       "         0.29637378]], dtype=float32),\n",
       " 'factors_path': None}"
      ]
     },
     "execution_count": 29,
     "metadata": {},
     "output_type": "execute_result"
    }
   ],
   "source": [
    "leaf_nodes[0]"
   ]
  },
  {
   "cell_type": "code",
   "execution_count": 30,
   "metadata": {},
   "outputs": [
    {
     "data": {
      "text/plain": [
       "(4, 16)"
      ]
     },
     "execution_count": 30,
     "metadata": {},
     "output_type": "execute_result"
    }
   ],
   "source": [
    "leaf_nodes[0][\"centroids\"].shape"
   ]
  },
  {
   "cell_type": "code",
   "execution_count": 31,
   "metadata": {},
   "outputs": [
    {
     "data": {
      "text/plain": [
       "(500,)"
      ]
     },
     "execution_count": 31,
     "metadata": {},
     "output_type": "execute_result"
    }
   ],
   "source": [
    "leaf_nodes[0][\"signature\"].shape"
   ]
  },
  {
   "cell_type": "code",
   "execution_count": 32,
   "metadata": {},
   "outputs": [
    {
     "data": {
      "text/plain": [
       "(16,)"
      ]
     },
     "execution_count": 32,
     "metadata": {},
     "output_type": "execute_result"
    }
   ],
   "source": [
    "leaf_nodes[0][\"probabilities\"].shape"
   ]
  },
  {
   "cell_type": "code",
   "execution_count": 33,
   "metadata": {},
   "outputs": [
    {
     "data": {
      "text/plain": [
       "{'node_name': '*_2',\n",
       " 'depth': 1,\n",
       " 'W': None,\n",
       " 'H': None,\n",
       " 'k': None,\n",
       " 'parent_topic': 2,\n",
       " 'parent_node_k': 4,\n",
       " 'parent_node_name': '*',\n",
       " 'child_node_names': [],\n",
       " 'original_indices': array([ 34,  53,  56,  90, 129, 132, 151, 183, 195, 221, 275, 346, 347,\n",
       "        417, 478, 491]),\n",
       " 'num_samples': 16,\n",
       " 'leaf': True,\n",
       " 'user_node_data': {},\n",
       " 'cluster_indices_in_parent': array([ 34,  53,  56,  90, 129, 132, 151, 183, 195, 221, 275, 346, 347,\n",
       "        417, 478, 491]),\n",
       " 'node_save_path': 'example_HNMFk3/depth_1/*_2/node_*_2.p',\n",
       " 'parent_node_factors_path': 'example_HNMFk3/depth_0/*/NMFk-*_2perts_1000iters_0.015eps_nnsvd-init/WH_k=4.npz',\n",
       " 'parent_node_save_path': 'example_HNMFk3/depth_0/*/node_*.p',\n",
       " 'exception': False,\n",
       " 'signature': array([4.52539418e-03, 9.23468149e-04, 2.49131210e-03, 3.62107535e-08,\n",
       "        2.32034340e-03, 3.71468296e-08, 3.12231877e-03, 3.67488120e-08,\n",
       "        5.48158120e-03, 8.14323605e-04, 2.49806838e-03, 3.01112956e-03,\n",
       "        1.21856248e-03, 3.21191899e-03, 9.15026700e-04, 1.51557405e-03,\n",
       "        2.42034113e-03, 4.93968790e-03, 4.69380850e-03, 3.50905864e-08,\n",
       "        1.41148304e-03, 1.94466277e-03, 8.38648470e-04, 2.06101150e-03,\n",
       "        8.64241214e-04, 3.32632102e-03, 1.19517068e-07, 2.92731711e-04,\n",
       "        2.88179959e-03, 2.59774271e-04, 2.87219114e-03, 2.76654167e-03,\n",
       "        2.85027735e-03, 2.55317963e-03, 2.98647769e-03, 3.71939741e-08,\n",
       "        5.47993695e-04, 2.26523448e-03, 3.02704517e-03, 2.68050213e-03,\n",
       "        3.01008113e-03, 4.02314542e-03, 2.93587428e-03, 8.47703253e-04,\n",
       "        1.38498656e-03, 1.30992697e-03, 3.55271949e-03, 6.19347324e-04,\n",
       "        1.57396623e-03, 3.86042334e-03, 3.68754307e-08, 3.54207614e-08,\n",
       "        1.65917247e-03, 6.00596541e-04, 3.78679135e-03, 1.54402119e-03,\n",
       "        1.80841179e-03, 2.13969359e-03, 1.63789233e-03, 3.68567184e-04,\n",
       "        3.67206056e-03, 5.01878140e-03, 2.37781811e-03, 1.62179745e-07,\n",
       "        1.85219874e-03, 3.49883316e-03, 2.65423558e-03, 1.89656042e-03,\n",
       "        3.12276650e-03, 2.47309869e-03, 4.40442307e-07, 3.69126170e-08,\n",
       "        1.81147503e-03, 3.21036214e-06, 1.92701251e-07, 3.14020133e-03,\n",
       "        3.58360005e-03, 2.10937969e-07, 5.40812034e-03, 5.99258965e-05,\n",
       "        3.02279904e-03, 2.29930016e-03, 1.06588774e-03, 5.51506702e-04,\n",
       "        1.94214925e-03, 1.53670809e-03, 2.42638402e-03, 3.01551376e-03,\n",
       "        3.69822537e-08, 3.80495773e-03, 2.83619459e-03, 1.38511031e-03,\n",
       "        2.44159622e-07, 2.90953787e-03, 3.62753809e-08, 3.95669555e-03,\n",
       "        2.56856554e-03, 3.39013897e-03, 3.54614342e-03, 1.43203512e-03,\n",
       "        4.72835498e-03, 3.57055385e-03, 3.64604276e-08, 1.58138631e-03,\n",
       "        1.99907413e-03, 2.26575299e-03, 3.24945292e-03, 4.06315550e-04,\n",
       "        3.66218735e-08, 3.97028308e-03, 4.84648580e-03, 4.01340798e-03,\n",
       "        7.78681715e-04, 3.43102706e-03, 2.06759851e-03, 3.71986139e-03,\n",
       "        2.55440536e-05, 4.13378654e-03, 4.91982652e-03, 3.58491950e-03,\n",
       "        2.65168911e-03, 2.78752390e-03, 2.87435972e-03, 9.72094771e-04,\n",
       "        8.06438562e-04, 1.77078997e-03, 8.12860555e-04, 2.20825290e-03,\n",
       "        1.76538690e-03, 3.76869692e-03, 2.00919574e-03, 1.00286526e-03,\n",
       "        5.08224731e-03, 1.82797771e-03, 3.78510343e-08, 1.40276691e-03,\n",
       "        8.52630939e-04, 3.37774353e-03, 2.53111683e-03, 1.01386115e-03,\n",
       "        3.63328603e-08, 2.55090510e-03, 6.71248010e-04, 3.38027952e-03,\n",
       "        4.45853593e-03, 4.10210202e-03, 3.73045310e-08, 9.21090890e-04,\n",
       "        2.36921082e-03, 3.62955213e-08, 1.15044112e-03, 2.20095250e-03,\n",
       "        2.50425539e-03, 6.02342829e-04, 2.35821679e-03, 1.21720601e-03,\n",
       "        1.31520361e-03, 2.27991561e-03, 1.75846729e-03, 5.11088525e-04,\n",
       "        1.76930649e-03, 4.65874653e-03, 1.03943981e-03, 2.62592128e-03,\n",
       "        2.04108213e-03, 4.38623549e-03, 8.18660134e-04, 1.56626117e-03,\n",
       "        3.10156727e-03, 3.02826846e-03, 5.30686037e-08, 1.38292601e-03,\n",
       "        3.71136437e-08, 5.26692427e-04, 2.49311328e-03, 3.58818859e-08,\n",
       "        5.10019111e-03, 3.61818797e-03, 1.76669308e-03, 3.14506260e-03,\n",
       "        3.62090162e-08, 3.21771344e-03, 9.52519942e-04, 1.86367403e-03,\n",
       "        3.47360549e-03, 1.49669021e-03, 4.17931471e-03, 1.61292288e-03,\n",
       "        8.25152732e-04, 2.52051093e-03, 1.74463412e-03, 3.71638872e-03,\n",
       "        3.51678557e-03, 2.34190351e-03, 3.82972509e-03, 1.47949881e-03,\n",
       "        4.44324734e-03, 3.69889545e-03, 2.19577458e-03, 1.91040465e-03,\n",
       "        1.33510696e-06, 3.88134900e-03, 1.14214292e-03, 4.99704154e-03,\n",
       "        8.87066650e-04, 3.48136666e-08, 3.56104900e-03, 1.02698687e-03,\n",
       "        1.25655462e-03, 7.23957433e-04, 3.59890680e-03, 2.16827542e-03,\n",
       "        2.16394034e-03, 3.79948062e-03, 2.45510926e-03, 1.26464583e-03,\n",
       "        1.98292267e-03, 3.01687140e-03, 5.86986309e-04, 1.51755777e-03,\n",
       "        2.32565450e-03, 4.80462319e-08, 2.11646757e-03, 9.55844764e-04,\n",
       "        2.97201495e-03, 2.32885475e-04, 4.26282780e-03, 1.92567648e-03,\n",
       "        1.40171079e-03, 4.26776661e-03, 1.82686467e-03, 3.68812536e-08,\n",
       "        4.80298360e-04, 3.99473123e-04, 4.27418062e-03, 3.03206174e-03,\n",
       "        3.02101776e-04, 1.91534811e-03, 4.29751119e-03, 3.67618540e-08,\n",
       "        2.93999072e-03, 1.92341360e-03, 2.20785290e-03, 3.65255488e-08,\n",
       "        3.71469220e-08, 2.64523481e-03, 1.71720807e-03, 4.32402501e-03,\n",
       "        2.41354061e-03, 5.85428204e-08, 3.32814269e-03, 2.52667721e-03,\n",
       "        2.43487093e-03, 3.67276201e-08, 2.81408662e-03, 1.45195273e-03,\n",
       "        1.61169120e-03, 3.21149710e-03, 5.49491844e-04, 2.61946605e-03,\n",
       "        3.10078356e-03, 1.18653616e-03, 3.66587862e-08, 3.09687341e-03,\n",
       "        1.11906230e-03, 3.65396356e-03, 2.77320319e-03, 1.01243251e-03,\n",
       "        1.28949631e-03, 2.98212888e-03, 3.69545781e-08, 9.88007407e-04,\n",
       "        1.01462583e-05, 1.40057062e-03, 1.40863832e-03, 5.54027362e-03,\n",
       "        3.67818842e-08, 8.42167501e-05, 2.85170297e-03, 3.90875153e-03,\n",
       "        3.82156856e-03, 1.49717042e-03, 1.45663356e-03, 1.45749585e-03,\n",
       "        1.33739051e-03, 9.46865242e-04, 4.51952592e-03, 3.33554624e-03,\n",
       "        2.68816063e-03, 4.09763167e-03, 3.67887125e-08, 4.40952973e-03,\n",
       "        2.43481435e-03, 8.83132860e-04, 6.86114845e-08, 7.74676155e-04,\n",
       "        4.35770629e-03, 2.83927005e-03, 2.59334035e-03, 3.12311505e-03,\n",
       "        3.31995835e-08, 3.37641709e-03, 4.52856347e-03, 3.97921260e-03,\n",
       "        3.71952471e-03, 3.69947308e-08, 2.55020568e-03, 1.04317174e-03,\n",
       "        6.20357343e-04, 1.55250961e-03, 2.98937620e-03, 1.38985016e-03,\n",
       "        2.01523025e-03, 1.29210390e-03, 2.16331030e-03, 3.54231056e-03,\n",
       "        9.79405595e-04, 1.32977590e-03, 3.53010101e-08, 4.15022299e-03,\n",
       "        2.25615245e-03, 1.92266342e-03, 7.83899333e-04, 2.86449725e-03,\n",
       "        1.20185642e-03, 4.13820008e-03, 3.63573804e-03, 3.45634902e-03,\n",
       "        3.34811071e-03, 2.10182229e-03, 1.35066384e-03, 1.16146268e-07,\n",
       "        1.87990221e-03, 5.29040024e-03, 2.35570967e-03, 2.84969271e-03,\n",
       "        9.82649974e-04, 3.65072914e-08, 3.30317859e-03, 4.50300024e-04,\n",
       "        1.02114164e-07, 3.75162781e-04, 1.79559074e-03, 1.24133960e-03,\n",
       "        2.09495658e-03, 2.61405483e-03, 1.04546768e-03, 3.80831921e-06,\n",
       "        2.75767175e-03, 1.30355149e-03, 8.54768441e-04, 2.12124153e-03,\n",
       "        2.90611642e-03, 8.24085553e-04, 1.45361188e-03, 1.62499456e-03,\n",
       "        2.72840331e-03, 3.32075940e-03, 1.99596398e-03, 3.11251753e-03,\n",
       "        3.63859236e-08, 1.94619997e-06, 2.00831075e-03, 1.42272713e-03,\n",
       "        2.20619561e-03, 2.59890943e-03, 3.65643729e-08, 2.72645289e-03,\n",
       "        7.20991695e-04, 2.84820446e-03, 3.58048595e-08, 1.77855231e-03,\n",
       "        1.66253641e-03, 8.96717131e-04, 1.70146755e-03, 1.26190041e-03,\n",
       "        1.92082999e-03, 3.41147278e-03, 3.18058611e-08, 3.45724006e-03,\n",
       "        4.29939386e-03, 6.40809361e-04, 1.46072113e-03, 9.62106242e-06,\n",
       "        3.18545289e-03, 3.69250515e-08, 1.39993615e-03, 4.02250467e-03,\n",
       "        2.69161910e-03, 2.00071582e-03, 1.34048949e-03, 9.97765106e-04,\n",
       "        1.55115605e-03, 2.62927334e-03, 3.70449759e-03, 2.15611933e-03,\n",
       "        3.66827315e-08, 3.59022594e-03, 1.30123913e-03, 4.01692872e-04,\n",
       "        1.47667562e-03, 2.69129872e-03, 3.19932587e-03, 1.09993329e-03,\n",
       "        1.95754413e-03, 5.05336269e-04, 3.27436603e-03, 2.77845352e-03,\n",
       "        3.30833718e-03, 1.47510902e-03, 3.52885458e-03, 3.74000077e-03,\n",
       "        1.67839427e-03, 1.67743210e-03, 9.26808571e-04, 2.33991863e-03,\n",
       "        2.53654830e-03, 4.22433903e-03, 2.97799986e-03, 2.17354111e-03,\n",
       "        4.70632827e-03, 4.75129997e-03, 2.70318985e-03, 2.74238497e-04,\n",
       "        1.86329742e-03, 5.35661165e-05, 4.15583927e-04, 1.82983303e-03,\n",
       "        1.10203470e-03, 4.01675468e-03, 6.49194582e-04, 6.11413711e-08,\n",
       "        1.76747330e-03, 1.46508217e-03, 5.99346589e-04, 2.18073907e-03,\n",
       "        1.37912785e-03, 3.68785997e-08, 2.50297925e-03, 3.74685624e-04,\n",
       "        3.09362658e-03, 2.16920488e-03, 1.91592739e-03, 3.59711167e-03,\n",
       "        1.30176067e-03, 4.69105458e-03, 3.64812813e-03, 2.70340755e-03,\n",
       "        1.91105087e-03, 3.26881029e-08, 1.90553907e-03, 3.47723719e-03,\n",
       "        1.22191221e-03, 2.13202467e-04, 3.66394129e-03, 1.21886737e-03,\n",
       "        1.72122812e-03, 1.10780098e-03, 3.36857373e-03, 2.35370523e-03,\n",
       "        1.96819520e-03, 3.58854741e-08, 1.85664848e-03, 3.20106116e-03,\n",
       "        1.85171445e-03, 1.85307988e-03, 2.11126567e-03, 3.83719546e-03,\n",
       "        3.76260048e-03, 1.70228886e-03, 3.57956509e-03, 1.72362116e-03,\n",
       "        3.10864532e-03, 4.33995592e-06, 4.07665531e-04, 3.63911781e-08,\n",
       "        6.66593725e-04, 8.34606821e-04, 1.86442721e-05, 1.50819425e-03,\n",
       "        3.61667105e-08, 3.68334128e-08, 3.72587969e-08, 2.71854061e-03,\n",
       "        3.46578518e-03, 2.56487564e-03, 1.31885195e-03, 1.49108528e-03,\n",
       "        3.62555543e-03, 1.70069607e-03, 2.66334252e-03, 1.86010392e-03,\n",
       "        4.90530176e-08, 2.56852526e-03, 2.75690807e-03, 3.89633118e-03,\n",
       "        1.14775798e-03, 3.15082283e-03, 5.78128791e-04, 3.33702452e-08],\n",
       "       dtype=float32),\n",
       " 'probabilities': array([0.33656096, 0.42035595, 0.341127  , 0.34641996, 0.30830926,\n",
       "        0.37651855, 0.4621631 , 0.3476744 , 0.33511588, 0.399517  ,\n",
       "        0.33603603, 0.41188183, 0.33320495, 0.45310503, 0.39842597,\n",
       "        0.5105122 ], dtype=float32),\n",
       " 'centroids': array([[3.1718180e-01, 3.3885445e-02, 2.8328246e-01, 2.5386789e-01,\n",
       "         2.2811989e-01, 1.9258641e-01, 1.9438642e-01, 1.5141900e-01,\n",
       "         1.5894325e-01, 9.5520295e-02, 7.2012790e-02, 1.9876762e-01,\n",
       "         3.1450090e-01, 6.3465438e-10, 4.4279102e-02, 4.2103174e-10],\n",
       "        [3.1634238e-02, 1.9262499e-01, 1.3928714e-01, 1.5390885e-01,\n",
       "         2.7258685e-01, 1.5633975e-01, 5.6517768e-10, 2.2361097e-01,\n",
       "         2.5310132e-01, 1.1357230e-01, 2.7648625e-01, 2.1907497e-02,\n",
       "         9.9310331e-02, 1.0511717e-01, 2.5247437e-01, 3.7091926e-02],\n",
       "        [3.3656096e-01, 4.2035595e-01, 3.4112701e-01, 3.4641996e-01,\n",
       "         3.0830926e-01, 3.7651855e-01, 4.6216309e-01, 3.4767440e-01,\n",
       "         3.3511588e-01, 3.9951700e-01, 3.3603603e-01, 4.1188183e-01,\n",
       "         3.3320495e-01, 4.5310503e-01, 3.9842597e-01, 5.1051217e-01],\n",
       "        [3.1462300e-01, 3.5313362e-01, 2.3630346e-01, 2.4580325e-01,\n",
       "         1.9098400e-01, 2.7455533e-01, 3.4345049e-01, 2.7729565e-01,\n",
       "         2.5283951e-01, 3.9139044e-01, 3.1546485e-01, 3.6744300e-01,\n",
       "         2.5298381e-01, 4.4177777e-01, 3.0482054e-01, 4.5239586e-01]],\n",
       "       dtype=float32),\n",
       " 'factors_path': None}"
      ]
     },
     "execution_count": 33,
     "metadata": {},
     "output_type": "execute_result"
    }
   ],
   "source": [
    "model.go_to_node(\"*_2\")"
   ]
  },
  {
   "cell_type": "markdown",
   "metadata": {},
   "source": [
    "# Loading checkpoint to have access to the graph iterator and the node objects"
   ]
  },
  {
   "cell_type": "code",
   "execution_count": 34,
   "metadata": {},
   "outputs": [
    {
     "name": "stdout",
     "output_type": "stream",
     "text": [
      "Loading saved object state from checkpoint...\n"
     ]
    }
   ],
   "source": [
    "model = HNMFk(experiment_name=\"example_HNMFk3\")\n",
    "model.load_model()"
   ]
  },
  {
   "cell_type": "code",
   "execution_count": 35,
   "metadata": {},
   "outputs": [
    {
     "data": {
      "text/plain": [
       "{'*': 'example_HNMFk3/depth_0/*/node_*.p',\n",
       " '*_0': 'example_HNMFk3/depth_1/*_0/node_*_0.p',\n",
       " '*_1': 'example_HNMFk3/depth_1/*_1/node_*_1.p',\n",
       " '*_2': 'example_HNMFk3/depth_1/*_2/node_*_2.p',\n",
       " '*_3': 'example_HNMFk3/depth_1/*_3/node_*_3.p',\n",
       " '*_3_0': 'example_HNMFk3/depth_2/*_3_0/node_*_3_0.p',\n",
       " '*_3_1': 'example_HNMFk3/depth_2/*_3_1/node_*_3_1.p',\n",
       " '*_3_2': 'example_HNMFk3/depth_2/*_3_2/node_*_3_2.p',\n",
       " '*_3_3': 'example_HNMFk3/depth_2/*_3_3/node_*_3_3.p',\n",
       " '*_3_3_0': 'example_HNMFk3/depth_3/*_3_3_0/node_*_3_3_0.p',\n",
       " '*_3_3_1': 'example_HNMFk3/depth_3/*_3_3_1/node_*_3_3_1.p',\n",
       " '*_3_3_2': 'example_HNMFk3/depth_3/*_3_3_2/node_*_3_3_2.p',\n",
       " '*_3_3_3': 'example_HNMFk3/depth_3/*_3_3_3/node_*_3_3_3.p'}"
      ]
     },
     "execution_count": 35,
     "metadata": {},
     "output_type": "execute_result"
    }
   ],
   "source": [
    "model.node_save_paths"
   ]
  },
  {
   "cell_type": "code",
   "execution_count": 36,
   "metadata": {},
   "outputs": [
    {
     "data": {
      "text/plain": [
       "{'node_name': '*_0',\n",
       " 'depth': 1,\n",
       " 'W': None,\n",
       " 'H': None,\n",
       " 'k': None,\n",
       " 'parent_topic': 0,\n",
       " 'parent_node_k': 4,\n",
       " 'parent_node_name': '*',\n",
       " 'child_node_names': [],\n",
       " 'original_indices': array([ 20,  39,  77, 112, 208, 240, 249, 263, 370, 372, 406, 432, 439,\n",
       "        442, 466, 487]),\n",
       " 'num_samples': 16,\n",
       " 'leaf': True,\n",
       " 'user_node_data': {},\n",
       " 'cluster_indices_in_parent': array([ 20,  39,  77, 112, 208, 240, 249, 263, 370, 372, 406, 432, 439,\n",
       "        442, 466, 487]),\n",
       " 'node_save_path': 'example_HNMFk3/depth_1/*_0/node_*_0.p',\n",
       " 'parent_node_factors_path': 'example_HNMFk3/depth_0/*/NMFk-*_2perts_1000iters_0.015eps_nnsvd-init/WH_k=4.npz',\n",
       " 'parent_node_save_path': 'example_HNMFk3/depth_0/*/node_*.p',\n",
       " 'exception': False,\n",
       " 'signature': array([1.70325395e-03, 4.14496893e-03, 4.47777240e-03, 8.82128661e-04,\n",
       "        7.72891450e-04, 1.72561698e-03, 1.96789461e-03, 5.06446406e-04,\n",
       "        2.36227410e-03, 1.63572864e-03, 4.09639487e-03, 1.86754309e-03,\n",
       "        3.07867932e-03, 3.74930399e-03, 1.43890583e-03, 9.94510134e-04,\n",
       "        3.50487721e-03, 3.66484407e-08, 2.27951095e-03, 3.73010465e-04,\n",
       "        3.75122617e-08, 2.37709819e-03, 3.47603601e-03, 1.68123574e-03,\n",
       "        4.15260351e-04, 1.70763722e-03, 3.67934024e-03, 5.95262973e-04,\n",
       "        3.53376125e-03, 2.21562129e-03, 3.75488440e-08, 3.26998020e-03,\n",
       "        5.07093282e-05, 8.08072728e-05, 4.13263636e-03, 1.30980276e-03,\n",
       "        2.04788730e-03, 1.05440058e-07, 3.79244156e-08, 3.08671873e-03,\n",
       "        1.73922593e-03, 3.98382554e-08, 3.47084423e-08, 1.37317023e-04,\n",
       "        3.73880376e-08, 3.56623344e-03, 1.58909441e-03, 4.39947611e-03,\n",
       "        1.35713525e-03, 2.69348337e-03, 4.47366806e-03, 3.26866191e-03,\n",
       "        2.77612172e-03, 6.90049899e-04, 3.15317442e-03, 1.61579519e-03,\n",
       "        1.00095465e-03, 1.72104337e-03, 3.26844724e-03, 4.07758635e-04,\n",
       "        2.09234815e-04, 3.59209999e-03, 1.43007818e-03, 2.83584767e-03,\n",
       "        3.73786655e-08, 1.90671859e-03, 2.69240839e-03, 3.20107094e-03,\n",
       "        1.70409575e-03, 3.16758151e-03, 1.12944166e-04, 2.47611245e-03,\n",
       "        3.65986637e-08, 2.71547795e-03, 1.53687040e-07, 2.24628346e-03,\n",
       "        6.83594146e-04, 2.09725090e-06, 1.89228612e-03, 1.22773845e-03,\n",
       "        1.18837255e-04, 2.38667498e-03, 3.42200301e-03, 7.03059777e-05,\n",
       "        3.74574007e-08, 1.84393954e-03, 3.61083323e-08, 3.43749137e-03,\n",
       "        3.25801130e-03, 1.51836744e-03, 1.94915046e-03, 3.77814146e-03,\n",
       "        2.09960922e-06, 9.44663072e-04, 9.27615678e-04, 3.24142049e-03,\n",
       "        2.64759758e-04, 7.91157421e-04, 3.82013666e-03, 3.13811027e-03,\n",
       "        2.91846064e-03, 3.55831595e-08, 4.63876640e-03, 1.67576352e-03,\n",
       "        2.97160936e-03, 2.10655830e-03, 3.54757416e-03, 3.69220506e-03,\n",
       "        3.51139600e-03, 3.55834651e-08, 7.42610428e-04, 2.48754816e-03,\n",
       "        2.17588805e-03, 1.75350951e-03, 2.05138331e-05, 1.72089273e-03,\n",
       "        4.36744280e-03, 4.01793141e-03, 3.68498545e-03, 1.28890644e-03,\n",
       "        2.41605379e-03, 8.43825983e-04, 2.38907640e-03, 1.31453772e-03,\n",
       "        4.20409488e-03, 3.64772836e-03, 3.46342311e-03, 1.42178370e-03,\n",
       "        3.71512989e-08, 3.65490678e-08, 3.26901861e-03, 1.03925331e-03,\n",
       "        3.49519867e-03, 4.02036961e-03, 4.36328584e-04, 3.10675451e-03,\n",
       "        3.22757522e-03, 3.35523882e-03, 1.01700705e-03, 2.42759916e-03,\n",
       "        1.64021856e-07, 1.49730651e-03, 3.60208540e-03, 3.59886396e-03,\n",
       "        9.30221589e-08, 5.91522723e-04, 6.91890600e-04, 2.96052010e-03,\n",
       "        1.33838912e-03, 4.24663676e-06, 4.78109032e-05, 1.29043730e-03,\n",
       "        3.57508613e-03, 4.00469219e-03, 2.76793283e-03, 1.97385903e-03,\n",
       "        3.28172650e-03, 3.57725448e-03, 1.95426331e-03, 1.69528672e-03,\n",
       "        1.16551295e-03, 2.13128817e-03, 2.56401766e-03, 3.74467888e-08,\n",
       "        2.07550102e-03, 3.78022769e-08, 4.97392961e-04, 4.09406703e-03,\n",
       "        4.06067912e-03, 3.11378879e-03, 3.37984809e-03, 9.07135196e-04,\n",
       "        2.02435046e-03, 2.95841973e-03, 1.91669713e-03, 4.81366209e-04,\n",
       "        2.92072981e-03, 1.81493047e-03, 4.16906131e-03, 3.11372266e-03,\n",
       "        3.75170959e-03, 3.40538658e-03, 3.81636550e-03, 3.89471510e-03,\n",
       "        9.93227237e-04, 1.79488957e-03, 1.70699076e-03, 4.47507435e-03,\n",
       "        3.82027728e-03, 2.95505091e-03, 3.24892835e-03, 3.17436457e-03,\n",
       "        3.55727039e-03, 3.69661031e-08, 2.02752207e-03, 1.39216986e-03,\n",
       "        7.85257434e-04, 2.17878562e-03, 4.02305787e-03, 3.95492837e-03,\n",
       "        2.78336904e-03, 3.34049319e-03, 3.39127961e-03, 1.07142597e-03,\n",
       "        1.59019034e-03, 1.77915033e-03, 9.18673875e-04, 2.03419407e-03,\n",
       "        1.54920039e-03, 2.79008015e-03, 4.01440822e-03, 4.54191165e-03,\n",
       "        3.40270833e-03, 1.02312825e-07, 3.57059449e-08, 1.73552800e-03,\n",
       "        5.22034767e-04, 6.76447293e-04, 7.57038011e-04, 8.69711745e-04,\n",
       "        3.75296558e-08, 8.83493980e-04, 3.40955984e-03, 5.08770638e-04,\n",
       "        3.67421222e-08, 2.78422609e-03, 3.87254977e-06, 6.15665922e-04,\n",
       "        1.64621416e-03, 3.64612553e-08, 3.19260499e-03, 2.58456380e-03,\n",
       "        4.09394642e-03, 1.37308566e-03, 1.93741068e-03, 3.18090455e-03,\n",
       "        4.38792445e-03, 2.70022452e-03, 8.37505388e-04, 3.63766681e-03,\n",
       "        1.24090340e-03, 6.68355438e-04, 3.91236180e-03, 1.41072145e-03,\n",
       "        2.74400273e-03, 3.68909099e-08, 1.50089373e-03, 2.14855419e-03,\n",
       "        3.69376174e-08, 1.74185587e-03, 2.47025583e-03, 3.41078639e-03,\n",
       "        4.36971616e-03, 4.26482456e-03, 3.52495775e-08, 4.06769617e-03,\n",
       "        3.48212430e-03, 2.32167589e-03, 3.36436066e-03, 1.03080296e-03,\n",
       "        2.41568242e-03, 3.72763793e-08, 2.14262027e-03, 8.09825215e-05,\n",
       "        2.73440802e-03, 1.02188566e-03, 3.74765818e-08, 8.32542661e-04,\n",
       "        1.23237830e-03, 4.11217613e-03, 4.22747433e-03, 2.54751852e-04,\n",
       "        2.82462197e-03, 5.52759797e-04, 9.87887033e-04, 2.99357064e-03,\n",
       "        3.64204869e-03, 6.89127541e-04, 1.99328410e-03, 3.68019144e-08,\n",
       "        2.88959453e-03, 1.83301361e-03, 1.77479628e-03, 3.62115351e-08,\n",
       "        2.52775638e-03, 2.32776115e-03, 1.94339745e-03, 3.21817747e-03,\n",
       "        2.95237429e-03, 3.50525227e-08, 3.59734194e-03, 1.14648161e-03,\n",
       "        4.03328612e-03, 2.20952788e-03, 2.33152229e-03, 4.23044898e-03,\n",
       "        3.54332101e-08, 2.34700204e-03, 3.89955868e-03, 3.71587561e-08,\n",
       "        1.58808776e-03, 1.20196457e-03, 1.14817254e-03, 3.73742282e-08,\n",
       "        3.51277777e-07, 4.56304150e-03, 6.80817873e-04, 2.55638181e-04,\n",
       "        1.31614984e-03, 6.10972819e-08, 3.27812694e-03, 3.73812661e-08,\n",
       "        1.63273641e-03, 1.46130787e-03, 2.50938535e-03, 1.43987278e-03,\n",
       "        1.95201801e-03, 3.67799541e-03, 7.31903629e-06, 1.59811287e-03,\n",
       "        3.61168269e-08, 1.39011501e-03, 2.16237400e-04, 3.77539315e-08,\n",
       "        2.90535484e-03, 1.78064685e-03, 2.95036496e-03, 3.81517131e-03,\n",
       "        2.38005910e-03, 3.71648454e-08, 1.64816299e-06, 4.00501443e-03,\n",
       "        2.97447667e-03, 1.62056438e-03, 3.59167700e-08, 2.55932240e-03,\n",
       "        1.56618888e-03, 2.40786001e-03, 3.48438974e-03, 2.87175551e-03,\n",
       "        2.91055278e-03, 4.11944650e-03, 3.74295794e-08, 4.10399493e-03,\n",
       "        2.40266277e-03, 8.96371972e-08, 4.19124397e-08, 3.51783761e-04,\n",
       "        3.42170801e-03, 2.94601428e-03, 3.52747855e-03, 3.16856056e-03,\n",
       "        3.74590314e-08, 4.21313336e-03, 4.09491779e-03, 4.05950559e-04,\n",
       "        4.36822278e-03, 1.74859143e-03, 3.67265933e-08, 2.72582518e-03,\n",
       "        1.87035126e-03, 3.90255847e-03, 2.53049890e-03, 4.54963604e-03,\n",
       "        2.85507063e-03, 2.81747989e-03, 1.48295576e-03, 2.93602678e-03,\n",
       "        3.13589629e-03, 1.21890043e-03, 3.68131055e-08, 2.92611425e-03,\n",
       "        1.45636301e-03, 2.80515919e-03, 3.84079386e-03, 1.51493691e-03,\n",
       "        1.97409978e-03, 2.49298313e-03, 3.71065134e-08, 3.94138321e-03,\n",
       "        3.61721533e-08, 1.30828854e-03, 2.70029576e-03, 4.58154536e-04,\n",
       "        1.96847226e-03, 9.96564631e-04, 2.10784376e-03, 1.60989293e-03,\n",
       "        5.54435363e-04, 3.65438522e-03, 6.32576819e-04, 3.75079807e-08,\n",
       "        2.09573068e-06, 3.74943880e-08, 1.62175123e-03, 1.71173923e-03,\n",
       "        1.66675460e-03, 3.87651799e-03, 2.17918935e-03, 4.38368879e-03,\n",
       "        1.37285271e-03, 3.48388078e-03, 2.09006877e-03, 2.99597718e-03,\n",
       "        3.07053514e-03, 4.38611209e-03, 1.99650554e-03, 7.09119020e-04,\n",
       "        3.95072313e-08, 3.75556317e-03, 2.18986790e-03, 3.36224353e-03,\n",
       "        1.26300321e-03, 4.35210997e-03, 1.88266835e-03, 1.51218066e-03,\n",
       "        4.20792168e-03, 3.35583067e-03, 1.36068571e-04, 2.95760040e-03,\n",
       "        2.84742587e-03, 9.04675224e-04, 2.02714163e-03, 2.84493422e-06,\n",
       "        1.74438965e-03, 2.53967731e-03, 6.31509931e-04, 3.74600972e-08,\n",
       "        4.85302275e-03, 3.71233924e-08, 1.42496385e-04, 4.76036593e-03,\n",
       "        2.72153737e-03, 4.16191760e-03, 1.77639991e-03, 3.62339208e-08,\n",
       "        1.05313072e-03, 8.15941021e-04, 2.87365518e-03, 2.79729068e-03,\n",
       "        1.82536663e-03, 1.49248622e-03, 3.31413932e-03, 3.14510289e-05,\n",
       "        3.90761439e-03, 1.99492858e-03, 2.05130805e-03, 3.08578275e-03,\n",
       "        1.93846574e-07, 2.37156570e-07, 1.03940524e-03, 3.73188378e-08,\n",
       "        3.16915056e-03, 4.78507997e-03, 8.28663527e-04, 3.26877669e-03,\n",
       "        4.61970177e-03, 2.27620616e-03, 2.18908652e-03, 4.62473473e-08,\n",
       "        2.46417173e-03, 9.96136921e-04, 3.66977067e-03, 1.01100490e-07,\n",
       "        2.84175458e-03, 2.38769455e-03, 4.58225404e-04, 3.71837103e-08,\n",
       "        1.58230658e-03, 2.39969045e-03, 2.80903187e-03, 8.68172676e-04,\n",
       "        1.40626414e-03, 3.46654467e-03, 3.71330790e-03, 3.66757149e-08,\n",
       "        1.17795693e-03, 4.06985031e-03, 3.53281363e-03, 1.66257576e-03,\n",
       "        1.41206523e-03, 2.10753921e-03, 2.51429947e-03, 3.14873108e-03,\n",
       "        3.61752939e-08, 2.53462675e-03, 1.82198681e-04, 8.20079353e-04,\n",
       "        3.39953299e-03, 3.29346070e-03, 8.58672836e-04, 1.43928197e-03,\n",
       "        4.19236161e-03, 4.06452408e-03, 3.13489977e-03, 1.40043593e-03,\n",
       "        1.79701520e-03, 3.70839324e-08, 2.77444744e-03, 1.37171301e-03],\n",
       "       dtype=float32),\n",
       " 'probabilities': array([0.4320191 , 0.29296866, 0.31729016, 0.41795534, 0.36879805,\n",
       "        0.36965382, 0.37548277, 0.29363623, 0.33020315, 0.37322658,\n",
       "        0.46809018, 0.36538363, 0.31377402, 0.35535392, 0.2859565 ,\n",
       "        0.493085  ], dtype=float32),\n",
       " 'centroids': array([[0.4320191 , 0.29296866, 0.31729016, 0.41795534, 0.36879805,\n",
       "         0.36965382, 0.37548277, 0.29363623, 0.33020315, 0.37322658,\n",
       "         0.46809018, 0.36538363, 0.31377402, 0.35535392, 0.2859565 ,\n",
       "         0.493085  ],\n",
       "        [0.3100634 , 0.20737752, 0.2241185 , 0.14291188, 0.19783984,\n",
       "         0.14978822, 0.14790136, 0.25114322, 0.08917525, 0.02432955,\n",
       "         0.0097703 , 0.03656472, 0.19050652, 0.2889054 , 0.20207173,\n",
       "         0.03277086],\n",
       "        [0.20203468, 0.23247312, 0.23874222, 0.2585524 , 0.22181606,\n",
       "         0.20375188, 0.21106549, 0.17422597, 0.27007893, 0.33235368,\n",
       "         0.14615482, 0.27046388, 0.21134509, 0.1631637 , 0.25359935,\n",
       "         0.17777038],\n",
       "        [0.05588284, 0.26718065, 0.21984915, 0.18058044, 0.21154603,\n",
       "         0.27680606, 0.26555037, 0.28099456, 0.3105427 , 0.27009013,\n",
       "         0.3759847 , 0.32758775, 0.28437433, 0.19257697, 0.25837243,\n",
       "         0.29637378]], dtype=float32),\n",
       " 'factors_path': None}"
      ]
     },
     "execution_count": 36,
     "metadata": {},
     "output_type": "execute_result"
    }
   ],
   "source": [
    "model.go_to_node(\"*_0\")"
   ]
  },
  {
   "cell_type": "code",
   "execution_count": 37,
   "metadata": {},
   "outputs": [
    {
     "data": {
      "text/plain": [
       "('*',\n",
       " dict_keys(['node_name', 'depth', 'W', 'H', 'k', 'parent_topic', 'parent_node_k', 'parent_node_name', 'child_node_names', 'original_indices', 'num_samples', 'leaf', 'user_node_data', 'cluster_indices_in_parent', 'node_save_path', 'parent_node_factors_path', 'parent_node_save_path', 'exception', 'signature', 'probabilities', 'centroids', 'factors_path']))"
      ]
     },
     "execution_count": 37,
     "metadata": {},
     "output_type": "execute_result"
    }
   ],
   "source": [
    "node = model.go_to_node(list(model.node_save_paths.keys())[0])\n",
    "node[\"node_name\"], node.keys()"
   ]
  },
  {
   "cell_type": "markdown",
   "metadata": {},
   "source": [
    "Look at the nodes that are not completed yet"
   ]
  },
  {
   "cell_type": "code",
   "execution_count": 38,
   "metadata": {},
   "outputs": [
    {
     "data": {
      "text/plain": [
       "dict_keys([])"
      ]
     },
     "execution_count": 38,
     "metadata": {},
     "output_type": "execute_result"
    }
   ],
   "source": [
    "model.target_jobs.keys()"
   ]
  },
  {
   "cell_type": "markdown",
   "metadata": {},
   "source": [
    "# Understanding the Naming Convention\n",
    " When ```\"random_identifiers\":False```, model uses k index for ancestry naming \n",
    "\n",
    " - ```*```: This means the node is root\n",
    " - ```*_2```: This means it is at depth 1. The parent of the node came from cluster *, i.e. it is the root. The current node came from cluster 2 of the parent.\n",
    " - ```*_2_0```: This is at depth 2. Root node came from cluster *, then at root we went to cluster 2, and within this decomposition we took cluster 0 which to get to the corrent node.\n",
    "\n",
    "(*) --> 0,1,(2)\n",
    "(2) --> (0)"
   ]
  },
  {
   "cell_type": "markdown",
   "metadata": {},
   "source": []
  }
 ],
 "metadata": {
  "kernelspec": {
   "display_name": "TELF_public",
   "language": "python",
   "name": "python3"
  },
  "language_info": {
   "codemirror_mode": {
    "name": "ipython",
    "version": 3
   },
   "file_extension": ".py",
   "mimetype": "text/x-python",
   "name": "python",
   "nbconvert_exporter": "python",
   "pygments_lexer": "ipython3",
   "version": "3.11.10"
  }
 },
 "nbformat": 4,
 "nbformat_minor": 2
}
