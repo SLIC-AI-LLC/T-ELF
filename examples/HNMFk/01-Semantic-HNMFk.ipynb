{
 "cells": [
  {
   "cell_type": "markdown",
   "metadata": {},
   "source": [
    "# Libraries"
   ]
  },
  {
   "cell_type": "code",
   "execution_count": 1,
   "metadata": {},
   "outputs": [],
   "source": [
    "import os\n",
    "nnn = 1\n",
    "os.environ[\"OMP_NUM_THREADS\"] = str(nnn) # export OMP_NUM_THREADS=1\n",
    "os.environ[\"OPENBLAS_NUM_THREADS\"] = str(nnn) # export OPENBLAS_NUM_THREADS=1\n",
    "os.environ[\"MKL_NUM_THREADS\"] = str(nnn) # export MKL_NUM_THREADS=1\n",
    "os.environ[\"VECLIB_MAXIMUM_THREADS\"] = str(nnn) # export VECLIB_MAXIMUM_THREADS=1\n",
    "os.environ[\"NUMEXPR_NUM_THREADS\"] = str(nnn)  # export NUMEXPR_NUM_THREADS=1"
   ]
  },
  {
   "cell_type": "code",
   "execution_count": 2,
   "metadata": {},
   "outputs": [],
   "source": [
    "from TELF.factorization.HNMFk import HNMFk\n",
    "from TELF.pre_processing import Beaver\n",
    "from TELF.pre_processing.Vulture.tokens_analysis.top_words import get_top_words"
   ]
  },
  {
   "cell_type": "code",
   "execution_count": 3,
   "metadata": {},
   "outputs": [],
   "source": [
    "import pandas as pd\n",
    "import numpy as np\n",
    "import scipy.sparse"
   ]
  },
  {
   "cell_type": "markdown",
   "metadata": {},
   "source": [
    "# Load Data"
   ]
  },
  {
   "cell_type": "code",
   "execution_count": 4,
   "metadata": {},
   "outputs": [
    {
     "name": "stdout",
     "output_type": "stream",
     "text": [
      "<class 'pandas.core.frame.DataFrame'>\n",
      "RangeIndex: 940 entries, 0 to 939\n",
      "Data columns (total 8 columns):\n",
      " #   Column          Non-Null Count  Dtype \n",
      "---  ------          --------------  ----- \n",
      " 0   eid             940 non-null    object\n",
      " 1   title           940 non-null    object\n",
      " 2   year            940 non-null    int64 \n",
      " 3   abstract        940 non-null    object\n",
      " 4   authors         940 non-null    object\n",
      " 5   author_ids      940 non-null    object\n",
      " 6   references      843 non-null    object\n",
      " 7   clean_abstract  940 non-null    object\n",
      "dtypes: int64(1), object(7)\n",
      "memory usage: 58.9+ KB\n"
     ]
    }
   ],
   "source": [
    "df = pd.read_csv(\"../../data/sample.csv\")\n",
    "df.info()"
   ]
  },
  {
   "cell_type": "markdown",
   "metadata": {},
   "source": [
    "# Build Matrix"
   ]
  },
  {
   "cell_type": "code",
   "execution_count": 5,
   "metadata": {},
   "outputs": [
    {
     "data": {
      "text/plain": [
       "466"
      ]
     },
     "execution_count": 5,
     "metadata": {},
     "output_type": "execute_result"
    }
   ],
   "source": [
    "beaver = Beaver()\n",
    "\n",
    "beaver_vocab_settings = {\n",
    "    \"dataset\":df,\n",
    "    \"target_column\":\"clean_abstract\",\n",
    "    \"split_with\":None,\n",
    "    \"min_df\":10,\n",
    "    \"max_df\":0.5,\n",
    "    \"verbose\":False,\n",
    "    \"n_jobs\":-1,\n",
    "    \"parallel_backend\":\"multiprocessing\"\n",
    "}\n",
    "\n",
    "vocabulary = beaver.get_vocabulary(**beaver_vocab_settings)\n",
    "len(vocabulary)"
   ]
  },
  {
   "cell_type": "code",
   "execution_count": 6,
   "metadata": {},
   "outputs": [
    {
     "data": {
      "text/plain": [
       "['128pb', '32x', 'ability', 'abstain', 'accelerate']"
      ]
     },
     "execution_count": 6,
     "metadata": {},
     "output_type": "execute_result"
    }
   ],
   "source": [
    "vocabulary[:5]"
   ]
  },
  {
   "cell_type": "code",
   "execution_count": 7,
   "metadata": {},
   "outputs": [],
   "source": [
    "beaver_matrix_settings = {\n",
    "    \"dataset\":df,\n",
    "    \"target_column\":\"clean_abstract\",\n",
    "    \"options\":{\"min_df\": 5, \"max_df\": 0.5, \"vocabulary\":vocabulary},\n",
    "    \"matrix_type\":\"tfidf\",\n",
    "    \"save_path\":None\n",
    "}\n",
    "\n",
    "X, _ = beaver.documents_words(**beaver_matrix_settings)"
   ]
  },
  {
   "cell_type": "code",
   "execution_count": 8,
   "metadata": {},
   "outputs": [
    {
     "data": {
      "text/plain": [
       "(466, 940)"
      ]
     },
     "execution_count": 8,
     "metadata": {},
     "output_type": "execute_result"
    }
   ],
   "source": [
    "# put the samples to columns and features (tokens) to rows\n",
    "X = X.T.tocsr()\n",
    "X.shape"
   ]
  },
  {
   "cell_type": "code",
   "execution_count": 9,
   "metadata": {},
   "outputs": [
    {
     "data": {
      "text/plain": [
       "<466x940 sparse matrix of type '<class 'numpy.float32'>'\n",
       "\twith 72279 stored elements in Compressed Sparse Row format>"
      ]
     },
     "execution_count": 9,
     "metadata": {},
     "output_type": "execute_result"
    }
   ],
   "source": [
    "X"
   ]
  },
  {
   "cell_type": "code",
   "execution_count": 10,
   "metadata": {},
   "outputs": [],
   "source": [
    "assert X.shape[1] == len(df)"
   ]
  },
  {
   "cell_type": "markdown",
   "metadata": {},
   "source": [
    "# Custom Callback Class"
   ]
  },
  {
   "cell_type": "code",
   "execution_count": 11,
   "metadata": {},
   "outputs": [],
   "source": [
    "class CustomSemanticCallback:\n",
    "\n",
    "    def __init__(self, \n",
    "                 df:pd.DataFrame, \n",
    "                 vocabulary:list,\n",
    "                 target_column=\"clean_abstract\",\n",
    "                 options={\"min_df\": 5, \"max_df\": 0.5},\n",
    "                 matrix_type=\"tfidf\") -> None:\n",
    "        #\n",
    "        # Data\n",
    "        #\n",
    "        self.df = df\n",
    "        self.vocabulary = vocabulary\n",
    "        \n",
    "        #\n",
    "        # Beaver Settings\n",
    "        #\n",
    "        self.target_column = target_column\n",
    "        # use the same vocabulary on each NMFk decomposition\n",
    "        options[\"vocabulary\"] = self.vocabulary\n",
    "        self.options = options\n",
    "        self.matrix_type = matrix_type\n",
    "    \n",
    "    def __call__(self, original_indices:np.ndarray) -> scipy.sparse.csr_matrix:\n",
    "        \n",
    "        current_beaver = Beaver()\n",
    "        current_df = self.df.iloc[original_indices].copy()\n",
    "        current_beaver_matrix_settings = {\n",
    "            \"dataset\":current_df,\n",
    "            \"target_column\":self.target_column,\n",
    "            \"options\":self.options,\n",
    "            \"matrix_type\":self.matrix_type,\n",
    "            \"save_path\":None\n",
    "        }\n",
    "        current_X, _ = current_beaver.documents_words(**current_beaver_matrix_settings)\n",
    "        # put the samples to columns and features (tokens) to rows\n",
    "        current_X = current_X.T.tocsr()\n",
    "        return current_X"
   ]
  },
  {
   "cell_type": "code",
   "execution_count": 12,
   "metadata": {},
   "outputs": [],
   "source": [
    "custom_callback = CustomSemanticCallback(df=df, vocabulary=vocabulary)"
   ]
  },
  {
   "cell_type": "markdown",
   "metadata": {},
   "source": [
    "# Settings"
   ]
  },
  {
   "cell_type": "code",
   "execution_count": 13,
   "metadata": {},
   "outputs": [],
   "source": [
    "Ks = np.arange(1, 21, 1)\n",
    "perts = 10\n",
    "iters = 500\n",
    "eps = 0.015\n",
    "init = \"nnsvd\"\n",
    "save_path = \"Semantic_HNMFk_results_path\"\n",
    "name = \"example_Semantic_HNMFk\""
   ]
  },
  {
   "cell_type": "code",
   "execution_count": 14,
   "metadata": {},
   "outputs": [],
   "source": [
    "nmfk_params = {\n",
    "    \"n_perturbs\":perts,\n",
    "    \"n_iters\":iters,\n",
    "    \"epsilon\":eps,\n",
    "    \"n_jobs\":-1,\n",
    "    \"init\":init, \n",
    "    \"use_gpu\":False,\n",
    "    \"save_path\":save_path, \n",
    "    \"predict_k_method\":\"sill\",\n",
    "    \"verbose\":False,\n",
    "    \"nmf_verbose\":False,\n",
    "    \"transpose\":False,\n",
    "    \"sill_thresh\":0.8,\n",
    "    \"pruned\":True,\n",
    "    'nmf_method':'nmf_fro_mu',\n",
    "    \"calculate_error\":False,\n",
    "    \"use_consensus_stopping\":0,\n",
    "    \"calculate_pac\":False,\n",
    "    \"consensus_mat\":False,\n",
    "    \"perturb_type\":\"uniform\",\n",
    "    \"perturb_multiprocessing\":False,\n",
    "    \"perturb_verbose\":False,\n",
    "    \"simple_plot\":True\n",
    "}"
   ]
  },
  {
   "cell_type": "code",
   "execution_count": 15,
   "metadata": {},
   "outputs": [],
   "source": [
    "hnmfk_params = {\n",
    "    # This can be used to re-generate the data matrix X before each NMFk operation. \n",
    "    # When not used, slice of original X is taken, which is equal to serial decomposition.\n",
    "    # ``generate_X_callback`` object should be a class with ``def __call__(original_indices)`` defined\n",
    "    # so that ``new_X=generate_X_callback(original_indices)`` can be done.\n",
    "    # ``original_indices`` hyper-parameter is the indices of samples (columns of original X when clustering on H).\n",
    "    \"generate_X_callback\":custom_callback,\n",
    "    # we can specify nmfk parameters for each depth, or use same for all depth\n",
    "    # below will use the same nmfk parameters for all depths\n",
    "    # when using for each depth, append to the list \n",
    "    # for example, [nmfk_params0, nmfk_params1, nmfk_params2] for depth of 2\n",
    "    \"nmfk_params\": [nmfk_params], \n",
    "    # where to perform clustering, can be W or H\n",
    "    # if W, row of X should be samples\n",
    "    # if H, columns of X should be samples\n",
    "    \"cluster_on\":\"H\",\n",
    "    # how deep to go in each topic after root node\n",
    "    # if -1, it goes until samples cannot be seperated further\n",
    "    \"depth\":2,\n",
    "    # stopping criteria for num of samples\n",
    "    \"sample_thresh\":5,\n",
    "    # if K2=True, decomposition is done only for k=2 instead of \n",
    "    # finding and predicting the number of stable latent features\n",
    "    \"K2\":False,\n",
    "    # after first nmfk, when selecting Ks search range, minimum k to start\n",
    "    \"Ks_deep_min\":1,\n",
    "    # After first nmfk, when selecting Ks search range, maximum k to try.\n",
    "    # When None, maximum k will be same as k selected for parent node.\n",
    "    \"Ks_deep_max\": None,\n",
    "    # after first nmfk, when selecting Ks search range, k step size\n",
    "    \"Ks_deep_step\":1,\n",
    "    # where to save\n",
    "    \"experiment_name\":name\n",
    "}"
   ]
  },
  {
   "cell_type": "markdown",
   "metadata": {},
   "source": [
    "# Run HNMFk"
   ]
  },
  {
   "cell_type": "code",
   "execution_count": 16,
   "metadata": {},
   "outputs": [
    {
     "name": "stderr",
     "output_type": "stream",
     "text": [
      "/Users/maksim/miniconda3/envs/TELF_public/lib/python3.11/site-packages/numpy-1.26.2-py3.11-macosx-11.1-arm64.egg/numpy/core/fromnumeric.py:3504: RuntimeWarning: Mean of empty slice.\n",
      "  return _methods._mean(a, axis=axis, dtype=dtype,\n",
      "/Users/maksim/miniconda3/envs/TELF_public/lib/python3.11/site-packages/numpy-1.26.2-py3.11-macosx-11.1-arm64.egg/numpy/core/_methods.py:129: RuntimeWarning: invalid value encountered in scalar divide\n",
      "  ret = ret.dtype.type(ret / rcount)\n"
     ]
    }
   ],
   "source": [
    "model = HNMFk(**hnmfk_params)\n",
    "model.fit(X, Ks)"
   ]
  },
  {
   "cell_type": "markdown",
   "metadata": {},
   "source": [
    "# Example Traverse Graph"
   ]
  },
  {
   "cell_type": "markdown",
   "metadata": {},
   "source": [
    " Below functions can be utilized to walk the graph:\n",
    "\n",
    " ```python\n",
    "model.traverse_nodes()\n",
    "model.go_to_root()\n",
    "model.get_node()\n",
    "model.go_to_parent()\n",
    "model.go_to_children(idx:int)\n",
    " ```"
   ]
  },
  {
   "cell_type": "markdown",
   "metadata": {},
   "source": [
    " We can reset the iterator to go back to the root node as shown below:"
   ]
  },
  {
   "cell_type": "code",
   "execution_count": 17,
   "metadata": {},
   "outputs": [
    {
     "data": {
      "text/plain": [
       "'node0'"
      ]
     },
     "execution_count": 17,
     "metadata": {},
     "output_type": "execute_result"
    }
   ],
   "source": [
    "node = model.go_to_root()\n",
    "node[\"name\"]"
   ]
  },
  {
   "cell_type": "markdown",
   "metadata": {},
   "source": [
    " HNMFk class includes a iterator that enables walking the graph nodes. Current node the iterator is at can be obtained as shown below (always starts at root node):"
   ]
  },
  {
   "cell_type": "code",
   "execution_count": 18,
   "metadata": {},
   "outputs": [
    {
     "data": {
      "text/plain": [
       "dict_keys(['node_num', 'name', 'node_id', 'depth', 'W', 'H', 'k', 'parent_topic', 'parent_node_name', 'child_node_names', 'original_indices', 'num_samples', 'leaf'])"
      ]
     },
     "execution_count": 18,
     "metadata": {},
     "output_type": "execute_result"
    }
   ],
   "source": [
    "node = model.get_node()\n",
    "node.keys()"
   ]
  },
  {
   "cell_type": "markdown",
   "metadata": {},
   "source": [
    " We can also see the name of the node:"
   ]
  },
  {
   "cell_type": "code",
   "execution_count": 19,
   "metadata": {},
   "outputs": [
    {
     "data": {
      "text/plain": [
       "'node0'"
      ]
     },
     "execution_count": 19,
     "metadata": {},
     "output_type": "execute_result"
    }
   ],
   "source": [
    "node[\"name\"]"
   ]
  },
  {
   "cell_type": "markdown",
   "metadata": {},
   "source": [
    " And we can see the child nodes:"
   ]
  },
  {
   "cell_type": "code",
   "execution_count": 20,
   "metadata": {},
   "outputs": [
    {
     "data": {
      "text/plain": [
       "['node1', 'node4']"
      ]
     },
     "execution_count": 20,
     "metadata": {},
     "output_type": "execute_result"
    }
   ],
   "source": [
    "node[\"child_node_names\"]"
   ]
  },
  {
   "cell_type": "markdown",
   "metadata": {},
   "source": [
    " We can go to the child node specified with an index. For example, to go to the first child, we index at 0. When we go to the child node, it will return the child node and set the iterator to the child node."
   ]
  },
  {
   "cell_type": "code",
   "execution_count": 21,
   "metadata": {},
   "outputs": [
    {
     "data": {
      "text/plain": [
       "'node4'"
      ]
     },
     "execution_count": 21,
     "metadata": {},
     "output_type": "execute_result"
    }
   ],
   "source": [
    "node = model.go_to_children(1)\n",
    "node[\"name\"]"
   ]
  },
  {
   "cell_type": "code",
   "execution_count": 22,
   "metadata": {},
   "outputs": [
    {
     "data": {
      "text/plain": [
       "dict_keys(['node_num', 'name', 'node_id', 'depth', 'W', 'H', 'k', 'parent_topic', 'parent_node_name', 'child_node_names', 'original_indices', 'num_samples', 'leaf'])"
      ]
     },
     "execution_count": 22,
     "metadata": {},
     "output_type": "execute_result"
    }
   ],
   "source": [
    "node.keys()"
   ]
  },
  {
   "cell_type": "markdown",
   "metadata": {},
   "source": [
    " Take a look at the parent node, which should be the root:"
   ]
  },
  {
   "cell_type": "code",
   "execution_count": 23,
   "metadata": {},
   "outputs": [
    {
     "data": {
      "text/plain": [
       "'node0'"
      ]
     },
     "execution_count": 23,
     "metadata": {},
     "output_type": "execute_result"
    }
   ],
   "source": [
    "node[\"parent_node_name\"]"
   ]
  },
  {
   "cell_type": "markdown",
   "metadata": {},
   "source": [
    "get_node() always returns the node we are currently at:"
   ]
  },
  {
   "cell_type": "code",
   "execution_count": 24,
   "metadata": {},
   "outputs": [
    {
     "data": {
      "text/plain": [
       "'node4'"
      ]
     },
     "execution_count": 24,
     "metadata": {},
     "output_type": "execute_result"
    }
   ],
   "source": [
    "node = model.get_node()\n",
    "node[\"name\"]"
   ]
  },
  {
   "cell_type": "markdown",
   "metadata": {},
   "source": [
    "Go back to parent:"
   ]
  },
  {
   "cell_type": "code",
   "execution_count": 25,
   "metadata": {},
   "outputs": [
    {
     "data": {
      "text/plain": [
       "'node0'"
      ]
     },
     "execution_count": 25,
     "metadata": {},
     "output_type": "execute_result"
    }
   ],
   "source": [
    "node = model.go_to_parent()\n",
    "node[\"name\"]"
   ]
  },
  {
   "cell_type": "markdown",
   "metadata": {},
   "source": [
    " From each node, we can get the samples that was clustered in the node:"
   ]
  },
  {
   "cell_type": "code",
   "execution_count": 26,
   "metadata": {},
   "outputs": [
    {
     "data": {
      "text/plain": [
       "array([0, 1, 2, 3, 4])"
      ]
     },
     "execution_count": 26,
     "metadata": {},
     "output_type": "execute_result"
    }
   ],
   "source": [
    "node[\"original_indices\"][:5]"
   ]
  },
  {
   "cell_type": "markdown",
   "metadata": {},
   "source": [
    "We can also check if a given node in the graph a leaf node"
   ]
  },
  {
   "cell_type": "code",
   "execution_count": 27,
   "metadata": {},
   "outputs": [
    {
     "data": {
      "text/plain": [
       "False"
      ]
     },
     "execution_count": 27,
     "metadata": {},
     "output_type": "execute_result"
    }
   ],
   "source": [
    "node[\"leaf\"]"
   ]
  },
  {
   "cell_type": "markdown",
   "metadata": {},
   "source": [
    " Finally, we can obtain all the nodes using the following method:"
   ]
  },
  {
   "cell_type": "code",
   "execution_count": 28,
   "metadata": {},
   "outputs": [
    {
     "data": {
      "text/plain": [
       "7"
      ]
     },
     "execution_count": 28,
     "metadata": {},
     "output_type": "execute_result"
    }
   ],
   "source": [
    "all_nodes = model.traverse_nodes()\n",
    "len(all_nodes)"
   ]
  },
  {
   "cell_type": "code",
   "execution_count": 29,
   "metadata": {},
   "outputs": [
    {
     "data": {
      "text/plain": [
       "{'node_num': 2,\n",
       " 'name': 'node2',\n",
       " 'node_id': 'a60bc910-f868-11ee-af0e-7cc25582da66',\n",
       " 'depth': 2,\n",
       " 'W': array([[0.00000000e+00, 0.00000000e+00],\n",
       "        [0.00000000e+00, 0.00000000e+00],\n",
       "        [0.00000000e+00, 0.00000000e+00],\n",
       "        [0.00000000e+00, 0.00000000e+00],\n",
       "        [0.00000000e+00, 0.00000000e+00],\n",
       "        [1.28648204e-13, 6.84742164e-03],\n",
       "        [1.28647893e-13, 6.84641954e-03],\n",
       "        [1.28724871e-13, 1.36939092e-02],\n",
       "        [1.28648082e-13, 6.84892293e-03],\n",
       "        [5.27898083e-03, 1.46872684e-04],\n",
       "        [8.18576477e-03, 1.27560844e-13],\n",
       "        [0.00000000e+00, 0.00000000e+00],\n",
       "        [8.19000416e-03, 1.27560899e-13],\n",
       "        [0.00000000e+00, 0.00000000e+00],\n",
       "        [1.28725020e-13, 1.36969667e-02],\n",
       "        [0.00000000e+00, 0.00000000e+00],\n",
       "        [1.28648137e-13, 6.84870966e-03],\n",
       "        [0.00000000e+00, 0.00000000e+00],\n",
       "        [1.28724993e-13, 1.36947362e-02],\n",
       "        [0.00000000e+00, 0.00000000e+00],\n",
       "        [0.00000000e+00, 0.00000000e+00],\n",
       "        [1.28777604e-13, 4.79474626e-02],\n",
       "        [8.76300782e-03, 3.46936472e-03],\n",
       "        [1.28750241e-13, 2.05488782e-02],\n",
       "        [0.00000000e+00, 0.00000000e+00],\n",
       "        [0.00000000e+00, 0.00000000e+00],\n",
       "        [5.30905649e-03, 4.57795383e-03],\n",
       "        [0.00000000e+00, 0.00000000e+00],\n",
       "        [0.00000000e+00, 0.00000000e+00],\n",
       "        [0.00000000e+00, 0.00000000e+00],\n",
       "        [1.28647743e-13, 6.84433989e-03],\n",
       "        [0.00000000e+00, 0.00000000e+00],\n",
       "        [0.00000000e+00, 0.00000000e+00],\n",
       "        [0.00000000e+00, 0.00000000e+00],\n",
       "        [1.28648123e-13, 6.84707286e-03],\n",
       "        [0.00000000e+00, 0.00000000e+00],\n",
       "        [0.00000000e+00, 0.00000000e+00],\n",
       "        [1.28750567e-13, 2.05300748e-02],\n",
       "        [0.00000000e+00, 0.00000000e+00],\n",
       "        [0.00000000e+00, 0.00000000e+00],\n",
       "        [0.00000000e+00, 0.00000000e+00],\n",
       "        [8.19048844e-03, 1.27560980e-13],\n",
       "        [0.00000000e+00, 0.00000000e+00],\n",
       "        [8.18919577e-03, 1.27561034e-13],\n",
       "        [0.00000000e+00, 0.00000000e+00],\n",
       "        [0.00000000e+00, 0.00000000e+00],\n",
       "        [3.09312008e-02, 1.91245548e-04],\n",
       "        [0.00000000e+00, 0.00000000e+00],\n",
       "        [0.00000000e+00, 0.00000000e+00],\n",
       "        [0.00000000e+00, 0.00000000e+00],\n",
       "        [1.28647987e-13, 6.84955297e-03],\n",
       "        [0.00000000e+00, 0.00000000e+00],\n",
       "        [0.00000000e+00, 0.00000000e+00],\n",
       "        [0.00000000e+00, 0.00000000e+00],\n",
       "        [0.00000000e+00, 0.00000000e+00],\n",
       "        [8.18870217e-03, 1.27560587e-13],\n",
       "        [0.00000000e+00, 0.00000000e+00],\n",
       "        [0.00000000e+00, 0.00000000e+00],\n",
       "        [0.00000000e+00, 0.00000000e+00],\n",
       "        [1.05595086e-02, 2.93785444e-04],\n",
       "        [0.00000000e+00, 0.00000000e+00],\n",
       "        [0.00000000e+00, 0.00000000e+00],\n",
       "        [0.00000000e+00, 0.00000000e+00],\n",
       "        [3.27627137e-02, 1.27711210e-13],\n",
       "        [0.00000000e+00, 0.00000000e+00],\n",
       "        [0.00000000e+00, 0.00000000e+00],\n",
       "        [1.63819138e-02, 1.27662204e-13],\n",
       "        [5.31111006e-03, 4.57828306e-03],\n",
       "        [0.00000000e+00, 0.00000000e+00],\n",
       "        [5.27738128e-03, 1.46829101e-04],\n",
       "        [1.06677953e-02, 4.51206462e-03],\n",
       "        [8.18605814e-03, 1.27561088e-13],\n",
       "        [8.18968564e-03, 1.27560831e-13],\n",
       "        [0.00000000e+00, 0.00000000e+00],\n",
       "        [0.00000000e+00, 0.00000000e+00],\n",
       "        [0.00000000e+00, 0.00000000e+00],\n",
       "        [1.28647798e-13, 6.84397528e-03],\n",
       "        [0.00000000e+00, 0.00000000e+00],\n",
       "        [1.05583472e-02, 2.93759484e-04],\n",
       "        [5.28030097e-03, 1.46909297e-04],\n",
       "        [0.00000000e+00, 0.00000000e+00],\n",
       "        [0.00000000e+00, 0.00000000e+00],\n",
       "        [1.28725169e-13, 1.36993024e-02],\n",
       "        [0.00000000e+00, 0.00000000e+00],\n",
       "        [5.27547533e-03, 1.46775012e-04],\n",
       "        [0.00000000e+00, 0.00000000e+00],\n",
       "        [1.05529260e-02, 2.93605524e-04],\n",
       "        [0.00000000e+00, 0.00000000e+00],\n",
       "        [0.00000000e+00, 0.00000000e+00],\n",
       "        [0.00000000e+00, 0.00000000e+00],\n",
       "        [1.28647933e-13, 6.84618996e-03],\n",
       "        [0.00000000e+00, 0.00000000e+00],\n",
       "        [0.00000000e+00, 0.00000000e+00],\n",
       "        [0.00000000e+00, 0.00000000e+00],\n",
       "        [0.00000000e+00, 0.00000000e+00],\n",
       "        [0.00000000e+00, 0.00000000e+00],\n",
       "        [0.00000000e+00, 0.00000000e+00],\n",
       "        [0.00000000e+00, 0.00000000e+00],\n",
       "        [1.28647933e-13, 6.84676506e-03],\n",
       "        [0.00000000e+00, 0.00000000e+00],\n",
       "        [0.00000000e+00, 0.00000000e+00],\n",
       "        [1.28647960e-13, 6.84554549e-03],\n",
       "        [0.00000000e+00, 0.00000000e+00],\n",
       "        [3.02737337e-02, 6.19108730e-04],\n",
       "        [0.00000000e+00, 0.00000000e+00],\n",
       "        [0.00000000e+00, 0.00000000e+00],\n",
       "        [0.00000000e+00, 0.00000000e+00],\n",
       "        [1.28750350e-13, 2.05461383e-02],\n",
       "        [0.00000000e+00, 0.00000000e+00],\n",
       "        [0.00000000e+00, 0.00000000e+00],\n",
       "        [0.00000000e+00, 0.00000000e+00],\n",
       "        [0.00000000e+00, 0.00000000e+00],\n",
       "        [1.28647852e-13, 6.84663188e-03],\n",
       "        [0.00000000e+00, 0.00000000e+00],\n",
       "        [0.00000000e+00, 0.00000000e+00],\n",
       "        [0.00000000e+00, 0.00000000e+00],\n",
       "        [1.28648123e-13, 6.84794411e-03],\n",
       "        [1.28750431e-13, 2.05380730e-02],\n",
       "        [0.00000000e+00, 0.00000000e+00],\n",
       "        [0.00000000e+00, 0.00000000e+00],\n",
       "        [1.28647893e-13, 6.84701093e-03],\n",
       "        [1.28648353e-13, 6.84937369e-03],\n",
       "        [1.28647811e-13, 6.84792921e-03],\n",
       "        [5.27996989e-03, 1.46900929e-04],\n",
       "        [3.32398736e-03, 9.56576038e-03],\n",
       "        [0.00000000e+00, 0.00000000e+00],\n",
       "        [0.00000000e+00, 0.00000000e+00],\n",
       "        [0.00000000e+00, 0.00000000e+00],\n",
       "        [8.18848796e-03, 1.27560506e-13],\n",
       "        [1.28647825e-13, 6.84463140e-03],\n",
       "        [0.00000000e+00, 0.00000000e+00],\n",
       "        [1.05584105e-02, 2.93755409e-04],\n",
       "        [0.00000000e+00, 0.00000000e+00],\n",
       "        [5.27720712e-03, 1.46825521e-04],\n",
       "        [1.28647716e-13, 6.84118550e-03],\n",
       "        [1.28725061e-13, 1.36970542e-02],\n",
       "        [1.05562322e-02, 2.93694116e-04],\n",
       "        [0.00000000e+00, 0.00000000e+00],\n",
       "        [8.18971265e-03, 1.27560939e-13],\n",
       "        [0.00000000e+00, 0.00000000e+00],\n",
       "        [0.00000000e+00, 0.00000000e+00],\n",
       "        [1.28648015e-13, 6.84570614e-03],\n",
       "        [0.00000000e+00, 0.00000000e+00],\n",
       "        [1.28647622e-13, 6.84692711e-03],\n",
       "        [5.27971657e-03, 1.46894774e-04],\n",
       "        [0.00000000e+00, 0.00000000e+00],\n",
       "        [5.27877035e-03, 1.46867373e-04],\n",
       "        [0.00000000e+00, 0.00000000e+00],\n",
       "        [0.00000000e+00, 0.00000000e+00],\n",
       "        [1.28647865e-13, 6.84708916e-03],\n",
       "        [1.28725020e-13, 1.36910332e-02],\n",
       "        [0.00000000e+00, 0.00000000e+00],\n",
       "        [0.00000000e+00, 0.00000000e+00],\n",
       "        [0.00000000e+00, 0.00000000e+00],\n",
       "        [0.00000000e+00, 0.00000000e+00],\n",
       "        [1.28724695e-13, 1.36906868e-02],\n",
       "        [0.00000000e+00, 0.00000000e+00],\n",
       "        [5.31180017e-03, 4.57786769e-03],\n",
       "        [5.27545577e-03, 1.46777122e-04],\n",
       "        [0.00000000e+00, 0.00000000e+00],\n",
       "        [0.00000000e+00, 0.00000000e+00],\n",
       "        [0.00000000e+00, 0.00000000e+00],\n",
       "        [1.63809191e-02, 1.27662285e-13],\n",
       "        [0.00000000e+00, 0.00000000e+00],\n",
       "        [0.00000000e+00, 0.00000000e+00],\n",
       "        [1.28648082e-13, 6.84606843e-03],\n",
       "        [1.28648218e-13, 6.84526376e-03],\n",
       "        [0.00000000e+00, 0.00000000e+00],\n",
       "        [0.00000000e+00, 0.00000000e+00],\n",
       "        [8.18884466e-03, 1.27560722e-13],\n",
       "        [3.27662826e-02, 1.27711196e-13],\n",
       "        [5.27835498e-03, 1.46856910e-04],\n",
       "        [0.00000000e+00, 0.00000000e+00],\n",
       "        [8.19291081e-03, 1.27561468e-13],\n",
       "        [0.00000000e+00, 0.00000000e+00],\n",
       "        [0.00000000e+00, 0.00000000e+00],\n",
       "        [0.00000000e+00, 0.00000000e+00],\n",
       "        [0.00000000e+00, 0.00000000e+00],\n",
       "        [1.28647879e-13, 6.84603769e-03],\n",
       "        [0.00000000e+00, 0.00000000e+00],\n",
       "        [0.00000000e+00, 0.00000000e+00],\n",
       "        [5.27661853e-03, 1.46806880e-04],\n",
       "        [6.80417987e-03, 4.92354576e-03],\n",
       "        [0.00000000e+00, 0.00000000e+00],\n",
       "        [0.00000000e+00, 0.00000000e+00],\n",
       "        [0.00000000e+00, 0.00000000e+00],\n",
       "        [0.00000000e+00, 0.00000000e+00],\n",
       "        [0.00000000e+00, 0.00000000e+00],\n",
       "        [0.00000000e+00, 0.00000000e+00],\n",
       "        [0.00000000e+00, 0.00000000e+00],\n",
       "        [1.28762994e-13, 2.73935441e-02],\n",
       "        [8.18454567e-03, 1.27560899e-13],\n",
       "        [3.37743876e-03, 4.83182212e-03],\n",
       "        [5.27848303e-03, 1.46859398e-04],\n",
       "        [0.00000000e+00, 0.00000000e+00],\n",
       "        [0.00000000e+00, 0.00000000e+00],\n",
       "        [0.00000000e+00, 0.00000000e+00],\n",
       "        [0.00000000e+00, 0.00000000e+00],\n",
       "        [0.00000000e+00, 0.00000000e+00],\n",
       "        [5.27893053e-03, 1.46870458e-04],\n",
       "        [0.00000000e+00, 0.00000000e+00],\n",
       "        [0.00000000e+00, 0.00000000e+00],\n",
       "        [5.27980924e-03, 1.46896316e-04],\n",
       "        [0.00000000e+00, 0.00000000e+00],\n",
       "        [1.28648218e-13, 6.84668776e-03],\n",
       "        [1.28750729e-13, 2.05432326e-02],\n",
       "        [0.00000000e+00, 0.00000000e+00],\n",
       "        [0.00000000e+00, 0.00000000e+00],\n",
       "        [0.00000000e+00, 0.00000000e+00],\n",
       "        [8.19035806e-03, 1.27560993e-13],\n",
       "        [1.28648015e-13, 6.84848195e-03],\n",
       "        [0.00000000e+00, 0.00000000e+00],\n",
       "        [0.00000000e+00, 0.00000000e+00],\n",
       "        [8.19142628e-03, 1.27560926e-13],\n",
       "        [0.00000000e+00, 0.00000000e+00],\n",
       "        [5.28331939e-03, 1.46993174e-04],\n",
       "        [0.00000000e+00, 0.00000000e+00],\n",
       "        [5.27738500e-03, 1.46828417e-04],\n",
       "        [1.28647920e-13, 6.84367912e-03],\n",
       "        [0.00000000e+00, 0.00000000e+00],\n",
       "        [0.00000000e+00, 0.00000000e+00],\n",
       "        [1.28647920e-13, 6.84870733e-03],\n",
       "        [8.19054153e-03, 1.27560926e-13],\n",
       "        [0.00000000e+00, 0.00000000e+00],\n",
       "        [1.63784456e-02, 1.27662014e-13],\n",
       "        [0.00000000e+00, 0.00000000e+00],\n",
       "        [8.19037016e-03, 1.27561197e-13],\n",
       "        [0.00000000e+00, 0.00000000e+00],\n",
       "        [5.27678989e-03, 1.46813050e-04],\n",
       "        [0.00000000e+00, 0.00000000e+00],\n",
       "        [8.18956550e-03, 1.27560953e-13],\n",
       "        [0.00000000e+00, 0.00000000e+00],\n",
       "        [1.28648015e-13, 6.84749801e-03],\n",
       "        [0.00000000e+00, 0.00000000e+00],\n",
       "        [0.00000000e+00, 0.00000000e+00],\n",
       "        [0.00000000e+00, 0.00000000e+00],\n",
       "        [0.00000000e+00, 0.00000000e+00],\n",
       "        [0.00000000e+00, 0.00000000e+00],\n",
       "        [0.00000000e+00, 0.00000000e+00],\n",
       "        [1.58317611e-02, 4.40469739e-04],\n",
       "        [5.27775520e-03, 1.46838749e-04],\n",
       "        [1.28724884e-13, 1.36911059e-02],\n",
       "        [0.00000000e+00, 0.00000000e+00],\n",
       "        [6.80426694e-03, 4.92440397e-03],\n",
       "        [0.00000000e+00, 0.00000000e+00],\n",
       "        [0.00000000e+00, 0.00000000e+00],\n",
       "        [1.28648096e-13, 6.84603164e-03],\n",
       "        [0.00000000e+00, 0.00000000e+00],\n",
       "        [0.00000000e+00, 0.00000000e+00],\n",
       "        [5.27716242e-03, 1.46823193e-04],\n",
       "        [0.00000000e+00, 0.00000000e+00],\n",
       "        [0.00000000e+00, 0.00000000e+00],\n",
       "        [0.00000000e+00, 0.00000000e+00],\n",
       "        [0.00000000e+00, 0.00000000e+00],\n",
       "        [8.18985701e-03, 1.27560858e-13],\n",
       "        [8.18983186e-03, 1.27561143e-13],\n",
       "        [0.00000000e+00, 0.00000000e+00],\n",
       "        [0.00000000e+00, 0.00000000e+00],\n",
       "        [0.00000000e+00, 0.00000000e+00],\n",
       "        [1.28647825e-13, 6.84540672e-03],\n",
       "        [8.19072779e-03, 1.27561170e-13],\n",
       "        [1.28724979e-13, 1.36962896e-02],\n",
       "        [0.00000000e+00, 0.00000000e+00],\n",
       "        [0.00000000e+00, 0.00000000e+00],\n",
       "        [8.19118600e-03, 1.27561048e-13],\n",
       "        [0.00000000e+00, 0.00000000e+00],\n",
       "        [1.28647716e-13, 6.84792455e-03],\n",
       "        [1.28648218e-13, 6.85250107e-03],\n",
       "        [0.00000000e+00, 0.00000000e+00],\n",
       "        [0.00000000e+00, 0.00000000e+00],\n",
       "        [1.28647757e-13, 6.84557483e-03],\n",
       "        [6.75398111e-03, 9.66357440e-03],\n",
       "        [0.00000000e+00, 0.00000000e+00],\n",
       "        [0.00000000e+00, 0.00000000e+00],\n",
       "        [1.28647798e-13, 6.84623141e-03],\n",
       "        [0.00000000e+00, 0.00000000e+00],\n",
       "        [1.28648218e-13, 6.84871757e-03],\n",
       "        [0.00000000e+00, 0.00000000e+00],\n",
       "        [0.00000000e+00, 0.00000000e+00],\n",
       "        [0.00000000e+00, 0.00000000e+00],\n",
       "        [1.28648015e-13, 6.84944028e-03],\n",
       "        [1.28725183e-13, 1.36957662e-02],\n",
       "        [0.00000000e+00, 0.00000000e+00],\n",
       "        [0.00000000e+00, 0.00000000e+00],\n",
       "        [8.19271896e-03, 1.27561359e-13],\n",
       "        [5.27757639e-03, 1.46833976e-04],\n",
       "        [1.28647594e-13, 6.84509845e-03],\n",
       "        [0.00000000e+00, 0.00000000e+00],\n",
       "        [1.58310980e-02, 4.40453528e-04],\n",
       "        [8.18589982e-03, 1.27560695e-13],\n",
       "        [1.28647838e-13, 6.84670033e-03],\n",
       "        [2.45621540e-02, 1.27695069e-13],\n",
       "        [1.28647798e-13, 6.84938347e-03],\n",
       "        [8.18984304e-03, 1.27560709e-13],\n",
       "        [0.00000000e+00, 0.00000000e+00],\n",
       "        [0.00000000e+00, 0.00000000e+00],\n",
       "        [1.28648123e-13, 6.84892386e-03],\n",
       "        [0.00000000e+00, 0.00000000e+00],\n",
       "        [1.28648109e-13, 6.85154693e-03],\n",
       "        [0.00000000e+00, 0.00000000e+00],\n",
       "        [0.00000000e+00, 0.00000000e+00],\n",
       "        [1.28647703e-13, 6.84741279e-03],\n",
       "        [1.28725088e-13, 1.36950696e-02],\n",
       "        [0.00000000e+00, 0.00000000e+00],\n",
       "        [0.00000000e+00, 0.00000000e+00],\n",
       "        [0.00000000e+00, 0.00000000e+00],\n",
       "        [0.00000000e+00, 0.00000000e+00],\n",
       "        [0.00000000e+00, 0.00000000e+00],\n",
       "        [8.19037948e-03, 1.27560709e-13],\n",
       "        [1.28647771e-13, 6.84904587e-03],\n",
       "        [1.28647974e-13, 6.84385328e-03],\n",
       "        [0.00000000e+00, 0.00000000e+00],\n",
       "        [2.45732907e-02, 1.27695421e-13],\n",
       "        [1.28647920e-13, 6.84463652e-03],\n",
       "        [0.00000000e+00, 0.00000000e+00],\n",
       "        [8.19007121e-03, 1.27561332e-13],\n",
       "        [0.00000000e+00, 0.00000000e+00],\n",
       "        [0.00000000e+00, 0.00000000e+00],\n",
       "        [0.00000000e+00, 0.00000000e+00],\n",
       "        [5.27899154e-03, 1.46872480e-04],\n",
       "        [0.00000000e+00, 0.00000000e+00],\n",
       "        [1.28647771e-13, 6.84783980e-03],\n",
       "        [5.27870934e-03, 1.46867184e-04],\n",
       "        [0.00000000e+00, 0.00000000e+00],\n",
       "        [0.00000000e+00, 0.00000000e+00],\n",
       "        [0.00000000e+00, 0.00000000e+00],\n",
       "        [0.00000000e+00, 0.00000000e+00],\n",
       "        [0.00000000e+00, 0.00000000e+00],\n",
       "        [1.28725142e-13, 1.36950845e-02],\n",
       "        [0.00000000e+00, 0.00000000e+00],\n",
       "        [8.18794221e-03, 1.27560750e-13],\n",
       "        [0.00000000e+00, 0.00000000e+00],\n",
       "        [0.00000000e+00, 0.00000000e+00],\n",
       "        [3.27566266e-02, 1.27711128e-13],\n",
       "        [0.00000000e+00, 0.00000000e+00],\n",
       "        [6.80259988e-03, 4.92515881e-03],\n",
       "        [1.28647974e-13, 6.84647169e-03],\n",
       "        [0.00000000e+00, 0.00000000e+00],\n",
       "        [0.00000000e+00, 0.00000000e+00],\n",
       "        [0.00000000e+00, 0.00000000e+00],\n",
       "        [8.19290522e-03, 1.27561305e-13],\n",
       "        [0.00000000e+00, 0.00000000e+00],\n",
       "        [0.00000000e+00, 0.00000000e+00],\n",
       "        [0.00000000e+00, 0.00000000e+00],\n",
       "        [5.28018875e-03, 1.46906168e-04],\n",
       "        [0.00000000e+00, 0.00000000e+00],\n",
       "        [8.19120929e-03, 1.27560573e-13],\n",
       "        [5.27815288e-03, 1.46850827e-04],\n",
       "        [1.28648055e-13, 6.84852712e-03],\n",
       "        [5.27790375e-03, 1.46842824e-04],\n",
       "        [0.00000000e+00, 0.00000000e+00],\n",
       "        [0.00000000e+00, 0.00000000e+00],\n",
       "        [1.28779393e-13, 5.47699109e-02],\n",
       "        [0.00000000e+00, 0.00000000e+00],\n",
       "        [1.05612511e-02, 2.93834950e-04],\n",
       "        [0.00000000e+00, 0.00000000e+00],\n",
       "        [1.05586080e-02, 2.93762714e-04],\n",
       "        [0.00000000e+00, 0.00000000e+00],\n",
       "        [0.00000000e+00, 0.00000000e+00],\n",
       "        [0.00000000e+00, 0.00000000e+00],\n",
       "        [1.05619729e-02, 2.93855526e-04],\n",
       "        [0.00000000e+00, 0.00000000e+00],\n",
       "        [0.00000000e+00, 0.00000000e+00],\n",
       "        [5.28043462e-03, 1.46914419e-04],\n",
       "        [1.28647893e-13, 6.84635155e-03],\n",
       "        [0.00000000e+00, 0.00000000e+00],\n",
       "        [1.28648177e-13, 6.84851781e-03],\n",
       "        [1.28647784e-13, 6.84878882e-03],\n",
       "        [0.00000000e+00, 0.00000000e+00],\n",
       "        [0.00000000e+00, 0.00000000e+00],\n",
       "        [0.00000000e+00, 0.00000000e+00],\n",
       "        [8.18838645e-03, 1.27560492e-13],\n",
       "        [1.63757894e-02, 1.27661743e-13],\n",
       "        [0.00000000e+00, 0.00000000e+00],\n",
       "        [3.37739149e-03, 4.83058859e-03],\n",
       "        [0.00000000e+00, 0.00000000e+00],\n",
       "        [1.28648015e-13, 6.84724422e-03],\n",
       "        [0.00000000e+00, 0.00000000e+00],\n",
       "        [5.27954986e-03, 1.46887658e-04],\n",
       "        [0.00000000e+00, 0.00000000e+00],\n",
       "        [0.00000000e+00, 0.00000000e+00],\n",
       "        [0.00000000e+00, 0.00000000e+00],\n",
       "        [0.00000000e+00, 0.00000000e+00],\n",
       "        [1.28647987e-13, 6.84869988e-03],\n",
       "        [0.00000000e+00, 0.00000000e+00],\n",
       "        [0.00000000e+00, 0.00000000e+00],\n",
       "        [0.00000000e+00, 0.00000000e+00],\n",
       "        [0.00000000e+00, 0.00000000e+00],\n",
       "        [0.00000000e+00, 0.00000000e+00],\n",
       "        [0.00000000e+00, 0.00000000e+00],\n",
       "        [8.72672535e-03, 6.85127964e-03],\n",
       "        [0.00000000e+00, 0.00000000e+00],\n",
       "        [0.00000000e+00, 0.00000000e+00],\n",
       "        [0.00000000e+00, 0.00000000e+00],\n",
       "        [0.00000000e+00, 0.00000000e+00],\n",
       "        [0.00000000e+00, 0.00000000e+00],\n",
       "        [5.30736241e-03, 4.57739783e-03],\n",
       "        [0.00000000e+00, 0.00000000e+00],\n",
       "        [1.28647811e-13, 6.84597716e-03],\n",
       "        [0.00000000e+00, 0.00000000e+00],\n",
       "        [0.00000000e+00, 0.00000000e+00],\n",
       "        [1.28647622e-13, 6.84880000e-03],\n",
       "        [0.00000000e+00, 0.00000000e+00],\n",
       "        [0.00000000e+00, 0.00000000e+00],\n",
       "        [5.27658546e-03, 1.46809223e-04],\n",
       "        [5.27865021e-03, 1.46863051e-04],\n",
       "        [8.18934292e-03, 1.27560926e-13],\n",
       "        [1.28724763e-13, 1.36965187e-02],\n",
       "        [0.00000000e+00, 0.00000000e+00],\n",
       "        [0.00000000e+00, 0.00000000e+00],\n",
       "        [0.00000000e+00, 0.00000000e+00],\n",
       "        [0.00000000e+00, 0.00000000e+00],\n",
       "        [0.00000000e+00, 0.00000000e+00],\n",
       "        [1.28647865e-13, 6.84575038e-03],\n",
       "        [0.00000000e+00, 0.00000000e+00],\n",
       "        [0.00000000e+00, 0.00000000e+00],\n",
       "        [0.00000000e+00, 0.00000000e+00],\n",
       "        [0.00000000e+00, 0.00000000e+00],\n",
       "        [1.28648218e-13, 6.84351707e-03],\n",
       "        [5.00615034e-03, 3.24261039e-02],\n",
       "        [0.00000000e+00, 0.00000000e+00],\n",
       "        [5.27877733e-03, 1.46865219e-04],\n",
       "        [0.00000000e+00, 0.00000000e+00],\n",
       "        [0.00000000e+00, 0.00000000e+00],\n",
       "        [1.28750539e-13, 2.05534864e-02],\n",
       "        [0.00000000e+00, 0.00000000e+00],\n",
       "        [0.00000000e+00, 0.00000000e+00],\n",
       "        [5.27995778e-03, 1.46899678e-04],\n",
       "        [0.00000000e+00, 0.00000000e+00],\n",
       "        [0.00000000e+00, 0.00000000e+00],\n",
       "        [0.00000000e+00, 0.00000000e+00],\n",
       "        [3.37793725e-03, 4.83200373e-03],\n",
       "        [0.00000000e+00, 0.00000000e+00],\n",
       "        [0.00000000e+00, 0.00000000e+00],\n",
       "        [1.05571439e-02, 2.93724530e-04],\n",
       "        [1.58354715e-02, 4.40565433e-04],\n",
       "        [1.63781010e-02, 1.27662204e-13],\n",
       "        [0.00000000e+00, 0.00000000e+00],\n",
       "        [8.19016248e-03, 1.27560980e-13],\n",
       "        [1.28648028e-13, 6.84444513e-03],\n",
       "        [0.00000000e+00, 0.00000000e+00],\n",
       "        [0.00000000e+00, 0.00000000e+00],\n",
       "        [1.28647825e-13, 6.84762653e-03],\n",
       "        [0.00000000e+00, 0.00000000e+00],\n",
       "        [0.00000000e+00, 0.00000000e+00],\n",
       "        [0.00000000e+00, 0.00000000e+00],\n",
       "        [0.00000000e+00, 0.00000000e+00],\n",
       "        [1.28647838e-13, 6.84656715e-03],\n",
       "        [1.28725128e-13, 1.36952465e-02],\n",
       "        [2.45730300e-02, 1.27695489e-13],\n",
       "        [0.00000000e+00, 0.00000000e+00],\n",
       "        [8.19164701e-03, 1.27561075e-13],\n",
       "        [0.00000000e+00, 0.00000000e+00],\n",
       "        [0.00000000e+00, 0.00000000e+00],\n",
       "        [5.27915591e-03, 1.46878243e-04],\n",
       "        [0.00000000e+00, 0.00000000e+00],\n",
       "        [0.00000000e+00, 0.00000000e+00],\n",
       "        [0.00000000e+00, 0.00000000e+00],\n",
       "        [0.00000000e+00, 0.00000000e+00],\n",
       "        [8.18693638e-03, 1.27560817e-13],\n",
       "        [0.00000000e+00, 0.00000000e+00],\n",
       "        [0.00000000e+00, 0.00000000e+00],\n",
       "        [1.28647960e-13, 6.84621138e-03],\n",
       "        [0.00000000e+00, 0.00000000e+00],\n",
       "        [1.28648069e-13, 6.84654014e-03],\n",
       "        [0.00000000e+00, 0.00000000e+00]], dtype=float32),\n",
       " 'H': array([[1.1920929e-07, 1.1920929e-07, 7.2770114e+00, 1.1920929e-07,\n",
       "         4.9042764e+00, 1.1920929e-07, 4.9042764e+00, 4.9042764e+00,\n",
       "         7.2770114e+00, 7.2770114e+00, 1.1920929e-07, 1.1920929e-07,\n",
       "         1.1920929e-07, 7.2770114e+00, 1.1920929e-07, 7.2770114e+00,\n",
       "         4.9042764e+00, 7.2770114e+00, 7.2770114e+00, 1.1920929e-07,\n",
       "         1.1920929e-07, 7.2770114e+00, 7.2770114e+00, 7.2770114e+00,\n",
       "         1.1920929e-07, 1.1920929e-07, 7.2770114e+00, 4.9042764e+00,\n",
       "         7.2770114e+00, 1.1920929e-07, 4.9042764e+00, 4.9042764e+00,\n",
       "         4.9042764e+00, 4.9042764e+00, 7.2770114e+00, 4.9042764e+00,\n",
       "         1.1920929e-07, 1.1920929e-07, 4.9042764e+00, 7.2770114e+00,\n",
       "         1.1920929e-07, 4.9042764e+00, 4.9042764e+00, 1.1920929e-07,\n",
       "         7.2770114e+00, 7.2770114e+00, 4.9042764e+00, 7.2770114e+00,\n",
       "         4.9042764e+00, 7.2770114e+00, 4.9042764e+00, 7.2770114e+00,\n",
       "         4.9042764e+00, 4.9042764e+00, 4.9042764e+00, 1.1920929e-07,\n",
       "         1.1920929e-07, 4.9042764e+00, 1.1920929e-07, 4.9042764e+00,\n",
       "         7.2770114e+00, 4.9042764e+00, 1.1920929e-07, 4.9042764e+00,\n",
       "         1.1920929e-07, 1.1920929e-07, 7.2770114e+00, 7.2770114e+00,\n",
       "         1.1920929e-07, 7.2770114e+00, 7.2770114e+00, 1.1920929e-07,\n",
       "         1.1920929e-07, 1.1920929e-07, 1.1920929e-07, 7.2770114e+00,\n",
       "         4.9042764e+00, 7.2770114e+00, 4.9042764e+00, 4.9042764e+00,\n",
       "         7.2770114e+00, 7.2770114e+00, 1.1920929e-07, 4.9042764e+00,\n",
       "         7.2770114e+00, 1.1920929e-07, 4.9042764e+00, 4.9042764e+00,\n",
       "         7.2770114e+00, 1.1920929e-07, 4.9042764e+00, 7.2770114e+00,\n",
       "         7.2770114e+00, 1.1920929e-07, 7.2770114e+00, 7.2770114e+00,\n",
       "         4.9042764e+00, 1.1920929e-07, 1.1920929e-07, 7.2770114e+00,\n",
       "         1.1920929e-07, 1.1920929e-07, 1.1920929e-07, 7.2770114e+00,\n",
       "         7.2770114e+00, 7.2770114e+00, 4.9042764e+00, 4.9042764e+00,\n",
       "         4.9042764e+00, 1.1920929e-07, 4.9042764e+00, 7.2770114e+00,\n",
       "         7.2770114e+00, 1.1920929e-07, 4.9042764e+00, 4.9042764e+00,\n",
       "         7.2770114e+00, 1.1920929e-07, 4.9042764e+00, 1.1920929e-07,\n",
       "         4.9042764e+00, 4.9042764e+00, 4.9042764e+00, 1.1920929e-07,\n",
       "         7.2770114e+00, 1.1920929e-07, 7.2770114e+00, 4.9042764e+00,\n",
       "         7.2770114e+00, 7.2770114e+00, 4.9042764e+00, 4.9042764e+00,\n",
       "         4.9042764e+00, 4.9042764e+00, 1.1920929e-07, 1.1920929e-07,\n",
       "         1.1920929e-07, 4.9042764e+00, 4.9042764e+00, 1.1920929e-07,\n",
       "         4.9042764e+00, 1.1920929e-07, 1.1920929e-07, 4.9042764e+00,\n",
       "         1.1920929e-07, 7.2770114e+00, 7.2770114e+00, 1.1920929e-07,\n",
       "         1.1920929e-07, 1.1920929e-07, 7.2770114e+00, 1.1920929e-07,\n",
       "         4.9042764e+00, 1.1920929e-07, 7.2770114e+00, 1.1920929e-07,\n",
       "         4.9042764e+00, 4.9042764e+00, 7.2770114e+00, 1.1920929e-07,\n",
       "         7.2770114e+00, 4.9042764e+00, 7.2770114e+00, 4.9042764e+00,\n",
       "         1.1920929e-07, 4.9042764e+00, 7.2770114e+00, 1.1920929e-07,\n",
       "         7.2770114e+00, 4.9042764e+00, 4.9042764e+00, 4.9042764e+00,\n",
       "         7.2770114e+00, 1.1920929e-07, 7.2770114e+00, 1.1920929e-07,\n",
       "         4.9042764e+00, 1.1920929e-07, 4.9042764e+00, 1.1920929e-07,\n",
       "         1.1920929e-07, 1.1920929e-07, 7.2770114e+00, 7.2770114e+00,\n",
       "         1.1920929e-07, 7.2770114e+00, 7.2770114e+00, 1.1920929e-07,\n",
       "         1.1920929e-07, 1.1920929e-07, 7.2770114e+00, 1.1920929e-07,\n",
       "         7.2770114e+00, 1.1920929e-07, 1.1920929e-07, 1.1920929e-07,\n",
       "         4.9042764e+00, 7.2770114e+00, 1.1920929e-07, 1.1920929e-07,\n",
       "         7.2770114e+00, 1.1920929e-07, 7.2770114e+00, 1.1920929e-07,\n",
       "         1.1920929e-07, 1.1920929e-07, 1.1920929e-07, 4.9042764e+00,\n",
       "         4.9042764e+00, 1.1920929e-07, 4.9042764e+00, 7.2770114e+00,\n",
       "         7.2770114e+00, 7.2770114e+00, 4.9042764e+00, 4.9042764e+00,\n",
       "         1.1920929e-07, 4.9042764e+00, 7.2770114e+00, 7.2770114e+00,\n",
       "         1.1920929e-07, 1.1920929e-07, 7.2770114e+00, 1.1920929e-07,\n",
       "         4.9042764e+00, 1.1920929e-07, 4.9042764e+00, 1.1920929e-07,\n",
       "         1.1920929e-07, 7.2770114e+00, 1.1920929e-07, 1.1920929e-07,\n",
       "         4.9042764e+00, 7.2770114e+00, 7.2770114e+00, 1.1920929e-07,\n",
       "         1.1920929e-07, 7.2770114e+00, 7.2770114e+00, 1.1920929e-07,\n",
       "         4.9042764e+00, 1.1920929e-07, 4.9042764e+00, 7.2770114e+00,\n",
       "         1.1920929e-07, 4.9042764e+00, 4.9042764e+00, 1.1920929e-07,\n",
       "         4.9042764e+00, 7.2770114e+00, 1.1920929e-07, 4.9042764e+00,\n",
       "         7.2770114e+00, 1.1920929e-07, 1.1920929e-07, 7.2770114e+00,\n",
       "         1.1920929e-07, 1.1920929e-07, 4.9042764e+00, 4.9042764e+00,\n",
       "         7.2770114e+00, 4.9042764e+00, 4.9042764e+00, 1.1920929e-07,\n",
       "         7.2770114e+00, 4.9042764e+00, 4.9042764e+00, 7.2770114e+00,\n",
       "         7.2770114e+00, 1.1920929e-07, 1.1920929e-07, 1.1920929e-07,\n",
       "         4.9042764e+00, 1.1920929e-07, 7.2770114e+00, 4.9042764e+00,\n",
       "         4.9042764e+00, 4.9042764e+00, 7.2770114e+00, 1.1920929e-07,\n",
       "         1.1920929e-07, 7.2770114e+00, 7.2770114e+00, 1.1920929e-07,\n",
       "         4.9042764e+00, 4.9042764e+00, 1.1920929e-07, 7.2770114e+00,\n",
       "         4.9042764e+00, 7.2770114e+00, 7.2770114e+00, 4.9042764e+00,\n",
       "         7.2770114e+00, 1.1920929e-07, 4.9042764e+00, 7.2770114e+00,\n",
       "         7.2770114e+00, 7.2770114e+00, 4.9042764e+00, 7.2770114e+00,\n",
       "         4.9042764e+00, 7.2770114e+00, 7.2770114e+00, 1.1920929e-07,\n",
       "         7.2770114e+00, 7.2770114e+00, 1.1920929e-07, 4.9042764e+00,\n",
       "         7.2770114e+00, 7.2770114e+00, 4.9042764e+00, 4.9042764e+00,\n",
       "         7.2770114e+00, 7.2770114e+00, 7.2770114e+00, 4.9042764e+00,\n",
       "         4.9042764e+00],\n",
       "        [7.9788480e+00, 7.9788480e+00, 1.1920929e-07, 7.9788485e+00,\n",
       "         1.7655618e-01, 7.9788485e+00, 1.7655618e-01, 1.7655618e-01,\n",
       "         1.1920929e-07, 1.1920929e-07, 7.9788485e+00, 7.9788480e+00,\n",
       "         7.9788480e+00, 1.1920929e-07, 7.9788480e+00, 1.1920929e-07,\n",
       "         1.7655618e-01, 1.1920929e-07, 1.1920929e-07, 7.9788485e+00,\n",
       "         7.9788485e+00, 1.1920929e-07, 1.1920929e-07, 1.1920929e-07,\n",
       "         7.9788480e+00, 7.9788485e+00, 1.1920929e-07, 1.7655618e-01,\n",
       "         1.1920929e-07, 7.9788485e+00, 1.7655618e-01, 1.7655618e-01,\n",
       "         1.7655618e-01, 1.7655618e-01, 1.1920929e-07, 1.7655618e-01,\n",
       "         7.9788480e+00, 7.9788485e+00, 1.7655618e-01, 1.1920929e-07,\n",
       "         7.9788485e+00, 1.7655618e-01, 1.7655618e-01, 7.9788480e+00,\n",
       "         1.1920929e-07, 1.1920929e-07, 1.7655618e-01, 1.1920929e-07,\n",
       "         1.7655618e-01, 1.1920929e-07, 1.7655618e-01, 1.1920929e-07,\n",
       "         1.7655618e-01, 1.7655618e-01, 1.7655618e-01, 7.9788480e+00,\n",
       "         7.9788485e+00, 1.7655618e-01, 7.9788485e+00, 1.7655618e-01,\n",
       "         1.1920929e-07, 1.7655618e-01, 7.9788485e+00, 1.7655618e-01,\n",
       "         7.9788485e+00, 7.9788485e+00, 1.1920929e-07, 1.1920929e-07,\n",
       "         7.9788485e+00, 1.1920929e-07, 1.1920929e-07, 7.9788485e+00,\n",
       "         7.9788480e+00, 7.9788480e+00, 7.9788480e+00, 1.1920929e-07,\n",
       "         1.7655618e-01, 1.1920929e-07, 1.7655618e-01, 1.7655618e-01,\n",
       "         1.1920929e-07, 1.1920929e-07, 7.9788480e+00, 1.7655618e-01,\n",
       "         1.1920929e-07, 7.9788485e+00, 1.7655618e-01, 1.7655618e-01,\n",
       "         1.1920929e-07, 7.9788480e+00, 1.7655618e-01, 1.1920929e-07,\n",
       "         1.1920929e-07, 7.9788485e+00, 1.1920929e-07, 1.1920929e-07,\n",
       "         1.7655618e-01, 7.9788480e+00, 7.9788485e+00, 1.1920929e-07,\n",
       "         7.9788480e+00, 7.9788485e+00, 7.9788485e+00, 1.1920929e-07,\n",
       "         1.1920929e-07, 1.1920929e-07, 1.7655618e-01, 1.7655618e-01,\n",
       "         1.7655618e-01, 7.9788485e+00, 1.7655618e-01, 1.1920929e-07,\n",
       "         1.1920929e-07, 7.9788485e+00, 1.7655618e-01, 1.7655618e-01,\n",
       "         1.1920929e-07, 7.9788480e+00, 1.7655618e-01, 7.9788485e+00,\n",
       "         1.7655618e-01, 1.7655618e-01, 1.7655617e-01, 7.9788480e+00,\n",
       "         1.1920929e-07, 7.9788485e+00, 1.1920929e-07, 1.7655618e-01,\n",
       "         1.1920929e-07, 1.1920929e-07, 1.7655618e-01, 1.7655618e-01,\n",
       "         1.7655618e-01, 1.7655618e-01, 7.9788485e+00, 7.9788480e+00,\n",
       "         7.9788480e+00, 1.7655618e-01, 1.7655618e-01, 7.9788480e+00,\n",
       "         1.7655618e-01, 7.9788480e+00, 7.9788480e+00, 1.7655618e-01,\n",
       "         7.9788485e+00, 1.1920929e-07, 1.1920929e-07, 7.9788480e+00,\n",
       "         7.9788480e+00, 7.9788480e+00, 1.1920929e-07, 7.9788485e+00,\n",
       "         1.7655618e-01, 7.9788480e+00, 1.1920929e-07, 7.9788480e+00,\n",
       "         1.7655618e-01, 1.7655618e-01, 1.1920929e-07, 7.9788485e+00,\n",
       "         1.1920929e-07, 1.7655618e-01, 1.1920929e-07, 1.7655618e-01,\n",
       "         7.9788480e+00, 1.7655618e-01, 1.1920929e-07, 7.9788480e+00,\n",
       "         1.1920929e-07, 1.7655618e-01, 1.7655618e-01, 1.7655618e-01,\n",
       "         1.1920929e-07, 7.9788480e+00, 1.1920929e-07, 7.9788485e+00,\n",
       "         1.7655618e-01, 7.9788485e+00, 1.7655618e-01, 7.9788480e+00,\n",
       "         7.9788485e+00, 7.9788485e+00, 1.1920929e-07, 1.1920929e-07,\n",
       "         7.9788480e+00, 1.1920929e-07, 1.1920929e-07, 7.9788485e+00,\n",
       "         7.9788480e+00, 7.9788480e+00, 1.1920929e-07, 7.9788485e+00,\n",
       "         1.1920929e-07, 7.9788485e+00, 7.9788485e+00, 7.9788485e+00,\n",
       "         1.7655618e-01, 1.1920929e-07, 7.9788485e+00, 7.9788480e+00,\n",
       "         1.1920929e-07, 7.9788485e+00, 1.1920929e-07, 7.9788485e+00,\n",
       "         7.9788480e+00, 7.9788485e+00, 7.9788485e+00, 1.7655618e-01,\n",
       "         1.7655618e-01, 7.9788480e+00, 1.7655618e-01, 1.1920929e-07,\n",
       "         1.1920929e-07, 1.1920929e-07, 1.7655618e-01, 1.7655618e-01,\n",
       "         7.9788480e+00, 1.7655618e-01, 1.1920929e-07, 1.1920929e-07,\n",
       "         7.9788480e+00, 7.9788480e+00, 1.1920929e-07, 7.9788480e+00,\n",
       "         1.7655618e-01, 7.9788485e+00, 1.7655618e-01, 7.9788485e+00,\n",
       "         7.9788480e+00, 1.1920929e-07, 7.9788485e+00, 7.9788480e+00,\n",
       "         1.7655618e-01, 1.1920929e-07, 1.1920929e-07, 7.9788485e+00,\n",
       "         7.9788485e+00, 1.1920929e-07, 1.1920929e-07, 7.9788480e+00,\n",
       "         1.7655618e-01, 7.9788480e+00, 1.7655618e-01, 1.1920929e-07,\n",
       "         7.9788485e+00, 1.7655618e-01, 1.7655618e-01, 7.9788485e+00,\n",
       "         1.7655618e-01, 1.1920929e-07, 7.9788480e+00, 1.7655618e-01,\n",
       "         1.1920929e-07, 7.9788485e+00, 7.9788485e+00, 1.1920929e-07,\n",
       "         7.9788485e+00, 7.9788480e+00, 1.7655618e-01, 1.7655618e-01,\n",
       "         1.1920929e-07, 1.7655618e-01, 1.7655618e-01, 7.9788480e+00,\n",
       "         1.1920929e-07, 1.7655618e-01, 1.7655618e-01, 1.1920929e-07,\n",
       "         1.1920929e-07, 7.9788485e+00, 7.9788480e+00, 7.9788485e+00,\n",
       "         1.7655618e-01, 7.9788480e+00, 1.1920929e-07, 1.7655618e-01,\n",
       "         1.7655618e-01, 1.7655618e-01, 1.1920929e-07, 7.9788480e+00,\n",
       "         7.9788480e+00, 1.1920929e-07, 1.1920929e-07, 7.9788485e+00,\n",
       "         1.7655618e-01, 1.7655618e-01, 7.9788485e+00, 1.1920929e-07,\n",
       "         1.7655618e-01, 1.1920929e-07, 1.1920929e-07, 1.7655618e-01,\n",
       "         1.1920929e-07, 7.9788480e+00, 1.7655618e-01, 1.1920929e-07,\n",
       "         1.1920929e-07, 1.1920929e-07, 1.7655618e-01, 1.1920929e-07,\n",
       "         1.7655618e-01, 1.1920929e-07, 1.1920929e-07, 7.9788485e+00,\n",
       "         1.1920929e-07, 1.1920929e-07, 7.9788480e+00, 1.7655618e-01,\n",
       "         1.1920929e-07, 1.1920929e-07, 1.7655618e-01, 1.7655618e-01,\n",
       "         1.1920929e-07, 1.1920929e-07, 1.1920929e-07, 1.7655618e-01,\n",
       "         1.7655618e-01]], dtype=float32),\n",
       " 'k': 3,\n",
       " 'parent_topic': 0,\n",
       " 'parent_node_name': 'node1',\n",
       " 'child_node_names': [],\n",
       " 'original_indices': array([  0,   1,   8,   9,  10,  11,  14,  16,  23,  24,  25,  27,  29,\n",
       "         36,  40,  45,  48,  49,  50,  52,  56,  57,  65,  66,  68,  74,\n",
       "         76,  81,  84,  87,  89,  90,  93,  96,  97,  98,  99, 100, 101,\n",
       "        103, 104, 106, 112, 116, 119, 120, 121, 122, 129, 130, 132, 134,\n",
       "        137, 145, 148, 152, 153, 162, 163, 164, 168, 169, 171, 174, 179,\n",
       "        180, 182, 185, 192, 201, 204, 205, 208, 212, 213, 215, 218, 219,\n",
       "        220, 223, 225, 227, 228, 229, 231, 233, 236, 238, 247, 248, 250,\n",
       "        251, 252, 255, 258, 264, 270, 273, 275, 276, 277, 288, 296, 297,\n",
       "        298, 301, 305, 306, 308, 310, 312, 314, 315, 320, 322, 326, 334,\n",
       "        336, 338, 344, 351, 357, 358, 360, 363, 369, 372, 375, 376, 377,\n",
       "        381, 384, 392, 395, 399, 401, 402, 403, 404, 407, 408, 410, 421,\n",
       "        422, 425, 427, 431, 432, 433, 440, 444, 445, 446, 449, 457, 460,\n",
       "        466, 467, 471, 477, 481, 483, 484, 490, 492, 501, 504, 507, 509,\n",
       "        510, 511, 512, 516, 518, 519, 521, 525, 526, 527, 533, 534, 535,\n",
       "        538, 553, 554, 557, 561, 564, 570, 573, 574, 578, 581, 582, 584,\n",
       "        589, 591, 592, 609, 610, 612, 614, 618, 621, 622, 624, 626, 628,\n",
       "        630, 632, 633, 635, 638, 645, 655, 659, 660, 664, 669, 676, 682,\n",
       "        692, 699, 701, 702, 706, 710, 717, 719, 724, 725, 726, 729, 730,\n",
       "        732, 739, 742, 743, 744, 746, 748, 750, 752, 757, 759, 765, 768,\n",
       "        770, 772, 773, 774, 775, 778, 779, 780, 784, 786, 790, 792, 794,\n",
       "        800, 803, 804, 806, 807, 808, 810, 812, 814, 815, 829, 831, 832,\n",
       "        833, 834, 835, 839, 841, 844, 845, 847, 849, 852, 856, 862, 864,\n",
       "        865, 867, 868, 870, 871, 873, 876, 879, 887, 890, 893, 894, 895,\n",
       "        897, 899, 900, 901, 904, 906, 908, 911, 912, 913, 916, 920, 921,\n",
       "        922, 930, 932, 935, 938]),\n",
       " 'num_samples': 317,\n",
       " 'leaf': True}"
      ]
     },
     "execution_count": 29,
     "metadata": {},
     "output_type": "execute_result"
    }
   ],
   "source": [
    "all_nodes[0]"
   ]
  },
  {
   "cell_type": "markdown",
   "metadata": {},
   "source": [
    "# Organize Leaf Nodes"
   ]
  },
  {
   "cell_type": "code",
   "execution_count": 35,
   "metadata": {},
   "outputs": [
    {
     "data": {
      "text/plain": [
       "4"
      ]
     },
     "execution_count": 35,
     "metadata": {},
     "output_type": "execute_result"
    }
   ],
   "source": [
    "leaf_nodes = []\n",
    "\n",
    "for node in all_nodes:\n",
    "    if node[\"leaf\"]:\n",
    "        current_documents = df.iloc[node[\"original_indices\"]]\n",
    "        top_1grams = get_top_words(current_documents[\"clean_abstract\"].to_dict(), top_n=50, n_gram=1, verbose=False, filename=None)\n",
    "        top_2grams = get_top_words(current_documents[\"clean_abstract\"].to_dict(), top_n=50, n_gram=2, verbose=False, filename=None)\n",
    "\n",
    "        leaf_nodes.append({   \n",
    "            \"name\":node[\"name\"], \n",
    "            \"depth\":node[\"depth\"],\n",
    "            \"parent_node_name\":node[\"parent_node_name\"], \n",
    "            \"child_node_names\":node[\"child_node_names\"], \n",
    "            \"num_samples\":node[\"num_samples\"], \n",
    "            \"sample_indices\":node[\"original_indices\"],\n",
    "            \"documents\":current_documents,\n",
    "            \"top_1grams\":top_1grams,\n",
    "            \"top_2grams\":top_2grams,\n",
    "        })\n",
    "        \n",
    "len(leaf_nodes)"
   ]
  },
  {
   "cell_type": "markdown",
   "metadata": {},
   "source": [
    "### Look at top 2-grams in each leaf node"
   ]
  },
  {
   "cell_type": "code",
   "execution_count": 38,
   "metadata": {},
   "outputs": [
    {
     "data": {
      "text/html": [
       "<div>\n",
       "<style scoped>\n",
       "    .dataframe tbody tr th:only-of-type {\n",
       "        vertical-align: middle;\n",
       "    }\n",
       "\n",
       "    .dataframe tbody tr th {\n",
       "        vertical-align: top;\n",
       "    }\n",
       "\n",
       "    .dataframe thead th {\n",
       "        text-align: right;\n",
       "    }\n",
       "</style>\n",
       "<table border=\"1\" class=\"dataframe\">\n",
       "  <thead>\n",
       "    <tr style=\"text-align: right;\">\n",
       "      <th></th>\n",
       "      <th>word</th>\n",
       "      <th>tf</th>\n",
       "      <th>df</th>\n",
       "      <th>df_fraction</th>\n",
       "      <th>tf_fraction</th>\n",
       "    </tr>\n",
       "  </thead>\n",
       "  <tbody>\n",
       "    <tr>\n",
       "      <th>0</th>\n",
       "      <td>scada system</td>\n",
       "      <td>452</td>\n",
       "      <td>113</td>\n",
       "      <td>0.356467</td>\n",
       "      <td>1.477124</td>\n",
       "    </tr>\n",
       "    <tr>\n",
       "      <th>1</th>\n",
       "      <td>tensor decomposition</td>\n",
       "      <td>339</td>\n",
       "      <td>113</td>\n",
       "      <td>0.356467</td>\n",
       "      <td>1.107843</td>\n",
       "    </tr>\n",
       "    <tr>\n",
       "      <th>2</th>\n",
       "      <td>machine learn</td>\n",
       "      <td>311</td>\n",
       "      <td>212</td>\n",
       "      <td>0.668770</td>\n",
       "      <td>1.016340</td>\n",
       "    </tr>\n",
       "    <tr>\n",
       "      <th>3</th>\n",
       "      <td>build dataset</td>\n",
       "      <td>297</td>\n",
       "      <td>99</td>\n",
       "      <td>0.312303</td>\n",
       "      <td>0.970588</td>\n",
       "    </tr>\n",
       "    <tr>\n",
       "      <th>4</th>\n",
       "      <td>grid system</td>\n",
       "      <td>226</td>\n",
       "      <td>113</td>\n",
       "      <td>0.356467</td>\n",
       "      <td>0.738562</td>\n",
       "    </tr>\n",
       "  </tbody>\n",
       "</table>\n",
       "</div>"
      ],
      "text/plain": [
       "                   word   tf   df  df_fraction  tf_fraction\n",
       "0          scada system  452  113     0.356467     1.477124\n",
       "1  tensor decomposition  339  113     0.356467     1.107843\n",
       "2         machine learn  311  212     0.668770     1.016340\n",
       "3         build dataset  297   99     0.312303     0.970588\n",
       "4           grid system  226  113     0.356467     0.738562"
      ]
     },
     "execution_count": 38,
     "metadata": {},
     "output_type": "execute_result"
    }
   ],
   "source": [
    "leaf_nodes[0][\"top_2grams\"].head(5)"
   ]
  },
  {
   "cell_type": "code",
   "execution_count": 39,
   "metadata": {},
   "outputs": [
    {
     "data": {
      "text/html": [
       "<div>\n",
       "<style scoped>\n",
       "    .dataframe tbody tr th:only-of-type {\n",
       "        vertical-align: middle;\n",
       "    }\n",
       "\n",
       "    .dataframe tbody tr th {\n",
       "        vertical-align: top;\n",
       "    }\n",
       "\n",
       "    .dataframe thead th {\n",
       "        text-align: right;\n",
       "    }\n",
       "</style>\n",
       "<table border=\"1\" class=\"dataframe\">\n",
       "  <thead>\n",
       "    <tr style=\"text-align: right;\">\n",
       "      <th></th>\n",
       "      <th>word</th>\n",
       "      <th>tf</th>\n",
       "      <th>df</th>\n",
       "      <th>df_fraction</th>\n",
       "      <th>tf_fraction</th>\n",
       "    </tr>\n",
       "  </thead>\n",
       "  <tbody>\n",
       "    <tr>\n",
       "      <th>0</th>\n",
       "      <td>latency associate</td>\n",
       "      <td>434</td>\n",
       "      <td>217</td>\n",
       "      <td>1.0</td>\n",
       "      <td>2.384615</td>\n",
       "    </tr>\n",
       "    <tr>\n",
       "      <th>1</th>\n",
       "      <td>collective communication</td>\n",
       "      <td>333</td>\n",
       "      <td>217</td>\n",
       "      <td>1.0</td>\n",
       "      <td>1.829670</td>\n",
       "    </tr>\n",
       "    <tr>\n",
       "      <th>2</th>\n",
       "      <td>sparse matrix</td>\n",
       "      <td>333</td>\n",
       "      <td>217</td>\n",
       "      <td>1.0</td>\n",
       "      <td>1.829670</td>\n",
       "    </tr>\n",
       "    <tr>\n",
       "      <th>3</th>\n",
       "      <td>memory complex</td>\n",
       "      <td>318</td>\n",
       "      <td>217</td>\n",
       "      <td>1.0</td>\n",
       "      <td>1.747253</td>\n",
       "    </tr>\n",
       "    <tr>\n",
       "      <th>4</th>\n",
       "      <td>batch copy</td>\n",
       "      <td>318</td>\n",
       "      <td>217</td>\n",
       "      <td>1.0</td>\n",
       "      <td>1.747253</td>\n",
       "    </tr>\n",
       "  </tbody>\n",
       "</table>\n",
       "</div>"
      ],
      "text/plain": [
       "                       word   tf   df  df_fraction  tf_fraction\n",
       "0         latency associate  434  217          1.0     2.384615\n",
       "1  collective communication  333  217          1.0     1.829670\n",
       "2             sparse matrix  333  217          1.0     1.829670\n",
       "3            memory complex  318  217          1.0     1.747253\n",
       "4                batch copy  318  217          1.0     1.747253"
      ]
     },
     "execution_count": 39,
     "metadata": {},
     "output_type": "execute_result"
    }
   ],
   "source": [
    "leaf_nodes[1][\"top_2grams\"].head(5)"
   ]
  },
  {
   "cell_type": "code",
   "execution_count": 40,
   "metadata": {},
   "outputs": [
    {
     "data": {
      "text/html": [
       "<div>\n",
       "<style scoped>\n",
       "    .dataframe tbody tr th:only-of-type {\n",
       "        vertical-align: middle;\n",
       "    }\n",
       "\n",
       "    .dataframe tbody tr th {\n",
       "        vertical-align: top;\n",
       "    }\n",
       "\n",
       "    .dataframe thead th {\n",
       "        text-align: right;\n",
       "    }\n",
       "</style>\n",
       "<table border=\"1\" class=\"dataframe\">\n",
       "  <thead>\n",
       "    <tr style=\"text-align: right;\">\n",
       "      <th></th>\n",
       "      <th>word</th>\n",
       "      <th>tf</th>\n",
       "      <th>df</th>\n",
       "      <th>df_fraction</th>\n",
       "      <th>tf_fraction</th>\n",
       "    </tr>\n",
       "  </thead>\n",
       "  <tbody>\n",
       "    <tr>\n",
       "      <th>0</th>\n",
       "      <td>sub topic</td>\n",
       "      <td>500</td>\n",
       "      <td>100</td>\n",
       "      <td>1.0</td>\n",
       "      <td>3.311258</td>\n",
       "    </tr>\n",
       "    <tr>\n",
       "      <th>1</th>\n",
       "      <td>topic model</td>\n",
       "      <td>300</td>\n",
       "      <td>100</td>\n",
       "      <td>1.0</td>\n",
       "      <td>1.986755</td>\n",
       "    </tr>\n",
       "    <tr>\n",
       "      <th>2</th>\n",
       "      <td>hierarchical senmfk</td>\n",
       "      <td>300</td>\n",
       "      <td>100</td>\n",
       "      <td>1.0</td>\n",
       "      <td>1.986755</td>\n",
       "    </tr>\n",
       "    <tr>\n",
       "      <th>3</th>\n",
       "      <td>text document</td>\n",
       "      <td>200</td>\n",
       "      <td>100</td>\n",
       "      <td>1.0</td>\n",
       "      <td>1.324503</td>\n",
       "    </tr>\n",
       "    <tr>\n",
       "      <th>4</th>\n",
       "      <td>document matrix</td>\n",
       "      <td>200</td>\n",
       "      <td>100</td>\n",
       "      <td>1.0</td>\n",
       "      <td>1.324503</td>\n",
       "    </tr>\n",
       "  </tbody>\n",
       "</table>\n",
       "</div>"
      ],
      "text/plain": [
       "                  word   tf   df  df_fraction  tf_fraction\n",
       "0            sub topic  500  100          1.0     3.311258\n",
       "1          topic model  300  100          1.0     1.986755\n",
       "2  hierarchical senmfk  300  100          1.0     1.986755\n",
       "3        text document  200  100          1.0     1.324503\n",
       "4      document matrix  200  100          1.0     1.324503"
      ]
     },
     "execution_count": 40,
     "metadata": {},
     "output_type": "execute_result"
    }
   ],
   "source": [
    "leaf_nodes[2][\"top_2grams\"].head(5)"
   ]
  },
  {
   "cell_type": "code",
   "execution_count": 41,
   "metadata": {},
   "outputs": [
    {
     "data": {
      "text/html": [
       "<div>\n",
       "<style scoped>\n",
       "    .dataframe tbody tr th:only-of-type {\n",
       "        vertical-align: middle;\n",
       "    }\n",
       "\n",
       "    .dataframe tbody tr th {\n",
       "        vertical-align: top;\n",
       "    }\n",
       "\n",
       "    .dataframe thead th {\n",
       "        text-align: right;\n",
       "    }\n",
       "</style>\n",
       "<table border=\"1\" class=\"dataframe\">\n",
       "  <thead>\n",
       "    <tr style=\"text-align: right;\">\n",
       "      <th></th>\n",
       "      <th>word</th>\n",
       "      <th>tf</th>\n",
       "      <th>df</th>\n",
       "      <th>df_fraction</th>\n",
       "      <th>tf_fraction</th>\n",
       "    </tr>\n",
       "  </thead>\n",
       "  <tbody>\n",
       "    <tr>\n",
       "      <th>0</th>\n",
       "      <td>malware family</td>\n",
       "      <td>1294</td>\n",
       "      <td>306</td>\n",
       "      <td>1.000000</td>\n",
       "      <td>3.387435</td>\n",
       "    </tr>\n",
       "    <tr>\n",
       "      <th>1</th>\n",
       "      <td>novel malware</td>\n",
       "      <td>604</td>\n",
       "      <td>306</td>\n",
       "      <td>1.000000</td>\n",
       "      <td>1.581152</td>\n",
       "    </tr>\n",
       "    <tr>\n",
       "      <th>2</th>\n",
       "      <td>semi supervise</td>\n",
       "      <td>384</td>\n",
       "      <td>188</td>\n",
       "      <td>0.614379</td>\n",
       "      <td>1.005236</td>\n",
       "    </tr>\n",
       "    <tr>\n",
       "      <th>3</th>\n",
       "      <td>malware dna</td>\n",
       "      <td>360</td>\n",
       "      <td>90</td>\n",
       "      <td>0.294118</td>\n",
       "      <td>0.942408</td>\n",
       "    </tr>\n",
       "    <tr>\n",
       "      <th>4</th>\n",
       "      <td>family classification</td>\n",
       "      <td>326</td>\n",
       "      <td>208</td>\n",
       "      <td>0.679739</td>\n",
       "      <td>0.853403</td>\n",
       "    </tr>\n",
       "  </tbody>\n",
       "</table>\n",
       "</div>"
      ],
      "text/plain": [
       "                    word    tf   df  df_fraction  tf_fraction\n",
       "0         malware family  1294  306     1.000000     3.387435\n",
       "1          novel malware   604  306     1.000000     1.581152\n",
       "2         semi supervise   384  188     0.614379     1.005236\n",
       "3            malware dna   360   90     0.294118     0.942408\n",
       "4  family classification   326  208     0.679739     0.853403"
      ]
     },
     "execution_count": 41,
     "metadata": {},
     "output_type": "execute_result"
    }
   ],
   "source": [
    "leaf_nodes[3][\"top_2grams\"].head(5)"
   ]
  },
  {
   "cell_type": "code",
   "execution_count": null,
   "metadata": {},
   "outputs": [],
   "source": []
  }
 ],
 "metadata": {
  "kernelspec": {
   "display_name": "TELF",
   "language": "python",
   "name": "python3"
  },
  "language_info": {
   "codemirror_mode": {
    "name": "ipython",
    "version": 3
   },
   "file_extension": ".py",
   "mimetype": "text/x-python",
   "name": "python",
   "nbconvert_exporter": "python",
   "pygments_lexer": "ipython3",
   "version": "3.11.5"
  }
 },
 "nbformat": 4,
 "nbformat_minor": 2
}
