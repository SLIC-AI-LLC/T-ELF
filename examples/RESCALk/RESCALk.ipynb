{
 "cells": [
  {
   "cell_type": "code",
   "execution_count": 1,
   "metadata": {},
   "outputs": [],
   "source": [
    "import os\n",
    "os.environ[\"OMP_NUM_THREADS\"] = \"1\" # export OMP_NUM_THREADS=1\n",
    "os.environ[\"OPENBLAS_NUM_THREADS\"] = \"1\" # export OPENBLAS_NUM_THREADS=1\n",
    "os.environ[\"MKL_NUM_THREADS\"] = \"1\" # export MKL_NUM_THREADS=1\n",
    "os.environ[\"VECLIB_MAXIMUM_THREADS\"] = \"1\" # export VECLIB_MAXIMUM_THREADS=1\n",
    "os.environ[\"NUMEXPR_NUM_THREADS\"] = \"1\" # export NUMEXPR_NUM_THREADS=1"
   ]
  },
  {
   "cell_type": "code",
   "execution_count": 2,
   "metadata": {},
   "outputs": [
    {
     "name": "stdout",
     "output_type": "stream",
     "text": [
      "n_perturbs: 12\n",
      "perturb_type: uniform\n",
      "n_iters: 50\n",
      "epsilon: 0.015\n",
      "init: nnsvd\n",
      "save_path: ../../results/\n",
      "save_output: True\n",
      "use_gpu: False\n",
      "verbose: True\n",
      "rescal_verbose: False\n",
      "perturb_verbose: False\n",
      "n_jobs: 12\n",
      "n_nodes: 1\n",
      "rescal: <function rescal at 0x133245300>\n",
      "rescal_method: rescal_fro_mu\n",
      "rescal_obj_params: {}\n",
      "pruned: False\n",
      "calculate_error: True\n",
      "simple_plot: True\n",
      "get_plot_data: True\n",
      "perturb_multiprocessing: False\n",
      "lock: <unlocked _thread.lock object at 0x130bfe080>\n",
      "total_exec_seconds: 0\n",
      "experiment_name: \n",
      "rescal_params: {'niter': 50, 'use_gpu': False, 'rescal_verbose': False}\n"
     ]
    },
    {
     "name": "stderr",
     "output_type": "stream",
     "text": [
      "/Users/maksim/Desktop/Code/T-ELF_public/TELF/factorization/RESCALk.py:384: UserWarning: calculate_error is True! Error calculation can make the runtime longer and take up more memory space!\n",
      "  warnings.warn(\n",
      "/Users/maksim/Desktop/Code/T-ELF_public/TELF/factorization/utilities/organize_n_jobs.py:10: UserWarning: No GPU found! Using CPUs\n",
      "  warnings.warn(\"No GPU found! Using CPUs\")\n"
     ]
    }
   ],
   "source": [
    "from TELF.factorization import RESCALk\n",
    "\n",
    "params = {\n",
    "    \"n_perturbs\": 12,\n",
    "    \"n_iters\": 50,\n",
    "    \"epsilon\": 0.015,\n",
    "    \"n_jobs\": -1,\n",
    "    \"n_nodes\":1,\n",
    "    \"init\": \"nnsvd\", \n",
    "    \"use_gpu\": True,\n",
    "    \"save_path\": \"../../results/\", \n",
    "    \"save_output\": True,\n",
    "    \"verbose\": True,\n",
    "    \"pruned\":False,\n",
    "    \"rescal_verbose\": False,\n",
    "    \"calculate_error\":True,\n",
    "    \"verbose\":True,\n",
    "    \"rescal_func\":None,\n",
    "    \"rescal_obj_params\":{},\n",
    "    \"simple_plot\":True,\n",
    "    \"rescal_method\": 'rescal_fro_mu',\n",
    "    \"get_plot_data\":True,\n",
    "    \"perturb_type\":\"uniform\",\n",
    "    \"perturb_multiprocessing\":False,\n",
    "    \"perturb_verbose\":False,\n",
    "}\n",
    "\n",
    "model = RESCALk(**params)"
   ]
  },
  {
   "cell_type": "code",
   "execution_count": 3,
   "metadata": {},
   "outputs": [
    {
     "name": "stdout",
     "output_type": "stream",
     "text": [
      "Generating Rescal dataset with shape= [500, 500, 8]  and rank= 4\n"
     ]
    }
   ],
   "source": [
    "import sys; sys.path.append(\"../../scripts/\")\n",
    "from generate_X import gen_data,gen_data_sparse\n",
    "\n",
    "Xsp = [gen_data_sparse(shape=[100, 100], density=0.01)[\"X\"] for _ in range(8)]\n",
    "X = gen_data(R=4, shape=[500, 500, 8], gen='rescal')[\"X\"]"
   ]
  },
  {
   "cell_type": "code",
   "execution_count": 4,
   "metadata": {},
   "outputs": [
    {
     "name": "stderr",
     "output_type": "stream",
     "text": [
      "100%|██████████| 6/6 [00:05<00:00,  1.17it/s]\n"
     ]
    }
   ],
   "source": [
    "Ks = range(1, 7, 1)\n",
    "name = \"RESCALk\"\n",
    "note = \"This is an example run of RESCALk\"\n",
    "results = model.fit(X, Ks, name, note)"
   ]
  },
  {
   "cell_type": "code",
   "execution_count": 5,
   "metadata": {},
   "outputs": [
    {
     "data": {
      "text/plain": [
       "dict_keys(['time', 'plot_data'])"
      ]
     },
     "execution_count": 5,
     "metadata": {},
     "output_type": "execute_result"
    }
   ],
   "source": [
    "results.keys()"
   ]
  },
  {
   "cell_type": "code",
   "execution_count": 6,
   "metadata": {},
   "outputs": [
    {
     "data": {
      "text/plain": [
       "5.117702007293701"
      ]
     },
     "execution_count": 6,
     "metadata": {},
     "output_type": "execute_result"
    }
   ],
   "source": [
    "results[\"time\"]"
   ]
  },
  {
   "cell_type": "code",
   "execution_count": null,
   "metadata": {},
   "outputs": [],
   "source": []
  }
 ],
 "metadata": {
  "kernelspec": {
   "display_name": "TELF_public",
   "language": "python",
   "name": "python3"
  },
  "language_info": {
   "codemirror_mode": {
    "name": "ipython",
    "version": 3
   },
   "file_extension": ".py",
   "mimetype": "text/x-python",
   "name": "python",
   "nbconvert_exporter": "python",
   "pygments_lexer": "ipython3",
   "version": "3.11.5"
  }
 },
 "nbformat": 4,
 "nbformat_minor": 4
}
