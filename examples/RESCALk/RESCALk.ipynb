{
 "cells": [
  {
   "cell_type": "code",
   "execution_count": 1,
   "metadata": {},
   "outputs": [],
   "source": [
    "params = {\n",
    "    \"n_perturbs\": 2,\n",
    "    \"n_iters\": 2,\n",
    "    \"epsilon\": 0.015,\n",
    "    \"n_jobs\": 1,\n",
    "    \"init\": \"nnsvd\", \n",
    "    \"use_gpu\": False,\n",
    "    \"save_path\": \"../../results/\", \n",
    "    \"save_output\": True,\n",
    "    \"collect_output\": True,\n",
    "    \"predict_k\": False,\n",
    "    \"verbose\": True,\n",
    "    \"transpose\": False,\n",
    "    \"sill_thresh\": 0.9,\n",
    "    \"pruned\":False,\n",
    "    \"rescal_verbose\": False,\n",
    "    \"verbose\":True,\n",
    "    \"rescal_method\": 'rescal_fro_mu'\n",
    "}"
   ]
  },
  {
   "cell_type": "code",
   "execution_count": 2,
   "metadata": {},
   "outputs": [
    {
     "name": "stdout",
     "output_type": "stream",
     "text": [
      "rescal_fro_mu\n"
     ]
    }
   ],
   "source": [
    "from TELF.factorization import RESCALk\n",
    "\n",
    "model = RESCALk(**params)"
   ]
  },
  {
   "cell_type": "code",
   "execution_count": 3,
   "metadata": {},
   "outputs": [
    {
     "name": "stdout",
     "output_type": "stream",
     "text": [
      "Generating Rescal dataset with shape= [1000, 1000, 8]  and rank= 4\n"
     ]
    }
   ],
   "source": [
    "import sys;\n",
    "sys.path.append(\"../../scripts/\")\n",
    "from generate_X import gen_data\n",
    "\n",
    "\n",
    "X = gen_data(R=4, shape=[1000,1000,8],gen='rescal')[\"X\"]"
   ]
  },
  {
   "cell_type": "code",
   "execution_count": null,
   "metadata": {},
   "outputs": [],
   "source": []
  },
  {
   "cell_type": "code",
   "execution_count": 7,
   "metadata": {},
   "outputs": [
    {
     "name": "stdout",
     "output_type": "stream",
     "text": [
      "\n",
      "TEST\n",
      "\n",
      "NMFk:\n"
     ]
    },
    {
     "name": "stderr",
     "output_type": "stream",
     "text": [
      " 17%|█▋        | 1/6 [00:09<00:48,  9.68s/it]"
     ]
    },
    {
     "name": "stdout",
     "output_type": "stream",
     "text": [
      "Error Mean=0.10276334, Regress Error=0.10276331, Sill Min=1.0\n"
     ]
    },
    {
     "name": "stderr",
     "output_type": "stream",
     "text": [
      " 33%|███▎      | 2/6 [00:19<00:38,  9.72s/it]"
     ]
    },
    {
     "name": "stdout",
     "output_type": "stream",
     "text": [
      "Error Mean=0.08823778, Regress Error=0.087007105, Sill Min=0.997337441613698\n"
     ]
    },
    {
     "name": "stderr",
     "output_type": "stream",
     "text": [
      " 50%|█████     | 3/6 [00:28<00:28,  9.50s/it]"
     ]
    },
    {
     "name": "stdout",
     "output_type": "stream",
     "text": [
      "Error Mean=0.079578914, Regress Error=0.07696359, Sill Min=0.9961679218962747\n"
     ]
    },
    {
     "name": "stderr",
     "output_type": "stream",
     "text": [
      " 67%|██████▋   | 4/6 [00:38<00:19,  9.59s/it]"
     ]
    },
    {
     "name": "stdout",
     "output_type": "stream",
     "text": [
      "Error Mean=0.0728233, Regress Error=0.069154754, Sill Min=0.9965572755984902\n"
     ]
    },
    {
     "name": "stderr",
     "output_type": "stream",
     "text": [
      " 83%|████████▎ | 5/6 [00:48<00:09,  9.71s/it]"
     ]
    },
    {
     "name": "stdout",
     "output_type": "stream",
     "text": [
      "Error Mean=0.07269451, Regress Error=0.068997666, Sill Min=0.714053803260351\n"
     ]
    },
    {
     "name": "stderr",
     "output_type": "stream",
     "text": [
      "100%|██████████| 6/6 [00:58<00:00,  9.73s/it]"
     ]
    },
    {
     "name": "stdout",
     "output_type": "stream",
     "text": [
      "Error Mean=0.07263391, Regress Error=0.06893368, Sill Min=0.5900245892742442\n",
      "Final plot is generating from : range(1, 7)\n"
     ]
    },
    {
     "name": "stderr",
     "output_type": "stream",
     "text": [
      "\n"
     ]
    },
    {
     "name": "stdout",
     "output_type": "stream",
     "text": [
      "===========================================\n",
      "Final Error Mean= 0.07263391\n",
      "Final Regress Error= 0.06893368\n",
      "Final Sill Min= 0.5900245892742442\n",
      "Total Execution Time= 58.3786 seconds\n",
      "===========================================\n"
     ]
    }
   ],
   "source": [
    "Ks = range(1, 7, 1)\n",
    "name = \"RESCALk\"\n",
    "note = \"This is an example run of RESCALk\"\n",
    "results = model.fit(X, Ks, name, note)"
   ]
  },
  {
   "cell_type": "code",
   "execution_count": 5,
   "metadata": {},
   "outputs": [
    {
     "data": {
      "text/plain": [
       "dict_keys(['time', 'all_factors'])"
      ]
     },
     "execution_count": 5,
     "metadata": {},
     "output_type": "execute_result"
    }
   ],
   "source": [
    "results.keys()"
   ]
  },
  {
   "cell_type": "code",
   "execution_count": null,
   "metadata": {},
   "outputs": [],
   "source": [
    "results[\"all_factors\"].keys()"
   ]
  },
  {
   "cell_type": "code",
   "execution_count": null,
   "metadata": {},
   "outputs": [],
   "source": []
  }
 ],
 "metadata": {
  "kernelspec": {
   "display_name": "TELF",
   "language": "python",
   "name": "telf"
  },
  "language_info": {
   "codemirror_mode": {
    "name": "ipython",
    "version": 3
   },
   "file_extension": ".py",
   "mimetype": "text/x-python",
   "name": "python",
   "nbconvert_exporter": "python",
   "pygments_lexer": "ipython3",
   "version": "3.8.5"
  }
 },
 "nbformat": 4,
 "nbformat_minor": 4
}
