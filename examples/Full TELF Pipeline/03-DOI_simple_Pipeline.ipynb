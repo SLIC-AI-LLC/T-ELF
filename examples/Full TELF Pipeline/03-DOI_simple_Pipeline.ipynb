{
 "cells": [
  {
   "cell_type": "code",
   "execution_count": null,
   "id": "2127fe7c",
   "metadata": {},
   "outputs": [],
   "source": [
    "import os\n",
    "nnn = 1\n",
    "os.environ[\"OMP_NUM_THREADS\"] = str(nnn) # export OMP_NUM_THREADS=1\n",
    "os.environ[\"OPENBLAS_NUM_THREADS\"] = str(nnn) # export OPENBLAS_NUM_THREADS=1\n",
    "os.environ[\"MKL_NUM_THREADS\"] = str(nnn) # export MKL_NUM_THREADS=1\n",
    "os.environ[\"VECLIB_MAXIMUM_THREADS\"] = str(nnn) # export VECLIB_MAXIMUM_THREADS=1\n",
    "os.environ[\"NUMEXPR_NUM_THREADS\"] = str(nnn)  # export NUMEXPR_NUM_THREADS=1\n",
    "\n",
    "os.environ[\"TOKENIZERS_PARALLELISM\"] = \"false\""
   ]
  },
  {
   "cell_type": "code",
   "execution_count": null,
   "id": "1cae8f81",
   "metadata": {},
   "outputs": [],
   "source": [
    "import pandas as pd\n",
    "from pathlib import Path\n",
    "import random"
   ]
  },
  {
   "cell_type": "code",
   "execution_count": null,
   "id": "080bc0aa",
   "metadata": {},
   "outputs": [],
   "source": [
    "from TELF.pipeline.blocks import DataBundle, SAVE_DIR_BUNDLE_KEY, SOURCE_DIR_BUNDLE_KEY\n",
    "from TELF.pipeline import BlockManager, RepeatLoopBlock\n",
    "\n",
    "from TELF.pipeline.blocks import (\n",
    "    DataBundle,\n",
    "    ScopusBlock,\n",
    "    S2Block,\n",
    "    VultureCleanBlock,\n",
    "    SquirrelBlock,\n",
    "    AutoBunnySimpleBlock,\n",
    "    CleanDuplicatesBlock,\n",
    "    MergeScopusS2Block,\n",
    "    LoadTermsBlock,\n",
    "    PipelineSummaryBlock,\n",
    "    OcelotFilterBlock,\n",
    "    TermTableBlock\n",
    ")\n",
    "\n",
    "from TELF.pre_processing.Squirrel.pruners import EmbeddingPruner\n"
   ]
  },
  {
   "cell_type": "code",
   "execution_count": null,
   "metadata": {},
   "outputs": [],
   "source": [
    "# REPLACE THIS WITH YOUR OWN KEYS AND CACHE -- SEE example_hidden_keys.py\n",
    "from hidden_keys import SCOPUS_KEYS, S2_KEY, SCOPUS_CACHE, S2_CACHE\n",
    "random.shuffle(SCOPUS_KEYS)"
   ]
  },
  {
   "cell_type": "markdown",
   "id": "065a0b92",
   "metadata": {},
   "source": [
    "# Load Data"
   ]
  },
  {
   "cell_type": "code",
   "execution_count": null,
   "id": "ad35c75b",
   "metadata": {},
   "outputs": [],
   "source": [
    "df = pd.read_csv(Path(\"..\") / \"..\" / \"data\" / \"sample_doi.csv\")\n",
    "bundle = DataBundle({\n",
    "    'DOI.df':df, \n",
    "    SAVE_DIR_BUNDLE_KEY: Path('example_results') / 'doi_search_results',\n",
    "    \"term_path\": Path(\"..\") / \"..\" / \"data\" / \"sample_terms3.md\",\n",
    "})"
   ]
  },
  {
   "cell_type": "markdown",
   "id": "7d417e2b",
   "metadata": {},
   "source": [
    "# Build the Blocks"
   ]
  },
  {
   "cell_type": "code",
   "execution_count": null,
   "metadata": {},
   "outputs": [],
   "source": [
    "scopus_block = ScopusBlock( needs=(\"DOI.df\",),\n",
    "                            init_settings={'keys':SCOPUS_KEYS, 'name':SCOPUS_CACHE},\n",
    "                            use_penguin=False)"
   ]
  },
  {
   "cell_type": "code",
   "execution_count": null,
   "metadata": {},
   "outputs": [],
   "source": [
    "duplicate_cleaner_block = CleanDuplicatesBlock()"
   ]
  },
  {
   "cell_type": "code",
   "execution_count": null,
   "metadata": {},
   "outputs": [],
   "source": [
    "s2_block = S2Block( needs=(\"CleanDuplicates.df\",),\n",
    "                    init_settings={'key':S2_KEY, 'name':S2_CACHE},\n",
    "                    use_penguin=False)"
   ]
  },
  {
   "cell_type": "code",
   "execution_count": null,
   "metadata": {},
   "outputs": [],
   "source": [
    "merge_frames_block = MergeScopusS2Block()"
   ]
  },
  {
   "cell_type": "code",
   "execution_count": null,
   "metadata": {},
   "outputs": [],
   "source": [
    "vulture_block = VultureCleanBlock(verbose=True, \n",
    "                                  use_substitutions=True,\n",
    "                                  init_settings={\"n_jobs\":1, 'parallel_backend': 'threading'})"
   ]
  },
  {
   "cell_type": "code",
   "execution_count": null,
   "id": "57270163",
   "metadata": {},
   "outputs": [],
   "source": [
    "terms_block = LoadTermsBlock( call_settings={SOURCE_DIR_BUNDLE_KEY: Path('..') / '..' / 'data' / 'sample_terms3.md'})"
   ]
  },
  {
   "cell_type": "code",
   "execution_count": null,
   "id": "ab4b8127",
   "metadata": {},
   "outputs": [],
   "source": [
    "auto_bunny_block = AutoBunnySimpleBlock(\n",
    "    num_hops = 1,\n",
    "    use_vulture_steps=False,\n",
    "    use_substitutions=False,\n",
    "    init_settings = {\n",
    "        's2_key': S2_KEY,\n",
    "        'scopus_keys': SCOPUS_KEYS,\n",
    "        'cache_dir': Path(SCOPUS_CACHE).parent,\n",
    "    },\n",
    "    verbose=True\n",
    ")"
   ]
  },
  {
   "cell_type": "code",
   "execution_count": null,
   "id": "56e93389",
   "metadata": {},
   "outputs": [],
   "source": [
    "ocelot_block = OcelotFilterBlock(\n",
    "    load_checkpoint=False,\n",
    "    init_settings={\n",
    "        \"verbose\": True,\n",
    "        \"use_hops\": True,            # if your df has a 'type' hop column\n",
    "    },\n",
    "    call_settings={\n",
    "        \"positives_mode\": \"any\",     # per-main positives requirement\n",
    "        \"global_positives_mode\": \"any\",\n",
    "        \"emit_nonmatches\": True,    # set True to log/show fails in the explain table\n",
    "    },\n",
    "    id_field=\"eid\",                   # identifier column\n",
    "    text_field=\"text\",                # text column to be built \n",
    "    text_columns={\"title\": \"title\", \"abstract\": \"abstract\", \"fallback_text\": \"clean_title_abstract\"},\n",
    ")"
   ]
  },
  {
   "cell_type": "code",
   "execution_count": null,
   "id": "0eca0b04",
   "metadata": {},
   "outputs": [],
   "source": [
    "summary_block = PipelineSummaryBlock()"
   ]
  },
  {
   "cell_type": "code",
   "execution_count": null,
   "id": "02555dfa",
   "metadata": {},
   "outputs": [],
   "source": [
    "emb_pruner = EmbeddingPruner(\n",
    "    embedding_model=\"SPECTER\",\n",
    "    distance_std_factor=5.0,\n",
    "    overwrite_embeddings=False,\n",
    "    use_gpu=True,\n",
    "    verbose=True,\n",
    ")\n",
    "squirrel_block = SquirrelBlock(  \n",
    "    low_count_backup = None,\n",
    "    init_settings = {\n",
    "        'data_column':  'text',\n",
    "        'label_column': 'type',\n",
    "        'reference_label': 0,\n",
    "        'aggregrate_prune': True,\n",
    "        'pipeline':[emb_pruner]\n",
    "    }\n",
    ")"
   ]
  },
  {
   "cell_type": "code",
   "execution_count": null,
   "metadata": {},
   "outputs": [],
   "source": [
    "auto_bunny_unrolled_block = RepeatLoopBlock(\n",
    "    subblocks=[\n",
    "        auto_bunny_block,\n",
    "        vulture_block,\n",
    "        ocelot_block,\n",
    "        #squirrel_block,\n",
    "        summary_block,\n",
    "        TermTableBlock(use_checkpoint=False)\n",
    "\n",
    "    ], \n",
    "    n_iter=2,   # 5\n",
    "    clone=False,              # carry stsate forward between iterations\n",
    "    # redirect_save_dir=True,   # writes into ./TrainLoop/iter_00/, iter_01/, …\n",
    "    tag=\"bunny_unrolled\",\n",
    "    capture_output=None #'file',\n",
    ")"
   ]
  },
  {
   "cell_type": "markdown",
   "id": "94129c86",
   "metadata": {},
   "source": [
    "# Block Manager"
   ]
  },
  {
   "cell_type": "code",
   "execution_count": null,
   "id": "94129c86",
   "metadata": {},
   "outputs": [],
   "source": [
    "manager = BlockManager(\n",
    "    blocks = [\n",
    "        scopus_block,\n",
    "        duplicate_cleaner_block,\n",
    "        s2_block,\n",
    "        merge_frames_block, \n",
    "        terms_block,\n",
    "        vulture_block,\n",
    "        auto_bunny_unrolled_block,\n",
    "        TermTableBlock(use_checkpoint=False)\n",
    "    ],\n",
    "    databundle=bundle,  \n",
    "    progress   = True,          # see which block is executing\n",
    "    # \"memory\" or \"file\" or None\n",
    "    # if \"file\",  timestamped logs under results/logs/\n",
    "    # if \"memory\", manager.block_logs.keys()\n",
    "    capture_output=None #'file',\n",
    ")"
   ]
  },
  {
   "cell_type": "code",
   "execution_count": null,
   "id": "d3ded72e",
   "metadata": {},
   "outputs": [],
   "source": [
    "bundle = manager()"
   ]
  },
  {
   "cell_type": "code",
   "execution_count": null,
   "id": "1ba02ebb",
   "metadata": {},
   "outputs": [],
   "source": [
    "bundle.keys()"
   ]
  },
  {
   "cell_type": "code",
   "execution_count": null,
   "id": "7fab9254",
   "metadata": {},
   "outputs": [],
   "source": [
    "bundle.df"
   ]
  },
  {
   "cell_type": "code",
   "execution_count": null,
   "id": "e87f5c6e",
   "metadata": {},
   "outputs": [],
   "source": []
  }
 ],
 "metadata": {
  "kernelspec": {
   "display_name": "telf_pipeline_8_25",
   "language": "python",
   "name": "python3"
  },
  "language_info": {
   "codemirror_mode": {
    "name": "ipython",
    "version": 3
   },
   "file_extension": ".py",
   "mimetype": "text/x-python",
   "name": "python",
   "nbconvert_exporter": "python",
   "pygments_lexer": "ipython3",
   "version": "3.11.10"
  }
 },
 "nbformat": 4,
 "nbformat_minor": 5
}
