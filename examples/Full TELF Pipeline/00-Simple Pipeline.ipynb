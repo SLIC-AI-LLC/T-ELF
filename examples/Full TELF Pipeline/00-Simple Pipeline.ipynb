{
 "cells": [
  {
   "cell_type": "code",
   "execution_count": 1,
   "id": "2127fe7c",
   "metadata": {},
   "outputs": [],
   "source": [
    "import os\n",
    "nnn = 1\n",
    "os.environ[\"OMP_NUM_THREADS\"] = str(nnn) # export OMP_NUM_THREADS=1\n",
    "os.environ[\"OPENBLAS_NUM_THREADS\"] = str(nnn) # export OPENBLAS_NUM_THREADS=1\n",
    "os.environ[\"MKL_NUM_THREADS\"] = str(nnn) # export MKL_NUM_THREADS=1\n",
    "os.environ[\"VECLIB_MAXIMUM_THREADS\"] = str(nnn) # export VECLIB_MAXIMUM_THREADS=1\n",
    "os.environ[\"NUMEXPR_NUM_THREADS\"] = str(nnn)  # export NUMEXPR_NUM_THREADS=1"
   ]
  },
  {
   "cell_type": "code",
   "execution_count": 2,
   "id": "1cae8f81",
   "metadata": {},
   "outputs": [],
   "source": [
    "import pandas as pd\n",
    "from scipy import sparse"
   ]
  },
  {
   "cell_type": "code",
   "execution_count": 3,
   "metadata": {},
   "outputs": [],
   "source": [
    "from TELF.pipeline import BlockManager\n",
    "from TELF.pipeline.blocks import (\n",
    "    DataBundle,\n",
    "    SAVE_DIR_BUNDLE_KEY,\n",
    "    VultureCleanBlock,\n",
    "    BeaverVocabBlock,\n",
    "    BeaverDocWordBlock,\n",
    "    NMFkBlock,\n",
    "    HNMFkBlock,\n",
    "    SemanticHNMFkBlock,\n",
    "    FunctionBlock,\n",
    ")"
   ]
  },
  {
   "cell_type": "markdown",
   "id": "065a0b92",
   "metadata": {},
   "source": [
    "# Load Data"
   ]
  },
  {
   "cell_type": "code",
   "execution_count": 4,
   "id": "ad35c75b",
   "metadata": {},
   "outputs": [],
   "source": [
    "df = pd.read_csv(os.path.join(\"..\", \"..\", \"data\", \"sample2.csv\")).head(50)\n",
    "bundle = DataBundle({'Default.df':df, SAVE_DIR_BUNDLE_KEY:os.path.join(\"example_results\", 'simple_pipeline')})"
   ]
  },
  {
   "cell_type": "markdown",
   "id": "7d417e2b",
   "metadata": {},
   "source": [
    "# Build the Blocks"
   ]
  },
  {
   "cell_type": "code",
   "execution_count": 5,
   "id": "e361f6d8",
   "metadata": {},
   "outputs": [
    {
     "name": "stdout",
     "output_type": "stream",
     "text": [
      "[VultureClean] needs → (df)   provides → (df, vulture_steps)\n"
     ]
    }
   ],
   "source": [
    "vulture_block = VultureCleanBlock(verbose=True, init_settings={\"n_jobs\":1})"
   ]
  },
  {
   "cell_type": "code",
   "execution_count": 6,
   "metadata": {},
   "outputs": [
    {
     "name": "stdout",
     "output_type": "stream",
     "text": [
      "[BeaverVocab] needs → (VultureClean.df)   provides → (vocabulary)\n"
     ]
    }
   ],
   "source": [
    "vocab_block = BeaverVocabBlock(tag=\"BeaverVocab\", needs=(\"VultureClean.df\",))"
   ]
  },
  {
   "cell_type": "code",
   "execution_count": 7,
   "metadata": {},
   "outputs": [
    {
     "name": "stdout",
     "output_type": "stream",
     "text": [
      "[DocWord] needs → (VultureClean.df, BeaverVocab.vocabulary)   provides → (X)\n"
     ]
    }
   ],
   "source": [
    "matrix_block = BeaverDocWordBlock(tag=\"DocWord\", needs=(\"VultureClean.df\", \"BeaverVocab.vocabulary\",))"
   ]
  },
  {
   "cell_type": "code",
   "execution_count": 8,
   "metadata": {},
   "outputs": [
    {
     "name": "stdout",
     "output_type": "stream",
     "text": [
      "[MASKCreate] needs → (DocWord.X)   provides → (MASK, X)\n"
     ]
    }
   ],
   "source": [
    "def build_mask_from_X(X, thresh: float = 0.0):\n",
    "    \"\"\"Return a dense boolean np.ndarray mask where X > thresh.\"\"\"\n",
    "    if sparse.issparse(X):\n",
    "        X = X.toarray()\n",
    "    return (X > thresh), X\n",
    "\n",
    "mask_block = FunctionBlock(\n",
    "    needs     = (\"DocWord.X\",),      # namespaced input\n",
    "    provides  = (\"MASK\", \"X\"),           # generic output (also latest alias)\n",
    "    tag = \"MASKCreate\",\n",
    "    function_call = build_mask_from_X,\n",
    "    call_settings = {\"thresh\": 0.0}, # optional kwargs to your function\n",
    ")"
   ]
  },
  {
   "cell_type": "code",
   "execution_count": 9,
   "metadata": {},
   "outputs": [
    {
     "name": "stdout",
     "output_type": "stream",
     "text": [
      "[NMFk] needs → (MASKCreate.X, MASK)   provides → (results, model_path)\n"
     ]
    }
   ],
   "source": [
    "factor_block = NMFkBlock(verbose=True, needs=(\"MASKCreate.X\", ), init_settings={\"nmf_method\":\"wnmf\", \"n_iters\":5})"
   ]
  },
  {
   "cell_type": "code",
   "execution_count": 10,
   "metadata": {},
   "outputs": [
    {
     "name": "stdout",
     "output_type": "stream",
     "text": [
      "[HNMFk] needs → (DocWord.X)   provides → (model, saved_path)\n"
     ]
    }
   ],
   "source": [
    "hfactor_block = HNMFkBlock(needs=(\"DocWord.X\",))"
   ]
  },
  {
   "cell_type": "code",
   "execution_count": 11,
   "metadata": {},
   "outputs": [
    {
     "name": "stdout",
     "output_type": "stream",
     "text": [
      "[SemanticHNMFk] needs → (DocWord.X, VultureClean.df, vocabulary)   provides → (model, model_path)\n"
     ]
    }
   ],
   "source": [
    "semantic_hfactor_block = SemanticHNMFkBlock(\n",
    "    needs=(\"DocWord.X\", \"VultureClean.df\", \"vocabulary\", ),\n",
    "    init_settings={\"depth\":1, \"sample_thresh\":20}\n",
    ")"
   ]
  },
  {
   "cell_type": "markdown",
   "metadata": {},
   "source": [
    "# Block Manager"
   ]
  },
  {
   "cell_type": "code",
   "execution_count": 12,
   "id": "94129c86",
   "metadata": {},
   "outputs": [
    {
     "data": {
      "text/html": [
       "<b style='color:green'>VultureClean</b> – all needs met<br><b style='color:green'>BeaverVocab</b> – all needs met<br><b style='color:green'>DocWord</b> – all needs met<br><b style='color:green'>MASKCreate</b> – all needs met<br><b style='color:green'>NMFk</b> – all needs met<br><b style='color:green'>HNMFk</b> – all needs met<br><b style='color:green'>SemanticHNMFk</b> – all needs met"
      ],
      "text/plain": [
       "<IPython.core.display.HTML object>"
      ]
     },
     "metadata": {},
     "output_type": "display_data"
    },
    {
     "name": "stdout",
     "output_type": "stream",
     "text": [
      "Block (tag)                        │ Needs (✓/✗)                             │ Provides\n",
      "───────────────────────────────────────────────────────────────────────────────────────\n",
      "VultureCleanBlock (VultureClean)   │ df                                      │ ['df', 'vulture_steps']\n",
      "BeaverVocabBlock (BeaverVocab)     │ VultureClean.df                         │ ['vocabulary']\n",
      "BeaverDocWordBlock (DocWord)       │ VultureClean.df, BeaverVocab.vocabulary │ ['X']\n",
      "FunctionBlock (MASKCreate)         │ DocWord.X                               │ ['MASK', 'X']\n",
      "NMFkBlock (NMFk)                   │ MASKCreate.X, MASK                      │ ['results', 'model_path']\n",
      "HNMFkBlock (HNMFk)                 │ DocWord.X                               │ ['model', 'saved_path']\n",
      "SemanticHNMFkBlock (SemanticHNMFk) │ DocWord.X, VultureClean.df, vocabulary  │ ['model', 'model_path']\n",
      "\n"
     ]
    }
   ],
   "source": [
    "manager = BlockManager(\n",
    "    blocks=[\n",
    "        vulture_block, \n",
    "        vocab_block, \n",
    "        matrix_block, \n",
    "        mask_block, \n",
    "        factor_block,\n",
    "        hfactor_block,\n",
    "        semantic_hfactor_block,\n",
    "    ],\n",
    "    databundle=bundle, # optional: will dump final bundle to results/final_bundle.json\n",
    "    verbose    = True,          # see the green/red dependency table\n",
    "    progress   = True,          # see which block is executing\n",
    "    # \"memory\" or \"file\" or None\n",
    "    # if \"file\",  timestamped logs under results/logs/\n",
    "    # if \"memory\", manager.block_logs.keys()\n",
    "    capture_output=\"file\",\n",
    ")"
   ]
  },
  {
   "cell_type": "code",
   "execution_count": 13,
   "id": "d3ded72e",
   "metadata": {},
   "outputs": [
    {
     "name": "stdout",
     "output_type": "stream",
     "text": [
      "▶  [1/7] VultureClean …\n",
      "✓  [1/7] VultureClean finished in 1.77s\n",
      "▶  [2/7] BeaverVocab …\n",
      "✓  [2/7] BeaverVocab finished in 0.01s\n",
      "▶  [3/7] DocWord …\n",
      "✓  [3/7] DocWord finished in 0.01s\n",
      "▶  [4/7] MASKCreate …\n",
      "✓  [4/7] MASKCreate finished in 0.00s\n",
      "▶  [5/7] NMFk …\n",
      "✓  [5/7] NMFk finished in 5.02s\n",
      "▶  [6/7] HNMFk …\n",
      "✓  [6/7] HNMFk finished in 27.07s\n",
      "▶  [7/7] SemanticHNMFk …\n",
      "✓  [7/7] SemanticHNMFk finished in 2.67s\n"
     ]
    }
   ],
   "source": [
    "bundle = manager()"
   ]
  },
  {
   "cell_type": "code",
   "execution_count": 14,
   "metadata": {},
   "outputs": [
    {
     "data": {
      "text/plain": [
       "DataBundle(latest={'df': 'VultureClean', 'save_path': 'Init', 'result_path': 'DataBundle', 'vulture_steps': 'VultureClean', 'vocabulary': 'BeaverVocab', 'X': 'MASKCreate', 'MASK': 'MASKCreate', 'results': 'NMFk', 'model_path': 'SemanticHNMFk', 'model': 'SemanticHNMFk', 'saved_path': 'HNMFk'})"
      ]
     },
     "execution_count": 14,
     "metadata": {},
     "output_type": "execute_result"
    }
   ],
   "source": [
    "bundle"
   ]
  },
  {
   "cell_type": "code",
   "execution_count": 15,
   "metadata": {},
   "outputs": [
    {
     "name": "stdout",
     "output_type": "stream",
     "text": [
      "<class 'pandas.core.frame.DataFrame'>\n",
      "RangeIndex: 50 entries, 0 to 49\n",
      "Data columns (total 20 columns):\n",
      " #   Column                Non-Null Count  Dtype  \n",
      "---  ------                --------------  -----  \n",
      " 0   eid                   50 non-null     object \n",
      " 1   s2id                  50 non-null     object \n",
      " 2   doi                   50 non-null     object \n",
      " 3   title                 50 non-null     object \n",
      " 4   abstract              50 non-null     object \n",
      " 5   year                  50 non-null     int64  \n",
      " 6   authors               50 non-null     object \n",
      " 7   author_ids            50 non-null     object \n",
      " 8   affiliations          50 non-null     object \n",
      " 9   funding               5 non-null      object \n",
      " 10  PACs                  8 non-null      object \n",
      " 11  publication_name      50 non-null     object \n",
      " 12  subject_areas         50 non-null     object \n",
      " 13  s2_authors            50 non-null     object \n",
      " 14  s2_author_ids         50 non-null     object \n",
      " 15  citations             45 non-null     object \n",
      " 16  references            38 non-null     object \n",
      " 17  num_citations         50 non-null     int64  \n",
      " 18  num_references        50 non-null     float64\n",
      " 19  clean_title_abstract  42 non-null     object \n",
      "dtypes: float64(1), int64(2), object(17)\n",
      "memory usage: 7.9+ KB\n"
     ]
    }
   ],
   "source": [
    "bundle[\"df\"].info()"
   ]
  },
  {
   "cell_type": "code",
   "execution_count": 16,
   "metadata": {},
   "outputs": [
    {
     "data": {
      "text/plain": [
       "array(['ability', 'abstain', 'accuracy', 'accurate', 'activation'],\n",
       "      dtype=object)"
      ]
     },
     "execution_count": 16,
     "metadata": {},
     "output_type": "execute_result"
    }
   ],
   "source": [
    "bundle[\"vocabulary\"][:5]"
   ]
  },
  {
   "cell_type": "code",
   "execution_count": 17,
   "metadata": {},
   "outputs": [
    {
     "name": "stdout",
     "output_type": "stream",
     "text": [
      "<class 'pandas.core.frame.DataFrame'>\n",
      "RangeIndex: 50 entries, 0 to 49\n",
      "Data columns (total 20 columns):\n",
      " #   Column                Non-Null Count  Dtype  \n",
      "---  ------                --------------  -----  \n",
      " 0   eid                   50 non-null     object \n",
      " 1   s2id                  50 non-null     object \n",
      " 2   doi                   50 non-null     object \n",
      " 3   title                 50 non-null     object \n",
      " 4   abstract              50 non-null     object \n",
      " 5   year                  50 non-null     int64  \n",
      " 6   authors               50 non-null     object \n",
      " 7   author_ids            50 non-null     object \n",
      " 8   affiliations          50 non-null     object \n",
      " 9   funding               5 non-null      object \n",
      " 10  PACs                  8 non-null      object \n",
      " 11  publication_name      50 non-null     object \n",
      " 12  subject_areas         50 non-null     object \n",
      " 13  s2_authors            50 non-null     object \n",
      " 14  s2_author_ids         50 non-null     object \n",
      " 15  citations             45 non-null     object \n",
      " 16  references            38 non-null     object \n",
      " 17  num_citations         50 non-null     int64  \n",
      " 18  num_references        50 non-null     float64\n",
      " 19  clean_title_abstract  42 non-null     object \n",
      "dtypes: float64(1), int64(2), object(17)\n",
      "memory usage: 7.9+ KB\n"
     ]
    }
   ],
   "source": [
    "bundle[\"VultureClean.df\"].info()"
   ]
  },
  {
   "cell_type": "code",
   "execution_count": 18,
   "metadata": {},
   "outputs": [
    {
     "name": "stdout",
     "output_type": "stream",
     "text": [
      "<class 'pandas.core.frame.DataFrame'>\n",
      "RangeIndex: 50 entries, 0 to 49\n",
      "Data columns (total 19 columns):\n",
      " #   Column            Non-Null Count  Dtype  \n",
      "---  ------            --------------  -----  \n",
      " 0   eid               50 non-null     object \n",
      " 1   s2id              50 non-null     object \n",
      " 2   doi               50 non-null     object \n",
      " 3   title             50 non-null     object \n",
      " 4   abstract          50 non-null     object \n",
      " 5   year              50 non-null     int64  \n",
      " 6   authors           50 non-null     object \n",
      " 7   author_ids        50 non-null     object \n",
      " 8   affiliations      50 non-null     object \n",
      " 9   funding           5 non-null      object \n",
      " 10  PACs              8 non-null      object \n",
      " 11  publication_name  50 non-null     object \n",
      " 12  subject_areas     50 non-null     object \n",
      " 13  s2_authors        50 non-null     object \n",
      " 14  s2_author_ids     50 non-null     object \n",
      " 15  citations         45 non-null     object \n",
      " 16  references        38 non-null     object \n",
      " 17  num_citations     50 non-null     int64  \n",
      " 18  num_references    50 non-null     float64\n",
      "dtypes: float64(1), int64(2), object(16)\n",
      "memory usage: 7.6+ KB\n"
     ]
    }
   ],
   "source": [
    "bundle[\"Default.df\"].info()"
   ]
  },
  {
   "cell_type": "code",
   "execution_count": 19,
   "metadata": {},
   "outputs": [
    {
     "data": {
      "text/plain": [
       "<Compressed Sparse Row sparse matrix of dtype 'float32'\n",
       "\twith 2499 stored elements and shape (163, 42)>"
      ]
     },
     "execution_count": 19,
     "metadata": {},
     "output_type": "execute_result"
    }
   ],
   "source": [
    "bundle[\"DocWord.X\"]"
   ]
  },
  {
   "cell_type": "code",
   "execution_count": 20,
   "metadata": {},
   "outputs": [
    {
     "data": {
      "text/plain": [
       "array([[0.05821804, 0.06360444, 0.07554273, ..., 0.        , 0.        ,\n",
       "        0.04648162],\n",
       "       [0.        , 0.        , 0.        , ..., 0.        , 0.        ,\n",
       "        0.07143849],\n",
       "       [0.0785472 , 0.08581449, 0.        , ..., 0.        , 0.04863066,\n",
       "        0.        ],\n",
       "       ...,\n",
       "       [0.        , 0.        , 0.        , ..., 0.0984279 , 0.        ,\n",
       "        0.        ],\n",
       "       [0.        , 0.        , 0.        , ..., 0.        , 0.11483238,\n",
       "        0.        ],\n",
       "       [0.        , 0.        , 0.        , ..., 0.        , 0.        ,\n",
       "        0.07143849]], dtype=float32)"
      ]
     },
     "execution_count": 20,
     "metadata": {},
     "output_type": "execute_result"
    }
   ],
   "source": [
    "bundle[\"MASKCreate.X\"]"
   ]
  },
  {
   "cell_type": "code",
   "execution_count": 21,
   "metadata": {},
   "outputs": [
    {
     "data": {
      "text/plain": [
       "array([[0.05821804, 0.06360444, 0.07554273, ..., 0.        , 0.        ,\n",
       "        0.04648162],\n",
       "       [0.        , 0.        , 0.        , ..., 0.        , 0.        ,\n",
       "        0.07143849],\n",
       "       [0.0785472 , 0.08581449, 0.        , ..., 0.        , 0.04863066,\n",
       "        0.        ],\n",
       "       ...,\n",
       "       [0.        , 0.        , 0.        , ..., 0.0984279 , 0.        ,\n",
       "        0.        ],\n",
       "       [0.        , 0.        , 0.        , ..., 0.        , 0.11483238,\n",
       "        0.        ],\n",
       "       [0.        , 0.        , 0.        , ..., 0.        , 0.        ,\n",
       "        0.07143849]], dtype=float32)"
      ]
     },
     "execution_count": 21,
     "metadata": {},
     "output_type": "execute_result"
    }
   ],
   "source": [
    "bundle[\"X\"]"
   ]
  }
 ],
 "metadata": {
  "kernelspec": {
   "display_name": "dev_artic_fox",
   "language": "python",
   "name": "python3"
  },
  "language_info": {
   "codemirror_mode": {
    "name": "ipython",
    "version": 3
   },
   "file_extension": ".py",
   "mimetype": "text/x-python",
   "name": "python",
   "nbconvert_exporter": "python",
   "pygments_lexer": "ipython3",
   "version": "3.11.10"
  }
 },
 "nbformat": 4,
 "nbformat_minor": 5
}
