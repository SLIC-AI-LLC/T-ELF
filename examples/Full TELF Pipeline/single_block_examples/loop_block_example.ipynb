{
 "cells": [
  {
   "cell_type": "code",
   "execution_count": 1,
   "id": "181982c5",
   "metadata": {},
   "outputs": [],
   "source": [
    "from pathlib import Path\n",
    "from typing import Any, Dict\n",
    "import random\n",
    "from TELF.pipeline.blocks.base_block import AnimalBlock\n",
    "from TELF.pipeline.blocks.data_bundle import DataBundle, SAVE_DIR_BUNDLE_KEY, RESULTS_DEFAULT\n",
    "from TELF.pipeline import RepeatLoopBlock, BlockManager"
   ]
  },
  {
   "cell_type": "markdown",
   "id": "f64035bd",
   "metadata": {},
   "source": [
    "# Define three dummy blocks\n"
   ]
  },
  {
   "cell_type": "code",
   "execution_count": 2,
   "id": "02339a77",
   "metadata": {},
   "outputs": [],
   "source": [
    "class LoadDataBlock(AnimalBlock):\n",
    "    \"\"\"\n",
    "    Pretend to load an initial list of numbers under 'data'.\n",
    "    \"\"\"\n",
    "    def __init__(self, **kw: Any):\n",
    "        super().__init__(needs=(), provides=(\"data\",), **kw)\n",
    "\n",
    "    def run(self, bundle: DataBundle) -> DataBundle:\n",
    "        initial = [random.randint(0, 100) for _ in range(3)]\n",
    "        bundle[f\"{self.tag}.{self.provides[0]}\"] = initial\n",
    "        print(f\"[LoadDataBlock] loaded data = {initial}\")\n",
    "        return bundle\n",
    "\n",
    "class TrainModelBlock(AnimalBlock):\n",
    "    \"\"\"\n",
    "    Compute a “model” as the mean of bundle['data'].\n",
    "    Also appends two random numbers to data for the next step.\n",
    "    Provides 'model' and updated 'data'.\n",
    "    \"\"\"\n",
    "    def __init__(self, **kw: Any):\n",
    "        super().__init__(needs=(\"data\",), provides=(\"model\",\"data\"), **kw)\n",
    "\n",
    "    def run(self, bundle: DataBundle) -> DataBundle:\n",
    "        data = bundle[\"data\"]\n",
    "        new_data = data + [random.randint(0, 100) for _ in range(2)]\n",
    "        model = sum(new_data) / len(new_data)\n",
    "        bundle[f\"{self.tag}.{self.provides[0]}\"] = model\n",
    "        # append two new random values\n",
    "        bundle[f\"{self.tag}.{self.provides[1]}\"] = new_data\n",
    "        print(f\"[TrainModelBlock] trained model = {model:.2f}, data → {new_data}\")\n",
    "        return bundle\n",
    "\n",
    "class RemoveFirstDataBlock(AnimalBlock):\n",
    "    \"\"\"\n",
    "    Remove the first element from bundle['data'].\n",
    "    Needs 'data'; provides new 'data'.\n",
    "    \"\"\"\n",
    "    def __init__(self, **kw: Any):\n",
    "        super().__init__(needs=(\"data\",), provides=(\"data\",), **kw)\n",
    "\n",
    "    def run(self, bundle: DataBundle) -> DataBundle:\n",
    "        data = bundle[\"data\"]\n",
    "        if not data:\n",
    "            new_data = []\n",
    "        else:\n",
    "            new_data = data[1:]\n",
    "        bundle[f\"{self.tag}.{self.provides[0]}\"] = new_data\n",
    "        print(f\"[RemoveFirstDataBlock] dropped first → data now = {new_data}\")\n",
    "        return bundle\n"
   ]
  },
  {
   "cell_type": "markdown",
   "id": "85626372",
   "metadata": {},
   "source": [
    "# EXAMPLE 1 - Sequential\n",
    "## 1. Create a RepeatLoopBlock that repeats TrainModelBlock + RemoveFirstDataBlock"
   ]
  },
  {
   "cell_type": "code",
   "execution_count": 3,
   "id": "69bdc237",
   "metadata": {},
   "outputs": [
    {
     "name": "stdout",
     "output_type": "stream",
     "text": [
      "[TrainModelBlock] needs → (data)   provides → (model, data)\n",
      "[RemoveFirstDataBlock] needs → (data)   provides → (data)\n",
      "[TrainLoop] needs → (data)   provides → (results)\n"
     ]
    }
   ],
   "source": [
    "repeat_sequential_training = RepeatLoopBlock(\n",
    "    subblocks=[TrainModelBlock(), RemoveFirstDataBlock()],\n",
    "    n_iter=3,\n",
    "    clone=False,              # carry state forward between iterations\n",
    "    redirect_save_dir=True,   # writes into ./TrainLoop/iter_00/, iter_01/, …\n",
    "    tag=\"TrainLoop\",\n",
    ")"
   ]
  },
  {
   "cell_type": "markdown",
   "id": "19e6dd7d",
   "metadata": {},
   "source": [
    "## 2. Build and run the top-level pipeline"
   ]
  },
  {
   "cell_type": "code",
   "execution_count": 4,
   "id": "2fb31466",
   "metadata": {},
   "outputs": [
    {
     "name": "stdout",
     "output_type": "stream",
     "text": [
      "[LoadDataBlock] needs → (∅)   provides → (data)\n"
     ]
    },
    {
     "data": {
      "text/html": [
       "<b style='color:green'>LoadDataBlock</b> – all needs met<br><b style='color:green'>TrainLoop</b> – all needs met"
      ],
      "text/plain": [
       "<IPython.core.display.HTML object>"
      ]
     },
     "metadata": {},
     "output_type": "display_data"
    },
    {
     "name": "stdout",
     "output_type": "stream",
     "text": [
      "Block (tag)                   │ Needs (✓/✗) │ Provides\n",
      "──────────────────────────────────────────────────────\n",
      "LoadDataBlock (LoadDataBlock) │             │ ['data']\n",
      "RepeatLoopBlock (TrainLoop)   │ data        │ ['results']\n",
      "\n",
      "▶  [1/2] LoadDataBlock …\n",
      "[LoadDataBlock] loaded data = [90, 73, 50]\n",
      "✓  [1/2] LoadDataBlock finished in 0.00s\n",
      "▶  [2/2] TrainLoop …\n",
      "\n",
      "▶  [1/3] starting iter=0\n"
     ]
    },
    {
     "data": {
      "text/html": [
       "<b style='color:green'>TrainModelBlock</b> – all needs met<br><b style='color:green'>RemoveFirstDataBlock</b> – all needs met"
      ],
      "text/plain": [
       "<IPython.core.display.HTML object>"
      ]
     },
     "metadata": {},
     "output_type": "display_data"
    },
    {
     "name": "stdout",
     "output_type": "stream",
     "text": [
      "Block (tag)                                 │ Needs (✓/✗) │ Provides\n",
      "────────────────────────────────────────────────────────────────────\n",
      "TrainModelBlock (TrainModelBlock)           │ data        │ ['model', 'data']\n",
      "RemoveFirstDataBlock (RemoveFirstDataBlock) │ data        │ ['data']\n",
      "\n",
      "▶  [1/2] TrainModelBlock …\n",
      "✓  [1/2] TrainModelBlock finished in 0.00s\n",
      "▶  [2/2] RemoveFirstDataBlock …\n",
      "✓  [2/2] RemoveFirstDataBlock finished in 0.00s\n",
      "✓  [1/3] finished iter=0\n",
      "\n",
      "▶  [2/3] starting iter=1\n"
     ]
    },
    {
     "data": {
      "text/html": [
       "<b style='color:green'>TrainModelBlock</b> – all needs met<br><b style='color:green'>RemoveFirstDataBlock</b> – all needs met"
      ],
      "text/plain": [
       "<IPython.core.display.HTML object>"
      ]
     },
     "metadata": {},
     "output_type": "display_data"
    },
    {
     "name": "stdout",
     "output_type": "stream",
     "text": [
      "Block (tag)                                 │ Needs (✓/✗) │ Provides\n",
      "────────────────────────────────────────────────────────────────────\n",
      "TrainModelBlock (TrainModelBlock)           │ data        │ ['model', 'data']\n",
      "RemoveFirstDataBlock (RemoveFirstDataBlock) │ data        │ ['data']\n",
      "\n",
      "▶  [1/2] TrainModelBlock …\n",
      "✓  [1/2] TrainModelBlock finished in 0.00s\n",
      "▶  [2/2] RemoveFirstDataBlock …\n",
      "✓  [2/2] RemoveFirstDataBlock finished in 0.00s\n",
      "✓  [2/3] finished iter=1\n",
      "\n",
      "▶  [3/3] starting iter=2\n"
     ]
    },
    {
     "data": {
      "text/html": [
       "<b style='color:green'>TrainModelBlock</b> – all needs met<br><b style='color:green'>RemoveFirstDataBlock</b> – all needs met"
      ],
      "text/plain": [
       "<IPython.core.display.HTML object>"
      ]
     },
     "metadata": {},
     "output_type": "display_data"
    },
    {
     "name": "stdout",
     "output_type": "stream",
     "text": [
      "Block (tag)                                 │ Needs (✓/✗) │ Provides\n",
      "────────────────────────────────────────────────────────────────────\n",
      "TrainModelBlock (TrainModelBlock)           │ data        │ ['model', 'data']\n",
      "RemoveFirstDataBlock (RemoveFirstDataBlock) │ data        │ ['data']\n",
      "\n",
      "▶  [1/2] TrainModelBlock …\n",
      "✓  [1/2] TrainModelBlock finished in 0.00s\n",
      "▶  [2/2] RemoveFirstDataBlock …\n",
      "✓  [2/2] RemoveFirstDataBlock finished in 0.00s\n",
      "✓  [3/3] finished iter=2\n",
      "✓  [2/2] TrainLoop finished in 0.01s\n"
     ]
    }
   ],
   "source": [
    "pipeline = BlockManager(\n",
    "    blocks=[\n",
    "        LoadDataBlock(),\n",
    "        repeat_sequential_training,\n",
    "    ],\n",
    "    databundle=DataBundle({\n",
    "       SAVE_DIR_BUNDLE_KEY: Path('example_results') / 'sequential_loop',\n",
    "    }),\n",
    "    verbose=True,\n",
    "    capture_output=None,     # print directly to console\n",
    ")\n",
    "final_bundle = pipeline()"
   ]
  },
  {
   "cell_type": "markdown",
   "id": "92a0902d",
   "metadata": {},
   "source": [
    "## 3. Inspect the repeat results"
   ]
  },
  {
   "cell_type": "code",
   "execution_count": 5,
   "id": "f1817dd9",
   "metadata": {},
   "outputs": [
    {
     "name": "stdout",
     "output_type": "stream",
     "text": [
      "\n",
      "=== RepeatLoop Results ===\n",
      "Iteration 00 → model = 66.80, data = [73, 50, 25, 96]\n",
      "Iteration 01 → model = 56.50, data = [50, 25, 96, 82, 13]\n",
      "Iteration 02 → model = 62.43, data = [25, 96, 82, 13, 74, 97]\n"
     ]
    }
   ],
   "source": [
    "results = final_bundle[f\"{repeat_sequential_training.tag}.{RESULTS_DEFAULT}\"]\n",
    "print(\"\\n=== RepeatLoop Results ===\")\n",
    "for idx, sub_dict in enumerate(results):\n",
    "    model = sub_dict[\"model\"]\n",
    "    data = sub_dict[\"data\"]\n",
    "    print(f\"Iteration {idx:02d} → model = {model:.2f}, data = {data}\")"
   ]
  },
  {
   "cell_type": "markdown",
   "id": "8f3d7e29",
   "metadata": {},
   "source": [
    "# EXAMPLE 2 - Parallel"
   ]
  },
  {
   "cell_type": "markdown",
   "id": "27d1f132",
   "metadata": {},
   "source": [
    "## 1. Create a RepeatLoopBlock that runs 4 iterations in parallel, each cloning the base DataBundle so they don't interfere."
   ]
  },
  {
   "cell_type": "code",
   "execution_count": 6,
   "id": "c1704b5e",
   "metadata": {},
   "outputs": [
    {
     "name": "stdout",
     "output_type": "stream",
     "text": [
      "[TrainModelBlock] needs → (data)   provides → (model, data)\n",
      "[RemoveFirstDataBlock] needs → (data)   provides → (data)\n",
      "[ParallelTrainLoop] needs → (data)   provides → (results)\n"
     ]
    }
   ],
   "source": [
    "repeat_parallel_training = RepeatLoopBlock(\n",
    "    subblocks=[TrainModelBlock(), RemoveFirstDataBlock()],\n",
    "    n_iter=4,\n",
    "    clone=True,              # each iteration gets its own, independent copy\n",
    "    parallel=True,           # run all 4 iterations concurrently\n",
    "    max_workers=4,           # up to 4 threads\n",
    "    redirect_save_dir=True,  # writes into ./ParallelTrainLoop/iter_00/, etc.\n",
    "    tag=\"ParallelTrainLoop\",\n",
    ")"
   ]
  },
  {
   "cell_type": "markdown",
   "id": "506d7774",
   "metadata": {},
   "source": [
    "## 2. Build and run the top-level pipeline"
   ]
  },
  {
   "cell_type": "code",
   "execution_count": 7,
   "id": "9cd2a8b1",
   "metadata": {},
   "outputs": [
    {
     "name": "stdout",
     "output_type": "stream",
     "text": [
      "[LoadDataBlock] needs → (∅)   provides → (data)\n"
     ]
    },
    {
     "data": {
      "text/html": [
       "<b style='color:green'>LoadDataBlock</b> – all needs met<br><b style='color:green'>ParallelTrainLoop</b> – all needs met"
      ],
      "text/plain": [
       "<IPython.core.display.HTML object>"
      ]
     },
     "metadata": {},
     "output_type": "display_data"
    },
    {
     "name": "stdout",
     "output_type": "stream",
     "text": [
      "Block (tag)                         │ Needs (✓/✗) │ Provides\n",
      "────────────────────────────────────────────────────────────\n",
      "LoadDataBlock (LoadDataBlock)       │             │ ['data']\n",
      "RepeatLoopBlock (ParallelTrainLoop) │ data        │ ['results']\n",
      "\n",
      "▶  [1/2] LoadDataBlock …\n",
      "[LoadDataBlock] loaded data = [80, 51, 45]\n",
      "✓  [1/2] LoadDataBlock finished in 0.00s\n",
      "▶  [2/2] ParallelTrainLoop …\n"
     ]
    },
    {
     "data": {
      "text/html": [
       "<b style='color:green'>TrainModelBlock</b> – all needs met<br><b style='color:green'>RemoveFirstDataBlock</b> – all needs met"
      ],
      "text/plain": [
       "<IPython.core.display.HTML object>"
      ]
     },
     "metadata": {},
     "output_type": "display_data"
    },
    {
     "name": "stdout",
     "output_type": "stream",
     "text": [
      "Block (tag)                                 │ Needs (✓/✗) │ Provides\n",
      "────────────────────────────────────────────────────────────────────\n",
      "TrainModelBlock (TrainModelBlock)           │ data        │ ['model', 'data']\n",
      "RemoveFirstDataBlock (RemoveFirstDataBlock) │ data        │ ['data']\n",
      "\n"
     ]
    },
    {
     "data": {
      "text/html": [
       "<b style='color:green'>TrainModelBlock</b> – all needs met<br><b style='color:green'>RemoveFirstDataBlock</b> – all needs met"
      ],
      "text/plain": [
       "<IPython.core.display.HTML object>"
      ]
     },
     "metadata": {},
     "output_type": "display_data"
    },
    {
     "data": {
      "text/html": [
       "<b style='color:green'>TrainModelBlock</b> – all needs met<br><b style='color:green'>RemoveFirstDataBlock</b> – all needs met"
      ],
      "text/plain": [
       "<IPython.core.display.HTML object>"
      ]
     },
     "metadata": {},
     "output_type": "display_data"
    },
    {
     "data": {
      "text/html": [
       "<b style='color:green'>TrainModelBlock</b> – all needs met<br><b style='color:green'>RemoveFirstDataBlock</b> – all needs met"
      ],
      "text/plain": [
       "<IPython.core.display.HTML object>"
      ]
     },
     "metadata": {},
     "output_type": "display_data"
    },
    {
     "name": "stdout",
     "output_type": "stream",
     "text": [
      "Block (tag)                                 │ Needs (✓/✗) │ Provides\n",
      "────────────────────────────────────────────────────────────────────\n",
      "TrainModelBlock (TrainModelBlock)           │ data        │ ['model', 'data']\n",
      "RemoveFirstDataBlock (RemoveFirstDataBlock) │ data        │ ['data']\n",
      "\n",
      "Block (tag)                                 │ Needs (✓/✗) │ Provides\n",
      "────────────────────────────────────────────────────────────────────\n",
      "TrainModelBlock (TrainModelBlock)           │ data        │ ['model', 'data']\n",
      "RemoveFirstDataBlock (RemoveFirstDataBlock) │ data        │ ['data']\n",
      "\n",
      "Block (tag)                                 │ Needs (✓/✗) │ Provides\n",
      "────────────────────────────────────────────────────────────────────\n",
      "TrainModelBlock (TrainModelBlock)           │ data        │ ['model', 'data']\n",
      "RemoveFirstDataBlock (RemoveFirstDataBlock) │ data        │ ['data']\n",
      "\n",
      "▶  [1/2] TrainModelBlock …\n",
      "▶  [1/2] TrainModelBlock …▶  [1/2] TrainModelBlock …\n",
      "\n"
     ]
    },
    {
     "name": "stdout",
     "output_type": "stream",
     "text": [
      "[TrainModelBlock] trained model = 63.40, data → [80, 51, 45, 82, 59]✓  [1/2] TrainModelBlock finished in 0.00s\n",
      "\n"
     ]
    }
   ],
   "source": [
    "pipeline = BlockManager(\n",
    "    blocks=[\n",
    "        LoadDataBlock(),\n",
    "        repeat_parallel_training,\n",
    "    ],\n",
    "    databundle=DataBundle({\n",
    "       SAVE_DIR_BUNDLE_KEY: Path('example_results') / 'parallel_loop',\n",
    "    }),\n",
    "    verbose=True,\n",
    "    capture_output=None,     # print directly to console\n",
    ")\n",
    "final_bundle = pipeline()\n"
   ]
  },
  {
   "cell_type": "markdown",
   "id": "2b08df38",
   "metadata": {},
   "source": [
    "## 3. Inspect the parallel-repeat results"
   ]
  },
  {
   "cell_type": "code",
   "execution_count": 8,
   "id": "4280a671",
   "metadata": {},
   "outputs": [],
   "source": [
    "results = final_bundle[f\"{repeat_parallel_training.tag}.{RESULTS_DEFAULT}\"]\n",
    "print(\"\\n=== ParallelRepeatLoop Results ===\")\n",
    "for idx, sub_dict in enumerate(results):\n",
    "    model = sub_dict[\"model\"]\n",
    "    data = sub_dict[\"data\"]\n",
    "    print(f\"Iteration {idx:02d} → model = {model:.2f}, data = {data}\")"
   ]
  }
 ],
 "metadata": {
  "kernelspec": {
   "display_name": "dev_artic_fox",
   "language": "python",
   "name": "python3"
  },
  "language_info": {
   "codemirror_mode": {
    "name": "ipython",
    "version": 3
   },
   "file_extension": ".py",
   "mimetype": "text/x-python",
   "name": "python",
   "nbconvert_exporter": "python",
   "pygments_lexer": "ipython3",
   "version": "3.11.10"
  }
 },
 "nbformat": 4,
 "nbformat_minor": 5
}
