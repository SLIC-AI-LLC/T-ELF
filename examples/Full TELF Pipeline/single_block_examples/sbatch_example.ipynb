{
 "cells": [
  {
   "cell_type": "code",
   "execution_count": 1,
   "id": "d777863c",
   "metadata": {},
   "outputs": [],
   "source": [
    "from pathlib import Path\n",
    "import pandas as pd, os\n",
    "from TELF.pipeline.blocks import DataBundle\n",
    "from TELF.pipeline import BlockManager\n",
    "from TELF.pipeline.blocks import HNMFkBlock\n",
    "from TELF.pipeline.blocks import SBatchBlock"
   ]
  },
  {
   "cell_type": "code",
   "execution_count": 2,
   "id": "0b5c552c",
   "metadata": {},
   "outputs": [],
   "source": [
    "import os\n",
    "import sys; sys.path.append(os.path.join(\"..\", \"..\", \"scripts\"))\n",
    "from generate_X import gen_data, gen_data_sparse\n",
    "Xsp = gen_data_sparse(shape=[500, 500], density=0.01)[\"X\"]\n",
    "X = gen_data(R=4, shape=[200, 200])[\"X\"]"
   ]
  },
  {
   "cell_type": "code",
   "execution_count": null,
   "id": "b3ad311c",
   "metadata": {},
   "outputs": [
    {
     "name": "stdout",
     "output_type": "stream",
     "text": [
      "[HNMFk] needs → (X)   provides → (model, save_path)\n"
     ]
    }
   ],
   "source": [
    "hnmfk_block = HNMFkBlock()\n",
    "bundle = DataBundle({ 'X':X,\n",
    "                     'save_path': Path('./example_results')})"
   ]
  },
  {
   "cell_type": "code",
   "execution_count": 4,
   "id": "c6b48dd6",
   "metadata": {},
   "outputs": [
    {
     "name": "stdout",
     "output_type": "stream",
     "text": [
      "[HNMFk] needs → (X)   provides → (model, save_path)\n",
      "[SBatchWrapper] needs → (X)   provides → (model, save_path)\n"
     ]
    }
   ],
   "source": [
    "sbatch_hnmfk = SBatchBlock(\n",
    "    wrapped_block=HNMFkBlock(),\n",
    "    venv_type=\"conda\",\n",
    "    venv_path=\"dev_artic_fox\",\n",
    ")"
   ]
  },
  {
   "cell_type": "code",
   "execution_count": 5,
   "id": "20da1da8",
   "metadata": {},
   "outputs": [
    {
     "name": "stdout",
     "output_type": "stream",
     "text": [
      "needs: ('X',)\n",
      "provides: ('model', 'save_path')\n",
      "conditional_needs: []\n",
      "init_settings: {'nmfk_params': [{'n_perturbs': 5, 'n_iters': 500, 'epsilon': 0.015, 'n_jobs': -1, 'init': 'nnsvd', 'use_gpu': False, 'save_output': True, 'collect_output': True, 'predict_k_method': 'sill', 'verbose': True, 'nmf_verbose': False, 'transpose': False, 'sill_thresh': 0.8, 'pruned': True, 'nmf_method': 'nmf_fro_mu', 'calculate_error': True, 'predict_k': True, 'use_consensus_stopping': 0, 'calculate_pac': True, 'consensus_mat': True, 'perturb_type': 'uniform', 'perturb_multiprocessing': False, 'perturb_verbose': False, 'simple_plot': True, 'k_search_method': 'bst_pre', 'H_sill_thresh': 0.1, 'clustering_method': 'kmeans', 'device': -1}], 'cluster_on': 'H', 'depth': 1, 'sample_thresh': 5, 'K2': False, 'Ks_deep_min': 1, 'Ks_deep_max': 20, 'Ks_deep_step': 1, 'random_identifiers': False, 'root_node_name': 'Root'}\n",
      "call_settings: {'Ks': range(1, 21), 'from_checkpoint': True, 'save_checkpoint': True}\n",
      "tag: 'HNMFk'\n",
      "verbose: True\n",
      "_canonical_needs: ('X',)\n",
      "needs\n",
      "\t'X'\n",
      "provides\n",
      "\t'model'\n",
      "\t'save_path'\n",
      "needs: ('X',)\n",
      "provides: ('model', 'save_path')\n",
      "conditional_needs: []\n",
      "init_settings: {}\n",
      "call_settings: {}\n",
      "tag: 'SBatchWrapper'\n",
      "verbose: True\n",
      "_canonical_needs: ('X',)\n",
      "wrapped_block: <TELF.pipeline.blocks.hnmfk_block.HNMFkBlock object at 0x79484d399390>\n",
      "venv_type: 'conda'\n",
      "venv_path: 'dev_artic_fox'\n",
      "slurm: {'partition': 'production', 'output': 'slurm-%j.out'}\n",
      "needs\n",
      "\t'X'\n",
      "provides\n",
      "\t'model'\n",
      "\t'save_path'\n"
     ]
    }
   ],
   "source": [
    "sbatch_hnmfk.wrapped_block.print_settings()\n",
    "sbatch_hnmfk.print_settings()"
   ]
  },
  {
   "cell_type": "code",
   "execution_count": 6,
   "id": "4e82d4d8",
   "metadata": {},
   "outputs": [
    {
     "data": {
      "text/html": [
       "<b style='color:green'>SBatchWrapper</b> – all needs met"
      ],
      "text/plain": [
       "<IPython.core.display.HTML object>"
      ]
     },
     "metadata": {},
     "output_type": "display_data"
    },
    {
     "name": "stdout",
     "output_type": "stream",
     "text": [
      "Block (tag)                 │ Needs (✓/✗) │ Provides\n",
      "────────────────────────────────────────────────────\n",
      "SBatchBlock (SBatchWrapper) │ X           │ ['model', 'save_path']\n",
      "\n"
     ]
    }
   ],
   "source": [
    "pipeline = [\n",
    "    sbatch_hnmfk\n",
    "]\n",
    "mgr = BlockManager(pipeline, bundle, capture_output=False)"
   ]
  },
  {
   "cell_type": "code",
   "execution_count": null,
   "id": "c6fac630",
   "metadata": {},
   "outputs": [],
   "source": [
    "final_bundle = mgr()"
   ]
  }
 ],
 "metadata": {
  "kernelspec": {
   "display_name": "dev_artic_fox",
   "language": "python",
   "name": "python3"
  },
  "language_info": {
   "codemirror_mode": {
    "name": "ipython",
    "version": 3
   },
   "file_extension": ".py",
   "mimetype": "text/x-python",
   "name": "python",
   "nbconvert_exporter": "python",
   "pygments_lexer": "ipython3",
   "version": "3.11.10"
  }
 },
 "nbformat": 4,
 "nbformat_minor": 5
}
