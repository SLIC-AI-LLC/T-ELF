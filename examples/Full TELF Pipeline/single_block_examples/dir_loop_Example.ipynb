{
 "cells": [
  {
   "cell_type": "code",
   "execution_count": null,
   "id": "321bd10a",
   "metadata": {},
   "outputs": [],
   "source": [
    "from pathlib import Path\n",
    "from TELF.pipeline.blocks import DataBundle, DIR_LIST_BUNDLE_KEY, SAVE_DIR_BUNDLE_KEY, SOURCE_DIR_BUNDLE_KEY, RESULTS_DEFAULT\n",
    "from TELF.pipeline.blocks import AnimalBlock\n",
    "from TELF.pipeline import DirectoryLoopBlock\n",
    "from TELF.pipeline import BlockManager"
   ]
  },
  {
   "cell_type": "code",
   "execution_count": null,
   "id": "628d861c",
   "metadata": {},
   "outputs": [],
   "source": [
    "class ReadDirBlock(AnimalBlock):\n",
    "    def __init__(self, tag=\"block1\", needs = (SOURCE_DIR_BUNDLE_KEY,), provides = ('dirname',)):\n",
    "        super().__init__(tag=tag, needs = needs, provides = provides)\n",
    "    def run(self, b: DataBundle):\n",
    "        b[f\"{self.tag}.{self.provides[0]}\"] = b[SOURCE_DIR_BUNDLE_KEY].name\n",
    "\n",
    "class CountNameBlock(AnimalBlock):\n",
    "    def __init__(self, tag=\"block2\", needs = (\"dirname\",), provides = ('name_length',)):\n",
    "        super().__init__(tag=tag, needs = needs, provides = provides)\n",
    "    def run(self, b: DataBundle):\n",
    "        b[f\"{self.tag}.{self.provides[0]}\"] =  len(b[self.needs[0]])\n",
    "\n",
    "class SquareCountBlock(AnimalBlock):\n",
    "    def __init__(self, tag=\"block3\", needs = (\"name_length\",), provides = ('length_squared',)):\n",
    "        super().__init__(tag=tag, needs = needs, provides = provides)\n",
    "    def run(self, b: DataBundle):\n",
    "        b[f\"{self.tag}.{self.provides[0]}\"] =  b[self.needs[0]] ** 2"
   ]
  },
  {
   "cell_type": "code",
   "execution_count": null,
   "id": "0253b831",
   "metadata": {},
   "outputs": [],
   "source": [
    "per_dir_blocks = [\n",
    "    ReadDirBlock(),\n",
    "    CountNameBlock(),\n",
    "    SquareCountBlock(),\n",
    "]\n",
    "dir_loop_block =  DirectoryLoopBlock(\n",
    "    subblocks=per_dir_blocks,\n",
    "    max_workers=4,\n",
    "    capture_output=None\n",
    ")\n",
    "pipeline = [\n",
    "    dir_loop_block,\n",
    "]"
   ]
  },
  {
   "cell_type": "code",
   "execution_count": null,
   "id": "d9b37c94",
   "metadata": {},
   "outputs": [],
   "source": [
    "SquareCountBlock().needs"
   ]
  },
  {
   "cell_type": "code",
   "execution_count": null,
   "id": "7f107d93",
   "metadata": {},
   "outputs": [],
   "source": [
    "initial = DataBundle({\n",
    "    DIR_LIST_BUNDLE_KEY: [\n",
    "        \"/path/to/folderA/with/some/random/files\",\n",
    "        \"/path/to/folderB/short_path\",\n",
    "        \"/path/to/folderC/another/longer/path/with_more_subdirs_and_files\",\n",
    "    ],\n",
    "    SAVE_DIR_BUNDLE_KEY: Path(\".\")\n",
    "})"
   ]
  },
  {
   "cell_type": "code",
   "execution_count": null,
   "id": "56d05416",
   "metadata": {},
   "outputs": [],
   "source": [
    "mgr = BlockManager(\n",
    "    pipeline, \n",
    "    initial,\n",
    "    capture_output=None\n",
    ")\n",
    "final_bundle = mgr()"
   ]
  },
  {
   "cell_type": "code",
   "execution_count": null,
   "id": "e167758f",
   "metadata": {},
   "outputs": [],
   "source": [
    "final_bundle.keys()"
   ]
  },
  {
   "cell_type": "code",
   "execution_count": null,
   "metadata": {},
   "outputs": [],
   "source": [
    "for result in final_bundle[RESULTS_DEFAULT]:\n",
    "    print(result.get('dir'))\n",
    "    print(result.get('dirname'))\n",
    "    print(result.get('name_length'))\n",
    "    print(result.get('length_squared'))"
   ]
  }
 ],
 "metadata": {
  "kernelspec": {
   "display_name": "dev_artic_fox",
   "language": "python",
   "name": "python3"
  },
  "language_info": {
   "codemirror_mode": {
    "name": "ipython",
    "version": 3
   },
   "file_extension": ".py",
   "mimetype": "text/x-python",
   "name": "python",
   "nbconvert_exporter": "python",
   "pygments_lexer": "ipython3",
   "version": "3.11.10"
  }
 },
 "nbformat": 4,
 "nbformat_minor": 5
}
