{
 "cells": [
  {
   "cell_type": "code",
   "execution_count": 1,
   "id": "daf5f1d5",
   "metadata": {},
   "outputs": [],
   "source": [
    "import random\n",
    "from pathlib import Path\n",
    "import pandas as pd\n",
    "\n",
    "from TELF.pipeline.blocks.base_block import AnimalBlock\n",
    "from TELF.pipeline.blocks.data_bundle import DataBundle, SAVE_DIR_BUNDLE_KEY\n",
    "from TELF.pipeline import BlockManager\n",
    "\n",
    "class RandomCheckpointBlock(AnimalBlock):\n",
    "    def __init__(self, tag: str, verbose: bool = False, load_checkpoint: bool = True):\n",
    "        super().__init__(\n",
    "            needs=(), provides=(\"df\",), tag=tag,\n",
    "            verbose=verbose, load_checkpoint=load_checkpoint\n",
    "        )\n",
    "\n",
    "    def run(self, bundle: DataBundle) -> DataBundle:\n",
    "        n = random.randint(0, 999)\n",
    "        df = pd.DataFrame({\"value\": [n]})\n",
    "        out_dir = Path(bundle[SAVE_DIR_BUNDLE_KEY]) / self.tag\n",
    "        out_dir.mkdir(parents=True, exist_ok=True)\n",
    "        csv_path = out_dir / \"df.csv\"\n",
    "        df.to_csv(csv_path, index=False)\n",
    "        self.register_checkpoint(\"df\", csv_path)\n",
    "        bundle[f\"{self.tag}.df\"] = df\n",
    "        return bundle\n",
    "\n",
    "def two_blocks_two_runs(flag):\n",
    "    root = Path(\"example_results\") / f\"flag_{flag!s}\"\n",
    "    bundle = DataBundle({SAVE_DIR_BUNDLE_KEY: root})\n",
    "\n",
    "    # Block 1: default load_checkpoint=True\n",
    "    b1 = RandomCheckpointBlock(tag=\"RandomCP1\", verbose=False)\n",
    "    # Block 2: forced load_checkpoint=False\n",
    "    b2 = RandomCheckpointBlock(tag=\"RandomCP2\", verbose=False, load_checkpoint=False)\n",
    "\n",
    "    mgr = BlockManager(\n",
    "        blocks=[b1, b2],\n",
    "        databundle=bundle,\n",
    "        verbose=False,\n",
    "        progress=False,\n",
    "        capture_output=None,\n",
    "        force_checkpoint=flag,\n",
    "    )\n",
    "\n",
    "    # First run\n",
    "    out = mgr()\n",
    "    v1_b1, v1_b2 = (\n",
    "        out[\"RandomCP1.df\"][\"value\"].iloc[0],\n",
    "        out[\"RandomCP2.df\"][\"value\"].iloc[0],\n",
    "    )\n",
    "\n",
    "    # Second run\n",
    "    out = mgr()\n",
    "    v2_b1, v2_b2 = (\n",
    "        out[\"RandomCP1.df\"][\"value\"].iloc[0],\n",
    "        out[\"RandomCP2.df\"][\"value\"].iloc[0],\n",
    "    )\n",
    "\n",
    "    return v1_b1, v1_b2, v2_b1, v2_b2\n",
    "\n"
   ]
  },
  {
   "cell_type": "code",
   "execution_count": 2,
   "id": "0e943497",
   "metadata": {},
   "outputs": [
    {
     "data": {
      "text/html": [
       "<b style='color:green'>RandomCP1</b> – all needs met<br><b style='color:green'>RandomCP2</b> – all needs met"
      ],
      "text/plain": [
       "<IPython.core.display.HTML object>"
      ]
     },
     "metadata": {},
     "output_type": "display_data"
    },
    {
     "data": {
      "text/html": [
       "<b style='color:green'>RandomCP1</b> – all needs met<br><b style='color:green'>RandomCP2</b> – all needs met"
      ],
      "text/plain": [
       "<IPython.core.display.HTML object>"
      ]
     },
     "metadata": {},
     "output_type": "display_data"
    },
    {
     "data": {
      "text/html": [
       "<b style='color:green'>RandomCP1</b> – all needs met<br><b style='color:green'>RandomCP2</b> – all needs met"
      ],
      "text/plain": [
       "<IPython.core.display.HTML object>"
      ]
     },
     "metadata": {},
     "output_type": "display_data"
    }
   ],
   "source": [
    "flags = (None, True, False)\n",
    "results = {}\n",
    "\n",
    "# ─── First loop: run tests ──────────────────────────────────────────\n",
    "for flag in flags:\n",
    "    results[flag] = two_blocks_two_runs(flag)"
   ]
  },
  {
   "cell_type": "code",
   "execution_count": 3,
   "id": "3fc43f18",
   "metadata": {},
   "outputs": [
    {
     "name": "stdout",
     "output_type": "stream",
     "text": [
      "\n",
      "============================================================\n",
      "▶▶▶ manager.force_checkpoint = None\n",
      "\n",
      "Block 1 (RandomCP1, default load_checkpoint=True):\n",
      "  • run 1 → 290\n",
      "  • run 2 → 290\n",
      "    ↳ values match → expected to loaded checkpoint ✅\n",
      "\n",
      "Block 2 (RandomCP2, load_checkpoint=False):\n",
      "  • run 1 → 281\n",
      "  • run 2 → 838\n",
      "    ↳ values differ → expected to skipped checkpoint ✅\n",
      "\n",
      "============================================================\n",
      "▶▶▶ manager.force_checkpoint = True\n",
      "\n",
      "Block 1 (RandomCP1, default load_checkpoint=True):\n",
      "  • run 1 → 55\n",
      "  • run 2 → 55\n",
      "    ↳ values match → expected to loaded checkpoint ✅\n",
      "\n",
      "Block 2 (RandomCP2, load_checkpoint=False):\n",
      "  • run 1 → 453\n",
      "  • run 2 → 453\n",
      "    ↳ values match → expected to loaded checkpoint ✅\n",
      "\n",
      "============================================================\n",
      "▶▶▶ manager.force_checkpoint = False\n",
      "\n",
      "Block 1 (RandomCP1, default load_checkpoint=True):\n",
      "  • run 1 → 855\n",
      "  • run 2 → 577\n",
      "    ↳ values differ → expected to skipped checkpoint ✅\n",
      "\n",
      "Block 2 (RandomCP2, load_checkpoint=False):\n",
      "  • run 1 → 358\n",
      "  • run 2 → 493\n",
      "    ↳ values differ → expected to skipped checkpoint ✅\n"
     ]
    }
   ],
   "source": [
    "\n",
    "# ─── Second loop: print summaries ──────────────────────────────────\n",
    "for flag in flags:\n",
    "    v1_b1, v1_b2, v2_b1, v2_b2 = results[flag]\n",
    "\n",
    "    print(\"\\n\" + \"=\"*60)\n",
    "    print(f\"▶▶▶ manager.force_checkpoint = {flag!r}\\n\")\n",
    "\n",
    "    # Block 1 summary\n",
    "    print(\"Block 1 (RandomCP1, default load_checkpoint=True):\")\n",
    "    print(f\"  • run 1 → {v1_b1}\")\n",
    "    print(f\"  • run 2 → {v2_b1}\")\n",
    "    expect_b1 = \"loaded\" if flag is not False else \"skipped\"\n",
    "    outcome_b1 = \"match\" if v1_b1 == v2_b1 else \"differ\"\n",
    "    if (flag is True or (flag is None and expect_b1==\"loaded\") or (flag is False and expect_b1==\"skipped\")):\n",
    "        correct = (expect_b1==\"loaded\" and outcome_b1==\"match\") or (expect_b1==\"skipped\" and outcome_b1==\"differ\")\n",
    "    else:\n",
    "        correct = False\n",
    "    print(f\"    ↳ values {outcome_b1} → expected to {expect_b1} checkpoint\"\n",
    "            f\"{' ✅' if correct else ' ❌'}\\n\")\n",
    "\n",
    "    # Block 2 summary\n",
    "    print(\"Block 2 (RandomCP2, load_checkpoint=False):\")\n",
    "    print(f\"  • run 1 → {v1_b2}\")\n",
    "    print(f\"  • run 2 → {v2_b2}\")\n",
    "    # determine expected behavior for block2\n",
    "    if flag is True:\n",
    "        expect_b2 = \"loaded\"\n",
    "    else:\n",
    "        expect_b2 = \"skipped\"\n",
    "    outcome_b2 = \"match\" if v1_b2 == v2_b2 else \"differ\"\n",
    "    correct_b2 = (expect_b2==\"loaded\" and outcome_b2==\"match\") or (expect_b2==\"skipped\" and outcome_b2==\"differ\")\n",
    "    print(f\"    ↳ values {outcome_b2} → expected to {expect_b2} checkpoint\"\n",
    "            f\"{' ✅' if correct_b2 else ' ❌'}\")\n"
   ]
  }
 ],
 "metadata": {
  "kernelspec": {
   "display_name": "dev_artic_fox",
   "language": "python",
   "name": "python3"
  },
  "language_info": {
   "codemirror_mode": {
    "name": "ipython",
    "version": 3
   },
   "file_extension": ".py",
   "mimetype": "text/x-python",
   "name": "python",
   "nbconvert_exporter": "python",
   "pygments_lexer": "ipython3",
   "version": "3.11.10"
  }
 },
 "nbformat": 4,
 "nbformat_minor": 5
}
