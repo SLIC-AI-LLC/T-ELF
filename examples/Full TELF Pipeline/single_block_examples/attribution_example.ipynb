{
 "cells": [
  {
   "cell_type": "code",
   "execution_count": 5,
   "id": "29d4ec69",
   "metadata": {},
   "outputs": [],
   "source": [
    "import pandas as pd\n",
    "from pathlib import Path\n",
    "\n",
    "from TELF.pipeline import BlockManager \n",
    "from TELF.pipeline.blocks import (\n",
    "    DataBundle,\n",
    "    LoadTermsBlock,\n",
    "    TermAttributionBlock,\n",
    "    VultureCleanBlock,\n",
    "    SAVE_DIR_BUNDLE_KEY,\n",
    "    DIR_LIST_BUNDLE_KEY,\n",
    "    RESULTS_DEFAULT,\n",
    "    SOURCE_DIR_BUNDLE_KEY\n",
    ")"
   ]
  },
  {
   "cell_type": "code",
   "execution_count": 6,
   "id": "815aa3db",
   "metadata": {},
   "outputs": [
    {
     "name": "stdout",
     "output_type": "stream",
     "text": [
      "[Attribution] needs → (df, terms)   provides → (df, term_representation_df)\n",
      "[Terms] needs → (dir)   provides → (terms, substitutions, substitutions_reverse, query)\n",
      "[VultureClean] needs → (df)   provides → (df, vulture_steps)\n"
     ]
    }
   ],
   "source": [
    "attribute_block =   TermAttributionBlock( )\n",
    "terms_block =    LoadTermsBlock()\n",
    "vulture_block =  VultureCleanBlock(\n",
    "    use_substitutions=False,\n",
    "    init_settings={\"n_jobs\":-1, 'parallel_backend': 'threading'}\n",
    ")"
   ]
  },
  {
   "cell_type": "code",
   "execution_count": 7,
   "id": "6a2a778d",
   "metadata": {},
   "outputs": [],
   "source": [
    "pipeline_blocks = [terms_block, vulture_block, attribute_block]\n",
    "\n",
    "bundle = DataBundle({\n",
    "    SOURCE_DIR_BUNDLE_KEY: Path(\"..\") / \"..\" / \"..\" / \"data\" ,\n",
    "    SAVE_DIR_BUNDLE_KEY: Path(\"example_results\") / \"term_attribution_example\" ,\n",
    "    'df': pd.read_csv(Path(\"..\") / \"..\" / \"..\" / \"data\" / \"sample2.csv\").head(50)\n",
    "})"
   ]
  },
  {
   "cell_type": "code",
   "execution_count": 8,
   "id": "e340948b",
   "metadata": {},
   "outputs": [
    {
     "data": {
      "text/html": [
       "<b style='color:green'>Terms</b> – all needs met<br><b style='color:green'>VultureClean</b> – all needs met<br><b style='color:green'>Attribution</b> – all needs met"
      ],
      "text/plain": [
       "<IPython.core.display.HTML object>"
      ]
     },
     "metadata": {},
     "output_type": "display_data"
    },
    {
     "name": "stdout",
     "output_type": "stream",
     "text": [
      "Block (tag)                        │ Needs (✓/✗) │ Provides\n",
      "───────────────────────────────────────────────────────────\n",
      "LoadTermsBlock (Terms)             │ dir         │ ['terms', 'substitutions', 'substitutions_reverse', 'query']\n",
      "VultureCleanBlock (VultureClean)   │ df          │ ['df', 'vulture_steps']\n",
      "TermAttributionBlock (Attribution) │ df, terms   │ ['df', 'term_representation_df']\n",
      "\n",
      "▶  [1/3] Terms …\n",
      "✓  [1/3] Terms finished in 1.89s\n",
      "▶  [2/3] VultureClean …\n",
      "✓  [2/3] VultureClean finished in 71.72s\n",
      "▶  [3/3] Attribution …\n",
      "✓  [3/3] Attribution finished in 0.11s\n"
     ]
    }
   ],
   "source": [
    "manager = BlockManager(pipeline_blocks, databundle=bundle)\n",
    "bundle = manager()"
   ]
  }
 ],
 "metadata": {
  "kernelspec": {
   "display_name": "dev_artic_fox",
   "language": "python",
   "name": "python3"
  },
  "language_info": {
   "codemirror_mode": {
    "name": "ipython",
    "version": 3
   },
   "file_extension": ".py",
   "mimetype": "text/x-python",
   "name": "python",
   "nbconvert_exporter": "python",
   "pygments_lexer": "ipython3",
   "version": "3.11.10"
  }
 },
 "nbformat": 4,
 "nbformat_minor": 5
}
