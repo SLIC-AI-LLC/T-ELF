{
 "cells": [
  {
   "cell_type": "code",
   "execution_count": 1,
   "id": "0a220920",
   "metadata": {},
   "outputs": [
    {
     "name": "stdout",
     "output_type": "stream",
     "text": [
      "[Terms] needs → (dir)   provides → (terms, substitutions, substitutions_reverse, query)\n",
      "[CheetahFilter] needs → (df, query)   provides → (df, cheetah_table)\n",
      "[Attribution] needs → (df, terms)   provides → (df, term_representation_df)\n"
     ]
    }
   ],
   "source": [
    "from pathlib import Path\n",
    "import pandas as pd\n",
    "from TELF.pipeline import (\n",
    "    VultureCleanBlock,\n",
    "    LoadTermsBlock, \n",
    "    CheetahFilterBlock, \n",
    "    TermAttributionBlock, \n",
    "    DataBundle,\n",
    "    SOURCE_DIR_BUNDLE_KEY,\n",
    "    SAVE_DIR_BUNDLE_KEY\n",
    ")\n",
    "\n",
    "# ───────────────────────────────────────────────────────────────────────\n",
    "#  1) Prepare your “bundle” with the two inputs your blocks expect:\n",
    "# ───────────────────────────────────────────────────────────────────────\n",
    "bundle = DataBundle({\n",
    "    SOURCE_DIR_BUNDLE_KEY: Path(\"..\") / \"..\" / \"..\" / \"data\" ,\n",
    "    SAVE_DIR_BUNDLE_KEY: Path(\"example_results\") / \"cheetah_term_filter\" ,\n",
    "    'df': pd.read_csv(Path(\"..\") / \"..\" / \"..\" / \"data\" / \"sample2.csv\").head(50)\n",
    "})\n",
    "# ───────────────────────────────────────────────────────────────────────\n",
    "#  2) Instantiate your term‐loader block and run it\n",
    "# ───────────────────────────────────────────────────────────────────────\n",
    "term_block = LoadTermsBlock(\n",
    "    call_settings={\n",
    "        \"drop_conflicts\": True,\n",
    "        SOURCE_DIR_BUNDLE_KEY : Path(\"..\") / \"..\" / \"..\" / \"data\" / \"sample_terms2.md\",\n",
    "    }\n",
    ")\n",
    "cheetah_block = CheetahFilterBlock(\n",
    "    load_checkpoint=False,\n",
    "    call_settings={\n",
    "        \"in_title\": True,\n",
    "        \"in_abstract\": True,\n",
    "        \"ngram_ordered\": False,\n",
    "        \"do_results_table\": True,\n",
    "    }\n",
    ")\n",
    "\n",
    "attribute_block =   TermAttributionBlock()"
   ]
  },
  {
   "cell_type": "code",
   "execution_count": 2,
   "id": "f2cb9644",
   "metadata": {},
   "outputs": [
    {
     "name": "stdout",
     "output_type": "stream",
     "text": [
      "[VultureClean] needs → (df)   provides → (df, vulture_steps)\n",
      "[Initial_Attribution] needs → (df, terms)   provides → (df, term_representation_df)\n",
      "[Final_Attribution] needs → (df, terms)   provides → (df, term_representation_df)\n"
     ]
    },
    {
     "data": {
      "text/html": [
       "<b style='color:green'>VultureClean</b> – all needs met<br><b style='color:green'>Terms</b> – all needs met<br><b style='color:green'>Initial_Attribution</b> – all needs met<br><b style='color:green'>CheetahFilter</b> – all needs met<br><b style='color:green'>Final_Attribution</b> – all needs met"
      ],
      "text/plain": [
       "<IPython.core.display.HTML object>"
      ]
     },
     "metadata": {},
     "output_type": "display_data"
    },
    {
     "name": "stdout",
     "output_type": "stream",
     "text": [
      "Block (tag)                                │ Needs (✓/✗) │ Provides\n",
      "───────────────────────────────────────────────────────────────────\n",
      "VultureCleanBlock (VultureClean)           │ df          │ ['df', 'vulture_steps']\n",
      "LoadTermsBlock (Terms)                     │             │ ['terms', 'substitutions', 'substitutions_reverse', 'query']\n",
      "TermAttributionBlock (Initial_Attribution) │ df, terms   │ ['df', 'term_representation_df']\n",
      "CheetahFilterBlock (CheetahFilter)         │ df, query   │ ['df', 'cheetah_table']\n",
      "TermAttributionBlock (Final_Attribution)   │ df, terms   │ ['df', 'term_representation_df']\n",
      "\n",
      "▶  [1/5] VultureClean …\n",
      "✓  [1/5] VultureClean finished in 68.09s\n",
      "▶  [2/5] Terms …\n",
      "✓  [2/5] Terms finished in 1.91s\n",
      "▶  [3/5] Initial_Attribution …\n",
      "✓  [3/5] Initial_Attribution finished in 0.08s\n",
      "▶  [4/5] CheetahFilter …\n",
      "✓  [4/5] CheetahFilter finished in 0.04s\n",
      "▶  [5/5] Final_Attribution …\n",
      "✓  [5/5] Final_Attribution finished in 0.04s\n"
     ]
    }
   ],
   "source": [
    "from TELF.pipeline.block_manager import BlockManager\n",
    "\n",
    "manager = BlockManager(\n",
    "    [\n",
    "        VultureCleanBlock(),\n",
    "        term_block,\n",
    "        TermAttributionBlock(tag='Initial_Attribution'),\n",
    "        cheetah_block,\n",
    "        TermAttributionBlock(tag='Final_Attribution')\n",
    "    ],\n",
    "    bundle\n",
    ")\n",
    "result = manager()"
   ]
  },
  {
   "cell_type": "code",
   "execution_count": 3,
   "id": "e51d8448",
   "metadata": {},
   "outputs": [
    {
     "data": {
      "text/plain": [
       "[{'malware family': {'positives': ['classification'],\n",
       "   'negatives': ['labeling', 'early']}},\n",
       " {'decision-making': {'positives': ['reward'], 'negatives': []}},\n",
       " {'pre-train model': {'positives': ['supervised'], 'negatives': []}},\n",
       " {'pre-train': {'positives': ['supervised'], 'negatives': []}}]"
      ]
     },
     "execution_count": 3,
     "metadata": {},
     "output_type": "execute_result"
    }
   ],
   "source": [
    "result.terms"
   ]
  },
  {
   "cell_type": "code",
   "execution_count": 4,
   "id": "fd883b7c",
   "metadata": {},
   "outputs": [],
   "source": [
    "# ───────────────────────────────────────────────────────────────────────\n",
    "#  4) Grab your results:\n",
    "# ───────────────────────────────────────────────────────────────────────\n",
    "filtered_df    = result[\"CheetahFilter.df\"]\n",
    "cheetah_table  = result[\"CheetahFilter.cheetah_table\"]"
   ]
  },
  {
   "cell_type": "code",
   "execution_count": 5,
   "id": "337ffa14",
   "metadata": {},
   "outputs": [
    {
     "name": "stdout",
     "output_type": "stream",
     "text": [
      "<class 'pandas.core.frame.DataFrame'>\n",
      "RangeIndex: 11 entries, 0 to 10\n",
      "Data columns (total 22 columns):\n",
      " #   Column                Non-Null Count  Dtype  \n",
      "---  ------                --------------  -----  \n",
      " 0   eid                   11 non-null     object \n",
      " 1   s2id                  11 non-null     object \n",
      " 2   doi                   11 non-null     object \n",
      " 3   title                 11 non-null     object \n",
      " 4   abstract              11 non-null     object \n",
      " 5   year                  11 non-null     int64  \n",
      " 6   authors               11 non-null     object \n",
      " 7   author_ids            11 non-null     object \n",
      " 8   affiliations          11 non-null     object \n",
      " 9   funding               3 non-null      object \n",
      " 10  PACs                  1 non-null      object \n",
      " 11  publication_name      11 non-null     object \n",
      " 12  subject_areas         11 non-null     object \n",
      " 13  s2_authors            11 non-null     object \n",
      " 14  s2_author_ids         11 non-null     object \n",
      " 15  citations             11 non-null     object \n",
      " 16  references            9 non-null      object \n",
      " 17  num_citations         11 non-null     int64  \n",
      " 18  num_references        11 non-null     float64\n",
      " 19  clean_title_abstract  11 non-null     object \n",
      " 20  term                  11 non-null     object \n",
      " 21  title_abstract        11 non-null     object \n",
      "dtypes: float64(1), int64(2), object(19)\n",
      "memory usage: 2.0+ KB\n"
     ]
    }
   ],
   "source": [
    "filtered_df.info()"
   ]
  },
  {
   "cell_type": "code",
   "execution_count": 6,
   "id": "74e326c8",
   "metadata": {},
   "outputs": [
    {
     "data": {
      "text/html": [
       "<div>\n",
       "<style scoped>\n",
       "    .dataframe tbody tr th:only-of-type {\n",
       "        vertical-align: middle;\n",
       "    }\n",
       "\n",
       "    .dataframe tbody tr th {\n",
       "        vertical-align: top;\n",
       "    }\n",
       "\n",
       "    .dataframe thead th {\n",
       "        text-align: right;\n",
       "    }\n",
       "</style>\n",
       "<table border=\"1\" class=\"dataframe\">\n",
       "  <thead>\n",
       "    <tr style=\"text-align: right;\">\n",
       "      <th></th>\n",
       "      <th>filter_type</th>\n",
       "      <th>filter_value</th>\n",
       "      <th>num_papers</th>\n",
       "      <th>included_ids</th>\n",
       "      <th>included_pos</th>\n",
       "    </tr>\n",
       "  </thead>\n",
       "  <tbody>\n",
       "    <tr>\n",
       "      <th>0</th>\n",
       "      <td>query</td>\n",
       "      <td>decision-making</td>\n",
       "      <td>18</td>\n",
       "      <td>64;66;6;7;8;73;42;43;44;15;16;17;18;19;60;61;6...</td>\n",
       "      <td>[64, 66, 6, 7, 8, 73, 42, 43, 44, 15, 16, 17, ...</td>\n",
       "    </tr>\n",
       "    <tr>\n",
       "      <th>1</th>\n",
       "      <td>query</td>\n",
       "      <td>malware family</td>\n",
       "      <td>25</td>\n",
       "      <td>0;3;4;6;7;9;13;14;15;16;25;26;32;34;36;39;40;4...</td>\n",
       "      <td>[0, 3, 4, 6, 7, 9, 13, 14, 15, 16, 25, 26, 32,...</td>\n",
       "    </tr>\n",
       "    <tr>\n",
       "      <th>2</th>\n",
       "      <td>query</td>\n",
       "      <td>pre-train</td>\n",
       "      <td>5</td>\n",
       "      <td>32;4;40;25;59</td>\n",
       "      <td>[32, 4, 40, 25, 59]</td>\n",
       "    </tr>\n",
       "    <tr>\n",
       "      <th>3</th>\n",
       "      <td>query</td>\n",
       "      <td>pre-train model</td>\n",
       "      <td>5</td>\n",
       "      <td>32;4;40;25;59</td>\n",
       "      <td>[32, 4, 40, 25, 59]</td>\n",
       "    </tr>\n",
       "  </tbody>\n",
       "</table>\n",
       "</div>"
      ],
      "text/plain": [
       "  filter_type     filter_value  num_papers  \\\n",
       "0       query  decision-making          18   \n",
       "1       query   malware family          25   \n",
       "2       query        pre-train           5   \n",
       "3       query  pre-train model           5   \n",
       "\n",
       "                                        included_ids  \\\n",
       "0  64;66;6;7;8;73;42;43;44;15;16;17;18;19;60;61;6...   \n",
       "1  0;3;4;6;7;9;13;14;15;16;25;26;32;34;36;39;40;4...   \n",
       "2                                      32;4;40;25;59   \n",
       "3                                      32;4;40;25;59   \n",
       "\n",
       "                                        included_pos  \n",
       "0  [64, 66, 6, 7, 8, 73, 42, 43, 44, 15, 16, 17, ...  \n",
       "1  [0, 3, 4, 6, 7, 9, 13, 14, 15, 16, 25, 26, 32,...  \n",
       "2                                [32, 4, 40, 25, 59]  \n",
       "3                                [32, 4, 40, 25, 59]  "
      ]
     },
     "execution_count": 6,
     "metadata": {},
     "output_type": "execute_result"
    }
   ],
   "source": [
    "cheetah_table.head(10)"
   ]
  },
  {
   "cell_type": "code",
   "execution_count": null,
   "id": "90bf1bde",
   "metadata": {},
   "outputs": [],
   "source": [
    "result['VultureClean.df'].clean_title_abstract.tolist()"
   ]
  },
  {
   "cell_type": "code",
   "execution_count": null,
   "metadata": {},
   "outputs": [],
   "source": []
  }
 ],
 "metadata": {
  "kernelspec": {
   "display_name": "dev_artic_fox",
   "language": "python",
   "name": "python3"
  },
  "language_info": {
   "codemirror_mode": {
    "name": "ipython",
    "version": 3
   },
   "file_extension": ".py",
   "mimetype": "text/x-python",
   "name": "python",
   "nbconvert_exporter": "python",
   "pygments_lexer": "ipython3",
   "version": "3.11.10"
  }
 },
 "nbformat": 4,
 "nbformat_minor": 5
}
