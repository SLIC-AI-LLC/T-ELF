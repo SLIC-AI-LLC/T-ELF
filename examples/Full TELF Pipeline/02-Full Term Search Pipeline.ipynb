{
 "cells": [
  {
   "cell_type": "code",
   "execution_count": null,
   "id": "2127fe7c",
   "metadata": {},
   "outputs": [],
   "source": [
    "import os\n",
    "nnn = 1\n",
    "os.environ[\"OMP_NUM_THREADS\"] = str(nnn) # export OMP_NUM_THREADS=1\n",
    "os.environ[\"OPENBLAS_NUM_THREADS\"] = str(nnn) # export OPENBLAS_NUM_THREADS=1\n",
    "os.environ[\"MKL_NUM_THREADS\"] = str(nnn) # export MKL_NUM_THREADS=1\n",
    "os.environ[\"VECLIB_MAXIMUM_THREADS\"] = str(nnn) # export VECLIB_MAXIMUM_THREADS=1\n",
    "os.environ[\"NUMEXPR_NUM_THREADS\"] = str(nnn)  # export NUMEXPR_NUM_THREADS=1\n",
    "\n",
    "\n",
    "os.environ[\"TOKENIZERS_PARALLELISM\"] = \"false\""
   ]
  },
  {
   "cell_type": "code",
   "execution_count": null,
   "id": "1cae8f81",
   "metadata": {},
   "outputs": [],
   "source": [
    "from pathlib import Path\n",
    "import random"
   ]
  },
  {
   "cell_type": "code",
   "execution_count": null,
   "id": "080bc0aa",
   "metadata": {},
   "outputs": [],
   "source": [
    "from TELF.pipeline.blocks import DataBundle, SAVE_DIR_BUNDLE_KEY\n",
    "from TELF.pipeline import BlockManager\n",
    "\n",
    "from TELF.pipeline.blocks import (\n",
    "    DataBundle,\n",
    "    VultureCleanBlock,\n",
    "    BeaverVocabBlock,\n",
    "    AutoBunnyBlock,\n",
    "    SquirrelBlock,\n",
    "    OrcaBlock,\n",
    "    WolfBlock,\n",
    "    CleanAffiliationsBlock,\n",
    "    BeaverDocWordBlock,\n",
    "    SemanticHNMFkBlock,\n",
    "    ArticFoxBlock,\n",
    "    TermAttributionBlock,\n",
    "    LoadTermsBlock,\n",
    "    TermAttributionBlock,\n",
    "    TermSearchBlock,\n",
    "    FunctionBlock\n",
    ")"
   ]
  },
  {
   "cell_type": "code",
   "execution_count": null,
   "metadata": {},
   "outputs": [],
   "source": [
    "# REPLACE THIS WITH YOUR OWN KEYS AND CACHE\n",
    "from hidden_keys import SCOPUS_KEYS, S2_KEY, SCOPUS_CACHE, S2_CACHE\n",
    "random.shuffle(SCOPUS_KEYS)"
   ]
  },
  {
   "cell_type": "markdown",
   "id": "065a0b92",
   "metadata": {},
   "source": [
    "# Load Data"
   ]
  },
  {
   "cell_type": "code",
   "execution_count": null,
   "id": "ad35c75b",
   "metadata": {},
   "outputs": [],
   "source": [
    "bundle = DataBundle({SAVE_DIR_BUNDLE_KEY: Path('./example_results/term_search_results')})"
   ]
  },
  {
   "cell_type": "markdown",
   "id": "7d417e2b",
   "metadata": {},
   "source": [
    "# Build the Blocks"
   ]
  },
  {
   "cell_type": "code",
   "execution_count": null,
   "id": "ed012458",
   "metadata": {},
   "outputs": [],
   "source": [
    "terms_block = LoadTermsBlock( call_settings={'path': '../../data/sample_terms.md'})"
   ]
  },
  {
   "cell_type": "code",
   "execution_count": null,
   "id": "93055dfd",
   "metadata": {},
   "outputs": [],
   "source": [
    "term_search_block = TermSearchBlock(\n",
    "    init_settings={\n",
    "        'scopus':{'keys':SCOPUS_KEYS, 'mode': 'fs','name':SCOPUS_CACHE}, \n",
    "        's2':{'key':S2_KEY,'mode': 'fs','name':S2_CACHE}\n",
    "    }\n",
    ")"
   ]
  },
  {
   "cell_type": "code",
   "execution_count": null,
   "id": "8d81966a",
   "metadata": {},
   "outputs": [],
   "source": [
    "def take_head(df, N: int):\n",
    "    return df.head(N)\n",
    "\n",
    "df_reduction_block = FunctionBlock(\n",
    "    needs=(\"df\",),               \n",
    "    provides=(\"df\",),        \n",
    "    function_call=take_head,      \n",
    "    call_settings={\"N\": 5},      \n",
    "    tag=\"ReduceDf\"                \n",
    ")"
   ]
  },
  {
   "cell_type": "code",
   "execution_count": null,
   "metadata": {},
   "outputs": [],
   "source": [
    "vulture_block = VultureCleanBlock(verbose=True, \n",
    "                                  use_substitutions=True,\n",
    "                                  init_settings={\"n_jobs\":1, 'parallel_backend': 'threading'})"
   ]
  },
  {
   "cell_type": "code",
   "execution_count": null,
   "metadata": {},
   "outputs": [],
   "source": [
    "vocab_block = BeaverVocabBlock(call_settings={'min_df':2}, \n",
    "                               needs=(\"VultureClean.df\",))"
   ]
  },
  {
   "cell_type": "code",
   "execution_count": null,
   "metadata": {},
   "outputs": [],
   "source": [
    "auto_bunny_block = AutoBunnyBlock(\n",
    "    num_hops = 1,\n",
    "    use_vulture_steps=True,\n",
    "    init_settings = {\n",
    "        's2_key': S2_KEY,\n",
    "        'scopus_keys': SCOPUS_KEYS,\n",
    "        'cache_dir': Path(SCOPUS_CACHE).parent,\n",
    "    },\n",
    ")"
   ]
  },
  {
   "cell_type": "code",
   "execution_count": null,
   "id": "36fcb3ac",
   "metadata": {},
   "outputs": [],
   "source": [
    "term_attribute_block =  TermAttributionBlock()"
   ]
  },
  {
   "cell_type": "code",
   "execution_count": null,
   "metadata": {},
   "outputs": [],
   "source": [
    "squirrel_block = SquirrelBlock()"
   ]
  },
  {
   "cell_type": "code",
   "execution_count": null,
   "metadata": {},
   "outputs": [],
   "source": [
    "clean_affiliations_block = CleanAffiliationsBlock()"
   ]
  },
  {
   "cell_type": "code",
   "execution_count": null,
   "id": "1813cd21",
   "metadata": {},
   "outputs": [],
   "source": [
    "term_attribute_block =  TermAttributionBlock()"
   ]
  },
  {
   "cell_type": "code",
   "execution_count": null,
   "metadata": {},
   "outputs": [],
   "source": [
    "orca_block = OrcaBlock()"
   ]
  },
  {
   "cell_type": "code",
   "execution_count": null,
   "metadata": {},
   "outputs": [],
   "source": [
    "post_expansion_vulture_block = vulture_block.copy(needs=('Orca.df',))"
   ]
  },
  {
   "cell_type": "code",
   "execution_count": null,
   "metadata": {},
   "outputs": [],
   "source": [
    "wolf_coauthor_block = WolfBlock(tag=\"WolfAuthor\", category='co-author')\n",
    "wolf_coaffiliation_block = WolfBlock(tag=\"WolfAffil\", category='co-affiliation')"
   ]
  },
  {
   "cell_type": "code",
   "execution_count": null,
   "metadata": {},
   "outputs": [],
   "source": [
    "matrix_block = BeaverDocWordBlock(tag=\"DocWord\", needs=(\"VultureClean.df\", \"BeaverVocab.vocabulary\",))"
   ]
  },
  {
   "cell_type": "code",
   "execution_count": null,
   "metadata": {},
   "outputs": [],
   "source": [
    "semantic_hfactor_block = SemanticHNMFkBlock(\n",
    "    needs=(\"DocWord.X\", \"VultureClean.df\", \"vocabulary\", ),\n",
    "    init_settings={\n",
    "        \"depth\":1, \n",
    "        \"sample_thresh\":4,\n",
    "        \"Ks_deep_max\":6,\n",
    "    },\n",
    "    call_settings={\n",
    "        \"Ks\":range(1, 16),\n",
    "    }\n",
    ")"
   ]
  },
  {
   "cell_type": "code",
   "execution_count": null,
   "metadata": {},
   "outputs": [],
   "source": [
    "post_process_block = ArticFoxBlock(call_settings={\"ollama_model\":\"llama3.2:3b-instruct-fp16\"})"
   ]
  },
  {
   "cell_type": "markdown",
   "metadata": {},
   "source": [
    "# Block Manager"
   ]
  },
  {
   "cell_type": "code",
   "execution_count": null,
   "id": "94129c86",
   "metadata": {},
   "outputs": [],
   "source": [
    "eagle_block =None \n",
    "wolf_pack = None \n",
    "manager = BlockManager(\n",
    "    blocks = [\n",
    "        terms_block,\n",
    "        eagle_block, \n",
    "        df_reduction_block,\n",
    "        vulture_block, \n",
    "        squirrel_block,\n",
    "        clean_affiliations_block,\n",
    "        orca_block,\n",
    "        term_attribute_block,\n",
    "        wolf_coauthor_block,\n",
    "        wolf_coaffiliation_block,  \n",
    "        wolf_pack     \n",
    "    ],\n",
    "    databundle=bundle,  \n",
    "    progress   = True,          # see which block is executing\n",
    "    # \"memory\" or \"file\" or None\n",
    "    # if \"file\",  timestamped logs under results/logs/\n",
    "    # if \"memory\", manager.block_logs.keys()\n",
    "    capture_output=\"file\" ,\n",
    ")"
   ]
  },
  {
   "cell_type": "code",
   "execution_count": null,
   "id": "d3ded72e",
   "metadata": {},
   "outputs": [],
   "source": [
    "bundle = manager()"
   ]
  },
  {
   "cell_type": "code",
   "execution_count": null,
   "id": "e7def0e7",
   "metadata": {},
   "outputs": [],
   "source": [
    "manager = BlockManager(\n",
    "    blocks = [\n",
    "        terms_block,\n",
    "        term_search_block,\n",
    "        df_reduction_block,\n",
    "        vulture_block, \n",
    "        vocab_block,\n",
    "        matrix_block,\n",
    "        semantic_hfactor_block,\n",
    "        auto_bunny_block,\n",
    "        squirrel_block,\n",
    "        clean_affiliations_block,\n",
    "        orca_block,\n",
    "        post_expansion_vulture_block,\n",
    "        term_attribute_block,\n",
    "        wolf_coauthor_block,\n",
    "        wolf_coaffiliation_block,  \n",
    "        post_process_block,      \n",
    "    ],\n",
    "    databundle=bundle,  \n",
    "    progress   = True,          # see which block is executing\n",
    "    # \"memory\" or \"file\" or None\n",
    "    # if \"file\",  timestamped logs under results/logs/\n",
    "    # if \"memory\", manager.block_logs.keys()\n",
    "    capture_output=\"file\" ,\n",
    ")"
   ]
  }
 ],
 "metadata": {
  "kernelspec": {
   "display_name": "dev_artic_fox",
   "language": "python",
   "name": "python3"
  },
  "language_info": {
   "codemirror_mode": {
    "name": "ipython",
    "version": 3
   },
   "file_extension": ".py",
   "mimetype": "text/x-python",
   "name": "python",
   "nbconvert_exporter": "python",
   "pygments_lexer": "ipython3",
   "version": "3.11.10"
  }
 },
 "nbformat": 4,
 "nbformat_minor": 5
}
