{
 "cells": [
  {
   "cell_type": "markdown",
   "metadata": {},
   "source": [
    "# Load Data"
   ]
  },
  {
   "cell_type": "code",
   "execution_count": 1,
   "metadata": {},
   "outputs": [
    {
     "name": "stdout",
     "output_type": "stream",
     "text": [
      "<class 'pandas.core.frame.DataFrame'>\n",
      "RangeIndex: 940 entries, 0 to 939\n",
      "Data columns (total 8 columns):\n",
      " #   Column          Non-Null Count  Dtype \n",
      "---  ------          --------------  ----- \n",
      " 0   eid             940 non-null    object\n",
      " 1   title           940 non-null    object\n",
      " 2   year            940 non-null    int64 \n",
      " 3   abstract        940 non-null    object\n",
      " 4   authors         940 non-null    object\n",
      " 5   author_ids      940 non-null    object\n",
      " 6   references      843 non-null    object\n",
      " 7   clean_abstract  940 non-null    object\n",
      "dtypes: int64(1), object(7)\n",
      "memory usage: 58.9+ KB\n"
     ]
    }
   ],
   "source": [
    "import pandas as pd\n",
    "import os\n",
    "df = pd.read_csv(os.path.join(\"..\", \"..\", \"data\", \"sample.csv\"))\n",
    "df.info()"
   ]
  },
  {
   "cell_type": "markdown",
   "metadata": {},
   "source": [
    "# Build Matrix"
   ]
  },
  {
   "cell_type": "code",
   "execution_count": 2,
   "metadata": {},
   "outputs": [
    {
     "data": {
      "text/plain": [
       "467"
      ]
     },
     "execution_count": 2,
     "metadata": {},
     "output_type": "execute_result"
    }
   ],
   "source": [
    "from TELF.pre_processing import Beaver\n",
    "\n",
    "beaver = Beaver()\n",
    "\n",
    "beaver_vocab_settings = {\n",
    "    \"dataset\":df,\n",
    "    \"target_column\":\"clean_abstract\",\n",
    "    \"min_df\":10,\n",
    "    \"max_df\":0.5,\n",
    "}\n",
    "\n",
    "vocabulary = beaver.get_vocabulary(**beaver_vocab_settings)\n",
    "len(vocabulary)"
   ]
  },
  {
   "cell_type": "code",
   "execution_count": 3,
   "metadata": {},
   "outputs": [],
   "source": [
    "beaver_matrix_settings = {\n",
    "    \"dataset\":df,\n",
    "    \"target_column\":\"clean_abstract\",\n",
    "    \"options\":{\"min_df\": 5, \"max_df\": 0.5, \"vocabulary\":vocabulary},\n",
    "    \"matrix_type\":\"tfidf\",\n",
    "    \"save_path\":None\n",
    "}\n",
    "\n",
    "X, _ = beaver.documents_words(**beaver_matrix_settings)"
   ]
  },
  {
   "cell_type": "code",
   "execution_count": 4,
   "metadata": {},
   "outputs": [
    {
     "data": {
      "text/plain": [
       "(467, 940)"
      ]
     },
     "execution_count": 4,
     "metadata": {},
     "output_type": "execute_result"
    }
   ],
   "source": [
    "# put the samples to columns and features (tokens) to rows\n",
    "X = X.T.tocsr()\n",
    "X.shape"
   ]
  },
  {
   "cell_type": "markdown",
   "metadata": {},
   "source": [
    "# Factorize"
   ]
  },
  {
   "cell_type": "code",
   "execution_count": 5,
   "metadata": {},
   "outputs": [
    {
     "name": "stdout",
     "output_type": "stream",
     "text": [
      "n_perturbs: 12\n",
      "perturb_type: uniform\n",
      "n_iters: 100\n",
      "epsilon: 0.015\n",
      "init: nnsvd\n",
      "save_path: ../../results\n",
      "save_output: True\n",
      "use_gpu: False\n",
      "verbose: True\n",
      "nmf_verbose: False\n",
      "perturb_verbose: False\n",
      "transpose: False\n",
      "collect_output: True\n",
      "sill_thresh: 0.8\n",
      "predict_k: True\n",
      "predict_k_method: W_sill\n",
      "n_jobs: 12\n",
      "n_nodes: 1\n",
      "nmf: <function nmf at 0x1746111c0>\n",
      "nmf_method: nmf_fro_mu\n",
      "nmf_obj_params: {}\n",
      "clustering_obj_params: {}\n",
      "pruned: True\n",
      "calculate_error: True\n",
      "consensus_mat: False\n",
      "use_consensus_stopping: 0\n",
      "mask: None\n",
      "calculate_pac: False\n",
      "simple_plot: True\n",
      "get_plot_data: False\n",
      "perturb_multiprocessing: False\n",
      "k_search_method: bst_pre\n",
      "H_sill_thresh: 0.1\n",
      "factor_thresholding: None\n",
      "factor_thresholding_H_regression: None\n",
      "factor_thresholding_obj_params: {}\n",
      "factor_thresholding_H_regression_obj_params: {}\n",
      "clustering_method: kmeans\n",
      "device: [-1]\n",
      "lock: <unlocked _thread.lock object at 0x1743c8a80>\n",
      "K_search_settings: {'lock': <unlocked _thread.lock object at 0x1743e3f80>, 'k_search_method': 'bst_pre', 'sill_thresh': 0.8, 'H_sill_thresh': 0.1, 'k_min': -1, 'k_max': inf}\n",
      "total_exec_seconds: 0\n",
      "experiment_name: \n",
      "thresholding_function: None\n",
      "nmf_params: {'niter': 100, 'use_gpu': False, 'nmf_verbose': False, 'mask': None, 'use_consensus_stopping': 0}\n"
     ]
    },
    {
     "name": "stderr",
     "output_type": "stream",
     "text": [
      "/Users/maksim/Desktop/Code/telf_internal/TELF/factorization/NMFk.py:855: UserWarning: calculate_error is True! Error calculation can make the runtime longer and take up more memory space!\n",
      "  warnings.warn(\n"
     ]
    }
   ],
   "source": [
    "from TELF.factorization import NMFk\n",
    "\n",
    "params = {\n",
    "    \"n_perturbs\":12,\n",
    "    \"n_iters\":100,\n",
    "    \"epsilon\":0.015, # or (0.015, 0.015) which it does automatically\n",
    "    \"n_jobs\":-1,\n",
    "    \"init\":\"nnsvd\",\n",
    "    \n",
    "    \"use_gpu\":False,\n",
    "    \"verbose\":True,\n",
    "    \"nmf_verbose\":False,\n",
    "    \"perturb_verbose\":False,\n",
    "    \"perturb_multiprocessing\":False,\n",
    "    \"simple_plot\":True,\n",
    "    \"pruned\":True,\n",
    "\n",
    "    \"save_path\":os.path.join(\"..\", \"..\", \"results\"), \n",
    "    \"save_output\":True,\n",
    "    \"collect_output\":True,\n",
    "\n",
    "    \"transpose\":False,\n",
    "    \"calculate_error\":True,\n",
    "    \"predict_k\":True,\n",
    "    \"predict_k_method\":\"W_sill\",\n",
    "    \"sill_thresh\":0.8,\n",
    "    \"H_sill_thresh\":0.1,\n",
    "    \"k_search_method\":\"bst_pre\",\n",
    "\n",
    "    \"use_consensus_stopping\":0,\n",
    "    \"nmf_method\":\"nmf_fro_mu\",\n",
    "    \"perturb_type\":\"uniform\",\n",
    "}\n",
    "\n",
    "Ks = range(1,16,1)\n",
    "name = \"Example_SeaLion\"\n",
    "note = \"This is an example run of WNMFk\"\n",
    "\n",
    "model = NMFk(**params)"
   ]
  },
  {
   "cell_type": "code",
   "execution_count": 6,
   "metadata": {},
   "outputs": [
    {
     "name": "stdout",
     "output_type": "stream",
     "text": [
      "Performing K search with bst_pre. Ks=[8, 4, 2, 1, 3, 6, 5, 7, 12, 10, 9, 11, 14, 13, 15]\n"
     ]
    },
    {
     "name": "stderr",
     "output_type": "stream",
     "text": [
      "  0%|          | 0/15 [00:00<?, ?it/s]/Users/maksim/miniconda3/envs/TELF/lib/python3.11/site-packages/numpy/_core/fromnumeric.py:3596: RuntimeWarning: Mean of empty slice.\n",
      "  return _methods._mean(a, axis=axis, dtype=dtype,\n",
      "/Users/maksim/miniconda3/envs/TELF/lib/python3.11/site-packages/numpy/_core/_methods.py:138: RuntimeWarning: invalid value encountered in scalar divide\n",
      "  ret = ret.dtype.type(ret / rcount)\n",
      "100%|██████████| 15/15 [00:03<00:00,  4.20it/s]\n"
     ]
    }
   ],
   "source": [
    "results = model.fit(X, Ks, name, note)"
   ]
  },
  {
   "cell_type": "code",
   "execution_count": 7,
   "metadata": {},
   "outputs": [
    {
     "data": {
      "text/plain": [
       "dict_keys(['time', 'k_predict', 'W', 'H', 'other_results'])"
      ]
     },
     "execution_count": 7,
     "metadata": {},
     "output_type": "execute_result"
    }
   ],
   "source": [
    "results.keys()"
   ]
  },
  {
   "cell_type": "code",
   "execution_count": 8,
   "metadata": {},
   "outputs": [
    {
     "data": {
      "text/plain": [
       "9"
      ]
     },
     "execution_count": 8,
     "metadata": {},
     "output_type": "execute_result"
    }
   ],
   "source": [
    "results[\"k_predict\"]"
   ]
  },
  {
   "cell_type": "code",
   "execution_count": 9,
   "metadata": {},
   "outputs": [
    {
     "data": {
      "text/plain": [
       "['../../results/Example_SeaLion_12perts_100iters_0.015eps_nnsvd-init']"
      ]
     },
     "execution_count": 9,
     "metadata": {},
     "output_type": "execute_result"
    }
   ],
   "source": [
    "factorization_paths = [model.save_path_full]\n",
    "factorization_paths"
   ]
  },
  {
   "cell_type": "markdown",
   "metadata": {},
   "source": [
    "# Prepare SeaLion Report"
   ]
  },
  {
   "cell_type": "code",
   "execution_count": 16,
   "metadata": {},
   "outputs": [],
   "source": [
    "cols = []\n",
    "for eid in df.eid.tolist():\n",
    "    cols.append(eid[:5])"
   ]
  },
  {
   "cell_type": "code",
   "execution_count": 20,
   "metadata": {},
   "outputs": [
    {
     "name": "stderr",
     "output_type": "stream",
     "text": [
      "/Users/maksim/miniconda3/envs/TELF/lib/python3.11/site-packages/IPython/core/interactiveshell.py:3577: SparseEfficiencyWarning: Comparing a sparse matrix with 0 using == is inefficient, try using != instead.\n",
      "  exec(code_obj, self.user_global_ns, self.user_ns)\n"
     ]
    }
   ],
   "source": [
    "from TELF.post_processing.SeaLion import SeaLion\n",
    "import numpy as np\n",
    "\n",
    "settings = {\n",
    "    \"save_path\":\"SeaLion_post_processing/\",\n",
    "    \"UNKNOWN_MASK\":np.argwhere(X == 0),\n",
    "    \"KNOWN_MASK\":np.argwhere(X != 0),\n",
    "    \"recommend_probabilities\":False,\n",
    "    \"X\":X.toarray(),\n",
    "    \"W\":results[\"W\"],\n",
    "    \"S\":None, # When using TriNMFk, we will have S latent factors\n",
    "    \"H\":results[\"H\"],\n",
    "    \"bu\":None,\n",
    "    \"bi\":None,\n",
    "    \"global_mean\":0,\n",
    "    \"rows\":list(vocabulary),\n",
    "    \"cols\":cols,\n",
    "    \"rows_name\":\"Words\",\n",
    "    \"cols_name\":\"Documents\",\n",
    "    \"num_top_words\":10,\n",
    "    \"num_top_recommendations\":10,\n",
    "    \"factorization_paths\":factorization_paths,\n",
    "    \"verbose\":True\n",
    "}\n",
    "post_processor = SeaLion(**settings)"
   ]
  },
  {
   "cell_type": "code",
   "execution_count": 21,
   "metadata": {},
   "outputs": [
    {
     "name": "stdout",
     "output_type": "stream",
     "text": [
      "Starting general post-processing\n",
      "[Errno 17] File exists: 'SeaLion_post_processing/factorization_results/Example_SeaLion_12perts_100iters_0.015eps_nnsvd-init'\n",
      "Skipping getting S mixing matrix patterns\n",
      "Done\n"
     ]
    }
   ],
   "source": [
    "post_processor()"
   ]
  },
  {
   "cell_type": "code",
   "execution_count": null,
   "metadata": {},
   "outputs": [],
   "source": []
  }
 ],
 "metadata": {
  "kernelspec": {
   "display_name": "TELF",
   "language": "python",
   "name": "python3"
  },
  "language_info": {
   "codemirror_mode": {
    "name": "ipython",
    "version": 3
   },
   "file_extension": ".py",
   "mimetype": "text/x-python",
   "name": "python",
   "nbconvert_exporter": "python",
   "pygments_lexer": "ipython3",
   "version": "3.11.10"
  }
 },
 "nbformat": 4,
 "nbformat_minor": 2
}
