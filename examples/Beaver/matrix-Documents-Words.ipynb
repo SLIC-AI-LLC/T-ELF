{
 "cells": [
  {
   "cell_type": "markdown",
   "id": "4f6b4dd2",
   "metadata": {},
   "source": [
    "# Load Dataset"
   ]
  },
  {
   "cell_type": "code",
   "execution_count": 1,
   "id": "280d65bd",
   "metadata": {},
   "outputs": [
    {
     "name": "stdout",
     "output_type": "stream",
     "text": [
      "<class 'pandas.core.frame.DataFrame'>\n",
      "RangeIndex: 940 entries, 0 to 939\n",
      "Data columns (total 8 columns):\n",
      " #   Column          Non-Null Count  Dtype \n",
      "---  ------          --------------  ----- \n",
      " 0   eid             940 non-null    object\n",
      " 1   title           940 non-null    object\n",
      " 2   year            940 non-null    int64 \n",
      " 3   abstract        940 non-null    object\n",
      " 4   authors         940 non-null    object\n",
      " 5   author_ids      940 non-null    object\n",
      " 6   references      843 non-null    object\n",
      " 7   clean_abstract  940 non-null    object\n",
      "dtypes: int64(1), object(7)\n",
      "memory usage: 58.9+ KB\n"
     ]
    }
   ],
   "source": [
    "import pandas as pd\n",
    "import os \n",
    "df = pd.read_csv(os.path.join(\"..\", \"..\", \"data\", \"sample.csv\"))\n",
    "df.info()"
   ]
  },
  {
   "cell_type": "markdown",
   "id": "07669d4b",
   "metadata": {},
   "source": [
    "# Build Matrix"
   ]
  },
  {
   "cell_type": "code",
   "execution_count": 2,
   "id": "fcb5b592",
   "metadata": {},
   "outputs": [],
   "source": [
    "from TELF.pre_processing import Beaver\n",
    "\n",
    "beaver = Beaver()"
   ]
  },
  {
   "cell_type": "markdown",
   "id": "e8de42da",
   "metadata": {},
   "source": [
    "First let's get our vocabulary from the documents words matrix. **This step is optional!**"
   ]
  },
  {
   "cell_type": "code",
   "execution_count": 3,
   "id": "51e5786f",
   "metadata": {},
   "outputs": [
    {
     "name": "stdout",
     "output_type": "stream",
     "text": [
      "CPU times: user 31.1 ms, sys: 2.51 ms, total: 33.6 ms\n",
      "Wall time: 33.5 ms\n"
     ]
    },
    {
     "data": {
      "text/plain": [
       "467"
      ]
     },
     "execution_count": 3,
     "metadata": {},
     "output_type": "execute_result"
    }
   ],
   "source": [
    "settings = {\n",
    "    \"dataset\":df,\n",
    "    \"target_column\":\"clean_abstract\",\n",
    "    \"min_df\":10,\n",
    "    \"max_df\":0.5,\n",
    "}\n",
    "\n",
    "%time vocabulary = beaver.get_vocabulary(**settings)\n",
    "len(vocabulary)"
   ]
  },
  {
   "cell_type": "code",
   "execution_count": 4,
   "id": "bfff9907",
   "metadata": {},
   "outputs": [
    {
     "name": "stderr",
     "output_type": "stream",
     "text": [
      "/Users/maksim/Desktop/Code/telf_internal/TELF/pre_processing/Beaver/beaver.py:866: UserWarning: Vocabulary was extended with highlighting words!\n",
      "  warnings.warn(\"Vocabulary was extended with highlighting words!\")\n",
      "/Users/maksim/Desktop/Code/telf_internal/TELF/helpers/file_system.py:175: UserWarning: The \"/Users/maksim/Desktop/Code/telf_internal/examples/Beaver/results\" already exists and will be overwritten!\n",
      "  warnings.warn(f'The \"{path}\" already exists and will be overwritten!')\n"
     ]
    }
   ],
   "source": [
    "settings = {\n",
    "    \"dataset\":df,\n",
    "    \"target_column\":\"clean_abstract\",\n",
    "    \"options\":{\"min_df\": 5, \"max_df\": 0.5, \"vocabulary\":vocabulary},\n",
    "    \"matrix_type\":\"tfidf\",\n",
    "    \"highlighting\":['aberration', 'ability', 'ablation', 'ablator', 'able'],\n",
    "    \"weights\":2,\n",
    "    \"save_path\":os.path.join(\".\", \"results\")\n",
    "}\n",
    "\n",
    "X, vocabulary = beaver.documents_words(**settings)"
   ]
  },
  {
   "cell_type": "code",
   "execution_count": 5,
   "metadata": {},
   "outputs": [
    {
     "data": {
      "text/plain": [
       "<Compressed Sparse Row sparse matrix of dtype 'float32'\n",
       "\twith 72655 stored elements and shape (940, 471)>"
      ]
     },
     "execution_count": 5,
     "metadata": {},
     "output_type": "execute_result"
    }
   ],
   "source": [
    "X"
   ]
  },
  {
   "cell_type": "code",
   "execution_count": 6,
   "id": "70dc8b49",
   "metadata": {},
   "outputs": [
    {
     "data": {
      "text/plain": [
       "<Compressed Sparse Row sparse matrix of dtype 'float32'\n",
       "\twith 72655 stored elements and shape (940, 471)>"
      ]
     },
     "execution_count": 6,
     "metadata": {},
     "output_type": "execute_result"
    }
   ],
   "source": [
    "import scipy.sparse as ss\n",
    "\n",
    "# load the saved file which is in Sparse COO format\n",
    "X_csr_sparse = ss.load_npz(os.path.join(\".\", \"results\", \"documents_words.npz\"))\n",
    "X_csr_sparse"
   ]
  },
  {
   "cell_type": "code",
   "execution_count": 7,
   "id": "bb5b8a7c",
   "metadata": {},
   "outputs": [],
   "source": [
    "def chop_chop_rows(X, n=1):\n",
    "    m_rows = X.shape[0]\n",
    "    chunk_size = int(m_rows/n)\n",
    "    chunks = []\n",
    "    \n",
    "    for idx in range(n):\n",
    "        start = idx*chunk_size\n",
    "        if idx == (n-1):\n",
    "            end = m_rows\n",
    "        else:\n",
    "            end = (idx*chunk_size)+chunk_size\n",
    "        chunks.append(X[start:end])\n",
    "        \n",
    "    return chunks"
   ]
  },
  {
   "cell_type": "code",
   "execution_count": 8,
   "id": "151878ab",
   "metadata": {},
   "outputs": [
    {
     "data": {
      "text/plain": [
       "[<Compressed Sparse Row sparse matrix of dtype 'float32'\n",
       " \twith 17870 stored elements and shape (235, 471)>,\n",
       " <Compressed Sparse Row sparse matrix of dtype 'float32'\n",
       " \twith 18784 stored elements and shape (235, 471)>,\n",
       " <Compressed Sparse Row sparse matrix of dtype 'float32'\n",
       " \twith 17738 stored elements and shape (235, 471)>,\n",
       " <Compressed Sparse Row sparse matrix of dtype 'float32'\n",
       " \twith 18263 stored elements and shape (235, 471)>]"
      ]
     },
     "execution_count": 8,
     "metadata": {},
     "output_type": "execute_result"
    }
   ],
   "source": [
    "chop_chop_rows(X_csr_sparse, n=4)"
   ]
  },
  {
   "cell_type": "code",
   "execution_count": null,
   "id": "25f7b4cd",
   "metadata": {},
   "outputs": [],
   "source": []
  }
 ],
 "metadata": {
  "kernelspec": {
   "display_name": "Python 3",
   "language": "python",
   "name": "python3"
  },
  "language_info": {
   "codemirror_mode": {
    "name": "ipython",
    "version": 3
   },
   "file_extension": ".py",
   "mimetype": "text/x-python",
   "name": "python",
   "nbconvert_exporter": "python",
   "pygments_lexer": "ipython3",
   "version": "3.11.10"
  }
 },
 "nbformat": 4,
 "nbformat_minor": 5
}
