{
 "cells": [
  {
   "cell_type": "markdown",
   "id": "4d57e6e4-657d-45e0-9d8e-ff050047f3e0",
   "metadata": {},
   "source": [
    "# Load Dataset"
   ]
  },
  {
   "cell_type": "code",
   "execution_count": 1,
   "id": "7e3ccf65-3f76-4acd-a516-c4f6a9e16982",
   "metadata": {},
   "outputs": [],
   "source": [
    "import pandas as pd\n",
    "import os \n",
    "df = pd.read_csv(os.path.join(\"..\", \"..\", \"data\", \"sample.csv\"))"
   ]
  },
  {
   "cell_type": "code",
   "execution_count": 2,
   "id": "af84282b-848e-4d3c-bd81-e2add24db2b1",
   "metadata": {},
   "outputs": [
    {
     "name": "stdout",
     "output_type": "stream",
     "text": [
      "<class 'pandas.core.frame.DataFrame'>\n",
      "RangeIndex: 940 entries, 0 to 939\n",
      "Data columns (total 8 columns):\n",
      " #   Column          Non-Null Count  Dtype \n",
      "---  ------          --------------  ----- \n",
      " 0   eid             940 non-null    object\n",
      " 1   title           940 non-null    object\n",
      " 2   year            940 non-null    int64 \n",
      " 3   abstract        940 non-null    object\n",
      " 4   authors         940 non-null    object\n",
      " 5   author_ids      940 non-null    object\n",
      " 6   references      843 non-null    object\n",
      " 7   clean_abstract  940 non-null    object\n",
      "dtypes: int64(1), object(7)\n",
      "memory usage: 58.9+ KB\n"
     ]
    }
   ],
   "source": [
    "df.info()"
   ]
  },
  {
   "cell_type": "markdown",
   "id": "b24aa37a-484e-48ea-b335-afc56f5d2f74",
   "metadata": {},
   "source": [
    "# Build Co-author Tensor"
   ]
  },
  {
   "cell_type": "code",
   "execution_count": 3,
   "id": "62b79669-7b50-49c6-8fbc-22c3f25ef7bd",
   "metadata": {},
   "outputs": [],
   "source": [
    "from TELF.pre_processing import Beaver\n",
    "\n",
    "beaver = Beaver()"
   ]
  },
  {
   "cell_type": "code",
   "execution_count": 4,
   "id": "dd074491-6fee-4ccf-b2be-16e02d1ab935",
   "metadata": {},
   "outputs": [
    {
     "name": "stderr",
     "output_type": "stream",
     "text": [
      "[Parallel(n_jobs=12)]: Using backend MultiprocessingBackend with 12 concurrent workers.\n",
      "[Parallel(n_jobs=12)]: Done   2 out of  12 | elapsed:    5.6s remaining:   27.9s\n",
      "[Parallel(n_jobs=12)]: Done  12 out of  12 | elapsed:   29.8s finished\n"
     ]
    },
    {
     "name": "stdout",
     "output_type": "stream",
     "text": [
      "preparing dictionaries for communication\n"
     ]
    },
    {
     "name": "stderr",
     "output_type": "stream",
     "text": [
      "100%|██████████| 12/12 [00:00<00:00, 82.40it/s]\n"
     ]
    },
    {
     "name": "stdout",
     "output_type": "stream",
     "text": [
      "Combining the tensors...\n"
     ]
    },
    {
     "name": "stderr",
     "output_type": "stream",
     "text": [
      "100%|██████████| 454088/454088.0 [00:00<00:00, 2240000.84it/s]\n"
     ]
    }
   ],
   "source": [
    "settings = {\n",
    "    \"dataset\":df,\n",
    "    \"target_columns\":(\"author_ids\", \"year\"),\n",
    "    \"split_authors_with\":\";\",\n",
    "    \"save_path\":None,\n",
    "    \"verbose\":True,\n",
    "    \"n_jobs\":-1,\n",
    "    \"n_nodes\":1\n",
    "}\n",
    "\n",
    "X, author_ids, years = beaver.coauthor_tensor(**settings)"
   ]
  },
  {
   "cell_type": "code",
   "execution_count": 5,
   "id": "bcab5f20-693d-431a-a8df-b7993204f253",
   "metadata": {},
   "outputs": [
    {
     "data": {
      "text/html": [
       "<table><tbody><tr><th style=\"text-align: left\">Format</th><td style=\"text-align: left\">coo</td></tr><tr><th style=\"text-align: left\">Data Type</th><td style=\"text-align: left\">float64</td></tr><tr><th style=\"text-align: left\">Shape</th><td style=\"text-align: left\">(7054, 7054, 29)</td></tr><tr><th style=\"text-align: left\">nnz</th><td style=\"text-align: left\">443948</td></tr><tr><th style=\"text-align: left\">Density</th><td style=\"text-align: left\">0.00030765444577084296</td></tr><tr><th style=\"text-align: left\">Read-only</th><td style=\"text-align: left\">True</td></tr><tr><th style=\"text-align: left\">Size</th><td style=\"text-align: left\">13.5M</td></tr><tr><th style=\"text-align: left\">Storage ratio</th><td style=\"text-align: left\">0.00</td></tr></tbody></table>"
      ],
      "text/plain": [
       "<COO: shape=(7054, 7054, 29), dtype=float64, nnz=443948, fill_value=0.0>"
      ]
     },
     "execution_count": 5,
     "metadata": {},
     "output_type": "execute_result"
    }
   ],
   "source": [
    "X"
   ]
  },
  {
   "cell_type": "code",
   "execution_count": 6,
   "id": "8b3bf451-ed11-4a9f-813d-4c8ab76fbd0a",
   "metadata": {},
   "outputs": [
    {
     "data": {
      "text/plain": [
       "7054"
      ]
     },
     "execution_count": 6,
     "metadata": {},
     "output_type": "execute_result"
    }
   ],
   "source": [
    "len(author_ids)"
   ]
  },
  {
   "cell_type": "code",
   "execution_count": 7,
   "id": "0eebfeee-c5e7-4b02-9820-36654526d8c5",
   "metadata": {},
   "outputs": [
    {
     "data": {
      "text/plain": [
       "['3df61b32-6781-11ee-b983-4ab2673ea3f0',\n",
       " '3df61c18-6781-11ee-b983-4ab2673ea3f0',\n",
       " '3df61c4a-6781-11ee-b983-4ab2673ea3f0',\n",
       " '3df61c72-6781-11ee-b983-4ab2673ea3f0',\n",
       " '3df61c9a-6781-11ee-b983-4ab2673ea3f0',\n",
       " '3df61cc2-6781-11ee-b983-4ab2673ea3f0',\n",
       " '3df61cea-6781-11ee-b983-4ab2673ea3f0',\n",
       " '3df61d1c-6781-11ee-b983-4ab2673ea3f0',\n",
       " '3df61d3a-6781-11ee-b983-4ab2673ea3f0',\n",
       " '3df61d62-6781-11ee-b983-4ab2673ea3f0']"
      ]
     },
     "execution_count": 7,
     "metadata": {},
     "output_type": "execute_result"
    }
   ],
   "source": [
    "author_ids[:10]"
   ]
  },
  {
   "cell_type": "code",
   "execution_count": 8,
   "id": "74b5e0d6-dd1a-4b3e-a0f5-e881a8511345",
   "metadata": {},
   "outputs": [
    {
     "data": {
      "text/plain": [
       "29"
      ]
     },
     "execution_count": 8,
     "metadata": {},
     "output_type": "execute_result"
    }
   ],
   "source": [
    "len(years)"
   ]
  },
  {
   "cell_type": "code",
   "execution_count": 9,
   "id": "5873c0bf-b138-44a3-8225-90a63c2f8d1c",
   "metadata": {},
   "outputs": [
    {
     "data": {
      "text/plain": [
       "[np.int64(1995),\n",
       " np.int64(1996),\n",
       " np.int64(1997),\n",
       " np.int64(1998),\n",
       " np.int64(1999),\n",
       " np.int64(2000),\n",
       " np.int64(2001),\n",
       " np.int64(2002),\n",
       " np.int64(2003),\n",
       " np.int64(2004)]"
      ]
     },
     "execution_count": 9,
     "metadata": {},
     "output_type": "execute_result"
    }
   ],
   "source": [
    "years[:10]"
   ]
  },
  {
   "cell_type": "code",
   "execution_count": null,
   "id": "3b89c946-9780-452d-a379-6da2c884416a",
   "metadata": {},
   "outputs": [],
   "source": []
  }
 ],
 "metadata": {
  "kernelspec": {
   "display_name": "TELF",
   "language": "python",
   "name": "python3"
  },
  "language_info": {
   "codemirror_mode": {
    "name": "ipython",
    "version": 3
   },
   "file_extension": ".py",
   "mimetype": "text/x-python",
   "name": "python",
   "nbconvert_exporter": "python",
   "pygments_lexer": "ipython3",
   "version": "3.11.10"
  }
 },
 "nbformat": 4,
 "nbformat_minor": 5
}
