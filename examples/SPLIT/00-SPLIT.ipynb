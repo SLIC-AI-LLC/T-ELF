{
 "cells": [
  {
   "cell_type": "markdown",
   "id": "1ac9322f-84f3-4a24-8a09-e45ba4e385bc",
   "metadata": {},
   "source": [
    "# Get Data"
   ]
  },
  {
   "cell_type": "code",
   "execution_count": 1,
   "id": "928af081-3c80-4c77-9b1d-9dca31fe62c5",
   "metadata": {},
   "outputs": [
    {
     "name": "stderr",
     "output_type": "stream",
     "text": [
      "/Users/maksim/Desktop/Code/telf_internal/examples/SPLIT/../../scripts/generate_X.py:60: UserWarning: Kruskal's theorem probably won't apply, may not have a unique nCPD.\n",
      "  warnings.warn(\"Kruskal's theorem probably won't apply, may not have a unique nCPD.\")\n"
     ]
    }
   ],
   "source": [
    "import os\n",
    "import sys; sys.path.append(os.path.join(\"..\", \"..\", \"scripts\"))\n",
    "from generate_X import gen_data, gen_data_sparse\n",
    "\n",
    "X1 = gen_data(R=3, shape=[100, 110])[\"X\"]\n",
    "X2 = gen_data(R=4, shape=[100, 120])[\"X\"]\n",
    "X3 = gen_data(R=2, shape=[100, 130])[\"X\"]"
   ]
  },
  {
   "cell_type": "markdown",
   "id": "b4be7566-6749-4868-ba32-df6220fae851",
   "metadata": {},
   "source": [
    "Store data in a dictionary where each has its own name:"
   ]
  },
  {
   "cell_type": "code",
   "execution_count": 2,
   "id": "83b987bb-b4be-43af-a9bf-fd5f95efaba6",
   "metadata": {},
   "outputs": [],
   "source": [
    "Xs = {\n",
    "    \"X1\":X1,\n",
    "    \"X2\":X2,\n",
    "    \"X3\":X3\n",
    "}"
   ]
  },
  {
   "cell_type": "markdown",
   "id": "d168034a-dcc3-446f-9b96-c6fa13603ca4",
   "metadata": {},
   "source": [
    "# Settings"
   ]
  },
  {
   "cell_type": "code",
   "execution_count": 3,
   "id": "822b1115-09cf-4bdb-9344-fb67b3d5e459",
   "metadata": {},
   "outputs": [],
   "source": [
    "params = {\n",
    "    \"n_perturbs\":10,\n",
    "    \"n_iters\":100,\n",
    "    \"epsilon\":0.015,\n",
    "    \"n_jobs\":1,\n",
    "    \"init\":\"nnsvd\",\n",
    "    \"use_gpu\":False,\n",
    "    \"save_output\":True,\n",
    "    \"verbose\":False,\n",
    "    \"transpose\":False,\n",
    "    \"sill_thresh\":0.9,\n",
    "    'nmf_method':'nmf_fro_mu',\n",
    "    \"save_path\":os.path.join(\"..\", \"..\", \"results\"), \n",
    "}"
   ]
  },
  {
   "cell_type": "markdown",
   "id": "bcd80cfa-5b4b-4368-be78-814e2c1b03ae",
   "metadata": {},
   "source": [
    "Each data can have its own NMFk setting. Therefore, we create a dictionary where name is the dataset name from above (Xs), and value is its NMFk parameter settings. Here as an example we set each data points NMFk settings to be same:"
   ]
  },
  {
   "cell_type": "code",
   "execution_count": 4,
   "id": "ce1fe1d6-f48f-46f1-9bd9-2aa2f87fc4cc",
   "metadata": {},
   "outputs": [],
   "source": [
    "nmfk_params = {}\n",
    "for name, _ in Xs.items():\n",
    "    nmfk_params[name] = params"
   ]
  },
  {
   "cell_type": "markdown",
   "id": "a8ab30e3-d978-496a-ba73-bf36c0d4a601",
   "metadata": {},
   "source": [
    "We also select the NMFk parameter settings for the SPLIT step. As an example, we set it to be same NMFk parameter setting with the rest of the data:"
   ]
  },
  {
   "cell_type": "code",
   "execution_count": 5,
   "id": "3825ce85-8020-499d-a10b-a673d400098d",
   "metadata": {},
   "outputs": [],
   "source": [
    "split_nmfk_params = params"
   ]
  },
  {
   "cell_type": "markdown",
   "id": "cefd8ca5-d103-49e3-bfcd-2661403100db",
   "metadata": {},
   "source": [
    "For each data, we select the K ranges to perform search in a dictionary where names are the same data names from above (Xs):"
   ]
  },
  {
   "cell_type": "code",
   "execution_count": 6,
   "id": "512f05c7-9f08-4043-93b3-eccb5541961d",
   "metadata": {},
   "outputs": [],
   "source": [
    "Ks = {\n",
    "    \"X1\":range(1, 9, 1),\n",
    "    \"X2\":range(1, 10, 1),\n",
    "    \"X3\":range(1, 11, 1),\n",
    "}"
   ]
  },
  {
   "cell_type": "markdown",
   "id": "57d00998-87d7-46f4-9dfb-c8cf938b18c5",
   "metadata": {},
   "source": [
    "Finally we put together the SPLIT method's settings:"
   ]
  },
  {
   "cell_type": "code",
   "execution_count": 7,
   "id": "495168fb-7eb9-4d31-95fd-f6f575de87a2",
   "metadata": {},
   "outputs": [],
   "source": [
    "SPLIT_PARAMS = {\n",
    "    # Settings and data as defined above\n",
    "    \"Xs\":Xs,\n",
    "    \"Ks\":Ks,\n",
    "    \"nmfk_params\":nmfk_params,\n",
    "    \"split_nmfk_params\":split_nmfk_params,\n",
    "    # K search step-size when doing split\n",
    "    \"Ks_split_step\":1,\n",
    "    # K search minimum K to look at when doing split\n",
    "    \"Ks_split_min\":1,\n",
    "    # Uses GPU if True when doing regression\n",
    "    \"H_regress_gpu\":False, \n",
    "    # What method to use when constructing the H Learned (can be \"regress\" or \"MitH\")\n",
    "    \"H_learn_method\":\"regress\",\n",
    "    # How many H update iterations if doing regression\n",
    "    \"H_regress_iters\":1000,\n",
    "    # If doing regression for H Learned, which update to use (can be \"fro\", or \"kl\")\n",
    "    \"H_regress_method\":\"fro\",\n",
    "    # How to initilize H Learned when doing regression (can be \"random\" or \"MitH\")\n",
    "    \"H_regress_init\":\"MitH\", \n",
    "    # if True, prints progress of SPLIT method\n",
    "    \"verbose\":True,\n",
    "    # random seed\n",
    "    \"random_state\":42\n",
    "}"
   ]
  },
  {
   "cell_type": "markdown",
   "id": "80e7f059-b0a7-466c-94de-73a105ae2257",
   "metadata": {},
   "source": [
    "# Begin"
   ]
  },
  {
   "cell_type": "code",
   "execution_count": 8,
   "id": "90c60083-26b2-43c8-9d55-43a9dc0a6885",
   "metadata": {},
   "outputs": [
    {
     "name": "stderr",
     "output_type": "stream",
     "text": [
      "/Users/maksim/Desktop/Code/telf_internal/TELF/factorization/NMFk.py:856: UserWarning: calculate_error is True! Error calculation can make the runtime longer and take up more memory space!\n",
      "  warnings.warn(\n"
     ]
    }
   ],
   "source": [
    "from TELF.factorization import SPLIT\n",
    "\n",
    "model = SPLIT(**SPLIT_PARAMS)"
   ]
  },
  {
   "cell_type": "code",
   "execution_count": 9,
   "id": "1a5b862f-15cc-4359-96c8-5b9f76471c64",
   "metadata": {},
   "outputs": [
    {
     "name": "stderr",
     "output_type": "stream",
     "text": [
      "/Users/maksim/miniconda3/envs/TELF/lib/python3.11/site-packages/numpy/_core/fromnumeric.py:3596: RuntimeWarning: Mean of empty slice.\n",
      "  return _methods._mean(a, axis=axis, dtype=dtype,\n",
      "/Users/maksim/miniconda3/envs/TELF/lib/python3.11/site-packages/numpy/_core/_methods.py:138: RuntimeWarning: invalid value encountered in scalar divide\n",
      "  ret = ret.dtype.type(ret / rcount)\n"
     ]
    },
    {
     "name": "stdout",
     "output_type": "stream",
     "text": [
      "Applying NMFk: X1\n",
      "Applying NMFk: X2\n",
      "Applying NMFk: X3\n",
      "Applying SPLIT NMFk\n"
     ]
    },
    {
     "data": {
      "text/plain": [
       "<TELF.factorization.SPLIT.SPLIT at 0x15703ad50>"
      ]
     },
     "execution_count": 9,
     "metadata": {},
     "output_type": "execute_result"
    }
   ],
   "source": [
    "model.fit()"
   ]
  },
  {
   "cell_type": "code",
   "execution_count": 10,
   "id": "630997a7-aa2b-4d0c-9a58-b897e2978b1f",
   "metadata": {},
   "outputs": [
    {
     "name": "stdout",
     "output_type": "stream",
     "text": [
      "Learning H: X1\n",
      "Learning H: X2\n",
      "Learning H: X3\n"
     ]
    }
   ],
   "source": [
    "results = model.transform()"
   ]
  },
  {
   "cell_type": "markdown",
   "id": "b46b043b-3040-459e-bd87-3b1bb3a3b546",
   "metadata": {},
   "source": [
    "# New W and H for each X is returned"
   ]
  },
  {
   "cell_type": "code",
   "execution_count": 11,
   "id": "ef99cf5b-71ec-4db6-b6a5-e947389cd88f",
   "metadata": {},
   "outputs": [
    {
     "data": {
      "text/plain": [
       "dict_keys(['X1', 'X2', 'X3'])"
      ]
     },
     "execution_count": 11,
     "metadata": {},
     "output_type": "execute_result"
    }
   ],
   "source": [
    "results.keys()"
   ]
  },
  {
   "cell_type": "code",
   "execution_count": 12,
   "id": "dd0681df-3e2f-4f9e-863b-4ade150929ed",
   "metadata": {},
   "outputs": [
    {
     "data": {
      "text/plain": [
       "dict_keys(['W', 'H'])"
      ]
     },
     "execution_count": 12,
     "metadata": {},
     "output_type": "execute_result"
    }
   ],
   "source": [
    "results[\"X1\"].keys()"
   ]
  },
  {
   "cell_type": "code",
   "execution_count": 13,
   "id": "f8d0e6e4-d677-4906-9198-82257adce62f",
   "metadata": {},
   "outputs": [
    {
     "name": "stdout",
     "output_type": "stream",
     "text": [
      "W shape= (100, 7)\n",
      "H shape= (7, 110)\n"
     ]
    }
   ],
   "source": [
    "W_X1 = results[\"X1\"][\"W\"]\n",
    "H_X1 = results[\"X1\"][\"H\"]\n",
    "print(\"W shape=\", W_X1.shape)\n",
    "print(\"H shape=\", H_X1.shape)"
   ]
  },
  {
   "cell_type": "code",
   "execution_count": 14,
   "id": "ae2d53a7-6795-43e4-9537-6d30e82d125c",
   "metadata": {},
   "outputs": [
    {
     "name": "stdout",
     "output_type": "stream",
     "text": [
      "W shape= (100, 7)\n",
      "H shape= (7, 120)\n"
     ]
    }
   ],
   "source": [
    "W_X2 = results[\"X2\"][\"W\"]\n",
    "H_X2 = results[\"X2\"][\"H\"]\n",
    "print(\"W shape=\", W_X2.shape)\n",
    "print(\"H shape=\", H_X2.shape)"
   ]
  },
  {
   "cell_type": "code",
   "execution_count": 15,
   "id": "ee15b516-b24b-42db-8a9b-4f10dcd4990e",
   "metadata": {},
   "outputs": [
    {
     "name": "stdout",
     "output_type": "stream",
     "text": [
      "W shape= (100, 7)\n",
      "H shape= (7, 130)\n"
     ]
    }
   ],
   "source": [
    "W_X3 = results[\"X3\"][\"W\"]\n",
    "H_X3 = results[\"X3\"][\"H\"]\n",
    "print(\"W shape=\", W_X3.shape)\n",
    "print(\"H shape=\", H_X3.shape)"
   ]
  },
  {
   "cell_type": "markdown",
   "id": "1eb59b06-6c8a-4670-91fb-8667c981d3e3",
   "metadata": {},
   "source": [
    "# We can access detailed data"
   ]
  },
  {
   "cell_type": "code",
   "execution_count": 16,
   "id": "f60cce52-3c3d-4c37-8de9-0747d6582ae2",
   "metadata": {},
   "outputs": [
    {
     "name": "stdout",
     "output_type": "stream",
     "text": [
      "X1\n",
      "X shape= (100, 110)\n",
      "Ks= range(1, 9)\n",
      "k= 3\n",
      "W shape= (100, 3)\n",
      "H shape= (3, 110)\n",
      "M shape= (7, 3)\n",
      "H Learned shape= (7, 110)\n",
      "-----------------\n",
      "X2\n",
      "X shape= (100, 120)\n",
      "Ks= range(1, 10)\n",
      "k= 4\n",
      "W shape= (100, 4)\n",
      "H shape= (4, 120)\n",
      "M shape= (7, 4)\n",
      "H Learned shape= (7, 120)\n",
      "-----------------\n",
      "X3\n",
      "X shape= (100, 130)\n",
      "Ks= range(1, 11)\n",
      "k= 2\n",
      "W shape= (100, 2)\n",
      "H shape= (2, 130)\n",
      "M shape= (7, 2)\n",
      "H Learned shape= (7, 130)\n",
      "-----------------\n"
     ]
    }
   ],
   "source": [
    "for name, info in model.information.items():\n",
    "    print(name)\n",
    "    print(\"X shape=\", info[\"data\"].shape)\n",
    "    print(\"Ks=\", info[\"Ks\"])\n",
    "    print(\"k=\", info[\"k\"])\n",
    "    print(\"W shape=\", info[\"W\"].shape)\n",
    "    print(\"H shape=\", info[\"H\"].shape)\n",
    "    print(\"M shape=\", info[\"M\"].shape)\n",
    "    print(\"H Learned shape=\", info[\"H_learned\"].shape)\n",
    "   \n",
    "    print(\"-----------------\")"
   ]
  },
  {
   "cell_type": "code",
   "execution_count": 17,
   "id": "924b6718-5edc-4a01-9ca0-298834990ee3",
   "metadata": {},
   "outputs": [
    {
     "name": "stdout",
     "output_type": "stream",
     "text": [
      "SPLIT\n",
      "X shape= (100, 9)\n",
      "Ks= range(1, 8)\n",
      "k 7\n",
      "W shape= (100, 7)\n",
      "H shape= (7, 9)\n"
     ]
    }
   ],
   "source": [
    "print(\"SPLIT\")\n",
    "print(\"X shape=\", model.split_information[\"X\"].shape)\n",
    "print(\"Ks=\", model.split_information[\"Ks\"])\n",
    "print(\"k\", model.split_information[\"k\"])\n",
    "print(\"W shape=\", model.split_information[\"W\"].shape)\n",
    "print(\"H shape=\", model.split_information[\"H\"].shape)"
   ]
  },
  {
   "cell_type": "code",
   "execution_count": null,
   "id": "1ebc217e-b9f7-4cfe-b340-f3ecdd81c0d7",
   "metadata": {},
   "outputs": [],
   "source": []
  }
 ],
 "metadata": {
  "kernelspec": {
   "display_name": "TELF",
   "language": "python",
   "name": "python3"
  },
  "language_info": {
   "codemirror_mode": {
    "name": "ipython",
    "version": 3
   },
   "file_extension": ".py",
   "mimetype": "text/x-python",
   "name": "python",
   "nbconvert_exporter": "python",
   "pygments_lexer": "ipython3",
   "version": "3.11.10"
  }
 },
 "nbformat": 4,
 "nbformat_minor": 5
}
